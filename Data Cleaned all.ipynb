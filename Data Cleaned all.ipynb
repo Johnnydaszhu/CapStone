{
 "cells": [
  {
   "cell_type": "code",
   "execution_count": 2,
   "metadata": {
    "ExecuteTime": {
     "end_time": "2019-11-04T14:38:48.018134Z",
     "start_time": "2019-11-04T14:38:47.117438Z"
    }
   },
   "outputs": [],
   "source": [
    "import pandas as pd\n",
    "import numpy as np\n",
    "#df = pd.read_excel('/Users/jz/前端/nyc/2019-11-2-all.xlsx')"
   ]
  },
  {
   "cell_type": "markdown",
   "metadata": {},
   "source": [
    "### Salary formatting"
   ]
  },
  {
   "cell_type": "code",
   "execution_count": null,
   "metadata": {
    "ExecuteTime": {
     "end_time": "2019-11-03T17:13:22.538570Z",
     "start_time": "2019-11-03T17:13:22.532030Z"
    }
   },
   "outputs": [],
   "source": [
    "df['salary']=df['salary'].fillna(0)"
   ]
  },
  {
   "cell_type": "code",
   "execution_count": null,
   "metadata": {
    "ExecuteTime": {
     "end_time": "2019-11-03T17:13:22.949816Z",
     "start_time": "2019-11-03T17:13:22.937769Z"
    }
   },
   "outputs": [],
   "source": [
    "df['salary'][:10]"
   ]
  },
  {
   "cell_type": "code",
   "execution_count": null,
   "metadata": {
    "ExecuteTime": {
     "end_time": "2019-11-03T17:13:23.472886Z",
     "start_time": "2019-11-03T17:13:23.443321Z"
    }
   },
   "outputs": [],
   "source": [
    "date_type_list = ['a year','a month','a day','an hour','a week']\n",
    "new_salary_list = []\n",
    "sample_list = list(df['salary'])\n",
    "\n",
    "for i in np.arange(0,len(list(df['salary']))):\n",
    "    if sample_list[i] == 0:\n",
    "        new_salary_list.append(np.nan)\n",
    "    elif '-' not in sample_list[i]: \n",
    "        for date_type in date_type_list:         \n",
    "            if date_type in sample_list[i]:\n",
    "                salary_num = float(sample_list[i].rsplit(' a', 1) [0])\n",
    "                if date_type == 'a year':\n",
    "                    salary_num = salary_num\n",
    "                elif date_type == 'a month':\n",
    "                    salary_num = salary_num*12\n",
    "                elif date_type == 'a week':\n",
    "                    salary_num = salary_num*58\n",
    "                elif date_type == 'a day':\n",
    "                    salary_num = salary_num*260\n",
    "                elif date_type == 'an hour':\n",
    "                    salary_num = salary_num*2080\n",
    "                new_salary_list.append(salary_num)\n",
    "            else:\n",
    "                pass        \n",
    "    elif '-' in sample_list[i]:\n",
    "        high = sample_list[i].rsplit('-', 1) [1].rsplit(' a', 1)[0]\n",
    "        low = sample_list[i].rsplit('-', 1) [0]\n",
    "        salary_num = (float(low) + float(high))/2\n",
    "        date = sample_list[i].rsplit('-', 1) [1]\n",
    "        for date_type in date_type_list:         \n",
    "            if date_type in date:\n",
    "                if date_type == 'a year':\n",
    "                    salary_num = salary_num\n",
    "                elif date_type == 'a month':\n",
    "                    salary_num = salary_num*12\n",
    "                elif date_type == 'a week':\n",
    "                    salary_num = salary_num*58\n",
    "                elif date_type == 'a day':\n",
    "                    salary_num = salary_num*260\n",
    "                elif date_type == 'an hour':\n",
    "                    salary_num = salary_num*2080  \n",
    "        new_salary_list.append(salary_num)\n",
    "    else:\n",
    "        pass\n",
    "len(new_salary_list)"
   ]
  },
  {
   "cell_type": "code",
   "execution_count": null,
   "metadata": {
    "ExecuteTime": {
     "end_time": "2019-11-04T04:52:22.733459Z",
     "start_time": "2019-11-04T04:52:22.720751Z"
    }
   },
   "outputs": [],
   "source": [
    "df_salary_cleaned = pd.concat([df, pd.DataFrame(new_salary_list)], axis=1)\n",
    "df_salary_cleaned = df_salary_cleaned.drop(columns=['salary'])\n",
    "df_salary_cleaned.rename(columns={0: \"salary\"}, inplace = True)\n",
    "df_salary_cleaned[:20]"
   ]
  },
  {
   "cell_type": "markdown",
   "metadata": {},
   "source": [
    "### Location Formatting"
   ]
  },
  {
   "cell_type": "code",
   "execution_count": null,
   "metadata": {
    "ExecuteTime": {
     "end_time": "2019-11-03T17:13:25.138909Z",
     "start_time": "2019-11-03T17:13:25.135486Z"
    }
   },
   "outputs": [],
   "source": [
    "f = open(\"/Users/jz/前端/nyc/googleapi.txt\", \"r\")"
   ]
  },
  {
   "cell_type": "code",
   "execution_count": null,
   "metadata": {
    "ExecuteTime": {
     "end_time": "2019-11-03T17:13:25.917909Z",
     "start_time": "2019-11-03T17:13:25.911924Z"
    }
   },
   "outputs": [],
   "source": [
    "Googleapi = f.read().replace('\\n', '')"
   ]
  },
  {
   "cell_type": "code",
   "execution_count": null,
   "metadata": {
    "ExecuteTime": {
     "end_time": "2019-11-03T17:13:26.872495Z",
     "start_time": "2019-11-03T17:13:26.666767Z"
    }
   },
   "outputs": [],
   "source": [
    "import googlemaps\n",
    "\n",
    "gmaps = googlemaps.Client(key=Googleapi)\n",
    "geocode_result = gmaps.geocode('1600 Amphitheatre Parkway, Mountain View, CA')"
   ]
  },
  {
   "cell_type": "code",
   "execution_count": null,
   "metadata": {
    "ExecuteTime": {
     "end_time": "2019-11-03T17:13:27.162365Z",
     "start_time": "2019-11-03T17:13:27.158164Z"
    }
   },
   "outputs": [],
   "source": [
    "def get_geo(location):\n",
    "    geocode_result = gmaps.geocode(location)\n",
    "    geo = geocode_result[0]['geometry']['location']['lat'], geocode_result[0]['geometry']['location']['lng']\n",
    "    return geo"
   ]
  },
  {
   "cell_type": "code",
   "execution_count": null,
   "metadata": {
    "ExecuteTime": {
     "end_time": "2019-11-03T17:13:27.796608Z",
     "start_time": "2019-11-03T17:13:27.790733Z"
    }
   },
   "outputs": [],
   "source": [
    "geocode_result[0]['geometry']['location']['lat'], geocode_result[0]['geometry']['location']['lng']"
   ]
  },
  {
   "cell_type": "code",
   "execution_count": null,
   "metadata": {
    "ExecuteTime": {
     "end_time": "2019-11-03T17:13:32.237022Z",
     "start_time": "2019-11-03T17:13:32.230199Z"
    }
   },
   "outputs": [],
   "source": [
    "df_salary_cleaned['location'] = df_salary_cleaned['location'].fillna(0)"
   ]
  },
  {
   "cell_type": "code",
   "execution_count": null,
   "metadata": {
    "ExecuteTime": {
     "end_time": "2019-11-03T20:34:21.141639Z",
     "start_time": "2019-11-03T17:15:56.885222Z"
    }
   },
   "outputs": [],
   "source": [
    "import time\n",
    "loc = []\n",
    "for i in np.arange(0,17799):\n",
    "    if df_salary_cleaned['location'][i] == 0:\n",
    "        try:\n",
    "            time.sleep(0.3)\n",
    "            loc.append(get_geo(df_salary_cleaned['company'][i])) \n",
    "        except:\n",
    "            loc.append(np.nan)\n",
    "    elif:\n",
    "        df_salary_cleaned['location'][i] == 'United States':\n",
    "            loc.append(np.nan)\n",
    "    else:\n",
    "        try:\n",
    "            time.sleep(0.3)\n",
    "            loc.append(get_geo(df_salary_cleaned['company'][i])) \n",
    "        except:\n",
    "            loc.append(np.nan)"
   ]
  },
  {
   "cell_type": "code",
   "execution_count": null,
   "metadata": {
    "ExecuteTime": {
     "end_time": "2019-11-03T20:41:11.674404Z",
     "start_time": "2019-11-03T20:41:11.669100Z"
    }
   },
   "outputs": [],
   "source": [
    "loc[:10]"
   ]
  },
  {
   "cell_type": "code",
   "execution_count": null,
   "metadata": {
    "ExecuteTime": {
     "end_time": "2019-11-03T20:41:14.162227Z",
     "start_time": "2019-11-03T20:41:14.149460Z"
    }
   },
   "outputs": [],
   "source": [
    "df_loc = pd.DataFrame(pd.Series(loc,name='loc'))"
   ]
  },
  {
   "cell_type": "code",
   "execution_count": null,
   "metadata": {
    "ExecuteTime": {
     "end_time": "2019-11-04T01:13:29.689167Z",
     "start_time": "2019-11-04T01:13:29.678376Z"
    }
   },
   "outputs": [],
   "source": [
    "df_geo_cleaned = pd.concat([df_salary_cleaned, df_loc], axis=1)"
   ]
  },
  {
   "cell_type": "code",
   "execution_count": null,
   "metadata": {
    "ExecuteTime": {
     "end_time": "2019-11-04T00:32:35.913621Z",
     "start_time": "2019-11-04T00:32:35.910937Z"
    }
   },
   "outputs": [],
   "source": [
    "#df_geo_cleaned.to_csv('df_geo_cleaned.csv')"
   ]
  },
  {
   "cell_type": "code",
   "execution_count": null,
   "metadata": {
    "ExecuteTime": {
     "end_time": "2019-11-04T03:03:22.981497Z",
     "start_time": "2019-11-04T03:03:22.934263Z"
    }
   },
   "outputs": [],
   "source": [
    "df_all= pd.read_csv('df_all.csv' ,index_col=[0])"
   ]
  },
  {
   "cell_type": "code",
   "execution_count": null,
   "metadata": {
    "ExecuteTime": {
     "end_time": "2019-11-04T04:53:02.693129Z",
     "start_time": "2019-11-04T04:53:02.659840Z"
    }
   },
   "outputs": [],
   "source": [
    "df_all[:100]"
   ]
  },
  {
   "cell_type": "code",
   "execution_count": null,
   "metadata": {
    "ExecuteTime": {
     "end_time": "2019-11-04T03:05:07.798164Z",
     "start_time": "2019-11-04T03:05:06.921776Z"
    }
   },
   "outputs": [],
   "source": [
    "df_noskill = df_all.drop(['skills'], axis=1)\n",
    "df_skill = df_all['skills'].str.get_dummies(sep=',')\n",
    "df_skill_rank = df_skill.sum().to_frame(name='count').sort_values(by=['count'], ascending=False)[:50]\n",
    "df_skill_rank.sort_values(by=['count'], ascending=True).plot.barh(figsize=(20,20))"
   ]
  },
  {
   "cell_type": "code",
   "execution_count": null,
   "metadata": {
    "ExecuteTime": {
     "end_time": "2019-11-04T03:05:10.293925Z",
     "start_time": "2019-11-04T03:05:10.276374Z"
    }
   },
   "outputs": [],
   "source": [
    "df_noskill"
   ]
  },
  {
   "cell_type": "code",
   "execution_count": null,
   "metadata": {
    "ExecuteTime": {
     "end_time": "2019-11-04T03:04:25.183264Z",
     "start_time": "2019-11-04T03:04:25.176403Z"
    }
   },
   "outputs": [],
   "source": [
    "df_update_all = pd.concat([df_noskill, df_skill], axis=1)"
   ]
  },
  {
   "cell_type": "code",
   "execution_count": null,
   "metadata": {
    "ExecuteTime": {
     "end_time": "2019-11-04T03:07:21.138149Z",
     "start_time": "2019-11-04T03:07:21.112357Z"
    }
   },
   "outputs": [],
   "source": [
    "df_update_all.head()"
   ]
  },
  {
   "cell_type": "code",
   "execution_count": null,
   "metadata": {
    "ExecuteTime": {
     "end_time": "2019-11-04T03:08:22.442523Z",
     "start_time": "2019-11-04T03:08:22.439881Z"
    }
   },
   "outputs": [],
   "source": [
    "#df_update_all.to_csv('df_update_all.csv')"
   ]
  },
  {
   "cell_type": "code",
   "execution_count": null,
   "metadata": {
    "ExecuteTime": {
     "end_time": "2019-11-04T03:11:18.755451Z",
     "start_time": "2019-11-04T03:11:18.642838Z"
    }
   },
   "outputs": [],
   "source": [
    "df_update_all= pd.read_csv('df_update_all.csv')"
   ]
  },
  {
   "cell_type": "code",
   "execution_count": null,
   "metadata": {
    "ExecuteTime": {
     "end_time": "2019-11-04T03:12:45.153036Z",
     "start_time": "2019-11-04T03:12:45.130590Z"
    }
   },
   "outputs": [],
   "source": [
    "df_update_all_num = df_update_all.drop(columns=['job_title','company','location'])"
   ]
  },
  {
   "cell_type": "code",
   "execution_count": null,
   "metadata": {
    "ExecuteTime": {
     "end_time": "2019-11-04T03:44:51.010508Z",
     "start_time": "2019-11-04T03:44:51.002420Z"
    }
   },
   "outputs": [],
   "source": [
    "df_update_all_num = df_update_all_num.dropna(subset=['salary'])"
   ]
  },
  {
   "cell_type": "code",
   "execution_count": null,
   "metadata": {
    "ExecuteTime": {
     "end_time": "2019-11-04T03:44:52.325270Z",
     "start_time": "2019-11-04T03:44:52.262651Z"
    }
   },
   "outputs": [],
   "source": [
    "#df_update_all_num.to_csv('df_update_all_num.csv')"
   ]
  },
  {
   "cell_type": "code",
   "execution_count": null,
   "metadata": {},
   "outputs": [],
   "source": []
  }
 ],
 "metadata": {
  "kernelspec": {
   "display_name": "Python 3",
   "language": "python",
   "name": "python3"
  },
  "language_info": {
   "codemirror_mode": {
    "name": "ipython",
    "version": 3
   },
   "file_extension": ".py",
   "mimetype": "text/x-python",
   "name": "python",
   "nbconvert_exporter": "python",
   "pygments_lexer": "ipython3",
   "version": "3.7.3"
  }
 },
 "nbformat": 4,
 "nbformat_minor": 2
}
