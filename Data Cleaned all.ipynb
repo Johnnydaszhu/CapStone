{
 "cells": [
  {
   "cell_type": "code",
   "execution_count": 2,
   "metadata": {
    "ExecuteTime": {
     "end_time": "2019-11-04T02:55:53.388845Z",
     "start_time": "2019-11-04T02:55:50.750534Z"
    }
   },
   "outputs": [],
   "source": [
    "import pandas as pd\n",
    "import numpy as np\n",
    "df = pd.read_excel('/Users/jz/前端/nyc/2019-11-2-all.xlsx')"
   ]
  },
  {
   "cell_type": "markdown",
   "metadata": {},
   "source": [
    "### Salary formatting"
   ]
  },
  {
   "cell_type": "code",
   "execution_count": 2,
   "metadata": {
    "ExecuteTime": {
     "end_time": "2019-11-03T17:13:22.538570Z",
     "start_time": "2019-11-03T17:13:22.532030Z"
    }
   },
   "outputs": [],
   "source": [
    "df['salary']=df['salary'].fillna(0)"
   ]
  },
  {
   "cell_type": "code",
   "execution_count": 3,
   "metadata": {
    "ExecuteTime": {
     "end_time": "2019-11-03T17:13:22.949816Z",
     "start_time": "2019-11-03T17:13:22.937769Z"
    }
   },
   "outputs": [
    {
     "data": {
      "text/plain": [
       "0                       0\n",
       "1                       0\n",
       "2                       0\n",
       "3                       0\n",
       "4                       0\n",
       "5                       0\n",
       "6            63473 a year\n",
       "7                       0\n",
       "8    76859 - 99921 a year\n",
       "9                       0\n",
       "Name: salary, dtype: object"
      ]
     },
     "execution_count": 3,
     "metadata": {},
     "output_type": "execute_result"
    }
   ],
   "source": [
    "df['salary'][:10]"
   ]
  },
  {
   "cell_type": "code",
   "execution_count": 4,
   "metadata": {
    "ExecuteTime": {
     "end_time": "2019-11-03T17:13:23.472886Z",
     "start_time": "2019-11-03T17:13:23.443321Z"
    }
   },
   "outputs": [
    {
     "data": {
      "text/plain": [
       "17799"
      ]
     },
     "execution_count": 4,
     "metadata": {},
     "output_type": "execute_result"
    }
   ],
   "source": [
    "date_type_list = ['a year','a month','a day','an hour','a week']\n",
    "new_salary_list = []\n",
    "sample_list = list(df['salary'])\n",
    "\n",
    "for i in np.arange(0,len(list(df['salary']))):\n",
    "    if sample_list[i] == 0:\n",
    "        new_salary_list.append(np.nan)\n",
    "    elif '-' not in sample_list[i]: \n",
    "        for date_type in date_type_list:         \n",
    "            if date_type in sample_list[i]:\n",
    "                salary_num = float(sample_list[i].rsplit(' a', 1) [0])\n",
    "                if date_type == 'a year':\n",
    "                    salary_num = salary_num\n",
    "                elif date_type == 'a month':\n",
    "                    salary_num = salary_num*12\n",
    "                elif date_type == 'a week':\n",
    "                    salary_num = salary_num*58\n",
    "                elif date_type == 'a day':\n",
    "                    salary_num = salary_num*260\n",
    "                elif date_type == 'an hour':\n",
    "                    salary_num = salary_num*2080\n",
    "                new_salary_list.append(salary_num)\n",
    "            else:\n",
    "                pass        \n",
    "    elif '-' in sample_list[i]:\n",
    "        high = sample_list[i].rsplit('-', 1) [1].rsplit(' a', 1)[0]\n",
    "        low = sample_list[i].rsplit('-', 1) [0]\n",
    "        salary_num = (float(low) + float(high))/2\n",
    "        date = sample_list[i].rsplit('-', 1) [1]\n",
    "        for date_type in date_type_list:         \n",
    "            if date_type in date:\n",
    "                if date_type == 'a year':\n",
    "                    salary_num = salary_num\n",
    "                elif date_type == 'a month':\n",
    "                    salary_num = salary_num*12\n",
    "                elif date_type == 'a week':\n",
    "                    salary_num = salary_num*58\n",
    "                elif date_type == 'a day':\n",
    "                    salary_num = salary_num*260\n",
    "                elif date_type == 'an hour':\n",
    "                    salary_num = salary_num*2080  \n",
    "        new_salary_list.append(salary_num)\n",
    "    else:\n",
    "        pass\n",
    "len(new_salary_list)"
   ]
  },
  {
   "cell_type": "code",
   "execution_count": 152,
   "metadata": {
    "ExecuteTime": {
     "end_time": "2019-11-04T04:52:22.733459Z",
     "start_time": "2019-11-04T04:52:22.720751Z"
    }
   },
   "outputs": [
    {
     "ename": "NameError",
     "evalue": "name 'new_salary_list' is not defined",
     "output_type": "error",
     "traceback": [
      "\u001b[0;31m---------------------------------------------------------------------------\u001b[0m",
      "\u001b[0;31mNameError\u001b[0m                                 Traceback (most recent call last)",
      "\u001b[0;32m<ipython-input-152-67c0fbe46815>\u001b[0m in \u001b[0;36m<module>\u001b[0;34m\u001b[0m\n\u001b[0;32m----> 1\u001b[0;31m \u001b[0mdf_salary_cleaned\u001b[0m \u001b[0;34m=\u001b[0m \u001b[0mpd\u001b[0m\u001b[0;34m.\u001b[0m\u001b[0mconcat\u001b[0m\u001b[0;34m(\u001b[0m\u001b[0;34m[\u001b[0m\u001b[0mdf\u001b[0m\u001b[0;34m,\u001b[0m \u001b[0mpd\u001b[0m\u001b[0;34m.\u001b[0m\u001b[0mDataFrame\u001b[0m\u001b[0;34m(\u001b[0m\u001b[0mnew_salary_list\u001b[0m\u001b[0;34m)\u001b[0m\u001b[0;34m]\u001b[0m\u001b[0;34m,\u001b[0m \u001b[0maxis\u001b[0m\u001b[0;34m=\u001b[0m\u001b[0;36m1\u001b[0m\u001b[0;34m)\u001b[0m\u001b[0;34m\u001b[0m\u001b[0;34m\u001b[0m\u001b[0m\n\u001b[0m\u001b[1;32m      2\u001b[0m \u001b[0mdf_salary_cleaned\u001b[0m \u001b[0;34m=\u001b[0m \u001b[0mdf_salary_cleaned\u001b[0m\u001b[0;34m.\u001b[0m\u001b[0mdrop\u001b[0m\u001b[0;34m(\u001b[0m\u001b[0mcolumns\u001b[0m\u001b[0;34m=\u001b[0m\u001b[0;34m[\u001b[0m\u001b[0;34m'salary'\u001b[0m\u001b[0;34m]\u001b[0m\u001b[0;34m)\u001b[0m\u001b[0;34m\u001b[0m\u001b[0;34m\u001b[0m\u001b[0m\n\u001b[1;32m      3\u001b[0m \u001b[0mdf_salary_cleaned\u001b[0m\u001b[0;34m.\u001b[0m\u001b[0mrename\u001b[0m\u001b[0;34m(\u001b[0m\u001b[0mcolumns\u001b[0m\u001b[0;34m=\u001b[0m\u001b[0;34m{\u001b[0m\u001b[0;36m0\u001b[0m\u001b[0;34m:\u001b[0m \u001b[0;34m\"salary\"\u001b[0m\u001b[0;34m}\u001b[0m\u001b[0;34m,\u001b[0m \u001b[0minplace\u001b[0m \u001b[0;34m=\u001b[0m \u001b[0;32mTrue\u001b[0m\u001b[0;34m)\u001b[0m\u001b[0;34m\u001b[0m\u001b[0;34m\u001b[0m\u001b[0m\n\u001b[1;32m      4\u001b[0m \u001b[0mdf_salary_cleaned\u001b[0m\u001b[0;34m[\u001b[0m\u001b[0;34m:\u001b[0m\u001b[0;36m20\u001b[0m\u001b[0;34m]\u001b[0m\u001b[0;34m\u001b[0m\u001b[0;34m\u001b[0m\u001b[0m\n",
      "\u001b[0;31mNameError\u001b[0m: name 'new_salary_list' is not defined"
     ]
    }
   ],
   "source": [
    "df_salary_cleaned = pd.concat([df, pd.DataFrame(new_salary_list)], axis=1)\n",
    "df_salary_cleaned = df_salary_cleaned.drop(columns=['salary'])\n",
    "df_salary_cleaned.rename(columns={0: \"salary\"}, inplace = True)\n",
    "df_salary_cleaned[:20]"
   ]
  },
  {
   "cell_type": "markdown",
   "metadata": {},
   "source": [
    "### Location Formatting"
   ]
  },
  {
   "cell_type": "code",
   "execution_count": 6,
   "metadata": {
    "ExecuteTime": {
     "end_time": "2019-11-03T17:13:25.138909Z",
     "start_time": "2019-11-03T17:13:25.135486Z"
    }
   },
   "outputs": [],
   "source": [
    "f = open(\"/Users/jz/前端/nyc/googleapi.txt\", \"r\")"
   ]
  },
  {
   "cell_type": "code",
   "execution_count": 7,
   "metadata": {
    "ExecuteTime": {
     "end_time": "2019-11-03T17:13:25.917909Z",
     "start_time": "2019-11-03T17:13:25.911924Z"
    }
   },
   "outputs": [],
   "source": [
    "Googleapi = f.read().replace('\\n', '')"
   ]
  },
  {
   "cell_type": "code",
   "execution_count": 8,
   "metadata": {
    "ExecuteTime": {
     "end_time": "2019-11-03T17:13:26.872495Z",
     "start_time": "2019-11-03T17:13:26.666767Z"
    }
   },
   "outputs": [],
   "source": [
    "import googlemaps\n",
    "\n",
    "gmaps = googlemaps.Client(key=Googleapi)\n",
    "geocode_result = gmaps.geocode('1600 Amphitheatre Parkway, Mountain View, CA')"
   ]
  },
  {
   "cell_type": "code",
   "execution_count": 9,
   "metadata": {
    "ExecuteTime": {
     "end_time": "2019-11-03T17:13:27.162365Z",
     "start_time": "2019-11-03T17:13:27.158164Z"
    }
   },
   "outputs": [],
   "source": [
    "def get_geo(location):\n",
    "    geocode_result = gmaps.geocode(location)\n",
    "    geo = geocode_result[0]['geometry']['location']['lat'], geocode_result[0]['geometry']['location']['lng']\n",
    "    return geo"
   ]
  },
  {
   "cell_type": "code",
   "execution_count": 10,
   "metadata": {
    "ExecuteTime": {
     "end_time": "2019-11-03T17:13:27.796608Z",
     "start_time": "2019-11-03T17:13:27.790733Z"
    }
   },
   "outputs": [
    {
     "data": {
      "text/plain": [
       "(37.4216124, -122.083792)"
      ]
     },
     "execution_count": 10,
     "metadata": {},
     "output_type": "execute_result"
    }
   ],
   "source": [
    "geocode_result[0]['geometry']['location']['lat'], geocode_result[0]['geometry']['location']['lng']"
   ]
  },
  {
   "cell_type": "code",
   "execution_count": 12,
   "metadata": {
    "ExecuteTime": {
     "end_time": "2019-11-03T17:13:32.237022Z",
     "start_time": "2019-11-03T17:13:32.230199Z"
    }
   },
   "outputs": [],
   "source": [
    "df_salary_cleaned['location'] = df_salary_cleaned['location'].fillna(0)"
   ]
  },
  {
   "cell_type": "code",
   "execution_count": 16,
   "metadata": {
    "ExecuteTime": {
     "end_time": "2019-11-03T20:34:21.141639Z",
     "start_time": "2019-11-03T17:15:56.885222Z"
    }
   },
   "outputs": [],
   "source": [
    "import time\n",
    "loc = []\n",
    "for i in np.arange(0,17799):\n",
    "    if df_salary_cleaned['location'][i] == 0:\n",
    "        try:\n",
    "            time.sleep(0.3)\n",
    "            loc.append(get_geo(df_salary_cleaned['company'][i])) \n",
    "        except:\n",
    "            loc.append(np.nan)\n",
    "    elif:\n",
    "        df_salary_cleaned['location'][i] == 'United States':\n",
    "            loc.append(np.nan)\n",
    "    else:\n",
    "        try:\n",
    "            time.sleep(0.3)\n",
    "            loc.append(get_geo(df_salary_cleaned['company'][i])) \n",
    "        except:\n",
    "            loc.append(np.nan)"
   ]
  },
  {
   "cell_type": "code",
   "execution_count": 19,
   "metadata": {
    "ExecuteTime": {
     "end_time": "2019-11-03T20:41:11.674404Z",
     "start_time": "2019-11-03T20:41:11.669100Z"
    }
   },
   "outputs": [
    {
     "data": {
      "text/plain": [
       "[(33.5123288, -86.8036185),\n",
       " (33.5123288, -86.8036185),\n",
       " (40.6496878, -74.3992284),\n",
       " (32.376105, -86.30327849999999),\n",
       " (32.9026232, -80.0210655),\n",
       " (31.58127009999999, -97.1717752),\n",
       " (33.2098407, -87.56917349999999),\n",
       " (34.6774505, -86.5779171),\n",
       " (34.6645843, -98.4156381),\n",
       " (37.0918096, -76.46707889999999)]"
      ]
     },
     "execution_count": 19,
     "metadata": {},
     "output_type": "execute_result"
    }
   ],
   "source": [
    "loc[:10]"
   ]
  },
  {
   "cell_type": "code",
   "execution_count": 20,
   "metadata": {
    "ExecuteTime": {
     "end_time": "2019-11-03T20:41:14.162227Z",
     "start_time": "2019-11-03T20:41:14.149460Z"
    }
   },
   "outputs": [],
   "source": [
    "df_loc = pd.DataFrame(pd.Series(loc,name='loc'))"
   ]
  },
  {
   "cell_type": "code",
   "execution_count": 77,
   "metadata": {
    "ExecuteTime": {
     "end_time": "2019-11-04T01:13:29.689167Z",
     "start_time": "2019-11-04T01:13:29.678376Z"
    }
   },
   "outputs": [],
   "source": [
    "df_geo_cleaned = pd.concat([df_salary_cleaned, df_loc], axis=1)"
   ]
  },
  {
   "cell_type": "code",
   "execution_count": 27,
   "metadata": {
    "ExecuteTime": {
     "end_time": "2019-11-04T00:32:35.913621Z",
     "start_time": "2019-11-04T00:32:35.910937Z"
    }
   },
   "outputs": [],
   "source": [
    "#df_geo_cleaned.to_csv('df_geo_cleaned.csv')"
   ]
  },
  {
   "cell_type": "code",
   "execution_count": 21,
   "metadata": {
    "ExecuteTime": {
     "end_time": "2019-11-04T03:03:22.981497Z",
     "start_time": "2019-11-04T03:03:22.934263Z"
    }
   },
   "outputs": [],
   "source": [
    "df_all= pd.read_csv('df_all.csv' ,index_col=[0])"
   ]
  },
  {
   "cell_type": "code",
   "execution_count": 153,
   "metadata": {
    "ExecuteTime": {
     "end_time": "2019-11-04T04:53:02.693129Z",
     "start_time": "2019-11-04T04:53:02.659840Z"
    }
   },
   "outputs": [
    {
     "data": {
      "text/html": [
       "<div>\n",
       "<style scoped>\n",
       "    .dataframe tbody tr th:only-of-type {\n",
       "        vertical-align: middle;\n",
       "    }\n",
       "\n",
       "    .dataframe tbody tr th {\n",
       "        vertical-align: top;\n",
       "    }\n",
       "\n",
       "    .dataframe thead th {\n",
       "        text-align: right;\n",
       "    }\n",
       "</style>\n",
       "<table border=\"1\" class=\"dataframe\">\n",
       "  <thead>\n",
       "    <tr style=\"text-align: right;\">\n",
       "      <th></th>\n",
       "      <th>rating</th>\n",
       "      <th>job_title</th>\n",
       "      <th>company</th>\n",
       "      <th>location</th>\n",
       "      <th>salary</th>\n",
       "      <th>lat</th>\n",
       "      <th>lng</th>\n",
       "      <th>AI</th>\n",
       "      <th>AWS</th>\n",
       "      <th>Azure</th>\n",
       "      <th>...</th>\n",
       "      <th>Pig</th>\n",
       "      <th>Python</th>\n",
       "      <th>R</th>\n",
       "      <th>SAS</th>\n",
       "      <th>SQL</th>\n",
       "      <th>Scala</th>\n",
       "      <th>Scripting</th>\n",
       "      <th>Spark</th>\n",
       "      <th>Tableau</th>\n",
       "      <th>TensorFlow</th>\n",
       "    </tr>\n",
       "  </thead>\n",
       "  <tbody>\n",
       "    <tr>\n",
       "      <th>0</th>\n",
       "      <td>NaN</td>\n",
       "      <td>OPERATIONS ANALYST</td>\n",
       "      <td>Compass Bank dba BBVA Compass</td>\n",
       "      <td>Birmingham, AL</td>\n",
       "      <td>NaN</td>\n",
       "      <td>33.5123288,</td>\n",
       "      <td>-86.803618</td>\n",
       "      <td>0</td>\n",
       "      <td>0</td>\n",
       "      <td>0</td>\n",
       "      <td>...</td>\n",
       "      <td>0</td>\n",
       "      <td>0</td>\n",
       "      <td>1</td>\n",
       "      <td>0</td>\n",
       "      <td>0</td>\n",
       "      <td>0</td>\n",
       "      <td>0</td>\n",
       "      <td>0</td>\n",
       "      <td>0</td>\n",
       "      <td>0</td>\n",
       "    </tr>\n",
       "    <tr>\n",
       "      <th>1</th>\n",
       "      <td>NaN</td>\n",
       "      <td>Jr Business Intelligence Analyst</td>\n",
       "      <td>Compass Bank dba BBVA Compass</td>\n",
       "      <td>Birmingham, AL</td>\n",
       "      <td>NaN</td>\n",
       "      <td>33.5123288,</td>\n",
       "      <td>-86.803618</td>\n",
       "      <td>0</td>\n",
       "      <td>0</td>\n",
       "      <td>0</td>\n",
       "      <td>...</td>\n",
       "      <td>0</td>\n",
       "      <td>0</td>\n",
       "      <td>1</td>\n",
       "      <td>0</td>\n",
       "      <td>0</td>\n",
       "      <td>0</td>\n",
       "      <td>0</td>\n",
       "      <td>0</td>\n",
       "      <td>0</td>\n",
       "      <td>0</td>\n",
       "    </tr>\n",
       "    <tr>\n",
       "      <th>2</th>\n",
       "      <td>NaN</td>\n",
       "      <td>Data Analyst</td>\n",
       "      <td>HyreU</td>\n",
       "      <td>Alabama</td>\n",
       "      <td>NaN</td>\n",
       "      <td>40.6496878,</td>\n",
       "      <td>-74.399228</td>\n",
       "      <td>0</td>\n",
       "      <td>0</td>\n",
       "      <td>0</td>\n",
       "      <td>...</td>\n",
       "      <td>0</td>\n",
       "      <td>0</td>\n",
       "      <td>1</td>\n",
       "      <td>0</td>\n",
       "      <td>0</td>\n",
       "      <td>0</td>\n",
       "      <td>0</td>\n",
       "      <td>0</td>\n",
       "      <td>0</td>\n",
       "      <td>0</td>\n",
       "    </tr>\n",
       "    <tr>\n",
       "      <th>3</th>\n",
       "      <td>NaN</td>\n",
       "      <td>Junior Data Analyst</td>\n",
       "      <td>Southern Poverty Law Center</td>\n",
       "      <td>0</td>\n",
       "      <td>NaN</td>\n",
       "      <td>32.376105,</td>\n",
       "      <td>-86.303279</td>\n",
       "      <td>0</td>\n",
       "      <td>0</td>\n",
       "      <td>0</td>\n",
       "      <td>...</td>\n",
       "      <td>0</td>\n",
       "      <td>0</td>\n",
       "      <td>0</td>\n",
       "      <td>0</td>\n",
       "      <td>1</td>\n",
       "      <td>0</td>\n",
       "      <td>0</td>\n",
       "      <td>0</td>\n",
       "      <td>1</td>\n",
       "      <td>0</td>\n",
       "    </tr>\n",
       "    <tr>\n",
       "      <th>4</th>\n",
       "      <td>NaN</td>\n",
       "      <td>Data Analyst</td>\n",
       "      <td>KBRWyle</td>\n",
       "      <td>0</td>\n",
       "      <td>NaN</td>\n",
       "      <td>32.9026232,</td>\n",
       "      <td>-80.021066</td>\n",
       "      <td>0</td>\n",
       "      <td>0</td>\n",
       "      <td>0</td>\n",
       "      <td>...</td>\n",
       "      <td>0</td>\n",
       "      <td>0</td>\n",
       "      <td>1</td>\n",
       "      <td>0</td>\n",
       "      <td>0</td>\n",
       "      <td>0</td>\n",
       "      <td>0</td>\n",
       "      <td>0</td>\n",
       "      <td>0</td>\n",
       "      <td>0</td>\n",
       "    </tr>\n",
       "    <tr>\n",
       "      <th>...</th>\n",
       "      <td>...</td>\n",
       "      <td>...</td>\n",
       "      <td>...</td>\n",
       "      <td>...</td>\n",
       "      <td>...</td>\n",
       "      <td>...</td>\n",
       "      <td>...</td>\n",
       "      <td>...</td>\n",
       "      <td>...</td>\n",
       "      <td>...</td>\n",
       "      <td>...</td>\n",
       "      <td>...</td>\n",
       "      <td>...</td>\n",
       "      <td>...</td>\n",
       "      <td>...</td>\n",
       "      <td>...</td>\n",
       "      <td>...</td>\n",
       "      <td>...</td>\n",
       "      <td>...</td>\n",
       "      <td>...</td>\n",
       "      <td>...</td>\n",
       "    </tr>\n",
       "    <tr>\n",
       "      <th>95</th>\n",
       "      <td>NaN</td>\n",
       "      <td>Business Analyst-ERP Systems</td>\n",
       "      <td>Southeast Health</td>\n",
       "      <td>0</td>\n",
       "      <td>NaN</td>\n",
       "      <td>31.2159629,</td>\n",
       "      <td>-85.366081</td>\n",
       "      <td>0</td>\n",
       "      <td>0</td>\n",
       "      <td>0</td>\n",
       "      <td>...</td>\n",
       "      <td>0</td>\n",
       "      <td>0</td>\n",
       "      <td>1</td>\n",
       "      <td>0</td>\n",
       "      <td>0</td>\n",
       "      <td>0</td>\n",
       "      <td>0</td>\n",
       "      <td>0</td>\n",
       "      <td>0</td>\n",
       "      <td>0</td>\n",
       "    </tr>\n",
       "    <tr>\n",
       "      <th>96</th>\n",
       "      <td>NaN</td>\n",
       "      <td>Business Analyst</td>\n",
       "      <td>Teledyne Brown Engineering Inc</td>\n",
       "      <td>0</td>\n",
       "      <td>NaN</td>\n",
       "      <td>34.7225871,</td>\n",
       "      <td>-86.645589</td>\n",
       "      <td>0</td>\n",
       "      <td>0</td>\n",
       "      <td>0</td>\n",
       "      <td>...</td>\n",
       "      <td>0</td>\n",
       "      <td>0</td>\n",
       "      <td>1</td>\n",
       "      <td>0</td>\n",
       "      <td>0</td>\n",
       "      <td>0</td>\n",
       "      <td>0</td>\n",
       "      <td>0</td>\n",
       "      <td>0</td>\n",
       "      <td>0</td>\n",
       "    </tr>\n",
       "    <tr>\n",
       "      <th>97</th>\n",
       "      <td>NaN</td>\n",
       "      <td>Analyst I-Engineering</td>\n",
       "      <td>Windstream Communications</td>\n",
       "      <td>0</td>\n",
       "      <td>NaN</td>\n",
       "      <td>36.0176293,</td>\n",
       "      <td>-95.852969</td>\n",
       "      <td>0</td>\n",
       "      <td>0</td>\n",
       "      <td>0</td>\n",
       "      <td>...</td>\n",
       "      <td>0</td>\n",
       "      <td>0</td>\n",
       "      <td>1</td>\n",
       "      <td>0</td>\n",
       "      <td>0</td>\n",
       "      <td>0</td>\n",
       "      <td>0</td>\n",
       "      <td>0</td>\n",
       "      <td>0</td>\n",
       "      <td>0</td>\n",
       "    </tr>\n",
       "    <tr>\n",
       "      <th>98</th>\n",
       "      <td>NaN</td>\n",
       "      <td>Business Analyst</td>\n",
       "      <td>QuantiTech</td>\n",
       "      <td>0</td>\n",
       "      <td>NaN</td>\n",
       "      <td>34.7075212,</td>\n",
       "      <td>-86.686742</td>\n",
       "      <td>0</td>\n",
       "      <td>0</td>\n",
       "      <td>0</td>\n",
       "      <td>...</td>\n",
       "      <td>0</td>\n",
       "      <td>0</td>\n",
       "      <td>1</td>\n",
       "      <td>0</td>\n",
       "      <td>0</td>\n",
       "      <td>0</td>\n",
       "      <td>0</td>\n",
       "      <td>0</td>\n",
       "      <td>0</td>\n",
       "      <td>0</td>\n",
       "    </tr>\n",
       "    <tr>\n",
       "      <th>99</th>\n",
       "      <td>NaN</td>\n",
       "      <td>Data Analysis</td>\n",
       "      <td>ASRC Federal Holding Company</td>\n",
       "      <td>0</td>\n",
       "      <td>NaN</td>\n",
       "      <td>39.0654103,</td>\n",
       "      <td>-76.887859</td>\n",
       "      <td>0</td>\n",
       "      <td>0</td>\n",
       "      <td>0</td>\n",
       "      <td>...</td>\n",
       "      <td>0</td>\n",
       "      <td>0</td>\n",
       "      <td>1</td>\n",
       "      <td>0</td>\n",
       "      <td>0</td>\n",
       "      <td>0</td>\n",
       "      <td>0</td>\n",
       "      <td>0</td>\n",
       "      <td>0</td>\n",
       "      <td>0</td>\n",
       "    </tr>\n",
       "  </tbody>\n",
       "</table>\n",
       "<p>100 rows × 37 columns</p>\n",
       "</div>"
      ],
      "text/plain": [
       "    rating                         job_title                         company  \\\n",
       "0      NaN                OPERATIONS ANALYST   Compass Bank dba BBVA Compass   \n",
       "1      NaN  Jr Business Intelligence Analyst   Compass Bank dba BBVA Compass   \n",
       "2      NaN                      Data Analyst                           HyreU   \n",
       "3      NaN               Junior Data Analyst     Southern Poverty Law Center   \n",
       "4      NaN                      Data Analyst                         KBRWyle   \n",
       "..     ...                               ...                             ...   \n",
       "95     NaN      Business Analyst-ERP Systems                Southeast Health   \n",
       "96     NaN                  Business Analyst  Teledyne Brown Engineering Inc   \n",
       "97     NaN             Analyst I-Engineering       Windstream Communications   \n",
       "98     NaN                  Business Analyst                      QuantiTech   \n",
       "99     NaN                     Data Analysis    ASRC Federal Holding Company   \n",
       "\n",
       "          location  salary          lat        lng  AI  AWS  Azure  ...  Pig  \\\n",
       "0   Birmingham, AL     NaN  33.5123288, -86.803618   0    0      0  ...    0   \n",
       "1   Birmingham, AL     NaN  33.5123288, -86.803618   0    0      0  ...    0   \n",
       "2          Alabama     NaN  40.6496878, -74.399228   0    0      0  ...    0   \n",
       "3                0     NaN   32.376105, -86.303279   0    0      0  ...    0   \n",
       "4                0     NaN  32.9026232, -80.021066   0    0      0  ...    0   \n",
       "..             ...     ...          ...        ...  ..  ...    ...  ...  ...   \n",
       "95               0     NaN  31.2159629, -85.366081   0    0      0  ...    0   \n",
       "96               0     NaN  34.7225871, -86.645589   0    0      0  ...    0   \n",
       "97               0     NaN  36.0176293, -95.852969   0    0      0  ...    0   \n",
       "98               0     NaN  34.7075212, -86.686742   0    0      0  ...    0   \n",
       "99               0     NaN  39.0654103, -76.887859   0    0      0  ...    0   \n",
       "\n",
       "    Python  R  SAS  SQL  Scala  Scripting  Spark  Tableau  TensorFlow  \n",
       "0        0  1    0    0      0          0      0        0           0  \n",
       "1        0  1    0    0      0          0      0        0           0  \n",
       "2        0  1    0    0      0          0      0        0           0  \n",
       "3        0  0    0    1      0          0      0        1           0  \n",
       "4        0  1    0    0      0          0      0        0           0  \n",
       "..     ... ..  ...  ...    ...        ...    ...      ...         ...  \n",
       "95       0  1    0    0      0          0      0        0           0  \n",
       "96       0  1    0    0      0          0      0        0           0  \n",
       "97       0  1    0    0      0          0      0        0           0  \n",
       "98       0  1    0    0      0          0      0        0           0  \n",
       "99       0  1    0    0      0          0      0        0           0  \n",
       "\n",
       "[100 rows x 37 columns]"
      ]
     },
     "execution_count": 153,
     "metadata": {},
     "output_type": "execute_result"
    }
   ],
   "source": [
    "df_all[:100]"
   ]
  },
  {
   "cell_type": "code",
   "execution_count": 30,
   "metadata": {
    "ExecuteTime": {
     "end_time": "2019-11-04T03:05:07.798164Z",
     "start_time": "2019-11-04T03:05:06.921776Z"
    }
   },
   "outputs": [
    {
     "data": {
      "text/plain": [
       "<matplotlib.axes._subplots.AxesSubplot at 0x11e8458d0>"
      ]
     },
     "execution_count": 30,
     "metadata": {},
     "output_type": "execute_result"
    },
    {
     "data": {
      "image/png": "[encoded data removed]",
      "text/plain": [
       "<Figure size 1440x1440 with 1 Axes>"
      ]
     },
     "metadata": {
      "needs_background": "light"
     },
     "output_type": "display_data"
    }
   ],
   "source": [
    "df_noskill = df_all.drop(['skills'], axis=1)\n",
    "df_skill = df_all['skills'].str.get_dummies(sep=',')\n",
    "df_skill_rank = df_skill.sum().to_frame(name='count').sort_values(by=['count'], ascending=False)[:50]\n",
    "df_skill_rank.sort_values(by=['count'], ascending=True).plot.barh(figsize=(20,20))"
   ]
  },
  {
   "cell_type": "code",
   "execution_count": 31,
   "metadata": {
    "ExecuteTime": {
     "end_time": "2019-11-04T03:05:10.293925Z",
     "start_time": "2019-11-04T03:05:10.276374Z"
    }
   },
   "outputs": [
    {
     "data": {
      "text/html": [
       "<div>\n",
       "<style scoped>\n",
       "    .dataframe tbody tr th:only-of-type {\n",
       "        vertical-align: middle;\n",
       "    }\n",
       "\n",
       "    .dataframe tbody tr th {\n",
       "        vertical-align: top;\n",
       "    }\n",
       "\n",
       "    .dataframe thead th {\n",
       "        text-align: right;\n",
       "    }\n",
       "</style>\n",
       "<table border=\"1\" class=\"dataframe\">\n",
       "  <thead>\n",
       "    <tr style=\"text-align: right;\">\n",
       "      <th></th>\n",
       "      <th>job_title</th>\n",
       "      <th>company</th>\n",
       "      <th>location</th>\n",
       "      <th>salary</th>\n",
       "      <th>lat</th>\n",
       "      <th>lng</th>\n",
       "    </tr>\n",
       "    <tr>\n",
       "      <th>rating</th>\n",
       "      <th></th>\n",
       "      <th></th>\n",
       "      <th></th>\n",
       "      <th></th>\n",
       "      <th></th>\n",
       "      <th></th>\n",
       "    </tr>\n",
       "  </thead>\n",
       "  <tbody>\n",
       "    <tr>\n",
       "      <th>NaN</th>\n",
       "      <td>OPERATIONS ANALYST</td>\n",
       "      <td>Compass Bank dba BBVA Compass</td>\n",
       "      <td>Birmingham, AL</td>\n",
       "      <td>NaN</td>\n",
       "      <td>33.5123288,</td>\n",
       "      <td>-86.803618</td>\n",
       "    </tr>\n",
       "    <tr>\n",
       "      <th>NaN</th>\n",
       "      <td>Jr Business Intelligence Analyst</td>\n",
       "      <td>Compass Bank dba BBVA Compass</td>\n",
       "      <td>Birmingham, AL</td>\n",
       "      <td>NaN</td>\n",
       "      <td>33.5123288,</td>\n",
       "      <td>-86.803618</td>\n",
       "    </tr>\n",
       "    <tr>\n",
       "      <th>NaN</th>\n",
       "      <td>Data Analyst</td>\n",
       "      <td>HyreU</td>\n",
       "      <td>Alabama</td>\n",
       "      <td>NaN</td>\n",
       "      <td>40.6496878,</td>\n",
       "      <td>-74.399228</td>\n",
       "    </tr>\n",
       "    <tr>\n",
       "      <th>NaN</th>\n",
       "      <td>Junior Data Analyst</td>\n",
       "      <td>Southern Poverty Law Center</td>\n",
       "      <td>0</td>\n",
       "      <td>NaN</td>\n",
       "      <td>32.376105,</td>\n",
       "      <td>-86.303279</td>\n",
       "    </tr>\n",
       "    <tr>\n",
       "      <th>NaN</th>\n",
       "      <td>Data Analyst</td>\n",
       "      <td>KBRWyle</td>\n",
       "      <td>0</td>\n",
       "      <td>NaN</td>\n",
       "      <td>32.9026232,</td>\n",
       "      <td>-80.021066</td>\n",
       "    </tr>\n",
       "    <tr>\n",
       "      <th>...</th>\n",
       "      <td>...</td>\n",
       "      <td>...</td>\n",
       "      <td>...</td>\n",
       "      <td>...</td>\n",
       "      <td>...</td>\n",
       "      <td>...</td>\n",
       "    </tr>\n",
       "    <tr>\n",
       "      <th>3.9</th>\n",
       "      <td>Analyst Payroll</td>\n",
       "      <td>Cloud Peak Energy</td>\n",
       "      <td>0</td>\n",
       "      <td>NaN</td>\n",
       "      <td>39.9234637,</td>\n",
       "      <td>-105.117353</td>\n",
       "    </tr>\n",
       "    <tr>\n",
       "      <th>4.2</th>\n",
       "      <td>Data Analyst- Relocation to Saudi Arabia</td>\n",
       "      <td>Saudi Aramco</td>\n",
       "      <td>United States</td>\n",
       "      <td>NaN</td>\n",
       "      <td>40.76,</td>\n",
       "      <td>-73.973509</td>\n",
       "    </tr>\n",
       "    <tr>\n",
       "      <th>4.0</th>\n",
       "      <td>Business Analyst</td>\n",
       "      <td>CBD College</td>\n",
       "      <td>United States</td>\n",
       "      <td>NaN</td>\n",
       "      <td>34.062241,</td>\n",
       "      <td>-118.306148</td>\n",
       "    </tr>\n",
       "    <tr>\n",
       "      <th>4.5</th>\n",
       "      <td>PROGRAM ANALYST (MUNITIONS &amp; MISSLE MAINTENCE ...</td>\n",
       "      <td>US Department of the Air Force</td>\n",
       "      <td>0</td>\n",
       "      <td>85787.0</td>\n",
       "      <td>38.9794922,</td>\n",
       "      <td>-104.864485</td>\n",
       "    </tr>\n",
       "    <tr>\n",
       "      <th>NaN</th>\n",
       "      <td>Senior Sage 300 Consultant / Business Analyst ...</td>\n",
       "      <td>Net at Work</td>\n",
       "      <td>United States</td>\n",
       "      <td>NaN</td>\n",
       "      <td>40.755035,</td>\n",
       "      <td>-73.991803</td>\n",
       "    </tr>\n",
       "  </tbody>\n",
       "</table>\n",
       "<p>17799 rows × 6 columns</p>\n",
       "</div>"
      ],
      "text/plain": [
       "                                                job_title  \\\n",
       "rating                                                      \n",
       "NaN                                    OPERATIONS ANALYST   \n",
       "NaN                      Jr Business Intelligence Analyst   \n",
       "NaN                                          Data Analyst   \n",
       "NaN                                   Junior Data Analyst   \n",
       "NaN                                          Data Analyst   \n",
       "...                                                   ...   \n",
       "3.9                                       Analyst Payroll   \n",
       "4.2              Data Analyst- Relocation to Saudi Arabia   \n",
       "4.0                                      Business Analyst   \n",
       "4.5     PROGRAM ANALYST (MUNITIONS & MISSLE MAINTENCE ...   \n",
       "NaN     Senior Sage 300 Consultant / Business Analyst ...   \n",
       "\n",
       "                               company        location   salary          lat  \\\n",
       "rating                                                                         \n",
       "NaN      Compass Bank dba BBVA Compass  Birmingham, AL      NaN  33.5123288,   \n",
       "NaN      Compass Bank dba BBVA Compass  Birmingham, AL      NaN  33.5123288,   \n",
       "NaN                              HyreU         Alabama      NaN  40.6496878,   \n",
       "NaN        Southern Poverty Law Center               0      NaN   32.376105,   \n",
       "NaN                            KBRWyle               0      NaN  32.9026232,   \n",
       "...                                ...             ...      ...          ...   \n",
       "3.9                  Cloud Peak Energy               0      NaN  39.9234637,   \n",
       "4.2                       Saudi Aramco   United States      NaN       40.76,   \n",
       "4.0                        CBD College   United States      NaN   34.062241,   \n",
       "4.5     US Department of the Air Force               0  85787.0  38.9794922,   \n",
       "NaN                        Net at Work   United States      NaN   40.755035,   \n",
       "\n",
       "               lng  \n",
       "rating              \n",
       "NaN     -86.803618  \n",
       "NaN     -86.803618  \n",
       "NaN     -74.399228  \n",
       "NaN     -86.303279  \n",
       "NaN     -80.021066  \n",
       "...            ...  \n",
       "3.9    -105.117353  \n",
       "4.2     -73.973509  \n",
       "4.0    -118.306148  \n",
       "4.5    -104.864485  \n",
       "NaN     -73.991803  \n",
       "\n",
       "[17799 rows x 6 columns]"
      ]
     },
     "execution_count": 31,
     "metadata": {},
     "output_type": "execute_result"
    }
   ],
   "source": [
    "df_noskill"
   ]
  },
  {
   "cell_type": "code",
   "execution_count": 25,
   "metadata": {
    "ExecuteTime": {
     "end_time": "2019-11-04T03:04:25.183264Z",
     "start_time": "2019-11-04T03:04:25.176403Z"
    }
   },
   "outputs": [],
   "source": [
    "df_update_all = pd.concat([df_noskill, df_skill], axis=1)"
   ]
  },
  {
   "cell_type": "code",
   "execution_count": 38,
   "metadata": {
    "ExecuteTime": {
     "end_time": "2019-11-04T03:07:21.138149Z",
     "start_time": "2019-11-04T03:07:21.112357Z"
    }
   },
   "outputs": [
    {
     "data": {
      "text/html": [
       "<div>\n",
       "<style scoped>\n",
       "    .dataframe tbody tr th:only-of-type {\n",
       "        vertical-align: middle;\n",
       "    }\n",
       "\n",
       "    .dataframe tbody tr th {\n",
       "        vertical-align: top;\n",
       "    }\n",
       "\n",
       "    .dataframe thead th {\n",
       "        text-align: right;\n",
       "    }\n",
       "</style>\n",
       "<table border=\"1\" class=\"dataframe\">\n",
       "  <thead>\n",
       "    <tr style=\"text-align: right;\">\n",
       "      <th></th>\n",
       "      <th>job_title</th>\n",
       "      <th>company</th>\n",
       "      <th>location</th>\n",
       "      <th>salary</th>\n",
       "      <th>lat</th>\n",
       "      <th>lng</th>\n",
       "      <th>AI</th>\n",
       "      <th>AWS</th>\n",
       "      <th>Azure</th>\n",
       "      <th>Big-Data</th>\n",
       "      <th>...</th>\n",
       "      <th>Pig</th>\n",
       "      <th>Python</th>\n",
       "      <th>R</th>\n",
       "      <th>SAS</th>\n",
       "      <th>SQL</th>\n",
       "      <th>Scala</th>\n",
       "      <th>Scripting</th>\n",
       "      <th>Spark</th>\n",
       "      <th>Tableau</th>\n",
       "      <th>TensorFlow</th>\n",
       "    </tr>\n",
       "    <tr>\n",
       "      <th>rating</th>\n",
       "      <th></th>\n",
       "      <th></th>\n",
       "      <th></th>\n",
       "      <th></th>\n",
       "      <th></th>\n",
       "      <th></th>\n",
       "      <th></th>\n",
       "      <th></th>\n",
       "      <th></th>\n",
       "      <th></th>\n",
       "      <th></th>\n",
       "      <th></th>\n",
       "      <th></th>\n",
       "      <th></th>\n",
       "      <th></th>\n",
       "      <th></th>\n",
       "      <th></th>\n",
       "      <th></th>\n",
       "      <th></th>\n",
       "      <th></th>\n",
       "      <th></th>\n",
       "    </tr>\n",
       "  </thead>\n",
       "  <tbody>\n",
       "    <tr>\n",
       "      <th>NaN</th>\n",
       "      <td>OPERATIONS ANALYST</td>\n",
       "      <td>Compass Bank dba BBVA Compass</td>\n",
       "      <td>Birmingham, AL</td>\n",
       "      <td>NaN</td>\n",
       "      <td>33.5123288,</td>\n",
       "      <td>-86.803618</td>\n",
       "      <td>0</td>\n",
       "      <td>0</td>\n",
       "      <td>0</td>\n",
       "      <td>0</td>\n",
       "      <td>...</td>\n",
       "      <td>0</td>\n",
       "      <td>0</td>\n",
       "      <td>1</td>\n",
       "      <td>0</td>\n",
       "      <td>0</td>\n",
       "      <td>0</td>\n",
       "      <td>0</td>\n",
       "      <td>0</td>\n",
       "      <td>0</td>\n",
       "      <td>0</td>\n",
       "    </tr>\n",
       "    <tr>\n",
       "      <th>NaN</th>\n",
       "      <td>Jr Business Intelligence Analyst</td>\n",
       "      <td>Compass Bank dba BBVA Compass</td>\n",
       "      <td>Birmingham, AL</td>\n",
       "      <td>NaN</td>\n",
       "      <td>33.5123288,</td>\n",
       "      <td>-86.803618</td>\n",
       "      <td>0</td>\n",
       "      <td>0</td>\n",
       "      <td>0</td>\n",
       "      <td>0</td>\n",
       "      <td>...</td>\n",
       "      <td>0</td>\n",
       "      <td>0</td>\n",
       "      <td>1</td>\n",
       "      <td>0</td>\n",
       "      <td>0</td>\n",
       "      <td>0</td>\n",
       "      <td>0</td>\n",
       "      <td>0</td>\n",
       "      <td>0</td>\n",
       "      <td>0</td>\n",
       "    </tr>\n",
       "    <tr>\n",
       "      <th>NaN</th>\n",
       "      <td>Data Analyst</td>\n",
       "      <td>HyreU</td>\n",
       "      <td>Alabama</td>\n",
       "      <td>NaN</td>\n",
       "      <td>40.6496878,</td>\n",
       "      <td>-74.399228</td>\n",
       "      <td>0</td>\n",
       "      <td>0</td>\n",
       "      <td>0</td>\n",
       "      <td>0</td>\n",
       "      <td>...</td>\n",
       "      <td>0</td>\n",
       "      <td>0</td>\n",
       "      <td>1</td>\n",
       "      <td>0</td>\n",
       "      <td>0</td>\n",
       "      <td>0</td>\n",
       "      <td>0</td>\n",
       "      <td>0</td>\n",
       "      <td>0</td>\n",
       "      <td>0</td>\n",
       "    </tr>\n",
       "    <tr>\n",
       "      <th>NaN</th>\n",
       "      <td>Junior Data Analyst</td>\n",
       "      <td>Southern Poverty Law Center</td>\n",
       "      <td>0</td>\n",
       "      <td>NaN</td>\n",
       "      <td>32.376105,</td>\n",
       "      <td>-86.303279</td>\n",
       "      <td>0</td>\n",
       "      <td>0</td>\n",
       "      <td>0</td>\n",
       "      <td>0</td>\n",
       "      <td>...</td>\n",
       "      <td>0</td>\n",
       "      <td>0</td>\n",
       "      <td>0</td>\n",
       "      <td>0</td>\n",
       "      <td>1</td>\n",
       "      <td>0</td>\n",
       "      <td>0</td>\n",
       "      <td>0</td>\n",
       "      <td>1</td>\n",
       "      <td>0</td>\n",
       "    </tr>\n",
       "    <tr>\n",
       "      <th>NaN</th>\n",
       "      <td>Data Analyst</td>\n",
       "      <td>KBRWyle</td>\n",
       "      <td>0</td>\n",
       "      <td>NaN</td>\n",
       "      <td>32.9026232,</td>\n",
       "      <td>-80.021066</td>\n",
       "      <td>0</td>\n",
       "      <td>0</td>\n",
       "      <td>0</td>\n",
       "      <td>0</td>\n",
       "      <td>...</td>\n",
       "      <td>0</td>\n",
       "      <td>0</td>\n",
       "      <td>1</td>\n",
       "      <td>0</td>\n",
       "      <td>0</td>\n",
       "      <td>0</td>\n",
       "      <td>0</td>\n",
       "      <td>0</td>\n",
       "      <td>0</td>\n",
       "      <td>0</td>\n",
       "    </tr>\n",
       "  </tbody>\n",
       "</table>\n",
       "<p>5 rows × 36 columns</p>\n",
       "</div>"
      ],
      "text/plain": [
       "                               job_title                        company  \\\n",
       "rating                                                                    \n",
       "NaN                   OPERATIONS ANALYST  Compass Bank dba BBVA Compass   \n",
       "NaN     Jr Business Intelligence Analyst  Compass Bank dba BBVA Compass   \n",
       "NaN                         Data Analyst                          HyreU   \n",
       "NaN                  Junior Data Analyst    Southern Poverty Law Center   \n",
       "NaN                         Data Analyst                        KBRWyle   \n",
       "\n",
       "              location  salary          lat        lng  AI  AWS  Azure  \\\n",
       "rating                                                                   \n",
       "NaN     Birmingham, AL     NaN  33.5123288, -86.803618   0    0      0   \n",
       "NaN     Birmingham, AL     NaN  33.5123288, -86.803618   0    0      0   \n",
       "NaN            Alabama     NaN  40.6496878, -74.399228   0    0      0   \n",
       "NaN                  0     NaN   32.376105, -86.303279   0    0      0   \n",
       "NaN                  0     NaN  32.9026232, -80.021066   0    0      0   \n",
       "\n",
       "        Big-Data  ...  Pig  Python  R  SAS  SQL  Scala  Scripting  Spark  \\\n",
       "rating            ...                                                      \n",
       "NaN            0  ...    0       0  1    0    0      0          0      0   \n",
       "NaN            0  ...    0       0  1    0    0      0          0      0   \n",
       "NaN            0  ...    0       0  1    0    0      0          0      0   \n",
       "NaN            0  ...    0       0  0    0    1      0          0      0   \n",
       "NaN            0  ...    0       0  1    0    0      0          0      0   \n",
       "\n",
       "        Tableau  TensorFlow  \n",
       "rating                       \n",
       "NaN           0           0  \n",
       "NaN           0           0  \n",
       "NaN           0           0  \n",
       "NaN           1           0  \n",
       "NaN           0           0  \n",
       "\n",
       "[5 rows x 36 columns]"
      ]
     },
     "execution_count": 38,
     "metadata": {},
     "output_type": "execute_result"
    }
   ],
   "source": [
    "df_update_all.head()"
   ]
  },
  {
   "cell_type": "code",
   "execution_count": 39,
   "metadata": {
    "ExecuteTime": {
     "end_time": "2019-11-04T03:08:22.442523Z",
     "start_time": "2019-11-04T03:08:22.439881Z"
    }
   },
   "outputs": [],
   "source": [
    "#df_update_all.to_csv('df_update_all.csv')"
   ]
  },
  {
   "cell_type": "code",
   "execution_count": 48,
   "metadata": {
    "ExecuteTime": {
     "end_time": "2019-11-04T03:11:18.755451Z",
     "start_time": "2019-11-04T03:11:18.642838Z"
    }
   },
   "outputs": [],
   "source": [
    "df_update_all= pd.read_csv('df_update_all.csv')"
   ]
  },
  {
   "cell_type": "code",
   "execution_count": 53,
   "metadata": {
    "ExecuteTime": {
     "end_time": "2019-11-04T03:12:45.153036Z",
     "start_time": "2019-11-04T03:12:45.130590Z"
    }
   },
   "outputs": [],
   "source": [
    "df_update_all_num = df_update_all.drop(columns=['job_title','company','location'])"
   ]
  },
  {
   "cell_type": "code",
   "execution_count": 59,
   "metadata": {
    "ExecuteTime": {
     "end_time": "2019-11-04T03:44:51.010508Z",
     "start_time": "2019-11-04T03:44:51.002420Z"
    }
   },
   "outputs": [],
   "source": [
    "df_update_all_num = df_update_all_num.dropna(subset=['salary'])"
   ]
  },
  {
   "cell_type": "code",
   "execution_count": 60,
   "metadata": {
    "ExecuteTime": {
     "end_time": "2019-11-04T03:44:52.325270Z",
     "start_time": "2019-11-04T03:44:52.262651Z"
    }
   },
   "outputs": [],
   "source": [
    "#df_update_all_num.to_csv('df_update_all_num.csv')"
   ]
  },
  {
   "cell_type": "code",
   "execution_count": 154,
   "metadata": {
    "ExecuteTime": {
     "end_time": "2019-11-04T04:58:03.982590Z",
     "start_time": "2019-11-04T04:58:03.858027Z"
    }
   },
   "outputs": [
    {
     "data": {
      "text/html": [
       "<div>\n",
       "<style scoped>\n",
       "    .dataframe tbody tr th:only-of-type {\n",
       "        vertical-align: middle;\n",
       "    }\n",
       "\n",
       "    .dataframe tbody tr th {\n",
       "        vertical-align: top;\n",
       "    }\n",
       "\n",
       "    .dataframe thead th {\n",
       "        text-align: right;\n",
       "    }\n",
       "</style>\n",
       "<table border=\"1\" class=\"dataframe\">\n",
       "  <thead>\n",
       "    <tr style=\"text-align: right;\">\n",
       "      <th></th>\n",
       "      <th>salary</th>\n",
       "      <th>rating</th>\n",
       "      <th>lat</th>\n",
       "      <th>lng</th>\n",
       "      <th>AI</th>\n",
       "      <th>AWS</th>\n",
       "      <th>Azure</th>\n",
       "      <th>Big-Data</th>\n",
       "      <th>C/C++</th>\n",
       "      <th>Data-Analysis</th>\n",
       "      <th>...</th>\n",
       "      <th>Pig</th>\n",
       "      <th>Python</th>\n",
       "      <th>R</th>\n",
       "      <th>SAS</th>\n",
       "      <th>SQL</th>\n",
       "      <th>Scala</th>\n",
       "      <th>Scripting</th>\n",
       "      <th>Spark</th>\n",
       "      <th>Tableau</th>\n",
       "      <th>TensorFlow</th>\n",
       "    </tr>\n",
       "  </thead>\n",
       "  <tbody>\n",
       "    <tr>\n",
       "      <th>count</th>\n",
       "      <td>1492.000000</td>\n",
       "      <td>1492.000000</td>\n",
       "      <td>1492.000000</td>\n",
       "      <td>1492.000000</td>\n",
       "      <td>1492.000000</td>\n",
       "      <td>1492.000000</td>\n",
       "      <td>1492.000000</td>\n",
       "      <td>1492.000000</td>\n",
       "      <td>1492.000000</td>\n",
       "      <td>1492.000000</td>\n",
       "      <td>...</td>\n",
       "      <td>1492.00000</td>\n",
       "      <td>1492.000000</td>\n",
       "      <td>1492.000000</td>\n",
       "      <td>1492.000000</td>\n",
       "      <td>1492.000000</td>\n",
       "      <td>1492.00000</td>\n",
       "      <td>1492.000000</td>\n",
       "      <td>1492.000000</td>\n",
       "      <td>1492.000000</td>\n",
       "      <td>1492.000000</td>\n",
       "    </tr>\n",
       "    <tr>\n",
       "      <th>mean</th>\n",
       "      <td>76666.826743</td>\n",
       "      <td>1.269035</td>\n",
       "      <td>33.994366</td>\n",
       "      <td>-83.455481</td>\n",
       "      <td>0.057641</td>\n",
       "      <td>0.013405</td>\n",
       "      <td>0.012735</td>\n",
       "      <td>0.006032</td>\n",
       "      <td>0.000670</td>\n",
       "      <td>0.054290</td>\n",
       "      <td>...</td>\n",
       "      <td>0.00134</td>\n",
       "      <td>0.091153</td>\n",
       "      <td>0.961126</td>\n",
       "      <td>0.085791</td>\n",
       "      <td>0.361260</td>\n",
       "      <td>0.00134</td>\n",
       "      <td>0.006032</td>\n",
       "      <td>0.004021</td>\n",
       "      <td>0.124665</td>\n",
       "      <td>0.000670</td>\n",
       "    </tr>\n",
       "    <tr>\n",
       "      <th>std</th>\n",
       "      <td>28905.995201</td>\n",
       "      <td>1.837651</td>\n",
       "      <td>12.406768</td>\n",
       "      <td>31.853065</td>\n",
       "      <td>0.233141</td>\n",
       "      <td>0.115039</td>\n",
       "      <td>0.112164</td>\n",
       "      <td>0.077458</td>\n",
       "      <td>0.025889</td>\n",
       "      <td>0.226664</td>\n",
       "      <td>...</td>\n",
       "      <td>0.03660</td>\n",
       "      <td>0.287923</td>\n",
       "      <td>0.193359</td>\n",
       "      <td>0.280149</td>\n",
       "      <td>0.480527</td>\n",
       "      <td>0.03660</td>\n",
       "      <td>0.077458</td>\n",
       "      <td>0.063308</td>\n",
       "      <td>0.330449</td>\n",
       "      <td>0.025889</td>\n",
       "    </tr>\n",
       "    <tr>\n",
       "      <th>min</th>\n",
       "      <td>17160.000000</td>\n",
       "      <td>0.000000</td>\n",
       "      <td>0.000000</td>\n",
       "      <td>-155.582782</td>\n",
       "      <td>0.000000</td>\n",
       "      <td>0.000000</td>\n",
       "      <td>0.000000</td>\n",
       "      <td>0.000000</td>\n",
       "      <td>0.000000</td>\n",
       "      <td>0.000000</td>\n",
       "      <td>...</td>\n",
       "      <td>0.00000</td>\n",
       "      <td>0.000000</td>\n",
       "      <td>0.000000</td>\n",
       "      <td>0.000000</td>\n",
       "      <td>0.000000</td>\n",
       "      <td>0.00000</td>\n",
       "      <td>0.000000</td>\n",
       "      <td>0.000000</td>\n",
       "      <td>0.000000</td>\n",
       "      <td>0.000000</td>\n",
       "    </tr>\n",
       "    <tr>\n",
       "      <th>25%</th>\n",
       "      <td>57444.750000</td>\n",
       "      <td>0.000000</td>\n",
       "      <td>33.246215</td>\n",
       "      <td>-97.789141</td>\n",
       "      <td>0.000000</td>\n",
       "      <td>0.000000</td>\n",
       "      <td>0.000000</td>\n",
       "      <td>0.000000</td>\n",
       "      <td>0.000000</td>\n",
       "      <td>0.000000</td>\n",
       "      <td>...</td>\n",
       "      <td>0.00000</td>\n",
       "      <td>0.000000</td>\n",
       "      <td>1.000000</td>\n",
       "      <td>0.000000</td>\n",
       "      <td>0.000000</td>\n",
       "      <td>0.00000</td>\n",
       "      <td>0.000000</td>\n",
       "      <td>0.000000</td>\n",
       "      <td>0.000000</td>\n",
       "      <td>0.000000</td>\n",
       "    </tr>\n",
       "    <tr>\n",
       "      <th>50%</th>\n",
       "      <td>72020.250000</td>\n",
       "      <td>0.000000</td>\n",
       "      <td>37.700520</td>\n",
       "      <td>-90.062790</td>\n",
       "      <td>0.000000</td>\n",
       "      <td>0.000000</td>\n",
       "      <td>0.000000</td>\n",
       "      <td>0.000000</td>\n",
       "      <td>0.000000</td>\n",
       "      <td>0.000000</td>\n",
       "      <td>...</td>\n",
       "      <td>0.00000</td>\n",
       "      <td>0.000000</td>\n",
       "      <td>1.000000</td>\n",
       "      <td>0.000000</td>\n",
       "      <td>0.000000</td>\n",
       "      <td>0.00000</td>\n",
       "      <td>0.000000</td>\n",
       "      <td>0.000000</td>\n",
       "      <td>0.000000</td>\n",
       "      <td>0.000000</td>\n",
       "    </tr>\n",
       "    <tr>\n",
       "      <th>75%</th>\n",
       "      <td>91795.000000</td>\n",
       "      <td>3.600000</td>\n",
       "      <td>40.625343</td>\n",
       "      <td>-77.031953</td>\n",
       "      <td>0.000000</td>\n",
       "      <td>0.000000</td>\n",
       "      <td>0.000000</td>\n",
       "      <td>0.000000</td>\n",
       "      <td>0.000000</td>\n",
       "      <td>0.000000</td>\n",
       "      <td>...</td>\n",
       "      <td>0.00000</td>\n",
       "      <td>0.000000</td>\n",
       "      <td>1.000000</td>\n",
       "      <td>0.000000</td>\n",
       "      <td>1.000000</td>\n",
       "      <td>0.00000</td>\n",
       "      <td>0.000000</td>\n",
       "      <td>0.000000</td>\n",
       "      <td>0.000000</td>\n",
       "      <td>0.000000</td>\n",
       "    </tr>\n",
       "    <tr>\n",
       "      <th>max</th>\n",
       "      <td>208000.000000</td>\n",
       "      <td>5.000000</td>\n",
       "      <td>64.840390</td>\n",
       "      <td>0.000000</td>\n",
       "      <td>1.000000</td>\n",
       "      <td>1.000000</td>\n",
       "      <td>1.000000</td>\n",
       "      <td>1.000000</td>\n",
       "      <td>1.000000</td>\n",
       "      <td>1.000000</td>\n",
       "      <td>...</td>\n",
       "      <td>1.00000</td>\n",
       "      <td>1.000000</td>\n",
       "      <td>1.000000</td>\n",
       "      <td>1.000000</td>\n",
       "      <td>1.000000</td>\n",
       "      <td>1.00000</td>\n",
       "      <td>1.000000</td>\n",
       "      <td>1.000000</td>\n",
       "      <td>1.000000</td>\n",
       "      <td>1.000000</td>\n",
       "    </tr>\n",
       "  </tbody>\n",
       "</table>\n",
       "<p>8 rows × 34 columns</p>\n",
       "</div>"
      ],
      "text/plain": [
       "              salary       rating          lat          lng           AI  \\\n",
       "count    1492.000000  1492.000000  1492.000000  1492.000000  1492.000000   \n",
       "mean    76666.826743     1.269035    33.994366   -83.455481     0.057641   \n",
       "std     28905.995201     1.837651    12.406768    31.853065     0.233141   \n",
       "min     17160.000000     0.000000     0.000000  -155.582782     0.000000   \n",
       "25%     57444.750000     0.000000    33.246215   -97.789141     0.000000   \n",
       "50%     72020.250000     0.000000    37.700520   -90.062790     0.000000   \n",
       "75%     91795.000000     3.600000    40.625343   -77.031953     0.000000   \n",
       "max    208000.000000     5.000000    64.840390     0.000000     1.000000   \n",
       "\n",
       "               AWS        Azure     Big-Data        C/C++  Data-Analysis  ...  \\\n",
       "count  1492.000000  1492.000000  1492.000000  1492.000000    1492.000000  ...   \n",
       "mean      0.013405     0.012735     0.006032     0.000670       0.054290  ...   \n",
       "std       0.115039     0.112164     0.077458     0.025889       0.226664  ...   \n",
       "min       0.000000     0.000000     0.000000     0.000000       0.000000  ...   \n",
       "25%       0.000000     0.000000     0.000000     0.000000       0.000000  ...   \n",
       "50%       0.000000     0.000000     0.000000     0.000000       0.000000  ...   \n",
       "75%       0.000000     0.000000     0.000000     0.000000       0.000000  ...   \n",
       "max       1.000000     1.000000     1.000000     1.000000       1.000000  ...   \n",
       "\n",
       "              Pig       Python            R          SAS          SQL  \\\n",
       "count  1492.00000  1492.000000  1492.000000  1492.000000  1492.000000   \n",
       "mean      0.00134     0.091153     0.961126     0.085791     0.361260   \n",
       "std       0.03660     0.287923     0.193359     0.280149     0.480527   \n",
       "min       0.00000     0.000000     0.000000     0.000000     0.000000   \n",
       "25%       0.00000     0.000000     1.000000     0.000000     0.000000   \n",
       "50%       0.00000     0.000000     1.000000     0.000000     0.000000   \n",
       "75%       0.00000     0.000000     1.000000     0.000000     1.000000   \n",
       "max       1.00000     1.000000     1.000000     1.000000     1.000000   \n",
       "\n",
       "            Scala    Scripting        Spark      Tableau   TensorFlow  \n",
       "count  1492.00000  1492.000000  1492.000000  1492.000000  1492.000000  \n",
       "mean      0.00134     0.006032     0.004021     0.124665     0.000670  \n",
       "std       0.03660     0.077458     0.063308     0.330449     0.025889  \n",
       "min       0.00000     0.000000     0.000000     0.000000     0.000000  \n",
       "25%       0.00000     0.000000     0.000000     0.000000     0.000000  \n",
       "50%       0.00000     0.000000     0.000000     0.000000     0.000000  \n",
       "75%       0.00000     0.000000     0.000000     0.000000     0.000000  \n",
       "max       1.00000     1.000000     1.000000     1.000000     1.000000  \n",
       "\n",
       "[8 rows x 34 columns]"
      ]
     },
     "execution_count": 154,
     "metadata": {},
     "output_type": "execute_result"
    }
   ],
   "source": [
    "df_update_all_num= pd.read_csv('df_update_all_num.csv').fillna(0)\n",
    "df_update_all_num.describe()"
   ]
  },
  {
   "cell_type": "code",
   "execution_count": 155,
   "metadata": {
    "ExecuteTime": {
     "end_time": "2019-11-04T04:58:05.984424Z",
     "start_time": "2019-11-04T04:58:05.980667Z"
    }
   },
   "outputs": [],
   "source": [
    "import matplotlib.pyplot as plt\n",
    "import xgboost as xgb\n",
    "import math\n",
    "from sklearn.metrics import mean_squared_error\n",
    "from sklearn.metrics import accuracy_score\n",
    "from xgboost import XGBClassifier"
   ]
  },
  {
   "cell_type": "code",
   "execution_count": 156,
   "metadata": {
    "ExecuteTime": {
     "end_time": "2019-11-04T04:58:06.859383Z",
     "start_time": "2019-11-04T04:58:06.854935Z"
    }
   },
   "outputs": [],
   "source": [
    "feature_names = list(df_update_all_num.drop(columns=['salary']).columns)"
   ]
  },
  {
   "cell_type": "code",
   "execution_count": 157,
   "metadata": {
    "ExecuteTime": {
     "end_time": "2019-11-04T04:58:08.206943Z",
     "start_time": "2019-11-04T04:58:07.715765Z"
    }
   },
   "outputs": [
    {
     "name": "stderr",
     "output_type": "stream",
     "text": [
      "/Users/jz/anaconda3/lib/python3.7/site-packages/xgboost/core.py:587: FutureWarning: Series.base is deprecated and will be removed in a future version\n",
      "  if getattr(data, 'base', None) is not None and \\\n",
      "/Users/jz/anaconda3/lib/python3.7/site-packages/xgboost/core.py:588: FutureWarning: Series.base is deprecated and will be removed in a future version\n",
      "  data.base is not None and isinstance(data, np.ndarray) \\\n"
     ]
    },
    {
     "name": "stdout",
     "output_type": "stream",
     "text": [
      "[23:58:07] WARNING: src/objective/regression_obj.cu:152: reg:linear is now deprecated in favor of reg:squarederror.\n",
      "RMSE: 23604.56983078543\n"
     ]
    }
   ],
   "source": [
    "X = df_update_all_num[feature_names]\n",
    "y = df_update_all_num['salary']\n",
    "\n",
    "data_dmatrix=xgb.DMatrix(data=X, label=y)\n",
    "\n",
    "from sklearn.model_selection import train_test_split\n",
    "X_train, X_test, y_train, y_test= train_test_split(X, y, test_size=0.2, random_state=123)\n",
    "\n",
    "xgb_model = xgb.XGBRegressor(objective=\"reg:linear\", random_state=42)\n",
    "\n",
    "xgb_model.fit(X, y)\n",
    "\n",
    "y_pred = xgb_model.predict(X)\n",
    "\n",
    "mse=mean_squared_error(y, y_pred)\n",
    "\n",
    "print('RMSE:',np.sqrt(mse))\n",
    "\n",
    "params = {\"objective\":\"reg:squarederror\",'colsample_bytree': 0.3,'learning_rate': 0.1,\n",
    "                'max_depth': 5, 'alpha': 10}\n",
    "\n",
    "cv_results = xgb.cv(dtrain=data_dmatrix, params=params, nfold=3,\n",
    "                    num_boost_round=50,early_stopping_rounds=10,metrics=\"rmse\", as_pandas=True, seed=123)\n",
    "\n",
    "xg_reg = xgb.train(params=params, dtrain=data_dmatrix, num_boost_round=10)"
   ]
  },
  {
   "cell_type": "code",
   "execution_count": 158,
   "metadata": {
    "ExecuteTime": {
     "end_time": "2019-11-04T04:58:09.404786Z",
     "start_time": "2019-11-04T04:58:09.092179Z"
    }
   },
   "outputs": [
    {
     "data": {
      "image/png": "[encoded data removed]",
      "text/plain": [
       "<Figure size 1440x720 with 1 Axes>"
      ]
     },
     "metadata": {
      "needs_background": "light"
     },
     "output_type": "display_data"
    }
   ],
   "source": [
    "xgb.plot_importance(xg_reg)\n",
    "plt.rcParams['figure.figsize'] = [20, 10]\n",
    "plt.show()"
   ]
  },
  {
   "cell_type": "code",
   "execution_count": 159,
   "metadata": {
    "ExecuteTime": {
     "end_time": "2019-11-04T04:58:11.525731Z",
     "start_time": "2019-11-04T04:58:10.911302Z"
    }
   },
   "outputs": [
    {
     "data": {
      "image/png": "[encoded data removed]",
      "text/plain": [
       "<Figure size 1440x720 with 1 Axes>"
      ]
     },
     "metadata": {
      "needs_background": "light"
     },
     "output_type": "display_data"
    }
   ],
   "source": [
    "xg_reg = xgb.train(params=params, dtrain=data_dmatrix, num_boost_round=10)\n",
    "import matplotlib.pyplot as plt\n",
    "\n",
    "xgb.plot_tree(xg_reg,num_trees=0)\n",
    "plt.rcParams['figure.figsize'] = [20, 10]\n",
    "plt.show()"
   ]
  },
  {
   "cell_type": "code",
   "execution_count": 160,
   "metadata": {
    "ExecuteTime": {
     "end_time": "2019-11-04T04:58:12.725257Z",
     "start_time": "2019-11-04T04:58:12.711664Z"
    }
   },
   "outputs": [],
   "source": [
    "df_feature = pd.DataFrame(xg_reg.get_fscore().items(), columns=['feature','importance']).sort_values('importance', ascending=False)\n",
    "df_feature = df_feature.reset_index().drop(columns='index')\n",
    "\n",
    "feature_sel = []\n",
    "for row in np.arange(0,len(df_feature)):\n",
    "    feat = df_feature['feature'][row]\n",
    "    feature_sel.append(feat)\n",
    "    \n",
    "def accuracy_list(y_col,filtered_df,feature_sel):  \n",
    "    for i in np.arange(1,len(feature_sel)):\n",
    "        print (accuracy(filtered_df,feature_sel[:i]))"
   ]
  },
  {
   "cell_type": "code",
   "execution_count": 161,
   "metadata": {
    "ExecuteTime": {
     "end_time": "2019-11-04T04:58:14.144198Z",
     "start_time": "2019-11-04T04:58:14.140549Z"
    }
   },
   "outputs": [],
   "source": [
    "nongeo = feature_sel[2:]"
   ]
  },
  {
   "cell_type": "code",
   "execution_count": 162,
   "metadata": {
    "ExecuteTime": {
     "end_time": "2019-11-04T04:58:23.475184Z",
     "start_time": "2019-11-04T04:58:23.092373Z"
    }
   },
   "outputs": [
    {
     "name": "stderr",
     "output_type": "stream",
     "text": [
      "/Users/jz/anaconda3/lib/python3.7/site-packages/xgboost/core.py:587: FutureWarning: Series.base is deprecated and will be removed in a future version\n",
      "  if getattr(data, 'base', None) is not None and \\\n",
      "/Users/jz/anaconda3/lib/python3.7/site-packages/xgboost/core.py:588: FutureWarning: Series.base is deprecated and will be removed in a future version\n",
      "  data.base is not None and isinstance(data, np.ndarray) \\\n"
     ]
    },
    {
     "name": "stdout",
     "output_type": "stream",
     "text": [
      "[23:58:23] WARNING: src/objective/regression_obj.cu:152: reg:linear is now deprecated in favor of reg:squarederror.\n",
      "RMSE: 25675.268942585546\n"
     ]
    }
   ],
   "source": [
    "X = df_update_all_num[nongeo]\n",
    "y = df_update_all_num['salary']\n",
    "\n",
    "data_dmatrix=xgb.DMatrix(data=X, label=y)\n",
    "\n",
    "from sklearn.model_selection import train_test_split\n",
    "X_train, X_test, y_train, y_test= train_test_split(X, y, test_size=0.2, random_state=123)\n",
    "\n",
    "xgb_model = xgb.XGBRegressor(objective=\"reg:linear\", random_state=42)\n",
    "\n",
    "xgb_model.fit(X, y)\n",
    "\n",
    "y_pred = xgb_model.predict(X)\n",
    "\n",
    "mse=mean_squared_error(y, y_pred)\n",
    "\n",
    "print('RMSE:',np.sqrt(mse))\n",
    "\n",
    "params = {\"objective\":\"reg:squarederror\",'colsample_bytree': 0.3,'learning_rate': 0.1,\n",
    "                'max_depth': 5, 'alpha': 10}\n",
    "\n",
    "cv_results = xgb.cv(dtrain=data_dmatrix, params=params, nfold=3,\n",
    "                    num_boost_round=50,early_stopping_rounds=10,metrics=\"rmse\", as_pandas=True, seed=123)\n",
    "\n",
    "xg_reg = xgb.train(params=params, dtrain=data_dmatrix, num_boost_round=10)"
   ]
  },
  {
   "cell_type": "code",
   "execution_count": 163,
   "metadata": {
    "ExecuteTime": {
     "end_time": "2019-11-04T04:58:26.150643Z",
     "start_time": "2019-11-04T04:58:26.130631Z"
    }
   },
   "outputs": [
    {
     "data": {
      "text/html": [
       "<div>\n",
       "<style scoped>\n",
       "    .dataframe tbody tr th:only-of-type {\n",
       "        vertical-align: middle;\n",
       "    }\n",
       "\n",
       "    .dataframe tbody tr th {\n",
       "        vertical-align: top;\n",
       "    }\n",
       "\n",
       "    .dataframe thead th {\n",
       "        text-align: right;\n",
       "    }\n",
       "</style>\n",
       "<table border=\"1\" class=\"dataframe\">\n",
       "  <thead>\n",
       "    <tr style=\"text-align: right;\">\n",
       "      <th></th>\n",
       "      <th>rating</th>\n",
       "      <th>R</th>\n",
       "      <th>AI</th>\n",
       "      <th>Java</th>\n",
       "      <th>Big-Data</th>\n",
       "      <th>SQL</th>\n",
       "      <th>Python</th>\n",
       "      <th>Oracle</th>\n",
       "      <th>Spark</th>\n",
       "      <th>Microsoft-Office</th>\n",
       "      <th>Tableau</th>\n",
       "      <th>MATLAB</th>\n",
       "      <th>Machine-Learning</th>\n",
       "      <th>Hadoop</th>\n",
       "      <th>Kafka</th>\n",
       "      <th>C/C++</th>\n",
       "      <th>TensorFlow</th>\n",
       "      <th>NoSQL</th>\n",
       "    </tr>\n",
       "  </thead>\n",
       "  <tbody>\n",
       "    <tr>\n",
       "      <th>0</th>\n",
       "      <td>0.0</td>\n",
       "      <td>1</td>\n",
       "      <td>0</td>\n",
       "      <td>1</td>\n",
       "      <td>0</td>\n",
       "      <td>1</td>\n",
       "      <td>1</td>\n",
       "      <td>0</td>\n",
       "      <td>0</td>\n",
       "      <td>0</td>\n",
       "      <td>0</td>\n",
       "      <td>0</td>\n",
       "      <td>0</td>\n",
       "      <td>0</td>\n",
       "      <td>0</td>\n",
       "      <td>0</td>\n",
       "      <td>0</td>\n",
       "      <td>0</td>\n",
       "    </tr>\n",
       "    <tr>\n",
       "      <th>1</th>\n",
       "      <td>0.0</td>\n",
       "      <td>1</td>\n",
       "      <td>0</td>\n",
       "      <td>0</td>\n",
       "      <td>0</td>\n",
       "      <td>0</td>\n",
       "      <td>0</td>\n",
       "      <td>0</td>\n",
       "      <td>0</td>\n",
       "      <td>0</td>\n",
       "      <td>0</td>\n",
       "      <td>0</td>\n",
       "      <td>0</td>\n",
       "      <td>0</td>\n",
       "      <td>0</td>\n",
       "      <td>0</td>\n",
       "      <td>0</td>\n",
       "      <td>0</td>\n",
       "    </tr>\n",
       "    <tr>\n",
       "      <th>2</th>\n",
       "      <td>0.0</td>\n",
       "      <td>0</td>\n",
       "      <td>0</td>\n",
       "      <td>0</td>\n",
       "      <td>0</td>\n",
       "      <td>1</td>\n",
       "      <td>0</td>\n",
       "      <td>0</td>\n",
       "      <td>0</td>\n",
       "      <td>0</td>\n",
       "      <td>0</td>\n",
       "      <td>0</td>\n",
       "      <td>0</td>\n",
       "      <td>0</td>\n",
       "      <td>0</td>\n",
       "      <td>0</td>\n",
       "      <td>0</td>\n",
       "      <td>0</td>\n",
       "    </tr>\n",
       "    <tr>\n",
       "      <th>3</th>\n",
       "      <td>0.0</td>\n",
       "      <td>1</td>\n",
       "      <td>0</td>\n",
       "      <td>0</td>\n",
       "      <td>0</td>\n",
       "      <td>0</td>\n",
       "      <td>0</td>\n",
       "      <td>0</td>\n",
       "      <td>0</td>\n",
       "      <td>0</td>\n",
       "      <td>0</td>\n",
       "      <td>0</td>\n",
       "      <td>0</td>\n",
       "      <td>0</td>\n",
       "      <td>0</td>\n",
       "      <td>0</td>\n",
       "      <td>0</td>\n",
       "      <td>0</td>\n",
       "    </tr>\n",
       "    <tr>\n",
       "      <th>4</th>\n",
       "      <td>0.0</td>\n",
       "      <td>1</td>\n",
       "      <td>0</td>\n",
       "      <td>0</td>\n",
       "      <td>0</td>\n",
       "      <td>0</td>\n",
       "      <td>0</td>\n",
       "      <td>0</td>\n",
       "      <td>0</td>\n",
       "      <td>0</td>\n",
       "      <td>0</td>\n",
       "      <td>0</td>\n",
       "      <td>0</td>\n",
       "      <td>0</td>\n",
       "      <td>0</td>\n",
       "      <td>0</td>\n",
       "      <td>0</td>\n",
       "      <td>0</td>\n",
       "    </tr>\n",
       "    <tr>\n",
       "      <th>...</th>\n",
       "      <td>...</td>\n",
       "      <td>...</td>\n",
       "      <td>...</td>\n",
       "      <td>...</td>\n",
       "      <td>...</td>\n",
       "      <td>...</td>\n",
       "      <td>...</td>\n",
       "      <td>...</td>\n",
       "      <td>...</td>\n",
       "      <td>...</td>\n",
       "      <td>...</td>\n",
       "      <td>...</td>\n",
       "      <td>...</td>\n",
       "      <td>...</td>\n",
       "      <td>...</td>\n",
       "      <td>...</td>\n",
       "      <td>...</td>\n",
       "      <td>...</td>\n",
       "    </tr>\n",
       "    <tr>\n",
       "      <th>1487</th>\n",
       "      <td>3.7</td>\n",
       "      <td>1</td>\n",
       "      <td>0</td>\n",
       "      <td>0</td>\n",
       "      <td>0</td>\n",
       "      <td>1</td>\n",
       "      <td>0</td>\n",
       "      <td>0</td>\n",
       "      <td>0</td>\n",
       "      <td>0</td>\n",
       "      <td>0</td>\n",
       "      <td>0</td>\n",
       "      <td>0</td>\n",
       "      <td>0</td>\n",
       "      <td>0</td>\n",
       "      <td>0</td>\n",
       "      <td>0</td>\n",
       "      <td>0</td>\n",
       "    </tr>\n",
       "    <tr>\n",
       "      <th>1488</th>\n",
       "      <td>3.7</td>\n",
       "      <td>1</td>\n",
       "      <td>0</td>\n",
       "      <td>0</td>\n",
       "      <td>0</td>\n",
       "      <td>0</td>\n",
       "      <td>0</td>\n",
       "      <td>0</td>\n",
       "      <td>0</td>\n",
       "      <td>0</td>\n",
       "      <td>0</td>\n",
       "      <td>0</td>\n",
       "      <td>0</td>\n",
       "      <td>0</td>\n",
       "      <td>0</td>\n",
       "      <td>0</td>\n",
       "      <td>0</td>\n",
       "      <td>0</td>\n",
       "    </tr>\n",
       "    <tr>\n",
       "      <th>1489</th>\n",
       "      <td>0.0</td>\n",
       "      <td>1</td>\n",
       "      <td>0</td>\n",
       "      <td>0</td>\n",
       "      <td>0</td>\n",
       "      <td>0</td>\n",
       "      <td>0</td>\n",
       "      <td>0</td>\n",
       "      <td>0</td>\n",
       "      <td>0</td>\n",
       "      <td>0</td>\n",
       "      <td>0</td>\n",
       "      <td>0</td>\n",
       "      <td>0</td>\n",
       "      <td>0</td>\n",
       "      <td>0</td>\n",
       "      <td>0</td>\n",
       "      <td>0</td>\n",
       "    </tr>\n",
       "    <tr>\n",
       "      <th>1490</th>\n",
       "      <td>3.7</td>\n",
       "      <td>1</td>\n",
       "      <td>0</td>\n",
       "      <td>1</td>\n",
       "      <td>0</td>\n",
       "      <td>1</td>\n",
       "      <td>0</td>\n",
       "      <td>0</td>\n",
       "      <td>0</td>\n",
       "      <td>0</td>\n",
       "      <td>0</td>\n",
       "      <td>0</td>\n",
       "      <td>0</td>\n",
       "      <td>0</td>\n",
       "      <td>0</td>\n",
       "      <td>0</td>\n",
       "      <td>0</td>\n",
       "      <td>1</td>\n",
       "    </tr>\n",
       "    <tr>\n",
       "      <th>1491</th>\n",
       "      <td>4.5</td>\n",
       "      <td>1</td>\n",
       "      <td>1</td>\n",
       "      <td>0</td>\n",
       "      <td>0</td>\n",
       "      <td>0</td>\n",
       "      <td>0</td>\n",
       "      <td>0</td>\n",
       "      <td>0</td>\n",
       "      <td>0</td>\n",
       "      <td>0</td>\n",
       "      <td>0</td>\n",
       "      <td>0</td>\n",
       "      <td>0</td>\n",
       "      <td>0</td>\n",
       "      <td>0</td>\n",
       "      <td>0</td>\n",
       "      <td>0</td>\n",
       "    </tr>\n",
       "  </tbody>\n",
       "</table>\n",
       "<p>1492 rows × 18 columns</p>\n",
       "</div>"
      ],
      "text/plain": [
       "      rating  R  AI  Java  Big-Data  SQL  Python  Oracle  Spark  \\\n",
       "0        0.0  1   0     1         0    1       1       0      0   \n",
       "1        0.0  1   0     0         0    0       0       0      0   \n",
       "2        0.0  0   0     0         0    1       0       0      0   \n",
       "3        0.0  1   0     0         0    0       0       0      0   \n",
       "4        0.0  1   0     0         0    0       0       0      0   \n",
       "...      ... ..  ..   ...       ...  ...     ...     ...    ...   \n",
       "1487     3.7  1   0     0         0    1       0       0      0   \n",
       "1488     3.7  1   0     0         0    0       0       0      0   \n",
       "1489     0.0  1   0     0         0    0       0       0      0   \n",
       "1490     3.7  1   0     1         0    1       0       0      0   \n",
       "1491     4.5  1   1     0         0    0       0       0      0   \n",
       "\n",
       "      Microsoft-Office  Tableau  MATLAB  Machine-Learning  Hadoop  Kafka  \\\n",
       "0                    0        0       0                 0       0      0   \n",
       "1                    0        0       0                 0       0      0   \n",
       "2                    0        0       0                 0       0      0   \n",
       "3                    0        0       0                 0       0      0   \n",
       "4                    0        0       0                 0       0      0   \n",
       "...                ...      ...     ...               ...     ...    ...   \n",
       "1487                 0        0       0                 0       0      0   \n",
       "1488                 0        0       0                 0       0      0   \n",
       "1489                 0        0       0                 0       0      0   \n",
       "1490                 0        0       0                 0       0      0   \n",
       "1491                 0        0       0                 0       0      0   \n",
       "\n",
       "      C/C++  TensorFlow  NoSQL  \n",
       "0         0           0      0  \n",
       "1         0           0      0  \n",
       "2         0           0      0  \n",
       "3         0           0      0  \n",
       "4         0           0      0  \n",
       "...     ...         ...    ...  \n",
       "1487      0           0      0  \n",
       "1488      0           0      0  \n",
       "1489      0           0      0  \n",
       "1490      0           0      1  \n",
       "1491      0           0      0  \n",
       "\n",
       "[1492 rows x 18 columns]"
      ]
     },
     "execution_count": 163,
     "metadata": {},
     "output_type": "execute_result"
    }
   ],
   "source": [
    "X"
   ]
  },
  {
   "cell_type": "code",
   "execution_count": 164,
   "metadata": {
    "ExecuteTime": {
     "end_time": "2019-11-04T04:58:26.780692Z",
     "start_time": "2019-11-04T04:58:26.776043Z"
    }
   },
   "outputs": [
    {
     "data": {
      "text/plain": [
       "['rating',\n",
       " 'R',\n",
       " 'AI',\n",
       " 'Java',\n",
       " 'Big-Data',\n",
       " 'SQL',\n",
       " 'Python',\n",
       " 'Oracle',\n",
       " 'Spark',\n",
       " 'Microsoft-Office',\n",
       " 'Tableau',\n",
       " 'MATLAB',\n",
       " 'Machine-Learning',\n",
       " 'Hadoop',\n",
       " 'Kafka',\n",
       " 'C/C++',\n",
       " 'TensorFlow',\n",
       " 'NoSQL']"
      ]
     },
     "execution_count": 164,
     "metadata": {},
     "output_type": "execute_result"
    }
   ],
   "source": [
    "nongeo"
   ]
  },
  {
   "cell_type": "code",
   "execution_count": 165,
   "metadata": {
    "ExecuteTime": {
     "end_time": "2019-11-04T04:58:29.561919Z",
     "start_time": "2019-11-04T04:58:29.552715Z"
    }
   },
   "outputs": [
    {
     "data": {
      "text/html": [
       "<div>\n",
       "<style scoped>\n",
       "    .dataframe tbody tr th:only-of-type {\n",
       "        vertical-align: middle;\n",
       "    }\n",
       "\n",
       "    .dataframe tbody tr th {\n",
       "        vertical-align: top;\n",
       "    }\n",
       "\n",
       "    .dataframe thead th {\n",
       "        text-align: right;\n",
       "    }\n",
       "</style>\n",
       "<table border=\"1\" class=\"dataframe\">\n",
       "  <thead>\n",
       "    <tr style=\"text-align: right;\">\n",
       "      <th></th>\n",
       "      <th>6</th>\n",
       "    </tr>\n",
       "  </thead>\n",
       "  <tbody>\n",
       "    <tr>\n",
       "      <th>rating</th>\n",
       "      <td>0.0</td>\n",
       "    </tr>\n",
       "    <tr>\n",
       "      <th>R</th>\n",
       "      <td>1.0</td>\n",
       "    </tr>\n",
       "    <tr>\n",
       "      <th>AI</th>\n",
       "      <td>0.0</td>\n",
       "    </tr>\n",
       "    <tr>\n",
       "      <th>Java</th>\n",
       "      <td>1.0</td>\n",
       "    </tr>\n",
       "    <tr>\n",
       "      <th>Big-Data</th>\n",
       "      <td>0.0</td>\n",
       "    </tr>\n",
       "    <tr>\n",
       "      <th>SQL</th>\n",
       "      <td>0.0</td>\n",
       "    </tr>\n",
       "    <tr>\n",
       "      <th>Python</th>\n",
       "      <td>0.0</td>\n",
       "    </tr>\n",
       "    <tr>\n",
       "      <th>Oracle</th>\n",
       "      <td>0.0</td>\n",
       "    </tr>\n",
       "    <tr>\n",
       "      <th>Spark</th>\n",
       "      <td>0.0</td>\n",
       "    </tr>\n",
       "    <tr>\n",
       "      <th>Microsoft-Office</th>\n",
       "      <td>0.0</td>\n",
       "    </tr>\n",
       "    <tr>\n",
       "      <th>Tableau</th>\n",
       "      <td>0.0</td>\n",
       "    </tr>\n",
       "    <tr>\n",
       "      <th>MATLAB</th>\n",
       "      <td>0.0</td>\n",
       "    </tr>\n",
       "    <tr>\n",
       "      <th>Machine-Learning</th>\n",
       "      <td>0.0</td>\n",
       "    </tr>\n",
       "    <tr>\n",
       "      <th>Hadoop</th>\n",
       "      <td>0.0</td>\n",
       "    </tr>\n",
       "    <tr>\n",
       "      <th>Kafka</th>\n",
       "      <td>0.0</td>\n",
       "    </tr>\n",
       "    <tr>\n",
       "      <th>C/C++</th>\n",
       "      <td>0.0</td>\n",
       "    </tr>\n",
       "    <tr>\n",
       "      <th>TensorFlow</th>\n",
       "      <td>0.0</td>\n",
       "    </tr>\n",
       "    <tr>\n",
       "      <th>NoSQL</th>\n",
       "      <td>0.0</td>\n",
       "    </tr>\n",
       "  </tbody>\n",
       "</table>\n",
       "</div>"
      ],
      "text/plain": [
       "                    6\n",
       "rating            0.0\n",
       "R                 1.0\n",
       "AI                0.0\n",
       "Java              1.0\n",
       "Big-Data          0.0\n",
       "SQL               0.0\n",
       "Python            0.0\n",
       "Oracle            0.0\n",
       "Spark             0.0\n",
       "Microsoft-Office  0.0\n",
       "Tableau           0.0\n",
       "MATLAB            0.0\n",
       "Machine-Learning  0.0\n",
       "Hadoop            0.0\n",
       "Kafka             0.0\n",
       "C/C++             0.0\n",
       "TensorFlow        0.0\n",
       "NoSQL             0.0"
      ]
     },
     "execution_count": 165,
     "metadata": {},
     "output_type": "execute_result"
    }
   ],
   "source": [
    "X.iloc[[6]].T"
   ]
  },
  {
   "cell_type": "code",
   "execution_count": 166,
   "metadata": {
    "ExecuteTime": {
     "end_time": "2019-11-04T04:58:33.763387Z",
     "start_time": "2019-11-04T04:58:33.757062Z"
    }
   },
   "outputs": [
    {
     "data": {
      "text/plain": [
       "array([123346.62], dtype=float32)"
      ]
     },
     "execution_count": 166,
     "metadata": {},
     "output_type": "execute_result"
    }
   ],
   "source": [
    "y_pred = xgb_model.predict(X.iloc[[6]])\n",
    "y_pred"
   ]
  },
  {
   "cell_type": "code",
   "execution_count": 168,
   "metadata": {
    "ExecuteTime": {
     "end_time": "2019-11-04T04:59:58.886195Z",
     "start_time": "2019-11-04T04:59:58.879389Z"
    }
   },
   "outputs": [
    {
     "data": {
      "text/plain": [
       "[83272.195,\n",
       " 75148.79,\n",
       " 63646.77,\n",
       " 75148.79,\n",
       " 75148.79,\n",
       " 75148.79,\n",
       " 123346.62,\n",
       " 75148.79,\n",
       " 75148.79,\n",
       " 75148.79,\n",
       " 63646.77,\n",
       " 86696.516,\n",
       " 79051.65,\n",
       " 123346.62,\n",
       " 75148.79,\n",
       " 75148.79,\n",
       " 75148.79,\n",
       " 75148.79,\n",
       " 80057.79,\n",
       " 79051.65]"
      ]
     },
     "execution_count": 168,
     "metadata": {},
     "output_type": "execute_result"
    }
   ],
   "source": [
    "y_pred = xgb_model.predict(X[:20])\n",
    "list(y_pred)"
   ]
  },
  {
   "cell_type": "code",
   "execution_count": null,
   "metadata": {},
   "outputs": [],
   "source": []
  }
 ],
 "metadata": {
  "kernelspec": {
   "display_name": "Python 3",
   "language": "python",
   "name": "python3"
  },
  "language_info": {
   "codemirror_mode": {
    "name": "ipython",
    "version": 3
   },
   "file_extension": ".py",
   "mimetype": "text/x-python",
   "name": "python",
   "nbconvert_exporter": "python",
   "pygments_lexer": "ipython3",
   "version": "3.7.3"
  }
 },
 "nbformat": 4,
 "nbformat_minor": 2
}
