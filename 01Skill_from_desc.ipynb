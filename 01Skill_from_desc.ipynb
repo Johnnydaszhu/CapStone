{
 "cells": [
  {
   "cell_type": "code",
   "execution_count": 1,
   "metadata": {
    "ExecuteTime": {
     "end_time": "2019-11-04T01:57:37.724270Z",
     "start_time": "2019-11-04T01:57:35.633716Z"
    }
   },
   "outputs": [],
   "source": [
    "import pandas as pd\n",
    "import numpy as np\n",
    "df = pd.read_csv('/Users/jz/Downloads/job_data/df.csv')\n",
    "skill_count = pd.read_csv('skills2.csv')"
   ]
  },
  {
   "cell_type": "code",
   "execution_count": 8,
   "metadata": {
    "ExecuteTime": {
     "end_time": "2019-11-04T02:31:51.102282Z",
     "start_time": "2019-11-04T02:31:48.985737Z"
    }
   },
   "outputs": [
    {
     "name": "stderr",
     "output_type": "stream",
     "text": [
      "/Users/jz/anaconda3/lib/python3.7/site-packages/ipykernel_launcher.py:28: FutureWarning: The signature of `Series.to_csv` was aligned to that of `DataFrame.to_csv`, and argument 'header' will change its default value from False to True: please pass an explicit value to suppress this warning.\n"
     ]
    }
   ],
   "source": [
    "# one run to get them done\n",
    "df = pd.read_csv('2019-10-26-15-8-10-NEW_YORK.csv')\n",
    "skill_count = pd.read_csv('skills2.csv')[:30]\n",
    "\n",
    "df['desc'] = df['desc'].fillna('pass')\n",
    "skill_list = skill_count['skills']\n",
    "\n",
    "# create tuple of skill\n",
    "def skill_cell_func(cell):\n",
    "\n",
    "    skill_cell = ()\n",
    "    if cell =='pass':\n",
    "        pass\n",
    "    else:\n",
    "        for skill in skill_list:\n",
    "            if skill in cell:\n",
    "                skill_cell = skill_cell + (skill,)\n",
    "    return skill_cell\n",
    "\n",
    "# create list of skill list\n",
    "cell_list_list = []\n",
    "for cell in df['desc']:\n",
    "    cell_list = list(skill_cell_func(cell))\n",
    "    cell_list_list.append(cell_list)\n",
    "\n",
    "# export csv file of list of skill list and then concat with df in Excel\n",
    "cell_series = pd.Series(cell_list_list)\n",
    "cell_series.to_csv('skill_cell.csv',index=False)"
   ]
  },
  {
   "cell_type": "code",
   "execution_count": 2,
   "metadata": {
    "ExecuteTime": {
     "end_time": "2019-10-27T00:40:42.530961Z",
     "start_time": "2019-10-27T00:40:42.509748Z"
    }
   },
   "outputs": [
    {
     "data": {
      "text/html": [
       "<div>\n",
       "<style scoped>\n",
       "    .dataframe tbody tr th:only-of-type {\n",
       "        vertical-align: middle;\n",
       "    }\n",
       "\n",
       "    .dataframe tbody tr th {\n",
       "        vertical-align: top;\n",
       "    }\n",
       "\n",
       "    .dataframe thead th {\n",
       "        text-align: right;\n",
       "    }\n",
       "</style>\n",
       "<table border=\"1\" class=\"dataframe\">\n",
       "  <thead>\n",
       "    <tr style=\"text-align: right;\">\n",
       "      <th></th>\n",
       "      <th>skills</th>\n",
       "      <th>count</th>\n",
       "    </tr>\n",
       "  </thead>\n",
       "  <tbody>\n",
       "    <tr>\n",
       "      <th>0</th>\n",
       "      <td>Python</td>\n",
       "      <td>3325</td>\n",
       "    </tr>\n",
       "    <tr>\n",
       "      <th>1</th>\n",
       "      <td>SQL</td>\n",
       "      <td>3104</td>\n",
       "    </tr>\n",
       "    <tr>\n",
       "      <th>2</th>\n",
       "      <td>Machine Learning</td>\n",
       "      <td>2297</td>\n",
       "    </tr>\n",
       "    <tr>\n",
       "      <th>3</th>\n",
       "      <td>R</td>\n",
       "      <td>2234</td>\n",
       "    </tr>\n",
       "    <tr>\n",
       "      <th>4</th>\n",
       "      <td>Hadoop</td>\n",
       "      <td>1714</td>\n",
       "    </tr>\n",
       "    <tr>\n",
       "      <th>5</th>\n",
       "      <td>Spark</td>\n",
       "      <td>1531</td>\n",
       "    </tr>\n",
       "    <tr>\n",
       "      <th>6</th>\n",
       "      <td>Java</td>\n",
       "      <td>1480</td>\n",
       "    </tr>\n",
       "    <tr>\n",
       "      <th>7</th>\n",
       "      <td>Tableau</td>\n",
       "      <td>1236</td>\n",
       "    </tr>\n",
       "    <tr>\n",
       "      <th>8</th>\n",
       "      <td>Data Mining</td>\n",
       "      <td>1059</td>\n",
       "    </tr>\n",
       "    <tr>\n",
       "      <th>9</th>\n",
       "      <td>Hive</td>\n",
       "      <td>966</td>\n",
       "    </tr>\n",
       "  </tbody>\n",
       "</table>\n",
       "</div>"
      ],
      "text/plain": [
       "             skills  count\n",
       "0            Python   3325\n",
       "1               SQL   3104\n",
       "2  Machine Learning   2297\n",
       "3                 R   2234\n",
       "4            Hadoop   1714\n",
       "5             Spark   1531\n",
       "6              Java   1480\n",
       "7           Tableau   1236\n",
       "8       Data Mining   1059\n",
       "9              Hive    966"
      ]
     },
     "execution_count": 2,
     "metadata": {},
     "output_type": "execute_result"
    }
   ],
   "source": [
    "skill_count[:10]"
   ]
  },
  {
   "cell_type": "code",
   "execution_count": 3,
   "metadata": {
    "ExecuteTime": {
     "end_time": "2019-10-27T00:40:42.551070Z",
     "start_time": "2019-10-27T00:40:42.535616Z"
    }
   },
   "outputs": [
    {
     "data": {
      "text/html": [
       "<div>\n",
       "<style scoped>\n",
       "    .dataframe tbody tr th:only-of-type {\n",
       "        vertical-align: middle;\n",
       "    }\n",
       "\n",
       "    .dataframe tbody tr th {\n",
       "        vertical-align: top;\n",
       "    }\n",
       "\n",
       "    .dataframe thead th {\n",
       "        text-align: right;\n",
       "    }\n",
       "</style>\n",
       "<table border=\"1\" class=\"dataframe\">\n",
       "  <thead>\n",
       "    <tr style=\"text-align: right;\">\n",
       "      <th></th>\n",
       "      <th>Unnamed: 0</th>\n",
       "      <th>date</th>\n",
       "      <th>job_title</th>\n",
       "      <th>company</th>\n",
       "      <th>Reviews</th>\n",
       "      <th>location</th>\n",
       "      <th>desc</th>\n",
       "    </tr>\n",
       "  </thead>\n",
       "  <tbody>\n",
       "    <tr>\n",
       "      <th>0</th>\n",
       "      <td>0</td>\n",
       "      <td>0</td>\n",
       "      <td>Machine Lubrication Analyst</td>\n",
       "      <td>Coeur Mining, Inc.</td>\n",
       "      <td>0</td>\n",
       "      <td>Alaska</td>\n",
       "      <td>NaN</td>\n",
       "    </tr>\n",
       "    <tr>\n",
       "      <th>1</th>\n",
       "      <td>1</td>\n",
       "      <td>0</td>\n",
       "      <td>FILE CLERK</td>\n",
       "      <td>Mobile County Public Schools</td>\n",
       "      <td>184</td>\n",
       "      <td>Mobile County, AL</td>\n",
       "      <td>The duties include but are not limited to:\\n\\n...</td>\n",
       "    </tr>\n",
       "    <tr>\n",
       "      <th>2</th>\n",
       "      <td>2</td>\n",
       "      <td>0</td>\n",
       "      <td>Performance Improvement - Data Analyst</td>\n",
       "      <td>Yukon-Kuskokwim Health Corporation</td>\n",
       "      <td>0</td>\n",
       "      <td>Bethel, AK 99559</td>\n",
       "      <td>NaN</td>\n",
       "    </tr>\n",
       "    <tr>\n",
       "      <th>3</th>\n",
       "      <td>3</td>\n",
       "      <td>0</td>\n",
       "      <td>Store Worker</td>\n",
       "      <td>US Department of Defense</td>\n",
       "      <td>4,937</td>\n",
       "      <td>Redstone Arsenal, AL</td>\n",
       "      <td>NaN</td>\n",
       "    </tr>\n",
       "    <tr>\n",
       "      <th>4</th>\n",
       "      <td>4</td>\n",
       "      <td>0</td>\n",
       "      <td>Academic Tutor</td>\n",
       "      <td>AmeriCorps</td>\n",
       "      <td>2,426</td>\n",
       "      <td>Alaska</td>\n",
       "      <td>NaN</td>\n",
       "    </tr>\n",
       "    <tr>\n",
       "      <th>5</th>\n",
       "      <td>5</td>\n",
       "      <td>0</td>\n",
       "      <td>Receptionist/Data Entry</td>\n",
       "      <td>Fetch</td>\n",
       "      <td>12</td>\n",
       "      <td>Hoover, AL 35244</td>\n",
       "      <td>NaN</td>\n",
       "    </tr>\n",
       "    <tr>\n",
       "      <th>6</th>\n",
       "      <td>6</td>\n",
       "      <td>0</td>\n",
       "      <td>Timing Tower - Drag</td>\n",
       "      <td>NaN</td>\n",
       "      <td>0</td>\n",
       "      <td>Alaska</td>\n",
       "      <td>NaN</td>\n",
       "    </tr>\n",
       "    <tr>\n",
       "      <th>7</th>\n",
       "      <td>7</td>\n",
       "      <td>0</td>\n",
       "      <td>DATA ENTRY OPERATOR III</td>\n",
       "      <td>BBVA Compass</td>\n",
       "      <td>2,578</td>\n",
       "      <td>Decatur, AL</td>\n",
       "      <td>Company: Compass Bank dba BBVA Compass\\nLocati...</td>\n",
       "    </tr>\n",
       "    <tr>\n",
       "      <th>8</th>\n",
       "      <td>8</td>\n",
       "      <td>0</td>\n",
       "      <td>Election Clerk III</td>\n",
       "      <td>NaN</td>\n",
       "      <td>0</td>\n",
       "      <td>Juneau, AK</td>\n",
       "      <td>This position serves as the main receptionist ...</td>\n",
       "    </tr>\n",
       "    <tr>\n",
       "      <th>9</th>\n",
       "      <td>9</td>\n",
       "      <td>0</td>\n",
       "      <td>Receptionist/Data Entry</td>\n",
       "      <td>Community Development Institute Head Start</td>\n",
       "      <td>260</td>\n",
       "      <td>Alabama</td>\n",
       "      <td>Pay Period: Hourly\\nSalary Range: $ 12.53- $ 1...</td>\n",
       "    </tr>\n",
       "  </tbody>\n",
       "</table>\n",
       "</div>"
      ],
      "text/plain": [
       "   Unnamed: 0  date                               job_title  \\\n",
       "0           0     0             Machine Lubrication Analyst   \n",
       "1           1     0                              FILE CLERK   \n",
       "2           2     0  Performance Improvement - Data Analyst   \n",
       "3           3     0                            Store Worker   \n",
       "4           4     0                          Academic Tutor   \n",
       "5           5     0                 Receptionist/Data Entry   \n",
       "6           6     0                     Timing Tower - Drag   \n",
       "7           7     0                 DATA ENTRY OPERATOR III   \n",
       "8           8     0                      Election Clerk III   \n",
       "9           9     0                 Receptionist/Data Entry   \n",
       "\n",
       "                                      company Reviews              location  \\\n",
       "0                          Coeur Mining, Inc.       0                Alaska   \n",
       "1                Mobile County Public Schools     184     Mobile County, AL   \n",
       "2          Yukon-Kuskokwim Health Corporation       0      Bethel, AK 99559   \n",
       "3                    US Department of Defense   4,937  Redstone Arsenal, AL   \n",
       "4                                  AmeriCorps   2,426                Alaska   \n",
       "5                                       Fetch      12      Hoover, AL 35244   \n",
       "6                                         NaN       0                Alaska   \n",
       "7                                BBVA Compass   2,578           Decatur, AL   \n",
       "8                                         NaN       0            Juneau, AK   \n",
       "9  Community Development Institute Head Start     260               Alabama   \n",
       "\n",
       "                                                desc  \n",
       "0                                                NaN  \n",
       "1  The duties include but are not limited to:\\n\\n...  \n",
       "2                                                NaN  \n",
       "3                                                NaN  \n",
       "4                                                NaN  \n",
       "5                                                NaN  \n",
       "6                                                NaN  \n",
       "7  Company: Compass Bank dba BBVA Compass\\nLocati...  \n",
       "8  This position serves as the main receptionist ...  \n",
       "9  Pay Period: Hourly\\nSalary Range: $ 12.53- $ 1...  "
      ]
     },
     "execution_count": 3,
     "metadata": {},
     "output_type": "execute_result"
    }
   ],
   "source": [
    "df[:10]"
   ]
  },
  {
   "cell_type": "code",
   "execution_count": 4,
   "metadata": {
    "ExecuteTime": {
     "end_time": "2019-10-27T00:40:42.580054Z",
     "start_time": "2019-10-27T00:40:42.554244Z"
    }
   },
   "outputs": [],
   "source": [
    "df['desc'] = df['desc'].fillna('pass')"
   ]
  },
  {
   "cell_type": "code",
   "execution_count": 5,
   "metadata": {
    "ExecuteTime": {
     "end_time": "2019-10-27T00:40:42.593164Z",
     "start_time": "2019-10-27T00:40:42.584063Z"
    }
   },
   "outputs": [
    {
     "data": {
      "text/plain": [
       "'pass'"
      ]
     },
     "execution_count": 5,
     "metadata": {},
     "output_type": "execute_result"
    }
   ],
   "source": [
    "df['desc'][3]"
   ]
  },
  {
   "cell_type": "code",
   "execution_count": 6,
   "metadata": {
    "ExecuteTime": {
     "end_time": "2019-10-27T00:40:42.602244Z",
     "start_time": "2019-10-27T00:40:42.597373Z"
    }
   },
   "outputs": [],
   "source": [
    "skill_list = skill_count['skills']"
   ]
  },
  {
   "cell_type": "code",
   "execution_count": 7,
   "metadata": {
    "ExecuteTime": {
     "end_time": "2019-10-27T00:40:42.610036Z",
     "start_time": "2019-10-27T00:40:42.605713Z"
    }
   },
   "outputs": [],
   "source": [
    "def skill_cell_func(cell):\n",
    "\n",
    "    skill_cell = ()\n",
    "    if cell =='pass':\n",
    "        pass\n",
    "    else:\n",
    "        for skill in skill_list:\n",
    "            if skill in cell:\n",
    "                skill_cell = skill_cell + (skill,)\n",
    "    return skill_cell"
   ]
  },
  {
   "cell_type": "code",
   "execution_count": 8,
   "metadata": {
    "ExecuteTime": {
     "end_time": "2019-10-27T00:41:28.469210Z",
     "start_time": "2019-10-27T00:40:42.615907Z"
    }
   },
   "outputs": [
    {
     "data": {
      "text/plain": [
       "[[],\n",
       " ['R', 'MCP'],\n",
       " [],\n",
       " [],\n",
       " [],\n",
       " [],\n",
       " [],\n",
       " ['R'],\n",
       " ['R', 'Excel', 'Microsoft Word', 'UI'],\n",
       " ['R', 'Microsoft Office', 'Excel', 'IAT']]"
      ]
     },
     "execution_count": 8,
     "metadata": {},
     "output_type": "execute_result"
    }
   ],
   "source": [
    "cell_list_list = []\n",
    "for cell in df['desc']:\n",
    "    cell_list = list(skill_cell_func(cell))\n",
    "    cell_list_list.append(cell_list)\n",
    "cell_list_list[:10]"
   ]
  },
  {
   "cell_type": "code",
   "execution_count": 10,
   "metadata": {
    "ExecuteTime": {
     "end_time": "2019-10-27T00:41:28.634088Z",
     "start_time": "2019-10-27T00:41:28.480373Z"
    }
   },
   "outputs": [
    {
     "name": "stderr",
     "output_type": "stream",
     "text": [
      "/Users/jz/anaconda3/lib/python3.7/site-packages/ipykernel_launcher.py:2: FutureWarning: The signature of `Series.to_csv` was aligned to that of `DataFrame.to_csv`, and argument 'header' will change its default value from False to True: please pass an explicit value to suppress this warning.\n",
      "  \n"
     ]
    }
   ],
   "source": [
    "cell_series = pd.Series(cell_list_list)\n",
    "cell_series.to_csv('skill_cell.csv',index=False)"
   ]
  }
 ],
 "metadata": {
  "kernelspec": {
   "display_name": "Python 3",
   "language": "python",
   "name": "python3"
  },
  "language_info": {
   "codemirror_mode": {
    "name": "ipython",
    "version": 3
   },
   "file_extension": ".py",
   "mimetype": "text/x-python",
   "name": "python",
   "nbconvert_exporter": "python",
   "pygments_lexer": "ipython3",
   "version": "3.7.3"
  }
 },
 "nbformat": 4,
 "nbformat_minor": 2
}
