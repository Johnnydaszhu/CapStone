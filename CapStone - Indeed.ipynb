{
 "cells": [
  {
   "cell_type": "code",
   "execution_count": 33,
   "metadata": {
    "ExecuteTime": {
     "end_time": "2019-10-20T14:44:04.682090Z",
     "start_time": "2019-10-20T14:44:04.651820Z"
    }
   },
   "outputs": [],
   "source": [
    "import pandas as pd\n",
    "import numpy as np\n",
    "df = pd.read_csv('indeed_job_dataset_short.csv')"
   ]
  },
  {
   "cell_type": "code",
   "execution_count": 34,
   "metadata": {
    "ExecuteTime": {
     "end_time": "2019-10-20T14:44:05.266743Z",
     "start_time": "2019-10-20T14:44:05.262165Z"
    }
   },
   "outputs": [
    {
     "data": {
      "text/plain": [
       "(5715, 13)"
      ]
     },
     "execution_count": 34,
     "metadata": {},
     "output_type": "execute_result"
    }
   ],
   "source": [
    "df.shape"
   ]
  },
  {
   "cell_type": "code",
   "execution_count": 35,
   "metadata": {
    "ExecuteTime": {
     "end_time": "2019-10-20T14:44:06.106286Z",
     "start_time": "2019-10-20T14:44:06.088351Z"
    }
   },
   "outputs": [
    {
     "data": {
      "text/html": [
       "<div>\n",
       "<style scoped>\n",
       "    .dataframe tbody tr th:only-of-type {\n",
       "        vertical-align: middle;\n",
       "    }\n",
       "\n",
       "    .dataframe tbody tr th {\n",
       "        vertical-align: top;\n",
       "    }\n",
       "\n",
       "    .dataframe thead th {\n",
       "        text-align: right;\n",
       "    }\n",
       "</style>\n",
       "<table border=\"1\" class=\"dataframe\">\n",
       "  <thead>\n",
       "    <tr style=\"text-align: right;\">\n",
       "      <th></th>\n",
       "      <th>Job_Title</th>\n",
       "      <th>Queried_Salary</th>\n",
       "      <th>Job_Type</th>\n",
       "      <th>Skill</th>\n",
       "      <th>No_of_Skills</th>\n",
       "      <th>Company</th>\n",
       "      <th>No_of_Reviews</th>\n",
       "      <th>No_of_Stars</th>\n",
       "      <th>Date_Since_Posted</th>\n",
       "      <th>Location</th>\n",
       "      <th>Company_Revenue</th>\n",
       "      <th>Company_Employees</th>\n",
       "      <th>Company_Industry</th>\n",
       "    </tr>\n",
       "  </thead>\n",
       "  <tbody>\n",
       "    <tr>\n",
       "      <td>0</td>\n",
       "      <td>Data Scientist</td>\n",
       "      <td>&lt;80000</td>\n",
       "      <td>data_scientist</td>\n",
       "      <td>['SAP', 'SQL']</td>\n",
       "      <td>2</td>\n",
       "      <td>Express Scripts</td>\n",
       "      <td>3301.0</td>\n",
       "      <td>3.3</td>\n",
       "      <td>1.0</td>\n",
       "      <td>MO</td>\n",
       "      <td>More than $10B (USD)</td>\n",
       "      <td>10,000+</td>\n",
       "      <td>Health Care</td>\n",
       "    </tr>\n",
       "    <tr>\n",
       "      <td>1</td>\n",
       "      <td>Data Scientist</td>\n",
       "      <td>&lt;80000</td>\n",
       "      <td>data_scientist</td>\n",
       "      <td>['Machine Learning', 'R', 'SAS', 'SQL', 'Python']</td>\n",
       "      <td>5</td>\n",
       "      <td>Money Mart Financial Services</td>\n",
       "      <td>NaN</td>\n",
       "      <td>NaN</td>\n",
       "      <td>15.0</td>\n",
       "      <td>TX</td>\n",
       "      <td>NaN</td>\n",
       "      <td>NaN</td>\n",
       "      <td>NaN</td>\n",
       "    </tr>\n",
       "    <tr>\n",
       "      <td>2</td>\n",
       "      <td>Data Scientist</td>\n",
       "      <td>&lt;80000</td>\n",
       "      <td>data_scientist</td>\n",
       "      <td>['Data Mining', 'Data Management', 'R', 'SAS',...</td>\n",
       "      <td>9</td>\n",
       "      <td>comScore</td>\n",
       "      <td>62.0</td>\n",
       "      <td>3.5</td>\n",
       "      <td>1.0</td>\n",
       "      <td>OR</td>\n",
       "      <td>NaN</td>\n",
       "      <td>NaN</td>\n",
       "      <td>NaN</td>\n",
       "    </tr>\n",
       "    <tr>\n",
       "      <td>3</td>\n",
       "      <td>Graduate Studies Program - Data Scientist</td>\n",
       "      <td>&lt;80000</td>\n",
       "      <td>data_scientist</td>\n",
       "      <td>['Certified Internal Auditor']</td>\n",
       "      <td>1</td>\n",
       "      <td>Central Intelligence Agency</td>\n",
       "      <td>158.0</td>\n",
       "      <td>4.3</td>\n",
       "      <td>30.0</td>\n",
       "      <td>DC</td>\n",
       "      <td>NaN</td>\n",
       "      <td>NaN</td>\n",
       "      <td>Government</td>\n",
       "    </tr>\n",
       "    <tr>\n",
       "      <td>4</td>\n",
       "      <td>Data Scientist I</td>\n",
       "      <td>&lt;80000</td>\n",
       "      <td>data_scientist</td>\n",
       "      <td>['Statistical Software', 'Time Management', 'R...</td>\n",
       "      <td>7</td>\n",
       "      <td>Federal Reserve Bank of Dallas</td>\n",
       "      <td>495.0</td>\n",
       "      <td>4.1</td>\n",
       "      <td>30.0</td>\n",
       "      <td>TX</td>\n",
       "      <td>NaN</td>\n",
       "      <td>Less than 10,000</td>\n",
       "      <td>Banks and Financial Services</td>\n",
       "    </tr>\n",
       "  </tbody>\n",
       "</table>\n",
       "</div>"
      ],
      "text/plain": [
       "                                   Job_Title Queried_Salary        Job_Type  \\\n",
       "0                             Data Scientist         <80000  data_scientist   \n",
       "1                             Data Scientist         <80000  data_scientist   \n",
       "2                             Data Scientist         <80000  data_scientist   \n",
       "3  Graduate Studies Program - Data Scientist         <80000  data_scientist   \n",
       "4                           Data Scientist I         <80000  data_scientist   \n",
       "\n",
       "                                               Skill  No_of_Skills  \\\n",
       "0                                     ['SAP', 'SQL']             2   \n",
       "1  ['Machine Learning', 'R', 'SAS', 'SQL', 'Python']             5   \n",
       "2  ['Data Mining', 'Data Management', 'R', 'SAS',...             9   \n",
       "3                     ['Certified Internal Auditor']             1   \n",
       "4  ['Statistical Software', 'Time Management', 'R...             7   \n",
       "\n",
       "                          Company  No_of_Reviews  No_of_Stars  \\\n",
       "0                 Express Scripts         3301.0          3.3   \n",
       "1   Money Mart Financial Services            NaN          NaN   \n",
       "2                        comScore           62.0          3.5   \n",
       "3     Central Intelligence Agency          158.0          4.3   \n",
       "4  Federal Reserve Bank of Dallas          495.0          4.1   \n",
       "\n",
       "   Date_Since_Posted Location       Company_Revenue Company_Employees  \\\n",
       "0                1.0       MO  More than $10B (USD)           10,000+   \n",
       "1               15.0       TX                   NaN               NaN   \n",
       "2                1.0       OR                   NaN               NaN   \n",
       "3               30.0       DC                   NaN               NaN   \n",
       "4               30.0       TX                   NaN  Less than 10,000   \n",
       "\n",
       "               Company_Industry  \n",
       "0                   Health Care  \n",
       "1                           NaN  \n",
       "2                           NaN  \n",
       "3                    Government  \n",
       "4  Banks and Financial Services  "
      ]
     },
     "execution_count": 35,
     "metadata": {},
     "output_type": "execute_result"
    }
   ],
   "source": [
    "df.head()"
   ]
  },
  {
   "cell_type": "code",
   "execution_count": 46,
   "metadata": {
    "ExecuteTime": {
     "end_time": "2019-10-20T15:12:05.606910Z",
     "start_time": "2019-10-20T15:12:05.594909Z"
    }
   },
   "outputs": [],
   "source": [
    "df_dum = pd.get_dummies(df['Job_Title'])"
   ]
  },
  {
   "cell_type": "code",
   "execution_count": 47,
   "metadata": {
    "ExecuteTime": {
     "end_time": "2019-10-20T15:12:06.283712Z",
     "start_time": "2019-10-20T15:12:06.279216Z"
    }
   },
   "outputs": [
    {
     "data": {
      "text/plain": [
       "(5715, 2314)"
      ]
     },
     "execution_count": 47,
     "metadata": {},
     "output_type": "execute_result"
    }
   ],
   "source": [
    "df_dum.shape"
   ]
  },
  {
   "cell_type": "code",
   "execution_count": null,
   "metadata": {},
   "outputs": [],
   "source": [
    "df_dum.to_csv(index=False)"
   ]
  }
 ],
 "metadata": {
  "kernelspec": {
   "display_name": "Python 3",
   "language": "python",
   "name": "python3"
  },
  "language_info": {
   "codemirror_mode": {
    "name": "ipython",
    "version": 3
   },
   "file_extension": ".py",
   "mimetype": "text/x-python",
   "name": "python",
   "nbconvert_exporter": "python",
   "pygments_lexer": "ipython3",
   "version": "3.7.4"
  }
 },
 "nbformat": 4,
 "nbformat_minor": 2
}
