{
 "cells": [
  {
   "cell_type": "code",
   "execution_count": null,
   "metadata": {
    "ExecuteTime": {
     "end_time": "2019-11-06T02:17:30.065433Z",
     "start_time": "2019-11-06T02:17:29.389324Z"
    }
   },
   "outputs": [],
   "source": [
    "%matplotlib inline"
   ]
  },
  {
   "cell_type": "code",
   "execution_count": null,
   "metadata": {
    "ExecuteTime": {
     "end_time": "2019-11-06T02:17:30.589240Z",
     "start_time": "2019-11-06T02:17:30.067998Z"
    }
   },
   "outputs": [],
   "source": [
    "import pandas as pd\n",
    "import numpy as np"
   ]
  },
  {
   "cell_type": "code",
   "execution_count": null,
   "metadata": {
    "ExecuteTime": {
     "end_time": "2019-11-06T02:17:30.617795Z",
     "start_time": "2019-11-06T02:17:30.592015Z"
    }
   },
   "outputs": [],
   "source": [
    "df_nyc_salary = pd.read_csv('nyc_salary.csv')\n",
    "df_skill_list = pd.read_csv('skill_cell_nyc.csv', header=None)"
   ]
  },
  {
   "cell_type": "code",
   "execution_count": null,
   "metadata": {
    "ExecuteTime": {
     "end_time": "2019-11-06T02:17:30.626992Z",
     "start_time": "2019-11-06T02:17:30.620574Z"
    }
   },
   "outputs": [],
   "source": [
    "df_update = pd.concat([df_nyc_salary, df_skill_list], axis=1).drop(columns='desc')"
   ]
  },
  {
   "cell_type": "code",
   "execution_count": null,
   "metadata": {
    "ExecuteTime": {
     "end_time": "2019-11-06T02:17:30.633644Z",
     "start_time": "2019-11-06T02:17:30.630238Z"
    }
   },
   "outputs": [],
   "source": [
    "df_update.columns = ['company', 'rating', 'title', 'location', 'min','max','datepost','skills']"
   ]
  },
  {
   "cell_type": "code",
   "execution_count": null,
   "metadata": {
    "ExecuteTime": {
     "end_time": "2019-11-06T03:22:24.961550Z",
     "start_time": "2019-11-06T03:22:24.941580Z"
    }
   },
   "outputs": [],
   "source": [
    "df_update.describe()"
   ]
  },
  {
   "cell_type": "code",
   "execution_count": null,
   "metadata": {
    "ExecuteTime": {
     "end_time": "2019-11-06T03:28:23.555419Z",
     "start_time": "2019-11-06T03:28:23.141514Z"
    }
   },
   "outputs": [],
   "source": [
    "import plotly.express as px\n",
    "tips = df_update.dropna()\n",
    "fig = px.histogram(tips, x=\"rating\",\n",
    "                   marginal=\"violin\", # or violin, rug\n",
    "                   hover_data=tips.columns)\n",
    "fig.show()"
   ]
  },
  {
   "cell_type": "code",
   "execution_count": null,
   "metadata": {
    "ExecuteTime": {
     "end_time": "2019-11-06T03:11:59.120695Z",
     "start_time": "2019-11-06T03:11:59.111187Z"
    }
   },
   "outputs": [],
   "source": [
    "df_update['rating']"
   ]
  },
  {
   "cell_type": "code",
   "execution_count": null,
   "metadata": {
    "ExecuteTime": {
     "end_time": "2019-11-06T02:17:31.158658Z",
     "start_time": "2019-11-06T02:17:30.660631Z"
    }
   },
   "outputs": [],
   "source": [
    "df_noskill = df_update.drop(['skills'], axis=1)\n",
    "df_skill = df_update['skills'].str.get_dummies(sep=',')\n",
    "df_skill_rank = df_skill.sum().to_frame(name='count').sort_values(by=['count'], ascending=False)[:50]\n",
    "df_skill_rank.sort_values(by=['count'], ascending=True).plot.barh(figsize=(20,20))"
   ]
  },
  {
   "cell_type": "code",
   "execution_count": null,
   "metadata": {
    "ExecuteTime": {
     "end_time": "2019-11-06T02:17:31.184972Z",
     "start_time": "2019-11-06T02:17:31.163030Z"
    }
   },
   "outputs": [],
   "source": [
    "df_update_all_num = pd.concat([df_update, df_skill], axis=1)\n",
    "df_update_all_num = df_update_all_num.drop(columns=['company','title','location','skills','datepost'])\n",
    "df_update_all_num"
   ]
  },
  {
   "cell_type": "code",
   "execution_count": null,
   "metadata": {
    "ExecuteTime": {
     "end_time": "2019-11-06T02:17:31.192607Z",
     "start_time": "2019-11-06T02:17:31.188129Z"
    }
   },
   "outputs": [],
   "source": [
    "df_update_all_num.columns"
   ]
  },
  {
   "cell_type": "code",
   "execution_count": null,
   "metadata": {
    "ExecuteTime": {
     "end_time": "2019-11-06T02:17:31.200622Z",
     "start_time": "2019-11-06T02:17:31.195466Z"
    }
   },
   "outputs": [],
   "source": [
    "df_update_all_num = df_update_all_num.sort_values('max', ascending=False)"
   ]
  },
  {
   "cell_type": "code",
   "execution_count": null,
   "metadata": {
    "ExecuteTime": {
     "end_time": "2019-11-06T02:17:31.228145Z",
     "start_time": "2019-11-06T02:17:31.204046Z"
    }
   },
   "outputs": [],
   "source": [
    "df_update_all_num"
   ]
  },
  {
   "cell_type": "code",
   "execution_count": null,
   "metadata": {
    "ExecuteTime": {
     "end_time": "2019-11-06T02:17:31.248057Z",
     "start_time": "2019-11-06T02:17:31.231223Z"
    }
   },
   "outputs": [],
   "source": [
    "df_update_all_num = df_update_all_num.reset_index(drop=True)\n",
    "df_update_all_num.head()\n"
   ]
  },
  {
   "cell_type": "code",
   "execution_count": null,
   "metadata": {
    "ExecuteTime": {
     "end_time": "2019-11-06T02:17:32.363811Z",
     "start_time": "2019-11-06T02:17:31.250677Z"
    }
   },
   "outputs": [],
   "source": [
    "import matplotlib.pyplot as plt\n",
    "import xgboost as xgb\n",
    "import math\n",
    "from sklearn.metrics import mean_squared_error\n",
    "from sklearn.metrics import accuracy_score\n",
    "from xgboost import XGBClassifier"
   ]
  },
  {
   "cell_type": "code",
   "execution_count": null,
   "metadata": {
    "ExecuteTime": {
     "end_time": "2019-11-06T02:17:32.371119Z",
     "start_time": "2019-11-06T02:17:32.366639Z"
    }
   },
   "outputs": [],
   "source": [
    "feature_names = list(df_update_all_num.drop(columns=['min','max']).columns)"
   ]
  },
  {
   "cell_type": "code",
   "execution_count": null,
   "metadata": {
    "ExecuteTime": {
     "end_time": "2019-11-06T02:17:32.380417Z",
     "start_time": "2019-11-06T02:17:32.373661Z"
    }
   },
   "outputs": [],
   "source": [
    "def max_n_estimators(start_n_estimators,max_n_estimators, step):\n",
    "    RMSE_list = []\n",
    "    n_estimators_list = []\n",
    "\n",
    "    X = df_update_all_num[feature_names].values\n",
    "    y = df_update_all_num['max'].values\n",
    "\n",
    "    data_dmatrix=xgb.DMatrix(data=X, label=y)\n",
    "\n",
    "    from sklearn.model_selection import train_test_split\n",
    "    X_train, X_test, y_train, y_test= train_test_split(X, y, test_size=0.2, random_state=123)\n",
    "\n",
    "\n",
    "    for n_estimators in np.arange(start_n_estimators,max_n_estimators, step):\n",
    "        xgb_model = xgb.XGBRegressor(objective=\"reg:squarederror\", random_state=42,n_estimators = n_estimators)\n",
    "\n",
    "        xgb_model.fit(X_train, y_train)\n",
    "\n",
    "        y_pred = xgb_model.predict(X)\n",
    "\n",
    "        mse=mean_squared_error(y, y_pred)\n",
    "        n_estimators_list.append(n_estimators)\n",
    "        RMSE_list.append(np.sqrt(mse))\n",
    "    df = pd.DataFrame({'n_estimators_list' : n_estimators_list,\n",
    "                           'RMSE_list' : RMSE_list},\n",
    "                          columns=['n_estimators_list','RMSE_list'])\n",
    "    return df"
   ]
  },
  {
   "cell_type": "code",
   "execution_count": null,
   "metadata": {
    "ExecuteTime": {
     "end_time": "2019-11-06T02:19:54.281332Z",
     "start_time": "2019-11-06T02:17:32.383079Z"
    },
    "scrolled": true
   },
   "outputs": [],
   "source": [
    "df_nestimators = max_n_estimators(50,5000,50)"
   ]
  },
  {
   "cell_type": "code",
   "execution_count": null,
   "metadata": {
    "ExecuteTime": {
     "end_time": "2019-11-06T02:19:55.776398Z",
     "start_time": "2019-11-06T02:19:54.285579Z"
    }
   },
   "outputs": [],
   "source": [
    "import plotly.graph_objects as go\n",
    "\n",
    "\n",
    "fig = go.Figure()\n",
    "\n",
    "# Add traces\n",
    "fig.add_trace(go.Scatter(x=df_nestimators['n_estimators_list'][1:], y=df_nestimators['RMSE_list'][1:],\n",
    "                    mode='markers',\n",
    "                    name='n_estimators'))\n",
    "fig.show()"
   ]
  },
  {
   "cell_type": "code",
   "execution_count": null,
   "metadata": {
    "ExecuteTime": {
     "end_time": "2019-11-06T02:19:56.762220Z",
     "start_time": "2019-11-06T02:19:55.778793Z"
    }
   },
   "outputs": [],
   "source": [
    "X = df_update_all_num[feature_names]\n",
    "y = df_update_all_num['max']\n",
    "\n",
    "data_dmatrix=xgb.DMatrix(data=X, label=y)\n",
    "\n",
    "from sklearn.model_selection import train_test_split\n",
    "X_train, X_test, y_train, y_test= train_test_split(X, y, test_size=0.2, random_state=123)\n",
    "\n",
    "xgb_model_max = xgb.XGBRegressor(objective=\"reg:squarederror\", random_state=123,n_estimators = 1700)\n",
    "\n",
    "xgb_model_max.fit(X_train, y_train)\n",
    "\n",
    "y_pred_max = xgb_model_max.predict(X)\n",
    "\n",
    "mse=mean_squared_error(y, y_pred_max)\n",
    "\n",
    "print('RMSE:',np.sqrt(mse))"
   ]
  },
  {
   "cell_type": "code",
   "execution_count": null,
   "metadata": {
    "ExecuteTime": {
     "end_time": "2019-11-06T02:19:57.971277Z",
     "start_time": "2019-11-06T02:19:56.765293Z"
    }
   },
   "outputs": [],
   "source": [
    "X = df_update_all_num[feature_names]\n",
    "y = df_update_all_num['min']\n",
    "\n",
    "data_dmatrix=xgb.DMatrix(data=X, label=y)\n",
    "\n",
    "from sklearn.model_selection import train_test_split\n",
    "X_train, X_test, y_train, y_test= train_test_split(X, y, test_size=0.2, random_state=123)\n",
    "\n",
    "xgb_model_min = xgb.XGBRegressor(objective=\"reg:squarederror\", random_state=123,n_estimators = 1700)\n",
    "\n",
    "xgb_model_min.fit(X_train, y_train)\n",
    "\n",
    "y_pred_min = xgb_model_min.predict(X)\n",
    "\n",
    "mse=mean_squared_error(y, y_pred_min)\n",
    "\n",
    "print('RMSE:',np.sqrt(mse))"
   ]
  },
  {
   "cell_type": "code",
   "execution_count": null,
   "metadata": {
    "ExecuteTime": {
     "end_time": "2019-11-06T02:19:58.414089Z",
     "start_time": "2019-11-06T02:19:57.973777Z"
    }
   },
   "outputs": [],
   "source": [
    "import matplotlib.pyplot as plt\n",
    "\n",
    "xgb.plot_tree(xgb_model_min,num_trees=20)\n",
    "plt.rcParams['figure.figsize'] = [20, 20]\n",
    "plt.show()"
   ]
  },
  {
   "cell_type": "code",
   "execution_count": null,
   "metadata": {
    "ExecuteTime": {
     "end_time": "2019-11-06T02:19:58.432574Z",
     "start_time": "2019-11-06T02:19:58.417636Z"
    }
   },
   "outputs": [],
   "source": [
    "y_pred_com = pd.DataFrame(\n",
    "    {'y_min': df_update_all_num['min'],\n",
    "     'y_max': df_update_all_num['max'],\n",
    "     'y_pred_min': y_pred_min,\n",
    "     'y_pred_max': y_pred_max,\n",
    "    })\n",
    "y_pred_com"
   ]
  },
  {
   "cell_type": "code",
   "execution_count": null,
   "metadata": {
    "ExecuteTime": {
     "end_time": "2019-11-06T02:19:58.662237Z",
     "start_time": "2019-11-06T02:19:58.435515Z"
    }
   },
   "outputs": [],
   "source": [
    "import plotly.graph_objects as go\n",
    "\n",
    "\n",
    "fig = go.Figure()\n",
    "\n",
    "# Add traces\n",
    "fig.add_trace(go.Scatter(x=np.arange(0,496), y=y_pred_com['y_pred_min'],\n",
    "                    mode='markers',\n",
    "                    name='y_pred_min'))\n",
    "fig.add_trace(go.Scatter(x=np.arange(0,496), y=y_pred_com['y_pred_max'],\n",
    "                    mode='markers',\n",
    "                    name='y_pred_max'))\n",
    "fig.add_trace(go.Scatter(x=np.arange(0,496), y=y_pred_com['y_min'],\n",
    "                    mode='markers',\n",
    "                    name='y_min'))\n",
    "fig.add_trace(go.Scatter(x=np.arange(0,496), y=y_pred_com['y_max'],\n",
    "                    mode='markers',\n",
    "                    name='y_max'))\n",
    "fig.show()"
   ]
  },
  {
   "cell_type": "code",
   "execution_count": null,
   "metadata": {
    "ExecuteTime": {
     "end_time": "2019-11-06T02:19:58.680840Z",
     "start_time": "2019-11-06T02:19:58.668643Z"
    }
   },
   "outputs": [],
   "source": [
    "import pickle\n",
    "pickle.dump(xgb_model_min, open('ny_min_xgb_model_min.pickle', 'wb'))\n",
    "pickle.dump(xgb_model_max, open('ny_max_xgb_model_min.pickle', 'wb'))"
   ]
  },
  {
   "cell_type": "code",
   "execution_count": null,
   "metadata": {
    "ExecuteTime": {
     "end_time": "2019-11-06T02:19:58.694393Z",
     "start_time": "2019-11-06T02:19:58.684622Z"
    }
   },
   "outputs": [],
   "source": [
    "xgb_model_min_loaded = pickle.load(open('ny_min_xgb_model_min.pickle', \"rb\"))\n",
    "xgb_model_max_loaded = pickle.load(open('ny_max_xgb_model_min.pickle', \"rb\"))\n",
    "import os\n",
    "print(round(os.path.getsize('ny_max_xgb_model_min.pickle')/1000000,1), 'MB')"
   ]
  },
  {
   "cell_type": "code",
   "execution_count": null,
   "metadata": {
    "ExecuteTime": {
     "end_time": "2019-11-06T02:19:58.706182Z",
     "start_time": "2019-11-06T02:19:58.696965Z"
    }
   },
   "outputs": [],
   "source": [
    "print('Predicted Salary Range($): ',int(xgb_model_min_loaded.predict(X[:1])),'~',int(xgb_model_max_loaded.predict(X[:1])))"
   ]
  },
  {
   "cell_type": "code",
   "execution_count": null,
   "metadata": {
    "ExecuteTime": {
     "end_time": "2019-11-06T03:48:04.139621Z",
     "start_time": "2019-11-06T03:48:04.134278Z"
    }
   },
   "outputs": [],
   "source": [
    "def NYC_salary_with_skills(rating,inputs_list):\n",
    "    sample_list = [0] * (len(X.columns))\n",
    "    input_X = pd.DataFrame([sample_list],\n",
    "                 columns =list(X.columns))\n",
    "\n",
    "    for inputs in inputs_list:\n",
    "        if inputs in list(input_X.columns):\n",
    "            input_X[inputs] = 1\n",
    "    input_X['rating'] = rating\n",
    "    salary = (int(xgb_model_min_loaded.predict(input_X[:1])),int(xgb_model_max_loaded.predict(input_X[:1])))\n",
    "    return salary"
   ]
  },
  {
   "cell_type": "code",
   "execution_count": null,
   "metadata": {
    "ExecuteTime": {
     "end_time": "2019-11-06T03:48:04.925928Z",
     "start_time": "2019-11-06T03:48:04.913845Z"
    }
   },
   "outputs": [],
   "source": [
    "NYC_salary_with_skills(3.6,['Python','SQL','Tableau','R','Microsoft-Office'])"
   ]
  },
  {
   "cell_type": "code",
   "execution_count": null,
   "metadata": {
    "ExecuteTime": {
     "end_time": "2019-11-06T03:48:10.555062Z",
     "start_time": "2019-11-06T03:48:10.344773Z"
    }
   },
   "outputs": [],
   "source": [
    "skill_money = {}\n",
    "skill_money_list = []\n",
    "for skill in list(X.columns)[1:]:\n",
    "    skill_money['skill'] = skill\n",
    "    skill_money['salary'] = NYC_salary_with_skills(3.6,[skill])\n",
    "    skill_money_list.append(skill_money)\n",
    "    skill_money = {}\n",
    "single_skill = pd.DataFrame(skill_money_list).sort_values('salary',ascending=False)\n",
    "single_skill"
   ]
  },
  {
   "cell_type": "code",
   "execution_count": null,
   "metadata": {
    "ExecuteTime": {
     "end_time": "2019-11-06T03:50:03.996330Z",
     "start_time": "2019-11-06T03:48:17.334898Z"
    }
   },
   "outputs": [],
   "source": [
    "from itertools import combinations\n",
    "L = list(X.columns)[1:]\n",
    "unique_skill_pair = ()\n",
    "for group_num in np.arange(1,5,1):\n",
    "    unique_skill_pair += tuple([\",\".join(map(str, comb)) for comb in combinations(L, group_num)])\n",
    "\n",
    "skill_money = {}\n",
    "skill_money_list = []\n",
    "for skill in unique_skill_pair:\n",
    "    skill_money['skill'] = skill\n",
    "    skill_money['salary'] = NYC_salary_with_skills(3.6,[skill])\n",
    "    skill_money_list.append(skill_money)\n",
    "    skill_money = {}\n",
    "df_skill_pair = pd.DataFrame(skill_money_list).drop_duplicates().sort_values('salary',ascending=False)"
   ]
  },
  {
   "cell_type": "code",
   "execution_count": null,
   "metadata": {
    "ExecuteTime": {
     "end_time": "2019-11-06T03:51:30.365974Z",
     "start_time": "2019-11-06T03:51:30.354723Z"
    }
   },
   "outputs": [],
   "source": [
    "top_skill_salary = df_skill_pair[:5].reset_index(drop=True)\n",
    "top_skill_salary"
   ]
  },
  {
   "cell_type": "code",
   "execution_count": null,
   "metadata": {
    "ExecuteTime": {
     "end_time": "2019-11-06T03:51:33.872234Z",
     "start_time": "2019-11-06T03:51:33.861773Z"
    }
   },
   "outputs": [],
   "source": [
    "single_skill[:10]"
   ]
  },
  {
   "cell_type": "code",
   "execution_count": null,
   "metadata": {
    "ExecuteTime": {
     "end_time": "2019-11-06T03:51:50.325064Z",
     "start_time": "2019-11-06T03:51:50.322220Z"
    }
   },
   "outputs": [],
   "source": [
    "salary_skills_list = ['Python','SQL','Tableau']"
   ]
  },
  {
   "cell_type": "code",
   "execution_count": null,
   "metadata": {
    "ExecuteTime": {
     "end_time": "2019-11-06T03:53:17.668392Z",
     "start_time": "2019-11-06T03:53:17.464279Z"
    },
    "scrolled": true
   },
   "outputs": [],
   "source": [
    "suggest_list = []\n",
    "all_list = salary_skills_list\n",
    "\n",
    "for skill in single_skill['skill'][:5]:\n",
    "    if skill not in salary_skills_list:\n",
    "        suggest_list.append(skill)\n",
    "\n",
    "    suggest_list_salary = {}\n",
    "    suggest_list_salary_list = []\n",
    "    for skill in suggest_list:\n",
    "        all_list = []\n",
    "        all_list = salary_skills_list+ [skill]\n",
    "        suggest_list_salary['skill'] = skill\n",
    "        suggest_list_salary['salary'] = int(np.subtract(NYC_salary_with_skills(3.6,all_list), NYC_salary_with_skills(3.6,salary_skills_list)).mean())\n",
    "        suggest_list_salary_list.append(suggest_list_salary)\n",
    "        suggest_list_salary = {}\n",
    "        \n",
    "    suggest_skills = pd.DataFrame(suggest_list_salary_list).sort_values('salary',ascending=False)\n",
    "suggest_skills = suggest_skills[suggest_skills['salary'] > 0 ]\n",
    "suggest_skills.columns = ['skill', 'with such more salary']\n",
    "suggest_skills"
   ]
  },
  {
   "cell_type": "markdown",
   "metadata": {},
   "source": [
    "### Recommending top 3 Skills with salary increase & Adding Rating to Function"
   ]
  },
  {
   "cell_type": "code",
   "execution_count": null,
   "metadata": {},
   "outputs": [],
   "source": [
    "skill_money = {}\n",
    "skill_money_list = []\n",
    "for skill in list(X.columns)[1:]:\n",
    "    skill_money['skill'] = skill\n",
    "    skill_money['salary'] = NYC_salary_with_skills(3.6,[skill])\n",
    "    skill_money_list.append(skill_money)\n",
    "    skill_money = {}\n",
    "single_skill = pd.DataFrame(skill_money_list).sort_values('salary',ascending=False)\n",
    "single_skill"
   ]
  },
  {
   "cell_type": "code",
   "execution_count": null,
   "metadata": {
    "ExecuteTime": {
     "start_time": "2019-11-06T04:15:33.409Z"
    }
   },
   "outputs": [],
   "source": [
    "import pickle\n",
    "import pandas as pd\n",
    "import numpy as np\n",
    "xgb_model_min_loaded = pickle.load(open('ny_min_xgb_model_min.pickle', \"rb\"))\n",
    "xgb_model_max_loaded = pickle.load(open('ny_max_xgb_model_min.pickle', \"rb\"))\n",
    "\n",
    "\n",
    "sel_features = ['rating', 'AI', 'AWS', 'Azure', 'Big-Data', 'C/C++', 'Data-Analysis',\n",
    "       'Data-Warehouse', 'Hadoop', 'Hive', 'Java', 'Kafka', 'Linux', 'MATLAB',\n",
    "       'Machine-Learning', 'Microsoft-Office', 'Microsoft-SQL-Server',\n",
    "       'Natural-Language-Processing', 'NoSQL', 'Oracle', 'Pig', 'Python', 'R',\n",
    "       'SAS', 'SQL', 'Scala', 'Scripting', 'Spark', 'Tableau', 'TensorFlow']\n",
    "\n",
    "def NYC_salary_with_skills(rating,inputs_list):\n",
    "    sample_list = [0] * (len(sel_features))\n",
    "    input_X = pd.DataFrame([sample_list],\n",
    "                 columns =list(sel_features))\n",
    "\n",
    "    for inputs in inputs_list:\n",
    "        if inputs in list(input_X.columns):\n",
    "            input_X[inputs] = 1\n",
    "    input_X['rating'] = rating\n",
    "    salary = (int(xgb_model_min_loaded.predict(input_X[:1])),int(xgb_model_max_loaded.predict(input_X[:1])))\n",
    "    return salary\n",
    "\n",
    "def NYC_salary_with_skills_and(rating, inputs_list):\n",
    "    \n",
    "    sample_list = [0] * (len(sel_features))\n",
    "    input_X = pd.DataFrame([sample_list],\n",
    "                 columns =list(sel_features))\n",
    "\n",
    "    for inputs in inputs_list:\n",
    "        if inputs in list(input_X.columns):\n",
    "            input_X[inputs] = 1\n",
    "    salary = (int(xgb_model_min_loaded.predict(input_X[:1])),int(xgb_model_max_loaded.predict(input_X[:1])))\n",
    "\n",
    "    \n",
    "    # suggest skill with more salary    \n",
    "    suggest_list = []\n",
    "    all_list = inputs_list\n",
    "\n",
    "    for skill in single_skill['skill'][:10]:\n",
    "        if skill not in inputs_list:\n",
    "            suggest_list.append(skill)\n",
    "\n",
    "        suggest_list_salary = {}\n",
    "        suggest_list_salary_list = []\n",
    "        for skill in suggest_list:\n",
    "            all_list = []\n",
    "            all_list = inputs_list+ [skill]\n",
    "            suggest_list_salary['skill'] = skill\n",
    "            suggest_list_salary['salary'] = int(np.subtract(NYC_salary_with_skills(rating,all_list), NYC_salary_with_skills(rating,inputs_list)).mean())\n",
    "            suggest_list_salary_list.append(suggest_list_salary)\n",
    "            suggest_list_salary = {}\n",
    "    suggest_skills = pd.DataFrame(suggest_list_salary_list).sort_values('salary',ascending=False)\n",
    "    suggest_skills = suggest_skills[suggest_skills['salary'] > 0 ]\n",
    "    suggest_skills.columns = ['Skill', 'Salary increase by($)']\n",
    "    suggest_skills    \n",
    "    print('Annual Salary Range($):',salary)\n",
    "    return suggest_skills[:3]\n",
    "\n",
    "skill_money = {}\n",
    "skill_money_list = []\n",
    "for skill in sel_features[1:]:\n",
    "    skill_money['skill'] = skill\n",
    "    skill_money['salary'] = NYC_salary_with_skills(3.6,[skill])\n",
    "    skill_money_list.append(skill_money)\n",
    "    skill_money = {}\n",
    "single_skill = pd.DataFrame(skill_money_list).sort_values('salary',ascending=False)"
   ]
  },
  {
   "cell_type": "code",
   "execution_count": null,
   "metadata": {
    "ExecuteTime": {
     "end_time": "2019-11-06T04:14:58.557221Z",
     "start_time": "2019-11-06T04:14:57.992306Z"
    },
    "scrolled": true
   },
   "outputs": [],
   "source": [
    "NYC_salary_with_skills_and(3.6,['Python','R','Tableau'])"
   ]
  }
 ],
 "metadata": {
  "kernelspec": {
   "display_name": "Python 3",
   "language": "python",
   "name": "python3"
  },
  "language_info": {
   "codemirror_mode": {
    "name": "ipython",
    "version": 3
   },
   "file_extension": ".py",
   "mimetype": "text/x-python",
   "name": "python",
   "nbconvert_exporter": "python",
   "pygments_lexer": "ipython3",
   "version": "3.7.3"
  }
 },
 "nbformat": 4,
 "nbformat_minor": 2
}
