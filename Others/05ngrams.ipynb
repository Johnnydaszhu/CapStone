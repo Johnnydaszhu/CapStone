{
 "cells": [
  {
   "cell_type": "markdown",
   "metadata": {},
   "source": [
    "https://www.machinelearningplus.com/nlp/topic-modeling-visualization-how-to-present-results-lda-models/"
   ]
  },
  {
   "cell_type": "code",
   "execution_count": 19,
   "metadata": {
    "ExecuteTime": {
     "end_time": "2019-10-29T22:48:44.037511Z",
     "start_time": "2019-10-29T22:48:43.909824Z"
    }
   },
   "outputs": [],
   "source": [
    "import pandas as pd\n",
    "import numpy as np\n",
    "import matplotlib.pyplot as plt, mpld3\n",
    "df_update = pd.read_csv('df_skill_div.csv', index_col=[0])\n",
    "skill_cell = pd.read_csv('skill_cell.csv',header=None)\n",
    "skill_rank = pd.read_csv('skills2.csv')"
   ]
  },
  {
   "cell_type": "code",
   "execution_count": 20,
   "metadata": {
    "ExecuteTime": {
     "end_time": "2019-10-29T22:48:44.201463Z",
     "start_time": "2019-10-29T22:48:44.197837Z"
    }
   },
   "outputs": [],
   "source": [
    "skill_uni_list = skill_rank['skills'].to_list()"
   ]
  },
  {
   "cell_type": "code",
   "execution_count": 21,
   "metadata": {
    "ExecuteTime": {
     "end_time": "2019-10-29T22:48:44.521701Z",
     "start_time": "2019-10-29T22:48:44.513772Z"
    }
   },
   "outputs": [
    {
     "data": {
      "text/html": [
       "<div>\n",
       "<style scoped>\n",
       "    .dataframe tbody tr th:only-of-type {\n",
       "        vertical-align: middle;\n",
       "    }\n",
       "\n",
       "    .dataframe tbody tr th {\n",
       "        vertical-align: top;\n",
       "    }\n",
       "\n",
       "    .dataframe thead th {\n",
       "        text-align: right;\n",
       "    }\n",
       "</style>\n",
       "<table border=\"1\" class=\"dataframe\">\n",
       "  <thead>\n",
       "    <tr style=\"text-align: right;\">\n",
       "      <th></th>\n",
       "      <th>skill_list</th>\n",
       "    </tr>\n",
       "  </thead>\n",
       "  <tbody>\n",
       "    <tr>\n",
       "      <th>0</th>\n",
       "      <td>Python, SQL, R, Spark, Hive, AWS, Data Warehou...</td>\n",
       "    </tr>\n",
       "    <tr>\n",
       "      <th>1</th>\n",
       "      <td>SQL, R, Excel, Network</td>\n",
       "    </tr>\n",
       "    <tr>\n",
       "      <th>2</th>\n",
       "      <td>R, Excel</td>\n",
       "    </tr>\n",
       "    <tr>\n",
       "      <th>3</th>\n",
       "      <td>R, Microsoft Office, Excel, Marketing</td>\n",
       "    </tr>\n",
       "    <tr>\n",
       "      <th>4</th>\n",
       "      <td>R</td>\n",
       "    </tr>\n",
       "  </tbody>\n",
       "</table>\n",
       "</div>"
      ],
      "text/plain": [
       "                                          skill_list\n",
       "0  Python, SQL, R, Spark, Hive, AWS, Data Warehou...\n",
       "1                             SQL, R, Excel, Network\n",
       "2                                           R, Excel\n",
       "3              R, Microsoft Office, Excel, Marketing\n",
       "4                                                  R"
      ]
     },
     "execution_count": 21,
     "metadata": {},
     "output_type": "execute_result"
    }
   ],
   "source": [
    "skill_cell.columns=['skill_list']\n",
    "skill_cell.head()"
   ]
  },
  {
   "cell_type": "code",
   "execution_count": 22,
   "metadata": {
    "ExecuteTime": {
     "end_time": "2019-10-29T22:48:44.917012Z",
     "start_time": "2019-10-29T22:48:44.914058Z"
    }
   },
   "outputs": [],
   "source": [
    "list_of_skill = skill_cell['skill_list'].to_list()"
   ]
  },
  {
   "cell_type": "code",
   "execution_count": 23,
   "metadata": {
    "ExecuteTime": {
     "end_time": "2019-10-29T22:48:45.250352Z",
     "start_time": "2019-10-29T22:48:45.246986Z"
    }
   },
   "outputs": [],
   "source": [
    "import re\n",
    "import pandas as pd\n",
    "import networkx as nx\n",
    "import matplotlib.pyplot as plt"
   ]
  },
  {
   "cell_type": "code",
   "execution_count": 24,
   "metadata": {
    "ExecuteTime": {
     "end_time": "2019-10-29T22:48:45.624359Z",
     "start_time": "2019-10-29T22:48:45.621486Z"
    }
   },
   "outputs": [],
   "source": [
    "cleaned_sections = list_of_skill\n",
    "characters = skill_uni_list[:40]"
   ]
  },
  {
   "cell_type": "code",
   "execution_count": 25,
   "metadata": {
    "ExecuteTime": {
     "end_time": "2019-10-29T22:48:45.994451Z",
     "start_time": "2019-10-29T22:48:45.982243Z"
    }
   },
   "outputs": [],
   "source": [
    "sections_dictionary = {}\n",
    "iterative = 0\n",
    "for section in cleaned_sections:\n",
    "    iterative += 1\n",
    "    for char in characters:\n",
    "        if char in section:\n",
    "            if str(iterative) in sections_dictionary.keys():\n",
    "                sections_dictionary[str(iterative)].append(char)  \n",
    "            else:\n",
    "                sections_dictionary[str(iterative)] = [char]   "
   ]
  },
  {
   "cell_type": "code",
   "execution_count": 26,
   "metadata": {
    "ExecuteTime": {
     "end_time": "2019-10-29T22:48:48.028604Z",
     "start_time": "2019-10-29T22:48:46.362531Z"
    }
   },
   "outputs": [],
   "source": [
    "##set base df (co-occurance matrix)\n",
    "df = pd.DataFrame(columns = characters, index = characters)\n",
    "df[:] = int(0)\n",
    "\n",
    "#iterate through each POV of book and add one for each character-character relationship\n",
    "#-> in this case, relationship equates to appearing in the same POV\n",
    "for value in sections_dictionary.values():\n",
    "    for character1 in characters:\n",
    "        for character2 in characters:\n",
    "            if character1 in value and character2 in value:\n",
    "                df[character1][character2] += 1\n",
    "                df[character2][character1] += 1"
   ]
  },
  {
   "cell_type": "code",
   "execution_count": 27,
   "metadata": {
    "ExecuteTime": {
     "end_time": "2019-10-29T22:48:48.048101Z",
     "start_time": "2019-10-29T22:48:48.031402Z"
    }
   },
   "outputs": [],
   "source": [
    "#add weights to edges\n",
    "edge_list = [] #test networkx\n",
    "for index, row in df.iterrows():\n",
    "    i = 0\n",
    "    for col in row:\n",
    "        weight = float(col)/464\n",
    "        edge_list.append((index, df.columns[i], weight))\n",
    "        i += 1\n",
    "\n",
    "#Remove edge if 0.0\n",
    "updated_edge_list = [x for x in edge_list if not x[2] == 0.0]\n",
    "\n",
    "#create duple of char, occurance in novel\n",
    "node_list = []\n",
    "for i in characters:\n",
    "    for e in updated_edge_list:\n",
    "        if i == e[0] and i == e[1]:\n",
    "           node_list.append((i, e[2]*6))\n",
    "for i in node_list:\n",
    "    if i[1] == 0.0:\n",
    "        node_list.remove(i)\n",
    "\n",
    "#remove self references\n",
    "for i in updated_edge_list:\n",
    "    if i[0] == i[1]:\n",
    "        updated_edge_list.remove(i)"
   ]
  },
  {
   "cell_type": "code",
   "execution_count": 11,
   "metadata": {
    "ExecuteTime": {
     "end_time": "2019-10-29T22:45:31.043230Z",
     "start_time": "2019-10-29T22:45:31.038260Z"
    }
   },
   "outputs": [],
   "source": [
    "#pd.DataFrame(updated_edge_list,columns=['skills1','skills2','rel']).to_csv('updated_edge_list.csv')"
   ]
  },
  {
   "cell_type": "code",
   "execution_count": 29,
   "metadata": {
    "ExecuteTime": {
     "end_time": "2019-10-29T22:48:56.702985Z",
     "start_time": "2019-10-29T22:48:56.371679Z"
    },
    "scrolled": false
   },
   "outputs": [
    {
     "ename": "NameError",
     "evalue": "name 'updated_again_edges' is not defined",
     "output_type": "error",
     "traceback": [
      "\u001b[0;31m---------------------------------------------------------------------------\u001b[0m",
      "\u001b[0;31mNameError\u001b[0m                                 Traceback (most recent call last)",
      "\u001b[0;32m<ipython-input-29-cd51ea90cff7>\u001b[0m in \u001b[0;36m<module>\u001b[0;34m\u001b[0m\n\u001b[1;32m     26\u001b[0m \u001b[0medge_scalar\u001b[0m \u001b[0;34m=\u001b[0m \u001b[0;36m200\u001b[0m\u001b[0;34m\u001b[0m\u001b[0;34m\u001b[0m\u001b[0m\n\u001b[1;32m     27\u001b[0m \u001b[0msizes\u001b[0m \u001b[0;34m=\u001b[0m \u001b[0;34m[\u001b[0m\u001b[0mx\u001b[0m\u001b[0;34m[\u001b[0m\u001b[0;36m1\u001b[0m\u001b[0;34m]\u001b[0m\u001b[0;34m*\u001b[0m\u001b[0mnode_scalar\u001b[0m \u001b[0;32mfor\u001b[0m \u001b[0mx\u001b[0m \u001b[0;32min\u001b[0m \u001b[0mupdated_node_order\u001b[0m\u001b[0;34m]\u001b[0m\u001b[0;34m\u001b[0m\u001b[0;34m\u001b[0m\u001b[0m\n\u001b[0;32m---> 28\u001b[0;31m \u001b[0mwidths\u001b[0m \u001b[0;34m=\u001b[0m \u001b[0;34m[\u001b[0m\u001b[0mx\u001b[0m\u001b[0;34m*\u001b[0m\u001b[0medge_scalar\u001b[0m \u001b[0;32mfor\u001b[0m \u001b[0mx\u001b[0m \u001b[0;32min\u001b[0m \u001b[0mupdated_again_edges\u001b[0m\u001b[0;34m]\u001b[0m\u001b[0;34m\u001b[0m\u001b[0;34m\u001b[0m\u001b[0m\n\u001b[0m\u001b[1;32m     29\u001b[0m \u001b[0;34m\u001b[0m\u001b[0m\n\u001b[1;32m     30\u001b[0m \u001b[0;31m#draw the graph\u001b[0m\u001b[0;34m\u001b[0m\u001b[0;34m\u001b[0m\u001b[0;34m\u001b[0m\u001b[0m\n",
      "\u001b[0;31mNameError\u001b[0m: name 'updated_again_edges' is not defined"
     ]
    },
    {
     "data": {
      "image/png": "[encoded data removed]",
      "text/plain": [
       "<Figure size 1080x2016 with 1 Axes>"
      ]
     },
     "metadata": {
      "needs_background": "light"
     },
     "output_type": "display_data"
    }
   ],
   "source": [
    "#set canvas size\n",
    "plt.subplots(figsize=(15,28))\n",
    "\n",
    "#networkx graph time!\n",
    "G = nx.Graph()\n",
    "for i in sorted(node_list):\n",
    "    G.add_node(i[0], size = i[1])\n",
    "G.add_weighted_edges_from(updated_edge_list)\n",
    "\n",
    "#check data of graphs\n",
    "#G.nodes(data=True)\n",
    "#G.edges(data = True)\n",
    "\n",
    "#manually copy and pasted the node order using 'nx.nodes(G)'\n",
    "#Couldn't determine another route to listing out the order of nodes for future work\n",
    "node_order = skill_uni_list\n",
    "\n",
    "#reorder node list\n",
    "updated_node_order = []\n",
    "for i in node_order:\n",
    "    for x in node_list:\n",
    "        if x[0] == i:\n",
    "            updated_node_order.append(x)\n",
    "\n",
    "node_scalar = 1000\n",
    "edge_scalar = 200\n",
    "sizes = [x[1]*node_scalar for x in updated_node_order]\n",
    "widths = [x*edge_scalar for x in updated_again_edges]\n",
    "\n",
    "#draw the graph\n",
    "pos = nx.spring_layout(G, k=0.2, iterations=2)\n",
    "\n",
    "nx.draw(G, pos, with_labels=True, font_size = 15, font_weight = 'bold', edge_color='grey',\n",
    "                 node_color='#ADD8E6',alpha=0.7\n",
    "        ,node_size = sizes, width = widths)"
   ]
  },
  {
   "cell_type": "code",
   "execution_count": 30,
   "metadata": {
    "ExecuteTime": {
     "end_time": "2019-10-29T22:49:11.441605Z",
     "start_time": "2019-10-29T22:49:11.380939Z"
    }
   },
   "outputs": [],
   "source": [
    "df_skill_pos = pd.DataFrame.from_dict(pos).T"
   ]
  },
  {
   "cell_type": "code",
   "execution_count": 31,
   "metadata": {
    "ExecuteTime": {
     "end_time": "2019-10-29T22:49:12.134579Z",
     "start_time": "2019-10-29T22:49:12.120367Z"
    }
   },
   "outputs": [],
   "source": [
    "df_skill_pos.to_csv('df_skill_pos.csv')"
   ]
  },
  {
   "cell_type": "code",
   "execution_count": 32,
   "metadata": {
    "ExecuteTime": {
     "end_time": "2019-10-29T22:49:12.615367Z",
     "start_time": "2019-10-29T22:49:12.603444Z"
    }
   },
   "outputs": [],
   "source": [
    "df.to_csv('skill_martix.csv')"
   ]
  },
  {
   "cell_type": "code",
   "execution_count": 37,
   "metadata": {
    "ExecuteTime": {
     "end_time": "2019-10-29T22:49:55.218694Z",
     "start_time": "2019-10-29T22:49:55.202225Z"
    }
   },
   "outputs": [
    {
     "ename": "AttributeError",
     "evalue": "'Graph' object has no attribute 'pos'",
     "output_type": "error",
     "traceback": [
      "\u001b[0;31m---------------------------------------------------------------------------\u001b[0m",
      "\u001b[0;31mAttributeError\u001b[0m                            Traceback (most recent call last)",
      "\u001b[0;32m<ipython-input-37-72a6c89991c7>\u001b[0m in \u001b[0;36m<module>\u001b[0;34m\u001b[0m\n\u001b[0;32m----> 1\u001b[0;31m \u001b[0mlist\u001b[0m\u001b[0;34m(\u001b[0m\u001b[0mG\u001b[0m\u001b[0;34m.\u001b[0m\u001b[0mpos\u001b[0m\u001b[0;34m(\u001b[0m\u001b[0mdata\u001b[0m\u001b[0;34m=\u001b[0m\u001b[0;32mTrue\u001b[0m\u001b[0;34m)\u001b[0m\u001b[0;34m)\u001b[0m\u001b[0;34m\u001b[0m\u001b[0;34m\u001b[0m\u001b[0m\n\u001b[0m",
      "\u001b[0;31mAttributeError\u001b[0m: 'Graph' object has no attribute 'pos'"
     ]
    }
   ],
   "source": [
    "list(G.pos(data=True))"
   ]
  },
  {
   "cell_type": "code",
   "execution_count": null,
   "metadata": {},
   "outputs": [],
   "source": []
  }
 ],
 "metadata": {
  "kernelspec": {
   "display_name": "Python 3",
   "language": "python",
   "name": "python3"
  },
  "language_info": {
   "codemirror_mode": {
    "name": "ipython",
    "version": 3
   },
   "file_extension": ".py",
   "mimetype": "text/x-python",
   "name": "python",
   "nbconvert_exporter": "python",
   "pygments_lexer": "ipython3",
   "version": "3.7.3"
  }
 },
 "nbformat": 4,
 "nbformat_minor": 2
}
