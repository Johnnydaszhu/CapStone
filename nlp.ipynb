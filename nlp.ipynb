{
 "cells": [
  {
   "cell_type": "code",
   "execution_count": 1,
   "metadata": {
    "ExecuteTime": {
     "end_time": "2019-10-26T22:09:27.875319Z",
     "start_time": "2019-10-26T22:09:27.411977Z"
    }
   },
   "outputs": [],
   "source": [
    "import pandas as pd"
   ]
  },
  {
   "cell_type": "code",
   "execution_count": 2,
   "metadata": {
    "ExecuteTime": {
     "end_time": "2019-10-26T22:09:29.289941Z",
     "start_time": "2019-10-26T22:09:28.544022Z"
    }
   },
   "outputs": [],
   "source": [
    "import nltk\n",
    "# nltk.download()"
   ]
  },
  {
   "cell_type": "code",
   "execution_count": 3,
   "metadata": {
    "ExecuteTime": {
     "end_time": "2019-10-26T22:09:31.293131Z",
     "start_time": "2019-10-26T22:09:29.820111Z"
    }
   },
   "outputs": [],
   "source": [
    "df = pd.read_csv('/Users/jz/Downloads/pachong/merge/data_job.csv')"
   ]
  },
  {
   "cell_type": "code",
   "execution_count": 4,
   "metadata": {
    "ExecuteTime": {
     "end_time": "2019-10-26T22:09:31.329133Z",
     "start_time": "2019-10-26T22:09:31.296248Z"
    }
   },
   "outputs": [],
   "source": [
    "df[['date','Reviews']] = df[['date','Reviews']].fillna(0)\n",
    "df['date'] = df['date'].astype(int)"
   ]
  },
  {
   "cell_type": "code",
   "execution_count": 5,
   "metadata": {
    "ExecuteTime": {
     "end_time": "2019-10-26T22:09:32.037169Z",
     "start_time": "2019-10-26T22:09:32.018271Z"
    }
   },
   "outputs": [
    {
     "data": {
      "text/html": [
       "<div>\n",
       "<style scoped>\n",
       "    .dataframe tbody tr th:only-of-type {\n",
       "        vertical-align: middle;\n",
       "    }\n",
       "\n",
       "    .dataframe tbody tr th {\n",
       "        vertical-align: top;\n",
       "    }\n",
       "\n",
       "    .dataframe thead th {\n",
       "        text-align: right;\n",
       "    }\n",
       "</style>\n",
       "<table border=\"1\" class=\"dataframe\">\n",
       "  <thead>\n",
       "    <tr style=\"text-align: right;\">\n",
       "      <th></th>\n",
       "      <th>date</th>\n",
       "      <th>job_title</th>\n",
       "      <th>company</th>\n",
       "      <th>Reviews</th>\n",
       "      <th>location</th>\n",
       "      <th>desc</th>\n",
       "    </tr>\n",
       "  </thead>\n",
       "  <tbody>\n",
       "    <tr>\n",
       "      <th>0</th>\n",
       "      <td>0</td>\n",
       "      <td>Machine Lubrication Analyst</td>\n",
       "      <td>Coeur Mining, Inc.</td>\n",
       "      <td>0</td>\n",
       "      <td>Alaska</td>\n",
       "      <td>NaN</td>\n",
       "    </tr>\n",
       "    <tr>\n",
       "      <th>1</th>\n",
       "      <td>0</td>\n",
       "      <td>FILE CLERK</td>\n",
       "      <td>Mobile County Public Schools</td>\n",
       "      <td>184</td>\n",
       "      <td>Mobile County, AL</td>\n",
       "      <td>The duties include but are not limited to:\\n\\n...</td>\n",
       "    </tr>\n",
       "    <tr>\n",
       "      <th>2</th>\n",
       "      <td>0</td>\n",
       "      <td>Performance Improvement - Data Analyst</td>\n",
       "      <td>Yukon-Kuskokwim Health Corporation</td>\n",
       "      <td>0</td>\n",
       "      <td>Bethel, AK 99559</td>\n",
       "      <td>NaN</td>\n",
       "    </tr>\n",
       "    <tr>\n",
       "      <th>3</th>\n",
       "      <td>0</td>\n",
       "      <td>Store Worker</td>\n",
       "      <td>US Department of Defense</td>\n",
       "      <td>4,937</td>\n",
       "      <td>Redstone Arsenal, AL</td>\n",
       "      <td>NaN</td>\n",
       "    </tr>\n",
       "    <tr>\n",
       "      <th>4</th>\n",
       "      <td>0</td>\n",
       "      <td>Academic Tutor</td>\n",
       "      <td>AmeriCorps</td>\n",
       "      <td>2,426</td>\n",
       "      <td>Alaska</td>\n",
       "      <td>NaN</td>\n",
       "    </tr>\n",
       "  </tbody>\n",
       "</table>\n",
       "</div>"
      ],
      "text/plain": [
       "   date                               job_title  \\\n",
       "0     0             Machine Lubrication Analyst   \n",
       "1     0                              FILE CLERK   \n",
       "2     0  Performance Improvement - Data Analyst   \n",
       "3     0                            Store Worker   \n",
       "4     0                          Academic Tutor   \n",
       "\n",
       "                              company Reviews              location  \\\n",
       "0                  Coeur Mining, Inc.       0                Alaska   \n",
       "1        Mobile County Public Schools     184     Mobile County, AL   \n",
       "2  Yukon-Kuskokwim Health Corporation       0      Bethel, AK 99559   \n",
       "3            US Department of Defense   4,937  Redstone Arsenal, AL   \n",
       "4                          AmeriCorps   2,426                Alaska   \n",
       "\n",
       "                                                desc  \n",
       "0                                                NaN  \n",
       "1  The duties include but are not limited to:\\n\\n...  \n",
       "2                                                NaN  \n",
       "3                                                NaN  \n",
       "4                                                NaN  "
      ]
     },
     "execution_count": 5,
     "metadata": {},
     "output_type": "execute_result"
    }
   ],
   "source": [
    "df.head()"
   ]
  },
  {
   "cell_type": "code",
   "execution_count": 6,
   "metadata": {
    "ExecuteTime": {
     "end_time": "2019-10-26T22:09:32.575988Z",
     "start_time": "2019-10-26T22:09:32.553557Z"
    }
   },
   "outputs": [],
   "source": [
    "df['desc'] = df['desc'].fillna(' ')"
   ]
  },
  {
   "cell_type": "code",
   "execution_count": 7,
   "metadata": {
    "ExecuteTime": {
     "end_time": "2019-10-26T22:09:32.930509Z",
     "start_time": "2019-10-26T22:09:32.927346Z"
    }
   },
   "outputs": [],
   "source": [
    "#df.to_csv('df.csv')"
   ]
  },
  {
   "cell_type": "code",
   "execution_count": 8,
   "metadata": {
    "ExecuteTime": {
     "end_time": "2019-10-26T22:09:33.309576Z",
     "start_time": "2019-10-26T22:09:33.306550Z"
    }
   },
   "outputs": [],
   "source": [
    "df_200 =  df[:200]"
   ]
  },
  {
   "cell_type": "code",
   "execution_count": 9,
   "metadata": {
    "ExecuteTime": {
     "end_time": "2019-10-26T22:09:33.688218Z",
     "start_time": "2019-10-26T22:09:33.682933Z"
    }
   },
   "outputs": [],
   "source": [
    "description = \"\"\n",
    "for desc in df_200['desc']:\n",
    "    description+= desc"
   ]
  },
  {
   "cell_type": "code",
   "execution_count": 10,
   "metadata": {
    "ExecuteTime": {
     "end_time": "2019-10-26T22:09:34.083016Z",
     "start_time": "2019-10-26T22:09:34.079150Z"
    }
   },
   "outputs": [],
   "source": [
    "description_list = []\n",
    "for desc in df_200['desc']:\n",
    "    description_list.append(desc)"
   ]
  },
  {
   "cell_type": "code",
   "execution_count": 11,
   "metadata": {
    "ExecuteTime": {
     "end_time": "2019-10-26T22:09:35.064764Z",
     "start_time": "2019-10-26T22:09:34.534414Z"
    }
   },
   "outputs": [
    {
     "data": {
      "text/plain": [
       "[(',', 4511),\n",
       " ('and', 4066),\n",
       " ('.', 3128),\n",
       " ('to', 2162),\n",
       " ('the', 1963),\n",
       " ('of', 1727),\n",
       " ('in', 1050),\n",
       " ('a', 978),\n",
       " ('with', 934),\n",
       " ('for', 746)]"
      ]
     },
     "execution_count": 11,
     "metadata": {},
     "output_type": "execute_result"
    }
   ],
   "source": [
    "from nltk.tokenize import word_tokenize\n",
    "from collections import Counter\n",
    "\n",
    "# Tokenize the article: tokens\n",
    "tokens = word_tokenize(description)\n",
    "\n",
    "# Convert the tokens into lowercase: lower_tokens\n",
    "lower_tokens = [t.lower() for t in tokens]\n",
    "\n",
    "# Create a Counter with the lowercase tokens: bow_simple\n",
    "bow_simple = Counter(lower_tokens)\n",
    "\n",
    "# Print the 10 most common tokens\n",
    "bow_simple.most_common(10)\n"
   ]
  },
  {
   "cell_type": "code",
   "execution_count": 32,
   "metadata": {
    "ExecuteTime": {
     "end_time": "2019-10-26T22:27:21.319819Z",
     "start_time": "2019-10-26T22:27:11.244917Z"
    }
   },
   "outputs": [],
   "source": [
    "# Import WordNetLemmatizer\n",
    "from nltk.stem import WordNetLemmatizer\n",
    "from nltk.corpus import stopwords\n",
    "\n",
    "# Retain alphabetic words: alpha_only\n",
    "alpha_only = [t for t in lower_tokens if t.isalpha()]\n",
    "\n",
    "# Remove all stop words: no_stops\n",
    "no_stops = [t for t in alpha_only if t not in stopwords.words('english')]\n",
    "\n",
    "# Instantiate the WordNetLemmatizer\n",
    "wordnet_lemmatizer = WordNetLemmatizer()\n",
    "\n",
    "# Lemmatize all tokens into a new list: lemmatized\n",
    "lemmatized = [wordnet_lemmatizer.lemmatize(t) for t in no_stops]\n",
    "\n",
    "# Create the bag-of-words: bow\n",
    "bow = Counter(lemmatized)\n",
    "\n",
    "\n",
    "key = bow.most_common(200)"
   ]
  },
  {
   "cell_type": "code",
   "execution_count": 85,
   "metadata": {
    "ExecuteTime": {
     "end_time": "2019-10-26T22:42:34.403380Z",
     "start_time": "2019-10-26T22:42:34.395262Z"
    }
   },
   "outputs": [
    {
     "data": {
      "text/html": [
       "<div>\n",
       "<style scoped>\n",
       "    .dataframe tbody tr th:only-of-type {\n",
       "        vertical-align: middle;\n",
       "    }\n",
       "\n",
       "    .dataframe tbody tr th {\n",
       "        vertical-align: top;\n",
       "    }\n",
       "\n",
       "    .dataframe thead th {\n",
       "        text-align: right;\n",
       "    }\n",
       "</style>\n",
       "<table border=\"1\" class=\"dataframe\">\n",
       "  <thead>\n",
       "    <tr style=\"text-align: right;\">\n",
       "      <th></th>\n",
       "      <th>key</th>\n",
       "      <th>count</th>\n",
       "    </tr>\n",
       "  </thead>\n",
       "  <tbody>\n",
       "    <tr>\n",
       "      <th>0</th>\n",
       "      <td>data</td>\n",
       "      <td>639</td>\n",
       "    </tr>\n",
       "    <tr>\n",
       "      <th>1</th>\n",
       "      <td>experience</td>\n",
       "      <td>470</td>\n",
       "    </tr>\n",
       "    <tr>\n",
       "      <th>2</th>\n",
       "      <td>work</td>\n",
       "      <td>418</td>\n",
       "    </tr>\n",
       "    <tr>\n",
       "      <th>3</th>\n",
       "      <td>ability</td>\n",
       "      <td>311</td>\n",
       "    </tr>\n",
       "    <tr>\n",
       "      <th>4</th>\n",
       "      <td>skill</td>\n",
       "      <td>299</td>\n",
       "    </tr>\n",
       "    <tr>\n",
       "      <th>5</th>\n",
       "      <td>system</td>\n",
       "      <td>270</td>\n",
       "    </tr>\n",
       "    <tr>\n",
       "      <th>6</th>\n",
       "      <td>management</td>\n",
       "      <td>269</td>\n",
       "    </tr>\n",
       "    <tr>\n",
       "      <th>7</th>\n",
       "      <td>required</td>\n",
       "      <td>262</td>\n",
       "    </tr>\n",
       "    <tr>\n",
       "      <th>8</th>\n",
       "      <td>information</td>\n",
       "      <td>255</td>\n",
       "    </tr>\n",
       "    <tr>\n",
       "      <th>9</th>\n",
       "      <td>business</td>\n",
       "      <td>217</td>\n",
       "    </tr>\n",
       "  </tbody>\n",
       "</table>\n",
       "</div>"
      ],
      "text/plain": [
       "           key  count\n",
       "0         data    639\n",
       "1   experience    470\n",
       "2         work    418\n",
       "3      ability    311\n",
       "4        skill    299\n",
       "5       system    270\n",
       "6   management    269\n",
       "7     required    262\n",
       "8  information    255\n",
       "9     business    217"
      ]
     },
     "execution_count": 85,
     "metadata": {},
     "output_type": "execute_result"
    }
   ],
   "source": [
    "df_key_top = df_key[:100]\n",
    "df_key_top[:10]"
   ]
  },
  {
   "cell_type": "code",
   "execution_count": 86,
   "metadata": {
    "ExecuteTime": {
     "end_time": "2019-10-26T22:42:36.519581Z",
     "start_time": "2019-10-26T22:42:34.911216Z"
    }
   },
   "outputs": [
    {
     "data": {
      "text/plain": [
       "<matplotlib.axes._subplots.AxesSubplot at 0x1a3befe198>"
      ]
     },
     "execution_count": 86,
     "metadata": {},
     "output_type": "execute_result"
    },
    {
     "data": {
      "image/png": "[encoded data removed]",
      "text/plain": [
       "<Figure size 1440x1440 with 1 Axes>"
      ]
     },
     "metadata": {
      "needs_background": "light"
     },
     "output_type": "display_data"
    }
   ],
   "source": [
    "df_key_top.sort_index(axis=0, ascending=False).plot(kind='barh',x='key', y='count', rot=0,figsize=(20,20))"
   ]
  },
  {
   "cell_type": "code",
   "execution_count": null,
   "metadata": {},
   "outputs": [],
   "source": []
  }
 ],
 "metadata": {
  "kernelspec": {
   "display_name": "Python 3",
   "language": "python",
   "name": "python3"
  },
  "language_info": {
   "codemirror_mode": {
    "name": "ipython",
    "version": 3
   },
   "file_extension": ".py",
   "mimetype": "text/x-python",
   "name": "python",
   "nbconvert_exporter": "python",
   "pygments_lexer": "ipython3",
   "version": "3.7.3"
  }
 },
 "nbformat": 4,
 "nbformat_minor": 2
}
