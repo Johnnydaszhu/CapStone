{
 "cells": [
  {
   "cell_type": "code",
   "execution_count": 1,
   "metadata": {
    "ExecuteTime": {
     "end_time": "2019-11-03T17:13:21.375533Z",
     "start_time": "2019-11-03T17:13:18.574675Z"
    }
   },
   "outputs": [],
   "source": [
    "import pandas as pd\n",
    "import numpy as np\n",
    "df = pd.read_excel('/Users/jz/前端/nyc/2019-11-2-all.xlsx')"
   ]
  },
  {
   "cell_type": "markdown",
   "metadata": {},
   "source": [
    "### Salary formatting"
   ]
  },
  {
   "cell_type": "code",
   "execution_count": 2,
   "metadata": {
    "ExecuteTime": {
     "end_time": "2019-11-03T17:13:22.538570Z",
     "start_time": "2019-11-03T17:13:22.532030Z"
    }
   },
   "outputs": [],
   "source": [
    "df['salary']=df['salary'].fillna(0)"
   ]
  },
  {
   "cell_type": "code",
   "execution_count": 3,
   "metadata": {
    "ExecuteTime": {
     "end_time": "2019-11-03T17:13:22.949816Z",
     "start_time": "2019-11-03T17:13:22.937769Z"
    }
   },
   "outputs": [
    {
     "data": {
      "text/plain": [
       "0                       0\n",
       "1                       0\n",
       "2                       0\n",
       "3                       0\n",
       "4                       0\n",
       "5                       0\n",
       "6            63473 a year\n",
       "7                       0\n",
       "8    76859 - 99921 a year\n",
       "9                       0\n",
       "Name: salary, dtype: object"
      ]
     },
     "execution_count": 3,
     "metadata": {},
     "output_type": "execute_result"
    }
   ],
   "source": [
    "df['salary'][:10]"
   ]
  },
  {
   "cell_type": "code",
   "execution_count": 4,
   "metadata": {
    "ExecuteTime": {
     "end_time": "2019-11-03T17:13:23.472886Z",
     "start_time": "2019-11-03T17:13:23.443321Z"
    }
   },
   "outputs": [
    {
     "data": {
      "text/plain": [
       "17799"
      ]
     },
     "execution_count": 4,
     "metadata": {},
     "output_type": "execute_result"
    }
   ],
   "source": [
    "date_type_list = ['a year','a month','a day','an hour','a week']\n",
    "new_salary_list = []\n",
    "sample_list = list(df['salary'])\n",
    "\n",
    "for i in np.arange(0,len(list(df['salary']))):\n",
    "    if sample_list[i] == 0:\n",
    "        new_salary_list.append(np.nan)\n",
    "    elif '-' not in sample_list[i]: \n",
    "        for date_type in date_type_list:         \n",
    "            if date_type in sample_list[i]:\n",
    "                salary_num = float(sample_list[i].rsplit(' a', 1) [0])\n",
    "                if date_type == 'a year':\n",
    "                    salary_num = salary_num\n",
    "                elif date_type == 'a month':\n",
    "                    salary_num = salary_num*12\n",
    "                elif date_type == 'a week':\n",
    "                    salary_num = salary_num*58\n",
    "                elif date_type == 'a day':\n",
    "                    salary_num = salary_num*260\n",
    "                elif date_type == 'an hour':\n",
    "                    salary_num = salary_num*2080\n",
    "                new_salary_list.append(salary_num)\n",
    "            else:\n",
    "                pass        \n",
    "    elif '-' in sample_list[i]:\n",
    "        high = sample_list[i].rsplit('-', 1) [1].rsplit(' a', 1)[0]\n",
    "        low = sample_list[i].rsplit('-', 1) [0]\n",
    "        salary_num = (float(low) + float(high))/2\n",
    "        date = sample_list[i].rsplit('-', 1) [1]\n",
    "        for date_type in date_type_list:         \n",
    "            if date_type in date:\n",
    "                if date_type == 'a year':\n",
    "                    salary_num = salary_num\n",
    "                elif date_type == 'a month':\n",
    "                    salary_num = salary_num*12\n",
    "                elif date_type == 'a week':\n",
    "                    salary_num = salary_num*58\n",
    "                elif date_type == 'a day':\n",
    "                    salary_num = salary_num*260\n",
    "                elif date_type == 'an hour':\n",
    "                    salary_num = salary_num*2080  \n",
    "        new_salary_list.append(salary_num)\n",
    "    else:\n",
    "        pass\n",
    "len(new_salary_list)"
   ]
  },
  {
   "cell_type": "code",
   "execution_count": 5,
   "metadata": {
    "ExecuteTime": {
     "end_time": "2019-11-03T17:13:24.090662Z",
     "start_time": "2019-11-03T17:13:24.055280Z"
    }
   },
   "outputs": [
    {
     "data": {
      "text/html": [
       "<div>\n",
       "<style scoped>\n",
       "    .dataframe tbody tr th:only-of-type {\n",
       "        vertical-align: middle;\n",
       "    }\n",
       "\n",
       "    .dataframe tbody tr th {\n",
       "        vertical-align: top;\n",
       "    }\n",
       "\n",
       "    .dataframe thead th {\n",
       "        text-align: right;\n",
       "    }\n",
       "</style>\n",
       "<table border=\"1\" class=\"dataframe\">\n",
       "  <thead>\n",
       "    <tr style=\"text-align: right;\">\n",
       "      <th></th>\n",
       "      <th>rating</th>\n",
       "      <th>job_title</th>\n",
       "      <th>company</th>\n",
       "      <th>location</th>\n",
       "      <th>desc</th>\n",
       "      <th>salary</th>\n",
       "    </tr>\n",
       "  </thead>\n",
       "  <tbody>\n",
       "    <tr>\n",
       "      <th>0</th>\n",
       "      <td>NaN</td>\n",
       "      <td>OPERATIONS ANALYST</td>\n",
       "      <td>Compass Bank dba BBVA Compass</td>\n",
       "      <td>Birmingham, AL</td>\n",
       "      <td>Our Company\\nAt BBVA, we are leading the trans...</td>\n",
       "      <td>NaN</td>\n",
       "    </tr>\n",
       "    <tr>\n",
       "      <th>1</th>\n",
       "      <td>NaN</td>\n",
       "      <td>Jr Business Intelligence Analyst</td>\n",
       "      <td>Compass Bank dba BBVA Compass</td>\n",
       "      <td>Birmingham, AL</td>\n",
       "      <td>Our Company\\nAt BBVA, we are leading the trans...</td>\n",
       "      <td>NaN</td>\n",
       "    </tr>\n",
       "    <tr>\n",
       "      <th>2</th>\n",
       "      <td>NaN</td>\n",
       "      <td>Data Analyst</td>\n",
       "      <td>HyreU</td>\n",
       "      <td>Alabama</td>\n",
       "      <td>QUALIFICATION REQUIRED Bachelor Degree\\n\\nEXPE...</td>\n",
       "      <td>NaN</td>\n",
       "    </tr>\n",
       "    <tr>\n",
       "      <th>3</th>\n",
       "      <td>NaN</td>\n",
       "      <td>Junior Data Analyst</td>\n",
       "      <td>Southern Poverty Law Center</td>\n",
       "      <td>NaN</td>\n",
       "      <td>Summary:\\nThe Junior Analyst is responsible fo...</td>\n",
       "      <td>NaN</td>\n",
       "    </tr>\n",
       "    <tr>\n",
       "      <th>4</th>\n",
       "      <td>NaN</td>\n",
       "      <td>Data Analyst</td>\n",
       "      <td>KBRWyle</td>\n",
       "      <td>NaN</td>\n",
       "      <td>Title:\\nData AnalystKBR is seeking a Data Anal...</td>\n",
       "      <td>NaN</td>\n",
       "    </tr>\n",
       "    <tr>\n",
       "      <th>5</th>\n",
       "      <td>NaN</td>\n",
       "      <td>OPERATIONS ANALYST</td>\n",
       "      <td>BBVA Compass</td>\n",
       "      <td>NaN</td>\n",
       "      <td>Company: Compass Bank dba BBVA Compass\\nLocati...</td>\n",
       "      <td>NaN</td>\n",
       "    </tr>\n",
       "    <tr>\n",
       "      <th>6</th>\n",
       "      <td>NaN</td>\n",
       "      <td>Data Analyst</td>\n",
       "      <td>City of Tuscaloosa</td>\n",
       "      <td>NaN</td>\n",
       "      <td>Summary\\nThe purpose of this classification is...</td>\n",
       "      <td>63473.0</td>\n",
       "    </tr>\n",
       "    <tr>\n",
       "      <th>7</th>\n",
       "      <td>NaN</td>\n",
       "      <td>Data Analyst</td>\n",
       "      <td>Torch Technologies, Inc.</td>\n",
       "      <td>Huntsville, AL 35802</td>\n",
       "      <td>Job Description:\\nTorch Technologies, a 100% e...</td>\n",
       "      <td>NaN</td>\n",
       "    </tr>\n",
       "    <tr>\n",
       "      <th>8</th>\n",
       "      <td>NaN</td>\n",
       "      <td>Business Data Analyst</td>\n",
       "      <td>US Department of the Army</td>\n",
       "      <td>NaN</td>\n",
       "      <td>Duties\\nSummary\\nAbout the Position:\\n\\nUtiliz...</td>\n",
       "      <td>88390.0</td>\n",
       "    </tr>\n",
       "    <tr>\n",
       "      <th>9</th>\n",
       "      <td>NaN</td>\n",
       "      <td>Junior Data Analyst</td>\n",
       "      <td>Logistics Management Institute</td>\n",
       "      <td>NaN</td>\n",
       "      <td>Position on the consulting staff of a governme...</td>\n",
       "      <td>NaN</td>\n",
       "    </tr>\n",
       "    <tr>\n",
       "      <th>10</th>\n",
       "      <td>NaN</td>\n",
       "      <td>Data Analytics Specialist</td>\n",
       "      <td>ITAC Solutions</td>\n",
       "      <td>Birmingham, AL 35242</td>\n",
       "      <td>ITAC Solutions is helping one of our best clie...</td>\n",
       "      <td>65000.0</td>\n",
       "    </tr>\n",
       "    <tr>\n",
       "      <th>11</th>\n",
       "      <td>NaN</td>\n",
       "      <td>Business Analyst</td>\n",
       "      <td>Randall-Reilly</td>\n",
       "      <td>Tuscaloosa, AL</td>\n",
       "      <td>Job Details\\nDescription\\nRandall-Reilly is lo...</td>\n",
       "      <td>NaN</td>\n",
       "    </tr>\n",
       "    <tr>\n",
       "      <th>12</th>\n",
       "      <td>NaN</td>\n",
       "      <td>Marketing Data Analyst</td>\n",
       "      <td>ITAC Solutions</td>\n",
       "      <td>Birmingham, AL 35205</td>\n",
       "      <td>ITAC Solutions is helping one of our larger cl...</td>\n",
       "      <td>NaN</td>\n",
       "    </tr>\n",
       "    <tr>\n",
       "      <th>13</th>\n",
       "      <td>NaN</td>\n",
       "      <td>HRIS Analyst</td>\n",
       "      <td>Command Alkon</td>\n",
       "      <td>Birmingham, AL</td>\n",
       "      <td>About Command Alkon\\n\\nCommand Alkon is bringi...</td>\n",
       "      <td>NaN</td>\n",
       "    </tr>\n",
       "    <tr>\n",
       "      <th>14</th>\n",
       "      <td>NaN</td>\n",
       "      <td>Data Analyst</td>\n",
       "      <td>J&amp;M TANKLINES</td>\n",
       "      <td>NaN</td>\n",
       "      <td>This posting is for testing purposes.Job Type:...</td>\n",
       "      <td>NaN</td>\n",
       "    </tr>\n",
       "    <tr>\n",
       "      <th>15</th>\n",
       "      <td>NaN</td>\n",
       "      <td>Clinical Quality Data Analyst</td>\n",
       "      <td>Cahaba Medical Care Foundation</td>\n",
       "      <td>Centreville, AL 35042</td>\n",
       "      <td>Cahaba Medical Care Foundation\\n\\nClinical Dat...</td>\n",
       "      <td>NaN</td>\n",
       "    </tr>\n",
       "    <tr>\n",
       "      <th>16</th>\n",
       "      <td>NaN</td>\n",
       "      <td>Data Analyst Associate</td>\n",
       "      <td>Continental Aerospace Technologies</td>\n",
       "      <td>Mobile, AL</td>\n",
       "      <td>Summary\\nWithin this department, the candidate...</td>\n",
       "      <td>NaN</td>\n",
       "    </tr>\n",
       "    <tr>\n",
       "      <th>17</th>\n",
       "      <td>NaN</td>\n",
       "      <td>DATA ANALYST</td>\n",
       "      <td>University of Alabama at Birmingham</td>\n",
       "      <td>NaN</td>\n",
       "      <td>Responsible for data management and analysis f...</td>\n",
       "      <td>NaN</td>\n",
       "    </tr>\n",
       "    <tr>\n",
       "      <th>18</th>\n",
       "      <td>NaN</td>\n",
       "      <td>Business Analyst</td>\n",
       "      <td>Compass Bank dba BBVA Compass</td>\n",
       "      <td>Birmingham, AL</td>\n",
       "      <td>Our Company\\nAt BBVA, we are leading the trans...</td>\n",
       "      <td>NaN</td>\n",
       "    </tr>\n",
       "    <tr>\n",
       "      <th>19</th>\n",
       "      <td>NaN</td>\n",
       "      <td>Data Analyst Associate</td>\n",
       "      <td>Continental Motors, Inc.</td>\n",
       "      <td>Mobile, AL</td>\n",
       "      <td>Job Details\\nDescription\\nSummary\\nWithin this...</td>\n",
       "      <td>NaN</td>\n",
       "    </tr>\n",
       "  </tbody>\n",
       "</table>\n",
       "</div>"
      ],
      "text/plain": [
       "    rating                         job_title  \\\n",
       "0      NaN                OPERATIONS ANALYST   \n",
       "1      NaN  Jr Business Intelligence Analyst   \n",
       "2      NaN                      Data Analyst   \n",
       "3      NaN               Junior Data Analyst   \n",
       "4      NaN                      Data Analyst   \n",
       "5      NaN                OPERATIONS ANALYST   \n",
       "6      NaN                      Data Analyst   \n",
       "7      NaN                      Data Analyst   \n",
       "8      NaN             Business Data Analyst   \n",
       "9      NaN               Junior Data Analyst   \n",
       "10     NaN         Data Analytics Specialist   \n",
       "11     NaN                  Business Analyst   \n",
       "12     NaN            Marketing Data Analyst   \n",
       "13     NaN                      HRIS Analyst   \n",
       "14     NaN                      Data Analyst   \n",
       "15     NaN     Clinical Quality Data Analyst   \n",
       "16     NaN            Data Analyst Associate   \n",
       "17     NaN                      DATA ANALYST   \n",
       "18     NaN                  Business Analyst   \n",
       "19     NaN            Data Analyst Associate   \n",
       "\n",
       "                                company               location  \\\n",
       "0         Compass Bank dba BBVA Compass         Birmingham, AL   \n",
       "1         Compass Bank dba BBVA Compass         Birmingham, AL   \n",
       "2                                 HyreU                Alabama   \n",
       "3           Southern Poverty Law Center                    NaN   \n",
       "4                               KBRWyle                    NaN   \n",
       "5                          BBVA Compass                    NaN   \n",
       "6                    City of Tuscaloosa                    NaN   \n",
       "7              Torch Technologies, Inc.   Huntsville, AL 35802   \n",
       "8             US Department of the Army                    NaN   \n",
       "9        Logistics Management Institute                    NaN   \n",
       "10                       ITAC Solutions   Birmingham, AL 35242   \n",
       "11                       Randall-Reilly         Tuscaloosa, AL   \n",
       "12                       ITAC Solutions   Birmingham, AL 35205   \n",
       "13                        Command Alkon         Birmingham, AL   \n",
       "14                        J&M TANKLINES                    NaN   \n",
       "15       Cahaba Medical Care Foundation  Centreville, AL 35042   \n",
       "16   Continental Aerospace Technologies             Mobile, AL   \n",
       "17  University of Alabama at Birmingham                    NaN   \n",
       "18        Compass Bank dba BBVA Compass         Birmingham, AL   \n",
       "19             Continental Motors, Inc.             Mobile, AL   \n",
       "\n",
       "                                                 desc   salary  \n",
       "0   Our Company\\nAt BBVA, we are leading the trans...      NaN  \n",
       "1   Our Company\\nAt BBVA, we are leading the trans...      NaN  \n",
       "2   QUALIFICATION REQUIRED Bachelor Degree\\n\\nEXPE...      NaN  \n",
       "3   Summary:\\nThe Junior Analyst is responsible fo...      NaN  \n",
       "4   Title:\\nData AnalystKBR is seeking a Data Anal...      NaN  \n",
       "5   Company: Compass Bank dba BBVA Compass\\nLocati...      NaN  \n",
       "6   Summary\\nThe purpose of this classification is...  63473.0  \n",
       "7   Job Description:\\nTorch Technologies, a 100% e...      NaN  \n",
       "8   Duties\\nSummary\\nAbout the Position:\\n\\nUtiliz...  88390.0  \n",
       "9   Position on the consulting staff of a governme...      NaN  \n",
       "10  ITAC Solutions is helping one of our best clie...  65000.0  \n",
       "11  Job Details\\nDescription\\nRandall-Reilly is lo...      NaN  \n",
       "12  ITAC Solutions is helping one of our larger cl...      NaN  \n",
       "13  About Command Alkon\\n\\nCommand Alkon is bringi...      NaN  \n",
       "14  This posting is for testing purposes.Job Type:...      NaN  \n",
       "15  Cahaba Medical Care Foundation\\n\\nClinical Dat...      NaN  \n",
       "16  Summary\\nWithin this department, the candidate...      NaN  \n",
       "17  Responsible for data management and analysis f...      NaN  \n",
       "18  Our Company\\nAt BBVA, we are leading the trans...      NaN  \n",
       "19  Job Details\\nDescription\\nSummary\\nWithin this...      NaN  "
      ]
     },
     "execution_count": 5,
     "metadata": {},
     "output_type": "execute_result"
    }
   ],
   "source": [
    "df_salary_cleaned = pd.concat([df, pd.DataFrame(new_salary_list)], axis=1)\n",
    "df_salary_cleaned = df_salary_cleaned.drop(columns=['salary'])\n",
    "df_salary_cleaned.rename(columns={0: \"salary\"}, inplace = True)\n",
    "df_salary_cleaned[:20]"
   ]
  },
  {
   "cell_type": "markdown",
   "metadata": {},
   "source": [
    "### Location Formatting"
   ]
  },
  {
   "cell_type": "code",
   "execution_count": 6,
   "metadata": {
    "ExecuteTime": {
     "end_time": "2019-11-03T17:13:25.138909Z",
     "start_time": "2019-11-03T17:13:25.135486Z"
    }
   },
   "outputs": [],
   "source": [
    "f = open(\"/Users/jz/前端/nyc/googleapi.txt\", \"r\")"
   ]
  },
  {
   "cell_type": "code",
   "execution_count": 7,
   "metadata": {
    "ExecuteTime": {
     "end_time": "2019-11-03T17:13:25.917909Z",
     "start_time": "2019-11-03T17:13:25.911924Z"
    }
   },
   "outputs": [],
   "source": [
    "Googleapi = f.read().replace('\\n', '')"
   ]
  },
  {
   "cell_type": "code",
   "execution_count": 8,
   "metadata": {
    "ExecuteTime": {
     "end_time": "2019-11-03T17:13:26.872495Z",
     "start_time": "2019-11-03T17:13:26.666767Z"
    }
   },
   "outputs": [],
   "source": [
    "import googlemaps\n",
    "\n",
    "gmaps = googlemaps.Client(key=Googleapi)\n",
    "geocode_result = gmaps.geocode('1600 Amphitheatre Parkway, Mountain View, CA')"
   ]
  },
  {
   "cell_type": "code",
   "execution_count": 9,
   "metadata": {
    "ExecuteTime": {
     "end_time": "2019-11-03T17:13:27.162365Z",
     "start_time": "2019-11-03T17:13:27.158164Z"
    }
   },
   "outputs": [],
   "source": [
    "def get_geo(location):\n",
    "    geocode_result = gmaps.geocode(location)\n",
    "    geo = geocode_result[0]['geometry']['location']['lat'], geocode_result[0]['geometry']['location']['lng']\n",
    "    return geo"
   ]
  },
  {
   "cell_type": "code",
   "execution_count": 10,
   "metadata": {
    "ExecuteTime": {
     "end_time": "2019-11-03T17:13:27.796608Z",
     "start_time": "2019-11-03T17:13:27.790733Z"
    }
   },
   "outputs": [
    {
     "data": {
      "text/plain": [
       "(37.4216124, -122.083792)"
      ]
     },
     "execution_count": 10,
     "metadata": {},
     "output_type": "execute_result"
    }
   ],
   "source": [
    "geocode_result[0]['geometry']['location']['lat'], geocode_result[0]['geometry']['location']['lng']"
   ]
  },
  {
   "cell_type": "code",
   "execution_count": 12,
   "metadata": {
    "ExecuteTime": {
     "end_time": "2019-11-03T17:13:32.237022Z",
     "start_time": "2019-11-03T17:13:32.230199Z"
    }
   },
   "outputs": [],
   "source": [
    "df_salary_cleaned['location'] = df_salary_cleaned['location'].fillna(0)"
   ]
  },
  {
   "cell_type": "code",
   "execution_count": 16,
   "metadata": {
    "ExecuteTime": {
     "end_time": "2019-11-03T20:34:21.141639Z",
     "start_time": "2019-11-03T17:15:56.885222Z"
    }
   },
   "outputs": [],
   "source": [
    "import time\n",
    "loc = []\n",
    "for i in np.arange(0,17799):\n",
    "    if df_salary_cleaned['location'][i] == 0:\n",
    "        try:\n",
    "            time.sleep(0.3)\n",
    "            loc.append(get_geo(df_salary_cleaned['company'][i])) \n",
    "        except:\n",
    "            loc.append(np.nan)\n",
    "    else:\n",
    "        try:\n",
    "            time.sleep(0.3)\n",
    "            loc.append(get_geo(df_salary_cleaned['company'][i])) \n",
    "        except:\n",
    "            loc.append(np.nan)"
   ]
  },
  {
   "cell_type": "code",
   "execution_count": 19,
   "metadata": {
    "ExecuteTime": {
     "end_time": "2019-11-03T20:41:11.674404Z",
     "start_time": "2019-11-03T20:41:11.669100Z"
    }
   },
   "outputs": [
    {
     "data": {
      "text/plain": [
       "[(33.5123288, -86.8036185),\n",
       " (33.5123288, -86.8036185),\n",
       " (40.6496878, -74.3992284),\n",
       " (32.376105, -86.30327849999999),\n",
       " (32.9026232, -80.0210655),\n",
       " (31.58127009999999, -97.1717752),\n",
       " (33.2098407, -87.56917349999999),\n",
       " (34.6774505, -86.5779171),\n",
       " (34.6645843, -98.4156381),\n",
       " (37.0918096, -76.46707889999999)]"
      ]
     },
     "execution_count": 19,
     "metadata": {},
     "output_type": "execute_result"
    }
   ],
   "source": [
    "loc[:10]"
   ]
  },
  {
   "cell_type": "code",
   "execution_count": 20,
   "metadata": {
    "ExecuteTime": {
     "end_time": "2019-11-03T20:41:14.162227Z",
     "start_time": "2019-11-03T20:41:14.149460Z"
    }
   },
   "outputs": [],
   "source": [
    "df_loc = pd.DataFrame(pd.Series(loc,name='loc'))"
   ]
  },
  {
   "cell_type": "code",
   "execution_count": 21,
   "metadata": {
    "ExecuteTime": {
     "end_time": "2019-11-03T20:41:14.956172Z",
     "start_time": "2019-11-03T20:41:14.938472Z"
    }
   },
   "outputs": [
    {
     "data": {
      "text/html": [
       "<div>\n",
       "<style scoped>\n",
       "    .dataframe tbody tr th:only-of-type {\n",
       "        vertical-align: middle;\n",
       "    }\n",
       "\n",
       "    .dataframe tbody tr th {\n",
       "        vertical-align: top;\n",
       "    }\n",
       "\n",
       "    .dataframe thead th {\n",
       "        text-align: right;\n",
       "    }\n",
       "</style>\n",
       "<table border=\"1\" class=\"dataframe\">\n",
       "  <thead>\n",
       "    <tr style=\"text-align: right;\">\n",
       "      <th></th>\n",
       "      <th>loc</th>\n",
       "    </tr>\n",
       "  </thead>\n",
       "  <tbody>\n",
       "    <tr>\n",
       "      <th>0</th>\n",
       "      <td>(33.5123288, -86.8036185)</td>\n",
       "    </tr>\n",
       "    <tr>\n",
       "      <th>1</th>\n",
       "      <td>(33.5123288, -86.8036185)</td>\n",
       "    </tr>\n",
       "    <tr>\n",
       "      <th>2</th>\n",
       "      <td>(40.6496878, -74.3992284)</td>\n",
       "    </tr>\n",
       "    <tr>\n",
       "      <th>3</th>\n",
       "      <td>(32.376105, -86.30327849999999)</td>\n",
       "    </tr>\n",
       "    <tr>\n",
       "      <th>4</th>\n",
       "      <td>(32.9026232, -80.0210655)</td>\n",
       "    </tr>\n",
       "  </tbody>\n",
       "</table>\n",
       "</div>"
      ],
      "text/plain": [
       "                               loc\n",
       "0        (33.5123288, -86.8036185)\n",
       "1        (33.5123288, -86.8036185)\n",
       "2        (40.6496878, -74.3992284)\n",
       "3  (32.376105, -86.30327849999999)\n",
       "4        (32.9026232, -80.0210655)"
      ]
     },
     "execution_count": 21,
     "metadata": {},
     "output_type": "execute_result"
    }
   ],
   "source": [
    "df_loc.head()"
   ]
  },
  {
   "cell_type": "code",
   "execution_count": 22,
   "metadata": {
    "ExecuteTime": {
     "end_time": "2019-11-03T20:41:17.078895Z",
     "start_time": "2019-11-03T20:41:16.961215Z"
    }
   },
   "outputs": [],
   "source": [
    "df_geo_cleaned = pd.concat([df_salary_cleaned, df_loc], axis=1)"
   ]
  },
  {
   "cell_type": "code",
   "execution_count": null,
   "metadata": {},
   "outputs": [],
   "source": []
  }
 ],
 "metadata": {
  "kernelspec": {
   "display_name": "Python 3",
   "language": "python",
   "name": "python3"
  },
  "language_info": {
   "codemirror_mode": {
    "name": "ipython",
    "version": 3
   },
   "file_extension": ".py",
   "mimetype": "text/x-python",
   "name": "python",
   "nbconvert_exporter": "python",
   "pygments_lexer": "ipython3",
   "version": "3.7.3"
  }
 },
 "nbformat": 4,
 "nbformat_minor": 2
}
