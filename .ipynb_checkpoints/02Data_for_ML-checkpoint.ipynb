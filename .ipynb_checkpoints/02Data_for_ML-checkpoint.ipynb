{
 "cells": [
  {
   "cell_type": "code",
   "execution_count": 2,
   "metadata": {
    "ExecuteTime": {
     "end_time": "2019-11-04T02:19:43.923459Z",
     "start_time": "2019-11-04T02:19:43.519968Z"
    }
   },
   "outputs": [],
   "source": [
    "%matplotlib inline"
   ]
  },
  {
   "cell_type": "code",
   "execution_count": 3,
   "metadata": {
    "ExecuteTime": {
     "end_time": "2019-11-04T02:19:44.186958Z",
     "start_time": "2019-11-04T02:19:43.926905Z"
    }
   },
   "outputs": [],
   "source": [
    "import pandas as pd\n",
    "import numpy as np\n",
    "pd.set_option('display.max_columns', 999)\n",
    "pd.set_option('display.max_rows', 999)\n",
    "df = pd.read_csv('/Users/jz/Downloads/job_data/2/NEW_YORK.csv')"
   ]
  },
  {
   "cell_type": "code",
   "execution_count": 4,
   "metadata": {
    "ExecuteTime": {
     "end_time": "2019-11-04T02:19:44.395724Z",
     "start_time": "2019-11-04T02:19:44.191108Z"
    }
   },
   "outputs": [],
   "source": [
    "f = open(\"/Users/jz/前端/nyc/googleapi.txt\", \"r\")\n",
    "Googleapi = f.read().replace('\\n', '')\n",
    "import googlemaps\n",
    "\n",
    "gmaps = googlemaps.Client(key=Googleapi)\n",
    "geocode_result = gmaps.geocode('1600 Amphitheatre Parkway, Mountain View, CA')"
   ]
  },
  {
   "cell_type": "code",
   "execution_count": 5,
   "metadata": {
    "ExecuteTime": {
     "end_time": "2019-11-04T02:19:44.529062Z",
     "start_time": "2019-11-04T02:19:44.524584Z"
    }
   },
   "outputs": [],
   "source": [
    "def get_geo(location):\n",
    "    geocode_result = gmaps.geocode(location)\n",
    "    geo = geocode_result[0]['geometry']['location']['lat'], geocode_result[0]['geometry']['location']['lng']\n",
    "    return geo"
   ]
  },
  {
   "cell_type": "code",
   "execution_count": 6,
   "metadata": {
    "ExecuteTime": {
     "end_time": "2019-11-04T02:19:45.015110Z",
     "start_time": "2019-11-04T02:19:45.010588Z"
    }
   },
   "outputs": [],
   "source": [
    "df['location'] = df['location'].fillna(0)"
   ]
  },
  {
   "cell_type": "code",
   "execution_count": 8,
   "metadata": {
    "ExecuteTime": {
     "end_time": "2019-11-04T02:19:48.295347Z",
     "start_time": "2019-11-04T02:19:48.289994Z"
    }
   },
   "outputs": [
    {
     "data": {
      "text/plain": [
       "(1151, 9)"
      ]
     },
     "execution_count": 8,
     "metadata": {},
     "output_type": "execute_result"
    }
   ],
   "source": [
    "df.shape"
   ]
  },
  {
   "cell_type": "code",
   "execution_count": 9,
   "metadata": {
    "ExecuteTime": {
     "end_time": "2019-11-04T02:29:49.765177Z",
     "start_time": "2019-11-04T02:19:57.894406Z"
    }
   },
   "outputs": [],
   "source": [
    "import time\n",
    "loc = []\n",
    "for i in np.arange(0,1151):\n",
    "    if df['location'][i] == 0:\n",
    "        try:\n",
    "            time.sleep(0.3)\n",
    "            loc.append(get_geo(df['company'][i])) \n",
    "        except:\n",
    "            loc.append(np.nan)\n",
    "    else:\n",
    "        try:\n",
    "            time.sleep(0.3)\n",
    "            loc.append(get_geo(df['company'][i])) \n",
    "        except:\n",
    "            loc.append(np.nan)"
   ]
  },
  {
   "cell_type": "code",
   "execution_count": 16,
   "metadata": {
    "ExecuteTime": {
     "end_time": "2019-11-04T02:45:00.776495Z",
     "start_time": "2019-11-04T02:45:00.764354Z"
    }
   },
   "outputs": [
    {
     "data": {
      "text/html": [
       "<div>\n",
       "<style scoped>\n",
       "    .dataframe tbody tr th:only-of-type {\n",
       "        vertical-align: middle;\n",
       "    }\n",
       "\n",
       "    .dataframe tbody tr th {\n",
       "        vertical-align: top;\n",
       "    }\n",
       "\n",
       "    .dataframe thead th {\n",
       "        text-align: right;\n",
       "    }\n",
       "</style>\n",
       "<table border=\"1\" class=\"dataframe\">\n",
       "  <thead>\n",
       "    <tr style=\"text-align: right;\">\n",
       "      <th></th>\n",
       "      <th>0</th>\n",
       "      <th>1</th>\n",
       "    </tr>\n",
       "  </thead>\n",
       "  <tbody>\n",
       "    <tr>\n",
       "      <th>0</th>\n",
       "      <td>33.791638</td>\n",
       "      <td>-84.389488</td>\n",
       "    </tr>\n",
       "    <tr>\n",
       "      <th>1</th>\n",
       "      <td>33.791638</td>\n",
       "      <td>-84.389488</td>\n",
       "    </tr>\n",
       "    <tr>\n",
       "      <th>2</th>\n",
       "      <td>40.708677</td>\n",
       "      <td>-74.010093</td>\n",
       "    </tr>\n",
       "    <tr>\n",
       "      <th>3</th>\n",
       "      <td>40.708677</td>\n",
       "      <td>-74.010093</td>\n",
       "    </tr>\n",
       "    <tr>\n",
       "      <th>4</th>\n",
       "      <td>40.682241</td>\n",
       "      <td>-73.968235</td>\n",
       "    </tr>\n",
       "    <tr>\n",
       "      <th>...</th>\n",
       "      <td>...</td>\n",
       "      <td>...</td>\n",
       "    </tr>\n",
       "    <tr>\n",
       "      <th>1146</th>\n",
       "      <td>36.740889</td>\n",
       "      <td>-95.932070</td>\n",
       "    </tr>\n",
       "    <tr>\n",
       "      <th>1147</th>\n",
       "      <td>32.785360</td>\n",
       "      <td>-96.796336</td>\n",
       "    </tr>\n",
       "    <tr>\n",
       "      <th>1148</th>\n",
       "      <td>32.785360</td>\n",
       "      <td>-96.796336</td>\n",
       "    </tr>\n",
       "    <tr>\n",
       "      <th>1149</th>\n",
       "      <td>30.401947</td>\n",
       "      <td>-97.723817</td>\n",
       "    </tr>\n",
       "    <tr>\n",
       "      <th>1150</th>\n",
       "      <td>32.785360</td>\n",
       "      <td>-96.796336</td>\n",
       "    </tr>\n",
       "  </tbody>\n",
       "</table>\n",
       "<p>1151 rows × 2 columns</p>\n",
       "</div>"
      ],
      "text/plain": [
       "              0          1\n",
       "0     33.791638 -84.389488\n",
       "1     33.791638 -84.389488\n",
       "2     40.708677 -74.010093\n",
       "3     40.708677 -74.010093\n",
       "4     40.682241 -73.968235\n",
       "...         ...        ...\n",
       "1146  36.740889 -95.932070\n",
       "1147  32.785360 -96.796336\n",
       "1148  32.785360 -96.796336\n",
       "1149  30.401947 -97.723817\n",
       "1150  32.785360 -96.796336\n",
       "\n",
       "[1151 rows x 2 columns]"
      ]
     },
     "execution_count": 16,
     "metadata": {},
     "output_type": "execute_result"
    }
   ],
   "source": [
    "pd.DataFrame(loc).rename(columns={\"0\": \"lat\", \"1\": \"lng\"})"
   ]
  },
  {
   "cell_type": "code",
   "execution_count": 12,
   "metadata": {
    "ExecuteTime": {
     "end_time": "2019-11-04T02:37:39.479786Z",
     "start_time": "2019-11-04T02:37:39.472477Z"
    }
   },
   "outputs": [],
   "source": [
    "df_loc = pd.DataFrame(pd.Series(loc,name='loc'))\n",
    "df_geo_cleaned = pd.concat([df, df_loc], axis=1)"
   ]
  },
  {
   "cell_type": "code",
   "execution_count": 13,
   "metadata": {
    "ExecuteTime": {
     "end_time": "2019-11-04T02:37:45.008495Z",
     "start_time": "2019-11-04T02:37:44.992748Z"
    }
   },
   "outputs": [
    {
     "data": {
      "text/html": [
       "<div>\n",
       "<style scoped>\n",
       "    .dataframe tbody tr th:only-of-type {\n",
       "        vertical-align: middle;\n",
       "    }\n",
       "\n",
       "    .dataframe tbody tr th {\n",
       "        vertical-align: top;\n",
       "    }\n",
       "\n",
       "    .dataframe thead th {\n",
       "        text-align: right;\n",
       "    }\n",
       "</style>\n",
       "<table border=\"1\" class=\"dataframe\">\n",
       "  <thead>\n",
       "    <tr style=\"text-align: right;\">\n",
       "      <th></th>\n",
       "      <th>job_title</th>\n",
       "      <th>rating</th>\n",
       "      <th>low_salary_year($)</th>\n",
       "      <th>high_salary_year($)</th>\n",
       "      <th>company</th>\n",
       "      <th>reviews</th>\n",
       "      <th>location</th>\n",
       "      <th>datepost</th>\n",
       "      <th>skills</th>\n",
       "      <th>loc</th>\n",
       "    </tr>\n",
       "  </thead>\n",
       "  <tbody>\n",
       "    <tr>\n",
       "      <th>0</th>\n",
       "      <td>Junior Business Analyst, Client Services</td>\n",
       "      <td>NaN</td>\n",
       "      <td>0</td>\n",
       "      <td>0</td>\n",
       "      <td>NaN</td>\n",
       "      <td>NaN</td>\n",
       "      <td>0</td>\n",
       "      <td>30.0</td>\n",
       "      <td>Python, SQL, R</td>\n",
       "      <td>(33.791638, -84.389488)</td>\n",
       "    </tr>\n",
       "    <tr>\n",
       "      <th>1</th>\n",
       "      <td>Data Analyst</td>\n",
       "      <td>NaN</td>\n",
       "      <td>0</td>\n",
       "      <td>0</td>\n",
       "      <td>NaN</td>\n",
       "      <td>NaN</td>\n",
       "      <td>0</td>\n",
       "      <td>30.0</td>\n",
       "      <td>SQL, R, Java, Excel, JavaScript, Business Inte...</td>\n",
       "      <td>(33.791638, -84.389488)</td>\n",
       "    </tr>\n",
       "    <tr>\n",
       "      <th>2</th>\n",
       "      <td>LIBOR - Project Manager / Business Analyst</td>\n",
       "      <td>4.5</td>\n",
       "      <td>0</td>\n",
       "      <td>0</td>\n",
       "      <td>Prospect 33</td>\n",
       "      <td>2.0</td>\n",
       "      <td>New York, NY</td>\n",
       "      <td>30.0</td>\n",
       "      <td>R</td>\n",
       "      <td>(40.7086765, -74.01009309999999)</td>\n",
       "    </tr>\n",
       "    <tr>\n",
       "      <th>3</th>\n",
       "      <td>Business Analyst</td>\n",
       "      <td>4.5</td>\n",
       "      <td>0</td>\n",
       "      <td>0</td>\n",
       "      <td>Prospect 33</td>\n",
       "      <td>2.0</td>\n",
       "      <td>New York, NY</td>\n",
       "      <td>30.0</td>\n",
       "      <td>NaN</td>\n",
       "      <td>(40.7086765, -74.01009309999999)</td>\n",
       "    </tr>\n",
       "    <tr>\n",
       "      <th>4</th>\n",
       "      <td>Data Analyst, PNA</td>\n",
       "      <td>3.8</td>\n",
       "      <td>0</td>\n",
       "      <td>0</td>\n",
       "      <td>New York City NYC HOUSING AUTHORITY</td>\n",
       "      <td>754.0</td>\n",
       "      <td>Manhattan, NY</td>\n",
       "      <td>30.0</td>\n",
       "      <td>R, Excel</td>\n",
       "      <td>(40.6822409, -73.9682349)</td>\n",
       "    </tr>\n",
       "  </tbody>\n",
       "</table>\n",
       "</div>"
      ],
      "text/plain": [
       "                                    job_title  rating low_salary_year($)  \\\n",
       "0    Junior Business Analyst, Client Services     NaN                  0   \n",
       "1                                Data Analyst     NaN                  0   \n",
       "2  LIBOR - Project Manager / Business Analyst     4.5                  0   \n",
       "3                            Business Analyst     4.5                  0   \n",
       "4                           Data Analyst, PNA     3.8                  0   \n",
       "\n",
       "  high_salary_year($)                              company  reviews  \\\n",
       "0                   0                                  NaN      NaN   \n",
       "1                   0                                  NaN      NaN   \n",
       "2                   0                          Prospect 33      2.0   \n",
       "3                   0                          Prospect 33      2.0   \n",
       "4                   0  New York City NYC HOUSING AUTHORITY    754.0   \n",
       "\n",
       "        location  datepost                                             skills  \\\n",
       "0              0      30.0                                     Python, SQL, R   \n",
       "1              0      30.0  SQL, R, Java, Excel, JavaScript, Business Inte...   \n",
       "2   New York, NY      30.0                                                  R   \n",
       "3   New York, NY      30.0                                                NaN   \n",
       "4  Manhattan, NY      30.0                                           R, Excel   \n",
       "\n",
       "                                loc  \n",
       "0           (33.791638, -84.389488)  \n",
       "1           (33.791638, -84.389488)  \n",
       "2  (40.7086765, -74.01009309999999)  \n",
       "3  (40.7086765, -74.01009309999999)  \n",
       "4         (40.6822409, -73.9682349)  "
      ]
     },
     "execution_count": 13,
     "metadata": {},
     "output_type": "execute_result"
    }
   ],
   "source": [
    "df_geo_cleaned.head()"
   ]
  },
  {
   "cell_type": "code",
   "execution_count": null,
   "metadata": {
    "ExecuteTime": {
     "end_time": "2019-11-04T02:02:26.099569Z",
     "start_time": "2019-11-04T02:02:26.064860Z"
    }
   },
   "outputs": [],
   "source": [
    "df.loc[df['rating'] == 0,'rating'] = np.nan\n",
    "df.loc[df['low_salary_year($)'] == 0,'low_salary_year($)'] = np.nan\n",
    "df.loc[df['high_salary_year($)'] == 0,'high_salary_year($)'] = np.nan\n",
    "df.loc[df['reviews'] == 0,'reviews'] = np.nan\n",
    "df.loc[df['datepost'] == 0,'datepost'] = np.nan\n",
    "df[:10]"
   ]
  },
  {
   "cell_type": "code",
   "execution_count": null,
   "metadata": {
    "ExecuteTime": {
     "end_time": "2019-10-27T22:23:21.595885Z",
     "start_time": "2019-10-27T22:23:20.772745Z"
    },
    "scrolled": false
   },
   "outputs": [],
   "source": [
    "df_noskill = df.drop(['skills'], axis=1)\n",
    "df_skill = df['skills'].str.get_dummies(sep=', ')\n",
    "df_skill_rank = df_skill.sum().to_frame(name='count').sort_values(by=['count'], ascending=False)[:50]\n",
    "df_skill_rank.sort_values(by=['count'], ascending=True).plot.barh(figsize=(20,20))"
   ]
  },
  {
   "cell_type": "code",
   "execution_count": null,
   "metadata": {
    "ExecuteTime": {
     "end_time": "2019-10-27T22:23:21.635044Z",
     "start_time": "2019-10-27T22:23:21.598899Z"
    }
   },
   "outputs": [],
   "source": [
    "df_noskill.describe(include='all')"
   ]
  },
  {
   "cell_type": "code",
   "execution_count": null,
   "metadata": {
    "ExecuteTime": {
     "end_time": "2019-10-27T22:23:21.659810Z",
     "start_time": "2019-10-27T22:23:21.638895Z"
    }
   },
   "outputs": [],
   "source": [
    "df_noskill['company']"
   ]
  },
  {
   "cell_type": "code",
   "execution_count": null,
   "metadata": {
    "ExecuteTime": {
     "end_time": "2019-10-27T22:23:21.701547Z",
     "start_time": "2019-10-27T22:23:21.662257Z"
    }
   },
   "outputs": [],
   "source": [
    "from geopy.geocoders import Nominatim\n",
    "geolocator = Nominatim(user_agent=\"nyc_zip_app\")"
   ]
  },
  {
   "cell_type": "code",
   "execution_count": null,
   "metadata": {
    "ExecuteTime": {
     "end_time": "2019-10-27T22:23:22.083670Z",
     "start_time": "2019-10-27T22:23:21.705276Z"
    }
   },
   "outputs": [],
   "source": [
    "loc_address = 'Manhattan, NY'\n",
    "location = geolocator.geocode(loc_address)\n",
    "print((location.latitude, location.longitude))"
   ]
  },
  {
   "cell_type": "code",
   "execution_count": null,
   "metadata": {
    "ExecuteTime": {
     "end_time": "2019-10-27T22:23:22.345509Z",
     "start_time": "2019-10-27T22:23:22.086642Z"
    }
   },
   "outputs": [],
   "source": [
    "df_noskill"
   ]
  },
  {
   "cell_type": "code",
   "execution_count": null,
   "metadata": {
    "ExecuteTime": {
     "end_time": "2019-10-27T22:36:51.140546Z",
     "start_time": "2019-10-27T22:23:22.349008Z"
    },
    "code_folding": []
   },
   "outputs": [],
   "source": [
    "import time\n",
    "loc = []\n",
    "for i in df_noskill['location']:\n",
    "    time.sleep(0.3)\n",
    "    try:\n",
    "        location = geolocator.geocode(i)\n",
    "        loc.append([location.latitude,location.longitude]) \n",
    "    except:\n",
    "        loc.append(np.nan)"
   ]
  },
  {
   "cell_type": "code",
   "execution_count": null,
   "metadata": {
    "ExecuteTime": {
     "end_time": "2019-10-27T22:36:51.150955Z",
     "start_time": "2019-10-27T22:36:51.146231Z"
    }
   },
   "outputs": [],
   "source": [
    "df_loc = pd.DataFrame(pd.Series(loc,name='loc'))"
   ]
  },
  {
   "cell_type": "code",
   "execution_count": null,
   "metadata": {
    "ExecuteTime": {
     "end_time": "2019-10-27T23:26:02.314114Z",
     "start_time": "2019-10-27T23:26:02.273309Z"
    }
   },
   "outputs": [],
   "source": [
    "df_loc.head()"
   ]
  },
  {
   "cell_type": "code",
   "execution_count": null,
   "metadata": {
    "ExecuteTime": {
     "end_time": "2019-10-27T22:36:51.432941Z",
     "start_time": "2019-10-27T22:36:51.423115Z"
    }
   },
   "outputs": [],
   "source": [
    "# Use EXCEL\n",
    "#df_loc.to_csv('df_loc.csv')"
   ]
  },
  {
   "cell_type": "code",
   "execution_count": null,
   "metadata": {
    "ExecuteTime": {
     "end_time": "2019-10-28T01:25:48.869608Z",
     "start_time": "2019-10-28T01:25:48.863758Z"
    }
   },
   "outputs": [],
   "source": [
    "df_loc = pd.read_csv('df_loc.csv')"
   ]
  },
  {
   "cell_type": "code",
   "execution_count": null,
   "metadata": {
    "ExecuteTime": {
     "end_time": "2019-10-28T01:25:49.614471Z",
     "start_time": "2019-10-28T01:25:49.607358Z"
    }
   },
   "outputs": [],
   "source": [
    "df_update = pd.concat([df_noskill, df_loc], axis=1)"
   ]
  },
  {
   "cell_type": "code",
   "execution_count": null,
   "metadata": {
    "ExecuteTime": {
     "end_time": "2019-10-28T01:25:50.689645Z",
     "start_time": "2019-10-28T01:25:50.385998Z"
    }
   },
   "outputs": [],
   "source": [
    "df_update"
   ]
  },
  {
   "cell_type": "code",
   "execution_count": null,
   "metadata": {
    "ExecuteTime": {
     "end_time": "2019-10-28T01:25:59.586764Z",
     "start_time": "2019-10-28T01:25:59.569804Z"
    }
   },
   "outputs": [],
   "source": [
    "len(df_update['job_title'])\n",
    "df_update['Is_DA'] = np.nan\n"
   ]
  },
  {
   "cell_type": "code",
   "execution_count": null,
   "metadata": {
    "ExecuteTime": {
     "end_time": "2019-10-28T01:26:35.650182Z",
     "start_time": "2019-10-28T01:26:01.442390Z"
    }
   },
   "outputs": [],
   "source": [
    "for i in np.arange(0,1151):\n",
    "    if 'data' in df_update['job_title'][i].lower():\n",
    "        df_update['Is_DA'][i] = 1\n",
    "    else:\n",
    "        df_update['Is_DA'][i] = 0"
   ]
  },
  {
   "cell_type": "code",
   "execution_count": null,
   "metadata": {
    "ExecuteTime": {
     "end_time": "2019-10-28T01:26:35.670492Z",
     "start_time": "2019-10-28T01:26:35.653330Z"
    }
   },
   "outputs": [],
   "source": [
    "df_update = pd.concat([df_update, df_skill], axis=1)"
   ]
  },
  {
   "cell_type": "code",
   "execution_count": null,
   "metadata": {
    "ExecuteTime": {
     "end_time": "2019-10-28T01:27:04.280372Z",
     "start_time": "2019-10-28T01:27:04.188118Z"
    }
   },
   "outputs": [],
   "source": [
    "df_update.head()"
   ]
  },
  {
   "cell_type": "code",
   "execution_count": null,
   "metadata": {
    "ExecuteTime": {
     "end_time": "2019-10-28T01:29:27.786629Z",
     "start_time": "2019-10-28T01:29:27.557230Z"
    }
   },
   "outputs": [],
   "source": [
    "df_update.to_csv('/Users/jz/Downloads/job_data/2/df_update.csv')"
   ]
  },
  {
   "cell_type": "code",
   "execution_count": null,
   "metadata": {},
   "outputs": [],
   "source": []
  }
 ],
 "metadata": {
  "kernelspec": {
   "display_name": "Python 3",
   "language": "python",
   "name": "python3"
  },
  "language_info": {
   "codemirror_mode": {
    "name": "ipython",
    "version": 3
   },
   "file_extension": ".py",
   "mimetype": "text/x-python",
   "name": "python",
   "nbconvert_exporter": "python",
   "pygments_lexer": "ipython3",
   "version": "3.7.3"
  }
 },
 "nbformat": 4,
 "nbformat_minor": 2
}
