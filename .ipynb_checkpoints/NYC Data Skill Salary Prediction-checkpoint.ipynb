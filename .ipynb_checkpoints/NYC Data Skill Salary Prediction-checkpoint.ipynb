{
 "cells": [
  {
   "cell_type": "markdown",
   "metadata": {},
   "source": [
    "### ML for Flask"
   ]
  },
  {
   "cell_type": "code",
   "execution_count": 12,
   "metadata": {
    "ExecuteTime": {
     "end_time": "2019-11-26T02:59:15.231105Z",
     "start_time": "2019-11-26T02:59:15.213626Z"
    }
   },
   "outputs": [],
   "source": [
    "import pickle\n",
    "import pandas as pd\n",
    "import numpy as np\n",
    "xgb_model_min_loaded = pickle.load(open('ny_min_xgb_model_min.pickle', \"rb\"))\n",
    "xgb_model_max_loaded = pickle.load(open('ny_max_xgb_model_min.pickle', \"rb\"))\n",
    "\n",
    "\n",
    "sel_features = ['rating','.Net', 'AI', 'AWS', 'Azure', 'Big Data', 'Business Intelligence',\n",
    "                'C/C++', 'Data Analysis', 'Data Science', 'Data Warehouse', 'Excel',\n",
    "                'Git', 'HBase', 'Hadoop', 'Hive', 'Java', 'JavaScript', 'Kafka',\n",
    "                'Linux', 'MATLAB', 'Machine Learning', 'Microsoft Office',\n",
    "                'Microsoft SQL Server', 'MongoDB', 'MySQL', 'Natural Language Processing',\n",
    "                'NoSQL', 'Oracle', 'Perl', 'Pig', 'PostgreSQL', 'Project Management',\n",
    "                'Python', 'R', 'S3', 'SAS', 'SPSS', 'SQL', 'Scala', 'Scripting',\n",
    "                'Shell Scripting', 'Software Development', 'Spark', 'Tableau', 'TensorFlow']\n",
    "\n",
    "def NYC_salary_with_skills(rating,inputs_list):\n",
    "    sample_list = [0] * (len(sel_features))\n",
    "    input_X = pd.DataFrame([sample_list],\n",
    "                               columns=list(sel_features))\n",
    "    for inputs in inputs_list:\n",
    "        if inputs in list(input_X.columns):\n",
    "            input_X[inputs] = 1\n",
    "    input_X['rating'] = float(rating)\n",
    "    salary = (int(xgb_model_min_loaded.predict(input_X[:1])), int(xgb_model_max_loaded.predict(input_X[:1])))\n",
    "    return salary"
   ]
  },
  {
   "cell_type": "code",
   "execution_count": 14,
   "metadata": {
    "ExecuteTime": {
     "end_time": "2019-11-26T03:00:21.457244Z",
     "start_time": "2019-11-26T03:00:21.078023Z"
    }
   },
   "outputs": [],
   "source": [
    "skill_money = {}\n",
    "skill_money_list = []\n",
    "for skill in sel_features[1:]:\n",
    "    skill_money['skill'] = skill\n",
    "    skill_money['salary'] = NYC_salary_with_skills(3.6, [skill])\n",
    "    skill_money_list.append(skill_money)\n",
    "    skill_money = {}\n",
    "single_skill = pd.DataFrame(skill_money_list).sort_values('salary', ascending=False)"
   ]
  },
  {
   "cell_type": "code",
   "execution_count": 15,
   "metadata": {
    "ExecuteTime": {
     "end_time": "2019-11-26T03:00:22.157859Z",
     "start_time": "2019-11-26T03:00:22.142836Z"
    }
   },
   "outputs": [],
   "source": [
    "def NYC_salary_with_skills_and(rating, inputs_list):\n",
    "    \n",
    "    sample_list = [0] * (len(sel_features))\n",
    "    input_x = pd.DataFrame([sample_list],\n",
    "                 columns =list(sel_features))\n",
    "\n",
    "    for inputs in inputs_list:\n",
    "        if inputs in list(input_x.columns):\n",
    "            input_x[inputs] = 1\n",
    "    salary_min = int(xgb_model_min_loaded.predict(input_x[:1]))\n",
    "    salary_max = int(xgb_model_max_loaded.predict(input_x[:1]))\n",
    "\n",
    "    \n",
    "    # suggest skill with more salary    \n",
    "    suggest_list = []\n",
    "    all_list = inputs_list\n",
    "\n",
    "    for skill in single_skill['skill'][:10]:\n",
    "        if skill not in inputs_list:\n",
    "            suggest_list.append(skill)\n",
    "\n",
    "        suggest_list_salary = {}\n",
    "        suggest_list_salary_list = []\n",
    "        for skill in suggest_list:\n",
    "            all_list = []\n",
    "            all_list = inputs_list+ [skill]\n",
    "            suggest_list_salary['skill'] = skill\n",
    "            suggest_list_salary['salary'] = int(np.subtract(NYC_salary_with_skills(rating,all_list), NYC_salary_with_skills(rating,inputs_list)).mean())\n",
    "            suggest_list_salary_list.append(suggest_list_salary)\n",
    "            suggest_list_salary = {}\n",
    "    suggest_skills = pd.DataFrame(suggest_list_salary_list).sort_values('salary',ascending=False)\n",
    "    suggest_skills = suggest_skills[suggest_skills['salary'] > 0 ]\n",
    "    suggest_skills.columns = ['Skill', 'Salary increase by $']\n",
    "    return {'Min_Salary': salary_min, 'Max_Salary': salary_max, 'Suggest_Skills': suggest_skills}"
   ]
  },
  {
   "cell_type": "code",
   "execution_count": 16,
   "metadata": {
    "ExecuteTime": {
     "end_time": "2019-11-26T03:00:23.656957Z",
     "start_time": "2019-11-26T03:00:22.902689Z"
    },
    "scrolled": true
   },
   "outputs": [
    {
     "data": {
      "text/plain": [
       "{'Min_Salary': 66400,\n",
       " 'Max_Salary': 75639,\n",
       " 'Suggest_Skills':                   Skill  Salary increase by $\n",
       " 4    Project Management                 28649\n",
       " 0          Data Science                 22929\n",
       " 1  Microsoft SQL Server                 21086\n",
       " 2                    AI                 17598\n",
       " 3            TensorFlow                 13513\n",
       " 8                MATLAB                 11232\n",
       " 5                  Hive                  7607\n",
       " 6                   SAS                  1298}"
      ]
     },
     "execution_count": 16,
     "metadata": {},
     "output_type": "execute_result"
    }
   ],
   "source": [
    "NYC_salary_with_skills_and(3.6,['MySql','R','Tableau','Python'])"
   ]
  },
  {
   "cell_type": "markdown",
   "metadata": {},
   "source": [
    "### Viz for Flask"
   ]
  },
  {
   "cell_type": "code",
   "execution_count": 21,
   "metadata": {
    "ExecuteTime": {
     "end_time": "2019-11-26T03:02:07.822861Z",
     "start_time": "2019-11-26T03:02:07.819883Z"
    }
   },
   "outputs": [],
   "source": [
    "input_list = ['MySql','R','Tableau','Python']\n",
    "rating = 3.6"
   ]
  },
  {
   "cell_type": "code",
   "execution_count": 22,
   "metadata": {
    "ExecuteTime": {
     "end_time": "2019-11-26T03:02:37.243957Z",
     "start_time": "2019-11-26T03:02:36.507866Z"
    }
   },
   "outputs": [
    {
     "data": {
      "text/plain": [
       "{'Min_Salary': 66400,\n",
       " 'Max_Salary': 75639,\n",
       " 'Suggest_Skills':                   Skill  Salary increase by $\n",
       " 4    Project Management                 28649\n",
       " 0          Data Science                 22929\n",
       " 1  Microsoft SQL Server                 21086\n",
       " 2                    AI                 17598\n",
       " 3            TensorFlow                 13513\n",
       " 8                MATLAB                 11232\n",
       " 5                  Hive                  7607\n",
       " 6                   SAS                  1298}"
      ]
     },
     "execution_count": 22,
     "metadata": {},
     "output_type": "execute_result"
    }
   ],
   "source": [
    "NYC_salary_with_skills_and(rating,input_list)"
   ]
  },
  {
   "cell_type": "code",
   "execution_count": 23,
   "metadata": {
    "ExecuteTime": {
     "end_time": "2019-11-26T03:03:52.884693Z",
     "start_time": "2019-11-26T03:03:52.878145Z"
    }
   },
   "outputs": [],
   "source": [
    "import pandas as pd\n",
    "import numpy as np\n",
    "import pyecharts\n",
    "from pyecharts import options as opts\n",
    "df = pd.read_csv('skills_ranking.csv',header=None)"
   ]
  },
  {
   "cell_type": "code",
   "execution_count": 25,
   "metadata": {
    "ExecuteTime": {
     "end_time": "2019-11-26T03:04:07.292229Z",
     "start_time": "2019-11-26T03:04:07.279702Z"
    }
   },
   "outputs": [
    {
     "data": {
      "text/html": [
       "<div>\n",
       "<style scoped>\n",
       "    .dataframe tbody tr th:only-of-type {\n",
       "        vertical-align: middle;\n",
       "    }\n",
       "\n",
       "    .dataframe tbody tr th {\n",
       "        vertical-align: top;\n",
       "    }\n",
       "\n",
       "    .dataframe thead th {\n",
       "        text-align: right;\n",
       "    }\n",
       "</style>\n",
       "<table border=\"1\" class=\"dataframe\">\n",
       "  <thead>\n",
       "    <tr style=\"text-align: right;\">\n",
       "      <th></th>\n",
       "      <th>skill</th>\n",
       "      <th>count</th>\n",
       "    </tr>\n",
       "  </thead>\n",
       "  <tbody>\n",
       "    <tr>\n",
       "      <th>0</th>\n",
       "      <td>Python</td>\n",
       "      <td>3325</td>\n",
       "    </tr>\n",
       "    <tr>\n",
       "      <th>1</th>\n",
       "      <td>SQL</td>\n",
       "      <td>3104</td>\n",
       "    </tr>\n",
       "    <tr>\n",
       "      <th>2</th>\n",
       "      <td>Machine Learning</td>\n",
       "      <td>2297</td>\n",
       "    </tr>\n",
       "    <tr>\n",
       "      <th>3</th>\n",
       "      <td>R</td>\n",
       "      <td>2234</td>\n",
       "    </tr>\n",
       "    <tr>\n",
       "      <th>4</th>\n",
       "      <td>Hadoop</td>\n",
       "      <td>1714</td>\n",
       "    </tr>\n",
       "    <tr>\n",
       "      <th>...</th>\n",
       "      <td>...</td>\n",
       "      <td>...</td>\n",
       "    </tr>\n",
       "    <tr>\n",
       "      <th>459</th>\n",
       "      <td>TestNG</td>\n",
       "      <td>1</td>\n",
       "    </tr>\n",
       "    <tr>\n",
       "      <th>460</th>\n",
       "      <td>UltiPro</td>\n",
       "      <td>1</td>\n",
       "    </tr>\n",
       "    <tr>\n",
       "      <th>461</th>\n",
       "      <td>Wireframing</td>\n",
       "      <td>1</td>\n",
       "    </tr>\n",
       "    <tr>\n",
       "      <th>462</th>\n",
       "      <td>Xero</td>\n",
       "      <td>1</td>\n",
       "    </tr>\n",
       "    <tr>\n",
       "      <th>463</th>\n",
       "      <td>openSUSE</td>\n",
       "      <td>1</td>\n",
       "    </tr>\n",
       "  </tbody>\n",
       "</table>\n",
       "<p>464 rows × 2 columns</p>\n",
       "</div>"
      ],
      "text/plain": [
       "                skill  count\n",
       "0              Python   3325\n",
       "1                 SQL   3104\n",
       "2    Machine Learning   2297\n",
       "3                   R   2234\n",
       "4              Hadoop   1714\n",
       "..                ...    ...\n",
       "459            TestNG      1\n",
       "460           UltiPro      1\n",
       "461       Wireframing      1\n",
       "462              Xero      1\n",
       "463          openSUSE      1\n",
       "\n",
       "[464 rows x 2 columns]"
      ]
     },
     "execution_count": 25,
     "metadata": {},
     "output_type": "execute_result"
    }
   ],
   "source": [
    "df.columns = ['skill','count']\n",
    "df"
   ]
  },
  {
   "cell_type": "code",
   "execution_count": null,
   "metadata": {},
   "outputs": [],
   "source": []
  }
 ],
 "metadata": {
  "kernelspec": {
   "display_name": "Python 3",
   "language": "python",
   "name": "python3"
  },
  "language_info": {
   "codemirror_mode": {
    "name": "ipython",
    "version": 3
   },
   "file_extension": ".py",
   "mimetype": "text/x-python",
   "name": "python",
   "nbconvert_exporter": "python",
   "pygments_lexer": "ipython3",
   "version": "3.7.5"
  },
  "toc": {
   "base_numbering": 1,
   "nav_menu": {},
   "number_sections": true,
   "sideBar": true,
   "skip_h1_title": false,
   "title_cell": "Table of Contents",
   "title_sidebar": "Contents",
   "toc_cell": false,
   "toc_position": {},
   "toc_section_display": true,
   "toc_window_display": false
  }
 },
 "nbformat": 4,
 "nbformat_minor": 2
}
