{
 "cells": [
  {
   "cell_type": "code",
   "execution_count": 1,
   "metadata": {
    "ExecuteTime": {
     "end_time": "2019-11-06T04:17:53.609364Z",
     "start_time": "2019-11-06T04:17:52.479177Z"
    }
   },
   "outputs": [],
   "source": [
    "import pickle\n",
    "import pandas as pd\n",
    "import numpy as np\n",
    "xgb_model_min_loaded = pickle.load(open('ny_min_xgb_model_min.pickle', \"rb\"))\n",
    "xgb_model_max_loaded = pickle.load(open('ny_max_xgb_model_min.pickle', \"rb\"))\n",
    "\n",
    "\n",
    "sel_features = ['rating', 'AI', 'AWS', 'Azure', 'Big-Data', 'C/C++', 'Data-Analysis',\n",
    "       'Data-Warehouse', 'Hadoop', 'Hive', 'Java', 'Kafka', 'Linux', 'MATLAB',\n",
    "       'Machine-Learning', 'Microsoft-Office', 'Microsoft-SQL-Server',\n",
    "       'Natural-Language-Processing', 'NoSQL', 'Oracle', 'Pig', 'Python', 'R',\n",
    "       'SAS', 'SQL', 'Scala', 'Scripting', 'Spark', 'Tableau', 'TensorFlow']\n",
    "\n",
    "def NYC_salary_with_skills(rating,inputs_list):\n",
    "    sample_list = [0] * (len(sel_features))\n",
    "    input_X = pd.DataFrame([sample_list],\n",
    "                 columns =list(sel_features))\n",
    "\n",
    "    for inputs in inputs_list:\n",
    "        if inputs in list(input_X.columns):\n",
    "            input_X[inputs] = 1\n",
    "    input_X['rating'] = rating\n",
    "    salary = (int(xgb_model_min_loaded.predict(input_X[:1])),int(xgb_model_max_loaded.predict(input_X[:1])))\n",
    "    return salary\n",
    "\n",
    "def NYC_salary_with_skills_and(rating, inputs_list):\n",
    "    \n",
    "    sample_list = [0] * (len(sel_features))\n",
    "    input_X = pd.DataFrame([sample_list],\n",
    "                 columns =list(sel_features))\n",
    "\n",
    "    for inputs in inputs_list:\n",
    "        if inputs in list(input_X.columns):\n",
    "            input_X[inputs] = 1\n",
    "    salary = (int(xgb_model_min_loaded.predict(input_X[:1])),int(xgb_model_max_loaded.predict(input_X[:1])))\n",
    "\n",
    "    \n",
    "    # suggest skill with more salary    \n",
    "    suggest_list = []\n",
    "    all_list = inputs_list\n",
    "\n",
    "    for skill in single_skill['skill'][:10]:\n",
    "        if skill not in inputs_list:\n",
    "            suggest_list.append(skill)\n",
    "\n",
    "        suggest_list_salary = {}\n",
    "        suggest_list_salary_list = []\n",
    "        for skill in suggest_list:\n",
    "            all_list = []\n",
    "            all_list = inputs_list+ [skill]\n",
    "            suggest_list_salary['skill'] = skill\n",
    "            suggest_list_salary['salary'] = int(np.subtract(NYC_salary_with_skills(rating,all_list), NYC_salary_with_skills(rating,inputs_list)).mean())\n",
    "            suggest_list_salary_list.append(suggest_list_salary)\n",
    "            suggest_list_salary = {}\n",
    "    suggest_skills = pd.DataFrame(suggest_list_salary_list).sort_values('salary',ascending=False)\n",
    "    suggest_skills = suggest_skills[suggest_skills['salary'] > 0 ]\n",
    "    suggest_skills.columns = ['Skill', 'Salary increase by $']\n",
    "    suggest_skills    \n",
    "    print('Annual Salary Range($):',salary)\n",
    "    return suggest_skills[:3]\n",
    "\n",
    "skill_money = {}\n",
    "skill_money_list = []\n",
    "for skill in sel_features[1:]:\n",
    "    skill_money['skill'] = skill\n",
    "    skill_money['salary'] = NYC_salary_with_skills(3.6,[skill])\n",
    "    skill_money_list.append(skill_money)\n",
    "    skill_money = {}\n",
    "single_skill = pd.DataFrame(skill_money_list).sort_values('salary',ascending=False)"
   ]
  },
  {
   "cell_type": "code",
   "execution_count": 2,
   "metadata": {
    "ExecuteTime": {
     "end_time": "2019-11-06T04:17:54.050799Z",
     "start_time": "2019-11-06T04:17:53.624028Z"
    },
    "scrolled": true
   },
   "outputs": [
    {
     "name": "stdout",
     "output_type": "stream",
     "text": [
      "Annual Salary Range($): (132896, 177543)\n"
     ]
    },
    {
     "data": {
      "text/html": [
       "<div>\n",
       "<style scoped>\n",
       "    .dataframe tbody tr th:only-of-type {\n",
       "        vertical-align: middle;\n",
       "    }\n",
       "\n",
       "    .dataframe tbody tr th {\n",
       "        vertical-align: top;\n",
       "    }\n",
       "\n",
       "    .dataframe thead th {\n",
       "        text-align: right;\n",
       "    }\n",
       "</style>\n",
       "<table border=\"1\" class=\"dataframe\">\n",
       "  <thead>\n",
       "    <tr style=\"text-align: right;\">\n",
       "      <th></th>\n",
       "      <th>Skill</th>\n",
       "      <th>Salary increase by $</th>\n",
       "    </tr>\n",
       "  </thead>\n",
       "  <tbody>\n",
       "    <tr>\n",
       "      <th>0</th>\n",
       "      <td>Oracle</td>\n",
       "      <td>24334</td>\n",
       "    </tr>\n",
       "    <tr>\n",
       "      <th>5</th>\n",
       "      <td>SQL</td>\n",
       "      <td>15882</td>\n",
       "    </tr>\n",
       "    <tr>\n",
       "      <th>2</th>\n",
       "      <td>Microsoft-SQL-Server</td>\n",
       "      <td>14634</td>\n",
       "    </tr>\n",
       "  </tbody>\n",
       "</table>\n",
       "</div>"
      ],
      "text/plain": [
       "                  Skill  Salary increase by $\n",
       "0                Oracle                 24334\n",
       "5                   SQL                 15882\n",
       "2  Microsoft-SQL-Server                 14634"
      ]
     },
     "execution_count": 2,
     "metadata": {},
     "output_type": "execute_result"
    }
   ],
   "source": [
    "NYC_salary_with_skills_and(3.6,['Python','R','Tableau','TensorFlow'])"
   ]
  },
  {
   "cell_type": "code",
   "execution_count": null,
   "metadata": {},
   "outputs": [],
   "source": []
  }
 ],
 "metadata": {
  "kernelspec": {
   "display_name": "Python 3",
   "language": "python",
   "name": "python3"
  },
  "language_info": {
   "codemirror_mode": {
    "name": "ipython",
    "version": 3
   },
   "file_extension": ".py",
   "mimetype": "text/x-python",
   "name": "python",
   "nbconvert_exporter": "python",
   "pygments_lexer": "ipython3",
   "version": "3.7.3"
  }
 },
 "nbformat": 4,
 "nbformat_minor": 2
}
