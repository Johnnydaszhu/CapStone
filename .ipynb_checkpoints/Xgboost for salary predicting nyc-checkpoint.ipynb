{
 "cells": [
  {
   "cell_type": "code",
   "execution_count": 4,
   "metadata": {
    "ExecuteTime": {
     "end_time": "2019-11-18T20:38:25.561177Z",
     "start_time": "2019-11-18T20:38:25.196800Z"
    }
   },
   "outputs": [],
   "source": [
    "%matplotlib inline"
   ]
  },
  {
   "cell_type": "code",
   "execution_count": 83,
   "metadata": {
    "ExecuteTime": {
     "end_time": "2019-11-18T21:11:27.660442Z",
     "start_time": "2019-11-18T21:11:27.657477Z"
    }
   },
   "outputs": [],
   "source": [
    "import pandas as pd\n",
    "import numpy as np"
   ]
  },
  {
   "cell_type": "code",
   "execution_count": 84,
   "metadata": {
    "ExecuteTime": {
     "end_time": "2019-11-18T21:11:28.317900Z",
     "start_time": "2019-11-18T21:11:28.281610Z"
    }
   },
   "outputs": [
    {
     "data": {
      "text/html": [
       "<div>\n",
       "<style scoped>\n",
       "    .dataframe tbody tr th:only-of-type {\n",
       "        vertical-align: middle;\n",
       "    }\n",
       "\n",
       "    .dataframe tbody tr th {\n",
       "        vertical-align: top;\n",
       "    }\n",
       "\n",
       "    .dataframe thead th {\n",
       "        text-align: right;\n",
       "    }\n",
       "</style>\n",
       "<table border=\"1\" class=\"dataframe\">\n",
       "  <thead>\n",
       "    <tr style=\"text-align: right;\">\n",
       "      <th></th>\n",
       "      <th>company</th>\n",
       "      <th>com_rating</th>\n",
       "      <th>job1</th>\n",
       "      <th>location</th>\n",
       "      <th>Salary_min($)</th>\n",
       "      <th>Salary_max($)</th>\n",
       "      <th>datepost</th>\n",
       "      <th>desc</th>\n",
       "    </tr>\n",
       "  </thead>\n",
       "  <tbody>\n",
       "    <tr>\n",
       "      <th>0</th>\n",
       "      <td>HEALTHEC</td>\n",
       "      <td>3.5</td>\n",
       "      <td>Data Analyst</td>\n",
       "      <td>Edison, NJ</td>\n",
       "      <td>42000</td>\n",
       "      <td>75000</td>\n",
       "      <td>11</td>\n",
       "      <td>About HealthECHealthEC is a leading innovator ...</td>\n",
       "    </tr>\n",
       "    <tr>\n",
       "      <th>1</th>\n",
       "      <td>Rocketrip</td>\n",
       "      <td>3.5</td>\n",
       "      <td>Data Analyst</td>\n",
       "      <td>New York, NY</td>\n",
       "      <td>61000</td>\n",
       "      <td>115000</td>\n",
       "      <td>27</td>\n",
       "      <td>When was the last time you were planning a bus...</td>\n",
       "    </tr>\n",
       "    <tr>\n",
       "      <th>2</th>\n",
       "      <td>Conduent</td>\n",
       "      <td>2.7</td>\n",
       "      <td>Data Analyst II (SQL, Tableau)</td>\n",
       "      <td>New York, NY</td>\n",
       "      <td>62000</td>\n",
       "      <td>106000</td>\n",
       "      <td>12</td>\n",
       "      <td>About ConduentConduent is the world's largest ...</td>\n",
       "    </tr>\n",
       "    <tr>\n",
       "      <th>3</th>\n",
       "      <td>SeatGeek</td>\n",
       "      <td>4.5</td>\n",
       "      <td>Data Analyst</td>\n",
       "      <td>New York, NY</td>\n",
       "      <td>53000</td>\n",
       "      <td>98000</td>\n",
       "      <td>11</td>\n",
       "      <td>Data-driven decision making has always been im...</td>\n",
       "    </tr>\n",
       "    <tr>\n",
       "      <th>4</th>\n",
       "      <td>Swiss Re</td>\n",
       "      <td>3.6</td>\n",
       "      <td>Data Analyst</td>\n",
       "      <td>Armonk, NY</td>\n",
       "      <td>59000</td>\n",
       "      <td>107000</td>\n",
       "      <td>3</td>\n",
       "      <td>About Swiss Re&lt;/strong&gt;&lt;/p&gt;Become a part of a ...</td>\n",
       "    </tr>\n",
       "    <tr>\n",
       "      <th>...</th>\n",
       "      <td>...</td>\n",
       "      <td>...</td>\n",
       "      <td>...</td>\n",
       "      <td>...</td>\n",
       "      <td>...</td>\n",
       "      <td>...</td>\n",
       "      <td>...</td>\n",
       "      <td>...</td>\n",
       "    </tr>\n",
       "    <tr>\n",
       "      <th>501</th>\n",
       "      <td>Veterans Sourcing Group</td>\n",
       "      <td>2.8</td>\n",
       "      <td>Business Analyst - Data Governance</td>\n",
       "      <td>Stamford, CT</td>\n",
       "      <td>51000</td>\n",
       "      <td>79000</td>\n",
       "      <td>30</td>\n",
       "      <td>Job Title: Business Analyst - Data Governance ...</td>\n",
       "    </tr>\n",
       "    <tr>\n",
       "      <th>502</th>\n",
       "      <td>Blue Book Network Contractors Register</td>\n",
       "      <td>2.9</td>\n",
       "      <td>Programmer Analyst/Data Strategist</td>\n",
       "      <td>Jefferson Valley, NY</td>\n",
       "      <td>45000</td>\n",
       "      <td>62000</td>\n",
       "      <td>7</td>\n",
       "      <td>The Blue Book Building and Construction Networ...</td>\n",
       "    </tr>\n",
       "    <tr>\n",
       "      <th>503</th>\n",
       "      <td>ZS Associates, Inc.</td>\n",
       "      <td>3.9</td>\n",
       "      <td>Senior Business Technology Analyst / Big Data</td>\n",
       "      <td>Princeton, NJ</td>\n",
       "      <td>91000</td>\n",
       "      <td>113000</td>\n",
       "      <td>25</td>\n",
       "      <td>ZS is a professional services firm that works ...</td>\n",
       "    </tr>\n",
       "    <tr>\n",
       "      <th>504</th>\n",
       "      <td>Verisk</td>\n",
       "      <td>3.4</td>\n",
       "      <td>Business Analyst - Enterprise Data Management ...</td>\n",
       "      <td>White Plains, NY</td>\n",
       "      <td>48000</td>\n",
       "      <td>75000</td>\n",
       "      <td>5</td>\n",
       "      <td>Company DescriptionAs one of the original inno...</td>\n",
       "    </tr>\n",
       "    <tr>\n",
       "      <th>505</th>\n",
       "      <td>Syneos Health</td>\n",
       "      <td>3.3</td>\n",
       "      <td>Principal Programmer Analyst (Hadoop/Big Data)</td>\n",
       "      <td>Somerset, NJ</td>\n",
       "      <td>91000</td>\n",
       "      <td>152000</td>\n",
       "      <td>6</td>\n",
       "      <td>Summary:Design,  develop, and deliver solution...</td>\n",
       "    </tr>\n",
       "  </tbody>\n",
       "</table>\n",
       "<p>506 rows × 8 columns</p>\n",
       "</div>"
      ],
      "text/plain": [
       "                                    company  com_rating  \\\n",
       "0                                  HEALTHEC         3.5   \n",
       "1                                 Rocketrip         3.5   \n",
       "2                                  Conduent         2.7   \n",
       "3                                  SeatGeek         4.5   \n",
       "4                                  Swiss Re         3.6   \n",
       "..                                      ...         ...   \n",
       "501                 Veterans Sourcing Group         2.8   \n",
       "502  Blue Book Network Contractors Register         2.9   \n",
       "503                     ZS Associates, Inc.         3.9   \n",
       "504                                  Verisk         3.4   \n",
       "505                           Syneos Health         3.3   \n",
       "\n",
       "                                                  job1              location  \\\n",
       "0                                         Data Analyst            Edison, NJ   \n",
       "1                                         Data Analyst          New York, NY   \n",
       "2                       Data Analyst II (SQL, Tableau)          New York, NY   \n",
       "3                                         Data Analyst          New York, NY   \n",
       "4                                         Data Analyst            Armonk, NY   \n",
       "..                                                 ...                   ...   \n",
       "501                 Business Analyst - Data Governance          Stamford, CT   \n",
       "502                 Programmer Analyst/Data Strategist  Jefferson Valley, NY   \n",
       "503      Senior Business Technology Analyst / Big Data         Princeton, NJ   \n",
       "504  Business Analyst - Enterprise Data Management ...      White Plains, NY   \n",
       "505     Principal Programmer Analyst (Hadoop/Big Data)          Somerset, NJ   \n",
       "\n",
       "     Salary_min($)  Salary_max($)  datepost  \\\n",
       "0            42000          75000        11   \n",
       "1            61000         115000        27   \n",
       "2            62000         106000        12   \n",
       "3            53000          98000        11   \n",
       "4            59000         107000         3   \n",
       "..             ...            ...       ...   \n",
       "501          51000          79000        30   \n",
       "502          45000          62000         7   \n",
       "503          91000         113000        25   \n",
       "504          48000          75000         5   \n",
       "505          91000         152000         6   \n",
       "\n",
       "                                                  desc  \n",
       "0    About HealthECHealthEC is a leading innovator ...  \n",
       "1    When was the last time you were planning a bus...  \n",
       "2    About ConduentConduent is the world's largest ...  \n",
       "3    Data-driven decision making has always been im...  \n",
       "4    About Swiss Re</strong></p>Become a part of a ...  \n",
       "..                                                 ...  \n",
       "501  Job Title: Business Analyst - Data Governance ...  \n",
       "502  The Blue Book Building and Construction Networ...  \n",
       "503  ZS is a professional services firm that works ...  \n",
       "504  Company DescriptionAs one of the original inno...  \n",
       "505  Summary:Design,  develop, and deliver solution...  \n",
       "\n",
       "[506 rows x 8 columns]"
      ]
     },
     "execution_count": 84,
     "metadata": {},
     "output_type": "execute_result"
    }
   ],
   "source": [
    "df_orinal = pd.read_csv('/Users/jz/Downloads/job_data/nyc/2019-11-18_nyc_salary_update.csv')\n",
    "df_orinal"
   ]
  },
  {
   "cell_type": "code",
   "execution_count": 85,
   "metadata": {
    "ExecuteTime": {
     "end_time": "2019-11-18T21:11:29.221146Z",
     "start_time": "2019-11-18T21:11:29.216391Z"
    }
   },
   "outputs": [],
   "source": [
    "df_orinal['com_rating'] = df_orinal['com_rating'].fillna(0)\n",
    "df_orinal['location'] = df_orinal['location'].fillna(0)"
   ]
  },
  {
   "cell_type": "code",
   "execution_count": 86,
   "metadata": {
    "ExecuteTime": {
     "end_time": "2019-11-18T21:11:30.752359Z",
     "start_time": "2019-11-18T21:11:30.729068Z"
    }
   },
   "outputs": [
    {
     "data": {
      "text/html": [
       "<div>\n",
       "<style scoped>\n",
       "    .dataframe tbody tr th:only-of-type {\n",
       "        vertical-align: middle;\n",
       "    }\n",
       "\n",
       "    .dataframe tbody tr th {\n",
       "        vertical-align: top;\n",
       "    }\n",
       "\n",
       "    .dataframe thead th {\n",
       "        text-align: right;\n",
       "    }\n",
       "</style>\n",
       "<table border=\"1\" class=\"dataframe\">\n",
       "  <thead>\n",
       "    <tr style=\"text-align: right;\">\n",
       "      <th></th>\n",
       "      <th>com_rating</th>\n",
       "      <th>Salary_min($)</th>\n",
       "      <th>Salary_max($)</th>\n",
       "      <th>datepost</th>\n",
       "    </tr>\n",
       "  </thead>\n",
       "  <tbody>\n",
       "    <tr>\n",
       "      <th>count</th>\n",
       "      <td>506.000000</td>\n",
       "      <td>506.000000</td>\n",
       "      <td>506.000000</td>\n",
       "      <td>506.000000</td>\n",
       "    </tr>\n",
       "    <tr>\n",
       "      <th>mean</th>\n",
       "      <td>3.564229</td>\n",
       "      <td>57379.446640</td>\n",
       "      <td>91169.960474</td>\n",
       "      <td>13.808300</td>\n",
       "    </tr>\n",
       "    <tr>\n",
       "      <th>std</th>\n",
       "      <td>0.588205</td>\n",
       "      <td>17925.873012</td>\n",
       "      <td>25324.952803</td>\n",
       "      <td>9.455304</td>\n",
       "    </tr>\n",
       "    <tr>\n",
       "      <th>min</th>\n",
       "      <td>0.000000</td>\n",
       "      <td>30000.000000</td>\n",
       "      <td>50000.000000</td>\n",
       "      <td>1.000000</td>\n",
       "    </tr>\n",
       "    <tr>\n",
       "      <th>25%</th>\n",
       "      <td>3.200000</td>\n",
       "      <td>46000.000000</td>\n",
       "      <td>75000.000000</td>\n",
       "      <td>5.000000</td>\n",
       "    </tr>\n",
       "    <tr>\n",
       "      <th>50%</th>\n",
       "      <td>3.600000</td>\n",
       "      <td>53000.000000</td>\n",
       "      <td>85000.000000</td>\n",
       "      <td>12.000000</td>\n",
       "    </tr>\n",
       "    <tr>\n",
       "      <th>75%</th>\n",
       "      <td>3.900000</td>\n",
       "      <td>63000.000000</td>\n",
       "      <td>101000.000000</td>\n",
       "      <td>21.000000</td>\n",
       "    </tr>\n",
       "    <tr>\n",
       "      <th>max</th>\n",
       "      <td>5.000000</td>\n",
       "      <td>158000.000000</td>\n",
       "      <td>223000.000000</td>\n",
       "      <td>30.000000</td>\n",
       "    </tr>\n",
       "  </tbody>\n",
       "</table>\n",
       "</div>"
      ],
      "text/plain": [
       "       com_rating  Salary_min($)  Salary_max($)    datepost\n",
       "count  506.000000     506.000000     506.000000  506.000000\n",
       "mean     3.564229   57379.446640   91169.960474   13.808300\n",
       "std      0.588205   17925.873012   25324.952803    9.455304\n",
       "min      0.000000   30000.000000   50000.000000    1.000000\n",
       "25%      3.200000   46000.000000   75000.000000    5.000000\n",
       "50%      3.600000   53000.000000   85000.000000   12.000000\n",
       "75%      3.900000   63000.000000  101000.000000   21.000000\n",
       "max      5.000000  158000.000000  223000.000000   30.000000"
      ]
     },
     "execution_count": 86,
     "metadata": {},
     "output_type": "execute_result"
    }
   ],
   "source": [
    "df_orinal.describe()"
   ]
  },
  {
   "cell_type": "markdown",
   "metadata": {},
   "source": [
    "### Get Lat & Lng"
   ]
  },
  {
   "cell_type": "code",
   "execution_count": 87,
   "metadata": {
    "ExecuteTime": {
     "end_time": "2019-11-18T21:11:32.771824Z",
     "start_time": "2019-11-18T21:11:32.595478Z"
    }
   },
   "outputs": [],
   "source": [
    "f = open(\"/Users/jz/前端/nyc/googleapi.txt\", \"r\")\n",
    "Googleapi = f.read().replace('\\n', '')\n",
    "\n",
    "import googlemaps\n",
    "gmaps = googlemaps.Client(key=Googleapi)\n",
    "geocode_result = gmaps.geocode('1600 Amphitheatre Parkway, Mountain View, CA')\n",
    "\n",
    "def get_geo_lat(location):\n",
    "    geocode_result = gmaps.geocode(location)\n",
    "    geo_lat = geocode_result[0]['geometry']['location']['lat']\n",
    "    return geo_lat\n",
    "\n",
    "def get_geo_lng(location):\n",
    "    geocode_result = gmaps.geocode(location)\n",
    "    geo_lng = geocode_result[0]['geometry']['location']['lng']\n",
    "    return geo_lng"
   ]
  },
  {
   "cell_type": "code",
   "execution_count": 88,
   "metadata": {
    "ExecuteTime": {
     "end_time": "2019-11-18T21:11:33.982876Z",
     "start_time": "2019-11-18T21:11:33.975768Z"
    },
    "scrolled": true
   },
   "outputs": [
    {
     "data": {
      "text/plain": [
       "(37.4210596, -122.0847774)"
      ]
     },
     "execution_count": 88,
     "metadata": {},
     "output_type": "execute_result"
    }
   ],
   "source": [
    "geocode_result[0]['geometry']['location']['lat'], geocode_result[0]['geometry']['location']['lng']"
   ]
  },
  {
   "cell_type": "code",
   "execution_count": 89,
   "metadata": {
    "ExecuteTime": {
     "end_time": "2019-11-18T21:11:35.131181Z",
     "start_time": "2019-11-18T21:11:34.864156Z"
    }
   },
   "outputs": [
    {
     "name": "stdout",
     "output_type": "stream",
     "text": [
      "40.7127753 -74.0059728\n"
     ]
    }
   ],
   "source": [
    "print(get_geo_lat('New York, NY'),get_geo_lng('New York, NY'))"
   ]
  },
  {
   "cell_type": "code",
   "execution_count": 90,
   "metadata": {
    "ExecuteTime": {
     "end_time": "2019-11-18T21:13:48.474993Z",
     "start_time": "2019-11-18T21:11:36.592620Z"
    }
   },
   "outputs": [],
   "source": [
    "import time\n",
    "lat = []\n",
    "lng = []\n",
    "for i in range(0,len(df_orinal['location'])):\n",
    "    try:\n",
    "        lat.append(get_geo_lat(df_orinal['location'][i]))\n",
    "        time.sleep(0.1)\n",
    "        lng.append(get_geo_lng(df_orinal['location'][i]))\n",
    "    except:\n",
    "        lat.append(df_orinal['location'][i])\n",
    "        lng.append(df_orinal['location'][i])\n",
    "        print(df_orinal['location'][i])"
   ]
  },
  {
   "cell_type": "code",
   "execution_count": 91,
   "metadata": {
    "ExecuteTime": {
     "end_time": "2019-11-18T21:13:48.487704Z",
     "start_time": "2019-11-18T21:13:48.477965Z"
    }
   },
   "outputs": [],
   "source": [
    "df = pd.concat([df_orinal, pd.DataFrame(pd.Series(lat,name='lat'))], axis=1)\n",
    "df = pd.concat([df, pd.DataFrame(pd.Series(lng,name='lng'))], axis=1)"
   ]
  },
  {
   "cell_type": "code",
   "execution_count": 92,
   "metadata": {
    "ExecuteTime": {
     "end_time": "2019-11-18T21:13:48.507914Z",
     "start_time": "2019-11-18T21:13:48.491959Z"
    }
   },
   "outputs": [
    {
     "data": {
      "text/html": [
       "<div>\n",
       "<style scoped>\n",
       "    .dataframe tbody tr th:only-of-type {\n",
       "        vertical-align: middle;\n",
       "    }\n",
       "\n",
       "    .dataframe tbody tr th {\n",
       "        vertical-align: top;\n",
       "    }\n",
       "\n",
       "    .dataframe thead th {\n",
       "        text-align: right;\n",
       "    }\n",
       "</style>\n",
       "<table border=\"1\" class=\"dataframe\">\n",
       "  <thead>\n",
       "    <tr style=\"text-align: right;\">\n",
       "      <th></th>\n",
       "      <th>company</th>\n",
       "      <th>com_rating</th>\n",
       "      <th>job1</th>\n",
       "      <th>location</th>\n",
       "      <th>Salary_min($)</th>\n",
       "      <th>Salary_max($)</th>\n",
       "      <th>datepost</th>\n",
       "      <th>desc</th>\n",
       "      <th>lat</th>\n",
       "      <th>lng</th>\n",
       "    </tr>\n",
       "  </thead>\n",
       "  <tbody>\n",
       "    <tr>\n",
       "      <th>0</th>\n",
       "      <td>HEALTHEC</td>\n",
       "      <td>3.5</td>\n",
       "      <td>Data Analyst</td>\n",
       "      <td>Edison, NJ</td>\n",
       "      <td>42000</td>\n",
       "      <td>75000</td>\n",
       "      <td>11</td>\n",
       "      <td>About HealthECHealthEC is a leading innovator ...</td>\n",
       "      <td>40.518715</td>\n",
       "      <td>-74.412095</td>\n",
       "    </tr>\n",
       "    <tr>\n",
       "      <th>1</th>\n",
       "      <td>Rocketrip</td>\n",
       "      <td>3.5</td>\n",
       "      <td>Data Analyst</td>\n",
       "      <td>New York, NY</td>\n",
       "      <td>61000</td>\n",
       "      <td>115000</td>\n",
       "      <td>27</td>\n",
       "      <td>When was the last time you were planning a bus...</td>\n",
       "      <td>40.712775</td>\n",
       "      <td>-74.005973</td>\n",
       "    </tr>\n",
       "    <tr>\n",
       "      <th>2</th>\n",
       "      <td>Conduent</td>\n",
       "      <td>2.7</td>\n",
       "      <td>Data Analyst II (SQL, Tableau)</td>\n",
       "      <td>New York, NY</td>\n",
       "      <td>62000</td>\n",
       "      <td>106000</td>\n",
       "      <td>12</td>\n",
       "      <td>About ConduentConduent is the world's largest ...</td>\n",
       "      <td>40.712775</td>\n",
       "      <td>-74.005973</td>\n",
       "    </tr>\n",
       "    <tr>\n",
       "      <th>3</th>\n",
       "      <td>SeatGeek</td>\n",
       "      <td>4.5</td>\n",
       "      <td>Data Analyst</td>\n",
       "      <td>New York, NY</td>\n",
       "      <td>53000</td>\n",
       "      <td>98000</td>\n",
       "      <td>11</td>\n",
       "      <td>Data-driven decision making has always been im...</td>\n",
       "      <td>40.712775</td>\n",
       "      <td>-74.005973</td>\n",
       "    </tr>\n",
       "    <tr>\n",
       "      <th>4</th>\n",
       "      <td>Swiss Re</td>\n",
       "      <td>3.6</td>\n",
       "      <td>Data Analyst</td>\n",
       "      <td>Armonk, NY</td>\n",
       "      <td>59000</td>\n",
       "      <td>107000</td>\n",
       "      <td>3</td>\n",
       "      <td>About Swiss Re&lt;/strong&gt;&lt;/p&gt;Become a part of a ...</td>\n",
       "      <td>41.126485</td>\n",
       "      <td>-73.714019</td>\n",
       "    </tr>\n",
       "  </tbody>\n",
       "</table>\n",
       "</div>"
      ],
      "text/plain": [
       "     company  com_rating                            job1      location  \\\n",
       "0   HEALTHEC         3.5                    Data Analyst    Edison, NJ   \n",
       "1  Rocketrip         3.5                    Data Analyst  New York, NY   \n",
       "2   Conduent         2.7  Data Analyst II (SQL, Tableau)  New York, NY   \n",
       "3   SeatGeek         4.5                    Data Analyst  New York, NY   \n",
       "4   Swiss Re         3.6                    Data Analyst    Armonk, NY   \n",
       "\n",
       "   Salary_min($)  Salary_max($)  datepost  \\\n",
       "0          42000          75000        11   \n",
       "1          61000         115000        27   \n",
       "2          62000         106000        12   \n",
       "3          53000          98000        11   \n",
       "4          59000         107000         3   \n",
       "\n",
       "                                                desc        lat        lng  \n",
       "0  About HealthECHealthEC is a leading innovator ...  40.518715 -74.412095  \n",
       "1  When was the last time you were planning a bus...  40.712775 -74.005973  \n",
       "2  About ConduentConduent is the world's largest ...  40.712775 -74.005973  \n",
       "3  Data-driven decision making has always been im...  40.712775 -74.005973  \n",
       "4  About Swiss Re</strong></p>Become a part of a ...  41.126485 -73.714019  "
      ]
     },
     "execution_count": 92,
     "metadata": {},
     "output_type": "execute_result"
    }
   ],
   "source": [
    "df.head()"
   ]
  },
  {
   "cell_type": "markdown",
   "metadata": {},
   "source": [
    "### Get Skill list"
   ]
  },
  {
   "cell_type": "code",
   "execution_count": 93,
   "metadata": {
    "ExecuteTime": {
     "end_time": "2019-11-18T21:13:48.600605Z",
     "start_time": "2019-11-18T21:13:48.513936Z"
    }
   },
   "outputs": [],
   "source": [
    "skill_count = pd.read_csv('/Users/jz/Github/CapStone/Others/skills2.csv')\n",
    "\n",
    "df['desc'] = df['desc'].fillna('pass')\n",
    "skill_list = skill_count['skills'][:50]\n",
    "\n",
    "# create tuple of skill\n",
    "def skill_cell_func(cell):\n",
    "\n",
    "    skill_cell = ()\n",
    "    if cell =='pass':\n",
    "        pass\n",
    "    else:\n",
    "        for skill in skill_list:\n",
    "            if skill in cell:\n",
    "                skill_cell = skill_cell + (skill,)\n",
    "    return skill_cell\n",
    "\n",
    "# create list of skill list\n",
    "cell_list_list = []\n",
    "for cell in df['desc']:\n",
    "    cell_list = list(skill_cell_func(cell))\n",
    "    cell_list_list.append(cell_list)\n",
    "\n",
    "# export csv file of list of skill list and then concat with df in Excel\n",
    "cell_series = pd.Series(cell_list_list)"
   ]
  },
  {
   "cell_type": "code",
   "execution_count": 94,
   "metadata": {
    "ExecuteTime": {
     "end_time": "2019-11-18T21:13:48.615994Z",
     "start_time": "2019-11-18T21:13:48.604817Z"
    }
   },
   "outputs": [
    {
     "data": {
      "text/plain": [
       "0                       [Python, SQL, R, Tableau, Excel]\n",
       "1                       [Python, SQL, R, Tableau, Excel]\n",
       "2         [Python, SQL, R, Java, Tableau, Oracle, Excel]\n",
       "3                                       [Python, SQL, R]\n",
       "4                  [Python, SQL, R, Tableau, SAS, Excel]\n",
       "                             ...                        \n",
       "501                                                  [R]\n",
       "502                   [R, Java, Excel, JavaScript, Perl]\n",
       "503    [Python, SQL, R, Hadoop, Spark, Java, Hive, Sc...\n",
       "504          [SQL, R, Oracle, Excel, Project Management]\n",
       "505    [SQL, R, Hadoop, Spark, Hive, Big Data, NoSQL,...\n",
       "Length: 506, dtype: object"
      ]
     },
     "execution_count": 94,
     "metadata": {},
     "output_type": "execute_result"
    }
   ],
   "source": [
    "cell_series"
   ]
  },
  {
   "cell_type": "code",
   "execution_count": 95,
   "metadata": {
    "ExecuteTime": {
     "end_time": "2019-11-18T21:13:48.634607Z",
     "start_time": "2019-11-18T21:13:48.620031Z"
    }
   },
   "outputs": [],
   "source": [
    "df_update = pd.concat([df, cell_series], axis=1).drop(columns='desc')"
   ]
  },
  {
   "cell_type": "code",
   "execution_count": 96,
   "metadata": {
    "ExecuteTime": {
     "end_time": "2019-11-18T21:13:48.668176Z",
     "start_time": "2019-11-18T21:13:48.638511Z"
    }
   },
   "outputs": [
    {
     "data": {
      "text/html": [
       "<div>\n",
       "<style scoped>\n",
       "    .dataframe tbody tr th:only-of-type {\n",
       "        vertical-align: middle;\n",
       "    }\n",
       "\n",
       "    .dataframe tbody tr th {\n",
       "        vertical-align: top;\n",
       "    }\n",
       "\n",
       "    .dataframe thead th {\n",
       "        text-align: right;\n",
       "    }\n",
       "</style>\n",
       "<table border=\"1\" class=\"dataframe\">\n",
       "  <thead>\n",
       "    <tr style=\"text-align: right;\">\n",
       "      <th></th>\n",
       "      <th>company</th>\n",
       "      <th>com_rating</th>\n",
       "      <th>job1</th>\n",
       "      <th>location</th>\n",
       "      <th>Salary_min($)</th>\n",
       "      <th>Salary_max($)</th>\n",
       "      <th>datepost</th>\n",
       "      <th>lat</th>\n",
       "      <th>lng</th>\n",
       "      <th>0</th>\n",
       "    </tr>\n",
       "  </thead>\n",
       "  <tbody>\n",
       "    <tr>\n",
       "      <th>0</th>\n",
       "      <td>HEALTHEC</td>\n",
       "      <td>3.5</td>\n",
       "      <td>Data Analyst</td>\n",
       "      <td>Edison, NJ</td>\n",
       "      <td>42000</td>\n",
       "      <td>75000</td>\n",
       "      <td>11</td>\n",
       "      <td>40.518715</td>\n",
       "      <td>-74.412095</td>\n",
       "      <td>[Python, SQL, R, Tableau, Excel]</td>\n",
       "    </tr>\n",
       "    <tr>\n",
       "      <th>1</th>\n",
       "      <td>Rocketrip</td>\n",
       "      <td>3.5</td>\n",
       "      <td>Data Analyst</td>\n",
       "      <td>New York, NY</td>\n",
       "      <td>61000</td>\n",
       "      <td>115000</td>\n",
       "      <td>27</td>\n",
       "      <td>40.712775</td>\n",
       "      <td>-74.005973</td>\n",
       "      <td>[Python, SQL, R, Tableau, Excel]</td>\n",
       "    </tr>\n",
       "    <tr>\n",
       "      <th>2</th>\n",
       "      <td>Conduent</td>\n",
       "      <td>2.7</td>\n",
       "      <td>Data Analyst II (SQL, Tableau)</td>\n",
       "      <td>New York, NY</td>\n",
       "      <td>62000</td>\n",
       "      <td>106000</td>\n",
       "      <td>12</td>\n",
       "      <td>40.712775</td>\n",
       "      <td>-74.005973</td>\n",
       "      <td>[Python, SQL, R, Java, Tableau, Oracle, Excel]</td>\n",
       "    </tr>\n",
       "    <tr>\n",
       "      <th>3</th>\n",
       "      <td>SeatGeek</td>\n",
       "      <td>4.5</td>\n",
       "      <td>Data Analyst</td>\n",
       "      <td>New York, NY</td>\n",
       "      <td>53000</td>\n",
       "      <td>98000</td>\n",
       "      <td>11</td>\n",
       "      <td>40.712775</td>\n",
       "      <td>-74.005973</td>\n",
       "      <td>[Python, SQL, R]</td>\n",
       "    </tr>\n",
       "    <tr>\n",
       "      <th>4</th>\n",
       "      <td>Swiss Re</td>\n",
       "      <td>3.6</td>\n",
       "      <td>Data Analyst</td>\n",
       "      <td>Armonk, NY</td>\n",
       "      <td>59000</td>\n",
       "      <td>107000</td>\n",
       "      <td>3</td>\n",
       "      <td>41.126485</td>\n",
       "      <td>-73.714019</td>\n",
       "      <td>[Python, SQL, R, Tableau, SAS, Excel]</td>\n",
       "    </tr>\n",
       "    <tr>\n",
       "      <th>...</th>\n",
       "      <td>...</td>\n",
       "      <td>...</td>\n",
       "      <td>...</td>\n",
       "      <td>...</td>\n",
       "      <td>...</td>\n",
       "      <td>...</td>\n",
       "      <td>...</td>\n",
       "      <td>...</td>\n",
       "      <td>...</td>\n",
       "      <td>...</td>\n",
       "    </tr>\n",
       "    <tr>\n",
       "      <th>501</th>\n",
       "      <td>Veterans Sourcing Group</td>\n",
       "      <td>2.8</td>\n",
       "      <td>Business Analyst - Data Governance</td>\n",
       "      <td>Stamford, CT</td>\n",
       "      <td>51000</td>\n",
       "      <td>79000</td>\n",
       "      <td>30</td>\n",
       "      <td>41.053430</td>\n",
       "      <td>-73.538734</td>\n",
       "      <td>[R]</td>\n",
       "    </tr>\n",
       "    <tr>\n",
       "      <th>502</th>\n",
       "      <td>Blue Book Network Contractors Register</td>\n",
       "      <td>2.9</td>\n",
       "      <td>Programmer Analyst/Data Strategist</td>\n",
       "      <td>Jefferson Valley, NY</td>\n",
       "      <td>45000</td>\n",
       "      <td>62000</td>\n",
       "      <td>7</td>\n",
       "      <td>41.313862</td>\n",
       "      <td>-73.800734</td>\n",
       "      <td>[R, Java, Excel, JavaScript, Perl]</td>\n",
       "    </tr>\n",
       "    <tr>\n",
       "      <th>503</th>\n",
       "      <td>ZS Associates, Inc.</td>\n",
       "      <td>3.9</td>\n",
       "      <td>Senior Business Technology Analyst / Big Data</td>\n",
       "      <td>Princeton, NJ</td>\n",
       "      <td>91000</td>\n",
       "      <td>113000</td>\n",
       "      <td>25</td>\n",
       "      <td>40.357298</td>\n",
       "      <td>-74.667223</td>\n",
       "      <td>[Python, SQL, R, Hadoop, Spark, Java, Hive, Sc...</td>\n",
       "    </tr>\n",
       "    <tr>\n",
       "      <th>504</th>\n",
       "      <td>Verisk</td>\n",
       "      <td>3.4</td>\n",
       "      <td>Business Analyst - Enterprise Data Management ...</td>\n",
       "      <td>White Plains, NY</td>\n",
       "      <td>48000</td>\n",
       "      <td>75000</td>\n",
       "      <td>5</td>\n",
       "      <td>41.033986</td>\n",
       "      <td>-73.762910</td>\n",
       "      <td>[SQL, R, Oracle, Excel, Project Management]</td>\n",
       "    </tr>\n",
       "    <tr>\n",
       "      <th>505</th>\n",
       "      <td>Syneos Health</td>\n",
       "      <td>3.3</td>\n",
       "      <td>Principal Programmer Analyst (Hadoop/Big Data)</td>\n",
       "      <td>Somerset, NJ</td>\n",
       "      <td>91000</td>\n",
       "      <td>152000</td>\n",
       "      <td>6</td>\n",
       "      <td>40.497604</td>\n",
       "      <td>-74.488487</td>\n",
       "      <td>[SQL, R, Hadoop, Spark, Hive, Big Data, NoSQL,...</td>\n",
       "    </tr>\n",
       "  </tbody>\n",
       "</table>\n",
       "<p>506 rows × 10 columns</p>\n",
       "</div>"
      ],
      "text/plain": [
       "                                    company  com_rating  \\\n",
       "0                                  HEALTHEC         3.5   \n",
       "1                                 Rocketrip         3.5   \n",
       "2                                  Conduent         2.7   \n",
       "3                                  SeatGeek         4.5   \n",
       "4                                  Swiss Re         3.6   \n",
       "..                                      ...         ...   \n",
       "501                 Veterans Sourcing Group         2.8   \n",
       "502  Blue Book Network Contractors Register         2.9   \n",
       "503                     ZS Associates, Inc.         3.9   \n",
       "504                                  Verisk         3.4   \n",
       "505                           Syneos Health         3.3   \n",
       "\n",
       "                                                  job1              location  \\\n",
       "0                                         Data Analyst            Edison, NJ   \n",
       "1                                         Data Analyst          New York, NY   \n",
       "2                       Data Analyst II (SQL, Tableau)          New York, NY   \n",
       "3                                         Data Analyst          New York, NY   \n",
       "4                                         Data Analyst            Armonk, NY   \n",
       "..                                                 ...                   ...   \n",
       "501                 Business Analyst - Data Governance          Stamford, CT   \n",
       "502                 Programmer Analyst/Data Strategist  Jefferson Valley, NY   \n",
       "503      Senior Business Technology Analyst / Big Data         Princeton, NJ   \n",
       "504  Business Analyst - Enterprise Data Management ...      White Plains, NY   \n",
       "505     Principal Programmer Analyst (Hadoop/Big Data)          Somerset, NJ   \n",
       "\n",
       "     Salary_min($)  Salary_max($)  datepost        lat        lng  \\\n",
       "0            42000          75000        11  40.518715 -74.412095   \n",
       "1            61000         115000        27  40.712775 -74.005973   \n",
       "2            62000         106000        12  40.712775 -74.005973   \n",
       "3            53000          98000        11  40.712775 -74.005973   \n",
       "4            59000         107000         3  41.126485 -73.714019   \n",
       "..             ...            ...       ...        ...        ...   \n",
       "501          51000          79000        30  41.053430 -73.538734   \n",
       "502          45000          62000         7  41.313862 -73.800734   \n",
       "503          91000         113000        25  40.357298 -74.667223   \n",
       "504          48000          75000         5  41.033986 -73.762910   \n",
       "505          91000         152000         6  40.497604 -74.488487   \n",
       "\n",
       "                                                     0  \n",
       "0                     [Python, SQL, R, Tableau, Excel]  \n",
       "1                     [Python, SQL, R, Tableau, Excel]  \n",
       "2       [Python, SQL, R, Java, Tableau, Oracle, Excel]  \n",
       "3                                     [Python, SQL, R]  \n",
       "4                [Python, SQL, R, Tableau, SAS, Excel]  \n",
       "..                                                 ...  \n",
       "501                                                [R]  \n",
       "502                 [R, Java, Excel, JavaScript, Perl]  \n",
       "503  [Python, SQL, R, Hadoop, Spark, Java, Hive, Sc...  \n",
       "504        [SQL, R, Oracle, Excel, Project Management]  \n",
       "505  [SQL, R, Hadoop, Spark, Hive, Big Data, NoSQL,...  \n",
       "\n",
       "[506 rows x 10 columns]"
      ]
     },
     "execution_count": 96,
     "metadata": {},
     "output_type": "execute_result"
    }
   ],
   "source": [
    "df_update"
   ]
  },
  {
   "cell_type": "code",
   "execution_count": 97,
   "metadata": {
    "ExecuteTime": {
     "end_time": "2019-11-18T21:13:48.692431Z",
     "start_time": "2019-11-18T21:13:48.674020Z"
    }
   },
   "outputs": [
    {
     "data": {
      "text/html": [
       "<div>\n",
       "<style scoped>\n",
       "    .dataframe tbody tr th:only-of-type {\n",
       "        vertical-align: middle;\n",
       "    }\n",
       "\n",
       "    .dataframe tbody tr th {\n",
       "        vertical-align: top;\n",
       "    }\n",
       "\n",
       "    .dataframe thead th {\n",
       "        text-align: right;\n",
       "    }\n",
       "</style>\n",
       "<table border=\"1\" class=\"dataframe\">\n",
       "  <thead>\n",
       "    <tr style=\"text-align: right;\">\n",
       "      <th></th>\n",
       "      <th>company</th>\n",
       "      <th>rating</th>\n",
       "      <th>title</th>\n",
       "      <th>location</th>\n",
       "      <th>min</th>\n",
       "      <th>max</th>\n",
       "      <th>datepost</th>\n",
       "      <th>lat</th>\n",
       "      <th>lng</th>\n",
       "      <th>skills</th>\n",
       "    </tr>\n",
       "  </thead>\n",
       "  <tbody>\n",
       "    <tr>\n",
       "      <th>0</th>\n",
       "      <td>HEALTHEC</td>\n",
       "      <td>3.5</td>\n",
       "      <td>Data Analyst</td>\n",
       "      <td>Edison, NJ</td>\n",
       "      <td>42000</td>\n",
       "      <td>75000</td>\n",
       "      <td>11</td>\n",
       "      <td>40.518715</td>\n",
       "      <td>-74.412095</td>\n",
       "      <td>[Python, SQL, R, Tableau, Excel]</td>\n",
       "    </tr>\n",
       "    <tr>\n",
       "      <th>1</th>\n",
       "      <td>Rocketrip</td>\n",
       "      <td>3.5</td>\n",
       "      <td>Data Analyst</td>\n",
       "      <td>New York, NY</td>\n",
       "      <td>61000</td>\n",
       "      <td>115000</td>\n",
       "      <td>27</td>\n",
       "      <td>40.712775</td>\n",
       "      <td>-74.005973</td>\n",
       "      <td>[Python, SQL, R, Tableau, Excel]</td>\n",
       "    </tr>\n",
       "    <tr>\n",
       "      <th>2</th>\n",
       "      <td>Conduent</td>\n",
       "      <td>2.7</td>\n",
       "      <td>Data Analyst II (SQL, Tableau)</td>\n",
       "      <td>New York, NY</td>\n",
       "      <td>62000</td>\n",
       "      <td>106000</td>\n",
       "      <td>12</td>\n",
       "      <td>40.712775</td>\n",
       "      <td>-74.005973</td>\n",
       "      <td>[Python, SQL, R, Java, Tableau, Oracle, Excel]</td>\n",
       "    </tr>\n",
       "    <tr>\n",
       "      <th>3</th>\n",
       "      <td>SeatGeek</td>\n",
       "      <td>4.5</td>\n",
       "      <td>Data Analyst</td>\n",
       "      <td>New York, NY</td>\n",
       "      <td>53000</td>\n",
       "      <td>98000</td>\n",
       "      <td>11</td>\n",
       "      <td>40.712775</td>\n",
       "      <td>-74.005973</td>\n",
       "      <td>[Python, SQL, R]</td>\n",
       "    </tr>\n",
       "    <tr>\n",
       "      <th>4</th>\n",
       "      <td>Swiss Re</td>\n",
       "      <td>3.6</td>\n",
       "      <td>Data Analyst</td>\n",
       "      <td>Armonk, NY</td>\n",
       "      <td>59000</td>\n",
       "      <td>107000</td>\n",
       "      <td>3</td>\n",
       "      <td>41.126485</td>\n",
       "      <td>-73.714019</td>\n",
       "      <td>[Python, SQL, R, Tableau, SAS, Excel]</td>\n",
       "    </tr>\n",
       "  </tbody>\n",
       "</table>\n",
       "</div>"
      ],
      "text/plain": [
       "     company  rating                           title      location    min  \\\n",
       "0   HEALTHEC     3.5                    Data Analyst    Edison, NJ  42000   \n",
       "1  Rocketrip     3.5                    Data Analyst  New York, NY  61000   \n",
       "2   Conduent     2.7  Data Analyst II (SQL, Tableau)  New York, NY  62000   \n",
       "3   SeatGeek     4.5                    Data Analyst  New York, NY  53000   \n",
       "4   Swiss Re     3.6                    Data Analyst    Armonk, NY  59000   \n",
       "\n",
       "      max  datepost        lat        lng  \\\n",
       "0   75000        11  40.518715 -74.412095   \n",
       "1  115000        27  40.712775 -74.005973   \n",
       "2  106000        12  40.712775 -74.005973   \n",
       "3   98000        11  40.712775 -74.005973   \n",
       "4  107000         3  41.126485 -73.714019   \n",
       "\n",
       "                                           skills  \n",
       "0                [Python, SQL, R, Tableau, Excel]  \n",
       "1                [Python, SQL, R, Tableau, Excel]  \n",
       "2  [Python, SQL, R, Java, Tableau, Oracle, Excel]  \n",
       "3                                [Python, SQL, R]  \n",
       "4           [Python, SQL, R, Tableau, SAS, Excel]  "
      ]
     },
     "execution_count": 97,
     "metadata": {},
     "output_type": "execute_result"
    }
   ],
   "source": [
    "df_update.columns = ['company','rating', 'title', 'location', 'min','max','datepost','lat','lng','skills']\n",
    "df_update.head()"
   ]
  },
  {
   "cell_type": "code",
   "execution_count": 98,
   "metadata": {
    "ExecuteTime": {
     "end_time": "2019-11-18T21:13:48.701309Z",
     "start_time": "2019-11-18T21:13:48.697314Z"
    }
   },
   "outputs": [],
   "source": [
    "df_update['rating'] = df_update['rating'].astype(float)"
   ]
  },
  {
   "cell_type": "code",
   "execution_count": 99,
   "metadata": {
    "ExecuteTime": {
     "end_time": "2019-11-18T21:13:48.720858Z",
     "start_time": "2019-11-18T21:13:48.704931Z"
    }
   },
   "outputs": [],
   "source": [
    "df_update.to_csv('dataforflask.csv')"
   ]
  },
  {
   "cell_type": "code",
   "execution_count": 100,
   "metadata": {
    "ExecuteTime": {
     "end_time": "2019-11-18T21:13:48.740734Z",
     "start_time": "2019-11-18T21:13:48.724612Z"
    }
   },
   "outputs": [
    {
     "data": {
      "text/html": [
       "<div>\n",
       "<style scoped>\n",
       "    .dataframe tbody tr th:only-of-type {\n",
       "        vertical-align: middle;\n",
       "    }\n",
       "\n",
       "    .dataframe tbody tr th {\n",
       "        vertical-align: top;\n",
       "    }\n",
       "\n",
       "    .dataframe thead th {\n",
       "        text-align: right;\n",
       "    }\n",
       "</style>\n",
       "<table border=\"1\" class=\"dataframe\">\n",
       "  <thead>\n",
       "    <tr style=\"text-align: right;\">\n",
       "      <th></th>\n",
       "      <th>company</th>\n",
       "      <th>rating</th>\n",
       "      <th>title</th>\n",
       "      <th>location</th>\n",
       "      <th>min</th>\n",
       "      <th>max</th>\n",
       "      <th>datepost</th>\n",
       "      <th>lat</th>\n",
       "      <th>lng</th>\n",
       "      <th>skills</th>\n",
       "    </tr>\n",
       "  </thead>\n",
       "  <tbody>\n",
       "    <tr>\n",
       "      <th>0</th>\n",
       "      <td>HEALTHEC</td>\n",
       "      <td>3.5</td>\n",
       "      <td>Data Analyst</td>\n",
       "      <td>Edison, NJ</td>\n",
       "      <td>42000</td>\n",
       "      <td>75000</td>\n",
       "      <td>11</td>\n",
       "      <td>40.518715</td>\n",
       "      <td>-74.412095</td>\n",
       "      <td>[Python, SQL, R, Tableau, Excel]</td>\n",
       "    </tr>\n",
       "    <tr>\n",
       "      <th>1</th>\n",
       "      <td>Rocketrip</td>\n",
       "      <td>3.5</td>\n",
       "      <td>Data Analyst</td>\n",
       "      <td>New York, NY</td>\n",
       "      <td>61000</td>\n",
       "      <td>115000</td>\n",
       "      <td>27</td>\n",
       "      <td>40.712775</td>\n",
       "      <td>-74.005973</td>\n",
       "      <td>[Python, SQL, R, Tableau, Excel]</td>\n",
       "    </tr>\n",
       "    <tr>\n",
       "      <th>2</th>\n",
       "      <td>Conduent</td>\n",
       "      <td>2.7</td>\n",
       "      <td>Data Analyst II (SQL, Tableau)</td>\n",
       "      <td>New York, NY</td>\n",
       "      <td>62000</td>\n",
       "      <td>106000</td>\n",
       "      <td>12</td>\n",
       "      <td>40.712775</td>\n",
       "      <td>-74.005973</td>\n",
       "      <td>[Python, SQL, R, Java, Tableau, Oracle, Excel]</td>\n",
       "    </tr>\n",
       "    <tr>\n",
       "      <th>3</th>\n",
       "      <td>SeatGeek</td>\n",
       "      <td>4.5</td>\n",
       "      <td>Data Analyst</td>\n",
       "      <td>New York, NY</td>\n",
       "      <td>53000</td>\n",
       "      <td>98000</td>\n",
       "      <td>11</td>\n",
       "      <td>40.712775</td>\n",
       "      <td>-74.005973</td>\n",
       "      <td>[Python, SQL, R]</td>\n",
       "    </tr>\n",
       "    <tr>\n",
       "      <th>4</th>\n",
       "      <td>Swiss Re</td>\n",
       "      <td>3.6</td>\n",
       "      <td>Data Analyst</td>\n",
       "      <td>Armonk, NY</td>\n",
       "      <td>59000</td>\n",
       "      <td>107000</td>\n",
       "      <td>3</td>\n",
       "      <td>41.126485</td>\n",
       "      <td>-73.714019</td>\n",
       "      <td>[Python, SQL, R, Tableau, SAS, Excel]</td>\n",
       "    </tr>\n",
       "  </tbody>\n",
       "</table>\n",
       "</div>"
      ],
      "text/plain": [
       "     company  rating                           title      location    min  \\\n",
       "0   HEALTHEC     3.5                    Data Analyst    Edison, NJ  42000   \n",
       "1  Rocketrip     3.5                    Data Analyst  New York, NY  61000   \n",
       "2   Conduent     2.7  Data Analyst II (SQL, Tableau)  New York, NY  62000   \n",
       "3   SeatGeek     4.5                    Data Analyst  New York, NY  53000   \n",
       "4   Swiss Re     3.6                    Data Analyst    Armonk, NY  59000   \n",
       "\n",
       "      max  datepost        lat        lng  \\\n",
       "0   75000        11  40.518715 -74.412095   \n",
       "1  115000        27  40.712775 -74.005973   \n",
       "2  106000        12  40.712775 -74.005973   \n",
       "3   98000        11  40.712775 -74.005973   \n",
       "4  107000         3  41.126485 -73.714019   \n",
       "\n",
       "                                           skills  \n",
       "0                [Python, SQL, R, Tableau, Excel]  \n",
       "1                [Python, SQL, R, Tableau, Excel]  \n",
       "2  [Python, SQL, R, Java, Tableau, Oracle, Excel]  \n",
       "3                                [Python, SQL, R]  \n",
       "4           [Python, SQL, R, Tableau, SAS, Excel]  "
      ]
     },
     "execution_count": 100,
     "metadata": {},
     "output_type": "execute_result"
    }
   ],
   "source": [
    "df_update.head()"
   ]
  },
  {
   "cell_type": "markdown",
   "metadata": {},
   "source": [
    "### Get Dummy"
   ]
  },
  {
   "cell_type": "code",
   "execution_count": 101,
   "metadata": {
    "ExecuteTime": {
     "end_time": "2019-11-18T21:13:49.541601Z",
     "start_time": "2019-11-18T21:13:48.743558Z"
    }
   },
   "outputs": [
    {
     "data": {
      "text/plain": [
       "<matplotlib.axes._subplots.AxesSubplot at 0x1a2701a128>"
      ]
     },
     "execution_count": 101,
     "metadata": {},
     "output_type": "execute_result"
    },
    {
     "data": {
      "image/png": "[encoded data removed]",
      "text/plain": [
       "<Figure size 1440x1440 with 1 Axes>"
      ]
     },
     "metadata": {
      "needs_background": "light"
     },
     "output_type": "display_data"
    }
   ],
   "source": [
    "df_noskill = df_update.drop(['skills'], axis=1)\n",
    "df_skill = pd.get_dummies(df_update['skills'].apply(pd.Series).stack()).sum(level=0)\n",
    "df_skill_rank = df_skill.sum().to_frame(name='count').sort_values(by=['count'], ascending=False)[:50]\n",
    "df_skill_rank.sort_values(by=['count'], ascending=True).plot.barh(figsize=(20,20))"
   ]
  },
  {
   "cell_type": "markdown",
   "metadata": {},
   "source": [
    "### Simple EDA on Rating & Salary"
   ]
  },
  {
   "cell_type": "code",
   "execution_count": 102,
   "metadata": {
    "ExecuteTime": {
     "end_time": "2019-11-18T21:13:50.559415Z",
     "start_time": "2019-11-18T21:13:49.544562Z"
    }
   },
   "outputs": [
    {
     "data": {
      "application/vnd.plotly.v1+json": {
       "config": {
        "plotlyServerURL": "https://plot.ly"
       },
       "data": [
        {
         "alignmentgroup": "True",
         "bingroup": "x",
         "hoverlabel": {
          "namelength": 0
         },
         "hovertemplate": "rating=%{x}<br>count=%{y}",
         "legendgroup": "",
         "marker": {
          "color": "#636efa"
         },
         "name": "",
         "offsetgroup": "",
         "orientation": "v",
         "showlegend": false,
         "type": "histogram",
         "x": [
          3.5,
          3.5,
          2.7,
          4.5,
          3.6,
          3.7,
          3.9,
          4.6,
          3.2,
          4.7,
          3.6,
          3.2,
          4,
          4.5,
          3.4,
          3.7,
          2.7,
          3.1,
          3.8,
          4.1,
          3.7,
          3.6,
          4.3,
          3.6,
          3.5,
          4.4,
          4.1,
          3.8,
          4.2,
          4.2,
          4.2,
          4,
          3.6,
          4,
          4.5,
          3.7,
          3.9,
          4,
          3.6,
          3.4,
          4.1,
          3.6,
          3.6,
          4.1,
          3.9,
          3.7,
          4.3,
          3.9,
          3.8,
          3.6,
          3.3,
          3.8,
          3.8,
          2.8,
          3.8,
          3.7,
          3.4,
          4.1,
          3.2,
          3.5,
          4.2,
          3.1,
          4.2,
          4.5,
          3.7,
          4,
          3,
          3.8,
          3.5,
          3.7,
          2.8,
          2.7,
          2.8,
          2.8,
          3.2,
          4.6,
          3.2,
          4.2,
          4.5,
          3.5,
          4,
          3.2,
          3.3,
          3.6,
          3.1,
          4.6,
          3.6,
          3.8,
          4,
          3.6,
          3.7,
          3.9,
          3.7,
          3.8,
          4.4,
          3.8,
          3.5,
          2.8,
          4.3,
          3.4,
          3.6,
          3.7,
          4.1,
          3.6,
          4.3,
          4.2,
          3.5,
          2.6,
          3.3,
          4.5,
          3.8,
          2.9,
          4.5,
          3.7,
          3.8,
          4,
          4.1,
          3.5,
          2.7,
          3.3,
          4.4,
          2.8,
          4.3,
          2.6,
          3.3,
          4.1,
          4.1,
          3.9,
          4.1,
          4,
          4.3,
          4.8,
          4,
          4.3,
          3.8,
          3.5,
          3.9,
          3.6,
          4.3,
          2.9,
          3.1,
          3.5,
          4.2,
          3.1,
          3.1,
          3.6,
          4.1,
          3.7,
          4,
          4.4,
          4.2,
          3.7,
          4.5,
          2.9,
          4.1,
          3.8,
          3,
          3.5,
          4.3,
          3.4,
          3.4,
          4.4,
          3.3,
          3.5,
          4.3,
          3.7,
          3.1,
          4.2,
          3.8,
          4,
          2.5,
          3.8,
          3.5,
          4.2,
          3.5,
          2.7,
          3,
          3.6,
          3.5,
          3.4,
          3.6,
          4.2,
          3.4,
          2.9,
          3.5,
          3.1,
          3.4,
          4.3,
          2.7,
          4.1,
          3.8,
          3.2,
          3.5,
          3.6,
          4.2,
          3.9,
          3.5,
          3,
          3.5,
          3.2,
          3.8,
          3.6,
          4.4,
          3.8,
          2.9,
          2.7,
          3.7,
          3.4,
          4.1,
          3.4,
          3.8,
          2.9,
          3.6,
          4.1,
          4.3,
          5,
          3.1,
          3,
          4.3,
          3.3,
          3.9,
          3.4,
          3,
          3.4,
          4.2,
          3,
          3.3,
          4,
          2.7,
          2.9,
          3.2,
          3.5,
          4,
          4,
          3.4,
          3.5,
          4,
          4.9,
          4.7,
          3.4,
          4.4,
          3.1,
          2.9,
          3.7,
          4.1,
          3.2,
          2.9,
          3.9,
          3.8,
          1,
          3.1,
          3.2,
          2.7,
          2.9,
          2.5,
          3.6,
          3.4,
          3.7,
          3.1,
          3.8,
          3.5,
          3.6,
          3.3,
          2.7,
          3.6,
          3.5,
          4.9,
          4.3,
          3.2,
          3,
          3.6,
          3.6,
          3.1,
          4,
          3.1,
          4.8,
          4,
          4.3,
          3.3,
          4.2,
          3.6,
          3.3,
          3.5,
          2.7,
          3.1,
          3.6,
          3.7,
          3.6,
          4.7,
          3.9,
          4.6,
          3.4,
          4.2,
          3.8,
          3.4,
          3.5,
          3.9,
          3.5,
          3.6,
          3.4,
          2.7,
          3,
          3.1,
          3.8,
          3.8,
          4,
          3.9,
          3.4,
          3.7,
          4.3,
          3.4,
          3.7,
          3,
          3.6,
          3.4,
          2.1,
          3.7,
          3.1,
          3.5,
          3.5,
          3.6,
          2.8,
          3.2,
          3.2,
          3.5,
          3.1,
          3.1,
          2.7,
          3.8,
          1,
          3.4,
          4.3,
          2.1,
          4.6,
          3.4,
          4.2,
          2.5,
          2.2,
          4,
          3.1,
          3.6,
          3.1,
          3.6,
          2.1,
          3.8,
          3.4,
          3.3,
          3.8,
          3.4,
          4,
          4.2,
          3.8,
          3.7,
          2.1,
          3.8,
          3.8,
          3.4,
          3.6,
          3.7,
          4.7,
          3.5,
          3.7,
          4.1,
          3.6,
          3.5,
          3.7,
          3.1,
          4.2,
          4.5,
          4.2,
          2.2,
          3.7,
          2.8,
          3,
          3.5,
          3.8,
          3.6,
          2.8,
          3.8,
          3.3,
          3.6,
          3.2,
          4.5,
          2.8,
          3.6,
          4.6,
          3.1,
          3.7,
          4.8,
          3.8,
          4.2,
          2.8,
          3.9,
          3.8,
          4.2,
          3.5,
          3.5,
          3.1,
          3.4,
          3.5,
          3.5,
          2.6,
          3.7,
          3.8,
          3.1,
          3.7,
          3.4,
          3.1,
          2.8,
          3.4,
          3.6,
          3.5,
          3.4,
          5,
          3.4,
          2.9,
          3.2,
          3.7,
          3.7,
          3.1,
          3.4,
          3.8,
          3.4,
          4.1,
          5,
          3.1,
          2.5,
          3.2,
          3.4,
          3.6,
          3.7,
          3.6,
          3.6,
          2.9,
          3.4,
          3.4,
          3.6,
          3.6,
          3.8,
          3.4,
          2.7,
          3.8,
          3.4,
          3.1,
          3.5,
          3.9,
          4.8,
          2.9,
          3.8,
          3.7,
          3.1,
          3.9,
          3.1,
          3.4,
          3.8,
          4,
          4.2,
          3.2,
          3.8,
          3,
          2.3,
          2.4,
          2.1,
          3.5,
          3.9,
          3.6,
          2.3,
          4.1,
          3.4,
          4.2,
          3.1,
          2.5,
          3.1,
          3.2,
          3.2,
          3.1,
          3.2,
          3.1,
          2.9,
          2.9,
          3.6,
          3.8,
          3.3,
          3.2,
          3.4,
          2.9,
          3.3,
          3.9,
          4.5,
          3.6,
          3.5,
          3.7,
          4,
          3.6,
          4.2,
          3.3,
          2.9,
          0,
          2.2,
          3.7,
          4.2,
          2.8,
          2.9,
          3.9,
          3.4,
          3.3
         ],
         "xaxis": "x",
         "yaxis": "y"
        },
        {
         "alignmentgroup": "True",
         "customdata": [
          [
           "HEALTHEC",
           3.5,
           "Data Analyst",
           "Edison, NJ",
           42000,
           75000,
           11,
           40.5187154,
           -74.4120953,
           [
            "Python",
            "SQL",
            "R",
            "Tableau",
            "Excel"
           ]
          ],
          [
           "Rocketrip",
           3.5,
           "Data Analyst",
           "New York, NY",
           61000,
           115000,
           27,
           40.7127753,
           -74.0059728,
           [
            "Python",
            "SQL",
            "R",
            "Tableau",
            "Excel"
           ]
          ],
          [
           "Conduent",
           2.7,
           "Data Analyst II (SQL, Tableau)",
           "New York, NY",
           62000,
           106000,
           12,
           40.7127753,
           -74.0059728,
           [
            "Python",
            "SQL",
            "R",
            "Java",
            "Tableau",
            "Oracle",
            "Excel"
           ]
          ],
          [
           "SeatGeek",
           4.5,
           "Data Analyst",
           "New York, NY",
           53000,
           98000,
           11,
           40.7127753,
           -74.0059728,
           [
            "Python",
            "SQL",
            "R"
           ]
          ],
          [
           "Swiss Re",
           3.6,
           "Data Analyst",
           "Armonk, NY",
           59000,
           107000,
           3,
           41.1264849,
           -73.71401949999999,
           [
            "Python",
            "SQL",
            "R",
            "Tableau",
            "SAS",
            "Excel"
           ]
          ],
          [
           "Visiting Nurse Service of New York",
           3.7,
           "Data Analyst, CHOICE",
           "New York, NY",
           48000,
           85000,
           15,
           40.7127753,
           -74.0059728,
           [
            "Python",
            "SQL",
            "R",
            "Tableau",
            "SAS",
            "Excel"
           ]
          ],
          [
           "Taboola",
           3.9,
           "Data Analyst, Business Intelligence",
           "New York, NY",
           52000,
           97000,
           2,
           40.7127753,
           -74.0059728,
           [
            "SQL",
            "R",
            "Tableau",
            "Excel",
            "Business Intelligence"
           ]
          ],
          [
           "Charles River Associates",
           4.6,
           "Data Analyst/Data Scientist (2020 Start) - Analytics - Multioffice",
           "New York, NY",
           57000,
           97000,
           25,
           40.7127753,
           -74.0059728,
           [
            "Python",
            "SQL",
            "Machine Learning",
            "R",
            "Java",
            "Tableau",
            "SAS",
            "Natural Language Processing",
            "Excel",
            "JavaScript",
            "SPSS"
           ]
          ],
          [
           "Walmart eCommerce",
           3.2,
           "Data Governance Business Analyst",
           "Hoboken, NJ",
           45000,
           86000,
           16,
           40.7439905,
           -74.0323626,
           [
            "R"
           ]
          ],
          [
           "Callisto Media",
           4.7,
           "Lead Data Analyst",
           "New York, NY",
           49000,
           88000,
           4,
           40.7127753,
           -74.0059728,
           [
            "R",
            "Big Data"
           ]
          ],
          [
           "Montefiore Medical",
           3.6,
           "DATA ANALYST PATIENT EXPERIENCE",
           "New York, NY",
           53000,
           94000,
           13,
           40.7127753,
           -74.0059728,
           [
            "SQL",
            "R",
            "Excel"
           ]
          ],
          [
           "Walmart eCommerce",
           3.2,
           "Senior Manager I, Data Analyst",
           "Hoboken, NJ",
           110000,
           190000,
           11,
           40.7439905,
           -74.0323626,
           [
            "R"
           ]
          ],
          [
           "Colgate-Palmolive",
           4,
           "Data Analyst",
           "Piscataway, NJ",
           49000,
           94000,
           4,
           40.554887,
           -74.4642861,
           [
            "Python",
            "SQL",
            "R",
            "Java",
            "Oracle",
            "Git",
            "PostgreSQL",
            "MySQL",
            "MongoDB"
           ]
          ],
          [
           "OceanFirst Financial",
           4.5,
           "Data Quality Analyst",
           "Red Bank, NJ",
           46000,
           81000,
           20,
           40.3470543,
           -74.0643065,
           [
            "SQL",
            "R",
            "Excel",
            "Business Intelligence"
           ]
          ],
          [
           "National Grid USA",
           3.4,
           "Senior Quantitative Analyst,Data Science",
           "Hicksville, NY",
           92000,
           180000,
           11,
           40.7580684,
           -73.5240738,
           [
            "Python",
            "SQL",
            "R",
            "Data Science"
           ]
          ],
          [
           "American CyberSystems",
           3.7,
           "Data Analyst Entry Level",
           "Plainsboro, NJ",
           49000,
           91000,
           3,
           40.3382543,
           -74.585292,
           [
            "R",
            "Excel"
           ]
          ],
          [
           "Moda Operandi",
           2.7,
           "Senior Data Analyst",
           "New York, NY",
           53000,
           95000,
           16,
           40.7127753,
           -74.0059728,
           [
            "Python",
            "SQL",
            "R",
            "Java",
            "SAS",
            "Excel",
            "SPSS"
           ]
          ],
          [
           "Shareablee",
           3.1,
           "Junior Data Analyst",
           "New York, NY",
           59000,
           110000,
           18,
           40.7127753,
           -74.0059728,
           [
            "Python",
            "SQL",
            "R",
            "Excel"
           ]
          ],
          [
           "PayPal",
           3.8,
           "Data Analyst – University Graduate",
           "New York, NY",
           73000,
           122000,
           10,
           40.7127753,
           -74.0059728,
           [
            "Python",
            "SQL",
            "R",
            "Hadoop",
            "Java",
            "Tableau",
            "Hive",
            "Oracle",
            "Linux",
            "Excel",
            "JavaScript",
            "Perl"
           ]
          ],
          [
           "Test Force",
           4.1,
           "Data Analyst",
           "New York, NY",
           58000,
           99000,
           6,
           40.7127753,
           -74.0059728,
           [
            "SQL",
            "R",
            "Data Analysis"
           ]
          ],
          [
           "Endai",
           3.7,
           "Data Analyst Entry Level",
           "New York, NY",
           34000,
           66000,
           26,
           40.7127753,
           -74.0059728,
           [
            "R"
           ]
          ],
          [
           "Peloton",
           3.6,
           "Jr Data Analyst",
           "New York, NY",
           41000,
           79000,
           4,
           40.7127753,
           -74.0059728,
           [
            "SQL",
            "R",
            "Excel",
            "Business Intelligence"
           ]
          ],
          [
           "eVestment",
           4.3,
           "Data & Business Analyst",
           "Jersey City, NJ",
           48000,
           93000,
           12,
           40.7177545,
           -74.0431435,
           [
            "R",
            "Excel"
           ]
          ],
          [
           "Kate Spade",
           3.6,
           "Data Analyst, CRM",
           "New York, NY",
           50000,
           90000,
           10,
           40.7127753,
           -74.0059728,
           [
            "SQL",
            "R",
            "Excel"
           ]
          ],
          [
           "HBO",
           3.5,
           "Freelance Marketing Data Analyst",
           "New York, NY",
           70000,
           118000,
           3,
           40.7127753,
           -74.0059728,
           [
            "Python",
            "SQL",
            "R",
            "AWS"
           ]
          ],
          [
           "Google",
           4.4,
           "Product Analyst, Data Science",
           "New York, NY",
           62000,
           110000,
           17,
           40.7127753,
           -74.0059728,
           [
            "SQL",
            "R",
            "SAS",
            "MATLAB",
            "Data Science"
           ]
          ],
          [
           "Columbia University",
           4.1,
           "Data Analyst",
           "New York, NY",
           47000,
           81000,
           3,
           40.7127753,
           -74.0059728,
           [
            "R"
           ]
          ],
          [
           "Wyndham Hotels & Resorts",
           3.8,
           "Hotel Program Operations and Data Analyst",
           "Parsippany, NJ",
           41000,
           74000,
           19,
           40.8652865,
           -74.41738769999999,
           [
            "R",
            "Excel",
            "Business Intelligence"
           ]
          ],
          [
           "New York University",
           4.2,
           "Data Analyst",
           "New York, NY",
           35000,
           57000,
           14,
           40.7127753,
           -74.0059728,
           [
            "SQL",
            "R",
            "Tableau",
            "Excel"
           ]
          ],
          [
           "Addepar",
           4.2,
           "Data Operations Analyst",
           "New York, NY",
           59000,
           103000,
           27,
           40.7127753,
           -74.0059728,
           [
            "Python",
            "SQL",
            "R",
            "Excel"
           ]
          ],
          [
           "Cynet Systems",
           4.2,
           "Data Analyst",
           "New York, NY",
           61000,
           111000,
           3,
           40.7127753,
           -74.0059728,
           [
            "R"
           ]
          ],
          [
           "CommonBond",
           4,
           "Data Analyst",
           "New York, NY",
           53000,
           100000,
           5,
           40.7127753,
           -74.0059728,
           [
            "Python",
            "SQL",
            "R"
           ]
          ],
          [
           "Advantage xPO",
           3.6,
           "Tableau Data Analyst",
           "New York, NY",
           46000,
           89000,
           4,
           40.7127753,
           -74.0059728,
           [
            "Python",
            "SQL",
            "R",
            "Hadoop",
            "Tableau",
            "SAS"
           ]
          ],
          [
           "Itemize",
           4,
           "Data Analyst",
           "New York, NY",
           52000,
           95000,
           14,
           40.7127753,
           -74.0059728,
           [
            "Python",
            "SQL",
            "R",
            "Excel",
            "MySQL",
            "Business Intelligence"
           ]
          ],
          [
           "Work Market",
           4.5,
           "Data Analyst",
           "New York, NY",
           52000,
           98000,
           27,
           40.7127753,
           -74.0059728,
           [
            "Python",
            "SQL",
            "R",
            "Java",
            "Tableau",
            "AWS",
            "Data Analysis",
            "PostgreSQL",
            "MySQL",
            "S3"
           ]
          ],
          [
           "Coach, Inc.",
           3.7,
           "Data Analyst, CRM",
           "New York, NY",
           58000,
           102000,
           9,
           40.7127753,
           -74.0059728,
           [
            "SQL",
            "R",
            "Excel"
           ]
          ],
          [
           "Quartz Media Inc",
           3.9,
           "Data Analyst",
           "New York, NY",
           45000,
           88000,
           1,
           40.7127753,
           -74.0059728,
           [
            "R"
           ]
          ],
          [
           "NYU Langone Health",
           4,
           "Data Analyst",
           "New York, NY",
           52000,
           93000,
           9,
           40.7127753,
           -74.0059728,
           [
            "R",
            "SAS",
            "Microsoft Office",
            "Excel"
           ]
          ],
          [
           "Peloton Cycle",
           3.6,
           "People Data Analyst",
           "New York, NY",
           49000,
           92000,
           5,
           40.7127753,
           -74.0059728,
           [
            "R",
            "Excel"
           ]
          ],
          [
           "Collaborate Solutions, Inc.",
           3.4,
           "Data Analyst",
           "New York, NY",
           57000,
           103000,
           6,
           40.7127753,
           -74.0059728,
           [
            "SQL",
            "R",
            "Software Development"
           ]
          ],
          [
           "MSG",
           4.1,
           "Data Analyst",
           "New York, NY",
           70000,
           126000,
           5,
           40.7127753,
           -74.0059728,
           [
            "R",
            "Tableau",
            "Oracle",
            "Excel"
           ]
          ],
          [
           "Zipdrug, Inc",
           3.6,
           "Data Analyst",
           "Jersey City, NJ",
           51000,
           98000,
           10,
           40.7177545,
           -74.0431435,
           [
            "SQL",
            "R"
           ]
          ],
          [
           "Montefiore Medical",
           3.6,
           "DATA ANALYST PROGRAMMER",
           "New York, NY",
           48000,
           84000,
           24,
           40.7127753,
           -74.0059728,
           [
            "Python",
            "SQL",
            "R",
            "NoSQL"
           ]
          ],
          [
           "Knotel",
           4.1,
           "Data Analyst",
           "New York, NY",
           46000,
           85000,
           3,
           40.7127753,
           -74.0059728,
           [
            "Python",
            "SQL",
            "R",
            "Tableau",
            "Git"
           ]
          ],
          [
           "Alpha Consulting Corp.",
           3.9,
           "Junior Data Analyst",
           "Plainsboro, NJ",
           87000,
           153000,
           4,
           40.3382543,
           -74.585292,
           [
            "R",
            "AI",
            "Data Analysis",
            "Excel"
           ]
          ],
          [
           "Latham & Watkins",
           3.7,
           "Marketing Communications Data Analyst",
           "New York, NY",
           59000,
           108000,
           6,
           40.7127753,
           -74.0059728,
           [
            "R",
            "Tableau",
            "Data Science",
            "Business Intelligence"
           ]
          ],
          [
           "Global Atlantic Financial Group",
           4.3,
           "Mortgage Whole Loan Data & Collateral Analyst",
           "New York, NY",
           37000,
           69000,
           19,
           40.7127753,
           -74.0059728,
           [
            "SQL",
            "R",
            "Excel"
           ]
          ],
          [
           "International Rescue Committee",
           3.9,
           "Data Analyst",
           "New York, NY",
           51000,
           90000,
           5,
           40.7127753,
           -74.0059728,
           [
            "R",
            "Excel"
           ]
          ],
          [
           "Bloomberg",
           3.8,
           "Data Analyst NetOps",
           "New York, NY",
           61000,
           105000,
           26,
           40.7127753,
           -74.0059728,
           [
            "Python",
            "SQL",
            "R",
            "Java",
            "Tableau",
            "C/C++"
           ]
          ],
          [
           "Peloton Interactive",
           3.6,
           "Junior Data Analyst",
           "New York, NY",
           41000,
           79000,
           7,
           40.7127753,
           -74.0059728,
           [
            "SQL",
            "R",
            "Excel",
            "Business Intelligence"
           ]
          ],
          [
           "Triton Digital",
           3.3,
           "Data Analyst, Technology",
           "New York, NY",
           39000,
           73000,
           5,
           40.7127753,
           -74.0059728,
           [
            "R",
            "Excel"
           ]
          ],
          [
           "ThreatMetrix",
           3.8,
           "Data Analyst",
           "New York, NY",
           46000,
           88000,
           25,
           40.7127753,
           -74.0059728,
           [
            "Python",
            "SQL",
            "R",
            "SAS",
            "Excel"
           ]
          ],
          [
           "Bazaarvoice",
           3.8,
           "Data Analyst",
           "New York, NY",
           67000,
           122000,
           10,
           40.7127753,
           -74.0059728,
           [
            "SQL",
            "R",
            "Excel"
           ]
          ],
          [
           "YOOX NET-A-PORTER GROUP",
           2.8,
           "Data Analyst - Personal Shopping",
           "New York, NY",
           55000,
           97000,
           27,
           40.7127753,
           -74.0059728,
           [
            "SQL",
            "R",
            "Tableau",
            "Excel"
           ]
          ],
          [
           "New York District Attorney's Office",
           3.8,
           "Data Analyst",
           "New York, NY",
           52000,
           91000,
           5,
           40.7127753,
           -74.0059728,
           [
            "Python",
            "SQL",
            "R",
            "SAS",
            "Microsoft Office",
            "Excel"
           ]
          ],
          [
           "CipherHealth",
           3.7,
           "Data Analyst, Customer Success",
           "New York, NY",
           46000,
           87000,
           5,
           40.7127753,
           -74.0059728,
           [
            "SQL",
            "R",
            "Excel"
           ]
          ],
          [
           "Premier, Inc.",
           3.4,
           "Customer Data Analyst",
           "New York, NY",
           42000,
           75000,
           12,
           40.7127753,
           -74.0059728,
           [
            "R",
            "Excel"
           ]
          ],
          [
           "Columbia University",
           4.1,
           "Data Analyst - Cardiology",
           "New York, NY",
           47000,
           81000,
           3,
           40.7127753,
           -74.0059728,
           [
            "R",
            "Microsoft Office",
            "Excel",
            "SPSS"
           ]
          ],
          [
           "Dow Jones",
           3.2,
           "Audience Data Analyst",
           "New York, NY",
           75000,
           134000,
           5,
           40.7127753,
           -74.0059728,
           [
            "Python",
            "SQL",
            "R",
            "Tableau",
            "Linux"
           ]
          ],
          [
           "Squarespace",
           3.5,
           "Systems/Data Analyst, Pricing",
           "New York, NY",
           63000,
           116000,
           5,
           40.7127753,
           -74.0059728,
           [
            "Python",
            "SQL",
            "R",
            "Excel",
            "Data Science"
           ]
          ],
          [
           "NYU",
           4.2,
           "Data Modeling Analyst",
           "New York, NY",
           50000,
           86000,
           13,
           40.7127753,
           -74.0059728,
           [
            "SQL",
            "R",
            "Tableau",
            "SAS",
            "Scripting",
            "SPSS"
           ]
          ],
          [
           "IgnitionOne",
           3.1,
           "Data Analyst",
           "New York, NY",
           48000,
           87000,
           6,
           40.7127753,
           -74.0059728,
           [
            "Python",
            "SQL",
            "Machine Learning",
            "R",
            "Java",
            "Tableau",
            "AWS",
            "Scala",
            "AI",
            "Microsoft Office",
            "Excel"
           ]
          ],
          [
           "ApTask",
           4.2,
           "Data Analyst",
           "New York, NY",
           56000,
           105000,
           19,
           40.7127753,
           -74.0059728,
           [
            "SQL",
            "R",
            "Data Analysis"
           ]
          ],
          [
           "OceanFirst Financial",
           4.5,
           "Data Quality Analyst",
           "Red Bank, NJ",
           46000,
           81000,
           21,
           40.3470543,
           -74.0643065,
           [
            "SQL",
            "R",
            "Excel",
            "Business Intelligence"
           ]
          ],
          [
           "Visiting Nurse Service of New York",
           3.7,
           "Data Analyst, CHOICE",
           "New York, NY",
           48000,
           85000,
           15,
           40.7127753,
           -74.0059728,
           []
          ],
          [
           "NYU Langone Health",
           4,
           "Data Analyst",
           "New York, NY",
           52000,
           93000,
           9,
           40.7127753,
           -74.0059728,
           [
            "R",
            "SAS"
           ]
          ],
          [
           "CASES",
           3,
           "Senior Data Analyst, Pre-Trial Services",
           "Brooklyn, NY",
           39000,
           70000,
           24,
           40.6781784,
           -73.9441579,
           [
            "SQL",
            "R",
            "Excel",
            "SPSS"
           ]
          ],
          [
           "ThreatMetrix",
           3.8,
           "Data Analyst",
           "New York, NY",
           46000,
           88000,
           26,
           40.7127753,
           -74.0059728,
           [
            "Python",
            "SQL",
            "R",
            "SAS",
            "Excel"
           ]
          ],
          [
           "HEALTHEC",
           3.5,
           "Data Analyst",
           "Edison, NJ",
           49000,
           76000,
           26,
           40.5187154,
           -74.4120953,
           [
            "Python",
            "SQL",
            "R",
            "Tableau",
            "Excel"
           ]
          ],
          [
           "Blink Health",
           3.7,
           "Data Analyst",
           "New York, NY",
           53000,
           86000,
           18,
           40.7127753,
           -74.0059728,
           [
            "SQL",
            "R",
            "Spark",
            "Big Data",
            "AWS",
            "Data Science"
           ]
          ],
          [
           "Affinity Solutions",
           2.8,
           "Big Data Analyst / Engineer",
           "New York, NY",
           43000,
           70000,
           11,
           40.7127753,
           -74.0059728,
           [
            "Python",
            "SQL",
            "R",
            "Hadoop",
            "Tableau",
            "Hive",
            "SAS",
            "Big Data",
            "Linux"
           ]
          ],
          [
           "Conduent",
           2.7,
           "Data Analyst II (SQL, Tableau)",
           "New York, NY",
           52000,
           86000,
           27,
           40.7127753,
           -74.0059728,
           [
            "Python",
            "SQL",
            "R",
            "Java",
            "Tableau",
            "Oracle",
            "Excel"
           ]
          ],
          [
           "MoneyLion",
           2.8,
           "Risk Data Analyst",
           "New York, NY",
           43000,
           70000,
           4,
           40.7127753,
           -74.0059728,
           [
            "Python",
            "SQL",
            "R",
            "PostgreSQL",
            "MongoDB"
           ]
          ],
          [
           "Moda Operandi",
           2.8,
           "Senior Data Analyst",
           "New York, NY",
           65000,
           101000,
           3,
           40.7127753,
           -74.0059728,
           [
            "Python",
            "SQL",
            "R",
            "Java",
            "SAS",
            "Excel",
            "SPSS"
           ]
          ],
          [
           "Walmart eCommerce",
           3.2,
           "Senior Manager I, Data Analyst",
           "Hoboken, NJ",
           129000,
           182000,
           26,
           40.7439905,
           -74.0323626,
           [
            "R"
           ]
          ],
          [
           "OceanFirst Financial",
           4.6,
           "Data Quality Analyst",
           "Red Bank, NJ",
           41000,
           66000,
           8,
           40.3470543,
           -74.0643065,
           [
            "SQL",
            "R",
            "Excel",
            "Business Intelligence"
           ]
          ],
          [
           "RealPage",
           3.2,
           "Data Analyst",
           "Hackensack, NJ",
           51000,
           81000,
           13,
           40.8859325,
           -74.0434736,
           [
            "SQL",
            "R"
           ]
          ],
          [
           "Addepar",
           4.2,
           "Data Operations Analyst",
           "New York, NY",
           53000,
           78000,
           14,
           40.7127753,
           -74.0059728,
           [
            "Python",
            "SQL",
            "R",
            "Excel"
           ]
          ],
          [
           "SeatGeek",
           4.5,
           "Data Analyst",
           "New York, NY",
           60000,
           95000,
           26,
           40.7127753,
           -74.0059728,
           [
            "Python",
            "SQL",
            "R"
           ]
          ],
          [
           "Fareportal Inc.",
           3.5,
           "Business Data Analyst",
           "New York, NY",
           48000,
           74000,
           1,
           40.7127753,
           -74.0059728,
           [
            "Python",
            "SQL",
            "R",
            "Excel"
           ]
          ],
          [
           "NYU Langone Health",
           4,
           "FGP Data Analyst",
           "New York, NY",
           50000,
           74000,
           4,
           40.7127753,
           -74.0059728,
           [
            "R",
            "Tableau",
            "Excel",
            "Perl",
            "Business Intelligence"
           ]
          ],
          [
           "Walmart eCommerce",
           3.2,
           "Data Governance Business Analyst",
           "Hoboken, NJ",
           55000,
           87000,
           3,
           40.7439905,
           -74.0323626,
           [
            "R"
           ]
          ],
          [
           "The Shade Store",
           3.3,
           "Business and Data Analyst",
           "Port Chester, NY",
           47000,
           77000,
           21,
           41.0017643,
           -73.66568339999999,
           [
            "R",
            "Tableau",
            "Excel"
           ]
          ],
          [
           "TechField",
           3.6,
           "Entry Level Data Analyst (Machine Learning Engineer)",
           "Jersey City, NJ",
           37000,
           61000,
           2,
           40.7177545,
           -74.0431435,
           [
            "Python",
            "SQL",
            "R",
            "Big Data",
            "Scala",
            "NoSQL"
           ]
          ],
          [
           "Shareablee",
           3.1,
           "Junior Data Analyst",
           "New York, NY",
           43000,
           71000,
           5,
           40.7127753,
           -74.0059728,
           [
            "Python",
            "SQL",
            "R",
            "Excel"
           ]
          ],
          [
           "Charles River Associates",
           4.6,
           "Data Analyst/Data Scientist (2020 Start) - Analytics - Multioffice",
           "New York, NY",
           53000,
           85000,
           12,
           40.7127753,
           -74.0059728,
           [
            "Python",
            "SQL",
            "Machine Learning",
            "R",
            "Java",
            "Tableau",
            "SAS",
            "Natural Language Processing",
            "Excel",
            "JavaScript",
            "SPSS"
           ]
          ],
          [
           "Spotify",
           3.6,
           "Data Analyst, Royalties and Accounting - Entertainment and Media Industry Opportunity",
           "New York, NY",
           59000,
           96000,
           13,
           40.7127753,
           -74.0059728,
           [
            "Python",
            "SQL",
            "Tableau"
           ]
          ],
          [
           "Taboola",
           3.8,
           "Data Analyst, Business Intelligence",
           "New York, NY",
           49000,
           78000,
           17,
           40.7127753,
           -74.0059728,
           [
            "SQL",
            "R",
            "Tableau",
            "Excel",
            "Business Intelligence"
           ]
          ],
          [
           "NYU Langone Health",
           4,
           "Data Analyst",
           "New York, NY",
           51000,
           75000,
           24,
           40.7127753,
           -74.0059728,
           [
            "R",
            "SAS",
            "Microsoft Office",
            "Excel"
           ]
          ],
          [
           "Montefiore Medical",
           3.6,
           "DATA ANALYST PATIENT EXPERIENCE",
           "New York, NY",
           51000,
           77000,
           1,
           40.7127753,
           -74.0059728,
           [
            "SQL",
            "R",
            "Excel"
           ]
          ],
          [
           "Endai",
           3.7,
           "Data Analyst Entry Level",
           "New York, NY",
           34000,
           56000,
           13,
           40.7127753,
           -74.0059728,
           [
            "R"
           ]
          ],
          [
           "Wyndham Hotels & Resorts",
           3.9,
           "Hotel Program Operations and Data Analyst",
           "Parsippany, NJ",
           48000,
           80000,
           6,
           40.8652865,
           -74.41738769999999,
           [
            "R",
            "Excel",
            "Business Intelligence"
           ]
          ],
          [
           "MediaMath",
           3.7,
           "Data Analyst - Account Analytics",
           "New York, NY",
           44000,
           71000,
           3,
           40.7127753,
           -74.0059728,
           [
            "Python",
            "SQL",
            "R",
            "Hadoop",
            "Spark",
            "Hive",
            "AWS",
            "Pig",
            "Excel",
            "S3"
           ]
          ],
          [
           "Bloomberg",
           3.8,
           "Data Analyst - NetOps",
           "New York, NY",
           58000,
           85000,
           15,
           40.7127753,
           -74.0059728,
           [
            "Python",
            "SQL",
            "R",
            "Java",
            "Tableau",
            "C/C++"
           ]
          ],
          [
           "Google",
           4.4,
           "Product Analyst, Data Science",
           "New York, NY",
           56000,
           92000,
           13,
           40.7127753,
           -74.0059728,
           [
            "SQL",
            "R",
            "SAS",
            "MATLAB",
            "Data Science"
           ]
          ],
          [
           "Bloomberg",
           3.8,
           "Data Analyst NetOps",
           "New York, NY",
           58000,
           85000,
           13,
           40.7127753,
           -74.0059728,
           [
            "Python",
            "SQL",
            "R",
            "Java",
            "Tableau",
            "C/C++"
           ]
          ],
          [
           "CGI Group, Inc.",
           3.5,
           "Data Analyst",
           "New York, NY",
           58000,
           95000,
           7,
           40.7127753,
           -74.0059728,
           [
            "R"
           ]
          ],
          [
           "YOOX NET-A-PORTER GROUP",
           2.8,
           "Data Analyst - Personal Shopping",
           "New York, NY",
           44000,
           71000,
           3,
           40.7127753,
           -74.0059728,
           [
            "SQL",
            "R",
            "Tableau",
            "Excel",
            ".Net"
           ]
          ],
          [
           "eVestment",
           4.3,
           "Data & Business Analyst",
           "Jersey City, NJ",
           53000,
           84000,
           27,
           40.7177545,
           -74.0431435,
           [
            "R",
            "Excel"
           ]
          ],
          [
           "Horizon Blue Cross Blue Shield of New Jersey",
           3.4,
           "Data Reporting Analyst II",
           "Newark, NJ",
           53000,
           89000,
           19,
           40.735657,
           -74.1723667,
           [
            "SQL",
            "SAS",
            "Excel"
           ]
          ],
          [
           "Montefiore Medical",
           3.6,
           "DATA ANALYST PROGRAMMER",
           "New York, NY",
           45000,
           68000,
           11,
           40.7127753,
           -74.0059728,
           [
            "Python",
            "SQL",
            "R",
            "NoSQL"
           ]
          ],
          [
           "New York Times",
           3.7,
           "Data & Insights Analyst, Wirecutter",
           "New York, NY",
           67000,
           109000,
           6,
           40.7127753,
           -74.0059728,
           [
            "Python",
            "SQL",
            "R",
            "Tableau",
            "Oracle",
            "Excel",
            "MySQL"
           ]
          ],
          [
           "Columbia University",
           4.1,
           "Data Analyst",
           "New York, NY",
           40000,
           65000,
           11,
           40.7127753,
           -74.0059728,
           [
            "SQL",
            "R"
           ]
          ],
          [
           "Spotify",
           3.6,
           "Data Analyst, Royalties and Accounting",
           "New York, NY",
           59000,
           96000,
           25,
           40.7127753,
           -74.0059728,
           [
            "Python",
            "SQL",
            "Tableau"
           ]
          ],
          [
           "Compass",
           4.3,
           "Data Analyst",
           "New York, NY",
           46000,
           73000,
           4,
           40.7127753,
           -74.0059728,
           [
            "Python",
            "SQL",
            "R",
            "Tableau",
            "Excel"
           ]
          ],
          [
           "NYU",
           4.2,
           "Data Modeling Analyst",
           "New York, NY",
           66000,
           91000,
           1,
           40.7127753,
           -74.0059728,
           [
            "SQL",
            "R",
            "Tableau",
            "SAS",
            "Scripting",
            "SPSS"
           ]
          ],
          [
           "MARSH",
           3.5,
           "Data Analyst",
           "New York, NY",
           39000,
           63000,
           4,
           40.7127753,
           -74.0059728,
           [
            "Python",
            "SQL",
            "R",
            "Spark",
            "Tableau",
            "Excel"
           ]
          ],
          [
           "Net@Work",
           2.6,
           "Data Analyst",
           "New York, NY",
           50000,
           78000,
           1,
           40.7127753,
           -74.0059728,
           [
            "SQL",
            "Tableau",
            "Excel"
           ]
          ],
          [
           "BARK",
           3.3,
           "Data Analyst",
           "New York, NY",
           48000,
           76000,
           7,
           40.7127753,
           -74.0059728,
           [
            "Python",
            "SQL",
            "R",
            "Excel"
           ]
          ],
          [
           "eCom Solutions",
           4.5,
           "Data Analyst",
           "New Hyde Park, NY",
           47000,
           76000,
           4,
           40.7351018,
           -73.6879082,
           [
            "SQL",
            "R"
           ]
          ],
          [
           "New York District Attorney's Office",
           3.8,
           "Data Analyst",
           "New York, NY",
           54000,
           86000,
           20,
           40.7127753,
           -74.0059728,
           [
            "Python",
            "SQL",
            "R",
            "SAS",
            "Microsoft Office",
            "Excel"
           ]
          ],
          [
           "CASES",
           2.9,
           "Senior Data Analyst, Pre-Trial Services",
           "Brooklyn, NY",
           51000,
           81000,
           15,
           40.6781784,
           -73.9441579,
           [
            "SQL",
            "R",
            "Excel",
            "SPSS"
           ]
          ],
          [
           "Work Market",
           4.5,
           "Data Analyst",
           "New York, NY",
           50000,
           80000,
           14,
           40.7127753,
           -74.0059728,
           [
            "Python",
            "SQL",
            "R",
            "Java",
            "Tableau",
            "AWS",
            "Data Analysis",
            "PostgreSQL",
            "MySQL",
            "S3"
           ]
          ],
          [
           "Bazaarvoice",
           3.7,
           "Data Analyst",
           "New York, NY",
           64000,
           101000,
           21,
           40.7127753,
           -74.0059728,
           [
            "SQL",
            "R",
            "Excel"
           ]
          ],
          [
           "ThreatMetrix",
           3.8,
           "Data Analyst",
           "New York, NY",
           49000,
           77000,
           13,
           40.7127753,
           -74.0059728,
           [
            "Python",
            "SQL",
            "R",
            "SAS",
            "Excel"
           ]
          ],
          [
           "CommonBond",
           4,
           "Data Analyst",
           "New York, NY",
           51000,
           84000,
           20,
           40.7127753,
           -74.0059728,
           [
            "Python",
            "SQL",
            "R"
           ]
          ],
          [
           "Uber",
           4.1,
           "Data Analyst",
           "New York, NY",
           63000,
           97000,
           2,
           40.7127753,
           -74.0059728,
           [
            "Python",
            "SQL",
            "R",
            "Tableau",
            "Excel"
           ]
          ],
          [
           "City of New York",
           3.5,
           "Data Analyst",
           "New York, NY",
           57000,
           91000,
           11,
           40.7127753,
           -74.0059728,
           [
            "SQL",
            "R",
            "Excel",
            "SPSS"
           ]
          ],
          [
           "ITN Networks",
           2.7,
           "Data Analyst",
           "New York, NY",
           34000,
           55000,
           30,
           40.7127753,
           -74.0059728,
           [
            "Python",
            "SQL",
            "R",
            "Tableau",
            "Excel",
            "Business Intelligence"
           ]
          ],
          [
           "PlaceIQ",
           3.3,
           "Data Analyst",
           "New York, NY",
           55000,
           88000,
           6,
           40.7127753,
           -74.0059728,
           [
            "Python",
            "SQL",
            "R",
            "Scala",
            "Excel"
           ]
          ],
          [
           "Ventera",
           4.4,
           "Business Data Analyst",
           "New York, NY",
           71000,
           106000,
           12,
           40.7127753,
           -74.0059728,
           [
            "SQL",
            "R",
            "Oracle",
            "Excel"
           ]
          ],
          [
           "EHE",
           2.8,
           "Data Analyst",
           "New York, NY",
           53000,
           81000,
           25,
           40.7127753,
           -74.0059728,
           [
            "Python",
            "SQL",
            "R",
            "Tableau",
            "SAS",
            "AWS",
            "Excel"
           ]
          ],
          [
           "Citadel",
           4.3,
           "Office of the CAO | Reference Data, Operations Analyst",
           "New York, NY",
           68000,
           92000,
           4,
           40.7127753,
           -74.0059728,
           [
            "R"
           ]
          ],
          [
           "Net at Work",
           2.6,
           "Data Analyst - NYC",
           "New York, NY",
           50000,
           78000,
           5,
           40.7127753,
           -74.0059728,
           [
            "SQL",
            "Tableau",
            "Excel"
           ]
          ],
          [
           "Triton Digital",
           3.3,
           "Data Analyst, Technology",
           "New York, NY",
           37000,
           57000,
           20,
           40.7127753,
           -74.0059728,
           [
            "R",
            "Excel"
           ]
          ],
          [
           "Point72",
           4.1,
           "Data Analyst",
           "New York, NY",
           73000,
           115000,
           4,
           40.7127753,
           -74.0059728,
           [
            "Python",
            "SQL",
            "R",
            "Java",
            "Excel"
           ]
          ],
          [
           "Columbia University",
           4.1,
           "Associate Data and Research Analyst",
           "New York, NY",
           36000,
           56000,
           30,
           40.7127753,
           -74.0059728,
           [
            "Python",
            "SQL",
            "R",
            "Microsoft Office",
            "Excel"
           ]
          ],
          [
           "Quartz Media Inc",
           3.9,
           "Data Analyst",
           "New York, NY",
           43000,
           71000,
           15,
           40.7127753,
           -74.0059728,
           [
            "R"
           ]
          ],
          [
           "Knotel",
           4.1,
           "Data Analyst",
           "New York, NY",
           43000,
           72000,
           17,
           40.7127753,
           -74.0059728,
           [
            "Python",
            "SQL",
            "R",
            "Tableau",
            "Git"
           ]
          ],
          [
           "eTeam Inc.",
           4,
           "SQL Data Analyst",
           "New York, NY",
           58000,
           97000,
           30,
           40.7127753,
           -74.0059728,
           [
            "SQL",
            "R",
            "Oracle"
           ]
          ],
          [
           "Compass",
           4.3,
           "Data Analyst - Search",
           "New York, NY",
           46000,
           73000,
           23,
           40.7127753,
           -74.0059728,
           [
            "SQL",
            "R",
            "MySQL",
            "MongoDB"
           ]
          ],
          [
           "Stout Systems Development",
           4.8,
           "Data Analyst",
           "White Plains, NY",
           75000,
           95000,
           4,
           41.03398620000001,
           -73.7629097,
           [
            "R",
            "Tableau"
           ]
          ],
          [
           "Itemize",
           4,
           "Data Analyst",
           "New York, NY",
           46000,
           73000,
           1,
           40.7127753,
           -74.0059728,
           [
            "Python",
            "SQL",
            "R",
            "Excel",
            "MySQL",
            "Business Intelligence"
           ]
          ],
          [
           "Bounce Exchange",
           4.3,
           "Data Analyst",
           "New York, NY",
           52000,
           84000,
           8,
           40.7127753,
           -74.0059728,
           [
            "SQL",
            "R",
            "Excel",
            "Business Intelligence"
           ]
          ],
          [
           "Bloomberg",
           3.8,
           "2020 Financial Research Data Analyst",
           "New York, NY",
           58000,
           85000,
           30,
           40.7127753,
           -74.0059728,
           []
          ],
          [
           "Cox Media Group",
           3.5,
           "Data Insights Analyst",
           "New York, NY",
           48000,
           79000,
           12,
           40.7127753,
           -74.0059728,
           [
            "R",
            "Microsoft Office",
            "Excel"
           ]
          ],
          [
           "J.P.Morgan",
           3.9,
           "Asset Management - Global Equities - Data Science - Analyst/Associate",
           "New York, NY",
           65000,
           108000,
           13,
           40.7127753,
           -74.0059728,
           [
            "Python",
            "R",
            "Git",
            "Data Science"
           ]
          ],
          [
           "Montefiore Medical",
           3.6,
           "DATA ANALYST",
           "New York, NY",
           45000,
           68000,
           11,
           40.7127753,
           -74.0059728,
           [
            "R",
            "Excel"
           ]
          ],
          [
           "Citadel",
           4.3,
           "Office of the CAO | Reference Data, Technical Operations Analyst | Chicago/",
           "New York, NY",
           68000,
           92000,
           4,
           40.7127753,
           -74.0059728,
           [
            "Python",
            "SQL",
            "R",
            "Tableau",
            "Project Management"
           ]
          ],
          [
           "CASES",
           2.9,
           "Data Analyst I",
           "Brooklyn, NY",
           42000,
           69000,
           28,
           40.6781784,
           -73.9441579,
           [
            "R",
            "Microsoft Office",
            "Excel"
           ]
          ],
          [
           "Guy Carpenter",
           3.1,
           "Data Analyst",
           "New York, NY",
           60000,
           96000,
           7,
           40.7127753,
           -74.0059728,
           [
            "Python",
            "SQL",
            "R",
            "Spark",
            "Tableau",
            "Excel"
           ]
          ],
          [
           "Prudential",
           3.5,
           "Investigations Data Analyst",
           "Newark, NJ",
           40000,
           64000,
           1,
           40.735657,
           -74.1723667,
           [
            "R",
            "Excel"
           ]
          ],
          [
           "NYU",
           4.2,
           "Data Analyst",
           "New York, NY",
           35000,
           57000,
           26,
           40.7127753,
           -74.0059728,
           [
            "SQL",
            "R",
            "Tableau",
            "Excel"
           ]
          ],
          [
           "BNY Mellon",
           3.1,
           "Analyst,Data Management Quantitative Analysis",
           "New York, NY",
           48000,
           77000,
           30,
           40.7127753,
           -74.0059728,
           [
            "Python",
            "R",
            "Excel"
           ]
          ],
          [
           "IgnitionOne",
           3.1,
           "Data Analyst",
           "New York, NY",
           56000,
           87000,
           21,
           40.7127753,
           -74.0059728,
           [
            "Python",
            "SQL",
            "Machine Learning",
            "R",
            "Java",
            "Tableau",
            "AWS",
            "Scala",
            "AI",
            "Microsoft Office",
            "Excel"
           ]
          ],
          [
           "TECHNOCRAFT Solutions",
           3.6,
           "Data analyst",
           "New York, NY",
           46000,
           77000,
           22,
           40.7127753,
           -74.0059728,
           [
            "Python",
            "SQL",
            "R",
            "Java",
            "Tableau",
            "Oracle",
            "JavaScript"
           ]
          ],
          [
           "Columbia University",
           4.1,
           "Marketing and Enrollment Data Analyst",
           "New York, NY",
           40000,
           65000,
           3,
           40.7127753,
           -74.0059728,
           [
            "R",
            "Excel"
           ]
          ],
          [
           "MediaMath",
           3.7,
           "Data Analyst / Data Engineer",
           "New York, NY",
           96000,
           129000,
           27,
           40.7127753,
           -74.0059728,
           [
            "Python",
            "SQL",
            "R",
            "Hadoop",
            "Spark",
            "Hive",
            "AWS",
            "Excel",
            "S3"
           ]
          ],
          [
           "Procter & Gamble",
           4,
           "Data Analyst",
           "Newark, NJ",
           62000,
           105000,
           7,
           40.735657,
           -74.1723667,
           [
            "Python",
            "SQL",
            "R",
            "Spark",
            "Java",
            "Tableau",
            "SAS",
            "AI",
            "Excel"
           ]
          ],
          [
           "CompStak",
           4.4,
           "Data Operations Analyst",
           "New York, NY",
           61000,
           92000,
           18,
           40.7127753,
           -74.0059728,
           [
            "SQL",
            "R",
            "Excel",
            "MySQL"
           ]
          ],
          [
           "ApTask",
           4.2,
           "Business/Data Analyst",
           "New York, NY",
           60000,
           94000,
           6,
           40.7127753,
           -74.0059728,
           [
            "SQL",
            "R",
            "Data Analysis"
           ]
          ],
          [
           "Capgemini",
           3.7,
           "Data Analyst",
           "New York, NY",
           50000,
           85000,
           12,
           40.7127753,
           -74.0059728,
           [
            "SQL",
            "R",
            "Oracle"
           ]
          ],
          [
           "Resourcesys",
           4.5,
           "Data Analyst",
           "New Hyde Park, NY",
           50000,
           84000,
           7,
           40.7351018,
           -73.6879082,
           [
            "SQL",
            "Tableau",
            "Excel"
           ]
          ],
          [
           "Shutterstock",
           2.9,
           "Data Analyst",
           "New York, NY",
           71000,
           111000,
           16,
           40.7127753,
           -74.0059728,
           [
            "Python",
            "SQL",
            "R",
            "Tableau",
            "Excel"
           ]
          ],
          [
           "New York-Presbyterian Hospital",
           4.1,
           "Data Analyst - ACO",
           "New York, NY",
           51000,
           77000,
           13,
           40.7127753,
           -74.0059728,
           [
            "Python",
            "SQL",
            "R",
            "Tableau",
            "SAS",
            "Excel"
           ]
          ],
          [
           "Capco",
           3.8,
           "Data Analyst",
           "New York, NY",
           53000,
           84000,
           21,
           40.7127753,
           -74.0059728,
           [
            "SQL",
            "R",
            "SAS",
            "AI",
            "Excel",
            "SPSS"
           ]
          ],
          [
           "MealPal",
           3,
           "Data Analyst",
           "New York, NY",
           54000,
           87000,
           7,
           40.7127753,
           -74.0059728,
           [
            "SQL",
            "R",
            "Excel"
           ]
          ],
          [
           "AXION Healthcare Solutions",
           3.5,
           "Data Analyst",
           "New York, NY",
           41000,
           65000,
           7,
           40.7127753,
           -74.0059728,
           [
            "R",
            "AI"
           ]
          ],
          [
           "Global Atlantic Financial Group",
           4.3,
           "Mortgage Whole Loan Data & Collateral Analyst",
           "New York, NY",
           44000,
           66000,
           6,
           40.7127753,
           -74.0059728,
           [
            "SQL",
            "R",
            "Excel"
           ]
          ],
          [
           "Intellipro Group Inc.",
           3.4,
           "Data Analyst",
           "New York, NY",
           65000,
           101000,
           5,
           40.7127753,
           -74.0059728,
           [
            "R",
            "Excel"
           ]
          ],
          [
           "Citibank",
           3.4,
           "Data Quality Analyst",
           "New York, NY",
           50000,
           79000,
           5,
           40.7127753,
           -74.0059728,
           [
            "Python",
            "SQL",
            "R",
            "Oracle",
            "Excel",
            "S3"
           ]
          ],
          [
           "Two Sigma",
           4.4,
           "Data Research and Acceleration Analyst",
           "New York, NY",
           108000,
           175000,
           6,
           40.7127753,
           -74.0059728,
           [
            "Python",
            "SQL",
            "Excel"
           ]
          ],
          [
           "Tiffany & Co.",
           3.3,
           "Senior Analyst, Customer Analytics & Data Science",
           "New York, NY",
           68000,
           110000,
           6,
           40.7127753,
           -74.0059728,
           [
            "Python",
            "SQL",
            "R",
            "Tableau",
            "SAS",
            "AWS",
            "Excel",
            "Data Science"
           ]
          ],
          [
           "UBS",
           3.5,
           "Data Quality Analyst",
           "Weehawken, NJ",
           49000,
           77000,
           3,
           40.7663711,
           -74.02537149999999,
           [
            "SQL",
            "R",
            "Excel"
           ]
          ],
          [
           "Compass",
           4.3,
           "Senior Data Analyst - New York City",
           "New York, NY",
           87000,
           132000,
           27,
           40.7127753,
           -74.0059728,
           [
            "Python",
            "SQL",
            "R",
            "Tableau",
            "PostgreSQL",
            "MySQL"
           ]
          ],
          [
           "ADP",
           3.7,
           "Data Analyst",
           "New York, NY",
           49000,
           79000,
           14,
           40.7127753,
           -74.0059728,
           [
            "Python",
            "SQL",
            "R",
            "Java",
            "Tableau",
            "AWS",
            "Data Analysis",
            "PostgreSQL",
            "MySQL",
            "S3"
           ]
          ],
          [
           "Fragomen Worldwide",
           3.1,
           "Data Analyst",
           "New York, NY",
           48000,
           80000,
           1,
           40.7127753,
           -74.0059728,
           [
            "R",
            "Tableau",
            "Excel"
           ]
          ],
          [
           "ApTask",
           4.2,
           "Data Analyst",
           "New York, NY",
           62000,
           105000,
           6,
           40.7127753,
           -74.0059728,
           [
            "SQL",
            "R",
            "Data Analysis"
           ]
          ],
          [
           "RMS Computer Corp.",
           3.8,
           "Business/Data Analyst",
           "New York, NY",
           48000,
           74000,
           6,
           40.7127753,
           -74.0059728,
           [
            "R"
           ]
          ],
          [
           "Milliman",
           4,
           "Healthcare Data Analyst",
           "New York, NY",
           49000,
           78000,
           19,
           40.7127753,
           -74.0059728,
           [
            "SQL",
            "R",
            "Tableau",
            "SAS",
            "Excel"
           ]
          ],
          [
           "WebMD",
           2.5,
           "Associate Data Reporting Analyst",
           "New York, NY",
           55000,
           92000,
           18,
           40.7127753,
           -74.0059728,
           [
            "SQL",
            "R",
            "Tableau",
            "Oracle",
            "Linux",
            "Microsoft Office",
            "Excel",
            "Business Intelligence"
           ]
          ],
          [
           "Vineyard Vines",
           3.8,
           "Data Scientist/ Business Analyst",
           "Stamford, CT",
           103000,
           138000,
           22,
           41.0534302,
           -73.5387341,
           [
            "Python",
            "SQL",
            "Machine Learning",
            "R",
            "AI",
            "Azure"
           ]
          ],
          [
           "Peloton Interactive",
           3.5,
           "IT Technical Business Analyst - Data Integrations",
           "New York, NY",
           62000,
           100000,
           4,
           40.7127753,
           -74.0059728,
           [
            "SQL",
            "R",
            "Oracle",
            "MySQL"
           ]
          ],
          [
           "APN Consulting",
           4.2,
           "Data Analyst",
           "Jersey City, NJ",
           59000,
           95000,
           27,
           40.7177545,
           -74.0431435,
           [
            "R",
            "Tableau",
            "Excel"
           ]
          ],
          [
           "TechDigital Corporation",
           3.5,
           "Data Analyst - Analytics/SQL",
           "New York, NY",
           48000,
           79000,
           30,
           40.7127753,
           -74.0059728,
           [
            "SQL",
            "R",
            "Oracle"
           ]
          ],
          [
           "EmblemHealth",
           2.7,
           "Data Analyst, Special Investigations Unit",
           "New York, NY",
           47000,
           76000,
           2,
           40.7127753,
           -74.0059728,
           [
            "SQL",
            "R",
            "SAS",
            "Excel"
           ]
          ],
          [
           "Major League Baseball",
           3,
           "BI Data Analyst",
           "New York, NY",
           57000,
           95000,
           7,
           40.7127753,
           -74.0059728,
           [
            "Python",
            "SQL",
            "R",
            "Java",
            "Tableau",
            "Excel",
            "MySQL",
            "Business Intelligence"
           ]
          ],
          [
           "CipherHealth",
           3.6,
           "Data Analyst, Customer Success",
           "New York, NY",
           44000,
           69000,
           8,
           40.7127753,
           -74.0059728,
           [
            "SQL",
            "R",
            "Excel"
           ]
          ],
          [
           "S&P Global",
           3.5,
           "Quantitative Analyst/Data Scientist",
           "New York, NY",
           121000,
           194000,
           6,
           40.7127753,
           -74.0059728,
           [
            "Python",
            "SQL",
            "R",
            "Excel"
           ]
          ],
          [
           "Mount Sinai Health System",
           3.4,
           "Data Analyst I, Department of OBGYN",
           "New York, NY",
           45000,
           66000,
           7,
           40.7127753,
           -74.0059728,
           [
            "R",
            "Excel"
           ]
          ],
          [
           "Diverse Lynx",
           3.6,
           "Data Analyst",
           "Jersey City, NJ",
           51000,
           86000,
           12,
           40.7177545,
           -74.0431435,
           [
            "R",
            "Excel"
           ]
          ],
          [
           "Millennium Partners",
           4.2,
           "Data Analyst/Engineer",
           "New York, NY",
           70000,
           113000,
           3,
           40.7127753,
           -74.0059728,
           [
            "Python",
            "SQL",
            "R",
            "Linux",
            "Excel"
           ]
          ],
          [
           "Mount Sinai Health System",
           3.4,
           "Data Analyst II, Environmental Medicine and Public Health",
           "New York, NY",
           54000,
           79000,
           5,
           40.7127753,
           -74.0059728,
           [
            "SQL",
            "R",
            "Java"
           ]
          ],
          [
           "Brooklyn Hospital Center",
           2.9,
           "Data Analyst",
           "Brooklyn, NY",
           47000,
           70000,
           25,
           40.6781784,
           -73.9441579,
           [
            "R",
            "AI"
           ]
          ],
          [
           "New York Life Insurance Company",
           3.5,
           "Data Analyst",
           "New York, NY",
           51000,
           83000,
           25,
           40.7127753,
           -74.0059728,
           [
            "SQL",
            "R",
            "Hadoop",
            "Java",
            "Tableau",
            "SAS",
            "Microsoft Office",
            "Excel"
           ]
          ],
          [
           "American Civil Liberties Union",
           3.1,
           "Data Analyst",
           "New York, NY",
           45000,
           75000,
           24,
           40.7127753,
           -74.0059728,
           [
            "Python",
            "SQL",
            "R",
            "Tableau"
           ]
          ],
          [
           "Mount Sinai Health System",
           3.4,
           "Data Analyst I, Department of Psychiatry",
           "New York, NY",
           45000,
           66000,
           13,
           40.7127753,
           -74.0059728,
           [
            "R",
            "Excel"
           ]
          ],
          [
           "Tachyon Technologies",
           4.3,
           "Data Analyst",
           "New York, NY",
           49000,
           82000,
           22,
           40.7127753,
           -74.0059728,
           [
            "Python",
            "SQL",
            "R",
            "Tableau"
           ]
          ],
          [
           "NYC Criminal Justice Agency",
           2.7,
           "Data Analyst",
           "New York, NY",
           44000,
           73000,
           14,
           40.7127753,
           -74.0059728,
           [
            "Python",
            "R",
            "Excel",
            "SPSS"
           ]
          ],
          [
           "New York-Presbyterian Hospital",
           4.1,
           "Senior Financial Analyst/Data Analyst - Decision Support",
           "New York, NY",
           65000,
           93000,
           5,
           40.7127753,
           -74.0059728,
           [
            "SQL",
            "R",
            "Excel"
           ]
          ],
          [
           "UncommonGoods",
           3.8,
           "Data Analyst",
           "Brooklyn, NY",
           47000,
           77000,
           14,
           40.6781784,
           -73.9441579,
           [
            "Python",
            "SQL",
            "R",
            "Tableau",
            "Git"
           ]
          ],
          [
           "Crescens Inc.",
           3.2,
           "Data Analyst",
           "Jersey City, NJ",
           38000,
           64000,
           26,
           40.7177545,
           -74.0431435,
           [
            "SQL",
            "R",
            "Tableau",
            "Excel"
           ]
          ],
          [
           "City of New York",
           3.5,
           "Data Analyst, Harlem Neighborhood Health Action Center",
           "New York, NY",
           50000,
           83000,
           7,
           40.7127753,
           -74.0059728,
           [
            "R",
            "Tableau",
            "SAS",
            "Microsoft Office",
            "Excel",
            "SPSS"
           ]
          ],
          [
           "Child Mind Institute",
           3.6,
           "Data Analyst, Autism Center & Center for the Developing Brain",
           "New York, NY",
           49000,
           74000,
           7,
           40.7127753,
           -74.0059728,
           [
            "Python",
            "R"
           ]
          ],
          [
           "Intervarsity",
           4.2,
           "Data Analyst",
           "New York, NY",
           39000,
           64000,
           14,
           40.7127753,
           -74.0059728,
           [
            "SQL",
            "R",
            "Tableau",
            "Data Analysis",
            "SPSS"
           ]
          ],
          [
           "Real Capital Analytics",
           3.9,
           "Data Analyst",
           "New York, NY",
           39000,
           66000,
           13,
           40.7127753,
           -74.0059728,
           [
            "Python",
            "SQL",
            "R",
            "Tableau",
            "SAS",
            "Excel"
           ]
          ],
          [
           "United Federation of Teachers",
           3.5,
           "Data Analyst",
           "New York, NY",
           46000,
           72000,
           28,
           40.7127753,
           -74.0059728,
           [
            "R"
           ]
          ],
          [
           "AmTrust Financial Services, Inc.",
           3,
           "Data Analyst",
           "Jersey City, NJ",
           48000,
           79000,
           5,
           40.7177545,
           -74.0431435,
           [
            "SQL",
            "R",
            "Tableau"
           ]
          ],
          [
           "Refinitiv",
           3.5,
           "Data Analyst",
           "New York, NY",
           41000,
           70000,
           13,
           40.7127753,
           -74.0059728,
           [
            "Python",
            "SQL",
            "R",
            "Oracle",
            "Excel"
           ]
          ],
          [
           "YAI - Seeing beyond disability",
           3.2,
           "Data Analyst",
           "New York, NY",
           37000,
           62000,
           1,
           40.7127753,
           -74.0059728,
           [
            "R",
            "SAS",
            "AI",
            "Excel",
            "SPSS"
           ]
          ],
          [
           "Capco",
           3.8,
           "Data Quality Analyst",
           "New York, NY",
           53000,
           84000,
           12,
           40.7127753,
           -74.0059728,
           [
            "R"
           ]
          ],
          [
           "Citi",
           3.6,
           "Data Quality Analyst",
           "New York, NY",
           53000,
           84000,
           5,
           40.7127753,
           -74.0059728,
           [
            "Python",
            "SQL",
            "R",
            "Oracle",
            "Excel",
            "S3"
           ]
          ],
          [
           "Facebook",
           4.4,
           "Data Analyst - News Partnerships, Media Partnerships",
           "New York, NY",
           73000,
           119000,
           1,
           40.7127753,
           -74.0059728,
           [
            "SQL",
            "R",
            "Hadoop",
            "Tableau",
            "Hive",
            "Excel"
           ]
          ],
          [
           "Deloitte",
           3.8,
           "Specialist Analyst Data Scientist - Technology, Consulting - Insight Studio - UG - Northwestern University (Summer/Fall)",
           "New York, NY",
           132000,
           185000,
           27,
           40.7127753,
           -74.0059728,
           [
            "Python",
            "SQL",
            "R"
           ]
          ],
          [
           "BuzzFeed",
           2.9,
           "Senior Data Analyst",
           "New York, NY",
           74000,
           118000,
           20,
           40.7127753,
           -74.0059728,
           [
            "Python",
            "SQL",
            "R"
           ]
          ],
          [
           "Simon Property Group",
           2.7,
           "Venture Capital Analyst - Data Scientist",
           "New York, NY",
           81000,
           120000,
           8,
           40.7127753,
           -74.0059728,
           [
            "R",
            "Excel"
           ]
          ],
          [
           "Rockstar Games",
           3.7,
           "Senior Data Analyst",
           "New York, NY",
           65000,
           100000,
           20,
           40.7127753,
           -74.0059728,
           [
            "Python",
            "SQL",
            "R",
            "Hadoop",
            "Tableau",
            "SAS",
            "SPSS",
            "Business Intelligence"
           ]
          ],
          [
           "Virtu Financial",
           3.4,
           "Market Data Analyst",
           "New York, NY",
           64000,
           100000,
           26,
           40.7127753,
           -74.0059728,
           [
            "R",
            "Excel"
           ]
          ],
          [
           "Columbia University",
           4.1,
           "Data Research Analyst",
           "New York, NY",
           37000,
           57000,
           30,
           40.7127753,
           -74.0059728,
           [
            "Python",
            "SQL",
            "R",
            "Microsoft Office",
            "Excel",
            "Project Management"
           ]
          ],
          [
           "Marsh & McLennan Companies",
           3.4,
           "Data Analyst",
           "New York, NY",
           43000,
           69000,
           5,
           40.7127753,
           -74.0059728,
           [
            "Python",
            "SQL",
            "R",
            "Spark",
            "Tableau",
            "Excel"
           ]
          ],
          [
           "RMS Computer Corporation",
           3.8,
           "Financial Reporting/Data Analyst -Investment Bank",
           "Jersey City, NJ",
           47000,
           79000,
           12,
           40.7177545,
           -74.0431435,
           [
            "R",
            "Excel"
           ]
          ],
          [
           "Dime Community Bank",
           2.9,
           "Data Analyst",
           "Brooklyn, NY",
           35000,
           57000,
           11,
           40.6781784,
           -73.9441579,
           [
            "Python",
            "SQL",
            "R",
            "Java",
            "SAS",
            "Excel"
           ]
          ],
          [
           "CBS",
           3.6,
           "Analyst, Data Governance",
           "New York, NY",
           44000,
           78000,
           30,
           40.7127753,
           -74.0059728,
           [
            "R",
            "Excel"
           ]
          ],
          [
           "Point72",
           4.1,
           "Data Support Analyst",
           "New York, NY",
           67000,
           103000,
           18,
           40.7127753,
           -74.0059728,
           [
            "R",
            "Excel"
           ]
          ],
          [
           "Salesforce",
           4.3,
           "Winter 2020 Co-op - Data and Automation Analyst",
           "New York, NY",
           62000,
           82000,
           1,
           40.7127753,
           -74.0059728,
           [
            "R",
            "Data Science"
           ]
          ],
          [
           "Elite Technical",
           5,
           "Healthcare Data Analyst",
           "New York, NY",
           45000,
           75000,
           18,
           40.7127753,
           -74.0059728,
           [
            "SQL",
            "R",
            "SAS",
            "Excel"
           ]
          ],
          [
           "Gallagher",
           3.1,
           "Data Analyst",
           "New York, NY",
           46000,
           73000,
           12,
           40.7127753,
           -74.0059728,
           [
            "R"
           ]
          ],
          [
           "NTT DATA, Inc.",
           3,
           "BA/Data Analyst",
           "Jersey City, NJ",
           50000,
           80000,
           3,
           40.7177545,
           -74.0431435,
           [
            "R",
            "AWS",
            "Data Analysis"
           ]
          ],
          [
           "Compass",
           4.3,
           "Senior Data Analyst - Data Infrastructure",
           "New York, NY",
           87000,
           132000,
           13,
           40.7127753,
           -74.0059728,
           [
            "SQL",
            "Tableau"
           ]
          ],
          [
           "FDM Group",
           3.3,
           "New York - Junior Data / Business Intelligence Analyst New York",
           "New York, NY",
           36000,
           51000,
           4,
           40.7127753,
           -74.0059728,
           [
            "Data Analysis",
            "Excel",
            "Business Intelligence"
           ]
          ],
          [
           "Cygnus Professionals",
           3.9,
           "Data Analyst",
           "New York, NY",
           43000,
           70000,
           30,
           40.7127753,
           -74.0059728,
           [
            "Python",
            "SQL",
            "R",
            "Tableau"
           ]
          ],
          [
           "Mount Sinai Health System",
           3.4,
           "Data Analyst I- MSH Physcian Access Services - FT- Days",
           "New York, NY",
           45000,
           66000,
           1,
           40.7127753,
           -74.0059728,
           [
            "R",
            "Excel"
           ]
          ],
          [
           "Blue Apron",
           3,
           "Senior Data Analyst",
           "New York, NY",
           63000,
           98000,
           1,
           40.7127753,
           -74.0059728,
           [
            "SQL",
            "R",
            "Tableau"
           ]
          ],
          [
           "Mount Sinai Health System",
           3.4,
           "Data Analyst I - Geriatrics and Palliative Care",
           "New York, NY",
           41000,
           60000,
           21,
           40.7127753,
           -74.0059728,
           [
            "R"
           ]
          ],
          [
           "XDuce",
           4.2,
           "Data Analyst - Analytics/SQL",
           "New York, NY",
           46000,
           79000,
           30,
           40.7127753,
           -74.0059728,
           [
            "SQL",
            "R",
            "Oracle"
           ]
          ],
          [
           "Virtus Partners",
           3,
           "Data Analyst II or III (Structured Finance)",
           "New York, NY",
           46000,
           74000,
           10,
           40.7127753,
           -74.0059728,
           [
            "R",
            "Excel"
           ]
          ],
          [
           "NYC Health + Hospitals",
           3.3,
           "Data Quality Analyst",
           "New York, NY",
           59000,
           89000,
           1,
           40.7127753,
           -74.0059728,
           [
            "SQL",
            "R",
            "Microsoft Office",
            "Excel",
            "Project Management"
           ]
          ],
          [
           "NYU Langone Health",
           4,
           "Sr Data Analyst- Population Health",
           "New York, NY",
           62000,
           90000,
           11,
           40.7127753,
           -74.0059728,
           [
            "SQL",
            "R",
            "SAS"
           ]
          ],
          [
           "The Children's Place",
           2.7,
           "Data Scientist - Digital Analyst",
           "Secaucus, NJ",
           101000,
           146000,
           13,
           40.7895453,
           -74.05652979999999,
           [
            "Python",
            "SQL",
            "R",
            "SAS"
           ]
          ],
          [
           "DVF Studio, LLC",
           2.9,
           "Master Data Analyst",
           "New York, NY",
           49000,
           79000,
           21,
           40.7127753,
           -74.0059728,
           [
            "R",
            "Excel"
           ]
          ],
          [
           "IPRO",
           3.2,
           "Data Analyst",
           "Lake Success, NY",
           41000,
           63000,
           26,
           40.7698453,
           -73.70904279999999,
           [
            "R",
            "SAS",
            "Excel",
            "SPSS"
           ]
          ],
          [
           "Fidelis Group",
           3.5,
           "Data Analyst",
           "Little Ferry, NJ",
           36000,
           57000,
           13,
           40.8528777,
           -74.0420848,
           [
            "SQL",
            "R",
            "Java",
            "Git",
            "Excel",
            "S3"
           ]
          ],
          [
           "Lorven Technologies Inc",
           4,
           "Data Analyst - Analytics/SQL",
           "New York, NY",
           47000,
           76000,
           30,
           40.7127753,
           -74.0059728,
           [
            "SQL",
            "R",
            "Oracle"
           ]
          ],
          [
           "Colgate-Palmolive",
           4,
           "Data Analyst",
           "Piscataway, NJ",
           52000,
           88000,
           25,
           40.554887,
           -74.4642861,
           [
            "Python",
            "SQL",
            "R",
            "Java",
            "Oracle",
            "Git",
            "PostgreSQL",
            "MySQL",
            "MongoDB"
           ]
          ],
          [
           "Chubb",
           3.4,
           "Data Analyst",
           "Whitehouse Station, NJ",
           67000,
           106000,
           21,
           40.6155663,
           -74.7702576,
           [
            "SQL",
            "R",
            "Excel",
            "Business Intelligence"
           ]
          ],
          [
           "IQVIA",
           3.5,
           "Data Analyst (Home-based) - Eastern Timezone - XWA",
           "New York, NY",
           43000,
           73000,
           17,
           40.7127753,
           -74.0059728,
           [
            "R",
            "Data Analysis",
            "Excel",
            "Business Intelligence"
           ]
          ],
          [
           "Alibaba Group",
           4,
           "ICBU Senior Data Analyst Alibaba.com",
           "New York, NY",
           83000,
           126000,
           3,
           40.7127753,
           -74.0059728,
           [
            "R"
           ]
          ],
          [
           "TechnoSphere, Inc",
           4.9,
           "Junior/Mid-level Data Analyst with AML",
           "New York, NY",
           36000,
           59000,
           1,
           40.7127753,
           -74.0059728,
           [
            "Excel"
           ]
          ],
          [
           "Itlize Global",
           4.7,
           "Data Analyst",
           "Piscataway, NJ",
           39000,
           65000,
           8,
           40.554887,
           -74.4642861,
           [
            "SQL",
            "R",
            "PostgreSQL",
            "MySQL"
           ]
          ],
          [
           "IEEE",
           3.4,
           "Data Analyst",
           "Piscataway, NJ",
           38000,
           62000,
           4,
           40.554887,
           -74.4642861,
           [
            "R",
            "Tableau",
            "Oracle",
            "Microsoft Office",
            "Excel"
           ]
          ],
          [
           "Noom US",
           4.4,
           "Senior Data Analyst",
           "New York, NY",
           66000,
           105000,
           1,
           40.7127753,
           -74.0059728,
           [
            "Python",
            "SQL",
            "R",
            "Tableau"
           ]
          ],
          [
           "WW International (formerly Weight Watchers)",
           3.1,
           "Data Analyst",
           "New York, NY",
           50000,
           82000,
           18,
           40.7127753,
           -74.0059728,
           [
            "SQL",
            "R",
            "Excel"
           ]
          ],
          [
           "Legg Mason",
           2.9,
           "Data Governance Analyst",
           "New York, NY",
           59000,
           95000,
           30,
           40.7127753,
           -74.0059728,
           [
            "Python",
            "R",
            "Tableau",
            "Excel"
           ]
          ],
          [
           "Tata Consultancy Services (North America)",
           3.7,
           "Data Modeler/analyst",
           "New York, NY",
           84000,
           113000,
           10,
           40.7127753,
           -74.0059728,
           [
            "SQL",
            "R",
            "Oracle",
            "Excel"
           ]
          ],
          [
           "Sony Music Entertainment",
           4.1,
           "Senior Data Operations Analyst, Data Analytics",
           "New York, NY",
           68000,
           98000,
           15,
           40.7127753,
           -74.0059728,
           [
            "Python",
            "SQL",
            "R",
            "Java",
            "Tableau",
            "Git"
           ]
          ],
          [
           "Brown Brothers Harriman",
           3.2,
           "Data Governance Technical Analyst",
           "Jersey City, NJ",
           60000,
           102000,
           1,
           40.7177545,
           -74.0431435,
           [
            "SQL",
            "R",
            "Big Data",
            "Excel"
           ]
          ],
          [
           "LOGIXtech Solutions",
           2.9,
           "Business Data Analyst w/ SQL",
           "New York, NY",
           74000,
           111000,
           1,
           40.7127753,
           -74.0059728,
           [
            "SQL",
            "R",
            "Project Management"
           ]
          ],
          [
           "Square",
           3.9,
           "Senior Compliance Data Analyst",
           "New York, NY",
           75000,
           116000,
           27,
           40.7127753,
           -74.0059728,
           [
            "Python",
            "SQL",
            "R",
            "Git",
            "Excel"
           ]
          ],
          [
           "Talent Inc.",
           3.8,
           "Senior Data Analyst",
           "New York, NY",
           54000,
           91000,
           7,
           40.7127753,
           -74.0059728,
           [
            "SQL",
            "R",
            "Tableau",
            "NoSQL",
            "Excel"
           ]
          ],
          [
           "Sphinix Network Solutions Inc.",
           1,
           "Tech Business/Data Analyst",
           "New York, NY",
           44000,
           67000,
           21,
           40.7127753,
           -74.0059728,
           [
            "Python",
            "SQL",
            "R",
            "Java",
            "Excel",
            "Perl",
            "Software Development"
           ]
          ],
          [
           "WW International (formerly Weight Watchers)",
           3.1,
           "Data Analyst (Marketing Analytics)",
           "New York, NY",
           45000,
           76000,
           5,
           40.7127753,
           -74.0059728,
           [
            "SQL",
            "R",
            "Excel"
           ]
          ],
          [
           "Catholic Health Services of Long Island",
           3.2,
           "Data Analyst",
           "Roslyn, NY",
           65000,
           96000,
           10,
           40.7998227,
           -73.6509622,
           [
            "R"
           ]
          ],
          [
           "EmblemHealth",
           2.7,
           "Data Governance Analyst Technical Steward",
           "New York, NY",
           75000,
           107000,
           2,
           40.7127753,
           -74.0059728,
           [
            "SQL",
            "R",
            "Tableau",
            "Data Warehouse",
            "Excel",
            "Project Management"
           ]
          ],
          [
           "Lovesac",
           2.9,
           "Data Analyst",
           "Stamford, CT",
           36000,
           59000,
           5,
           41.0534302,
           -73.5387341,
           [
            "R",
            "Microsoft Office",
            "Excel"
           ]
          ],
          [
           "Cantor Fitzgerald",
           2.5,
           "Cantor Fitzgerald: Client Data Management, Analyst",
           "New York, NY",
           50000,
           80000,
           20,
           40.7127753,
           -74.0059728,
           [
            "R",
            "Excel"
           ]
          ],
          [
           "SmartSource Rentals",
           3.6,
           "Data Analyst",
           "Hauppauge, NY",
           50000,
           84000,
           18,
           40.8256536,
           -73.2026138,
           [
            "Python",
            "SQL",
            "R",
            "Tableau",
            "Big Data",
            "Oracle",
            "Data Analysis",
            "Azure",
            "Excel"
           ]
          ],
          [
           "The Orchard",
           3.4,
           "Senior Data Operations Analyst, Data Analytics",
           "New York, NY",
           50000,
           73000,
           15,
           40.7127753,
           -74.0059728,
           [
            "Python",
            "SQL",
            "R",
            "Java",
            "Tableau",
            "Git"
           ]
          ],
          [
           "Regeneron",
           3.7,
           "NGS Data Analyst, Regeneron Genetics Center",
           "Tarrytown, NY",
           59000,
           96000,
           25,
           41.0762077,
           -73.85874609999999,
           [
            "Python",
            "R",
            "AWS",
            "Git"
           ]
          ],
          [
           "Mount Sinai Medical Center",
           3.1,
           "Data Analyst II, Environmental Medicine and Public Health",
           "New York, NY",
           54000,
           80000,
           3,
           40.7127753,
           -74.0059728,
           [
            "SQL",
            "R",
            "Java"
           ]
          ],
          [
           "Amazon",
           3.8,
           "Sr. Business Intelligence Engineer / Data Analyst",
           "New York, NY",
           104000,
           143000,
           27,
           40.7127753,
           -74.0059728,
           [
            "Python",
            "SQL",
            "R",
            "Tableau",
            "AWS",
            "Excel",
            "Business Intelligence"
           ]
          ],
          [
           "UBS",
           3.5,
           "Data Lineage Analyst - Data Governance",
           "New York, NY",
           83000,
           115000,
           7,
           40.7127753,
           -74.0059728,
           [
            "SQL",
            "R",
            "Excel"
           ]
          ],
          [
           "Diverse Lynx",
           3.6,
           "QlikSense / Data Analyst",
           "Jersey City, NJ",
           51000,
           86000,
           30,
           40.7177545,
           -74.0431435,
           [
            "SQL",
            "R"
           ]
          ],
          [
           "Compu-Vision Consulting Inc.",
           3.3,
           "Data Mapper/ Data Analyst",
           "New York, NY",
           74000,
           120000,
           30,
           40.7127753,
           -74.0059728,
           [
            "R",
            "Data Analysis"
           ]
          ],
          [
           "Emblem Health",
           2.7,
           "Data Governance Analyst",
           "New York, NY",
           54000,
           85000,
           30,
           40.7127753,
           -74.0059728,
           [
            "SQL",
            "R",
            "Data Warehouse",
            "Excel",
            "Project Management",
            "Business Intelligence"
           ]
          ],
          [
           "Diverse Lynx",
           3.6,
           "Sure shot: Data Analyst with SQL/PLSQL/BI/Datawarehousing",
           "New York, NY",
           51000,
           86000,
           30,
           40.7127753,
           -74.0059728,
           [
            "SQL",
            "R",
            "Excel"
           ]
          ],
          [
           "Discovery Communications, Inc.",
           3.5,
           "Sr Data Analyst",
           "New York, NY",
           69000,
           113000,
           3,
           40.7127753,
           -74.0059728,
           [
            "Python",
            "SQL",
            "R",
            "Spark",
            "Java",
            "Tableau",
            "Big Data",
            "AWS",
            "Scala",
            "NoSQL",
            "Oracle",
            "Azure",
            "MySQL",
            "Data Science",
            "S3"
           ]
          ],
          [
           "TechnoSphere, Inc",
           4.9,
           "AML Data Analyst",
           "New York, NY",
           45000,
           75000,
           18,
           40.7127753,
           -74.0059728,
           [
            "SQL",
            "Excel"
           ]
          ],
          [
           "ACA Compliance Group",
           4.3,
           "Data Analyst",
           "New York, NY",
           39000,
           65000,
           30,
           40.7127753,
           -74.0059728,
           [
            "SQL",
            "R",
            "Data Warehouse",
            "Git",
            "Excel"
           ]
          ],
          [
           "Public Consulting Group",
           3.2,
           "Data Analyst",
           "Princeton, NJ",
           50000,
           78000,
           13,
           40.3572976,
           -74.6672226,
           [
            "Python",
            "SQL",
            "R",
            "Tableau",
            "Excel"
           ]
          ],
          [
           "Metroplus Health Plan",
           3,
           "Data Quality Analyst",
           "New York, NY",
           48000,
           73000,
           1,
           40.7127753,
           -74.0059728,
           [
            "SQL",
            "R",
            "Microsoft Office",
            "Excel",
            "Project Management"
           ]
          ],
          [
           "New York City Taxi and Limousine Commission",
           3.6,
           "Program Data Analyst",
           "New York, NY",
           38000,
           65000,
           5,
           40.7127753,
           -74.0059728,
           [
            "Python",
            "SQL",
            "R",
            "Excel"
           ]
          ],
          [
           "Momentum Resource Solutions",
           3.6,
           "Financial Data Analyst (Healthcare)",
           "New York, NY",
           45000,
           72000,
           4,
           40.7127753,
           -74.0059728,
           [
            "R",
            "Excel"
           ]
          ],
          [
           "Moxie",
           3.1,
           "Analyst, Data Architecture",
           "New York, NY",
           102000,
           145000,
           3,
           40.7127753,
           -74.0059728,
           [
            "R",
            "Spark"
           ]
          ],
          [
           "Lorven Technologies Inc",
           4,
           "Data Analyst",
           "New York, NY",
           47000,
           76000,
           30,
           40.7127753,
           -74.0059728,
           [
            "SQL",
            "Java",
            "SAS",
            "Excel",
            "SPSS"
           ]
          ],
          [
           "BGC Partners",
           3.1,
           "Cantor Fitzgerald: Client Data Management, Analyst",
           "New York, NY",
           57000,
           92000,
           30,
           40.7127753,
           -74.0059728,
           [
            "R",
            "Excel"
           ]
          ],
          [
           "TechProjects",
           4.8,
           "Data Analyst-Junior Profiles also works-Only NY/NJ Candidates Please on w2 Only",
           "Jersey City, NJ",
           41000,
           63000,
           10,
           40.7177545,
           -74.0431435,
           [
            "Python",
            "SQL",
            "R",
            "Tableau",
            "Excel"
           ]
          ],
          [
           "eTeam Inc.",
           4,
           "Senior Data Analyst",
           "New York, NY",
           80000,
           129000,
           27,
           40.7127753,
           -74.0059728,
           [
            "SQL",
            "R",
            "Data Analysis",
            "Excel"
           ]
          ],
          [
           "Citadel",
           4.3,
           "Office of the CAO | Reference Data, Project Manager/Business Analyst",
           "New York, NY",
           122000,
           164000,
           4,
           40.7127753,
           -74.0059728,
           [
            "Python",
            "SQL",
            "R",
            "Tableau",
            "Project Management"
           ]
          ],
          [
           "Compu-Vision Consulting Inc.",
           3.3,
           "Data Analyst - Compu-Vision Consulting Inc.",
           "New York, NY",
           73000,
           119000,
           30,
           40.7127753,
           -74.0059728,
           [
            "R"
           ]
          ],
          [
           "Hospital for Special Surgery",
           4.2,
           "Compliance Data Analyst",
           "New York, NY",
           52000,
           77000,
           4,
           40.7127753,
           -74.0059728,
           [
            "SQL",
            "R",
            "SAS"
           ]
          ],
          [
           "Verizon",
           3.6,
           "Data Analyst",
           "Basking Ridge, NJ",
           54000,
           84000,
           6,
           40.7066174,
           -74.5493284,
           [
            "SQL",
            "R",
            ".Net"
           ]
          ],
          [
           "M&T Bank",
           3.3,
           "Salesforce Data Analyst",
           "New York, NY",
           53000,
           84000,
           2,
           40.7127753,
           -74.0059728,
           [
            "R",
            "Microsoft Office",
            "Excel"
           ]
          ],
          [
           "Seven Seven Softwares",
           3.5,
           "Data Analyst",
           "Newark, NJ",
           53000,
           90000,
           30,
           40.735657,
           -74.1723667,
           [
            "Python",
            "SQL",
            "R",
            "Hadoop",
            "Spark",
            "Java",
            "Tableau",
            "Hive",
            "Excel",
            "JavaScript",
            "MySQL",
            "S3"
           ]
          ],
          [
           "Vera Institute of Justice",
           2.7,
           "Data Analyst, CIJ",
           "New York, NY",
           38000,
           64000,
           21,
           40.7127753,
           -74.0059728,
           [
            "SQL",
            "R",
            "Tableau",
            "AWS",
            "Excel"
           ]
          ],
          [
           "Mount Sinai Medical Center",
           3.1,
           "Data Analyst I, Department of Psychiatry",
           "New York, NY",
           38000,
           58000,
           30,
           40.7127753,
           -74.0059728,
           [
            "R",
            "Excel"
           ]
          ],
          [
           "SoFi",
           3.6,
           "Senior/Staff Data Scientist, Analyst",
           "New York, NY",
           156000,
           209000,
           1,
           40.7127753,
           -74.0059728,
           [
            "Python",
            "SQL",
            "R",
            "Tableau",
            "Excel"
           ]
          ],
          [
           "MediaMath",
           3.7,
           "Senior Data Analyst",
           "New York, NY",
           56000,
           87000,
           20,
           40.7127753,
           -74.0059728,
           [
            "Python",
            "SQL",
            "R",
            "Hadoop",
            "Spark",
            "Hive",
            "AWS",
            "Pig",
            "S3"
           ]
          ],
          [
           "Citi",
           3.6,
           "Sr. Reference Data Business Analyst - SQL",
           "Jersey City, NJ",
           81000,
           133000,
           6,
           40.7177545,
           -74.0431435,
           [
            "SQL",
            "R",
            "Excel"
           ]
          ],
          [
           "Empower Professionals",
           4.7,
           "Data Analyst - Empower Professionals",
           "Jersey City, NJ",
           50000,
           85000,
           30,
           40.7177545,
           -74.0431435,
           [
            "R",
            "Data Analysis"
           ]
          ],
          [
           "RELX Group",
           3.9,
           "Fraud Data Analyst",
           "New York, NY",
           42000,
           70000,
           3,
           40.7127753,
           -74.0059728,
           [
            "Python",
            "SQL",
            "R",
            "SAS",
            "Excel"
           ]
          ],
          [
           "VIVA USA",
           4.6,
           "Data Analyst",
           "Tarrytown, NY",
           45000,
           76000,
           3,
           41.0762077,
           -73.85874609999999,
           [
            "SQL",
            "R",
            "SAS",
            "Oracle"
           ]
          ],
          [
           "Guardian Life",
           3.4,
           "2020 Data Systems Analyst Inernship",
           "Freehold, NJ",
           53000,
           98000,
           24,
           40.2136754,
           -74.3000878,
           [
            "Tableau"
           ]
          ],
          [
           "AC Lion (2)",
           4.2,
           "Data Analyst, Go-Live",
           "New York, NY",
           40000,
           67000,
           8,
           40.7127753,
           -74.0059728,
           [
            "Python",
            "SQL",
            "R",
            "Excel"
           ]
          ],
          [
           "Cross River Bank",
           3.8,
           "Data Analyst",
           "Fort Lee, NJ",
           46000,
           74000,
           7,
           40.8509333,
           -73.9701381,
           [
            "SQL",
            "R",
            "Tableau",
            "Oracle",
            "Data Science"
           ]
          ],
          [
           "Mount Sinai Health System",
           3.4,
           "Data Science Analyst I Computational Biology - Genetics",
           "New York, NY",
           61000,
           95000,
           5,
           40.7127753,
           -74.0059728,
           [
            "Python",
            "R",
            "SAS",
            "Scala"
           ]
          ],
          [
           "S&P GLOBAL MARKET INTELLIGENCE",
           3.5,
           "Quantitative Analyst/Data Scientist",
           "New York, NY",
           96000,
           155000,
           6,
           40.7127753,
           -74.0059728,
           [
            "Python",
            "SQL",
            "R",
            "Excel"
           ]
          ],
          [
           "Ideal Innovations",
           3.9,
           "Data Analyst",
           "Wharton, NJ",
           59000,
           99000,
           13,
           40.8931546,
           -74.5818254,
           [
            "R",
            "MATLAB",
            "Microsoft Office",
            "Excel"
           ]
          ],
          [
           "City of New York",
           3.5,
           "Senior Data Analyst M/WBE, Enterprise Data Services",
           "New York, NY",
           73000,
           120000,
           12,
           40.7127753,
           -74.0059728,
           [
            "Python",
            "SQL",
            "R",
            "SAS",
            "Excel",
            "SPSS"
           ]
          ],
          [
           "Berkeley Point Capital Holdings",
           3.6,
           "Cantor Fitzgerald: Client Data Management, Analyst",
           "New York, NY",
           46000,
           74000,
           26,
           40.7127753,
           -74.0059728,
           [
            "R",
            "Excel"
           ]
          ],
          [
           "Diversified",
           3.4,
           "Data & Reporting Business Analyst - Kenilworth, NJ",
           "New York, NY",
           56000,
           92000,
           4,
           40.7127753,
           -74.0059728,
           [
            "SQL",
            "R",
            "Tableau",
            "Excel"
           ]
          ],
          [
           "Asembia",
           2.7,
           "Data Analyst",
           "Florham Park, NJ",
           51000,
           86000,
           7,
           40.787878,
           -74.3882072,
           [
            "SQL",
            "R",
            "Excel"
           ]
          ],
          [
           "Newmark Knight Frank",
           3,
           "Cantor Fitzgerald: Client Data Management, Analyst",
           "New York, NY",
           44000,
           70000,
           26,
           40.7127753,
           -74.0059728,
           [
            "R",
            "Excel"
           ]
          ],
          [
           "Sumitomo Mitsui Banking Corporation (SMBC)",
           3.1,
           "Data Analyst (Americas Transformation & Strategy Department) in New York, New York | Careers at New York",
           "New York, NY",
           45000,
           71000,
           30,
           40.7127753,
           -74.0059728,
           [
            "R",
            "Excel"
           ]
          ],
          [
           "Info. Objects",
           3.8,
           "Data Analyst with Tableau (CTH ROLE, direct onsite , Only Locals)",
           "New Hyde Park, NY",
           36000,
           61000,
           11,
           40.7351018,
           -73.6879082,
           [
            "Tableau",
            "Excel"
           ]
          ],
          [
           "Softpath System LLC",
           3.8,
           "Data Analyst 3",
           "New York, NY",
           52000,
           87000,
           20,
           40.7127753,
           -74.0059728,
           [
            "SQL",
            "R",
            "SAS",
            "Oracle"
           ]
          ],
          [
           "Pfizer",
           4,
           "Senior Associate, Data Management Reporting Analyst, Central Services",
           "Peapack, NJ",
           75000,
           112000,
           15,
           40.7151691,
           -74.6576091,
           [
            "SQL",
            "R",
            "Java",
            "SAS",
            "Oracle",
            "Microsoft Office",
            "Excel"
           ]
          ],
          [
           "J.P. Morgan",
           3.9,
           "Marketing Data Management Analyst, Corporate & Investment Bank",
           "New York, NY",
           48000,
           77000,
           5,
           40.7127753,
           -74.0059728,
           [
            "R",
            "Tableau",
            "Excel"
           ]
          ],
          [
           "Citibank",
           3.4,
           "Sr. Reference Data Business Analyst - SQL",
           "Jersey City, NJ",
           99000,
           152000,
           6,
           40.7177545,
           -74.0431435,
           [
            "SQL",
            "R",
            "Excel"
           ]
          ],
          [
           "Hackensack Meridian Health",
           3.7,
           "Clinical Data Analyst",
           "Edison, NJ",
           55000,
           83000,
           5,
           40.5187154,
           -74.4120953,
           [
            "R"
           ]
          ],
          [
           "Compass",
           4.3,
           "Senior Data Analyst",
           "New York, NY",
           87000,
           132000,
           27,
           40.7127753,
           -74.0059728,
           [
            "Python",
            "SQL",
            "R",
            "Tableau",
            "PostgreSQL",
            "MySQL"
           ]
          ],
          [
           "Dow Jones",
           3.4,
           "Audience Data Analyst",
           "New York, NY",
           47000,
           75000,
           20,
           40.7127753,
           -74.0059728,
           [
            "Python",
            "SQL",
            "R",
            "Tableau",
            "Linux"
           ]
          ],
          [
           "EY",
           3.7,
           "Data Analyst, Data & Analytics (Advanced Analytics) (Manager) (Multiple Positions)",
           "Iselin, NJ",
           89000,
           123000,
           14,
           40.5753817,
           -74.3223703,
           [
            "Python",
            "SQL",
            "R",
            "Tableau",
            "SAS",
            "TensorFlow",
            "SPSS"
           ]
          ],
          [
           "Virtus Partners LLC",
           3,
           "Data Analyst II or III",
           "New York, NY",
           46000,
           74000,
           20,
           40.7127753,
           -74.0059728,
           [
            "R",
            "Excel"
           ]
          ],
          [
           "Mercedes-Benz USA, LLC",
           3.6,
           "Data Analyst, Accessories Supply Planning",
           "Atlanta, GA",
           46000,
           74000,
           12,
           33.7489954,
           -84.3879824,
           [
            "R",
            "Tableau",
            "Excel",
            "Project Management",
            "Business Intelligence"
           ]
          ],
          [
           "Mount Sinai Health System",
           3.4,
           "Data Analyst II - Genetics",
           "New York, NY",
           59000,
           87000,
           3,
           40.7127753,
           -74.0059728,
           [
            "R",
            "Data Warehouse"
           ]
          ],
          [
           "AdvantageCare Physicians",
           2.1,
           "Lead Data Analyst",
           "New York, NY",
           81000,
           120000,
           3,
           40.7127753,
           -74.0059728,
           [
            "SQL",
            "R",
            "SAS",
            "Oracle",
            "Excel",
            "Business Intelligence"
           ]
          ],
          [
           "Latham & Watkins",
           3.7,
           "Marketing Communications Data Analyst",
           "New York, NY",
           69000,
           115000,
           21,
           40.7127753,
           -74.0059728,
           [
            "R",
            "Tableau",
            "Data Science",
            "Business Intelligence"
           ]
          ],
          [
           "Mount Sinai Medical Center",
           3.1,
           "Data Analyst I, Department of OBGYN",
           "New York, NY",
           41000,
           60000,
           30,
           40.7127753,
           -74.0059728,
           [
            "R",
            "Excel"
           ]
          ],
          [
           "Genpact",
           3.5,
           "Data Analyst (Data Quality & Management)",
           "New York, NY",
           43000,
           71000,
           4,
           40.7127753,
           -74.0059728,
           [
            "SQL",
            "R",
            "Tableau",
            "SAS",
            "Oracle",
            "Azure",
            "Excel",
            "Project Management"
           ]
          ],
          [
           "New York City Department of Education .",
           3.5,
           "Business/Reporting Analyst, Office of Data Management",
           "New York, NY",
           57000,
           95000,
           1,
           40.7127753,
           -74.0059728,
           [
            "SQL",
            "R",
            "Microsoft Office",
            "Excel",
            "Business Intelligence"
           ]
          ],
          [
           "Montefiore Medical",
           3.6,
           "PAYROLL DATA ANALYST",
           "New York, NY",
           45000,
           68000,
           15,
           40.7127753,
           -74.0059728,
           [
            "R",
            "Microsoft Office",
            "Excel"
           ]
          ],
          [
           "Healthfirst (New York)",
           2.8,
           "Senior Data Analyst",
           "New York, NY",
           95000,
           135000,
           6,
           40.7127753,
           -74.0059728,
           [
            "Python",
            "SQL",
            "R",
            "Java",
            "Tableau",
            "Data Warehouse",
            "Excel"
           ]
          ],
          [
           "Brown Brothers Harriman",
           3.2,
           "Data Platforms Senior Systems Business Analyst",
           "Jersey City, NJ",
           78000,
           122000,
           5,
           40.7177545,
           -74.0431435,
           [
            "SQL",
            "R",
            "Data Warehouse",
            "Excel"
           ]
          ],
          [
           "Walmart",
           3.2,
           "Data Governance Business Analyst",
           "Hoboken, NJ",
           52000,
           81000,
           4,
           40.7439905,
           -74.0323626,
           [
            "R"
           ]
          ],
          [
           "Elsevier",
           3.5,
           "Fraud Data Analyst",
           "New York, NY",
           41000,
           68000,
           12,
           40.7127753,
           -74.0059728,
           [
            "Python",
            "SQL",
            "R",
            "SAS",
            "Excel"
           ]
          ],
          [
           "SEMA4",
           3.1,
           "Data Analyst - Pharma LifeSciences",
           "Stamford, CT",
           56000,
           89000,
           8,
           41.0534302,
           -73.5387341,
           [
            "Python",
            "SQL",
            "R",
            "SAS",
            "AWS",
            "Oracle",
            "Excel",
            "MySQL"
           ]
          ],
          [
           "The Bank of New York Mellon",
           3.1,
           "Principal Data Analyst-Data Architect",
           "Florham Park, NJ",
           158000,
           223000,
           3,
           40.787878,
           -74.3882072,
           [
            "R",
            "Hadoop",
            "Oracle",
            "Excel"
           ]
          ],
          [
           "Emblem Health",
           2.7,
           "Senior Data Analyst",
           "New York, NY",
           68000,
           109000,
           20,
           40.7127753,
           -74.0059728,
           [
            "R",
            "SAS",
            "Excel"
           ]
          ],
          [
           "Softpath System LLC",
           3.8,
           "Data Analyst 4",
           "New York, NY",
           63000,
           104000,
           18,
           40.7127753,
           -74.0059728,
           [
            "R",
            "Tableau",
            "Oracle",
            "Excel"
           ]
          ],
          [
           "Sphinix Network Solutions Inc.",
           1,
           "Data Analyst-BA",
           "New York, NY",
           40000,
           67000,
           5,
           40.7127753,
           -74.0059728,
           [
            "SQL",
            "Oracle"
           ]
          ],
          [
           "Harry's",
           3.4,
           "Senior Data Analyst",
           "New York, NY",
           66000,
           102000,
           21,
           40.7127753,
           -74.0059728,
           [
            "Python",
            "SQL",
            "R",
            "Tableau"
           ]
          ],
          [
           "Saratoga Medical Center",
           4.3,
           "Compensation and Data Analyst (Human Resources)",
           "New York, NY",
           59000,
           85000,
           20,
           40.7127753,
           -74.0059728,
           [
            "R",
            "Excel"
           ]
          ],
          [
           "AdvantageCare Physicians",
           2.1,
           "Senior Data Analyst",
           "New York, NY",
           88000,
           126000,
           11,
           40.7127753,
           -74.0059728,
           [
            "R",
            "SAS",
            "Excel"
           ]
          ],
          [
           "Charles River Associates",
           4.6,
           "Data Analyst and Data Scientist",
           "Summit, NJ",
           53000,
           85000,
           25,
           40.7146376,
           -74.3646122,
           [
            "Python",
            "SQL",
            "Machine Learning",
            "R",
            "Java",
            "Tableau",
            "SAS",
            "Natural Language Processing",
            "Excel",
            "JavaScript",
            "SPSS"
           ]
          ],
          [
           "Chubb",
           3.4,
           "Senior Reporting & Data Analyst",
           "Whitehouse Station, NJ",
           103000,
           155000,
           13,
           40.6155663,
           -74.7702576,
           [
            "SQL",
            "R",
            "SAS"
           ]
          ],
          [
           "NYU",
           4.2,
           "Senior Forensic Data Analyst",
           "New York, NY",
           55000,
           86000,
           14,
           40.7127753,
           -74.0059728,
           [
            "R",
            "Tableau",
            "Excel"
           ]
          ],
          [
           "Catholic Home Care",
           2.5,
           "Data Analyst",
           "Roslyn, NY",
           58000,
           86000,
           25,
           40.7998227,
           -73.6509622,
           [
            "R"
           ]
          ],
          [
           "Centers Plan for Healthy Living",
           2.2,
           "Data & Interface Analyst",
           "Staten Island, NY",
           44000,
           70000,
           8,
           40.5795317,
           -74.1502007,
           [
            "SQL",
            "R",
            "Oracle",
            "Excel"
           ]
          ],
          [
           "Argus Information & Advisory Services",
           4,
           "Regulatory Data & Risk Analyst",
           "White Plains, NY",
           51000,
           78000,
           4,
           41.03398620000001,
           -73.7629097,
           [
            "SQL",
            "R",
            "Tableau",
            "SAS",
            "Excel"
           ]
          ],
          [
           "Spark Foundry",
           3.1,
           "Analyst, Data Architecture",
           "New York, NY",
           73000,
           107000,
           17,
           40.7127753,
           -74.0059728,
           [
            "R",
            "Spark",
            "Microsoft Office",
            "Excel"
           ]
          ],
          [
           "IPG Mediabrands",
           3.6,
           "Orion - Media Data Analyst",
           "New York, NY",
           38000,
           60000,
           5,
           40.7127753,
           -74.0059728,
           [
            "Python",
            "R",
            "Java",
            "Tableau",
            "Excel",
            "JavaScript"
           ]
          ],
          [
           "Fragomen Worldwide",
           3.1,
           "Data Privacy Analyst",
           "Matawan, NJ",
           65000,
           83000,
           17,
           40.41482999999999,
           -74.2295891,
           [
            "R",
            "Excel"
           ]
          ],
          [
           "Citi",
           3.6,
           "Investment Banking, Summer Analyst: Data Science Analyst, M&A Strategic Shareholder Advisory",
           "New York, NY",
           98000,
           122000,
           3,
           40.7127753,
           -74.0059728,
           []
          ],
          [
           "AdvantageCare Physicians",
           2.1,
           "Data Governance Analyst Technical Steward",
           "New York, NY",
           85000,
           128000,
           30,
           40.7127753,
           -74.0059728,
           [
            "SQL",
            "R",
            "Tableau",
            "Data Warehouse",
            "Excel",
            "Project Management"
           ]
          ],
          [
           "Boehringer Ingelheim",
           3.8,
           "Central Data Science Solutions (CDSS) Business Analyst or Principal Business Analyst",
           "Ridgefield, NJ",
           67000,
           109000,
           12,
           40.8342669,
           -74.00875049999999,
           [
            "R",
            "SAS",
            "Oracle",
            "Excel",
            "Data Science"
           ]
          ],
          [
           "Diversified",
           3.4,
           "Data & Reporting Business Analyst - Kenilworth",
           "Hoboken, NJ",
           56000,
           92000,
           4,
           40.7439905,
           -74.0323626,
           [
            "SQL",
            "R",
            "Tableau",
            "Excel"
           ]
          ],
          [
           "Hunterdon Healthcare",
           3.3,
           "Data Analyst/Report Writer",
           "Flemington, NJ",
           50000,
           77000,
           3,
           40.5123258,
           -74.85933179999999,
           [
            "Python",
            "SQL",
            "R",
            "Excel"
           ]
          ],
          [
           "Converseon Inc.",
           3.8,
           "Senior Data Analyst",
           "New York, NY",
           48000,
           79000,
           30,
           40.7127753,
           -74.0059728,
           [
            "AI"
           ]
          ],
          [
           "Atlas",
           3.4,
           "Business Analyst/Data Analyst",
           "Parsippany, NJ",
           51000,
           87000,
           8,
           40.8652865,
           -74.41738769999999,
           [
            "R"
           ]
          ],
          [
           "eTeam Inc.",
           4,
           "Data Analyst / IT Data and Business Intelligence",
           "Jersey City, NJ",
           62000,
           105000,
           20,
           40.7177545,
           -74.0431435,
           [
            "SQL",
            "R",
            "Data Analysis",
            "Excel"
           ]
          ],
          [
           "APN Consulting",
           4.2,
           "Data Analyst - II",
           "New York, NY",
           54000,
           83000,
           3,
           40.7127753,
           -74.0059728,
           [
            "R",
            "Excel"
           ]
          ],
          [
           "NPD",
           3.8,
           "Data Analyst",
           "Port Washington, NY",
           38000,
           61000,
           19,
           40.8256561,
           -73.69818579999999,
           [
            "SQL",
            "R",
            "Java",
            "SAS",
            "NoSQL",
            "Azure",
            "SPSS"
           ]
          ],
          [
           "Capgemini",
           3.7,
           "Senior Data Analyst",
           "New York, NY",
           84000,
           133000,
           8,
           40.7127753,
           -74.0059728,
           [
            "R",
            "Data Science"
           ]
          ],
          [
           "AdvantageCare Physicians",
           2.1,
           "Data Governance Analyst",
           "New York, NY",
           53000,
           84000,
           30,
           40.7127753,
           -74.0059728,
           [
            "SQL",
            "R",
            "Data Warehouse",
            "Excel",
            "Project Management",
            "Business Intelligence"
           ]
          ],
          [
           "Live Nation Entertainment",
           3.8,
           "Sr. Data Analyst, Data Analytics & Audience Science",
           "New York, NY",
           84000,
           134000,
           10,
           40.7127753,
           -74.0059728,
           [
            "Python",
            "SQL",
            "R"
           ]
          ],
          [
           "Lockheed Martin",
           3.8,
           "Configuration/Data Analyst",
           "Uniondale, NY",
           65000,
           103000,
           6,
           40.7003793,
           -73.5929056,
           [
            "R",
            "Excel"
           ]
          ],
          [
           "AT&T",
           3.4,
           "Senior Business Analyst, Data Management & Business Intelligence Systems",
           "New York, NY",
           61000,
           91000,
           20,
           40.7127753,
           -74.0059728,
           [
            "R",
            "Oracle",
            "AI",
            "Business Intelligence"
           ]
          ],
          [
           "Clinique",
           3.6,
           "Senior Data Analyst",
           "New York, NY",
           58000,
           91000,
           30,
           40.7127753,
           -74.0059728,
           [
            "Python",
            "SQL",
            "R",
            "Tableau",
            "Excel",
            "Business Intelligence"
           ]
          ],
          [
           "Risk Solutions",
           3.7,
           "Fraud Data Analyst",
           "New York, NY",
           40000,
           62000,
           11,
           40.7127753,
           -74.0059728,
           [
            "Python",
            "SQL",
            "R",
            "SAS",
            "Excel"
           ]
          ],
          [
           "Callisto Media",
           4.7,
           "Lead Data Analyst",
           "New York, NY",
           50000,
           84000,
           19,
           40.7127753,
           -74.0059728,
           [
            "R",
            "Big Data"
           ]
          ],
          [
           "UBS",
           3.5,
           "Senior Business Data Analyst",
           "Weehawken, NJ",
           70000,
           106000,
           14,
           40.7663711,
           -74.02537149999999,
           [
            "Python",
            "SQL",
            "R",
            "Spark",
            "Tableau",
            "Big Data",
            "Excel",
            "Business Intelligence"
           ]
          ],
          [
           "Visiting Nurse Service of New York",
           3.7,
           "Data Analyst, CHOICE",
           "New York, NY",
           48000,
           72000,
           2,
           40.7127753,
           -74.0059728,
           [
            "Python",
            "SQL",
            "R",
            "Tableau",
            "SAS",
            "Excel"
           ]
          ],
          [
           "DATA Inc.",
           4.1,
           "Business and Data Analyst",
           "Stamford, CT",
           43000,
           70000,
           7,
           41.0534302,
           -73.5387341,
           [
            "R"
           ]
          ],
          [
           "Diverse Lynx",
           3.6,
           "Technical Data Analyst - Diverse Lynx",
           "Jersey City, NJ",
           57000,
           97000,
           30,
           40.7177545,
           -74.0431435,
           [
            "SQL",
            "R",
            "AWS",
            "Data Analysis",
            "MongoDB"
           ]
          ],
          [
           "Freeman",
           3.5,
           "Senior Data Business Analyst",
           "New York, NY",
           77000,
           117000,
           27,
           40.7127753,
           -74.0059728,
           [
            "R"
           ]
          ],
          [
           "Walt Disney Co.",
           3.7,
           "Senior Data Analyst, Data Instrumentation",
           "New York, NY",
           85000,
           135000,
           3,
           40.7127753,
           -74.0059728,
           [
            "Python",
            "SQL",
            "R",
            "Spark"
           ]
          ],
          [
           "Sumitomo Mitsui Banking Corporation",
           3.1,
           "Senior Data Analyst - Compliance",
           "Jersey City, NJ",
           55000,
           85000,
           1,
           40.7177545,
           -74.0431435,
           [
            "Python",
            "SQL",
            "R",
            "Tableau",
            "Oracle",
            "Microsoft SQL Server",
            "Azure",
            "Microsoft Office",
            "Excel"
           ]
          ],
          [
           "AC Lion (2)",
           4.2,
           "Senior Data Analyst",
           "New York, NY",
           60000,
           99000,
           2,
           40.7127753,
           -74.0059728,
           [
            "Python",
            "SQL",
            "R",
            "Excel"
           ]
          ],
          [
           "Simon Data",
           4.5,
           "Sr Data Analyst",
           "New York, NY",
           72000,
           115000,
           10,
           40.7127753,
           -74.0059728,
           [
            "SQL",
            "R",
            "Excel"
           ]
          ],
          [
           "Pioneer Data Systems",
           4.2,
           "Data Analyst (Tableau / Qlik)",
           "Bridgewater, NJ",
           50000,
           82000,
           3,
           40.5939636,
           -74.6049061,
           [
            "R",
            "Tableau"
           ]
          ],
          [
           "Village Care",
           2.2,
           "HEDIS Data Analyst",
           "New York, NY",
           46000,
           71000,
           4,
           40.7127753,
           -74.0059728,
           [
            "SQL",
            "AWS",
            "Excel"
           ]
          ],
          [
           "The Estée Lauder Companies Inc.",
           3.7,
           "Senior Data Analyst",
           "Queens Village, NY",
           57000,
           89000,
           22,
           40.7156628,
           -73.7419017,
           [
            "Python",
            "SQL",
            "R",
            "Tableau",
            "Excel",
            "Business Intelligence"
           ]
          ],
          [
           "Oneida Total Integrated Enterprises",
           2.8,
           "Data Analyst",
           "West Point, NY",
           38000,
           63000,
           11,
           41.3914827,
           -73.95597210000001,
           [
            "R"
           ]
          ],
          [
           "St. Barnabas Hospital",
           3,
           "Clinical Data Analyst",
           "Bronx, NY",
           45000,
           67000,
           12,
           40.8447819,
           -73.8648268,
           [
            "SQL",
            "R"
           ]
          ],
          [
           "Integrated Resources, Inc",
           3.5,
           "Vendor/Procurement Data Analyst - Integrated Resources, Inc",
           "New York, NY",
           70000,
           116000,
           30,
           40.7127753,
           -74.0059728,
           [
            "R"
           ]
          ],
          [
           "Northwell Health",
           3.8,
           "Practice Spclst Data Analyst",
           "Manhasset, NY",
           55000,
           83000,
           4,
           40.7978787,
           -73.6995749,
           [
            "R",
            "Excel"
           ]
          ],
          [
           "Diverse Lynx",
           3.6,
           "Data Analyst (Short Hills - NJ)",
           "Jersey City, NJ",
           51000,
           86000,
           28,
           40.7177545,
           -74.0431435,
           [
            "SQL",
            "R",
            "Java",
            "SAS",
            "Excel",
            "JavaScript",
            "SPSS"
           ]
          ],
          [
           "One Call",
           2.8,
           "Senior Healthcare Data Analyst",
           "New York, NY",
           59000,
           86000,
           11,
           40.7127753,
           -74.0059728,
           [
            "SQL",
            "R",
            "Tableau",
            "Microsoft Office",
            "Excel"
           ]
          ],
          [
           "Deloitte",
           3.8,
           "Deloitte Consulting - Specialist Analyst Data Scientist - North Carolina State University (NCSU)",
           "New York, NY",
           115000,
           171000,
           30,
           40.7127753,
           -74.0059728,
           [
            "Python",
            "SQL",
            "R"
           ]
          ],
          [
           "Aegon USA Investment Management",
           3.3,
           "Defined Benefit Functional Data Analyst",
           "New York, NY",
           42000,
           67000,
           7,
           40.7127753,
           -74.0059728,
           [
            "SQL",
            "R"
           ]
          ],
          [
           "New York City Taxi and Limousine Commission",
           3.6,
           "Data Analyst -Policy Analytics",
           "New York, NY",
           33000,
           56000,
           17,
           40.7127753,
           -74.0059728,
           [
            "Python",
            "SQL",
            "R",
            "Excel"
           ]
          ],
          [
           "Brown Brothers Harriman",
           3.2,
           "Data Science Systems Programmer Analyst",
           "New York, NY",
           76000,
           108000,
           3,
           40.7127753,
           -74.0059728,
           [
            "Python",
            "SQL",
            "R",
            "Java",
            "Tableau",
            "SAS",
            "Excel",
            "Data Science"
           ]
          ],
          [
           "RAMPS International Inc",
           4.5,
           "Senior Healthcare Data Analyst",
           "New York, NY",
           65000,
           99000,
           6,
           40.7127753,
           -74.0059728,
           [
            "SQL",
            "R"
           ]
          ],
          [
           "Healthfirst (New York)",
           2.8,
           "Senior Product Data Analyst",
           "New York, NY",
           95000,
           135000,
           1,
           40.7127753,
           -74.0059728,
           [
            "SQL",
            "R",
            "SAS",
            "Excel"
           ]
          ],
          [
           "Diverse Lynx",
           3.6,
           "Tech Business Analyst/Data Analyst",
           "New York, NY",
           56000,
           91000,
           30,
           40.7127753,
           -74.0059728,
           [
            "Python",
            "SQL",
            "R",
            "Java",
            "Excel",
            "Perl",
            "Software Development"
           ]
          ],
          [
           "Comrise",
           4.6,
           "IT Support analyst - Data analytics and devops",
           "Roseland, NJ",
           38000,
           60000,
           11,
           40.8206555,
           -74.2937594,
           [
            "SQL",
            "Tableau",
            "SAS",
            "Excel"
           ]
          ],
          [
           "The Bank of New York Mellon",
           3.1,
           "Tapia Data Science, Data Analytics, Technical Business Analyst (Lead Data Analyst)",
           "New York, NY",
           40000,
           64000,
           3,
           40.7127753,
           -74.0059728,
           [
            "Python",
            "SQL",
            "Machine Learning",
            "R",
            "Tableau",
            "AI",
            "Data Analysis",
            "Excel"
           ]
          ],
          [
           "Pratt Institute",
           3.7,
           "Senior Financial Data & Business System Analyst",
           "Brooklyn, NY",
           67000,
           108000,
           6,
           40.6781784,
           -73.9441579,
           [
            "R",
            "Excel"
           ]
          ],
          [
           "TechProjects",
           4.8,
           "ETL Datastage Developer/IBM Infosphere Datastage Consultant(ETL Data Analyst)-Only NY/NJ candidates Please",
           "New York, NY",
           57000,
           90000,
           17,
           40.7127753,
           -74.0059728,
           [
            "SQL",
            "R",
            "Oracle",
            "Scripting",
            "Excel",
            "Shell Scripting"
           ]
          ],
          [
           "InfoObjects Inc",
           3.8,
           "Data Analyst with Tableau (Direct Onsite, Only Locals)",
           "New Hyde Park, NY",
           37000,
           61000,
           11,
           40.7351018,
           -73.6879082,
           [
            "R",
            "Tableau",
            "Excel"
           ]
          ],
          [
           "XDuce",
           4.2,
           "Data Analyst - Insurance - XDuce",
           "New York, NY",
           46000,
           79000,
           30,
           40.7127753,
           -74.0059728,
           []
          ],
          [
           "Veterans Sourcing Group",
           2.8,
           "IT - Data Analyst",
           "Jersey City, NJ",
           38000,
           62000,
           6,
           40.7177545,
           -74.0431435,
           [
            "R"
           ]
          ],
          [
           "GSK",
           3.9,
           "Master Data Analyst",
           "Warren, NJ",
           54000,
           89000,
           11,
           40.6342489,
           -74.50047959999999,
           [
            "R"
           ]
          ],
          [
           "Citibank",
           3.8,
           "Investment Banking, Summer Analyst: Data Science Analyst, M&A Strategic Shareholder Advisory",
           "New York, NY",
           77000,
           99000,
           3,
           40.7127753,
           -74.0059728,
           []
          ],
          [
           "Pioneer Data Systems",
           4.2,
           "SAS Programmer Analyst / Healthcare Claims Data",
           "New Brunswick, NJ",
           90000,
           129000,
           1,
           40.4862157,
           -74.4518188,
           [
            "SQL",
            "R",
            "SAS"
           ]
          ],
          [
           "UBS",
           3.5,
           "US Data Quality and Governance Business Analyst",
           "Weehawken, NJ",
           70000,
           113000,
           19,
           40.7663711,
           -74.02537149999999,
           [
            "R"
           ]
          ],
          [
           "UBS",
           3.5,
           "US Data Quality & Profiling Business Analyst",
           "Weehawken, NJ",
           70000,
           113000,
           19,
           40.7663711,
           -74.02537149999999,
           [
            "R"
           ]
          ],
          [
           "Media Storm",
           3.1,
           "Analyst, Advanced Data Modeler",
           "New York, NY",
           70000,
           94000,
           10,
           40.7127753,
           -74.0059728,
           [
            "Python",
            "R"
           ]
          ],
          [
           "Horizon Blue Cross Blue Shield of New Jersey",
           3.4,
           "Data Reporting Analyst III",
           "Newark, NJ",
           51000,
           85000,
           19,
           40.735657,
           -74.1723667,
           [
            "SQL",
            "R",
            "SAS",
            "Excel"
           ]
          ],
          [
           "New York Life",
           3.5,
           "Senior Metrics and Reporting Analyst - Data Governance and Management",
           "Lebanon, NJ",
           74000,
           121000,
           14,
           40.6417683,
           -74.83599869999999,
           [
            "Python",
            "SQL",
            "R",
            "Tableau",
            "Excel"
           ]
          ],
          [
           "LexisNexis Risk Solutions",
           3.5,
           "Fraud Data Analyst",
           "New York, NY",
           43000,
           71000,
           12,
           40.7127753,
           -74.0059728,
           [
            "Python",
            "SQL",
            "R",
            "SAS",
            "Excel"
           ]
          ],
          [
           "Lenmar Consulting, Inc.",
           2.6,
           "Data Analyst - Lenmar Consulting, Inc.",
           "Jersey City, NJ",
           38000,
           65000,
           30,
           40.7177545,
           -74.0431435,
           [
            "Python",
            "SQL",
            "R",
            "Tableau",
            "SAS",
            "Scala"
           ]
          ],
          [
           "Gartner",
           3.7,
           "Marketing Data Analyst",
           "Stamford, CT",
           37000,
           58000,
           13,
           41.0534302,
           -73.5387341,
           [
            "SQL",
            "R",
            "Tableau"
           ]
          ],
          [
           "Deloitte",
           3.8,
           "Deloitte Consulting – Specialist Analyst Data Scientist - North Carolina State University (NCSU)",
           "New York, NY",
           115000,
           171000,
           10,
           40.7127753,
           -74.0059728,
           [
            "Python",
            "SQL",
            "R"
           ]
          ],
          [
           "Transamerica",
           3.1,
           "Defined Benefit Functional Data Analyst",
           "Harrison, NY",
           41000,
           65000,
           8,
           40.9700171,
           -73.7176337,
           [
            "SQL",
            "R"
           ]
          ],
          [
           "ADP",
           3.7,
           "Data Steward - (Siebel, SQL, Data Analyst)",
           "Florham Park, NJ",
           49000,
           79000,
           11,
           40.787878,
           -74.3882072,
           [
            "SQL",
            "R",
            "Excel"
           ]
          ],
          [
           "Mount Sinai Health System",
           3.4,
           "Data Warehouse Analyst; Adolescent Health",
           "New York, NY",
           68000,
           100000,
           11,
           40.7127753,
           -74.0059728,
           [
            "Python",
            "SQL",
            "R",
            "Tableau",
            "Oracle",
            "Data Warehouse",
            "Microsoft SQL Server",
            "Scripting"
           ]
          ],
          [
           "Mount Sinai Medical Center",
           3.1,
           "Data Analyst I -Diagnostic, Molecular and Interventional Radiology",
           "New York, NY",
           41000,
           60000,
           3,
           40.7127753,
           -74.0059728,
           [
            "R"
           ]
          ],
          [
           "Crestron Electronics Inc",
           2.8,
           "Technical Data Analyst",
           "Rockleigh, NJ",
           56000,
           84000,
           1,
           41.0003754,
           -73.930414,
           [
            "SQL",
            "R",
            "Excel"
           ]
          ],
          [
           "Mount Sinai Health System",
           3.4,
           "Senior Data Analyst, Environmental Medicine and Public Health",
           "New York, NY",
           50000,
           72000,
           16,
           40.7127753,
           -74.0059728,
           [
            "SQL",
            "R",
            "SAS",
            "Oracle",
            "Data Warehouse",
            "Excel",
            "PostgreSQL",
            "MySQL",
            "SPSS"
           ]
          ],
          [
           "Diverse Lynx",
           3.6,
           "Data Analyst with SQL/PLSQL/BI/Datawarehousing",
           "New York, NY",
           51000,
           86000,
           30,
           40.7127753,
           -74.0059728,
           [
            "SQL",
            "R",
            "Excel"
           ]
          ],
          [
           "Stony Brook Clinical Practice Mgmt Plan",
           3.5,
           "Data Analyst- Stony Brook CPMP General Accounting",
           "Stony Brook, NY",
           48000,
           73000,
           30,
           40.9256538,
           -73.1409429,
           [
            "SQL",
            "R",
            "Excel",
            "Business Intelligence"
           ]
          ],
          [
           "Mount Sinai Health System",
           3.4,
           "SENIOR DATA ANALYST",
           "New York, NY",
           55000,
           82000,
           19,
           40.7127753,
           -74.0059728,
           [
            "Python",
            "SQL",
            "R",
            "Tableau",
            "SAS",
            "Oracle",
            "AI",
            "Excel",
            "PostgreSQL",
            "MySQL"
           ]
          ],
          [
           "Georgia IT Inc.",
           5,
           "Data Analyst- Pennsylvania,PA - Georgia IT Inc.",
           "New York, NY",
           48000,
           81000,
           30,
           40.7127753,
           -74.0059728,
           [
            "Python",
            "SQL",
            "R",
            "Java",
            "Tableau",
            "Excel"
           ]
          ],
          [
           "Mount Sinai Health System",
           3.4,
           "Data Analyst I -Diagnostic, Molecular and Interventional Radiology",
           "New York, NY",
           41000,
           60000,
           19,
           40.7127753,
           -74.0059728,
           [
            "R"
           ]
          ],
          [
           "Spectrum",
           2.9,
           "Sr. Data and Reporting Analyst",
           "Stamford, CT",
           47000,
           79000,
           8,
           41.0534302,
           -73.5387341,
           [
            "Python",
            "SQL",
            "R",
            "Hadoop",
            "Tableau",
            "SAS",
            "NoSQL",
            "Oracle",
            "Excel"
           ]
          ],
          [
           "Wunderman",
           3.2,
           "Senior Analyst, Analytics and Data Science",
           "New York, NY",
           57000,
           92000,
           3,
           40.7127753,
           -74.0059728,
           [
            "Python",
            "SQL",
            "R",
            "Tableau",
            "AWS",
            "AI",
            "Data Science"
           ]
          ],
          [
           "22nd Century Technologies",
           3.7,
           "SAP System & SDP Data Analyst",
           "White Plains, NY",
           56000,
           80000,
           11,
           41.03398620000001,
           -73.7629097,
           [
            "R",
            "Microsoft Office"
           ]
          ],
          [
           "Visiting Nurse Service of New York",
           3.7,
           "Healthcare Encounter Data Analyst",
           "New York, NY",
           45000,
           69000,
           2,
           40.7127753,
           -74.0059728,
           [
            "SQL",
            "R",
            "SAS",
            "Excel"
           ]
          ],
          [
           "Sumitomo Mitsui Banking Corporation (SMBC)",
           3.1,
           "Senior Data Analyst - Compliance in Jersey City, New Jersey | Careers at Harborside",
           "Jersey City, NJ",
           55000,
           85000,
           30,
           40.7177545,
           -74.0431435,
           [
            "Python",
            "SQL",
            "R",
            "Tableau",
            "Oracle",
            "Microsoft SQL Server",
            "Azure",
            "Microsoft Office",
            "Excel"
           ]
          ],
          [
           "Hackensack University Medical Center",
           3.4,
           "Clinical Data Analyst",
           "Edison, NJ",
           57000,
           87000,
           30,
           40.5187154,
           -74.4120953,
           [
            "R"
           ]
          ],
          [
           "Criteo",
           3.8,
           "Senior Data Analyst – Global Supply Analytics, AMERICAS",
           "New York, NY",
           79000,
           119000,
           5,
           40.7127753,
           -74.0059728,
           [
            "Python",
            "R",
            "Hadoop",
            "Tableau"
           ]
          ],
          [
           "Verisk",
           3.4,
           "Regulatory Data & Risk Analyst",
           "White Plains, NY",
           62000,
           93000,
           4,
           41.03398620000001,
           -73.7629097,
           [
            "SQL",
            "R",
            "Tableau",
            "SAS",
            "Excel"
           ]
          ],
          [
           "Universal Technical Resource Services, Inc.",
           4.1,
           "Information Data Analyst",
           "Dover, NJ",
           39000,
           67000,
           11,
           40.883988,
           -74.5621025,
           [
            "R",
            "Microsoft Office",
            "Excel"
           ]
          ],
          [
           "Crossfire Consulting",
           5,
           "Business Data Analyst ONLY",
           "Morristown, NJ",
           54000,
           84000,
           9,
           40.79676670000001,
           -74.4815438,
           [
            "SQL",
            "R",
            "Tableau",
            "Business Intelligence"
           ]
          ],
          [
           "Moxie",
           3.1,
           "Sr. Analyst, Client Data and DMP Strategy",
           "New York, NY",
           60000,
           80000,
           20,
           40.7127753,
           -74.0059728,
           [
            "R",
            "Spark"
           ]
          ],
          [
           "CenterLight Health System",
           2.5,
           "Data Warehouse Business Analyst (T-SQL)",
           "Bronx, NY",
           75000,
           116000,
           4,
           40.8447819,
           -73.8648268,
           [
            "SQL",
            "R",
            "AWS",
            "Oracle",
            "Data Warehouse",
            "Azure",
            "Excel"
           ]
          ],
          [
           "Crescens Inc.",
           3.2,
           "Data Warehouse Analyst - Crescens Inc.",
           "Jersey City, NJ",
           45000,
           68000,
           30,
           40.7177545,
           -74.0431435,
           [
            "SQL",
            "R",
            "Tableau",
            "Data Warehouse"
           ]
          ],
          [
           "Barnabas Health",
           3.4,
           "SQL Data Reporting Analyst - Revenue Cycle Patient Accounts (FT)",
           "Oceanport, NJ",
           49000,
           82000,
           5,
           40.3181663,
           -74.0151382,
           [
            "SQL",
            "R",
            "Tableau",
            "Excel"
           ]
          ],
          [
           "Sanofi",
           3.6,
           "Regulatory Reporting and Data Analyst",
           "Bridgewater, NJ",
           40000,
           66000,
           4,
           40.5939636,
           -74.6049061,
           [
            "R",
            "Excel"
           ]
          ],
          [
           "AbleTo",
           3.7,
           "Senior Data Analyst",
           "New York, NY",
           55000,
           84000,
           27,
           40.7127753,
           -74.0059728,
           [
            "Python",
            "SQL",
            "R",
            "Tableau",
            "AWS"
           ]
          ],
          [
           "Crossix Solutions",
           3.6,
           "Lead Marketing Data Analyst",
           "New York, NY",
           56000,
           83000,
           13,
           40.7127753,
           -74.0059728,
           [
            "SQL",
            "R",
            "SAS",
            "Excel"
           ]
          ],
          [
           "Axtria",
           3.6,
           "Business Analyst – Oncology/SPP data (Life Sciences)",
           "Berkeley Heights, NJ",
           68000,
           106000,
           26,
           40.6808726,
           -74.4310524,
           [
            "SQL",
            "R",
            "Tableau",
            "Excel"
           ]
          ],
          [
           "Newsday LLC",
           2.9,
           "Editorial Data Analyst, newsday.com",
           "Melville, NY",
           50000,
           75000,
           11,
           40.7934322,
           -73.41512139999999,
           [
            "R",
            "Excel"
           ]
          ],
          [
           "FreemanXP",
           3.4,
           "Senior Data Business Analyst",
           "New York, NY",
           116000,
           180000,
           27,
           40.7127753,
           -74.0059728,
           [
            "R"
           ]
          ],
          [
           "ProHEALTH Care",
           3.4,
           "Clinical Data Analyst",
           "Lake Success, NY",
           51000,
           78000,
           8,
           40.7698453,
           -73.70904279999999,
           [
            "R",
            "Excel"
           ]
          ],
          [
           "Diverse Lynx",
           3.6,
           "Data Analyst - Diverse Lynx",
           "Jersey City, NJ",
           51000,
           86000,
           30,
           40.7177545,
           -74.0431435,
           [
            "R",
            "Excel"
           ]
          ],
          [
           "Diverse Lynx",
           3.6,
           "MDM Data Analyst",
           "Jersey City, NJ",
           51000,
           86000,
           30,
           40.7177545,
           -74.0431435,
           [
            "R"
           ]
          ],
          [
           "Bloomberg",
           3.8,
           "Data Analyst - BLAW Web Document Acquisition",
           "Princeton, NJ",
           54000,
           78000,
           21,
           40.3572976,
           -74.6672226,
           [
            "Python",
            "R",
            "Java",
            "JavaScript"
           ]
          ],
          [
           "IntelliPro Group Inc.",
           3.4,
           "Sr. Data Analyst",
           "New York, NY",
           95000,
           142000,
           18,
           40.7127753,
           -74.0059728,
           [
            "SQL",
            "Machine Learning",
            "R",
            "Excel"
           ]
          ],
          [
           "EmblemHealth",
           2.7,
           "Senior Data Analyst, Pharmacy",
           "New York, NY",
           68000,
           109000,
           18,
           40.7127753,
           -74.0059728,
           [
            "SQL",
            "R",
            "SAS",
            "Oracle",
            "Excel",
            "Business Intelligence"
           ]
          ],
          [
           "RMS Computer",
           3.8,
           "Sr. Business Analyst/Data Analyst/Securities/Reference Data",
           "Jersey City, NJ",
           60000,
           100000,
           8,
           40.7177545,
           -74.0431435,
           [
            "SQL",
            "R",
            "Kafka",
            "Excel",
            "Data Science"
           ]
          ],
          [
           "Castleton Commodities International LLC",
           3.4,
           "Quantitative Analyst Data Science",
           "Stamford, CT",
           61000,
           106000,
           30,
           41.0534302,
           -73.5387341,
           [
            "Python",
            "SQL",
            "R",
            "Data Science",
            "Business Intelligence"
           ]
          ],
          [
           "BNY Mellon",
           3.1,
           "Sr. Specialist Info Sec Analyst - Data Scientist",
           "New York, NY",
           108000,
           156000,
           11,
           40.7127753,
           -74.0059728,
           [
            "SQL",
            "R",
            "Java",
            "Oracle",
            ".Net"
           ]
          ],
          [
           "Oracle",
           3.5,
           "Oracle Data Cloud - Security Operations Analyst",
           "New York, NY",
           58000,
           87000,
           9,
           40.7127753,
           -74.0059728,
           [
            "R",
            "Oracle"
           ]
          ],
          [
           "Cygnus Professionals",
           3.9,
           "Data Warehouse Analyst - Cygnus Professionals",
           "Jersey City, NJ",
           51000,
           77000,
           30,
           40.7177545,
           -74.0431435,
           [
            "SQL",
            "R",
            "Tableau",
            "Data Warehouse"
           ]
          ],
          [
           "TechProjects",
           4.8,
           "Sr. Datastage and Data Analyst",
           "New York, NY",
           75000,
           113000,
           22,
           40.7127753,
           -74.0059728,
           [
            "SQL",
            "R",
            "Oracle",
            "Scripting",
            "Excel",
            "Shell Scripting"
           ]
          ],
          [
           "Spectrum",
           2.9,
           "Credit Services Data Analyst",
           "Stamford, CT",
           46000,
           74000,
           11,
           41.0534302,
           -73.5387341,
           [
            "SQL",
            "R",
            "Tableau",
            "Excel"
           ]
          ],
          [
           "Deloitte",
           3.8,
           "Insight Studio Specialist Data Scientist - Analyst - Technology, Consulting - BTA - UG - University of Michigan (Summer/Fall)",
           "New York, NY",
           132000,
           185000,
           4,
           40.7127753,
           -74.0059728,
           [
            "Python",
            "SQL",
            "R"
           ]
          ],
          [
           "J. Crew",
           3.7,
           "Madewell Customer Data Science Sr. Analyst",
           "Long Island City, NY",
           64000,
           97000,
           27,
           40.744679,
           -73.9485424,
           [
            "Python",
            "SQL",
            "R",
            "Tableau",
            "Big Data",
            "Excel",
            "Data Science"
           ]
          ],
          [
           "Warner Music Group",
           3.1,
           "Senior Financial Analyst, Technology/Data Operations - Entertainment and Media Industry Opportunity",
           "New York, NY",
           56000,
           84000,
           30,
           40.7127753,
           -74.0059728,
           [
            "R",
            "Excel"
           ]
          ],
          [
           "J.P. Morgan",
           3.9,
           "CIB Digital & Platform Services Resolution & Recovery - Sr. Data/Business Analyst",
           "Brooklyn, NY",
           62000,
           109000,
           18,
           40.6781784,
           -73.9441579,
           [
            "R",
            "Tableau",
            "Excel",
            "Project Management"
           ]
          ],
          [
           "The Bank of New York Mellon",
           3.1,
           "Lead Analyst, Data Mgmt Ops",
           "Pennington, NJ",
           50000,
           77000,
           20,
           40.3284402,
           -74.790718,
           [
            "SQL",
            "R"
           ]
          ],
          [
           "Diversified",
           3.4,
           "Data & Reporting Business Analyst",
           "Kenilworth, NJ",
           56000,
           92000,
           4,
           40.6764911,
           -74.2907032,
           [
            "SQL",
            "R",
            "Tableau",
            "Excel"
           ]
          ],
          [
           "Softpath System LLC",
           3.8,
           "NJATCSU Data Warehouse Analyst - Softpath System LLC",
           "Jersey City, NJ",
           54000,
           80000,
           30,
           40.7177545,
           -74.0431435,
           [
            "SQL",
            "R",
            "Tableau"
           ]
          ],
          [
           "Lorven Technologies Inc",
           4,
           "Data Analyst / IT Data & Business Intelligence",
           "Harrison, NY",
           50000,
           81000,
           20,
           40.9700171,
           -73.7176337,
           [
            "SQL",
            "Data Analysis",
            "Excel"
           ]
          ],
          [
           "XDuce",
           4.2,
           "Insurance Systems Analyst - Business & Data",
           "New York, NY",
           47000,
           81000,
           12,
           40.7127753,
           -74.0059728,
           [
            "SQL",
            "R",
            "Microsoft Office",
            "Excel"
           ]
          ],
          [
           "Knowledgent",
           3.2,
           "Data Governance Analysts",
           "Warren, NJ",
           62000,
           96000,
           4,
           40.6342489,
           -74.50047959999999,
           [
            "R",
            "Excel"
           ]
          ],
          [
           "Cross River Bank",
           3.8,
           "Senior Data Analyst",
           "Fort Lee, NJ",
           60000,
           92000,
           7,
           40.8509333,
           -73.9701381,
           [
            "SQL",
            "R",
            "Tableau",
            "Oracle",
            "Data Science"
           ]
          ],
          [
           "Wyndham Worldwide",
           3,
           "Hotel Program Operations and Data Analyst",
           "Parsippany, NJ",
           33000,
           55000,
           30,
           40.8652865,
           -74.41738769999999,
           [
            "R",
            "Excel",
            "Business Intelligence"
           ]
          ],
          [
           "Flight Centre Travel Group",
           2.3,
           "Data and Business Analyst - Montvale NJ",
           "Montvale, NJ",
           46000,
           75000,
           20,
           41.0467635,
           -74.0229173,
           [
            "R",
            "Tableau",
            "AI",
            "Excel"
           ]
          ],
          [
           "Seamen's Society for Children and Families",
           2.4,
           "Data Analyst - Foster Care",
           "Staten Island, NY",
           30000,
           50000,
           13,
           40.5795317,
           -74.1502007,
           [
            "R",
            "Excel"
           ]
          ],
          [
           "AdvantageCare Physicians",
           2.1,
           "Senior Data Analyst, Pharmacy",
           "New York, NY",
           88000,
           126000,
           30,
           40.7127753,
           -74.0059728,
           [
            "SQL",
            "R",
            "SAS",
            "Oracle",
            "Excel",
            "Business Intelligence"
           ]
          ],
          [
           "Encore Event Technologies",
           3.5,
           "Senior Data Business Analyst",
           "New York, NY",
           66000,
           105000,
           27,
           40.7127753,
           -74.0059728,
           [
            "R"
           ]
          ],
          [
           "Cygnus Professionals",
           3.9,
           "Sr. Data Analyst",
           "New York, NY",
           60000,
           93000,
           30,
           40.7127753,
           -74.0059728,
           [
            "SQL",
            "R",
            "Data Analysis",
            "Excel"
           ]
          ],
          [
           "Verizon",
           3.6,
           "Lead Data Analyst",
           "Piscataway, NJ",
           74000,
           114000,
           1,
           40.554887,
           -74.4642861,
           [
            "SQL",
            "R",
            "Oracle",
            "Microsoft SQL Server",
            "Excel"
           ]
          ],
          [
           "Flight Centre Travel Group",
           2.3,
           "Data and Business Analyst",
           "Montvale, NJ",
           46000,
           75000,
           20,
           41.0467635,
           -74.0229173,
           [
            "R",
            "Tableau",
            "AI",
            "Excel"
           ]
          ],
          [
           "Alpha Consulting Corp.",
           4.1,
           "Senior Business Analyst for Business Process, Data Analysis, and Data Modeling for Pharmaceutical R&D - Alpha Consulting Corp.",
           "Jersey City, NJ",
           93000,
           147000,
           30,
           40.7177545,
           -74.0431435,
           [
            "R",
            "AI"
           ]
          ],
          [
           "Castleton Commodities International LLC",
           3.4,
           "Quantitative Analyst – Data Science",
           "Stamford, CT",
           61000,
           106000,
           11,
           41.0534302,
           -73.5387341,
           [
            "Python",
            "SQL",
            "R",
            "Data Science",
            "Business Intelligence"
           ]
          ],
          [
           "PeopleNTech LLC",
           4.2,
           "Data Analyst/Architect",
           "New York, NY",
           43000,
           72000,
           30,
           40.7127753,
           -74.0059728,
           [
            "R"
           ]
          ],
          [
           "Mount Sinai Medical Center",
           3.1,
           "Senior Data Analyst, Environmental Medicine and Public Health",
           "New York, NY",
           54000,
           78000,
           30,
           40.7127753,
           -74.0059728,
           [
            "SQL",
            "R",
            "SAS",
            "Oracle",
            "Data Warehouse",
            "Excel",
            "PostgreSQL",
            "MySQL",
            "SPSS"
           ]
          ],
          [
           "Purolator International",
           2.5,
           "Data Analyst, Decision Support",
           "Jericho, NY",
           51000,
           79000,
           3,
           40.79204410000001,
           -73.5398476,
           [
            "Python",
            "SQL",
            "R",
            "Tableau",
            "Excel"
           ]
          ],
          [
           "Mount Sinai Medical Center",
           3.1,
           "Data Warehouse Analyst; Adolescent Health",
           "New York, NY",
           61000,
           90000,
           30,
           40.7127753,
           -74.0059728,
           [
            "Python",
            "SQL",
            "R",
            "Tableau",
            "Oracle",
            "Data Warehouse",
            "Microsoft SQL Server",
            "Scripting"
           ]
          ],
          [
           "Sika AG",
           3.2,
           "SAP Analyst (Master Data Maintainer)",
           "Lyndhurst, NJ",
           55000,
           80000,
           5,
           40.81201710000001,
           -74.1243063,
           [
            "R"
           ]
          ],
          [
           "Center for Court Innovation",
           3.2,
           "Senior Data Analyst, Supervised Release Program",
           "New York, NY",
           64000,
           105000,
           14,
           40.7127753,
           -74.0059728,
           [
            "Python",
            "SQL",
            "R",
            "Tableau",
            "SAS",
            "Oracle",
            "Excel",
            "SPSS"
           ]
          ],
          [
           "Mount Sinai Medical Center",
           3.1,
           "Data Science Analyst I Computational Biology - Genetics",
           "New York, NY",
           49000,
           78000,
           30,
           40.7127753,
           -74.0059728,
           [
            "Python",
            "R",
            "SAS",
            "Scala"
           ]
          ],
          [
           "CIT",
           3.2,
           "Audit Data Analyst",
           "Livingston, NJ",
           45000,
           71000,
           14,
           40.7862871,
           -74.3300842,
           [
            "Python",
            "SQL",
            "R",
            "Tableau",
            "Excel",
            "Perl",
            "Data Science"
           ]
          ],
          [
           "BNY Mellon",
           3.1,
           "Specialist, Big Data Senior Analyst (Treasury and ALM)",
           "New York, NY",
           60000,
           94000,
           14,
           40.7127753,
           -74.0059728,
           [
            "SQL",
            "R",
            "Hadoop",
            "Hive",
            "Business Intelligence"
           ]
          ],
          [
           "Spectrum",
           2.9,
           "Business Data Analyst II",
           "Stamford, CT",
           59000,
           93000,
           12,
           41.0534302,
           -73.5387341,
           [
            "SQL",
            "R",
            "Tableau",
            "Oracle",
            "Excel"
           ]
          ],
          [
           "Spectrum",
           2.9,
           "Sr. Analyst, Data and Reporting",
           "Stamford, CT",
           49000,
           82000,
           4,
           41.0534302,
           -73.5387341,
           [
            "SQL",
            "R",
            "Excel"
           ]
          ],
          [
           "Axtria",
           3.6,
           "Business Analyst Oncology/SPP data (Life Sciences)",
           "Berkeley Heights, NJ",
           68000,
           106000,
           30,
           40.6808726,
           -74.4310524,
           [
            "SQL",
            "R",
            "Tableau",
            "SAS",
            "Excel"
           ]
          ],
          [
           "Cedent Consulting",
           3.8,
           "Senior Data Analyst / Scientist",
           "New York, NY",
           56000,
           92000,
           15,
           40.7127753,
           -74.0059728,
           [
            "Machine Learning",
            "R",
            "Data Science"
           ]
          ],
          [
           "Quest Diagnostics",
           3.3,
           "Senior Data Management Analyst",
           "Secaucus, NJ",
           60000,
           90000,
           22,
           40.7895453,
           -74.05652979999999,
           [
            "SQL",
            "R",
            "SAS",
            "Microsoft Office",
            "Excel"
           ]
          ],
          [
           "W. R. Berkley Corporation",
           3.2,
           "Senior Data Governance Analyst",
           "Greenwich, CT",
           66000,
           99000,
           19,
           41.0262417,
           -73.6281964,
           [
            "SQL",
            "R",
            "Data Warehouse",
            "Microsoft Office"
           ]
          ],
          [
           "Disney Streaming Services",
           3.4,
           "Senior Data Analyst, Data Instrumentation",
           "New York, NY",
           49000,
           80000,
           20,
           40.7127753,
           -74.0059728,
           [
            "Python",
            "SQL",
            "R",
            "Spark"
           ]
          ],
          [
           "Spectrum",
           2.9,
           "Service Delivery Reporting & Data Analyst",
           "Stamford, CT",
           51000,
           83000,
           7,
           41.0534302,
           -73.5387341,
           [
            "SQL",
            "R",
            "Tableau",
            "Oracle",
            "Excel"
           ]
          ],
          [
           "Remedy BPCI Partners, LLC.",
           3.3,
           "Senior Analyst, Claims Data Engineering",
           "New York, NY",
           104000,
           139000,
           28,
           40.7127753,
           -74.0059728,
           [
            "Python",
            "SQL",
            "R",
            "Spark",
            "SAS",
            "AWS",
            "S3"
           ]
          ],
          [
           "Ideal Innovations, Inc.",
           3.9,
           "Data Analyst (Radar Systems) with Security Clearance",
           "Picatinny Arsenal, NJ",
           59000,
           99000,
           30,
           40.9170764,
           -74.5805051,
           [
            "R",
            "MATLAB",
            "Microsoft Office",
            "Excel"
           ]
          ],
          [
           "Avani Technology Solutions",
           4.5,
           "JPSC-7176 - Position 35, 59, 62, 100,101,102, 141,142,166 : Senior Data Analyst",
           "Brooklyn, NY",
           76000,
           115000,
           22,
           40.6781784,
           -73.9441579,
           [
            "SQL",
            "R"
           ]
          ],
          [
           "Quantum Integrators Group",
           3.6,
           "Position # 18 Clinical Data Analyst",
           "Princeton, NJ",
           46000,
           70000,
           6,
           40.3572976,
           -74.6672226,
           [
            "R"
           ]
          ],
          [
           "Syneos Health Commercial Solutions",
           3.5,
           "Business Intelligence Analyst (Data Analyst)",
           "Somerset, NJ",
           61000,
           84000,
           15,
           40.497604,
           -74.48848679999999,
           [
            "SQL",
            "R",
            "Oracle",
            "Excel",
            "Business Intelligence"
           ]
          ],
          [
           "Cognizant Technology Solutions",
           3.7,
           "Business Analyst Leader - Specialty Pharmacy Data",
           "East Hanover, NJ",
           84000,
           118000,
           10,
           40.8200623,
           -74.3647247,
           [
            "R",
            "AI"
           ]
          ],
          [
           "Argus Information & Advisory Services",
           4,
           "Business Analyst - Enterprise Data Management Team (EDM) - CR",
           "White Plains, NY",
           42000,
           67000,
           5,
           41.03398620000001,
           -73.7629097,
           [
            "SQL",
            "R",
            "Oracle",
            "Excel",
            "Project Management"
           ]
          ],
          [
           "Verizon",
           3.6,
           "Senior Data Analyst ETL Developer",
           "Bedminster, NJ",
           64000,
           97000,
           8,
           40.669264,
           -74.68039999999999,
           [
            "Python",
            "SQL",
            "R",
            "Hadoop",
            "NoSQL",
            "Oracle",
            "SPSS",
            "Data Science",
            "MongoDB"
           ]
          ],
          [
           "AC Lion (2)",
           4.2,
           "Data Analyst Team Lead",
           "New York, NY",
           73000,
           118000,
           7,
           40.7127753,
           -74.0059728,
           [
            "Python",
            "SQL",
            "R",
            "Excel",
            "MySQL"
           ]
          ],
          [
           "Remedy BPCI Partners, LLC.",
           3.3,
           "Data Support & Solutions Analyst",
           "Norwalk, CT",
           49000,
           86000,
           12,
           41.11774399999999,
           -73.4081575,
           [
            "R",
            "Excel"
           ]
          ],
          [
           "Spectrum",
           2.9,
           "Sr Data Analyst",
           "Stamford, CT",
           71000,
           103000,
           12,
           41.0534302,
           -73.5387341,
           [
            "SQL",
            "R",
            "Excel",
            "Business Intelligence"
           ]
          ],
          [
           "Agneto Corp",
           0,
           "Data Analyst - Data Engineer / Analyst",
           "Princeton Junction, Mercer, NJ",
           51000,
           72000,
           15,
           40.3173301,
           -74.61987909999999,
           [
            "SQL",
            "Excel"
           ]
          ],
          [
           "Newport Laboratories",
           2.2,
           "Central Data Science Solutions (CDSS) Business Analyst or Principal Business Analyst",
           "Ridgefield, CT",
           52000,
           85000,
           22,
           41.28406349999999,
           -73.4975412,
           [
            "R",
            "SAS",
            "Oracle",
            "Excel",
            "Data Science"
           ]
          ],
          [
           "International Flavors & Fragrances",
           3.7,
           "Lead Data Analyst, Advanced Analytics",
           "Union Beach, NJ",
           72000,
           115000,
           25,
           40.4464962,
           -74.17819879999999,
           [
            "Python",
            "Machine Learning",
            "R",
            "Hadoop",
            "Spark",
            "Tableau",
            "SAS",
            "Big Data",
            "AWS",
            "SPSS",
            "Business Intelligence"
           ]
          ],
          [
           "IT America Inc",
           4.2,
           "Sr Data Analyst",
           "Purchase, NY",
           60000,
           92000,
           22,
           41.0400135,
           -73.7144477,
           [
            "SQL",
            "R",
            "Data Analysis",
            "Excel"
           ]
          ],
          [
           "Veterans Sourcing Group",
           2.8,
           "Business Analyst - Data Governance",
           "Stamford, CT",
           51000,
           79000,
           30,
           41.0534302,
           -73.5387341,
           [
            "R"
           ]
          ],
          [
           "Blue Book Network Contractors Register",
           2.9,
           "Programmer Analyst/Data Strategist",
           "Jefferson Valley, NY",
           45000,
           62000,
           7,
           41.3138618,
           -73.80073399999999,
           [
            "R",
            "Java",
            "Excel",
            "JavaScript",
            "Perl"
           ]
          ],
          [
           "ZS Associates, Inc.",
           3.9,
           "Senior Business Technology Analyst / Big Data",
           "Princeton, NJ",
           91000,
           113000,
           25,
           40.3572976,
           -74.6672226,
           [
            "Python",
            "SQL",
            "R",
            "Hadoop",
            "Spark",
            "Java",
            "Hive",
            "Scala",
            "Kafka",
            "Pig",
            "HBase",
            "Business Intelligence"
           ]
          ],
          [
           "Verisk",
           3.4,
           "Business Analyst - Enterprise Data Management Team (EDM) - CR",
           "White Plains, NY",
           48000,
           75000,
           5,
           41.03398620000001,
           -73.7629097,
           [
            "SQL",
            "R",
            "Oracle",
            "Excel",
            "Project Management"
           ]
          ],
          [
           "Syneos Health",
           3.3,
           "Principal Programmer Analyst (Hadoop/Big Data)",
           "Somerset, NJ",
           91000,
           152000,
           6,
           40.497604,
           -74.48848679999999,
           [
            "SQL",
            "R",
            "Hadoop",
            "Spark",
            "Hive",
            "Big Data",
            "NoSQL",
            "Oracle",
            "Linux",
            "HBase",
            "Business Intelligence"
           ]
          ]
         ],
         "hoverlabel": {
          "namelength": 0
         },
         "hovertemplate": "rating=%{customdata[1]}<br>company=%{customdata[0]}<br>title=%{customdata[2]}<br>location=%{customdata[3]}<br>min=%{customdata[4]}<br>max=%{customdata[5]}<br>datepost=%{customdata[6]}<br>lat=%{customdata[7]}<br>lng=%{customdata[8]}<br>skills=%{customdata[9]}",
         "legendgroup": "",
         "marker": {
          "color": "#636efa"
         },
         "name": "",
         "offsetgroup": "",
         "scalegroup": "x",
         "showlegend": false,
         "type": "violin",
         "x": [
          3.5,
          3.5,
          2.7,
          4.5,
          3.6,
          3.7,
          3.9,
          4.6,
          3.2,
          4.7,
          3.6,
          3.2,
          4,
          4.5,
          3.4,
          3.7,
          2.7,
          3.1,
          3.8,
          4.1,
          3.7,
          3.6,
          4.3,
          3.6,
          3.5,
          4.4,
          4.1,
          3.8,
          4.2,
          4.2,
          4.2,
          4,
          3.6,
          4,
          4.5,
          3.7,
          3.9,
          4,
          3.6,
          3.4,
          4.1,
          3.6,
          3.6,
          4.1,
          3.9,
          3.7,
          4.3,
          3.9,
          3.8,
          3.6,
          3.3,
          3.8,
          3.8,
          2.8,
          3.8,
          3.7,
          3.4,
          4.1,
          3.2,
          3.5,
          4.2,
          3.1,
          4.2,
          4.5,
          3.7,
          4,
          3,
          3.8,
          3.5,
          3.7,
          2.8,
          2.7,
          2.8,
          2.8,
          3.2,
          4.6,
          3.2,
          4.2,
          4.5,
          3.5,
          4,
          3.2,
          3.3,
          3.6,
          3.1,
          4.6,
          3.6,
          3.8,
          4,
          3.6,
          3.7,
          3.9,
          3.7,
          3.8,
          4.4,
          3.8,
          3.5,
          2.8,
          4.3,
          3.4,
          3.6,
          3.7,
          4.1,
          3.6,
          4.3,
          4.2,
          3.5,
          2.6,
          3.3,
          4.5,
          3.8,
          2.9,
          4.5,
          3.7,
          3.8,
          4,
          4.1,
          3.5,
          2.7,
          3.3,
          4.4,
          2.8,
          4.3,
          2.6,
          3.3,
          4.1,
          4.1,
          3.9,
          4.1,
          4,
          4.3,
          4.8,
          4,
          4.3,
          3.8,
          3.5,
          3.9,
          3.6,
          4.3,
          2.9,
          3.1,
          3.5,
          4.2,
          3.1,
          3.1,
          3.6,
          4.1,
          3.7,
          4,
          4.4,
          4.2,
          3.7,
          4.5,
          2.9,
          4.1,
          3.8,
          3,
          3.5,
          4.3,
          3.4,
          3.4,
          4.4,
          3.3,
          3.5,
          4.3,
          3.7,
          3.1,
          4.2,
          3.8,
          4,
          2.5,
          3.8,
          3.5,
          4.2,
          3.5,
          2.7,
          3,
          3.6,
          3.5,
          3.4,
          3.6,
          4.2,
          3.4,
          2.9,
          3.5,
          3.1,
          3.4,
          4.3,
          2.7,
          4.1,
          3.8,
          3.2,
          3.5,
          3.6,
          4.2,
          3.9,
          3.5,
          3,
          3.5,
          3.2,
          3.8,
          3.6,
          4.4,
          3.8,
          2.9,
          2.7,
          3.7,
          3.4,
          4.1,
          3.4,
          3.8,
          2.9,
          3.6,
          4.1,
          4.3,
          5,
          3.1,
          3,
          4.3,
          3.3,
          3.9,
          3.4,
          3,
          3.4,
          4.2,
          3,
          3.3,
          4,
          2.7,
          2.9,
          3.2,
          3.5,
          4,
          4,
          3.4,
          3.5,
          4,
          4.9,
          4.7,
          3.4,
          4.4,
          3.1,
          2.9,
          3.7,
          4.1,
          3.2,
          2.9,
          3.9,
          3.8,
          1,
          3.1,
          3.2,
          2.7,
          2.9,
          2.5,
          3.6,
          3.4,
          3.7,
          3.1,
          3.8,
          3.5,
          3.6,
          3.3,
          2.7,
          3.6,
          3.5,
          4.9,
          4.3,
          3.2,
          3,
          3.6,
          3.6,
          3.1,
          4,
          3.1,
          4.8,
          4,
          4.3,
          3.3,
          4.2,
          3.6,
          3.3,
          3.5,
          2.7,
          3.1,
          3.6,
          3.7,
          3.6,
          4.7,
          3.9,
          4.6,
          3.4,
          4.2,
          3.8,
          3.4,
          3.5,
          3.9,
          3.5,
          3.6,
          3.4,
          2.7,
          3,
          3.1,
          3.8,
          3.8,
          4,
          3.9,
          3.4,
          3.7,
          4.3,
          3.4,
          3.7,
          3,
          3.6,
          3.4,
          2.1,
          3.7,
          3.1,
          3.5,
          3.5,
          3.6,
          2.8,
          3.2,
          3.2,
          3.5,
          3.1,
          3.1,
          2.7,
          3.8,
          1,
          3.4,
          4.3,
          2.1,
          4.6,
          3.4,
          4.2,
          2.5,
          2.2,
          4,
          3.1,
          3.6,
          3.1,
          3.6,
          2.1,
          3.8,
          3.4,
          3.3,
          3.8,
          3.4,
          4,
          4.2,
          3.8,
          3.7,
          2.1,
          3.8,
          3.8,
          3.4,
          3.6,
          3.7,
          4.7,
          3.5,
          3.7,
          4.1,
          3.6,
          3.5,
          3.7,
          3.1,
          4.2,
          4.5,
          4.2,
          2.2,
          3.7,
          2.8,
          3,
          3.5,
          3.8,
          3.6,
          2.8,
          3.8,
          3.3,
          3.6,
          3.2,
          4.5,
          2.8,
          3.6,
          4.6,
          3.1,
          3.7,
          4.8,
          3.8,
          4.2,
          2.8,
          3.9,
          3.8,
          4.2,
          3.5,
          3.5,
          3.1,
          3.4,
          3.5,
          3.5,
          2.6,
          3.7,
          3.8,
          3.1,
          3.7,
          3.4,
          3.1,
          2.8,
          3.4,
          3.6,
          3.5,
          3.4,
          5,
          3.4,
          2.9,
          3.2,
          3.7,
          3.7,
          3.1,
          3.4,
          3.8,
          3.4,
          4.1,
          5,
          3.1,
          2.5,
          3.2,
          3.4,
          3.6,
          3.7,
          3.6,
          3.6,
          2.9,
          3.4,
          3.4,
          3.6,
          3.6,
          3.8,
          3.4,
          2.7,
          3.8,
          3.4,
          3.1,
          3.5,
          3.9,
          4.8,
          2.9,
          3.8,
          3.7,
          3.1,
          3.9,
          3.1,
          3.4,
          3.8,
          4,
          4.2,
          3.2,
          3.8,
          3,
          2.3,
          2.4,
          2.1,
          3.5,
          3.9,
          3.6,
          2.3,
          4.1,
          3.4,
          4.2,
          3.1,
          2.5,
          3.1,
          3.2,
          3.2,
          3.1,
          3.2,
          3.1,
          2.9,
          2.9,
          3.6,
          3.8,
          3.3,
          3.2,
          3.4,
          2.9,
          3.3,
          3.9,
          4.5,
          3.6,
          3.5,
          3.7,
          4,
          3.6,
          4.2,
          3.3,
          2.9,
          0,
          2.2,
          3.7,
          4.2,
          2.8,
          2.9,
          3.9,
          3.4,
          3.3
         ],
         "xaxis": "x2",
         "yaxis": "y2"
        }
       ],
       "layout": {
        "barmode": "relative",
        "height": 600,
        "legend": {
         "tracegroupgap": 0
        },
        "margin": {
         "t": 60
        },
        "template": {
         "data": {
          "bar": [
           {
            "error_x": {
             "color": "#2a3f5f"
            },
            "error_y": {
             "color": "#2a3f5f"
            },
            "marker": {
             "line": {
              "color": "#E5ECF6",
              "width": 0.5
             }
            },
            "type": "bar"
           }
          ],
          "barpolar": [
           {
            "marker": {
             "line": {
              "color": "#E5ECF6",
              "width": 0.5
             }
            },
            "type": "barpolar"
           }
          ],
          "carpet": [
           {
            "aaxis": {
             "endlinecolor": "#2a3f5f",
             "gridcolor": "white",
             "linecolor": "white",
             "minorgridcolor": "white",
             "startlinecolor": "#2a3f5f"
            },
            "baxis": {
             "endlinecolor": "#2a3f5f",
             "gridcolor": "white",
             "linecolor": "white",
             "minorgridcolor": "white",
             "startlinecolor": "#2a3f5f"
            },
            "type": "carpet"
           }
          ],
          "choropleth": [
           {
            "colorbar": {
             "outlinewidth": 0,
             "ticks": ""
            },
            "type": "choropleth"
           }
          ],
          "contour": [
           {
            "colorbar": {
             "outlinewidth": 0,
             "ticks": ""
            },
            "colorscale": [
             [
              0,
              "#0d0887"
             ],
             [
              0.1111111111111111,
              "#46039f"
             ],
             [
              0.2222222222222222,
              "#7201a8"
             ],
             [
              0.3333333333333333,
              "#9c179e"
             ],
             [
              0.4444444444444444,
              "#bd3786"
             ],
             [
              0.5555555555555556,
              "#d8576b"
             ],
             [
              0.6666666666666666,
              "#ed7953"
             ],
             [
              0.7777777777777778,
              "#fb9f3a"
             ],
             [
              0.8888888888888888,
              "#fdca26"
             ],
             [
              1,
              "#f0f921"
             ]
            ],
            "type": "contour"
           }
          ],
          "contourcarpet": [
           {
            "colorbar": {
             "outlinewidth": 0,
             "ticks": ""
            },
            "type": "contourcarpet"
           }
          ],
          "heatmap": [
           {
            "colorbar": {
             "outlinewidth": 0,
             "ticks": ""
            },
            "colorscale": [
             [
              0,
              "#0d0887"
             ],
             [
              0.1111111111111111,
              "#46039f"
             ],
             [
              0.2222222222222222,
              "#7201a8"
             ],
             [
              0.3333333333333333,
              "#9c179e"
             ],
             [
              0.4444444444444444,
              "#bd3786"
             ],
             [
              0.5555555555555556,
              "#d8576b"
             ],
             [
              0.6666666666666666,
              "#ed7953"
             ],
             [
              0.7777777777777778,
              "#fb9f3a"
             ],
             [
              0.8888888888888888,
              "#fdca26"
             ],
             [
              1,
              "#f0f921"
             ]
            ],
            "type": "heatmap"
           }
          ],
          "heatmapgl": [
           {
            "colorbar": {
             "outlinewidth": 0,
             "ticks": ""
            },
            "colorscale": [
             [
              0,
              "#0d0887"
             ],
             [
              0.1111111111111111,
              "#46039f"
             ],
             [
              0.2222222222222222,
              "#7201a8"
             ],
             [
              0.3333333333333333,
              "#9c179e"
             ],
             [
              0.4444444444444444,
              "#bd3786"
             ],
             [
              0.5555555555555556,
              "#d8576b"
             ],
             [
              0.6666666666666666,
              "#ed7953"
             ],
             [
              0.7777777777777778,
              "#fb9f3a"
             ],
             [
              0.8888888888888888,
              "#fdca26"
             ],
             [
              1,
              "#f0f921"
             ]
            ],
            "type": "heatmapgl"
           }
          ],
          "histogram": [
           {
            "marker": {
             "colorbar": {
              "outlinewidth": 0,
              "ticks": ""
             }
            },
            "type": "histogram"
           }
          ],
          "histogram2d": [
           {
            "colorbar": {
             "outlinewidth": 0,
             "ticks": ""
            },
            "colorscale": [
             [
              0,
              "#0d0887"
             ],
             [
              0.1111111111111111,
              "#46039f"
             ],
             [
              0.2222222222222222,
              "#7201a8"
             ],
             [
              0.3333333333333333,
              "#9c179e"
             ],
             [
              0.4444444444444444,
              "#bd3786"
             ],
             [
              0.5555555555555556,
              "#d8576b"
             ],
             [
              0.6666666666666666,
              "#ed7953"
             ],
             [
              0.7777777777777778,
              "#fb9f3a"
             ],
             [
              0.8888888888888888,
              "#fdca26"
             ],
             [
              1,
              "#f0f921"
             ]
            ],
            "type": "histogram2d"
           }
          ],
          "histogram2dcontour": [
           {
            "colorbar": {
             "outlinewidth": 0,
             "ticks": ""
            },
            "colorscale": [
             [
              0,
              "#0d0887"
             ],
             [
              0.1111111111111111,
              "#46039f"
             ],
             [
              0.2222222222222222,
              "#7201a8"
             ],
             [
              0.3333333333333333,
              "#9c179e"
             ],
             [
              0.4444444444444444,
              "#bd3786"
             ],
             [
              0.5555555555555556,
              "#d8576b"
             ],
             [
              0.6666666666666666,
              "#ed7953"
             ],
             [
              0.7777777777777778,
              "#fb9f3a"
             ],
             [
              0.8888888888888888,
              "#fdca26"
             ],
             [
              1,
              "#f0f921"
             ]
            ],
            "type": "histogram2dcontour"
           }
          ],
          "mesh3d": [
           {
            "colorbar": {
             "outlinewidth": 0,
             "ticks": ""
            },
            "type": "mesh3d"
           }
          ],
          "parcoords": [
           {
            "line": {
             "colorbar": {
              "outlinewidth": 0,
              "ticks": ""
             }
            },
            "type": "parcoords"
           }
          ],
          "scatter": [
           {
            "marker": {
             "colorbar": {
              "outlinewidth": 0,
              "ticks": ""
             }
            },
            "type": "scatter"
           }
          ],
          "scatter3d": [
           {
            "line": {
             "colorbar": {
              "outlinewidth": 0,
              "ticks": ""
             }
            },
            "marker": {
             "colorbar": {
              "outlinewidth": 0,
              "ticks": ""
             }
            },
            "type": "scatter3d"
           }
          ],
          "scattercarpet": [
           {
            "marker": {
             "colorbar": {
              "outlinewidth": 0,
              "ticks": ""
             }
            },
            "type": "scattercarpet"
           }
          ],
          "scattergeo": [
           {
            "marker": {
             "colorbar": {
              "outlinewidth": 0,
              "ticks": ""
             }
            },
            "type": "scattergeo"
           }
          ],
          "scattergl": [
           {
            "marker": {
             "colorbar": {
              "outlinewidth": 0,
              "ticks": ""
             }
            },
            "type": "scattergl"
           }
          ],
          "scattermapbox": [
           {
            "marker": {
             "colorbar": {
              "outlinewidth": 0,
              "ticks": ""
             }
            },
            "type": "scattermapbox"
           }
          ],
          "scatterpolar": [
           {
            "marker": {
             "colorbar": {
              "outlinewidth": 0,
              "ticks": ""
             }
            },
            "type": "scatterpolar"
           }
          ],
          "scatterpolargl": [
           {
            "marker": {
             "colorbar": {
              "outlinewidth": 0,
              "ticks": ""
             }
            },
            "type": "scatterpolargl"
           }
          ],
          "scatterternary": [
           {
            "marker": {
             "colorbar": {
              "outlinewidth": 0,
              "ticks": ""
             }
            },
            "type": "scatterternary"
           }
          ],
          "surface": [
           {
            "colorbar": {
             "outlinewidth": 0,
             "ticks": ""
            },
            "colorscale": [
             [
              0,
              "#0d0887"
             ],
             [
              0.1111111111111111,
              "#46039f"
             ],
             [
              0.2222222222222222,
              "#7201a8"
             ],
             [
              0.3333333333333333,
              "#9c179e"
             ],
             [
              0.4444444444444444,
              "#bd3786"
             ],
             [
              0.5555555555555556,
              "#d8576b"
             ],
             [
              0.6666666666666666,
              "#ed7953"
             ],
             [
              0.7777777777777778,
              "#fb9f3a"
             ],
             [
              0.8888888888888888,
              "#fdca26"
             ],
             [
              1,
              "#f0f921"
             ]
            ],
            "type": "surface"
           }
          ],
          "table": [
           {
            "cells": {
             "fill": {
              "color": "#EBF0F8"
             },
             "line": {
              "color": "white"
             }
            },
            "header": {
             "fill": {
              "color": "#C8D4E3"
             },
             "line": {
              "color": "white"
             }
            },
            "type": "table"
           }
          ]
         },
         "layout": {
          "annotationdefaults": {
           "arrowcolor": "#2a3f5f",
           "arrowhead": 0,
           "arrowwidth": 1
          },
          "colorscale": {
           "diverging": [
            [
             0,
             "#8e0152"
            ],
            [
             0.1,
             "#c51b7d"
            ],
            [
             0.2,
             "#de77ae"
            ],
            [
             0.3,
             "#f1b6da"
            ],
            [
             0.4,
             "#fde0ef"
            ],
            [
             0.5,
             "#f7f7f7"
            ],
            [
             0.6,
             "#e6f5d0"
            ],
            [
             0.7,
             "#b8e186"
            ],
            [
             0.8,
             "#7fbc41"
            ],
            [
             0.9,
             "#4d9221"
            ],
            [
             1,
             "#276419"
            ]
           ],
           "sequential": [
            [
             0,
             "#0d0887"
            ],
            [
             0.1111111111111111,
             "#46039f"
            ],
            [
             0.2222222222222222,
             "#7201a8"
            ],
            [
             0.3333333333333333,
             "#9c179e"
            ],
            [
             0.4444444444444444,
             "#bd3786"
            ],
            [
             0.5555555555555556,
             "#d8576b"
            ],
            [
             0.6666666666666666,
             "#ed7953"
            ],
            [
             0.7777777777777778,
             "#fb9f3a"
            ],
            [
             0.8888888888888888,
             "#fdca26"
            ],
            [
             1,
             "#f0f921"
            ]
           ],
           "sequentialminus": [
            [
             0,
             "#0d0887"
            ],
            [
             0.1111111111111111,
             "#46039f"
            ],
            [
             0.2222222222222222,
             "#7201a8"
            ],
            [
             0.3333333333333333,
             "#9c179e"
            ],
            [
             0.4444444444444444,
             "#bd3786"
            ],
            [
             0.5555555555555556,
             "#d8576b"
            ],
            [
             0.6666666666666666,
             "#ed7953"
            ],
            [
             0.7777777777777778,
             "#fb9f3a"
            ],
            [
             0.8888888888888888,
             "#fdca26"
            ],
            [
             1,
             "#f0f921"
            ]
           ]
          },
          "colorway": [
           "#636efa",
           "#EF553B",
           "#00cc96",
           "#ab63fa",
           "#FFA15A",
           "#19d3f3",
           "#FF6692",
           "#B6E880",
           "#FF97FF",
           "#FECB52"
          ],
          "font": {
           "color": "#2a3f5f"
          },
          "geo": {
           "bgcolor": "white",
           "lakecolor": "white",
           "landcolor": "#E5ECF6",
           "showlakes": true,
           "showland": true,
           "subunitcolor": "white"
          },
          "hoverlabel": {
           "align": "left"
          },
          "hovermode": "closest",
          "mapbox": {
           "style": "light"
          },
          "paper_bgcolor": "white",
          "plot_bgcolor": "#E5ECF6",
          "polar": {
           "angularaxis": {
            "gridcolor": "white",
            "linecolor": "white",
            "ticks": ""
           },
           "bgcolor": "#E5ECF6",
           "radialaxis": {
            "gridcolor": "white",
            "linecolor": "white",
            "ticks": ""
           }
          },
          "scene": {
           "xaxis": {
            "backgroundcolor": "#E5ECF6",
            "gridcolor": "white",
            "gridwidth": 2,
            "linecolor": "white",
            "showbackground": true,
            "ticks": "",
            "zerolinecolor": "white"
           },
           "yaxis": {
            "backgroundcolor": "#E5ECF6",
            "gridcolor": "white",
            "gridwidth": 2,
            "linecolor": "white",
            "showbackground": true,
            "ticks": "",
            "zerolinecolor": "white"
           },
           "zaxis": {
            "backgroundcolor": "#E5ECF6",
            "gridcolor": "white",
            "gridwidth": 2,
            "linecolor": "white",
            "showbackground": true,
            "ticks": "",
            "zerolinecolor": "white"
           }
          },
          "shapedefaults": {
           "line": {
            "color": "#2a3f5f"
           }
          },
          "ternary": {
           "aaxis": {
            "gridcolor": "white",
            "linecolor": "white",
            "ticks": ""
           },
           "baxis": {
            "gridcolor": "white",
            "linecolor": "white",
            "ticks": ""
           },
           "bgcolor": "#E5ECF6",
           "caxis": {
            "gridcolor": "white",
            "linecolor": "white",
            "ticks": ""
           }
          },
          "title": {
           "x": 0.05
          },
          "xaxis": {
           "automargin": true,
           "gridcolor": "white",
           "linecolor": "white",
           "ticks": "",
           "zerolinecolor": "white",
           "zerolinewidth": 2
          },
          "yaxis": {
           "automargin": true,
           "gridcolor": "white",
           "linecolor": "white",
           "ticks": "",
           "zerolinecolor": "white",
           "zerolinewidth": 2
          }
         }
        },
        "xaxis": {
         "anchor": "y",
         "domain": [
          0,
          0.98
         ]
        },
        "xaxis2": {
         "anchor": "y2",
         "domain": [
          0,
          0.98
         ],
         "matches": "x",
         "showgrid": true,
         "showticklabels": false
        },
        "yaxis": {
         "anchor": "x",
         "domain": [
          0,
          0.8316
         ],
         "title": {
          "text": "count"
         }
        },
        "yaxis2": {
         "anchor": "x2",
         "domain": [
          0.8416,
          1
         ],
         "matches": "y2",
         "showgrid": false,
         "showticklabels": false
        }
       }
      },
      "text/html": [
       "<div>\n",
       "        \n",
       "        \n",
       "            <div id=\"9c67cd77-5d85-4667-94a2-2358ae761cf7\" class=\"plotly-graph-div\" style=\"height:600px; width:100%;\"></div>\n",
       "            <script type=\"text/javascript\">\n",
       "                require([\"plotly\"], function(Plotly) {\n",
       "                    window.PLOTLYENV=window.PLOTLYENV || {};\n",
       "                    \n",
       "                if (document.getElementById(\"9c67cd77-5d85-4667-94a2-2358ae761cf7\")) {\n",
       "                    Plotly.newPlot(\n",
       "                        '9c67cd77-5d85-4667-94a2-2358ae761cf7',\n",
       "                        [{\"alignmentgroup\": \"True\", \"bingroup\": \"x\", \"hoverlabel\": {\"namelength\": 0}, \"hovertemplate\": \"rating=%{x}<br>count=%{y}\", \"legendgroup\": \"\", \"marker\": {\"color\": \"#636efa\"}, \"name\": \"\", \"offsetgroup\": \"\", \"orientation\": \"v\", \"showlegend\": false, \"type\": \"histogram\", \"x\": [3.5, 3.5, 2.7, 4.5, 3.6, 3.7, 3.9, 4.6, 3.2, 4.7, 3.6, 3.2, 4.0, 4.5, 3.4, 3.7, 2.7, 3.1, 3.8, 4.1, 3.7, 3.6, 4.3, 3.6, 3.5, 4.4, 4.1, 3.8, 4.2, 4.2, 4.2, 4.0, 3.6, 4.0, 4.5, 3.7, 3.9, 4.0, 3.6, 3.4, 4.1, 3.6, 3.6, 4.1, 3.9, 3.7, 4.3, 3.9, 3.8, 3.6, 3.3, 3.8, 3.8, 2.8, 3.8, 3.7, 3.4, 4.1, 3.2, 3.5, 4.2, 3.1, 4.2, 4.5, 3.7, 4.0, 3.0, 3.8, 3.5, 3.7, 2.8, 2.7, 2.8, 2.8, 3.2, 4.6, 3.2, 4.2, 4.5, 3.5, 4.0, 3.2, 3.3, 3.6, 3.1, 4.6, 3.6, 3.8, 4.0, 3.6, 3.7, 3.9, 3.7, 3.8, 4.4, 3.8, 3.5, 2.8, 4.3, 3.4, 3.6, 3.7, 4.1, 3.6, 4.3, 4.2, 3.5, 2.6, 3.3, 4.5, 3.8, 2.9, 4.5, 3.7, 3.8, 4.0, 4.1, 3.5, 2.7, 3.3, 4.4, 2.8, 4.3, 2.6, 3.3, 4.1, 4.1, 3.9, 4.1, 4.0, 4.3, 4.8, 4.0, 4.3, 3.8, 3.5, 3.9, 3.6, 4.3, 2.9, 3.1, 3.5, 4.2, 3.1, 3.1, 3.6, 4.1, 3.7, 4.0, 4.4, 4.2, 3.7, 4.5, 2.9, 4.1, 3.8, 3.0, 3.5, 4.3, 3.4, 3.4, 4.4, 3.3, 3.5, 4.3, 3.7, 3.1, 4.2, 3.8, 4.0, 2.5, 3.8, 3.5, 4.2, 3.5, 2.7, 3.0, 3.6, 3.5, 3.4, 3.6, 4.2, 3.4, 2.9, 3.5, 3.1, 3.4, 4.3, 2.7, 4.1, 3.8, 3.2, 3.5, 3.6, 4.2, 3.9, 3.5, 3.0, 3.5, 3.2, 3.8, 3.6, 4.4, 3.8, 2.9, 2.7, 3.7, 3.4, 4.1, 3.4, 3.8, 2.9, 3.6, 4.1, 4.3, 5.0, 3.1, 3.0, 4.3, 3.3, 3.9, 3.4, 3.0, 3.4, 4.2, 3.0, 3.3, 4.0, 2.7, 2.9, 3.2, 3.5, 4.0, 4.0, 3.4, 3.5, 4.0, 4.9, 4.7, 3.4, 4.4, 3.1, 2.9, 3.7, 4.1, 3.2, 2.9, 3.9, 3.8, 1.0, 3.1, 3.2, 2.7, 2.9, 2.5, 3.6, 3.4, 3.7, 3.1, 3.8, 3.5, 3.6, 3.3, 2.7, 3.6, 3.5, 4.9, 4.3, 3.2, 3.0, 3.6, 3.6, 3.1, 4.0, 3.1, 4.8, 4.0, 4.3, 3.3, 4.2, 3.6, 3.3, 3.5, 2.7, 3.1, 3.6, 3.7, 3.6, 4.7, 3.9, 4.6, 3.4, 4.2, 3.8, 3.4, 3.5, 3.9, 3.5, 3.6, 3.4, 2.7, 3.0, 3.1, 3.8, 3.8, 4.0, 3.9, 3.4, 3.7, 4.3, 3.4, 3.7, 3.0, 3.6, 3.4, 2.1, 3.7, 3.1, 3.5, 3.5, 3.6, 2.8, 3.2, 3.2, 3.5, 3.1, 3.1, 2.7, 3.8, 1.0, 3.4, 4.3, 2.1, 4.6, 3.4, 4.2, 2.5, 2.2, 4.0, 3.1, 3.6, 3.1, 3.6, 2.1, 3.8, 3.4, 3.3, 3.8, 3.4, 4.0, 4.2, 3.8, 3.7, 2.1, 3.8, 3.8, 3.4, 3.6, 3.7, 4.7, 3.5, 3.7, 4.1, 3.6, 3.5, 3.7, 3.1, 4.2, 4.5, 4.2, 2.2, 3.7, 2.8, 3.0, 3.5, 3.8, 3.6, 2.8, 3.8, 3.3, 3.6, 3.2, 4.5, 2.8, 3.6, 4.6, 3.1, 3.7, 4.8, 3.8, 4.2, 2.8, 3.9, 3.8, 4.2, 3.5, 3.5, 3.1, 3.4, 3.5, 3.5, 2.6, 3.7, 3.8, 3.1, 3.7, 3.4, 3.1, 2.8, 3.4, 3.6, 3.5, 3.4, 5.0, 3.4, 2.9, 3.2, 3.7, 3.7, 3.1, 3.4, 3.8, 3.4, 4.1, 5.0, 3.1, 2.5, 3.2, 3.4, 3.6, 3.7, 3.6, 3.6, 2.9, 3.4, 3.4, 3.6, 3.6, 3.8, 3.4, 2.7, 3.8, 3.4, 3.1, 3.5, 3.9, 4.8, 2.9, 3.8, 3.7, 3.1, 3.9, 3.1, 3.4, 3.8, 4.0, 4.2, 3.2, 3.8, 3.0, 2.3, 2.4, 2.1, 3.5, 3.9, 3.6, 2.3, 4.1, 3.4, 4.2, 3.1, 2.5, 3.1, 3.2, 3.2, 3.1, 3.2, 3.1, 2.9, 2.9, 3.6, 3.8, 3.3, 3.2, 3.4, 2.9, 3.3, 3.9, 4.5, 3.6, 3.5, 3.7, 4.0, 3.6, 4.2, 3.3, 2.9, 0.0, 2.2, 3.7, 4.2, 2.8, 2.9, 3.9, 3.4, 3.3], \"xaxis\": \"x\", \"yaxis\": \"y\"}, {\"alignmentgroup\": \"True\", \"customdata\": [[\"HEALTHEC\", 3.5, \"Data Analyst\", \"Edison, NJ\", 42000, 75000, 11, 40.5187154, -74.4120953, [\"Python\", \"SQL\", \"R\", \"Tableau\", \"Excel\"]], [\"Rocketrip\", 3.5, \"Data Analyst\", \"New York, NY\", 61000, 115000, 27, 40.7127753, -74.0059728, [\"Python\", \"SQL\", \"R\", \"Tableau\", \"Excel\"]], [\"Conduent\", 2.7, \"Data Analyst II (SQL, Tableau)\", \"New York, NY\", 62000, 106000, 12, 40.7127753, -74.0059728, [\"Python\", \"SQL\", \"R\", \"Java\", \"Tableau\", \"Oracle\", \"Excel\"]], [\"SeatGeek\", 4.5, \"Data Analyst\", \"New York, NY\", 53000, 98000, 11, 40.7127753, -74.0059728, [\"Python\", \"SQL\", \"R\"]], [\"Swiss Re\", 3.6, \"Data Analyst\", \"Armonk, NY\", 59000, 107000, 3, 41.1264849, -73.71401949999999, [\"Python\", \"SQL\", \"R\", \"Tableau\", \"SAS\", \"Excel\"]], [\"Visiting Nurse Service of New York\", 3.7, \"Data Analyst, CHOICE\", \"New York, NY\", 48000, 85000, 15, 40.7127753, -74.0059728, [\"Python\", \"SQL\", \"R\", \"Tableau\", \"SAS\", \"Excel\"]], [\"Taboola\", 3.9, \"Data Analyst, Business Intelligence\", \"New York, NY\", 52000, 97000, 2, 40.7127753, -74.0059728, [\"SQL\", \"R\", \"Tableau\", \"Excel\", \"Business Intelligence\"]], [\"Charles River Associates\", 4.6, \"Data Analyst/Data Scientist (2020 Start) - Analytics - Multioffice\", \"New York, NY\", 57000, 97000, 25, 40.7127753, -74.0059728, [\"Python\", \"SQL\", \"Machine Learning\", \"R\", \"Java\", \"Tableau\", \"SAS\", \"Natural Language Processing\", \"Excel\", \"JavaScript\", \"SPSS\"]], [\"Walmart eCommerce\", 3.2, \"Data Governance Business Analyst\", \"Hoboken, NJ\", 45000, 86000, 16, 40.7439905, -74.0323626, [\"R\"]], [\"Callisto Media\", 4.7, \"Lead Data Analyst\", \"New York, NY\", 49000, 88000, 4, 40.7127753, -74.0059728, [\"R\", \"Big Data\"]], [\"Montefiore Medical\", 3.6, \"DATA ANALYST PATIENT EXPERIENCE\", \"New York, NY\", 53000, 94000, 13, 40.7127753, -74.0059728, [\"SQL\", \"R\", \"Excel\"]], [\"Walmart eCommerce\", 3.2, \"Senior Manager I, Data Analyst\", \"Hoboken, NJ\", 110000, 190000, 11, 40.7439905, -74.0323626, [\"R\"]], [\"Colgate-Palmolive\", 4.0, \"Data Analyst\", \"Piscataway, NJ\", 49000, 94000, 4, 40.554887, -74.4642861, [\"Python\", \"SQL\", \"R\", \"Java\", \"Oracle\", \"Git\", \"PostgreSQL\", \"MySQL\", \"MongoDB\"]], [\"OceanFirst Financial\", 4.5, \"Data Quality Analyst\", \"Red Bank, NJ\", 46000, 81000, 20, 40.3470543, -74.0643065, [\"SQL\", \"R\", \"Excel\", \"Business Intelligence\"]], [\"National Grid USA\", 3.4, \"Senior Quantitative Analyst,Data Science\", \"Hicksville, NY\", 92000, 180000, 11, 40.7580684, -73.5240738, [\"Python\", \"SQL\", \"R\", \"Data Science\"]], [\"American CyberSystems\", 3.7, \"Data Analyst Entry Level\", \"Plainsboro, NJ\", 49000, 91000, 3, 40.3382543, -74.585292, [\"R\", \"Excel\"]], [\"Moda Operandi\", 2.7, \"Senior Data Analyst\", \"New York, NY\", 53000, 95000, 16, 40.7127753, -74.0059728, [\"Python\", \"SQL\", \"R\", \"Java\", \"SAS\", \"Excel\", \"SPSS\"]], [\"Shareablee\", 3.1, \"Junior Data Analyst\", \"New York, NY\", 59000, 110000, 18, 40.7127753, -74.0059728, [\"Python\", \"SQL\", \"R\", \"Excel\"]], [\"PayPal\", 3.8, \"Data Analyst \\u2013 University Graduate\", \"New York, NY\", 73000, 122000, 10, 40.7127753, -74.0059728, [\"Python\", \"SQL\", \"R\", \"Hadoop\", \"Java\", \"Tableau\", \"Hive\", \"Oracle\", \"Linux\", \"Excel\", \"JavaScript\", \"Perl\"]], [\"Test Force\", 4.1, \"Data Analyst\", \"New York, NY\", 58000, 99000, 6, 40.7127753, -74.0059728, [\"SQL\", \"R\", \"Data Analysis\"]], [\"Endai\", 3.7, \"Data Analyst Entry Level\", \"New York, NY\", 34000, 66000, 26, 40.7127753, -74.0059728, [\"R\"]], [\"Peloton\", 3.6, \"Jr Data Analyst\", \"New York, NY\", 41000, 79000, 4, 40.7127753, -74.0059728, [\"SQL\", \"R\", \"Excel\", \"Business Intelligence\"]], [\"eVestment\", 4.3, \"Data & Business Analyst\", \"Jersey City, NJ\", 48000, 93000, 12, 40.7177545, -74.0431435, [\"R\", \"Excel\"]], [\"Kate Spade\", 3.6, \"Data Analyst, CRM\", \"New York, NY\", 50000, 90000, 10, 40.7127753, -74.0059728, [\"SQL\", \"R\", \"Excel\"]], [\"HBO\", 3.5, \"Freelance Marketing Data Analyst\", \"New York, NY\", 70000, 118000, 3, 40.7127753, -74.0059728, [\"Python\", \"SQL\", \"R\", \"AWS\"]], [\"Google\", 4.4, \"Product Analyst, Data Science\", \"New York, NY\", 62000, 110000, 17, 40.7127753, -74.0059728, [\"SQL\", \"R\", \"SAS\", \"MATLAB\", \"Data Science\"]], [\"Columbia University\", 4.1, \"Data Analyst\", \"New York, NY\", 47000, 81000, 3, 40.7127753, -74.0059728, [\"R\"]], [\"Wyndham Hotels & Resorts\", 3.8, \"Hotel Program Operations and Data Analyst\", \"Parsippany, NJ\", 41000, 74000, 19, 40.8652865, -74.41738769999999, [\"R\", \"Excel\", \"Business Intelligence\"]], [\"New York University\", 4.2, \"Data Analyst\", \"New York, NY\", 35000, 57000, 14, 40.7127753, -74.0059728, [\"SQL\", \"R\", \"Tableau\", \"Excel\"]], [\"Addepar\", 4.2, \"Data Operations Analyst\", \"New York, NY\", 59000, 103000, 27, 40.7127753, -74.0059728, [\"Python\", \"SQL\", \"R\", \"Excel\"]], [\"Cynet Systems\", 4.2, \"Data Analyst\", \"New York, NY\", 61000, 111000, 3, 40.7127753, -74.0059728, [\"R\"]], [\"CommonBond\", 4.0, \"Data Analyst\", \"New York, NY\", 53000, 100000, 5, 40.7127753, -74.0059728, [\"Python\", \"SQL\", \"R\"]], [\"Advantage xPO\", 3.6, \"Tableau Data Analyst\", \"New York, NY\", 46000, 89000, 4, 40.7127753, -74.0059728, [\"Python\", \"SQL\", \"R\", \"Hadoop\", \"Tableau\", \"SAS\"]], [\"Itemize\", 4.0, \"Data Analyst\", \"New York, NY\", 52000, 95000, 14, 40.7127753, -74.0059728, [\"Python\", \"SQL\", \"R\", \"Excel\", \"MySQL\", \"Business Intelligence\"]], [\"Work Market\", 4.5, \"Data Analyst\", \"New York, NY\", 52000, 98000, 27, 40.7127753, -74.0059728, [\"Python\", \"SQL\", \"R\", \"Java\", \"Tableau\", \"AWS\", \"Data Analysis\", \"PostgreSQL\", \"MySQL\", \"S3\"]], [\"Coach, Inc.\", 3.7, \"Data Analyst, CRM\", \"New York, NY\", 58000, 102000, 9, 40.7127753, -74.0059728, [\"SQL\", \"R\", \"Excel\"]], [\"Quartz Media Inc\", 3.9, \"Data Analyst\", \"New York, NY\", 45000, 88000, 1, 40.7127753, -74.0059728, [\"R\"]], [\"NYU Langone Health\", 4.0, \"Data Analyst\", \"New York, NY\", 52000, 93000, 9, 40.7127753, -74.0059728, [\"R\", \"SAS\", \"Microsoft Office\", \"Excel\"]], [\"Peloton Cycle\", 3.6, \"People Data Analyst\", \"New York, NY\", 49000, 92000, 5, 40.7127753, -74.0059728, [\"R\", \"Excel\"]], [\"Collaborate Solutions, Inc.\", 3.4, \"Data Analyst\", \"New York, NY\", 57000, 103000, 6, 40.7127753, -74.0059728, [\"SQL\", \"R\", \"Software Development\"]], [\"MSG\", 4.1, \"Data Analyst\", \"New York, NY\", 70000, 126000, 5, 40.7127753, -74.0059728, [\"R\", \"Tableau\", \"Oracle\", \"Excel\"]], [\"Zipdrug, Inc\", 3.6, \"Data Analyst\", \"Jersey City, NJ\", 51000, 98000, 10, 40.7177545, -74.0431435, [\"SQL\", \"R\"]], [\"Montefiore Medical\", 3.6, \"DATA ANALYST PROGRAMMER\", \"New York, NY\", 48000, 84000, 24, 40.7127753, -74.0059728, [\"Python\", \"SQL\", \"R\", \"NoSQL\"]], [\"Knotel\", 4.1, \"Data Analyst\", \"New York, NY\", 46000, 85000, 3, 40.7127753, -74.0059728, [\"Python\", \"SQL\", \"R\", \"Tableau\", \"Git\"]], [\"Alpha Consulting Corp.\", 3.9, \"Junior Data Analyst\", \"Plainsboro, NJ\", 87000, 153000, 4, 40.3382543, -74.585292, [\"R\", \"AI\", \"Data Analysis\", \"Excel\"]], [\"Latham & Watkins\", 3.7, \"Marketing Communications Data Analyst\", \"New York, NY\", 59000, 108000, 6, 40.7127753, -74.0059728, [\"R\", \"Tableau\", \"Data Science\", \"Business Intelligence\"]], [\"Global Atlantic Financial Group\", 4.3, \"Mortgage Whole Loan Data & Collateral Analyst\", \"New York, NY\", 37000, 69000, 19, 40.7127753, -74.0059728, [\"SQL\", \"R\", \"Excel\"]], [\"International Rescue Committee\", 3.9, \"Data Analyst\", \"New York, NY\", 51000, 90000, 5, 40.7127753, -74.0059728, [\"R\", \"Excel\"]], [\"Bloomberg\", 3.8, \"Data Analyst NetOps\", \"New York, NY\", 61000, 105000, 26, 40.7127753, -74.0059728, [\"Python\", \"SQL\", \"R\", \"Java\", \"Tableau\", \"C/C++\"]], [\"Peloton Interactive\", 3.6, \"Junior Data Analyst\", \"New York, NY\", 41000, 79000, 7, 40.7127753, -74.0059728, [\"SQL\", \"R\", \"Excel\", \"Business Intelligence\"]], [\"Triton Digital\", 3.3, \"Data Analyst, Technology\", \"New York, NY\", 39000, 73000, 5, 40.7127753, -74.0059728, [\"R\", \"Excel\"]], [\"ThreatMetrix\", 3.8, \"Data Analyst\", \"New York, NY\", 46000, 88000, 25, 40.7127753, -74.0059728, [\"Python\", \"SQL\", \"R\", \"SAS\", \"Excel\"]], [\"Bazaarvoice\", 3.8, \"Data Analyst\", \"New York, NY\", 67000, 122000, 10, 40.7127753, -74.0059728, [\"SQL\", \"R\", \"Excel\"]], [\"YOOX NET-A-PORTER GROUP\", 2.8, \"Data Analyst - Personal Shopping\", \"New York, NY\", 55000, 97000, 27, 40.7127753, -74.0059728, [\"SQL\", \"R\", \"Tableau\", \"Excel\"]], [\"New York District Attorney's Office\", 3.8, \"Data Analyst\", \"New York, NY\", 52000, 91000, 5, 40.7127753, -74.0059728, [\"Python\", \"SQL\", \"R\", \"SAS\", \"Microsoft Office\", \"Excel\"]], [\"CipherHealth\", 3.7, \"Data Analyst, Customer Success\", \"New York, NY\", 46000, 87000, 5, 40.7127753, -74.0059728, [\"SQL\", \"R\", \"Excel\"]], [\"Premier, Inc.\", 3.4, \"Customer Data Analyst\", \"New York, NY\", 42000, 75000, 12, 40.7127753, -74.0059728, [\"R\", \"Excel\"]], [\"Columbia University\", 4.1, \"Data Analyst - Cardiology\", \"New York, NY\", 47000, 81000, 3, 40.7127753, -74.0059728, [\"R\", \"Microsoft Office\", \"Excel\", \"SPSS\"]], [\"Dow Jones\", 3.2, \"Audience Data Analyst\", \"New York, NY\", 75000, 134000, 5, 40.7127753, -74.0059728, [\"Python\", \"SQL\", \"R\", \"Tableau\", \"Linux\"]], [\"Squarespace\", 3.5, \"Systems/Data Analyst, Pricing\", \"New York, NY\", 63000, 116000, 5, 40.7127753, -74.0059728, [\"Python\", \"SQL\", \"R\", \"Excel\", \"Data Science\"]], [\"NYU\", 4.2, \"Data Modeling Analyst\", \"New York, NY\", 50000, 86000, 13, 40.7127753, -74.0059728, [\"SQL\", \"R\", \"Tableau\", \"SAS\", \"Scripting\", \"SPSS\"]], [\"IgnitionOne\", 3.1, \"Data Analyst\", \"New York, NY\", 48000, 87000, 6, 40.7127753, -74.0059728, [\"Python\", \"SQL\", \"Machine Learning\", \"R\", \"Java\", \"Tableau\", \"AWS\", \"Scala\", \"AI\", \"Microsoft Office\", \"Excel\"]], [\"ApTask\", 4.2, \"Data Analyst\", \"New York, NY\", 56000, 105000, 19, 40.7127753, -74.0059728, [\"SQL\", \"R\", \"Data Analysis\"]], [\"OceanFirst Financial\", 4.5, \"Data Quality Analyst\", \"Red Bank, NJ\", 46000, 81000, 21, 40.3470543, -74.0643065, [\"SQL\", \"R\", \"Excel\", \"Business Intelligence\"]], [\"Visiting Nurse Service of New York\", 3.7, \"Data Analyst, CHOICE\", \"New York, NY\", 48000, 85000, 15, 40.7127753, -74.0059728, []], [\"NYU Langone Health\", 4.0, \"Data Analyst\", \"New York, NY\", 52000, 93000, 9, 40.7127753, -74.0059728, [\"R\", \"SAS\"]], [\"CASES\", 3.0, \"Senior Data Analyst, Pre-Trial Services\", \"Brooklyn, NY\", 39000, 70000, 24, 40.6781784, -73.9441579, [\"SQL\", \"R\", \"Excel\", \"SPSS\"]], [\"ThreatMetrix\", 3.8, \"Data Analyst\", \"New York, NY\", 46000, 88000, 26, 40.7127753, -74.0059728, [\"Python\", \"SQL\", \"R\", \"SAS\", \"Excel\"]], [\"HEALTHEC\", 3.5, \"Data Analyst\", \"Edison, NJ\", 49000, 76000, 26, 40.5187154, -74.4120953, [\"Python\", \"SQL\", \"R\", \"Tableau\", \"Excel\"]], [\"Blink Health\", 3.7, \"Data Analyst\", \"New York, NY\", 53000, 86000, 18, 40.7127753, -74.0059728, [\"SQL\", \"R\", \"Spark\", \"Big Data\", \"AWS\", \"Data Science\"]], [\"Affinity Solutions\", 2.8, \"Big Data Analyst / Engineer\", \"New York, NY\", 43000, 70000, 11, 40.7127753, -74.0059728, [\"Python\", \"SQL\", \"R\", \"Hadoop\", \"Tableau\", \"Hive\", \"SAS\", \"Big Data\", \"Linux\"]], [\"Conduent\", 2.7, \"Data Analyst II (SQL, Tableau)\", \"New York, NY\", 52000, 86000, 27, 40.7127753, -74.0059728, [\"Python\", \"SQL\", \"R\", \"Java\", \"Tableau\", \"Oracle\", \"Excel\"]], [\"MoneyLion\", 2.8, \"Risk Data Analyst\", \"New York, NY\", 43000, 70000, 4, 40.7127753, -74.0059728, [\"Python\", \"SQL\", \"R\", \"PostgreSQL\", \"MongoDB\"]], [\"Moda Operandi\", 2.8, \"Senior Data Analyst\", \"New York, NY\", 65000, 101000, 3, 40.7127753, -74.0059728, [\"Python\", \"SQL\", \"R\", \"Java\", \"SAS\", \"Excel\", \"SPSS\"]], [\"Walmart eCommerce\", 3.2, \"Senior Manager I, Data Analyst\", \"Hoboken, NJ\", 129000, 182000, 26, 40.7439905, -74.0323626, [\"R\"]], [\"OceanFirst Financial\", 4.6, \"Data Quality Analyst\", \"Red Bank, NJ\", 41000, 66000, 8, 40.3470543, -74.0643065, [\"SQL\", \"R\", \"Excel\", \"Business Intelligence\"]], [\"RealPage\", 3.2, \"Data Analyst\", \"Hackensack, NJ\", 51000, 81000, 13, 40.8859325, -74.0434736, [\"SQL\", \"R\"]], [\"Addepar\", 4.2, \"Data Operations Analyst\", \"New York, NY\", 53000, 78000, 14, 40.7127753, -74.0059728, [\"Python\", \"SQL\", \"R\", \"Excel\"]], [\"SeatGeek\", 4.5, \"Data Analyst\", \"New York, NY\", 60000, 95000, 26, 40.7127753, -74.0059728, [\"Python\", \"SQL\", \"R\"]], [\"Fareportal Inc.\", 3.5, \"Business Data Analyst\", \"New York, NY\", 48000, 74000, 1, 40.7127753, -74.0059728, [\"Python\", \"SQL\", \"R\", \"Excel\"]], [\"NYU Langone Health\", 4.0, \"FGP Data Analyst\", \"New York, NY\", 50000, 74000, 4, 40.7127753, -74.0059728, [\"R\", \"Tableau\", \"Excel\", \"Perl\", \"Business Intelligence\"]], [\"Walmart eCommerce\", 3.2, \"Data Governance Business Analyst\", \"Hoboken, NJ\", 55000, 87000, 3, 40.7439905, -74.0323626, [\"R\"]], [\"The Shade Store\", 3.3, \"Business and Data Analyst\", \"Port Chester, NY\", 47000, 77000, 21, 41.0017643, -73.66568339999999, [\"R\", \"Tableau\", \"Excel\"]], [\"TechField\", 3.6, \"Entry Level Data Analyst (Machine Learning Engineer)\", \"Jersey City, NJ\", 37000, 61000, 2, 40.7177545, -74.0431435, [\"Python\", \"SQL\", \"R\", \"Big Data\", \"Scala\", \"NoSQL\"]], [\"Shareablee\", 3.1, \"Junior Data Analyst\", \"New York, NY\", 43000, 71000, 5, 40.7127753, -74.0059728, [\"Python\", \"SQL\", \"R\", \"Excel\"]], [\"Charles River Associates\", 4.6, \"Data Analyst/Data Scientist (2020 Start) - Analytics - Multioffice\", \"New York, NY\", 53000, 85000, 12, 40.7127753, -74.0059728, [\"Python\", \"SQL\", \"Machine Learning\", \"R\", \"Java\", \"Tableau\", \"SAS\", \"Natural Language Processing\", \"Excel\", \"JavaScript\", \"SPSS\"]], [\"Spotify\", 3.6, \"Data Analyst, Royalties and Accounting - Entertainment and Media Industry Opportunity\", \"New York, NY\", 59000, 96000, 13, 40.7127753, -74.0059728, [\"Python\", \"SQL\", \"Tableau\"]], [\"Taboola\", 3.8, \"Data Analyst, Business Intelligence\", \"New York, NY\", 49000, 78000, 17, 40.7127753, -74.0059728, [\"SQL\", \"R\", \"Tableau\", \"Excel\", \"Business Intelligence\"]], [\"NYU Langone Health\", 4.0, \"Data Analyst\", \"New York, NY\", 51000, 75000, 24, 40.7127753, -74.0059728, [\"R\", \"SAS\", \"Microsoft Office\", \"Excel\"]], [\"Montefiore Medical\", 3.6, \"DATA ANALYST PATIENT EXPERIENCE\", \"New York, NY\", 51000, 77000, 1, 40.7127753, -74.0059728, [\"SQL\", \"R\", \"Excel\"]], [\"Endai\", 3.7, \"Data Analyst Entry Level\", \"New York, NY\", 34000, 56000, 13, 40.7127753, -74.0059728, [\"R\"]], [\"Wyndham Hotels & Resorts\", 3.9, \"Hotel Program Operations and Data Analyst\", \"Parsippany, NJ\", 48000, 80000, 6, 40.8652865, -74.41738769999999, [\"R\", \"Excel\", \"Business Intelligence\"]], [\"MediaMath\", 3.7, \"Data Analyst - Account Analytics\", \"New York, NY\", 44000, 71000, 3, 40.7127753, -74.0059728, [\"Python\", \"SQL\", \"R\", \"Hadoop\", \"Spark\", \"Hive\", \"AWS\", \"Pig\", \"Excel\", \"S3\"]], [\"Bloomberg\", 3.8, \"Data Analyst - NetOps\", \"New York, NY\", 58000, 85000, 15, 40.7127753, -74.0059728, [\"Python\", \"SQL\", \"R\", \"Java\", \"Tableau\", \"C/C++\"]], [\"Google\", 4.4, \"Product Analyst, Data Science\", \"New York, NY\", 56000, 92000, 13, 40.7127753, -74.0059728, [\"SQL\", \"R\", \"SAS\", \"MATLAB\", \"Data Science\"]], [\"Bloomberg\", 3.8, \"Data Analyst NetOps\", \"New York, NY\", 58000, 85000, 13, 40.7127753, -74.0059728, [\"Python\", \"SQL\", \"R\", \"Java\", \"Tableau\", \"C/C++\"]], [\"CGI Group, Inc.\", 3.5, \"Data Analyst\", \"New York, NY\", 58000, 95000, 7, 40.7127753, -74.0059728, [\"R\"]], [\"YOOX NET-A-PORTER GROUP\", 2.8, \"Data Analyst - Personal Shopping\", \"New York, NY\", 44000, 71000, 3, 40.7127753, -74.0059728, [\"SQL\", \"R\", \"Tableau\", \"Excel\", \".Net\"]], [\"eVestment\", 4.3, \"Data & Business Analyst\", \"Jersey City, NJ\", 53000, 84000, 27, 40.7177545, -74.0431435, [\"R\", \"Excel\"]], [\"Horizon Blue Cross Blue Shield of New Jersey\", 3.4, \"Data Reporting Analyst II\", \"Newark, NJ\", 53000, 89000, 19, 40.735657, -74.1723667, [\"SQL\", \"SAS\", \"Excel\"]], [\"Montefiore Medical\", 3.6, \"DATA ANALYST PROGRAMMER\", \"New York, NY\", 45000, 68000, 11, 40.7127753, -74.0059728, [\"Python\", \"SQL\", \"R\", \"NoSQL\"]], [\"New York Times\", 3.7, \"Data & Insights Analyst, Wirecutter\", \"New York, NY\", 67000, 109000, 6, 40.7127753, -74.0059728, [\"Python\", \"SQL\", \"R\", \"Tableau\", \"Oracle\", \"Excel\", \"MySQL\"]], [\"Columbia University\", 4.1, \"Data Analyst\", \"New York, NY\", 40000, 65000, 11, 40.7127753, -74.0059728, [\"SQL\", \"R\"]], [\"Spotify\", 3.6, \"Data Analyst, Royalties and Accounting\", \"New York, NY\", 59000, 96000, 25, 40.7127753, -74.0059728, [\"Python\", \"SQL\", \"Tableau\"]], [\"Compass\", 4.3, \"Data Analyst\", \"New York, NY\", 46000, 73000, 4, 40.7127753, -74.0059728, [\"Python\", \"SQL\", \"R\", \"Tableau\", \"Excel\"]], [\"NYU\", 4.2, \"Data Modeling Analyst\", \"New York, NY\", 66000, 91000, 1, 40.7127753, -74.0059728, [\"SQL\", \"R\", \"Tableau\", \"SAS\", \"Scripting\", \"SPSS\"]], [\"MARSH\", 3.5, \"Data Analyst\", \"New York, NY\", 39000, 63000, 4, 40.7127753, -74.0059728, [\"Python\", \"SQL\", \"R\", \"Spark\", \"Tableau\", \"Excel\"]], [\"Net@Work\", 2.6, \"Data Analyst\", \"New York, NY\", 50000, 78000, 1, 40.7127753, -74.0059728, [\"SQL\", \"Tableau\", \"Excel\"]], [\"BARK\", 3.3, \"Data Analyst\", \"New York, NY\", 48000, 76000, 7, 40.7127753, -74.0059728, [\"Python\", \"SQL\", \"R\", \"Excel\"]], [\"eCom Solutions\", 4.5, \"Data Analyst\", \"New Hyde Park, NY\", 47000, 76000, 4, 40.7351018, -73.6879082, [\"SQL\", \"R\"]], [\"New York District Attorney's Office\", 3.8, \"Data Analyst\", \"New York, NY\", 54000, 86000, 20, 40.7127753, -74.0059728, [\"Python\", \"SQL\", \"R\", \"SAS\", \"Microsoft Office\", \"Excel\"]], [\"CASES\", 2.9, \"Senior Data Analyst, Pre-Trial Services\", \"Brooklyn, NY\", 51000, 81000, 15, 40.6781784, -73.9441579, [\"SQL\", \"R\", \"Excel\", \"SPSS\"]], [\"Work Market\", 4.5, \"Data Analyst\", \"New York, NY\", 50000, 80000, 14, 40.7127753, -74.0059728, [\"Python\", \"SQL\", \"R\", \"Java\", \"Tableau\", \"AWS\", \"Data Analysis\", \"PostgreSQL\", \"MySQL\", \"S3\"]], [\"Bazaarvoice\", 3.7, \"Data Analyst\", \"New York, NY\", 64000, 101000, 21, 40.7127753, -74.0059728, [\"SQL\", \"R\", \"Excel\"]], [\"ThreatMetrix\", 3.8, \"Data Analyst\", \"New York, NY\", 49000, 77000, 13, 40.7127753, -74.0059728, [\"Python\", \"SQL\", \"R\", \"SAS\", \"Excel\"]], [\"CommonBond\", 4.0, \"Data Analyst\", \"New York, NY\", 51000, 84000, 20, 40.7127753, -74.0059728, [\"Python\", \"SQL\", \"R\"]], [\"Uber\", 4.1, \"Data Analyst\", \"New York, NY\", 63000, 97000, 2, 40.7127753, -74.0059728, [\"Python\", \"SQL\", \"R\", \"Tableau\", \"Excel\"]], [\"City of New York\", 3.5, \"Data Analyst\", \"New York, NY\", 57000, 91000, 11, 40.7127753, -74.0059728, [\"SQL\", \"R\", \"Excel\", \"SPSS\"]], [\"ITN Networks\", 2.7, \"Data Analyst\", \"New York, NY\", 34000, 55000, 30, 40.7127753, -74.0059728, [\"Python\", \"SQL\", \"R\", \"Tableau\", \"Excel\", \"Business Intelligence\"]], [\"PlaceIQ\", 3.3, \"Data Analyst\", \"New York, NY\", 55000, 88000, 6, 40.7127753, -74.0059728, [\"Python\", \"SQL\", \"R\", \"Scala\", \"Excel\"]], [\"Ventera\", 4.4, \"Business Data Analyst\", \"New York, NY\", 71000, 106000, 12, 40.7127753, -74.0059728, [\"SQL\", \"R\", \"Oracle\", \"Excel\"]], [\"EHE\", 2.8, \"Data Analyst\", \"New York, NY\", 53000, 81000, 25, 40.7127753, -74.0059728, [\"Python\", \"SQL\", \"R\", \"Tableau\", \"SAS\", \"AWS\", \"Excel\"]], [\"Citadel\", 4.3, \"Office of the CAO | Reference Data, Operations Analyst\", \"New York, NY\", 68000, 92000, 4, 40.7127753, -74.0059728, [\"R\"]], [\"Net at Work\", 2.6, \"Data Analyst - NYC\", \"New York, NY\", 50000, 78000, 5, 40.7127753, -74.0059728, [\"SQL\", \"Tableau\", \"Excel\"]], [\"Triton Digital\", 3.3, \"Data Analyst, Technology\", \"New York, NY\", 37000, 57000, 20, 40.7127753, -74.0059728, [\"R\", \"Excel\"]], [\"Point72\", 4.1, \"Data Analyst\", \"New York, NY\", 73000, 115000, 4, 40.7127753, -74.0059728, [\"Python\", \"SQL\", \"R\", \"Java\", \"Excel\"]], [\"Columbia University\", 4.1, \"Associate Data and Research Analyst\", \"New York, NY\", 36000, 56000, 30, 40.7127753, -74.0059728, [\"Python\", \"SQL\", \"R\", \"Microsoft Office\", \"Excel\"]], [\"Quartz Media Inc\", 3.9, \"Data Analyst\", \"New York, NY\", 43000, 71000, 15, 40.7127753, -74.0059728, [\"R\"]], [\"Knotel\", 4.1, \"Data Analyst\", \"New York, NY\", 43000, 72000, 17, 40.7127753, -74.0059728, [\"Python\", \"SQL\", \"R\", \"Tableau\", \"Git\"]], [\"eTeam Inc.\", 4.0, \"SQL Data Analyst\", \"New York, NY\", 58000, 97000, 30, 40.7127753, -74.0059728, [\"SQL\", \"R\", \"Oracle\"]], [\"Compass\", 4.3, \"Data Analyst - Search\", \"New York, NY\", 46000, 73000, 23, 40.7127753, -74.0059728, [\"SQL\", \"R\", \"MySQL\", \"MongoDB\"]], [\"Stout Systems Development\", 4.8, \"Data Analyst\", \"White Plains, NY\", 75000, 95000, 4, 41.03398620000001, -73.7629097, [\"R\", \"Tableau\"]], [\"Itemize\", 4.0, \"Data Analyst\", \"New York, NY\", 46000, 73000, 1, 40.7127753, -74.0059728, [\"Python\", \"SQL\", \"R\", \"Excel\", \"MySQL\", \"Business Intelligence\"]], [\"Bounce Exchange\", 4.3, \"Data Analyst\", \"New York, NY\", 52000, 84000, 8, 40.7127753, -74.0059728, [\"SQL\", \"R\", \"Excel\", \"Business Intelligence\"]], [\"Bloomberg\", 3.8, \"2020 Financial Research Data Analyst\", \"New York, NY\", 58000, 85000, 30, 40.7127753, -74.0059728, []], [\"Cox Media Group\", 3.5, \"Data Insights Analyst\", \"New York, NY\", 48000, 79000, 12, 40.7127753, -74.0059728, [\"R\", \"Microsoft Office\", \"Excel\"]], [\"J.P.Morgan\", 3.9, \"Asset Management - Global Equities - Data Science - Analyst/Associate\", \"New York, NY\", 65000, 108000, 13, 40.7127753, -74.0059728, [\"Python\", \"R\", \"Git\", \"Data Science\"]], [\"Montefiore Medical\", 3.6, \"DATA ANALYST\", \"New York, NY\", 45000, 68000, 11, 40.7127753, -74.0059728, [\"R\", \"Excel\"]], [\"Citadel\", 4.3, \"Office of the CAO | Reference Data, Technical Operations Analyst | Chicago/\", \"New York, NY\", 68000, 92000, 4, 40.7127753, -74.0059728, [\"Python\", \"SQL\", \"R\", \"Tableau\", \"Project Management\"]], [\"CASES\", 2.9, \"Data Analyst I\", \"Brooklyn, NY\", 42000, 69000, 28, 40.6781784, -73.9441579, [\"R\", \"Microsoft Office\", \"Excel\"]], [\"Guy Carpenter\", 3.1, \"Data Analyst\", \"New York, NY\", 60000, 96000, 7, 40.7127753, -74.0059728, [\"Python\", \"SQL\", \"R\", \"Spark\", \"Tableau\", \"Excel\"]], [\"Prudential\", 3.5, \"Investigations Data Analyst\", \"Newark, NJ\", 40000, 64000, 1, 40.735657, -74.1723667, [\"R\", \"Excel\"]], [\"NYU\", 4.2, \"Data Analyst\", \"New York, NY\", 35000, 57000, 26, 40.7127753, -74.0059728, [\"SQL\", \"R\", \"Tableau\", \"Excel\"]], [\"BNY Mellon\", 3.1, \"Analyst,Data Management Quantitative Analysis\", \"New York, NY\", 48000, 77000, 30, 40.7127753, -74.0059728, [\"Python\", \"R\", \"Excel\"]], [\"IgnitionOne\", 3.1, \"Data Analyst\", \"New York, NY\", 56000, 87000, 21, 40.7127753, -74.0059728, [\"Python\", \"SQL\", \"Machine Learning\", \"R\", \"Java\", \"Tableau\", \"AWS\", \"Scala\", \"AI\", \"Microsoft Office\", \"Excel\"]], [\"TECHNOCRAFT Solutions\", 3.6, \"Data analyst\", \"New York, NY\", 46000, 77000, 22, 40.7127753, -74.0059728, [\"Python\", \"SQL\", \"R\", \"Java\", \"Tableau\", \"Oracle\", \"JavaScript\"]], [\"Columbia University\", 4.1, \"Marketing and Enrollment Data Analyst\", \"New York, NY\", 40000, 65000, 3, 40.7127753, -74.0059728, [\"R\", \"Excel\"]], [\"MediaMath\", 3.7, \"Data Analyst / Data Engineer\", \"New York, NY\", 96000, 129000, 27, 40.7127753, -74.0059728, [\"Python\", \"SQL\", \"R\", \"Hadoop\", \"Spark\", \"Hive\", \"AWS\", \"Excel\", \"S3\"]], [\"Procter & Gamble\", 4.0, \"Data Analyst\", \"Newark, NJ\", 62000, 105000, 7, 40.735657, -74.1723667, [\"Python\", \"SQL\", \"R\", \"Spark\", \"Java\", \"Tableau\", \"SAS\", \"AI\", \"Excel\"]], [\"CompStak\", 4.4, \"Data Operations Analyst\", \"New York, NY\", 61000, 92000, 18, 40.7127753, -74.0059728, [\"SQL\", \"R\", \"Excel\", \"MySQL\"]], [\"ApTask\", 4.2, \"Business/Data Analyst\", \"New York, NY\", 60000, 94000, 6, 40.7127753, -74.0059728, [\"SQL\", \"R\", \"Data Analysis\"]], [\"Capgemini\", 3.7, \"Data Analyst\", \"New York, NY\", 50000, 85000, 12, 40.7127753, -74.0059728, [\"SQL\", \"R\", \"Oracle\"]], [\"Resourcesys\", 4.5, \"Data Analyst\", \"New Hyde Park, NY\", 50000, 84000, 7, 40.7351018, -73.6879082, [\"SQL\", \"Tableau\", \"Excel\"]], [\"Shutterstock\", 2.9, \"Data Analyst\", \"New York, NY\", 71000, 111000, 16, 40.7127753, -74.0059728, [\"Python\", \"SQL\", \"R\", \"Tableau\", \"Excel\"]], [\"New York-Presbyterian Hospital\", 4.1, \"Data Analyst - ACO\", \"New York, NY\", 51000, 77000, 13, 40.7127753, -74.0059728, [\"Python\", \"SQL\", \"R\", \"Tableau\", \"SAS\", \"Excel\"]], [\"Capco\", 3.8, \"Data Analyst\", \"New York, NY\", 53000, 84000, 21, 40.7127753, -74.0059728, [\"SQL\", \"R\", \"SAS\", \"AI\", \"Excel\", \"SPSS\"]], [\"MealPal\", 3.0, \"Data Analyst\", \"New York, NY\", 54000, 87000, 7, 40.7127753, -74.0059728, [\"SQL\", \"R\", \"Excel\"]], [\"AXION Healthcare Solutions\", 3.5, \"Data Analyst\", \"New York, NY\", 41000, 65000, 7, 40.7127753, -74.0059728, [\"R\", \"AI\"]], [\"Global Atlantic Financial Group\", 4.3, \"Mortgage Whole Loan Data & Collateral Analyst\", \"New York, NY\", 44000, 66000, 6, 40.7127753, -74.0059728, [\"SQL\", \"R\", \"Excel\"]], [\"Intellipro Group Inc.\", 3.4, \"Data Analyst\", \"New York, NY\", 65000, 101000, 5, 40.7127753, -74.0059728, [\"R\", \"Excel\"]], [\"Citibank\", 3.4, \"Data Quality Analyst\", \"New York, NY\", 50000, 79000, 5, 40.7127753, -74.0059728, [\"Python\", \"SQL\", \"R\", \"Oracle\", \"Excel\", \"S3\"]], [\"Two Sigma\", 4.4, \"Data Research and Acceleration Analyst\", \"New York, NY\", 108000, 175000, 6, 40.7127753, -74.0059728, [\"Python\", \"SQL\", \"Excel\"]], [\"Tiffany & Co.\", 3.3, \"Senior Analyst, Customer Analytics & Data Science\", \"New York, NY\", 68000, 110000, 6, 40.7127753, -74.0059728, [\"Python\", \"SQL\", \"R\", \"Tableau\", \"SAS\", \"AWS\", \"Excel\", \"Data Science\"]], [\"UBS\", 3.5, \"Data Quality Analyst\", \"Weehawken, NJ\", 49000, 77000, 3, 40.7663711, -74.02537149999999, [\"SQL\", \"R\", \"Excel\"]], [\"Compass\", 4.3, \"Senior Data Analyst - New York City\", \"New York, NY\", 87000, 132000, 27, 40.7127753, -74.0059728, [\"Python\", \"SQL\", \"R\", \"Tableau\", \"PostgreSQL\", \"MySQL\"]], [\"ADP\", 3.7, \"Data Analyst\", \"New York, NY\", 49000, 79000, 14, 40.7127753, -74.0059728, [\"Python\", \"SQL\", \"R\", \"Java\", \"Tableau\", \"AWS\", \"Data Analysis\", \"PostgreSQL\", \"MySQL\", \"S3\"]], [\"Fragomen Worldwide\", 3.1, \"Data Analyst\", \"New York, NY\", 48000, 80000, 1, 40.7127753, -74.0059728, [\"R\", \"Tableau\", \"Excel\"]], [\"ApTask\", 4.2, \"Data Analyst\", \"New York, NY\", 62000, 105000, 6, 40.7127753, -74.0059728, [\"SQL\", \"R\", \"Data Analysis\"]], [\"RMS Computer Corp.\", 3.8, \"Business/Data Analyst\", \"New York, NY\", 48000, 74000, 6, 40.7127753, -74.0059728, [\"R\"]], [\"Milliman\", 4.0, \"Healthcare Data Analyst\", \"New York, NY\", 49000, 78000, 19, 40.7127753, -74.0059728, [\"SQL\", \"R\", \"Tableau\", \"SAS\", \"Excel\"]], [\"WebMD\", 2.5, \"Associate Data Reporting Analyst\", \"New York, NY\", 55000, 92000, 18, 40.7127753, -74.0059728, [\"SQL\", \"R\", \"Tableau\", \"Oracle\", \"Linux\", \"Microsoft Office\", \"Excel\", \"Business Intelligence\"]], [\"Vineyard Vines\", 3.8, \"Data Scientist/ Business Analyst\", \"Stamford, CT\", 103000, 138000, 22, 41.0534302, -73.5387341, [\"Python\", \"SQL\", \"Machine Learning\", \"R\", \"AI\", \"Azure\"]], [\"Peloton Interactive\", 3.5, \"IT Technical Business Analyst - Data Integrations\", \"New York, NY\", 62000, 100000, 4, 40.7127753, -74.0059728, [\"SQL\", \"R\", \"Oracle\", \"MySQL\"]], [\"APN Consulting\", 4.2, \"Data Analyst\", \"Jersey City, NJ\", 59000, 95000, 27, 40.7177545, -74.0431435, [\"R\", \"Tableau\", \"Excel\"]], [\"TechDigital Corporation\", 3.5, \"Data Analyst - Analytics/SQL\", \"New York, NY\", 48000, 79000, 30, 40.7127753, -74.0059728, [\"SQL\", \"R\", \"Oracle\"]], [\"EmblemHealth\", 2.7, \"Data Analyst, Special Investigations Unit\", \"New York, NY\", 47000, 76000, 2, 40.7127753, -74.0059728, [\"SQL\", \"R\", \"SAS\", \"Excel\"]], [\"Major League Baseball\", 3.0, \"BI Data Analyst\", \"New York, NY\", 57000, 95000, 7, 40.7127753, -74.0059728, [\"Python\", \"SQL\", \"R\", \"Java\", \"Tableau\", \"Excel\", \"MySQL\", \"Business Intelligence\"]], [\"CipherHealth\", 3.6, \"Data Analyst, Customer Success\", \"New York, NY\", 44000, 69000, 8, 40.7127753, -74.0059728, [\"SQL\", \"R\", \"Excel\"]], [\"S&P Global\", 3.5, \"Quantitative Analyst/Data Scientist\", \"New York, NY\", 121000, 194000, 6, 40.7127753, -74.0059728, [\"Python\", \"SQL\", \"R\", \"Excel\"]], [\"Mount Sinai Health System\", 3.4, \"Data Analyst I, Department of OBGYN\", \"New York, NY\", 45000, 66000, 7, 40.7127753, -74.0059728, [\"R\", \"Excel\"]], [\"Diverse Lynx\", 3.6, \"Data Analyst\", \"Jersey City, NJ\", 51000, 86000, 12, 40.7177545, -74.0431435, [\"R\", \"Excel\"]], [\"Millennium Partners\", 4.2, \"Data Analyst/Engineer\", \"New York, NY\", 70000, 113000, 3, 40.7127753, -74.0059728, [\"Python\", \"SQL\", \"R\", \"Linux\", \"Excel\"]], [\"Mount Sinai Health System\", 3.4, \"Data Analyst II, Environmental Medicine and Public Health\", \"New York, NY\", 54000, 79000, 5, 40.7127753, -74.0059728, [\"SQL\", \"R\", \"Java\"]], [\"Brooklyn Hospital Center\", 2.9, \"Data Analyst\", \"Brooklyn, NY\", 47000, 70000, 25, 40.6781784, -73.9441579, [\"R\", \"AI\"]], [\"New York Life Insurance Company\", 3.5, \"Data Analyst\", \"New York, NY\", 51000, 83000, 25, 40.7127753, -74.0059728, [\"SQL\", \"R\", \"Hadoop\", \"Java\", \"Tableau\", \"SAS\", \"Microsoft Office\", \"Excel\"]], [\"American Civil Liberties Union\", 3.1, \"Data Analyst\", \"New York, NY\", 45000, 75000, 24, 40.7127753, -74.0059728, [\"Python\", \"SQL\", \"R\", \"Tableau\"]], [\"Mount Sinai Health System\", 3.4, \"Data Analyst I, Department of Psychiatry\", \"New York, NY\", 45000, 66000, 13, 40.7127753, -74.0059728, [\"R\", \"Excel\"]], [\"Tachyon Technologies\", 4.3, \"Data Analyst\", \"New York, NY\", 49000, 82000, 22, 40.7127753, -74.0059728, [\"Python\", \"SQL\", \"R\", \"Tableau\"]], [\"NYC Criminal Justice Agency\", 2.7, \"Data Analyst\", \"New York, NY\", 44000, 73000, 14, 40.7127753, -74.0059728, [\"Python\", \"R\", \"Excel\", \"SPSS\"]], [\"New York-Presbyterian Hospital\", 4.1, \"Senior Financial Analyst/Data Analyst - Decision Support\", \"New York, NY\", 65000, 93000, 5, 40.7127753, -74.0059728, [\"SQL\", \"R\", \"Excel\"]], [\"UncommonGoods\", 3.8, \"Data Analyst\", \"Brooklyn, NY\", 47000, 77000, 14, 40.6781784, -73.9441579, [\"Python\", \"SQL\", \"R\", \"Tableau\", \"Git\"]], [\"Crescens Inc.\", 3.2, \"Data Analyst\", \"Jersey City, NJ\", 38000, 64000, 26, 40.7177545, -74.0431435, [\"SQL\", \"R\", \"Tableau\", \"Excel\"]], [\"City of New York\", 3.5, \"Data Analyst, Harlem Neighborhood Health Action Center\", \"New York, NY\", 50000, 83000, 7, 40.7127753, -74.0059728, [\"R\", \"Tableau\", \"SAS\", \"Microsoft Office\", \"Excel\", \"SPSS\"]], [\"Child Mind Institute\", 3.6, \"Data Analyst, Autism Center & Center for the Developing Brain\", \"New York, NY\", 49000, 74000, 7, 40.7127753, -74.0059728, [\"Python\", \"R\"]], [\"Intervarsity\", 4.2, \"Data Analyst\", \"New York, NY\", 39000, 64000, 14, 40.7127753, -74.0059728, [\"SQL\", \"R\", \"Tableau\", \"Data Analysis\", \"SPSS\"]], [\"Real Capital Analytics\", 3.9, \"Data Analyst\", \"New York, NY\", 39000, 66000, 13, 40.7127753, -74.0059728, [\"Python\", \"SQL\", \"R\", \"Tableau\", \"SAS\", \"Excel\"]], [\"United Federation of Teachers\", 3.5, \"Data Analyst\", \"New York, NY\", 46000, 72000, 28, 40.7127753, -74.0059728, [\"R\"]], [\"AmTrust Financial Services, Inc.\", 3.0, \"Data Analyst\", \"Jersey City, NJ\", 48000, 79000, 5, 40.7177545, -74.0431435, [\"SQL\", \"R\", \"Tableau\"]], [\"Refinitiv\", 3.5, \"Data Analyst\", \"New York, NY\", 41000, 70000, 13, 40.7127753, -74.0059728, [\"Python\", \"SQL\", \"R\", \"Oracle\", \"Excel\"]], [\"YAI - Seeing beyond disability\", 3.2, \"Data Analyst\", \"New York, NY\", 37000, 62000, 1, 40.7127753, -74.0059728, [\"R\", \"SAS\", \"AI\", \"Excel\", \"SPSS\"]], [\"Capco\", 3.8, \"Data Quality Analyst\", \"New York, NY\", 53000, 84000, 12, 40.7127753, -74.0059728, [\"R\"]], [\"Citi\", 3.6, \"Data Quality Analyst\", \"New York, NY\", 53000, 84000, 5, 40.7127753, -74.0059728, [\"Python\", \"SQL\", \"R\", \"Oracle\", \"Excel\", \"S3\"]], [\"Facebook\", 4.4, \"Data Analyst - News Partnerships, Media Partnerships\", \"New York, NY\", 73000, 119000, 1, 40.7127753, -74.0059728, [\"SQL\", \"R\", \"Hadoop\", \"Tableau\", \"Hive\", \"Excel\"]], [\"Deloitte\", 3.8, \"Specialist Analyst Data Scientist - Technology, Consulting - Insight Studio - UG - Northwestern University (Summer/Fall)\", \"New York, NY\", 132000, 185000, 27, 40.7127753, -74.0059728, [\"Python\", \"SQL\", \"R\"]], [\"BuzzFeed\", 2.9, \"Senior Data Analyst\", \"New York, NY\", 74000, 118000, 20, 40.7127753, -74.0059728, [\"Python\", \"SQL\", \"R\"]], [\"Simon Property Group\", 2.7, \"Venture Capital Analyst - Data Scientist\", \"New York, NY\", 81000, 120000, 8, 40.7127753, -74.0059728, [\"R\", \"Excel\"]], [\"Rockstar Games\", 3.7, \"Senior Data Analyst\", \"New York, NY\", 65000, 100000, 20, 40.7127753, -74.0059728, [\"Python\", \"SQL\", \"R\", \"Hadoop\", \"Tableau\", \"SAS\", \"SPSS\", \"Business Intelligence\"]], [\"Virtu Financial\", 3.4, \"Market Data Analyst\", \"New York, NY\", 64000, 100000, 26, 40.7127753, -74.0059728, [\"R\", \"Excel\"]], [\"Columbia University\", 4.1, \"Data Research Analyst\", \"New York, NY\", 37000, 57000, 30, 40.7127753, -74.0059728, [\"Python\", \"SQL\", \"R\", \"Microsoft Office\", \"Excel\", \"Project Management\"]], [\"Marsh & McLennan Companies\", 3.4, \"Data Analyst\", \"New York, NY\", 43000, 69000, 5, 40.7127753, -74.0059728, [\"Python\", \"SQL\", \"R\", \"Spark\", \"Tableau\", \"Excel\"]], [\"RMS Computer Corporation\", 3.8, \"Financial Reporting/Data Analyst -Investment Bank\", \"Jersey City, NJ\", 47000, 79000, 12, 40.7177545, -74.0431435, [\"R\", \"Excel\"]], [\"Dime Community Bank\", 2.9, \"Data Analyst\", \"Brooklyn, NY\", 35000, 57000, 11, 40.6781784, -73.9441579, [\"Python\", \"SQL\", \"R\", \"Java\", \"SAS\", \"Excel\"]], [\"CBS\", 3.6, \"Analyst, Data Governance\", \"New York, NY\", 44000, 78000, 30, 40.7127753, -74.0059728, [\"R\", \"Excel\"]], [\"Point72\", 4.1, \"Data Support Analyst\", \"New York, NY\", 67000, 103000, 18, 40.7127753, -74.0059728, [\"R\", \"Excel\"]], [\"Salesforce\", 4.3, \"Winter 2020 Co-op - Data and Automation Analyst\", \"New York, NY\", 62000, 82000, 1, 40.7127753, -74.0059728, [\"R\", \"Data Science\"]], [\"Elite Technical\", 5.0, \"Healthcare Data Analyst\", \"New York, NY\", 45000, 75000, 18, 40.7127753, -74.0059728, [\"SQL\", \"R\", \"SAS\", \"Excel\"]], [\"Gallagher\", 3.1, \"Data Analyst\", \"New York, NY\", 46000, 73000, 12, 40.7127753, -74.0059728, [\"R\"]], [\"NTT DATA, Inc.\", 3.0, \"BA/Data Analyst\", \"Jersey City, NJ\", 50000, 80000, 3, 40.7177545, -74.0431435, [\"R\", \"AWS\", \"Data Analysis\"]], [\"Compass\", 4.3, \"Senior Data Analyst - Data Infrastructure\", \"New York, NY\", 87000, 132000, 13, 40.7127753, -74.0059728, [\"SQL\", \"Tableau\"]], [\"FDM Group\", 3.3, \"New York - Junior Data / Business Intelligence Analyst New York\", \"New York, NY\", 36000, 51000, 4, 40.7127753, -74.0059728, [\"Data Analysis\", \"Excel\", \"Business Intelligence\"]], [\"Cygnus Professionals\", 3.9, \"Data Analyst\", \"New York, NY\", 43000, 70000, 30, 40.7127753, -74.0059728, [\"Python\", \"SQL\", \"R\", \"Tableau\"]], [\"Mount Sinai Health System\", 3.4, \"Data Analyst I- MSH Physcian Access Services - FT- Days\", \"New York, NY\", 45000, 66000, 1, 40.7127753, -74.0059728, [\"R\", \"Excel\"]], [\"Blue Apron\", 3.0, \"Senior Data Analyst\", \"New York, NY\", 63000, 98000, 1, 40.7127753, -74.0059728, [\"SQL\", \"R\", \"Tableau\"]], [\"Mount Sinai Health System\", 3.4, \"Data Analyst I - Geriatrics and Palliative Care\", \"New York, NY\", 41000, 60000, 21, 40.7127753, -74.0059728, [\"R\"]], [\"XDuce\", 4.2, \"Data Analyst - Analytics/SQL\", \"New York, NY\", 46000, 79000, 30, 40.7127753, -74.0059728, [\"SQL\", \"R\", \"Oracle\"]], [\"Virtus Partners\", 3.0, \"Data Analyst II or III (Structured Finance)\", \"New York, NY\", 46000, 74000, 10, 40.7127753, -74.0059728, [\"R\", \"Excel\"]], [\"NYC Health + Hospitals\", 3.3, \"Data Quality Analyst\", \"New York, NY\", 59000, 89000, 1, 40.7127753, -74.0059728, [\"SQL\", \"R\", \"Microsoft Office\", \"Excel\", \"Project Management\"]], [\"NYU Langone Health\", 4.0, \"Sr Data Analyst- Population Health\", \"New York, NY\", 62000, 90000, 11, 40.7127753, -74.0059728, [\"SQL\", \"R\", \"SAS\"]], [\"The Children's Place\", 2.7, \"Data Scientist - Digital Analyst\", \"Secaucus, NJ\", 101000, 146000, 13, 40.7895453, -74.05652979999999, [\"Python\", \"SQL\", \"R\", \"SAS\"]], [\"DVF Studio, LLC\", 2.9, \"Master Data Analyst\", \"New York, NY\", 49000, 79000, 21, 40.7127753, -74.0059728, [\"R\", \"Excel\"]], [\"IPRO\", 3.2, \"Data Analyst\", \"Lake Success, NY\", 41000, 63000, 26, 40.7698453, -73.70904279999999, [\"R\", \"SAS\", \"Excel\", \"SPSS\"]], [\"Fidelis Group\", 3.5, \"Data Analyst\", \"Little Ferry, NJ\", 36000, 57000, 13, 40.8528777, -74.0420848, [\"SQL\", \"R\", \"Java\", \"Git\", \"Excel\", \"S3\"]], [\"Lorven Technologies Inc\", 4.0, \"Data Analyst - Analytics/SQL\", \"New York, NY\", 47000, 76000, 30, 40.7127753, -74.0059728, [\"SQL\", \"R\", \"Oracle\"]], [\"Colgate-Palmolive\", 4.0, \"Data Analyst\", \"Piscataway, NJ\", 52000, 88000, 25, 40.554887, -74.4642861, [\"Python\", \"SQL\", \"R\", \"Java\", \"Oracle\", \"Git\", \"PostgreSQL\", \"MySQL\", \"MongoDB\"]], [\"Chubb\", 3.4, \"Data Analyst\", \"Whitehouse Station, NJ\", 67000, 106000, 21, 40.6155663, -74.7702576, [\"SQL\", \"R\", \"Excel\", \"Business Intelligence\"]], [\"IQVIA\", 3.5, \"Data Analyst (Home-based) - Eastern Timezone - XWA\", \"New York, NY\", 43000, 73000, 17, 40.7127753, -74.0059728, [\"R\", \"Data Analysis\", \"Excel\", \"Business Intelligence\"]], [\"Alibaba Group\", 4.0, \"ICBU Senior Data Analyst Alibaba.com\", \"New York, NY\", 83000, 126000, 3, 40.7127753, -74.0059728, [\"R\"]], [\"TechnoSphere, Inc\", 4.9, \"Junior/Mid-level Data Analyst with AML\", \"New York, NY\", 36000, 59000, 1, 40.7127753, -74.0059728, [\"Excel\"]], [\"Itlize Global\", 4.7, \"Data Analyst\", \"Piscataway, NJ\", 39000, 65000, 8, 40.554887, -74.4642861, [\"SQL\", \"R\", \"PostgreSQL\", \"MySQL\"]], [\"IEEE\", 3.4, \"Data Analyst\", \"Piscataway, NJ\", 38000, 62000, 4, 40.554887, -74.4642861, [\"R\", \"Tableau\", \"Oracle\", \"Microsoft Office\", \"Excel\"]], [\"Noom US\", 4.4, \"Senior Data Analyst\", \"New York, NY\", 66000, 105000, 1, 40.7127753, -74.0059728, [\"Python\", \"SQL\", \"R\", \"Tableau\"]], [\"WW International (formerly Weight Watchers)\", 3.1, \"Data Analyst\", \"New York, NY\", 50000, 82000, 18, 40.7127753, -74.0059728, [\"SQL\", \"R\", \"Excel\"]], [\"Legg Mason\", 2.9, \"Data Governance Analyst\", \"New York, NY\", 59000, 95000, 30, 40.7127753, -74.0059728, [\"Python\", \"R\", \"Tableau\", \"Excel\"]], [\"Tata Consultancy Services (North America)\", 3.7, \"Data Modeler/analyst\", \"New York, NY\", 84000, 113000, 10, 40.7127753, -74.0059728, [\"SQL\", \"R\", \"Oracle\", \"Excel\"]], [\"Sony Music Entertainment\", 4.1, \"Senior Data Operations Analyst, Data Analytics\", \"New York, NY\", 68000, 98000, 15, 40.7127753, -74.0059728, [\"Python\", \"SQL\", \"R\", \"Java\", \"Tableau\", \"Git\"]], [\"Brown Brothers Harriman\", 3.2, \"Data Governance Technical Analyst\", \"Jersey City, NJ\", 60000, 102000, 1, 40.7177545, -74.0431435, [\"SQL\", \"R\", \"Big Data\", \"Excel\"]], [\"LOGIXtech Solutions\", 2.9, \"Business Data Analyst w/ SQL\", \"New York, NY\", 74000, 111000, 1, 40.7127753, -74.0059728, [\"SQL\", \"R\", \"Project Management\"]], [\"Square\", 3.9, \"Senior Compliance Data Analyst\", \"New York, NY\", 75000, 116000, 27, 40.7127753, -74.0059728, [\"Python\", \"SQL\", \"R\", \"Git\", \"Excel\"]], [\"Talent Inc.\", 3.8, \"Senior Data Analyst\", \"New York, NY\", 54000, 91000, 7, 40.7127753, -74.0059728, [\"SQL\", \"R\", \"Tableau\", \"NoSQL\", \"Excel\"]], [\"Sphinix Network Solutions Inc.\", 1.0, \"Tech Business/Data Analyst\", \"New York, NY\", 44000, 67000, 21, 40.7127753, -74.0059728, [\"Python\", \"SQL\", \"R\", \"Java\", \"Excel\", \"Perl\", \"Software Development\"]], [\"WW International (formerly Weight Watchers)\", 3.1, \"Data Analyst (Marketing Analytics)\", \"New York, NY\", 45000, 76000, 5, 40.7127753, -74.0059728, [\"SQL\", \"R\", \"Excel\"]], [\"Catholic Health Services of Long Island\", 3.2, \"Data Analyst\", \"Roslyn, NY\", 65000, 96000, 10, 40.7998227, -73.6509622, [\"R\"]], [\"EmblemHealth\", 2.7, \"Data Governance Analyst Technical Steward\", \"New York, NY\", 75000, 107000, 2, 40.7127753, -74.0059728, [\"SQL\", \"R\", \"Tableau\", \"Data Warehouse\", \"Excel\", \"Project Management\"]], [\"Lovesac\", 2.9, \"Data Analyst\", \"Stamford, CT\", 36000, 59000, 5, 41.0534302, -73.5387341, [\"R\", \"Microsoft Office\", \"Excel\"]], [\"Cantor Fitzgerald\", 2.5, \"Cantor Fitzgerald: Client Data Management, Analyst\", \"New York, NY\", 50000, 80000, 20, 40.7127753, -74.0059728, [\"R\", \"Excel\"]], [\"SmartSource Rentals\", 3.6, \"Data Analyst\", \"Hauppauge, NY\", 50000, 84000, 18, 40.8256536, -73.2026138, [\"Python\", \"SQL\", \"R\", \"Tableau\", \"Big Data\", \"Oracle\", \"Data Analysis\", \"Azure\", \"Excel\"]], [\"The Orchard\", 3.4, \"Senior Data Operations Analyst, Data Analytics\", \"New York, NY\", 50000, 73000, 15, 40.7127753, -74.0059728, [\"Python\", \"SQL\", \"R\", \"Java\", \"Tableau\", \"Git\"]], [\"Regeneron\", 3.7, \"NGS Data Analyst, Regeneron Genetics Center\", \"Tarrytown, NY\", 59000, 96000, 25, 41.0762077, -73.85874609999999, [\"Python\", \"R\", \"AWS\", \"Git\"]], [\"Mount Sinai Medical Center\", 3.1, \"Data Analyst II, Environmental Medicine and Public Health\", \"New York, NY\", 54000, 80000, 3, 40.7127753, -74.0059728, [\"SQL\", \"R\", \"Java\"]], [\"Amazon\", 3.8, \"Sr. Business Intelligence Engineer / Data Analyst\", \"New York, NY\", 104000, 143000, 27, 40.7127753, -74.0059728, [\"Python\", \"SQL\", \"R\", \"Tableau\", \"AWS\", \"Excel\", \"Business Intelligence\"]], [\"UBS\", 3.5, \"Data Lineage Analyst - Data Governance\", \"New York, NY\", 83000, 115000, 7, 40.7127753, -74.0059728, [\"SQL\", \"R\", \"Excel\"]], [\"Diverse Lynx\", 3.6, \"QlikSense / Data Analyst\", \"Jersey City, NJ\", 51000, 86000, 30, 40.7177545, -74.0431435, [\"SQL\", \"R\"]], [\"Compu-Vision Consulting Inc.\", 3.3, \"Data Mapper/ Data Analyst\", \"New York, NY\", 74000, 120000, 30, 40.7127753, -74.0059728, [\"R\", \"Data Analysis\"]], [\"Emblem Health\", 2.7, \"Data Governance Analyst\", \"New York, NY\", 54000, 85000, 30, 40.7127753, -74.0059728, [\"SQL\", \"R\", \"Data Warehouse\", \"Excel\", \"Project Management\", \"Business Intelligence\"]], [\"Diverse Lynx\", 3.6, \"Sure shot: Data Analyst with SQL/PLSQL/BI/Datawarehousing\", \"New York, NY\", 51000, 86000, 30, 40.7127753, -74.0059728, [\"SQL\", \"R\", \"Excel\"]], [\"Discovery Communications, Inc.\", 3.5, \"Sr Data Analyst\", \"New York, NY\", 69000, 113000, 3, 40.7127753, -74.0059728, [\"Python\", \"SQL\", \"R\", \"Spark\", \"Java\", \"Tableau\", \"Big Data\", \"AWS\", \"Scala\", \"NoSQL\", \"Oracle\", \"Azure\", \"MySQL\", \"Data Science\", \"S3\"]], [\"TechnoSphere, Inc\", 4.9, \"AML Data Analyst\", \"New York, NY\", 45000, 75000, 18, 40.7127753, -74.0059728, [\"SQL\", \"Excel\"]], [\"ACA Compliance Group\", 4.3, \"Data Analyst\", \"New York, NY\", 39000, 65000, 30, 40.7127753, -74.0059728, [\"SQL\", \"R\", \"Data Warehouse\", \"Git\", \"Excel\"]], [\"Public Consulting Group\", 3.2, \"Data Analyst\", \"Princeton, NJ\", 50000, 78000, 13, 40.3572976, -74.6672226, [\"Python\", \"SQL\", \"R\", \"Tableau\", \"Excel\"]], [\"Metroplus Health Plan\", 3.0, \"Data Quality Analyst\", \"New York, NY\", 48000, 73000, 1, 40.7127753, -74.0059728, [\"SQL\", \"R\", \"Microsoft Office\", \"Excel\", \"Project Management\"]], [\"New York City Taxi and Limousine Commission\", 3.6, \"Program Data Analyst\", \"New York, NY\", 38000, 65000, 5, 40.7127753, -74.0059728, [\"Python\", \"SQL\", \"R\", \"Excel\"]], [\"Momentum Resource Solutions\", 3.6, \"Financial Data Analyst (Healthcare)\", \"New York, NY\", 45000, 72000, 4, 40.7127753, -74.0059728, [\"R\", \"Excel\"]], [\"Moxie\", 3.1, \"Analyst, Data Architecture\", \"New York, NY\", 102000, 145000, 3, 40.7127753, -74.0059728, [\"R\", \"Spark\"]], [\"Lorven Technologies Inc\", 4.0, \"Data Analyst\", \"New York, NY\", 47000, 76000, 30, 40.7127753, -74.0059728, [\"SQL\", \"Java\", \"SAS\", \"Excel\", \"SPSS\"]], [\"BGC Partners\", 3.1, \"Cantor Fitzgerald: Client Data Management, Analyst\", \"New York, NY\", 57000, 92000, 30, 40.7127753, -74.0059728, [\"R\", \"Excel\"]], [\"TechProjects\", 4.8, \"Data Analyst-Junior Profiles also works-Only NY/NJ Candidates Please on w2 Only\", \"Jersey City, NJ\", 41000, 63000, 10, 40.7177545, -74.0431435, [\"Python\", \"SQL\", \"R\", \"Tableau\", \"Excel\"]], [\"eTeam Inc.\", 4.0, \"Senior Data Analyst\", \"New York, NY\", 80000, 129000, 27, 40.7127753, -74.0059728, [\"SQL\", \"R\", \"Data Analysis\", \"Excel\"]], [\"Citadel\", 4.3, \"Office of the CAO | Reference Data, Project Manager/Business Analyst\", \"New York, NY\", 122000, 164000, 4, 40.7127753, -74.0059728, [\"Python\", \"SQL\", \"R\", \"Tableau\", \"Project Management\"]], [\"Compu-Vision Consulting Inc.\", 3.3, \"Data Analyst - Compu-Vision Consulting Inc.\", \"New York, NY\", 73000, 119000, 30, 40.7127753, -74.0059728, [\"R\"]], [\"Hospital for Special Surgery\", 4.2, \"Compliance Data Analyst\", \"New York, NY\", 52000, 77000, 4, 40.7127753, -74.0059728, [\"SQL\", \"R\", \"SAS\"]], [\"Verizon\", 3.6, \"Data Analyst\", \"Basking Ridge, NJ\", 54000, 84000, 6, 40.7066174, -74.5493284, [\"SQL\", \"R\", \".Net\"]], [\"M&T Bank\", 3.3, \"Salesforce Data Analyst\", \"New York, NY\", 53000, 84000, 2, 40.7127753, -74.0059728, [\"R\", \"Microsoft Office\", \"Excel\"]], [\"Seven Seven Softwares\", 3.5, \"Data Analyst\", \"Newark, NJ\", 53000, 90000, 30, 40.735657, -74.1723667, [\"Python\", \"SQL\", \"R\", \"Hadoop\", \"Spark\", \"Java\", \"Tableau\", \"Hive\", \"Excel\", \"JavaScript\", \"MySQL\", \"S3\"]], [\"Vera Institute of Justice\", 2.7, \"Data Analyst, CIJ\", \"New York, NY\", 38000, 64000, 21, 40.7127753, -74.0059728, [\"SQL\", \"R\", \"Tableau\", \"AWS\", \"Excel\"]], [\"Mount Sinai Medical Center\", 3.1, \"Data Analyst I, Department of Psychiatry\", \"New York, NY\", 38000, 58000, 30, 40.7127753, -74.0059728, [\"R\", \"Excel\"]], [\"SoFi\", 3.6, \"Senior/Staff Data Scientist, Analyst\", \"New York, NY\", 156000, 209000, 1, 40.7127753, -74.0059728, [\"Python\", \"SQL\", \"R\", \"Tableau\", \"Excel\"]], [\"MediaMath\", 3.7, \"Senior Data Analyst\", \"New York, NY\", 56000, 87000, 20, 40.7127753, -74.0059728, [\"Python\", \"SQL\", \"R\", \"Hadoop\", \"Spark\", \"Hive\", \"AWS\", \"Pig\", \"S3\"]], [\"Citi\", 3.6, \"Sr. Reference Data Business Analyst - SQL\", \"Jersey City, NJ\", 81000, 133000, 6, 40.7177545, -74.0431435, [\"SQL\", \"R\", \"Excel\"]], [\"Empower Professionals\", 4.7, \"Data Analyst - Empower Professionals\", \"Jersey City, NJ\", 50000, 85000, 30, 40.7177545, -74.0431435, [\"R\", \"Data Analysis\"]], [\"RELX Group\", 3.9, \"Fraud Data Analyst\", \"New York, NY\", 42000, 70000, 3, 40.7127753, -74.0059728, [\"Python\", \"SQL\", \"R\", \"SAS\", \"Excel\"]], [\"VIVA USA\", 4.6, \"Data Analyst\", \"Tarrytown, NY\", 45000, 76000, 3, 41.0762077, -73.85874609999999, [\"SQL\", \"R\", \"SAS\", \"Oracle\"]], [\"Guardian Life\", 3.4, \"2020 Data Systems Analyst Inernship\", \"Freehold, NJ\", 53000, 98000, 24, 40.2136754, -74.3000878, [\"Tableau\"]], [\"AC Lion (2)\", 4.2, \"Data Analyst, Go-Live\", \"New York, NY\", 40000, 67000, 8, 40.7127753, -74.0059728, [\"Python\", \"SQL\", \"R\", \"Excel\"]], [\"Cross River Bank\", 3.8, \"Data Analyst\", \"Fort Lee, NJ\", 46000, 74000, 7, 40.8509333, -73.9701381, [\"SQL\", \"R\", \"Tableau\", \"Oracle\", \"Data Science\"]], [\"Mount Sinai Health System\", 3.4, \"Data Science Analyst I Computational Biology - Genetics\", \"New York, NY\", 61000, 95000, 5, 40.7127753, -74.0059728, [\"Python\", \"R\", \"SAS\", \"Scala\"]], [\"S&P GLOBAL MARKET INTELLIGENCE\", 3.5, \"Quantitative Analyst/Data Scientist\", \"New York, NY\", 96000, 155000, 6, 40.7127753, -74.0059728, [\"Python\", \"SQL\", \"R\", \"Excel\"]], [\"Ideal Innovations\", 3.9, \"Data Analyst\", \"Wharton, NJ\", 59000, 99000, 13, 40.8931546, -74.5818254, [\"R\", \"MATLAB\", \"Microsoft Office\", \"Excel\"]], [\"City of New York\", 3.5, \"Senior Data Analyst M/WBE, Enterprise Data Services\", \"New York, NY\", 73000, 120000, 12, 40.7127753, -74.0059728, [\"Python\", \"SQL\", \"R\", \"SAS\", \"Excel\", \"SPSS\"]], [\"Berkeley Point Capital Holdings\", 3.6, \"Cantor Fitzgerald: Client Data Management, Analyst\", \"New York, NY\", 46000, 74000, 26, 40.7127753, -74.0059728, [\"R\", \"Excel\"]], [\"Diversified\", 3.4, \"Data & Reporting Business Analyst - Kenilworth, NJ\", \"New York, NY\", 56000, 92000, 4, 40.7127753, -74.0059728, [\"SQL\", \"R\", \"Tableau\", \"Excel\"]], [\"Asembia\", 2.7, \"Data Analyst\", \"Florham Park, NJ\", 51000, 86000, 7, 40.787878, -74.3882072, [\"SQL\", \"R\", \"Excel\"]], [\"Newmark Knight Frank\", 3.0, \"Cantor Fitzgerald: Client Data Management, Analyst\", \"New York, NY\", 44000, 70000, 26, 40.7127753, -74.0059728, [\"R\", \"Excel\"]], [\"Sumitomo Mitsui Banking Corporation (SMBC)\", 3.1, \"Data Analyst (Americas Transformation & Strategy Department) in New York, New York | Careers at New York\", \"New York, NY\", 45000, 71000, 30, 40.7127753, -74.0059728, [\"R\", \"Excel\"]], [\"Info. Objects\", 3.8, \"Data Analyst with Tableau (CTH ROLE, direct onsite , Only Locals)\", \"New Hyde Park, NY\", 36000, 61000, 11, 40.7351018, -73.6879082, [\"Tableau\", \"Excel\"]], [\"Softpath System LLC\", 3.8, \"Data Analyst 3\", \"New York, NY\", 52000, 87000, 20, 40.7127753, -74.0059728, [\"SQL\", \"R\", \"SAS\", \"Oracle\"]], [\"Pfizer\", 4.0, \"Senior Associate, Data Management Reporting Analyst, Central Services\", \"Peapack, NJ\", 75000, 112000, 15, 40.7151691, -74.6576091, [\"SQL\", \"R\", \"Java\", \"SAS\", \"Oracle\", \"Microsoft Office\", \"Excel\"]], [\"J.P. Morgan\", 3.9, \"Marketing Data Management Analyst, Corporate & Investment Bank\", \"New York, NY\", 48000, 77000, 5, 40.7127753, -74.0059728, [\"R\", \"Tableau\", \"Excel\"]], [\"Citibank\", 3.4, \"Sr. Reference Data Business Analyst - SQL\", \"Jersey City, NJ\", 99000, 152000, 6, 40.7177545, -74.0431435, [\"SQL\", \"R\", \"Excel\"]], [\"Hackensack Meridian Health\", 3.7, \"Clinical Data Analyst\", \"Edison, NJ\", 55000, 83000, 5, 40.5187154, -74.4120953, [\"R\"]], [\"Compass\", 4.3, \"Senior Data Analyst\", \"New York, NY\", 87000, 132000, 27, 40.7127753, -74.0059728, [\"Python\", \"SQL\", \"R\", \"Tableau\", \"PostgreSQL\", \"MySQL\"]], [\"Dow Jones\", 3.4, \"Audience Data Analyst\", \"New York, NY\", 47000, 75000, 20, 40.7127753, -74.0059728, [\"Python\", \"SQL\", \"R\", \"Tableau\", \"Linux\"]], [\"EY\", 3.7, \"Data Analyst, Data & Analytics (Advanced Analytics) (Manager) (Multiple Positions)\", \"Iselin, NJ\", 89000, 123000, 14, 40.5753817, -74.3223703, [\"Python\", \"SQL\", \"R\", \"Tableau\", \"SAS\", \"TensorFlow\", \"SPSS\"]], [\"Virtus Partners LLC\", 3.0, \"Data Analyst II or III\", \"New York, NY\", 46000, 74000, 20, 40.7127753, -74.0059728, [\"R\", \"Excel\"]], [\"Mercedes-Benz USA, LLC\", 3.6, \"Data Analyst, Accessories Supply Planning\", \"Atlanta, GA\", 46000, 74000, 12, 33.7489954, -84.3879824, [\"R\", \"Tableau\", \"Excel\", \"Project Management\", \"Business Intelligence\"]], [\"Mount Sinai Health System\", 3.4, \"Data Analyst II - Genetics\", \"New York, NY\", 59000, 87000, 3, 40.7127753, -74.0059728, [\"R\", \"Data Warehouse\"]], [\"AdvantageCare Physicians\", 2.1, \"Lead Data Analyst\", \"New York, NY\", 81000, 120000, 3, 40.7127753, -74.0059728, [\"SQL\", \"R\", \"SAS\", \"Oracle\", \"Excel\", \"Business Intelligence\"]], [\"Latham & Watkins\", 3.7, \"Marketing Communications Data Analyst\", \"New York, NY\", 69000, 115000, 21, 40.7127753, -74.0059728, [\"R\", \"Tableau\", \"Data Science\", \"Business Intelligence\"]], [\"Mount Sinai Medical Center\", 3.1, \"Data Analyst I, Department of OBGYN\", \"New York, NY\", 41000, 60000, 30, 40.7127753, -74.0059728, [\"R\", \"Excel\"]], [\"Genpact\", 3.5, \"Data Analyst (Data Quality & Management)\", \"New York, NY\", 43000, 71000, 4, 40.7127753, -74.0059728, [\"SQL\", \"R\", \"Tableau\", \"SAS\", \"Oracle\", \"Azure\", \"Excel\", \"Project Management\"]], [\"New York City Department of Education .\", 3.5, \"Business/Reporting Analyst, Office of Data Management\", \"New York, NY\", 57000, 95000, 1, 40.7127753, -74.0059728, [\"SQL\", \"R\", \"Microsoft Office\", \"Excel\", \"Business Intelligence\"]], [\"Montefiore Medical\", 3.6, \"PAYROLL DATA ANALYST\", \"New York, NY\", 45000, 68000, 15, 40.7127753, -74.0059728, [\"R\", \"Microsoft Office\", \"Excel\"]], [\"Healthfirst (New York)\", 2.8, \"Senior Data Analyst\", \"New York, NY\", 95000, 135000, 6, 40.7127753, -74.0059728, [\"Python\", \"SQL\", \"R\", \"Java\", \"Tableau\", \"Data Warehouse\", \"Excel\"]], [\"Brown Brothers Harriman\", 3.2, \"Data Platforms Senior Systems Business Analyst\", \"Jersey City, NJ\", 78000, 122000, 5, 40.7177545, -74.0431435, [\"SQL\", \"R\", \"Data Warehouse\", \"Excel\"]], [\"Walmart\", 3.2, \"Data Governance Business Analyst\", \"Hoboken, NJ\", 52000, 81000, 4, 40.7439905, -74.0323626, [\"R\"]], [\"Elsevier\", 3.5, \"Fraud Data Analyst\", \"New York, NY\", 41000, 68000, 12, 40.7127753, -74.0059728, [\"Python\", \"SQL\", \"R\", \"SAS\", \"Excel\"]], [\"SEMA4\", 3.1, \"Data Analyst - Pharma LifeSciences\", \"Stamford, CT\", 56000, 89000, 8, 41.0534302, -73.5387341, [\"Python\", \"SQL\", \"R\", \"SAS\", \"AWS\", \"Oracle\", \"Excel\", \"MySQL\"]], [\"The Bank of New York Mellon\", 3.1, \"Principal Data Analyst-Data Architect\", \"Florham Park, NJ\", 158000, 223000, 3, 40.787878, -74.3882072, [\"R\", \"Hadoop\", \"Oracle\", \"Excel\"]], [\"Emblem Health\", 2.7, \"Senior Data Analyst\", \"New York, NY\", 68000, 109000, 20, 40.7127753, -74.0059728, [\"R\", \"SAS\", \"Excel\"]], [\"Softpath System LLC\", 3.8, \"Data Analyst 4\", \"New York, NY\", 63000, 104000, 18, 40.7127753, -74.0059728, [\"R\", \"Tableau\", \"Oracle\", \"Excel\"]], [\"Sphinix Network Solutions Inc.\", 1.0, \"Data Analyst-BA\", \"New York, NY\", 40000, 67000, 5, 40.7127753, -74.0059728, [\"SQL\", \"Oracle\"]], [\"Harry's\", 3.4, \"Senior Data Analyst\", \"New York, NY\", 66000, 102000, 21, 40.7127753, -74.0059728, [\"Python\", \"SQL\", \"R\", \"Tableau\"]], [\"Saratoga Medical Center\", 4.3, \"Compensation and Data Analyst (Human Resources)\", \"New York, NY\", 59000, 85000, 20, 40.7127753, -74.0059728, [\"R\", \"Excel\"]], [\"AdvantageCare Physicians\", 2.1, \"Senior Data Analyst\", \"New York, NY\", 88000, 126000, 11, 40.7127753, -74.0059728, [\"R\", \"SAS\", \"Excel\"]], [\"Charles River Associates\", 4.6, \"Data Analyst and Data Scientist\", \"Summit, NJ\", 53000, 85000, 25, 40.7146376, -74.3646122, [\"Python\", \"SQL\", \"Machine Learning\", \"R\", \"Java\", \"Tableau\", \"SAS\", \"Natural Language Processing\", \"Excel\", \"JavaScript\", \"SPSS\"]], [\"Chubb\", 3.4, \"Senior Reporting & Data Analyst\", \"Whitehouse Station, NJ\", 103000, 155000, 13, 40.6155663, -74.7702576, [\"SQL\", \"R\", \"SAS\"]], [\"NYU\", 4.2, \"Senior Forensic Data Analyst\", \"New York, NY\", 55000, 86000, 14, 40.7127753, -74.0059728, [\"R\", \"Tableau\", \"Excel\"]], [\"Catholic Home Care\", 2.5, \"Data Analyst\", \"Roslyn, NY\", 58000, 86000, 25, 40.7998227, -73.6509622, [\"R\"]], [\"Centers Plan for Healthy Living\", 2.2, \"Data & Interface Analyst\", \"Staten Island, NY\", 44000, 70000, 8, 40.5795317, -74.1502007, [\"SQL\", \"R\", \"Oracle\", \"Excel\"]], [\"Argus Information & Advisory Services\", 4.0, \"Regulatory Data & Risk Analyst\", \"White Plains, NY\", 51000, 78000, 4, 41.03398620000001, -73.7629097, [\"SQL\", \"R\", \"Tableau\", \"SAS\", \"Excel\"]], [\"Spark Foundry\", 3.1, \"Analyst, Data Architecture\", \"New York, NY\", 73000, 107000, 17, 40.7127753, -74.0059728, [\"R\", \"Spark\", \"Microsoft Office\", \"Excel\"]], [\"IPG Mediabrands\", 3.6, \"Orion - Media Data Analyst\", \"New York, NY\", 38000, 60000, 5, 40.7127753, -74.0059728, [\"Python\", \"R\", \"Java\", \"Tableau\", \"Excel\", \"JavaScript\"]], [\"Fragomen Worldwide\", 3.1, \"Data Privacy Analyst\", \"Matawan, NJ\", 65000, 83000, 17, 40.41482999999999, -74.2295891, [\"R\", \"Excel\"]], [\"Citi\", 3.6, \"Investment Banking, Summer Analyst: Data Science Analyst, M&A Strategic Shareholder Advisory\", \"New York, NY\", 98000, 122000, 3, 40.7127753, -74.0059728, []], [\"AdvantageCare Physicians\", 2.1, \"Data Governance Analyst Technical Steward\", \"New York, NY\", 85000, 128000, 30, 40.7127753, -74.0059728, [\"SQL\", \"R\", \"Tableau\", \"Data Warehouse\", \"Excel\", \"Project Management\"]], [\"Boehringer Ingelheim\", 3.8, \"Central Data Science Solutions (CDSS) Business Analyst or Principal Business Analyst\", \"Ridgefield, NJ\", 67000, 109000, 12, 40.8342669, -74.00875049999999, [\"R\", \"SAS\", \"Oracle\", \"Excel\", \"Data Science\"]], [\"Diversified\", 3.4, \"Data & Reporting Business Analyst - Kenilworth\", \"Hoboken, NJ\", 56000, 92000, 4, 40.7439905, -74.0323626, [\"SQL\", \"R\", \"Tableau\", \"Excel\"]], [\"Hunterdon Healthcare\", 3.3, \"Data Analyst/Report Writer\", \"Flemington, NJ\", 50000, 77000, 3, 40.5123258, -74.85933179999999, [\"Python\", \"SQL\", \"R\", \"Excel\"]], [\"Converseon Inc.\", 3.8, \"Senior Data Analyst\", \"New York, NY\", 48000, 79000, 30, 40.7127753, -74.0059728, [\"AI\"]], [\"Atlas\", 3.4, \"Business Analyst/Data Analyst\", \"Parsippany, NJ\", 51000, 87000, 8, 40.8652865, -74.41738769999999, [\"R\"]], [\"eTeam Inc.\", 4.0, \"Data Analyst / IT Data and Business Intelligence\", \"Jersey City, NJ\", 62000, 105000, 20, 40.7177545, -74.0431435, [\"SQL\", \"R\", \"Data Analysis\", \"Excel\"]], [\"APN Consulting\", 4.2, \"Data Analyst - II\", \"New York, NY\", 54000, 83000, 3, 40.7127753, -74.0059728, [\"R\", \"Excel\"]], [\"NPD\", 3.8, \"Data Analyst\", \"Port Washington, NY\", 38000, 61000, 19, 40.8256561, -73.69818579999999, [\"SQL\", \"R\", \"Java\", \"SAS\", \"NoSQL\", \"Azure\", \"SPSS\"]], [\"Capgemini\", 3.7, \"Senior Data Analyst\", \"New York, NY\", 84000, 133000, 8, 40.7127753, -74.0059728, [\"R\", \"Data Science\"]], [\"AdvantageCare Physicians\", 2.1, \"Data Governance Analyst\", \"New York, NY\", 53000, 84000, 30, 40.7127753, -74.0059728, [\"SQL\", \"R\", \"Data Warehouse\", \"Excel\", \"Project Management\", \"Business Intelligence\"]], [\"Live Nation Entertainment\", 3.8, \"Sr. Data Analyst, Data Analytics & Audience Science\", \"New York, NY\", 84000, 134000, 10, 40.7127753, -74.0059728, [\"Python\", \"SQL\", \"R\"]], [\"Lockheed Martin\", 3.8, \"Configuration/Data Analyst\", \"Uniondale, NY\", 65000, 103000, 6, 40.7003793, -73.5929056, [\"R\", \"Excel\"]], [\"AT&T\", 3.4, \"Senior Business Analyst, Data Management & Business Intelligence Systems\", \"New York, NY\", 61000, 91000, 20, 40.7127753, -74.0059728, [\"R\", \"Oracle\", \"AI\", \"Business Intelligence\"]], [\"Clinique\", 3.6, \"Senior Data Analyst\", \"New York, NY\", 58000, 91000, 30, 40.7127753, -74.0059728, [\"Python\", \"SQL\", \"R\", \"Tableau\", \"Excel\", \"Business Intelligence\"]], [\"Risk Solutions\", 3.7, \"Fraud Data Analyst\", \"New York, NY\", 40000, 62000, 11, 40.7127753, -74.0059728, [\"Python\", \"SQL\", \"R\", \"SAS\", \"Excel\"]], [\"Callisto Media\", 4.7, \"Lead Data Analyst\", \"New York, NY\", 50000, 84000, 19, 40.7127753, -74.0059728, [\"R\", \"Big Data\"]], [\"UBS\", 3.5, \"Senior Business Data Analyst\", \"Weehawken, NJ\", 70000, 106000, 14, 40.7663711, -74.02537149999999, [\"Python\", \"SQL\", \"R\", \"Spark\", \"Tableau\", \"Big Data\", \"Excel\", \"Business Intelligence\"]], [\"Visiting Nurse Service of New York\", 3.7, \"Data Analyst, CHOICE\", \"New York, NY\", 48000, 72000, 2, 40.7127753, -74.0059728, [\"Python\", \"SQL\", \"R\", \"Tableau\", \"SAS\", \"Excel\"]], [\"DATA Inc.\", 4.1, \"Business and Data Analyst\", \"Stamford, CT\", 43000, 70000, 7, 41.0534302, -73.5387341, [\"R\"]], [\"Diverse Lynx\", 3.6, \"Technical Data Analyst - Diverse Lynx\", \"Jersey City, NJ\", 57000, 97000, 30, 40.7177545, -74.0431435, [\"SQL\", \"R\", \"AWS\", \"Data Analysis\", \"MongoDB\"]], [\"Freeman\", 3.5, \"Senior Data Business Analyst\", \"New York, NY\", 77000, 117000, 27, 40.7127753, -74.0059728, [\"R\"]], [\"Walt Disney Co.\", 3.7, \"Senior Data Analyst, Data Instrumentation\", \"New York, NY\", 85000, 135000, 3, 40.7127753, -74.0059728, [\"Python\", \"SQL\", \"R\", \"Spark\"]], [\"Sumitomo Mitsui Banking Corporation\", 3.1, \"Senior Data Analyst - Compliance\", \"Jersey City, NJ\", 55000, 85000, 1, 40.7177545, -74.0431435, [\"Python\", \"SQL\", \"R\", \"Tableau\", \"Oracle\", \"Microsoft SQL Server\", \"Azure\", \"Microsoft Office\", \"Excel\"]], [\"AC Lion (2)\", 4.2, \"Senior Data Analyst\", \"New York, NY\", 60000, 99000, 2, 40.7127753, -74.0059728, [\"Python\", \"SQL\", \"R\", \"Excel\"]], [\"Simon Data\", 4.5, \"Sr Data Analyst\", \"New York, NY\", 72000, 115000, 10, 40.7127753, -74.0059728, [\"SQL\", \"R\", \"Excel\"]], [\"Pioneer Data Systems\", 4.2, \"Data Analyst (Tableau / Qlik)\", \"Bridgewater, NJ\", 50000, 82000, 3, 40.5939636, -74.6049061, [\"R\", \"Tableau\"]], [\"Village Care\", 2.2, \"HEDIS Data Analyst\", \"New York, NY\", 46000, 71000, 4, 40.7127753, -74.0059728, [\"SQL\", \"AWS\", \"Excel\"]], [\"The Est\\u00e9e Lauder Companies Inc.\", 3.7, \"Senior Data Analyst\", \"Queens Village, NY\", 57000, 89000, 22, 40.7156628, -73.7419017, [\"Python\", \"SQL\", \"R\", \"Tableau\", \"Excel\", \"Business Intelligence\"]], [\"Oneida Total Integrated Enterprises\", 2.8, \"Data Analyst\", \"West Point, NY\", 38000, 63000, 11, 41.3914827, -73.95597210000001, [\"R\"]], [\"St. Barnabas Hospital\", 3.0, \"Clinical Data Analyst\", \"Bronx, NY\", 45000, 67000, 12, 40.8447819, -73.8648268, [\"SQL\", \"R\"]], [\"Integrated Resources, Inc\", 3.5, \"Vendor/Procurement Data Analyst - Integrated Resources, Inc\", \"New York, NY\", 70000, 116000, 30, 40.7127753, -74.0059728, [\"R\"]], [\"Northwell Health\", 3.8, \"Practice Spclst Data Analyst\", \"Manhasset, NY\", 55000, 83000, 4, 40.7978787, -73.6995749, [\"R\", \"Excel\"]], [\"Diverse Lynx\", 3.6, \"Data Analyst (Short Hills - NJ)\", \"Jersey City, NJ\", 51000, 86000, 28, 40.7177545, -74.0431435, [\"SQL\", \"R\", \"Java\", \"SAS\", \"Excel\", \"JavaScript\", \"SPSS\"]], [\"One Call\", 2.8, \"Senior Healthcare Data Analyst\", \"New York, NY\", 59000, 86000, 11, 40.7127753, -74.0059728, [\"SQL\", \"R\", \"Tableau\", \"Microsoft Office\", \"Excel\"]], [\"Deloitte\", 3.8, \"Deloitte Consulting - Specialist Analyst Data Scientist - North Carolina State University (NCSU)\", \"New York, NY\", 115000, 171000, 30, 40.7127753, -74.0059728, [\"Python\", \"SQL\", \"R\"]], [\"Aegon USA Investment Management\", 3.3, \"Defined Benefit Functional Data Analyst\", \"New York, NY\", 42000, 67000, 7, 40.7127753, -74.0059728, [\"SQL\", \"R\"]], [\"New York City Taxi and Limousine Commission\", 3.6, \"Data Analyst -Policy Analytics\", \"New York, NY\", 33000, 56000, 17, 40.7127753, -74.0059728, [\"Python\", \"SQL\", \"R\", \"Excel\"]], [\"Brown Brothers Harriman\", 3.2, \"Data Science Systems Programmer Analyst\", \"New York, NY\", 76000, 108000, 3, 40.7127753, -74.0059728, [\"Python\", \"SQL\", \"R\", \"Java\", \"Tableau\", \"SAS\", \"Excel\", \"Data Science\"]], [\"RAMPS International Inc\", 4.5, \"Senior Healthcare Data Analyst\", \"New York, NY\", 65000, 99000, 6, 40.7127753, -74.0059728, [\"SQL\", \"R\"]], [\"Healthfirst (New York)\", 2.8, \"Senior Product Data Analyst\", \"New York, NY\", 95000, 135000, 1, 40.7127753, -74.0059728, [\"SQL\", \"R\", \"SAS\", \"Excel\"]], [\"Diverse Lynx\", 3.6, \"Tech Business Analyst/Data Analyst\", \"New York, NY\", 56000, 91000, 30, 40.7127753, -74.0059728, [\"Python\", \"SQL\", \"R\", \"Java\", \"Excel\", \"Perl\", \"Software Development\"]], [\"Comrise\", 4.6, \"IT Support analyst - Data analytics and devops\", \"Roseland, NJ\", 38000, 60000, 11, 40.8206555, -74.2937594, [\"SQL\", \"Tableau\", \"SAS\", \"Excel\"]], [\"The Bank of New York Mellon\", 3.1, \"Tapia Data Science, Data Analytics, Technical Business Analyst (Lead Data Analyst)\", \"New York, NY\", 40000, 64000, 3, 40.7127753, -74.0059728, [\"Python\", \"SQL\", \"Machine Learning\", \"R\", \"Tableau\", \"AI\", \"Data Analysis\", \"Excel\"]], [\"Pratt Institute\", 3.7, \"Senior Financial Data & Business System Analyst\", \"Brooklyn, NY\", 67000, 108000, 6, 40.6781784, -73.9441579, [\"R\", \"Excel\"]], [\"TechProjects\", 4.8, \"ETL Datastage Developer/IBM Infosphere Datastage Consultant(ETL Data Analyst)-Only NY/NJ candidates Please\", \"New York, NY\", 57000, 90000, 17, 40.7127753, -74.0059728, [\"SQL\", \"R\", \"Oracle\", \"Scripting\", \"Excel\", \"Shell Scripting\"]], [\"InfoObjects Inc\", 3.8, \"Data Analyst with Tableau (Direct Onsite, Only Locals)\", \"New Hyde Park, NY\", 37000, 61000, 11, 40.7351018, -73.6879082, [\"R\", \"Tableau\", \"Excel\"]], [\"XDuce\", 4.2, \"Data Analyst - Insurance - XDuce\", \"New York, NY\", 46000, 79000, 30, 40.7127753, -74.0059728, []], [\"Veterans Sourcing Group\", 2.8, \"IT - Data Analyst\", \"Jersey City, NJ\", 38000, 62000, 6, 40.7177545, -74.0431435, [\"R\"]], [\"GSK\", 3.9, \"Master Data Analyst\", \"Warren, NJ\", 54000, 89000, 11, 40.6342489, -74.50047959999999, [\"R\"]], [\"Citibank\", 3.8, \"Investment Banking, Summer Analyst: Data Science Analyst, M&A Strategic Shareholder Advisory\", \"New York, NY\", 77000, 99000, 3, 40.7127753, -74.0059728, []], [\"Pioneer Data Systems\", 4.2, \"SAS Programmer Analyst / Healthcare Claims Data\", \"New Brunswick, NJ\", 90000, 129000, 1, 40.4862157, -74.4518188, [\"SQL\", \"R\", \"SAS\"]], [\"UBS\", 3.5, \"US Data Quality and Governance Business Analyst\", \"Weehawken, NJ\", 70000, 113000, 19, 40.7663711, -74.02537149999999, [\"R\"]], [\"UBS\", 3.5, \"US Data Quality & Profiling Business Analyst\", \"Weehawken, NJ\", 70000, 113000, 19, 40.7663711, -74.02537149999999, [\"R\"]], [\"Media Storm\", 3.1, \"Analyst, Advanced Data Modeler\", \"New York, NY\", 70000, 94000, 10, 40.7127753, -74.0059728, [\"Python\", \"R\"]], [\"Horizon Blue Cross Blue Shield of New Jersey\", 3.4, \"Data Reporting Analyst III\", \"Newark, NJ\", 51000, 85000, 19, 40.735657, -74.1723667, [\"SQL\", \"R\", \"SAS\", \"Excel\"]], [\"New York Life\", 3.5, \"Senior Metrics and Reporting Analyst - Data Governance and Management\", \"Lebanon, NJ\", 74000, 121000, 14, 40.6417683, -74.83599869999999, [\"Python\", \"SQL\", \"R\", \"Tableau\", \"Excel\"]], [\"LexisNexis Risk Solutions\", 3.5, \"Fraud Data Analyst\", \"New York, NY\", 43000, 71000, 12, 40.7127753, -74.0059728, [\"Python\", \"SQL\", \"R\", \"SAS\", \"Excel\"]], [\"Lenmar Consulting, Inc.\", 2.6, \"Data Analyst - Lenmar Consulting, Inc.\", \"Jersey City, NJ\", 38000, 65000, 30, 40.7177545, -74.0431435, [\"Python\", \"SQL\", \"R\", \"Tableau\", \"SAS\", \"Scala\"]], [\"Gartner\", 3.7, \"Marketing Data Analyst\", \"Stamford, CT\", 37000, 58000, 13, 41.0534302, -73.5387341, [\"SQL\", \"R\", \"Tableau\"]], [\"Deloitte\", 3.8, \"Deloitte Consulting \\u2013 Specialist Analyst Data Scientist - North Carolina State University (NCSU)\", \"New York, NY\", 115000, 171000, 10, 40.7127753, -74.0059728, [\"Python\", \"SQL\", \"R\"]], [\"Transamerica\", 3.1, \"Defined Benefit Functional Data Analyst\", \"Harrison, NY\", 41000, 65000, 8, 40.9700171, -73.7176337, [\"SQL\", \"R\"]], [\"ADP\", 3.7, \"Data Steward - (Siebel, SQL, Data Analyst)\", \"Florham Park, NJ\", 49000, 79000, 11, 40.787878, -74.3882072, [\"SQL\", \"R\", \"Excel\"]], [\"Mount Sinai Health System\", 3.4, \"Data Warehouse Analyst; Adolescent Health\", \"New York, NY\", 68000, 100000, 11, 40.7127753, -74.0059728, [\"Python\", \"SQL\", \"R\", \"Tableau\", \"Oracle\", \"Data Warehouse\", \"Microsoft SQL Server\", \"Scripting\"]], [\"Mount Sinai Medical Center\", 3.1, \"Data Analyst I -Diagnostic, Molecular and Interventional Radiology\", \"New York, NY\", 41000, 60000, 3, 40.7127753, -74.0059728, [\"R\"]], [\"Crestron Electronics Inc\", 2.8, \"Technical Data Analyst\", \"Rockleigh, NJ\", 56000, 84000, 1, 41.0003754, -73.930414, [\"SQL\", \"R\", \"Excel\"]], [\"Mount Sinai Health System\", 3.4, \"Senior Data Analyst, Environmental Medicine and Public Health\", \"New York, NY\", 50000, 72000, 16, 40.7127753, -74.0059728, [\"SQL\", \"R\", \"SAS\", \"Oracle\", \"Data Warehouse\", \"Excel\", \"PostgreSQL\", \"MySQL\", \"SPSS\"]], [\"Diverse Lynx\", 3.6, \"Data Analyst with SQL/PLSQL/BI/Datawarehousing\", \"New York, NY\", 51000, 86000, 30, 40.7127753, -74.0059728, [\"SQL\", \"R\", \"Excel\"]], [\"Stony Brook Clinical Practice Mgmt Plan\", 3.5, \"Data Analyst- Stony Brook CPMP General Accounting\", \"Stony Brook, NY\", 48000, 73000, 30, 40.9256538, -73.1409429, [\"SQL\", \"R\", \"Excel\", \"Business Intelligence\"]], [\"Mount Sinai Health System\", 3.4, \"SENIOR DATA ANALYST\", \"New York, NY\", 55000, 82000, 19, 40.7127753, -74.0059728, [\"Python\", \"SQL\", \"R\", \"Tableau\", \"SAS\", \"Oracle\", \"AI\", \"Excel\", \"PostgreSQL\", \"MySQL\"]], [\"Georgia IT Inc.\", 5.0, \"Data Analyst- Pennsylvania,PA - Georgia IT Inc.\", \"New York, NY\", 48000, 81000, 30, 40.7127753, -74.0059728, [\"Python\", \"SQL\", \"R\", \"Java\", \"Tableau\", \"Excel\"]], [\"Mount Sinai Health System\", 3.4, \"Data Analyst I -Diagnostic, Molecular and Interventional Radiology\", \"New York, NY\", 41000, 60000, 19, 40.7127753, -74.0059728, [\"R\"]], [\"Spectrum\", 2.9, \"Sr. Data and Reporting Analyst\", \"Stamford, CT\", 47000, 79000, 8, 41.0534302, -73.5387341, [\"Python\", \"SQL\", \"R\", \"Hadoop\", \"Tableau\", \"SAS\", \"NoSQL\", \"Oracle\", \"Excel\"]], [\"Wunderman\", 3.2, \"Senior Analyst, Analytics and Data Science\", \"New York, NY\", 57000, 92000, 3, 40.7127753, -74.0059728, [\"Python\", \"SQL\", \"R\", \"Tableau\", \"AWS\", \"AI\", \"Data Science\"]], [\"22nd Century Technologies\", 3.7, \"SAP System & SDP Data Analyst\", \"White Plains, NY\", 56000, 80000, 11, 41.03398620000001, -73.7629097, [\"R\", \"Microsoft Office\"]], [\"Visiting Nurse Service of New York\", 3.7, \"Healthcare Encounter Data Analyst\", \"New York, NY\", 45000, 69000, 2, 40.7127753, -74.0059728, [\"SQL\", \"R\", \"SAS\", \"Excel\"]], [\"Sumitomo Mitsui Banking Corporation (SMBC)\", 3.1, \"Senior Data Analyst - Compliance in Jersey City, New Jersey | Careers at Harborside\", \"Jersey City, NJ\", 55000, 85000, 30, 40.7177545, -74.0431435, [\"Python\", \"SQL\", \"R\", \"Tableau\", \"Oracle\", \"Microsoft SQL Server\", \"Azure\", \"Microsoft Office\", \"Excel\"]], [\"Hackensack University Medical Center\", 3.4, \"Clinical Data Analyst\", \"Edison, NJ\", 57000, 87000, 30, 40.5187154, -74.4120953, [\"R\"]], [\"Criteo\", 3.8, \"Senior Data Analyst \\u2013 Global Supply Analytics, AMERICAS\", \"New York, NY\", 79000, 119000, 5, 40.7127753, -74.0059728, [\"Python\", \"R\", \"Hadoop\", \"Tableau\"]], [\"Verisk\", 3.4, \"Regulatory Data & Risk Analyst\", \"White Plains, NY\", 62000, 93000, 4, 41.03398620000001, -73.7629097, [\"SQL\", \"R\", \"Tableau\", \"SAS\", \"Excel\"]], [\"Universal Technical Resource Services, Inc.\", 4.1, \"Information Data Analyst\", \"Dover, NJ\", 39000, 67000, 11, 40.883988, -74.5621025, [\"R\", \"Microsoft Office\", \"Excel\"]], [\"Crossfire Consulting\", 5.0, \"Business Data Analyst ONLY\", \"Morristown, NJ\", 54000, 84000, 9, 40.79676670000001, -74.4815438, [\"SQL\", \"R\", \"Tableau\", \"Business Intelligence\"]], [\"Moxie\", 3.1, \"Sr. Analyst, Client Data and DMP Strategy\", \"New York, NY\", 60000, 80000, 20, 40.7127753, -74.0059728, [\"R\", \"Spark\"]], [\"CenterLight Health System\", 2.5, \"Data Warehouse Business Analyst (T-SQL)\", \"Bronx, NY\", 75000, 116000, 4, 40.8447819, -73.8648268, [\"SQL\", \"R\", \"AWS\", \"Oracle\", \"Data Warehouse\", \"Azure\", \"Excel\"]], [\"Crescens Inc.\", 3.2, \"Data Warehouse Analyst - Crescens Inc.\", \"Jersey City, NJ\", 45000, 68000, 30, 40.7177545, -74.0431435, [\"SQL\", \"R\", \"Tableau\", \"Data Warehouse\"]], [\"Barnabas Health\", 3.4, \"SQL Data Reporting Analyst - Revenue Cycle Patient Accounts (FT)\", \"Oceanport, NJ\", 49000, 82000, 5, 40.3181663, -74.0151382, [\"SQL\", \"R\", \"Tableau\", \"Excel\"]], [\"Sanofi\", 3.6, \"Regulatory Reporting and Data Analyst\", \"Bridgewater, NJ\", 40000, 66000, 4, 40.5939636, -74.6049061, [\"R\", \"Excel\"]], [\"AbleTo\", 3.7, \"Senior Data Analyst\", \"New York, NY\", 55000, 84000, 27, 40.7127753, -74.0059728, [\"Python\", \"SQL\", \"R\", \"Tableau\", \"AWS\"]], [\"Crossix Solutions\", 3.6, \"Lead Marketing Data Analyst\", \"New York, NY\", 56000, 83000, 13, 40.7127753, -74.0059728, [\"SQL\", \"R\", \"SAS\", \"Excel\"]], [\"Axtria\", 3.6, \"Business Analyst \\u2013 Oncology/SPP data (Life Sciences)\", \"Berkeley Heights, NJ\", 68000, 106000, 26, 40.6808726, -74.4310524, [\"SQL\", \"R\", \"Tableau\", \"Excel\"]], [\"Newsday LLC\", 2.9, \"Editorial Data Analyst, newsday.com\", \"Melville, NY\", 50000, 75000, 11, 40.7934322, -73.41512139999999, [\"R\", \"Excel\"]], [\"FreemanXP\", 3.4, \"Senior Data Business Analyst\", \"New York, NY\", 116000, 180000, 27, 40.7127753, -74.0059728, [\"R\"]], [\"ProHEALTH Care\", 3.4, \"Clinical Data Analyst\", \"Lake Success, NY\", 51000, 78000, 8, 40.7698453, -73.70904279999999, [\"R\", \"Excel\"]], [\"Diverse Lynx\", 3.6, \"Data Analyst - Diverse Lynx\", \"Jersey City, NJ\", 51000, 86000, 30, 40.7177545, -74.0431435, [\"R\", \"Excel\"]], [\"Diverse Lynx\", 3.6, \"MDM Data Analyst\", \"Jersey City, NJ\", 51000, 86000, 30, 40.7177545, -74.0431435, [\"R\"]], [\"Bloomberg\", 3.8, \"Data Analyst - BLAW Web Document Acquisition\", \"Princeton, NJ\", 54000, 78000, 21, 40.3572976, -74.6672226, [\"Python\", \"R\", \"Java\", \"JavaScript\"]], [\"IntelliPro Group Inc.\", 3.4, \"Sr. Data Analyst\", \"New York, NY\", 95000, 142000, 18, 40.7127753, -74.0059728, [\"SQL\", \"Machine Learning\", \"R\", \"Excel\"]], [\"EmblemHealth\", 2.7, \"Senior Data Analyst, Pharmacy\", \"New York, NY\", 68000, 109000, 18, 40.7127753, -74.0059728, [\"SQL\", \"R\", \"SAS\", \"Oracle\", \"Excel\", \"Business Intelligence\"]], [\"RMS Computer\", 3.8, \"Sr. Business Analyst/Data Analyst/Securities/Reference Data\", \"Jersey City, NJ\", 60000, 100000, 8, 40.7177545, -74.0431435, [\"SQL\", \"R\", \"Kafka\", \"Excel\", \"Data Science\"]], [\"Castleton Commodities International LLC\", 3.4, \"Quantitative Analyst Data Science\", \"Stamford, CT\", 61000, 106000, 30, 41.0534302, -73.5387341, [\"Python\", \"SQL\", \"R\", \"Data Science\", \"Business Intelligence\"]], [\"BNY Mellon\", 3.1, \"Sr. Specialist Info Sec Analyst - Data Scientist\", \"New York, NY\", 108000, 156000, 11, 40.7127753, -74.0059728, [\"SQL\", \"R\", \"Java\", \"Oracle\", \".Net\"]], [\"Oracle\", 3.5, \"Oracle Data Cloud - Security Operations Analyst\", \"New York, NY\", 58000, 87000, 9, 40.7127753, -74.0059728, [\"R\", \"Oracle\"]], [\"Cygnus Professionals\", 3.9, \"Data Warehouse Analyst - Cygnus Professionals\", \"Jersey City, NJ\", 51000, 77000, 30, 40.7177545, -74.0431435, [\"SQL\", \"R\", \"Tableau\", \"Data Warehouse\"]], [\"TechProjects\", 4.8, \"Sr. Datastage and Data Analyst\", \"New York, NY\", 75000, 113000, 22, 40.7127753, -74.0059728, [\"SQL\", \"R\", \"Oracle\", \"Scripting\", \"Excel\", \"Shell Scripting\"]], [\"Spectrum\", 2.9, \"Credit Services Data Analyst\", \"Stamford, CT\", 46000, 74000, 11, 41.0534302, -73.5387341, [\"SQL\", \"R\", \"Tableau\", \"Excel\"]], [\"Deloitte\", 3.8, \"Insight Studio Specialist Data Scientist - Analyst - Technology, Consulting - BTA - UG - University of Michigan (Summer/Fall)\", \"New York, NY\", 132000, 185000, 4, 40.7127753, -74.0059728, [\"Python\", \"SQL\", \"R\"]], [\"J. Crew\", 3.7, \"Madewell Customer Data Science Sr. Analyst\", \"Long Island City, NY\", 64000, 97000, 27, 40.744679, -73.9485424, [\"Python\", \"SQL\", \"R\", \"Tableau\", \"Big Data\", \"Excel\", \"Data Science\"]], [\"Warner Music Group\", 3.1, \"Senior Financial Analyst, Technology/Data Operations - Entertainment and Media Industry Opportunity\", \"New York, NY\", 56000, 84000, 30, 40.7127753, -74.0059728, [\"R\", \"Excel\"]], [\"J.P. Morgan\", 3.9, \"CIB Digital & Platform Services Resolution & Recovery - Sr. Data/Business Analyst\", \"Brooklyn, NY\", 62000, 109000, 18, 40.6781784, -73.9441579, [\"R\", \"Tableau\", \"Excel\", \"Project Management\"]], [\"The Bank of New York Mellon\", 3.1, \"Lead Analyst, Data Mgmt Ops\", \"Pennington, NJ\", 50000, 77000, 20, 40.3284402, -74.790718, [\"SQL\", \"R\"]], [\"Diversified\", 3.4, \"Data & Reporting Business Analyst\", \"Kenilworth, NJ\", 56000, 92000, 4, 40.6764911, -74.2907032, [\"SQL\", \"R\", \"Tableau\", \"Excel\"]], [\"Softpath System LLC\", 3.8, \"NJATCSU Data Warehouse Analyst - Softpath System LLC\", \"Jersey City, NJ\", 54000, 80000, 30, 40.7177545, -74.0431435, [\"SQL\", \"R\", \"Tableau\"]], [\"Lorven Technologies Inc\", 4.0, \"Data Analyst / IT Data & Business Intelligence\", \"Harrison, NY\", 50000, 81000, 20, 40.9700171, -73.7176337, [\"SQL\", \"Data Analysis\", \"Excel\"]], [\"XDuce\", 4.2, \"Insurance Systems Analyst - Business & Data\", \"New York, NY\", 47000, 81000, 12, 40.7127753, -74.0059728, [\"SQL\", \"R\", \"Microsoft Office\", \"Excel\"]], [\"Knowledgent\", 3.2, \"Data Governance Analysts\", \"Warren, NJ\", 62000, 96000, 4, 40.6342489, -74.50047959999999, [\"R\", \"Excel\"]], [\"Cross River Bank\", 3.8, \"Senior Data Analyst\", \"Fort Lee, NJ\", 60000, 92000, 7, 40.8509333, -73.9701381, [\"SQL\", \"R\", \"Tableau\", \"Oracle\", \"Data Science\"]], [\"Wyndham Worldwide\", 3.0, \"Hotel Program Operations and Data Analyst\", \"Parsippany, NJ\", 33000, 55000, 30, 40.8652865, -74.41738769999999, [\"R\", \"Excel\", \"Business Intelligence\"]], [\"Flight Centre Travel Group\", 2.3, \"Data and Business Analyst - Montvale NJ\", \"Montvale, NJ\", 46000, 75000, 20, 41.0467635, -74.0229173, [\"R\", \"Tableau\", \"AI\", \"Excel\"]], [\"Seamen's Society for Children and Families\", 2.4, \"Data Analyst - Foster Care\", \"Staten Island, NY\", 30000, 50000, 13, 40.5795317, -74.1502007, [\"R\", \"Excel\"]], [\"AdvantageCare Physicians\", 2.1, \"Senior Data Analyst, Pharmacy\", \"New York, NY\", 88000, 126000, 30, 40.7127753, -74.0059728, [\"SQL\", \"R\", \"SAS\", \"Oracle\", \"Excel\", \"Business Intelligence\"]], [\"Encore Event Technologies\", 3.5, \"Senior Data Business Analyst\", \"New York, NY\", 66000, 105000, 27, 40.7127753, -74.0059728, [\"R\"]], [\"Cygnus Professionals\", 3.9, \"Sr. Data Analyst\", \"New York, NY\", 60000, 93000, 30, 40.7127753, -74.0059728, [\"SQL\", \"R\", \"Data Analysis\", \"Excel\"]], [\"Verizon\", 3.6, \"Lead Data Analyst\", \"Piscataway, NJ\", 74000, 114000, 1, 40.554887, -74.4642861, [\"SQL\", \"R\", \"Oracle\", \"Microsoft SQL Server\", \"Excel\"]], [\"Flight Centre Travel Group\", 2.3, \"Data and Business Analyst\", \"Montvale, NJ\", 46000, 75000, 20, 41.0467635, -74.0229173, [\"R\", \"Tableau\", \"AI\", \"Excel\"]], [\"Alpha Consulting Corp.\", 4.1, \"Senior Business Analyst for Business Process, Data Analysis, and Data Modeling for Pharmaceutical R&D - Alpha Consulting Corp.\", \"Jersey City, NJ\", 93000, 147000, 30, 40.7177545, -74.0431435, [\"R\", \"AI\"]], [\"Castleton Commodities International LLC\", 3.4, \"Quantitative Analyst \\u2013 Data Science\", \"Stamford, CT\", 61000, 106000, 11, 41.0534302, -73.5387341, [\"Python\", \"SQL\", \"R\", \"Data Science\", \"Business Intelligence\"]], [\"PeopleNTech LLC\", 4.2, \"Data Analyst/Architect\", \"New York, NY\", 43000, 72000, 30, 40.7127753, -74.0059728, [\"R\"]], [\"Mount Sinai Medical Center\", 3.1, \"Senior Data Analyst, Environmental Medicine and Public Health\", \"New York, NY\", 54000, 78000, 30, 40.7127753, -74.0059728, [\"SQL\", \"R\", \"SAS\", \"Oracle\", \"Data Warehouse\", \"Excel\", \"PostgreSQL\", \"MySQL\", \"SPSS\"]], [\"Purolator International\", 2.5, \"Data Analyst, Decision Support\", \"Jericho, NY\", 51000, 79000, 3, 40.79204410000001, -73.5398476, [\"Python\", \"SQL\", \"R\", \"Tableau\", \"Excel\"]], [\"Mount Sinai Medical Center\", 3.1, \"Data Warehouse Analyst; Adolescent Health\", \"New York, NY\", 61000, 90000, 30, 40.7127753, -74.0059728, [\"Python\", \"SQL\", \"R\", \"Tableau\", \"Oracle\", \"Data Warehouse\", \"Microsoft SQL Server\", \"Scripting\"]], [\"Sika AG\", 3.2, \"SAP Analyst (Master Data Maintainer)\", \"Lyndhurst, NJ\", 55000, 80000, 5, 40.81201710000001, -74.1243063, [\"R\"]], [\"Center for Court Innovation\", 3.2, \"Senior Data Analyst, Supervised Release Program\", \"New York, NY\", 64000, 105000, 14, 40.7127753, -74.0059728, [\"Python\", \"SQL\", \"R\", \"Tableau\", \"SAS\", \"Oracle\", \"Excel\", \"SPSS\"]], [\"Mount Sinai Medical Center\", 3.1, \"Data Science Analyst I Computational Biology - Genetics\", \"New York, NY\", 49000, 78000, 30, 40.7127753, -74.0059728, [\"Python\", \"R\", \"SAS\", \"Scala\"]], [\"CIT\", 3.2, \"Audit Data Analyst\", \"Livingston, NJ\", 45000, 71000, 14, 40.7862871, -74.3300842, [\"Python\", \"SQL\", \"R\", \"Tableau\", \"Excel\", \"Perl\", \"Data Science\"]], [\"BNY Mellon\", 3.1, \"Specialist, Big Data Senior Analyst (Treasury and ALM)\", \"New York, NY\", 60000, 94000, 14, 40.7127753, -74.0059728, [\"SQL\", \"R\", \"Hadoop\", \"Hive\", \"Business Intelligence\"]], [\"Spectrum\", 2.9, \"Business Data Analyst II\", \"Stamford, CT\", 59000, 93000, 12, 41.0534302, -73.5387341, [\"SQL\", \"R\", \"Tableau\", \"Oracle\", \"Excel\"]], [\"Spectrum\", 2.9, \"Sr. Analyst, Data and Reporting\", \"Stamford, CT\", 49000, 82000, 4, 41.0534302, -73.5387341, [\"SQL\", \"R\", \"Excel\"]], [\"Axtria\", 3.6, \"Business Analyst Oncology/SPP data (Life Sciences)\", \"Berkeley Heights, NJ\", 68000, 106000, 30, 40.6808726, -74.4310524, [\"SQL\", \"R\", \"Tableau\", \"SAS\", \"Excel\"]], [\"Cedent Consulting\", 3.8, \"Senior Data Analyst / Scientist\", \"New York, NY\", 56000, 92000, 15, 40.7127753, -74.0059728, [\"Machine Learning\", \"R\", \"Data Science\"]], [\"Quest Diagnostics\", 3.3, \"Senior Data Management Analyst\", \"Secaucus, NJ\", 60000, 90000, 22, 40.7895453, -74.05652979999999, [\"SQL\", \"R\", \"SAS\", \"Microsoft Office\", \"Excel\"]], [\"W. R. Berkley Corporation\", 3.2, \"Senior Data Governance Analyst\", \"Greenwich, CT\", 66000, 99000, 19, 41.0262417, -73.6281964, [\"SQL\", \"R\", \"Data Warehouse\", \"Microsoft Office\"]], [\"Disney Streaming Services\", 3.4, \"Senior Data Analyst, Data Instrumentation\", \"New York, NY\", 49000, 80000, 20, 40.7127753, -74.0059728, [\"Python\", \"SQL\", \"R\", \"Spark\"]], [\"Spectrum\", 2.9, \"Service Delivery Reporting & Data Analyst\", \"Stamford, CT\", 51000, 83000, 7, 41.0534302, -73.5387341, [\"SQL\", \"R\", \"Tableau\", \"Oracle\", \"Excel\"]], [\"Remedy BPCI Partners, LLC.\", 3.3, \"Senior Analyst, Claims Data Engineering\", \"New York, NY\", 104000, 139000, 28, 40.7127753, -74.0059728, [\"Python\", \"SQL\", \"R\", \"Spark\", \"SAS\", \"AWS\", \"S3\"]], [\"Ideal Innovations, Inc.\", 3.9, \"Data Analyst (Radar Systems) with Security Clearance\", \"Picatinny Arsenal, NJ\", 59000, 99000, 30, 40.9170764, -74.5805051, [\"R\", \"MATLAB\", \"Microsoft Office\", \"Excel\"]], [\"Avani Technology Solutions\", 4.5, \"JPSC-7176 - Position 35, 59, 62, 100,101,102, 141,142,166 : Senior Data Analyst\", \"Brooklyn, NY\", 76000, 115000, 22, 40.6781784, -73.9441579, [\"SQL\", \"R\"]], [\"Quantum Integrators Group\", 3.6, \"Position # 18 Clinical Data Analyst\", \"Princeton, NJ\", 46000, 70000, 6, 40.3572976, -74.6672226, [\"R\"]], [\"Syneos Health Commercial Solutions\", 3.5, \"Business Intelligence Analyst (Data Analyst)\", \"Somerset, NJ\", 61000, 84000, 15, 40.497604, -74.48848679999999, [\"SQL\", \"R\", \"Oracle\", \"Excel\", \"Business Intelligence\"]], [\"Cognizant Technology Solutions\", 3.7, \"Business Analyst Leader - Specialty Pharmacy Data\", \"East Hanover, NJ\", 84000, 118000, 10, 40.8200623, -74.3647247, [\"R\", \"AI\"]], [\"Argus Information & Advisory Services\", 4.0, \"Business Analyst - Enterprise Data Management Team (EDM) - CR\", \"White Plains, NY\", 42000, 67000, 5, 41.03398620000001, -73.7629097, [\"SQL\", \"R\", \"Oracle\", \"Excel\", \"Project Management\"]], [\"Verizon\", 3.6, \"Senior Data Analyst ETL Developer\", \"Bedminster, NJ\", 64000, 97000, 8, 40.669264, -74.68039999999999, [\"Python\", \"SQL\", \"R\", \"Hadoop\", \"NoSQL\", \"Oracle\", \"SPSS\", \"Data Science\", \"MongoDB\"]], [\"AC Lion (2)\", 4.2, \"Data Analyst Team Lead\", \"New York, NY\", 73000, 118000, 7, 40.7127753, -74.0059728, [\"Python\", \"SQL\", \"R\", \"Excel\", \"MySQL\"]], [\"Remedy BPCI Partners, LLC.\", 3.3, \"Data Support & Solutions Analyst\", \"Norwalk, CT\", 49000, 86000, 12, 41.11774399999999, -73.4081575, [\"R\", \"Excel\"]], [\"Spectrum\", 2.9, \"Sr Data Analyst\", \"Stamford, CT\", 71000, 103000, 12, 41.0534302, -73.5387341, [\"SQL\", \"R\", \"Excel\", \"Business Intelligence\"]], [\"Agneto Corp\", 0.0, \"Data Analyst - Data Engineer / Analyst\", \"Princeton Junction, Mercer, NJ\", 51000, 72000, 15, 40.3173301, -74.61987909999999, [\"SQL\", \"Excel\"]], [\"Newport Laboratories\", 2.2, \"Central Data Science Solutions (CDSS) Business Analyst or Principal Business Analyst\", \"Ridgefield, CT\", 52000, 85000, 22, 41.28406349999999, -73.4975412, [\"R\", \"SAS\", \"Oracle\", \"Excel\", \"Data Science\"]], [\"International Flavors & Fragrances\", 3.7, \"Lead Data Analyst, Advanced Analytics\", \"Union Beach, NJ\", 72000, 115000, 25, 40.4464962, -74.17819879999999, [\"Python\", \"Machine Learning\", \"R\", \"Hadoop\", \"Spark\", \"Tableau\", \"SAS\", \"Big Data\", \"AWS\", \"SPSS\", \"Business Intelligence\"]], [\"IT America Inc\", 4.2, \"Sr Data Analyst\", \"Purchase, NY\", 60000, 92000, 22, 41.0400135, -73.7144477, [\"SQL\", \"R\", \"Data Analysis\", \"Excel\"]], [\"Veterans Sourcing Group\", 2.8, \"Business Analyst - Data Governance\", \"Stamford, CT\", 51000, 79000, 30, 41.0534302, -73.5387341, [\"R\"]], [\"Blue Book Network Contractors Register\", 2.9, \"Programmer Analyst/Data Strategist\", \"Jefferson Valley, NY\", 45000, 62000, 7, 41.3138618, -73.80073399999999, [\"R\", \"Java\", \"Excel\", \"JavaScript\", \"Perl\"]], [\"ZS Associates, Inc.\", 3.9, \"Senior Business Technology Analyst / Big Data\", \"Princeton, NJ\", 91000, 113000, 25, 40.3572976, -74.6672226, [\"Python\", \"SQL\", \"R\", \"Hadoop\", \"Spark\", \"Java\", \"Hive\", \"Scala\", \"Kafka\", \"Pig\", \"HBase\", \"Business Intelligence\"]], [\"Verisk\", 3.4, \"Business Analyst - Enterprise Data Management Team (EDM) - CR\", \"White Plains, NY\", 48000, 75000, 5, 41.03398620000001, -73.7629097, [\"SQL\", \"R\", \"Oracle\", \"Excel\", \"Project Management\"]], [\"Syneos Health\", 3.3, \"Principal Programmer Analyst (Hadoop/Big Data)\", \"Somerset, NJ\", 91000, 152000, 6, 40.497604, -74.48848679999999, [\"SQL\", \"R\", \"Hadoop\", \"Spark\", \"Hive\", \"Big Data\", \"NoSQL\", \"Oracle\", \"Linux\", \"HBase\", \"Business Intelligence\"]]], \"hoverlabel\": {\"namelength\": 0}, \"hovertemplate\": \"rating=%{customdata[1]}<br>company=%{customdata[0]}<br>title=%{customdata[2]}<br>location=%{customdata[3]}<br>min=%{customdata[4]}<br>max=%{customdata[5]}<br>datepost=%{customdata[6]}<br>lat=%{customdata[7]}<br>lng=%{customdata[8]}<br>skills=%{customdata[9]}\", \"legendgroup\": \"\", \"marker\": {\"color\": \"#636efa\"}, \"name\": \"\", \"offsetgroup\": \"\", \"scalegroup\": \"x\", \"showlegend\": false, \"type\": \"violin\", \"x\": [3.5, 3.5, 2.7, 4.5, 3.6, 3.7, 3.9, 4.6, 3.2, 4.7, 3.6, 3.2, 4.0, 4.5, 3.4, 3.7, 2.7, 3.1, 3.8, 4.1, 3.7, 3.6, 4.3, 3.6, 3.5, 4.4, 4.1, 3.8, 4.2, 4.2, 4.2, 4.0, 3.6, 4.0, 4.5, 3.7, 3.9, 4.0, 3.6, 3.4, 4.1, 3.6, 3.6, 4.1, 3.9, 3.7, 4.3, 3.9, 3.8, 3.6, 3.3, 3.8, 3.8, 2.8, 3.8, 3.7, 3.4, 4.1, 3.2, 3.5, 4.2, 3.1, 4.2, 4.5, 3.7, 4.0, 3.0, 3.8, 3.5, 3.7, 2.8, 2.7, 2.8, 2.8, 3.2, 4.6, 3.2, 4.2, 4.5, 3.5, 4.0, 3.2, 3.3, 3.6, 3.1, 4.6, 3.6, 3.8, 4.0, 3.6, 3.7, 3.9, 3.7, 3.8, 4.4, 3.8, 3.5, 2.8, 4.3, 3.4, 3.6, 3.7, 4.1, 3.6, 4.3, 4.2, 3.5, 2.6, 3.3, 4.5, 3.8, 2.9, 4.5, 3.7, 3.8, 4.0, 4.1, 3.5, 2.7, 3.3, 4.4, 2.8, 4.3, 2.6, 3.3, 4.1, 4.1, 3.9, 4.1, 4.0, 4.3, 4.8, 4.0, 4.3, 3.8, 3.5, 3.9, 3.6, 4.3, 2.9, 3.1, 3.5, 4.2, 3.1, 3.1, 3.6, 4.1, 3.7, 4.0, 4.4, 4.2, 3.7, 4.5, 2.9, 4.1, 3.8, 3.0, 3.5, 4.3, 3.4, 3.4, 4.4, 3.3, 3.5, 4.3, 3.7, 3.1, 4.2, 3.8, 4.0, 2.5, 3.8, 3.5, 4.2, 3.5, 2.7, 3.0, 3.6, 3.5, 3.4, 3.6, 4.2, 3.4, 2.9, 3.5, 3.1, 3.4, 4.3, 2.7, 4.1, 3.8, 3.2, 3.5, 3.6, 4.2, 3.9, 3.5, 3.0, 3.5, 3.2, 3.8, 3.6, 4.4, 3.8, 2.9, 2.7, 3.7, 3.4, 4.1, 3.4, 3.8, 2.9, 3.6, 4.1, 4.3, 5.0, 3.1, 3.0, 4.3, 3.3, 3.9, 3.4, 3.0, 3.4, 4.2, 3.0, 3.3, 4.0, 2.7, 2.9, 3.2, 3.5, 4.0, 4.0, 3.4, 3.5, 4.0, 4.9, 4.7, 3.4, 4.4, 3.1, 2.9, 3.7, 4.1, 3.2, 2.9, 3.9, 3.8, 1.0, 3.1, 3.2, 2.7, 2.9, 2.5, 3.6, 3.4, 3.7, 3.1, 3.8, 3.5, 3.6, 3.3, 2.7, 3.6, 3.5, 4.9, 4.3, 3.2, 3.0, 3.6, 3.6, 3.1, 4.0, 3.1, 4.8, 4.0, 4.3, 3.3, 4.2, 3.6, 3.3, 3.5, 2.7, 3.1, 3.6, 3.7, 3.6, 4.7, 3.9, 4.6, 3.4, 4.2, 3.8, 3.4, 3.5, 3.9, 3.5, 3.6, 3.4, 2.7, 3.0, 3.1, 3.8, 3.8, 4.0, 3.9, 3.4, 3.7, 4.3, 3.4, 3.7, 3.0, 3.6, 3.4, 2.1, 3.7, 3.1, 3.5, 3.5, 3.6, 2.8, 3.2, 3.2, 3.5, 3.1, 3.1, 2.7, 3.8, 1.0, 3.4, 4.3, 2.1, 4.6, 3.4, 4.2, 2.5, 2.2, 4.0, 3.1, 3.6, 3.1, 3.6, 2.1, 3.8, 3.4, 3.3, 3.8, 3.4, 4.0, 4.2, 3.8, 3.7, 2.1, 3.8, 3.8, 3.4, 3.6, 3.7, 4.7, 3.5, 3.7, 4.1, 3.6, 3.5, 3.7, 3.1, 4.2, 4.5, 4.2, 2.2, 3.7, 2.8, 3.0, 3.5, 3.8, 3.6, 2.8, 3.8, 3.3, 3.6, 3.2, 4.5, 2.8, 3.6, 4.6, 3.1, 3.7, 4.8, 3.8, 4.2, 2.8, 3.9, 3.8, 4.2, 3.5, 3.5, 3.1, 3.4, 3.5, 3.5, 2.6, 3.7, 3.8, 3.1, 3.7, 3.4, 3.1, 2.8, 3.4, 3.6, 3.5, 3.4, 5.0, 3.4, 2.9, 3.2, 3.7, 3.7, 3.1, 3.4, 3.8, 3.4, 4.1, 5.0, 3.1, 2.5, 3.2, 3.4, 3.6, 3.7, 3.6, 3.6, 2.9, 3.4, 3.4, 3.6, 3.6, 3.8, 3.4, 2.7, 3.8, 3.4, 3.1, 3.5, 3.9, 4.8, 2.9, 3.8, 3.7, 3.1, 3.9, 3.1, 3.4, 3.8, 4.0, 4.2, 3.2, 3.8, 3.0, 2.3, 2.4, 2.1, 3.5, 3.9, 3.6, 2.3, 4.1, 3.4, 4.2, 3.1, 2.5, 3.1, 3.2, 3.2, 3.1, 3.2, 3.1, 2.9, 2.9, 3.6, 3.8, 3.3, 3.2, 3.4, 2.9, 3.3, 3.9, 4.5, 3.6, 3.5, 3.7, 4.0, 3.6, 4.2, 3.3, 2.9, 0.0, 2.2, 3.7, 4.2, 2.8, 2.9, 3.9, 3.4, 3.3], \"xaxis\": \"x2\", \"yaxis\": \"y2\"}],\n",
       "                        {\"barmode\": \"relative\", \"height\": 600, \"legend\": {\"tracegroupgap\": 0}, \"margin\": {\"t\": 60}, \"template\": {\"data\": {\"bar\": [{\"error_x\": {\"color\": \"#2a3f5f\"}, \"error_y\": {\"color\": \"#2a3f5f\"}, \"marker\": {\"line\": {\"color\": \"#E5ECF6\", \"width\": 0.5}}, \"type\": \"bar\"}], \"barpolar\": [{\"marker\": {\"line\": {\"color\": \"#E5ECF6\", \"width\": 0.5}}, \"type\": \"barpolar\"}], \"carpet\": [{\"aaxis\": {\"endlinecolor\": \"#2a3f5f\", \"gridcolor\": \"white\", \"linecolor\": \"white\", \"minorgridcolor\": \"white\", \"startlinecolor\": \"#2a3f5f\"}, \"baxis\": {\"endlinecolor\": \"#2a3f5f\", \"gridcolor\": \"white\", \"linecolor\": \"white\", \"minorgridcolor\": \"white\", \"startlinecolor\": \"#2a3f5f\"}, \"type\": \"carpet\"}], \"choropleth\": [{\"colorbar\": {\"outlinewidth\": 0, \"ticks\": \"\"}, \"type\": \"choropleth\"}], \"contour\": [{\"colorbar\": {\"outlinewidth\": 0, \"ticks\": \"\"}, \"colorscale\": [[0.0, \"#0d0887\"], [0.1111111111111111, \"#46039f\"], [0.2222222222222222, \"#7201a8\"], [0.3333333333333333, \"#9c179e\"], [0.4444444444444444, \"#bd3786\"], [0.5555555555555556, \"#d8576b\"], [0.6666666666666666, \"#ed7953\"], [0.7777777777777778, \"#fb9f3a\"], [0.8888888888888888, \"#fdca26\"], [1.0, \"#f0f921\"]], \"type\": \"contour\"}], \"contourcarpet\": [{\"colorbar\": {\"outlinewidth\": 0, \"ticks\": \"\"}, \"type\": \"contourcarpet\"}], \"heatmap\": [{\"colorbar\": {\"outlinewidth\": 0, \"ticks\": \"\"}, \"colorscale\": [[0.0, \"#0d0887\"], [0.1111111111111111, \"#46039f\"], [0.2222222222222222, \"#7201a8\"], [0.3333333333333333, \"#9c179e\"], [0.4444444444444444, \"#bd3786\"], [0.5555555555555556, \"#d8576b\"], [0.6666666666666666, \"#ed7953\"], [0.7777777777777778, \"#fb9f3a\"], [0.8888888888888888, \"#fdca26\"], [1.0, \"#f0f921\"]], \"type\": \"heatmap\"}], \"heatmapgl\": [{\"colorbar\": {\"outlinewidth\": 0, \"ticks\": \"\"}, \"colorscale\": [[0.0, \"#0d0887\"], [0.1111111111111111, \"#46039f\"], [0.2222222222222222, \"#7201a8\"], [0.3333333333333333, \"#9c179e\"], [0.4444444444444444, \"#bd3786\"], [0.5555555555555556, \"#d8576b\"], [0.6666666666666666, \"#ed7953\"], [0.7777777777777778, \"#fb9f3a\"], [0.8888888888888888, \"#fdca26\"], [1.0, \"#f0f921\"]], \"type\": \"heatmapgl\"}], \"histogram\": [{\"marker\": {\"colorbar\": {\"outlinewidth\": 0, \"ticks\": \"\"}}, \"type\": \"histogram\"}], \"histogram2d\": [{\"colorbar\": {\"outlinewidth\": 0, \"ticks\": \"\"}, \"colorscale\": [[0.0, \"#0d0887\"], [0.1111111111111111, \"#46039f\"], [0.2222222222222222, \"#7201a8\"], [0.3333333333333333, \"#9c179e\"], [0.4444444444444444, \"#bd3786\"], [0.5555555555555556, \"#d8576b\"], [0.6666666666666666, \"#ed7953\"], [0.7777777777777778, \"#fb9f3a\"], [0.8888888888888888, \"#fdca26\"], [1.0, \"#f0f921\"]], \"type\": \"histogram2d\"}], \"histogram2dcontour\": [{\"colorbar\": {\"outlinewidth\": 0, \"ticks\": \"\"}, \"colorscale\": [[0.0, \"#0d0887\"], [0.1111111111111111, \"#46039f\"], [0.2222222222222222, \"#7201a8\"], [0.3333333333333333, \"#9c179e\"], [0.4444444444444444, \"#bd3786\"], [0.5555555555555556, \"#d8576b\"], [0.6666666666666666, \"#ed7953\"], [0.7777777777777778, \"#fb9f3a\"], [0.8888888888888888, \"#fdca26\"], [1.0, \"#f0f921\"]], \"type\": \"histogram2dcontour\"}], \"mesh3d\": [{\"colorbar\": {\"outlinewidth\": 0, \"ticks\": \"\"}, \"type\": \"mesh3d\"}], \"parcoords\": [{\"line\": {\"colorbar\": {\"outlinewidth\": 0, \"ticks\": \"\"}}, \"type\": \"parcoords\"}], \"scatter\": [{\"marker\": {\"colorbar\": {\"outlinewidth\": 0, \"ticks\": \"\"}}, \"type\": \"scatter\"}], \"scatter3d\": [{\"line\": {\"colorbar\": {\"outlinewidth\": 0, \"ticks\": \"\"}}, \"marker\": {\"colorbar\": {\"outlinewidth\": 0, \"ticks\": \"\"}}, \"type\": \"scatter3d\"}], \"scattercarpet\": [{\"marker\": {\"colorbar\": {\"outlinewidth\": 0, \"ticks\": \"\"}}, \"type\": \"scattercarpet\"}], \"scattergeo\": [{\"marker\": {\"colorbar\": {\"outlinewidth\": 0, \"ticks\": \"\"}}, \"type\": \"scattergeo\"}], \"scattergl\": [{\"marker\": {\"colorbar\": {\"outlinewidth\": 0, \"ticks\": \"\"}}, \"type\": \"scattergl\"}], \"scattermapbox\": [{\"marker\": {\"colorbar\": {\"outlinewidth\": 0, \"ticks\": \"\"}}, \"type\": \"scattermapbox\"}], \"scatterpolar\": [{\"marker\": {\"colorbar\": {\"outlinewidth\": 0, \"ticks\": \"\"}}, \"type\": \"scatterpolar\"}], \"scatterpolargl\": [{\"marker\": {\"colorbar\": {\"outlinewidth\": 0, \"ticks\": \"\"}}, \"type\": \"scatterpolargl\"}], \"scatterternary\": [{\"marker\": {\"colorbar\": {\"outlinewidth\": 0, \"ticks\": \"\"}}, \"type\": \"scatterternary\"}], \"surface\": [{\"colorbar\": {\"outlinewidth\": 0, \"ticks\": \"\"}, \"colorscale\": [[0.0, \"#0d0887\"], [0.1111111111111111, \"#46039f\"], [0.2222222222222222, \"#7201a8\"], [0.3333333333333333, \"#9c179e\"], [0.4444444444444444, \"#bd3786\"], [0.5555555555555556, \"#d8576b\"], [0.6666666666666666, \"#ed7953\"], [0.7777777777777778, \"#fb9f3a\"], [0.8888888888888888, \"#fdca26\"], [1.0, \"#f0f921\"]], \"type\": \"surface\"}], \"table\": [{\"cells\": {\"fill\": {\"color\": \"#EBF0F8\"}, \"line\": {\"color\": \"white\"}}, \"header\": {\"fill\": {\"color\": \"#C8D4E3\"}, \"line\": {\"color\": \"white\"}}, \"type\": \"table\"}]}, \"layout\": {\"annotationdefaults\": {\"arrowcolor\": \"#2a3f5f\", \"arrowhead\": 0, \"arrowwidth\": 1}, \"colorscale\": {\"diverging\": [[0, \"#8e0152\"], [0.1, \"#c51b7d\"], [0.2, \"#de77ae\"], [0.3, \"#f1b6da\"], [0.4, \"#fde0ef\"], [0.5, \"#f7f7f7\"], [0.6, \"#e6f5d0\"], [0.7, \"#b8e186\"], [0.8, \"#7fbc41\"], [0.9, \"#4d9221\"], [1, \"#276419\"]], \"sequential\": [[0.0, \"#0d0887\"], [0.1111111111111111, \"#46039f\"], [0.2222222222222222, \"#7201a8\"], [0.3333333333333333, \"#9c179e\"], [0.4444444444444444, \"#bd3786\"], [0.5555555555555556, \"#d8576b\"], [0.6666666666666666, \"#ed7953\"], [0.7777777777777778, \"#fb9f3a\"], [0.8888888888888888, \"#fdca26\"], [1.0, \"#f0f921\"]], \"sequentialminus\": [[0.0, \"#0d0887\"], [0.1111111111111111, \"#46039f\"], [0.2222222222222222, \"#7201a8\"], [0.3333333333333333, \"#9c179e\"], [0.4444444444444444, \"#bd3786\"], [0.5555555555555556, \"#d8576b\"], [0.6666666666666666, \"#ed7953\"], [0.7777777777777778, \"#fb9f3a\"], [0.8888888888888888, \"#fdca26\"], [1.0, \"#f0f921\"]]}, \"colorway\": [\"#636efa\", \"#EF553B\", \"#00cc96\", \"#ab63fa\", \"#FFA15A\", \"#19d3f3\", \"#FF6692\", \"#B6E880\", \"#FF97FF\", \"#FECB52\"], \"font\": {\"color\": \"#2a3f5f\"}, \"geo\": {\"bgcolor\": \"white\", \"lakecolor\": \"white\", \"landcolor\": \"#E5ECF6\", \"showlakes\": true, \"showland\": true, \"subunitcolor\": \"white\"}, \"hoverlabel\": {\"align\": \"left\"}, \"hovermode\": \"closest\", \"mapbox\": {\"style\": \"light\"}, \"paper_bgcolor\": \"white\", \"plot_bgcolor\": \"#E5ECF6\", \"polar\": {\"angularaxis\": {\"gridcolor\": \"white\", \"linecolor\": \"white\", \"ticks\": \"\"}, \"bgcolor\": \"#E5ECF6\", \"radialaxis\": {\"gridcolor\": \"white\", \"linecolor\": \"white\", \"ticks\": \"\"}}, \"scene\": {\"xaxis\": {\"backgroundcolor\": \"#E5ECF6\", \"gridcolor\": \"white\", \"gridwidth\": 2, \"linecolor\": \"white\", \"showbackground\": true, \"ticks\": \"\", \"zerolinecolor\": \"white\"}, \"yaxis\": {\"backgroundcolor\": \"#E5ECF6\", \"gridcolor\": \"white\", \"gridwidth\": 2, \"linecolor\": \"white\", \"showbackground\": true, \"ticks\": \"\", \"zerolinecolor\": \"white\"}, \"zaxis\": {\"backgroundcolor\": \"#E5ECF6\", \"gridcolor\": \"white\", \"gridwidth\": 2, \"linecolor\": \"white\", \"showbackground\": true, \"ticks\": \"\", \"zerolinecolor\": \"white\"}}, \"shapedefaults\": {\"line\": {\"color\": \"#2a3f5f\"}}, \"ternary\": {\"aaxis\": {\"gridcolor\": \"white\", \"linecolor\": \"white\", \"ticks\": \"\"}, \"baxis\": {\"gridcolor\": \"white\", \"linecolor\": \"white\", \"ticks\": \"\"}, \"bgcolor\": \"#E5ECF6\", \"caxis\": {\"gridcolor\": \"white\", \"linecolor\": \"white\", \"ticks\": \"\"}}, \"title\": {\"x\": 0.05}, \"xaxis\": {\"automargin\": true, \"gridcolor\": \"white\", \"linecolor\": \"white\", \"ticks\": \"\", \"zerolinecolor\": \"white\", \"zerolinewidth\": 2}, \"yaxis\": {\"automargin\": true, \"gridcolor\": \"white\", \"linecolor\": \"white\", \"ticks\": \"\", \"zerolinecolor\": \"white\", \"zerolinewidth\": 2}}}, \"xaxis\": {\"anchor\": \"y\", \"domain\": [0.0, 0.98]}, \"xaxis2\": {\"anchor\": \"y2\", \"domain\": [0.0, 0.98], \"matches\": \"x\", \"showgrid\": true, \"showticklabels\": false}, \"yaxis\": {\"anchor\": \"x\", \"domain\": [0.0, 0.8316], \"title\": {\"text\": \"count\"}}, \"yaxis2\": {\"anchor\": \"x2\", \"domain\": [0.8416, 1.0], \"matches\": \"y2\", \"showgrid\": false, \"showticklabels\": false}},\n",
       "                        {\"responsive\": true}\n",
       "                    ).then(function(){\n",
       "                            \n",
       "var gd = document.getElementById('9c67cd77-5d85-4667-94a2-2358ae761cf7');\n",
       "var x = new MutationObserver(function (mutations, observer) {{\n",
       "        var display = window.getComputedStyle(gd).display;\n",
       "        if (!display || display === 'none') {{\n",
       "            console.log([gd, 'removed!']);\n",
       "            Plotly.purge(gd);\n",
       "            observer.disconnect();\n",
       "        }}\n",
       "}});\n",
       "\n",
       "// Listen for the removal of the full notebook cells\n",
       "var notebookContainer = gd.closest('#notebook-container');\n",
       "if (notebookContainer) {{\n",
       "    x.observe(notebookContainer, {childList: true});\n",
       "}}\n",
       "\n",
       "// Listen for the clearing of the current output cell\n",
       "var outputEl = gd.closest('.output');\n",
       "if (outputEl) {{\n",
       "    x.observe(outputEl, {childList: true});\n",
       "}}\n",
       "\n",
       "                        })\n",
       "                };\n",
       "                });\n",
       "            </script>\n",
       "        </div>"
      ]
     },
     "metadata": {},
     "output_type": "display_data"
    }
   ],
   "source": [
    "import plotly.express as px\n",
    "tips = df_update.dropna()\n",
    "fig = px.histogram(tips, x=\"rating\",\n",
    "                   marginal=\"violin\", # or violin, rug\n",
    "                   hover_data=tips.columns)\n",
    "fig.show()"
   ]
  },
  {
   "cell_type": "markdown",
   "metadata": {},
   "source": [
    "### Sort DataFrame by Average Salary to Viz"
   ]
  },
  {
   "cell_type": "code",
   "execution_count": 103,
   "metadata": {
    "ExecuteTime": {
     "end_time": "2019-11-18T21:13:50.591407Z",
     "start_time": "2019-11-18T21:13:50.561692Z"
    }
   },
   "outputs": [
    {
     "data": {
      "text/html": [
       "<div>\n",
       "<style scoped>\n",
       "    .dataframe tbody tr th:only-of-type {\n",
       "        vertical-align: middle;\n",
       "    }\n",
       "\n",
       "    .dataframe tbody tr th {\n",
       "        vertical-align: top;\n",
       "    }\n",
       "\n",
       "    .dataframe thead th {\n",
       "        text-align: right;\n",
       "    }\n",
       "</style>\n",
       "<table border=\"1\" class=\"dataframe\">\n",
       "  <thead>\n",
       "    <tr style=\"text-align: right;\">\n",
       "      <th></th>\n",
       "      <th>company</th>\n",
       "      <th>rating</th>\n",
       "      <th>min</th>\n",
       "      <th>max</th>\n",
       "      <th>.Net</th>\n",
       "      <th>AI</th>\n",
       "      <th>AWS</th>\n",
       "      <th>Azure</th>\n",
       "      <th>Big Data</th>\n",
       "      <th>Business Intelligence</th>\n",
       "      <th>...</th>\n",
       "      <th>SPSS</th>\n",
       "      <th>SQL</th>\n",
       "      <th>Scala</th>\n",
       "      <th>Scripting</th>\n",
       "      <th>Shell Scripting</th>\n",
       "      <th>Software Development</th>\n",
       "      <th>Spark</th>\n",
       "      <th>Tableau</th>\n",
       "      <th>TensorFlow</th>\n",
       "      <th>Average</th>\n",
       "    </tr>\n",
       "  </thead>\n",
       "  <tbody>\n",
       "    <tr>\n",
       "      <th>0</th>\n",
       "      <td>The Bank of New York Mellon</td>\n",
       "      <td>3.1</td>\n",
       "      <td>158000</td>\n",
       "      <td>223000</td>\n",
       "      <td>0.0</td>\n",
       "      <td>0.0</td>\n",
       "      <td>0.0</td>\n",
       "      <td>0.0</td>\n",
       "      <td>0.0</td>\n",
       "      <td>0.0</td>\n",
       "      <td>...</td>\n",
       "      <td>0.0</td>\n",
       "      <td>0.0</td>\n",
       "      <td>0.0</td>\n",
       "      <td>0.0</td>\n",
       "      <td>0.0</td>\n",
       "      <td>0.0</td>\n",
       "      <td>0.0</td>\n",
       "      <td>0.0</td>\n",
       "      <td>0.0</td>\n",
       "      <td>190500</td>\n",
       "    </tr>\n",
       "    <tr>\n",
       "      <th>1</th>\n",
       "      <td>SoFi</td>\n",
       "      <td>3.6</td>\n",
       "      <td>156000</td>\n",
       "      <td>209000</td>\n",
       "      <td>0.0</td>\n",
       "      <td>0.0</td>\n",
       "      <td>0.0</td>\n",
       "      <td>0.0</td>\n",
       "      <td>0.0</td>\n",
       "      <td>0.0</td>\n",
       "      <td>...</td>\n",
       "      <td>0.0</td>\n",
       "      <td>1.0</td>\n",
       "      <td>0.0</td>\n",
       "      <td>0.0</td>\n",
       "      <td>0.0</td>\n",
       "      <td>0.0</td>\n",
       "      <td>0.0</td>\n",
       "      <td>1.0</td>\n",
       "      <td>0.0</td>\n",
       "      <td>182500</td>\n",
       "    </tr>\n",
       "    <tr>\n",
       "      <th>2</th>\n",
       "      <td>Deloitte</td>\n",
       "      <td>3.8</td>\n",
       "      <td>132000</td>\n",
       "      <td>185000</td>\n",
       "      <td>0.0</td>\n",
       "      <td>0.0</td>\n",
       "      <td>0.0</td>\n",
       "      <td>0.0</td>\n",
       "      <td>0.0</td>\n",
       "      <td>0.0</td>\n",
       "      <td>...</td>\n",
       "      <td>0.0</td>\n",
       "      <td>1.0</td>\n",
       "      <td>0.0</td>\n",
       "      <td>0.0</td>\n",
       "      <td>0.0</td>\n",
       "      <td>0.0</td>\n",
       "      <td>0.0</td>\n",
       "      <td>0.0</td>\n",
       "      <td>0.0</td>\n",
       "      <td>158500</td>\n",
       "    </tr>\n",
       "    <tr>\n",
       "      <th>3</th>\n",
       "      <td>Deloitte</td>\n",
       "      <td>3.8</td>\n",
       "      <td>132000</td>\n",
       "      <td>185000</td>\n",
       "      <td>0.0</td>\n",
       "      <td>0.0</td>\n",
       "      <td>0.0</td>\n",
       "      <td>0.0</td>\n",
       "      <td>0.0</td>\n",
       "      <td>0.0</td>\n",
       "      <td>...</td>\n",
       "      <td>0.0</td>\n",
       "      <td>1.0</td>\n",
       "      <td>0.0</td>\n",
       "      <td>0.0</td>\n",
       "      <td>0.0</td>\n",
       "      <td>0.0</td>\n",
       "      <td>0.0</td>\n",
       "      <td>0.0</td>\n",
       "      <td>0.0</td>\n",
       "      <td>158500</td>\n",
       "    </tr>\n",
       "    <tr>\n",
       "      <th>4</th>\n",
       "      <td>S&amp;P Global</td>\n",
       "      <td>3.5</td>\n",
       "      <td>121000</td>\n",
       "      <td>194000</td>\n",
       "      <td>0.0</td>\n",
       "      <td>0.0</td>\n",
       "      <td>0.0</td>\n",
       "      <td>0.0</td>\n",
       "      <td>0.0</td>\n",
       "      <td>0.0</td>\n",
       "      <td>...</td>\n",
       "      <td>0.0</td>\n",
       "      <td>1.0</td>\n",
       "      <td>0.0</td>\n",
       "      <td>0.0</td>\n",
       "      <td>0.0</td>\n",
       "      <td>0.0</td>\n",
       "      <td>0.0</td>\n",
       "      <td>0.0</td>\n",
       "      <td>0.0</td>\n",
       "      <td>157500</td>\n",
       "    </tr>\n",
       "  </tbody>\n",
       "</table>\n",
       "<p>5 rows × 50 columns</p>\n",
       "</div>"
      ],
      "text/plain": [
       "                       company  rating     min     max  .Net   AI  AWS  Azure  \\\n",
       "0  The Bank of New York Mellon     3.1  158000  223000   0.0  0.0  0.0    0.0   \n",
       "1                         SoFi     3.6  156000  209000   0.0  0.0  0.0    0.0   \n",
       "2                     Deloitte     3.8  132000  185000   0.0  0.0  0.0    0.0   \n",
       "3                     Deloitte     3.8  132000  185000   0.0  0.0  0.0    0.0   \n",
       "4                   S&P Global     3.5  121000  194000   0.0  0.0  0.0    0.0   \n",
       "\n",
       "   Big Data  Business Intelligence  ...  SPSS  SQL  Scala  Scripting  \\\n",
       "0       0.0                    0.0  ...   0.0  0.0    0.0        0.0   \n",
       "1       0.0                    0.0  ...   0.0  1.0    0.0        0.0   \n",
       "2       0.0                    0.0  ...   0.0  1.0    0.0        0.0   \n",
       "3       0.0                    0.0  ...   0.0  1.0    0.0        0.0   \n",
       "4       0.0                    0.0  ...   0.0  1.0    0.0        0.0   \n",
       "\n",
       "   Shell Scripting  Software Development  Spark  Tableau  TensorFlow  Average  \n",
       "0              0.0                   0.0    0.0      0.0         0.0   190500  \n",
       "1              0.0                   0.0    0.0      1.0         0.0   182500  \n",
       "2              0.0                   0.0    0.0      0.0         0.0   158500  \n",
       "3              0.0                   0.0    0.0      0.0         0.0   158500  \n",
       "4              0.0                   0.0    0.0      0.0         0.0   157500  \n",
       "\n",
       "[5 rows x 50 columns]"
      ]
     },
     "execution_count": 103,
     "metadata": {},
     "output_type": "execute_result"
    }
   ],
   "source": [
    "df_update_all_num = pd.concat([df_update, df_skill], axis=1)\n",
    "df_update_all_num = df_update_all_num.drop(columns=['title','location','skills','datepost','lat','lng'])\n",
    "df_update_all_num['Average'] = (df_update_all_num['min']+df_update_all_num['max'])/2\n",
    "df_update_all_num.Average = df_update_all_num.Average.astype(int)\n",
    "df_update_all_num = df_update_all_num.sort_values('Average', ascending=False)\n",
    "df_update_all_num = df_update_all_num.reset_index(drop=True)\n",
    "df_update_all_num.head()"
   ]
  },
  {
   "cell_type": "markdown",
   "metadata": {},
   "source": [
    "### Building Model to Predict Salary Range with Skills & Rating"
   ]
  },
  {
   "cell_type": "code",
   "execution_count": 104,
   "metadata": {
    "ExecuteTime": {
     "end_time": "2019-11-18T21:13:50.597325Z",
     "start_time": "2019-11-18T21:13:50.594173Z"
    }
   },
   "outputs": [],
   "source": [
    "import matplotlib.pyplot as plt\n",
    "import xgboost as xgb\n",
    "import math\n",
    "from sklearn.metrics import mean_squared_error\n",
    "from sklearn.metrics import accuracy_score\n",
    "from xgboost import XGBClassifier"
   ]
  },
  {
   "cell_type": "code",
   "execution_count": 105,
   "metadata": {
    "ExecuteTime": {
     "end_time": "2019-11-18T21:13:50.604096Z",
     "start_time": "2019-11-18T21:13:50.599906Z"
    }
   },
   "outputs": [],
   "source": [
    "feature_names = list(df_update_all_num.drop(columns=['min','max','Average','company']).columns)"
   ]
  },
  {
   "cell_type": "code",
   "execution_count": 106,
   "metadata": {
    "ExecuteTime": {
     "end_time": "2019-11-18T21:13:50.613531Z",
     "start_time": "2019-11-18T21:13:50.606796Z"
    }
   },
   "outputs": [],
   "source": [
    "def max_n_estimators(mm,start_n_estimators,max_n_estimators, step):\n",
    "    RMSE_list = []\n",
    "    n_estimators_list = []\n",
    "\n",
    "    X = df_update_all_num[feature_names].values\n",
    "    y = df_update_all_num[mm].values\n",
    "\n",
    "    data_dmatrix=xgb.DMatrix(data=X, label=y)\n",
    "\n",
    "    from sklearn.model_selection import train_test_split\n",
    "    X_train, X_test, y_train, y_test= train_test_split(X, y, test_size=0.2, random_state=123)\n",
    "\n",
    "\n",
    "    for n_estimators in np.arange(start_n_estimators,max_n_estimators, step):\n",
    "        xgb_model = xgb.XGBRegressor(objective=\"reg:squarederror\", random_state=42,n_estimators = n_estimators)\n",
    "\n",
    "        xgb_model.fit(X_train, y_train)\n",
    "\n",
    "        y_pred = xgb_model.predict(X)\n",
    "\n",
    "        mse=mean_squared_error(y, y_pred)\n",
    "        n_estimators_list.append(n_estimators)\n",
    "        RMSE_list.append(np.sqrt(mse))\n",
    "    df = pd.DataFrame({'n_estimators_list' : n_estimators_list,\n",
    "                           'RMSE_list' : RMSE_list},\n",
    "                          columns=['n_estimators_list','RMSE_list'])\n",
    "    return df"
   ]
  },
  {
   "cell_type": "code",
   "execution_count": 107,
   "metadata": {
    "ExecuteTime": {
     "end_time": "2019-11-18T21:22:28.907998Z",
     "start_time": "2019-11-18T21:13:50.616121Z"
    },
    "scrolled": true
   },
   "outputs": [],
   "source": [
    "df_nestimators_min = max_n_estimators('min',50,5000,50)\n",
    "df_nestimators_max = max_n_estimators('max',50,5000,50)"
   ]
  },
  {
   "cell_type": "code",
   "execution_count": 108,
   "metadata": {
    "ExecuteTime": {
     "end_time": "2019-11-18T21:22:29.084867Z",
     "start_time": "2019-11-18T21:22:28.911664Z"
    }
   },
   "outputs": [
    {
     "data": {
      "application/vnd.plotly.v1+json": {
       "config": {
        "plotlyServerURL": "https://plot.ly"
       },
       "data": [
        {
         "mode": "markers",
         "name": "min",
         "type": "scatter",
         "x": [
          100,
          150,
          200,
          250,
          300,
          350,
          400,
          450,
          500,
          550,
          600,
          650,
          700,
          750,
          800,
          850,
          900,
          950,
          1000,
          1050,
          1100,
          1150,
          1200,
          1250,
          1300,
          1350,
          1400,
          1450,
          1500,
          1550,
          1600,
          1650,
          1700,
          1750,
          1800,
          1850,
          1900,
          1950,
          2000,
          2050,
          2100,
          2150,
          2200,
          2250,
          2300,
          2350,
          2400,
          2450,
          2500,
          2550,
          2600,
          2650,
          2700,
          2750,
          2800,
          2850,
          2900,
          2950,
          3000,
          3050,
          3100,
          3150,
          3200,
          3250,
          3300,
          3350,
          3400,
          3450,
          3500,
          3550,
          3600,
          3650,
          3700,
          3750,
          3800,
          3850,
          3900,
          3950,
          4000,
          4050,
          4100,
          4150,
          4200,
          4250,
          4300,
          4350,
          4400,
          4450,
          4500,
          4550,
          4600,
          4650,
          4700,
          4750,
          4800,
          4850,
          4900,
          4950
         ],
         "y": [
          15151.104289104242,
          14873.384743038252,
          14649.780475747557,
          14535.431306639197,
          14338.874003073142,
          14174.767553202093,
          14050.75985702049,
          13927.886676143362,
          13853.805019641852,
          13746.845454777129,
          13646.759645845235,
          13574.820383972366,
          13461.799127823448,
          13427.060142597851,
          13364.286305532914,
          13343.026908806109,
          13313.843345370393,
          13292.798052349091,
          13263.604247262785,
          13188.885671735346,
          13152.308254276024,
          13116.618131838812,
          13074.615150900856,
          13044.605989154434,
          13019.462496076709,
          13005.542088512853,
          12991.98574937135,
          12986.601404138572,
          12972.067217683469,
          12962.732150475513,
          12952.18869683001,
          12913.037716511646,
          12894.640016761343,
          12859.34321641627,
          12853.016221082675,
          12850.83577346424,
          12854.138002821974,
          12851.749905222561,
          12842.192666764537,
          12837.482676772355,
          12840.401576588096,
          12838.99455251606,
          12823.087534035449,
          12818.301244646364,
          12814.98601320495,
          12812.725090875816,
          12818.062374855861,
          12826.791248837912,
          12837.983048227417,
          12838.318410969849,
          12832.025443089717,
          12828.83159255139,
          12837.821763765538,
          12836.550105320313,
          12845.215941860968,
          12850.771532505903,
          12839.248158829496,
          12843.074179857995,
          12843.843900191036,
          12845.100534039684,
          12850.222705749085,
          12850.132630522872,
          12851.2350542215,
          12855.607869009858,
          12863.00327445456,
          12869.166618355239,
          12868.647883563906,
          12888.36382805118,
          12889.584914533283,
          12891.659650038488,
          12902.452689245189,
          12918.234322094671,
          12933.987045707969,
          12938.990668156053,
          12950.731266690513,
          12954.341700497882,
          12957.654514330086,
          12958.320356751206,
          12976.148619847727,
          12983.867880915044,
          12987.865164606133,
          12990.734613845614,
          12992.599167198936,
          12997.035410424782,
          12999.820954109087,
          13000.964269699585,
          13010.253560255958,
          13018.652818261313,
          13029.684968860327,
          13041.440252705415,
          13047.6317983831,
          13051.164291854486,
          13058.391082329437,
          13066.7707793539,
          13071.172143776044,
          13080.230885972485,
          13087.50478411397,
          13091.045134284788
         ]
        },
        {
         "mode": "markers",
         "name": "max",
         "type": "scatter",
         "x": [
          100,
          150,
          200,
          250,
          300,
          350,
          400,
          450,
          500,
          550,
          600,
          650,
          700,
          750,
          800,
          850,
          900,
          950,
          1000,
          1050,
          1100,
          1150,
          1200,
          1250,
          1300,
          1350,
          1400,
          1450,
          1500,
          1550,
          1600,
          1650,
          1700,
          1750,
          1800,
          1850,
          1900,
          1950,
          2000,
          2050,
          2100,
          2150,
          2200,
          2250,
          2300,
          2350,
          2400,
          2450,
          2500,
          2550,
          2600,
          2650,
          2700,
          2750,
          2800,
          2850,
          2900,
          2950,
          3000,
          3050,
          3100,
          3150,
          3200,
          3250,
          3300,
          3350,
          3400,
          3450,
          3500,
          3550,
          3600,
          3650,
          3700,
          3750,
          3800,
          3850,
          3900,
          3950,
          4000,
          4050,
          4100,
          4150,
          4200,
          4250,
          4300,
          4350,
          4400,
          4450,
          4500,
          4550,
          4600,
          4650,
          4700,
          4750,
          4800,
          4850,
          4900,
          4950
         ],
         "y": [
          21513.18878079362,
          21035.599488822536,
          20771.611645041354,
          20442.54103486482,
          20240.59146426432,
          20020.236879690758,
          19817.825175786304,
          19612.13518293913,
          19492.710177454184,
          19264.65003457804,
          19188.814793975696,
          19067.214013226563,
          18979.715491304974,
          18918.07164213136,
          18846.27849347216,
          18789.493511637946,
          18680.390136806785,
          18656.313242294364,
          18637.073413324826,
          18634.865326996092,
          18567.78479009239,
          18543.92637952672,
          18538.2314294981,
          18509.17252000228,
          18498.516604978122,
          18475.095311328525,
          18484.036714753613,
          18480.20991375217,
          18455.385394468933,
          18460.640237413732,
          18431.68532301463,
          18429.91135308064,
          18401.14994175972,
          18381.15937409706,
          18362.0631396566,
          18343.888017782694,
          18331.4177413836,
          18319.940083363435,
          18323.77950074388,
          18328.71110101737,
          18319.1549436349,
          18308.447597671762,
          18307.62873452052,
          18295.499704553247,
          18292.832220610766,
          18309.70899927616,
          18308.387146736346,
          18323.14988570255,
          18326.81275021437,
          18327.790268946992,
          18333.46586090701,
          18336.669375988375,
          18348.210495458625,
          18355.27983998869,
          18364.863538937472,
          18387.55934904676,
          18395.192863799588,
          18390.144964091265,
          18414.58509022709,
          18418.70413644052,
          18416.930559475164,
          18426.233102397273,
          18422.98601821873,
          18431.191269005125,
          18437.136781998895,
          18438.87189936214,
          18446.518013985522,
          18452.254241383107,
          18452.497357688815,
          18461.084586827314,
          18463.03540976396,
          18482.45993123933,
          18498.11975372802,
          18507.842709454777,
          18525.50165689349,
          18526.745992768065,
          18533.729998087656,
          18549.592310613312,
          18558.964406034476,
          18563.498555953312,
          18574.781404933325,
          18580.17096341197,
          18576.512962353278,
          18575.292916607985,
          18586.481491440896,
          18595.06312713061,
          18599.672082751353,
          18607.254055490663,
          18614.15881332444,
          18625.366479745597,
          18633.1466832645,
          18645.769328295468,
          18649.422948098363,
          18653.070479279115,
          18665.77594284084,
          18669.462106079973,
          18671.847645317663,
          18670.061083275054
         ]
        }
       ],
       "layout": {
        "template": {
         "data": {
          "bar": [
           {
            "error_x": {
             "color": "#2a3f5f"
            },
            "error_y": {
             "color": "#2a3f5f"
            },
            "marker": {
             "line": {
              "color": "#E5ECF6",
              "width": 0.5
             }
            },
            "type": "bar"
           }
          ],
          "barpolar": [
           {
            "marker": {
             "line": {
              "color": "#E5ECF6",
              "width": 0.5
             }
            },
            "type": "barpolar"
           }
          ],
          "carpet": [
           {
            "aaxis": {
             "endlinecolor": "#2a3f5f",
             "gridcolor": "white",
             "linecolor": "white",
             "minorgridcolor": "white",
             "startlinecolor": "#2a3f5f"
            },
            "baxis": {
             "endlinecolor": "#2a3f5f",
             "gridcolor": "white",
             "linecolor": "white",
             "minorgridcolor": "white",
             "startlinecolor": "#2a3f5f"
            },
            "type": "carpet"
           }
          ],
          "choropleth": [
           {
            "colorbar": {
             "outlinewidth": 0,
             "ticks": ""
            },
            "type": "choropleth"
           }
          ],
          "contour": [
           {
            "colorbar": {
             "outlinewidth": 0,
             "ticks": ""
            },
            "colorscale": [
             [
              0,
              "#0d0887"
             ],
             [
              0.1111111111111111,
              "#46039f"
             ],
             [
              0.2222222222222222,
              "#7201a8"
             ],
             [
              0.3333333333333333,
              "#9c179e"
             ],
             [
              0.4444444444444444,
              "#bd3786"
             ],
             [
              0.5555555555555556,
              "#d8576b"
             ],
             [
              0.6666666666666666,
              "#ed7953"
             ],
             [
              0.7777777777777778,
              "#fb9f3a"
             ],
             [
              0.8888888888888888,
              "#fdca26"
             ],
             [
              1,
              "#f0f921"
             ]
            ],
            "type": "contour"
           }
          ],
          "contourcarpet": [
           {
            "colorbar": {
             "outlinewidth": 0,
             "ticks": ""
            },
            "type": "contourcarpet"
           }
          ],
          "heatmap": [
           {
            "colorbar": {
             "outlinewidth": 0,
             "ticks": ""
            },
            "colorscale": [
             [
              0,
              "#0d0887"
             ],
             [
              0.1111111111111111,
              "#46039f"
             ],
             [
              0.2222222222222222,
              "#7201a8"
             ],
             [
              0.3333333333333333,
              "#9c179e"
             ],
             [
              0.4444444444444444,
              "#bd3786"
             ],
             [
              0.5555555555555556,
              "#d8576b"
             ],
             [
              0.6666666666666666,
              "#ed7953"
             ],
             [
              0.7777777777777778,
              "#fb9f3a"
             ],
             [
              0.8888888888888888,
              "#fdca26"
             ],
             [
              1,
              "#f0f921"
             ]
            ],
            "type": "heatmap"
           }
          ],
          "heatmapgl": [
           {
            "colorbar": {
             "outlinewidth": 0,
             "ticks": ""
            },
            "colorscale": [
             [
              0,
              "#0d0887"
             ],
             [
              0.1111111111111111,
              "#46039f"
             ],
             [
              0.2222222222222222,
              "#7201a8"
             ],
             [
              0.3333333333333333,
              "#9c179e"
             ],
             [
              0.4444444444444444,
              "#bd3786"
             ],
             [
              0.5555555555555556,
              "#d8576b"
             ],
             [
              0.6666666666666666,
              "#ed7953"
             ],
             [
              0.7777777777777778,
              "#fb9f3a"
             ],
             [
              0.8888888888888888,
              "#fdca26"
             ],
             [
              1,
              "#f0f921"
             ]
            ],
            "type": "heatmapgl"
           }
          ],
          "histogram": [
           {
            "marker": {
             "colorbar": {
              "outlinewidth": 0,
              "ticks": ""
             }
            },
            "type": "histogram"
           }
          ],
          "histogram2d": [
           {
            "colorbar": {
             "outlinewidth": 0,
             "ticks": ""
            },
            "colorscale": [
             [
              0,
              "#0d0887"
             ],
             [
              0.1111111111111111,
              "#46039f"
             ],
             [
              0.2222222222222222,
              "#7201a8"
             ],
             [
              0.3333333333333333,
              "#9c179e"
             ],
             [
              0.4444444444444444,
              "#bd3786"
             ],
             [
              0.5555555555555556,
              "#d8576b"
             ],
             [
              0.6666666666666666,
              "#ed7953"
             ],
             [
              0.7777777777777778,
              "#fb9f3a"
             ],
             [
              0.8888888888888888,
              "#fdca26"
             ],
             [
              1,
              "#f0f921"
             ]
            ],
            "type": "histogram2d"
           }
          ],
          "histogram2dcontour": [
           {
            "colorbar": {
             "outlinewidth": 0,
             "ticks": ""
            },
            "colorscale": [
             [
              0,
              "#0d0887"
             ],
             [
              0.1111111111111111,
              "#46039f"
             ],
             [
              0.2222222222222222,
              "#7201a8"
             ],
             [
              0.3333333333333333,
              "#9c179e"
             ],
             [
              0.4444444444444444,
              "#bd3786"
             ],
             [
              0.5555555555555556,
              "#d8576b"
             ],
             [
              0.6666666666666666,
              "#ed7953"
             ],
             [
              0.7777777777777778,
              "#fb9f3a"
             ],
             [
              0.8888888888888888,
              "#fdca26"
             ],
             [
              1,
              "#f0f921"
             ]
            ],
            "type": "histogram2dcontour"
           }
          ],
          "mesh3d": [
           {
            "colorbar": {
             "outlinewidth": 0,
             "ticks": ""
            },
            "type": "mesh3d"
           }
          ],
          "parcoords": [
           {
            "line": {
             "colorbar": {
              "outlinewidth": 0,
              "ticks": ""
             }
            },
            "type": "parcoords"
           }
          ],
          "scatter": [
           {
            "marker": {
             "colorbar": {
              "outlinewidth": 0,
              "ticks": ""
             }
            },
            "type": "scatter"
           }
          ],
          "scatter3d": [
           {
            "line": {
             "colorbar": {
              "outlinewidth": 0,
              "ticks": ""
             }
            },
            "marker": {
             "colorbar": {
              "outlinewidth": 0,
              "ticks": ""
             }
            },
            "type": "scatter3d"
           }
          ],
          "scattercarpet": [
           {
            "marker": {
             "colorbar": {
              "outlinewidth": 0,
              "ticks": ""
             }
            },
            "type": "scattercarpet"
           }
          ],
          "scattergeo": [
           {
            "marker": {
             "colorbar": {
              "outlinewidth": 0,
              "ticks": ""
             }
            },
            "type": "scattergeo"
           }
          ],
          "scattergl": [
           {
            "marker": {
             "colorbar": {
              "outlinewidth": 0,
              "ticks": ""
             }
            },
            "type": "scattergl"
           }
          ],
          "scattermapbox": [
           {
            "marker": {
             "colorbar": {
              "outlinewidth": 0,
              "ticks": ""
             }
            },
            "type": "scattermapbox"
           }
          ],
          "scatterpolar": [
           {
            "marker": {
             "colorbar": {
              "outlinewidth": 0,
              "ticks": ""
             }
            },
            "type": "scatterpolar"
           }
          ],
          "scatterpolargl": [
           {
            "marker": {
             "colorbar": {
              "outlinewidth": 0,
              "ticks": ""
             }
            },
            "type": "scatterpolargl"
           }
          ],
          "scatterternary": [
           {
            "marker": {
             "colorbar": {
              "outlinewidth": 0,
              "ticks": ""
             }
            },
            "type": "scatterternary"
           }
          ],
          "surface": [
           {
            "colorbar": {
             "outlinewidth": 0,
             "ticks": ""
            },
            "colorscale": [
             [
              0,
              "#0d0887"
             ],
             [
              0.1111111111111111,
              "#46039f"
             ],
             [
              0.2222222222222222,
              "#7201a8"
             ],
             [
              0.3333333333333333,
              "#9c179e"
             ],
             [
              0.4444444444444444,
              "#bd3786"
             ],
             [
              0.5555555555555556,
              "#d8576b"
             ],
             [
              0.6666666666666666,
              "#ed7953"
             ],
             [
              0.7777777777777778,
              "#fb9f3a"
             ],
             [
              0.8888888888888888,
              "#fdca26"
             ],
             [
              1,
              "#f0f921"
             ]
            ],
            "type": "surface"
           }
          ],
          "table": [
           {
            "cells": {
             "fill": {
              "color": "#EBF0F8"
             },
             "line": {
              "color": "white"
             }
            },
            "header": {
             "fill": {
              "color": "#C8D4E3"
             },
             "line": {
              "color": "white"
             }
            },
            "type": "table"
           }
          ]
         },
         "layout": {
          "annotationdefaults": {
           "arrowcolor": "#2a3f5f",
           "arrowhead": 0,
           "arrowwidth": 1
          },
          "colorscale": {
           "diverging": [
            [
             0,
             "#8e0152"
            ],
            [
             0.1,
             "#c51b7d"
            ],
            [
             0.2,
             "#de77ae"
            ],
            [
             0.3,
             "#f1b6da"
            ],
            [
             0.4,
             "#fde0ef"
            ],
            [
             0.5,
             "#f7f7f7"
            ],
            [
             0.6,
             "#e6f5d0"
            ],
            [
             0.7,
             "#b8e186"
            ],
            [
             0.8,
             "#7fbc41"
            ],
            [
             0.9,
             "#4d9221"
            ],
            [
             1,
             "#276419"
            ]
           ],
           "sequential": [
            [
             0,
             "#0d0887"
            ],
            [
             0.1111111111111111,
             "#46039f"
            ],
            [
             0.2222222222222222,
             "#7201a8"
            ],
            [
             0.3333333333333333,
             "#9c179e"
            ],
            [
             0.4444444444444444,
             "#bd3786"
            ],
            [
             0.5555555555555556,
             "#d8576b"
            ],
            [
             0.6666666666666666,
             "#ed7953"
            ],
            [
             0.7777777777777778,
             "#fb9f3a"
            ],
            [
             0.8888888888888888,
             "#fdca26"
            ],
            [
             1,
             "#f0f921"
            ]
           ],
           "sequentialminus": [
            [
             0,
             "#0d0887"
            ],
            [
             0.1111111111111111,
             "#46039f"
            ],
            [
             0.2222222222222222,
             "#7201a8"
            ],
            [
             0.3333333333333333,
             "#9c179e"
            ],
            [
             0.4444444444444444,
             "#bd3786"
            ],
            [
             0.5555555555555556,
             "#d8576b"
            ],
            [
             0.6666666666666666,
             "#ed7953"
            ],
            [
             0.7777777777777778,
             "#fb9f3a"
            ],
            [
             0.8888888888888888,
             "#fdca26"
            ],
            [
             1,
             "#f0f921"
            ]
           ]
          },
          "colorway": [
           "#636efa",
           "#EF553B",
           "#00cc96",
           "#ab63fa",
           "#FFA15A",
           "#19d3f3",
           "#FF6692",
           "#B6E880",
           "#FF97FF",
           "#FECB52"
          ],
          "font": {
           "color": "#2a3f5f"
          },
          "geo": {
           "bgcolor": "white",
           "lakecolor": "white",
           "landcolor": "#E5ECF6",
           "showlakes": true,
           "showland": true,
           "subunitcolor": "white"
          },
          "hoverlabel": {
           "align": "left"
          },
          "hovermode": "closest",
          "mapbox": {
           "style": "light"
          },
          "paper_bgcolor": "white",
          "plot_bgcolor": "#E5ECF6",
          "polar": {
           "angularaxis": {
            "gridcolor": "white",
            "linecolor": "white",
            "ticks": ""
           },
           "bgcolor": "#E5ECF6",
           "radialaxis": {
            "gridcolor": "white",
            "linecolor": "white",
            "ticks": ""
           }
          },
          "scene": {
           "xaxis": {
            "backgroundcolor": "#E5ECF6",
            "gridcolor": "white",
            "gridwidth": 2,
            "linecolor": "white",
            "showbackground": true,
            "ticks": "",
            "zerolinecolor": "white"
           },
           "yaxis": {
            "backgroundcolor": "#E5ECF6",
            "gridcolor": "white",
            "gridwidth": 2,
            "linecolor": "white",
            "showbackground": true,
            "ticks": "",
            "zerolinecolor": "white"
           },
           "zaxis": {
            "backgroundcolor": "#E5ECF6",
            "gridcolor": "white",
            "gridwidth": 2,
            "linecolor": "white",
            "showbackground": true,
            "ticks": "",
            "zerolinecolor": "white"
           }
          },
          "shapedefaults": {
           "line": {
            "color": "#2a3f5f"
           }
          },
          "ternary": {
           "aaxis": {
            "gridcolor": "white",
            "linecolor": "white",
            "ticks": ""
           },
           "baxis": {
            "gridcolor": "white",
            "linecolor": "white",
            "ticks": ""
           },
           "bgcolor": "#E5ECF6",
           "caxis": {
            "gridcolor": "white",
            "linecolor": "white",
            "ticks": ""
           }
          },
          "title": {
           "x": 0.05
          },
          "xaxis": {
           "automargin": true,
           "gridcolor": "white",
           "linecolor": "white",
           "ticks": "",
           "zerolinecolor": "white",
           "zerolinewidth": 2
          },
          "yaxis": {
           "automargin": true,
           "gridcolor": "white",
           "linecolor": "white",
           "ticks": "",
           "zerolinecolor": "white",
           "zerolinewidth": 2
          }
         }
        }
       }
      },
      "text/html": [
       "<div>\n",
       "        \n",
       "        \n",
       "            <div id=\"7628b3ce-167f-498f-824f-85dcaee62975\" class=\"plotly-graph-div\" style=\"height:525px; width:100%;\"></div>\n",
       "            <script type=\"text/javascript\">\n",
       "                require([\"plotly\"], function(Plotly) {\n",
       "                    window.PLOTLYENV=window.PLOTLYENV || {};\n",
       "                    \n",
       "                if (document.getElementById(\"7628b3ce-167f-498f-824f-85dcaee62975\")) {\n",
       "                    Plotly.newPlot(\n",
       "                        '7628b3ce-167f-498f-824f-85dcaee62975',\n",
       "                        [{\"mode\": \"markers\", \"name\": \"min\", \"type\": \"scatter\", \"x\": [100, 150, 200, 250, 300, 350, 400, 450, 500, 550, 600, 650, 700, 750, 800, 850, 900, 950, 1000, 1050, 1100, 1150, 1200, 1250, 1300, 1350, 1400, 1450, 1500, 1550, 1600, 1650, 1700, 1750, 1800, 1850, 1900, 1950, 2000, 2050, 2100, 2150, 2200, 2250, 2300, 2350, 2400, 2450, 2500, 2550, 2600, 2650, 2700, 2750, 2800, 2850, 2900, 2950, 3000, 3050, 3100, 3150, 3200, 3250, 3300, 3350, 3400, 3450, 3500, 3550, 3600, 3650, 3700, 3750, 3800, 3850, 3900, 3950, 4000, 4050, 4100, 4150, 4200, 4250, 4300, 4350, 4400, 4450, 4500, 4550, 4600, 4650, 4700, 4750, 4800, 4850, 4900, 4950], \"y\": [15151.104289104242, 14873.384743038252, 14649.780475747557, 14535.431306639197, 14338.874003073142, 14174.767553202093, 14050.75985702049, 13927.886676143362, 13853.805019641852, 13746.845454777129, 13646.759645845235, 13574.820383972366, 13461.799127823448, 13427.060142597851, 13364.286305532914, 13343.026908806109, 13313.843345370393, 13292.798052349091, 13263.604247262785, 13188.885671735346, 13152.308254276024, 13116.618131838812, 13074.615150900856, 13044.605989154434, 13019.462496076709, 13005.542088512853, 12991.98574937135, 12986.601404138572, 12972.067217683469, 12962.732150475513, 12952.18869683001, 12913.037716511646, 12894.640016761343, 12859.34321641627, 12853.016221082675, 12850.83577346424, 12854.138002821974, 12851.749905222561, 12842.192666764537, 12837.482676772355, 12840.401576588096, 12838.99455251606, 12823.087534035449, 12818.301244646364, 12814.98601320495, 12812.725090875816, 12818.062374855861, 12826.791248837912, 12837.983048227417, 12838.318410969849, 12832.025443089717, 12828.83159255139, 12837.821763765538, 12836.550105320313, 12845.215941860968, 12850.771532505903, 12839.248158829496, 12843.074179857995, 12843.843900191036, 12845.100534039684, 12850.222705749085, 12850.132630522872, 12851.2350542215, 12855.607869009858, 12863.00327445456, 12869.166618355239, 12868.647883563906, 12888.36382805118, 12889.584914533283, 12891.659650038488, 12902.452689245189, 12918.234322094671, 12933.987045707969, 12938.990668156053, 12950.731266690513, 12954.341700497882, 12957.654514330086, 12958.320356751206, 12976.148619847727, 12983.867880915044, 12987.865164606133, 12990.734613845614, 12992.599167198936, 12997.035410424782, 12999.820954109087, 13000.964269699585, 13010.253560255958, 13018.652818261313, 13029.684968860327, 13041.440252705415, 13047.6317983831, 13051.164291854486, 13058.391082329437, 13066.7707793539, 13071.172143776044, 13080.230885972485, 13087.50478411397, 13091.045134284788]}, {\"mode\": \"markers\", \"name\": \"max\", \"type\": \"scatter\", \"x\": [100, 150, 200, 250, 300, 350, 400, 450, 500, 550, 600, 650, 700, 750, 800, 850, 900, 950, 1000, 1050, 1100, 1150, 1200, 1250, 1300, 1350, 1400, 1450, 1500, 1550, 1600, 1650, 1700, 1750, 1800, 1850, 1900, 1950, 2000, 2050, 2100, 2150, 2200, 2250, 2300, 2350, 2400, 2450, 2500, 2550, 2600, 2650, 2700, 2750, 2800, 2850, 2900, 2950, 3000, 3050, 3100, 3150, 3200, 3250, 3300, 3350, 3400, 3450, 3500, 3550, 3600, 3650, 3700, 3750, 3800, 3850, 3900, 3950, 4000, 4050, 4100, 4150, 4200, 4250, 4300, 4350, 4400, 4450, 4500, 4550, 4600, 4650, 4700, 4750, 4800, 4850, 4900, 4950], \"y\": [21513.18878079362, 21035.599488822536, 20771.611645041354, 20442.54103486482, 20240.59146426432, 20020.236879690758, 19817.825175786304, 19612.13518293913, 19492.710177454184, 19264.65003457804, 19188.814793975696, 19067.214013226563, 18979.715491304974, 18918.07164213136, 18846.27849347216, 18789.493511637946, 18680.390136806785, 18656.313242294364, 18637.073413324826, 18634.865326996092, 18567.78479009239, 18543.92637952672, 18538.2314294981, 18509.17252000228, 18498.516604978122, 18475.095311328525, 18484.036714753613, 18480.20991375217, 18455.385394468933, 18460.640237413732, 18431.68532301463, 18429.91135308064, 18401.14994175972, 18381.15937409706, 18362.0631396566, 18343.888017782694, 18331.4177413836, 18319.940083363435, 18323.77950074388, 18328.71110101737, 18319.1549436349, 18308.447597671762, 18307.62873452052, 18295.499704553247, 18292.832220610766, 18309.70899927616, 18308.387146736346, 18323.14988570255, 18326.81275021437, 18327.790268946992, 18333.46586090701, 18336.669375988375, 18348.210495458625, 18355.27983998869, 18364.863538937472, 18387.55934904676, 18395.192863799588, 18390.144964091265, 18414.58509022709, 18418.70413644052, 18416.930559475164, 18426.233102397273, 18422.98601821873, 18431.191269005125, 18437.136781998895, 18438.87189936214, 18446.518013985522, 18452.254241383107, 18452.497357688815, 18461.084586827314, 18463.03540976396, 18482.45993123933, 18498.11975372802, 18507.842709454777, 18525.50165689349, 18526.745992768065, 18533.729998087656, 18549.592310613312, 18558.964406034476, 18563.498555953312, 18574.781404933325, 18580.17096341197, 18576.512962353278, 18575.292916607985, 18586.481491440896, 18595.06312713061, 18599.672082751353, 18607.254055490663, 18614.15881332444, 18625.366479745597, 18633.1466832645, 18645.769328295468, 18649.422948098363, 18653.070479279115, 18665.77594284084, 18669.462106079973, 18671.847645317663, 18670.061083275054]}],\n",
       "                        {\"template\": {\"data\": {\"bar\": [{\"error_x\": {\"color\": \"#2a3f5f\"}, \"error_y\": {\"color\": \"#2a3f5f\"}, \"marker\": {\"line\": {\"color\": \"#E5ECF6\", \"width\": 0.5}}, \"type\": \"bar\"}], \"barpolar\": [{\"marker\": {\"line\": {\"color\": \"#E5ECF6\", \"width\": 0.5}}, \"type\": \"barpolar\"}], \"carpet\": [{\"aaxis\": {\"endlinecolor\": \"#2a3f5f\", \"gridcolor\": \"white\", \"linecolor\": \"white\", \"minorgridcolor\": \"white\", \"startlinecolor\": \"#2a3f5f\"}, \"baxis\": {\"endlinecolor\": \"#2a3f5f\", \"gridcolor\": \"white\", \"linecolor\": \"white\", \"minorgridcolor\": \"white\", \"startlinecolor\": \"#2a3f5f\"}, \"type\": \"carpet\"}], \"choropleth\": [{\"colorbar\": {\"outlinewidth\": 0, \"ticks\": \"\"}, \"type\": \"choropleth\"}], \"contour\": [{\"colorbar\": {\"outlinewidth\": 0, \"ticks\": \"\"}, \"colorscale\": [[0.0, \"#0d0887\"], [0.1111111111111111, \"#46039f\"], [0.2222222222222222, \"#7201a8\"], [0.3333333333333333, \"#9c179e\"], [0.4444444444444444, \"#bd3786\"], [0.5555555555555556, \"#d8576b\"], [0.6666666666666666, \"#ed7953\"], [0.7777777777777778, \"#fb9f3a\"], [0.8888888888888888, \"#fdca26\"], [1.0, \"#f0f921\"]], \"type\": \"contour\"}], \"contourcarpet\": [{\"colorbar\": {\"outlinewidth\": 0, \"ticks\": \"\"}, \"type\": \"contourcarpet\"}], \"heatmap\": [{\"colorbar\": {\"outlinewidth\": 0, \"ticks\": \"\"}, \"colorscale\": [[0.0, \"#0d0887\"], [0.1111111111111111, \"#46039f\"], [0.2222222222222222, \"#7201a8\"], [0.3333333333333333, \"#9c179e\"], [0.4444444444444444, \"#bd3786\"], [0.5555555555555556, \"#d8576b\"], [0.6666666666666666, \"#ed7953\"], [0.7777777777777778, \"#fb9f3a\"], [0.8888888888888888, \"#fdca26\"], [1.0, \"#f0f921\"]], \"type\": \"heatmap\"}], \"heatmapgl\": [{\"colorbar\": {\"outlinewidth\": 0, \"ticks\": \"\"}, \"colorscale\": [[0.0, \"#0d0887\"], [0.1111111111111111, \"#46039f\"], [0.2222222222222222, \"#7201a8\"], [0.3333333333333333, \"#9c179e\"], [0.4444444444444444, \"#bd3786\"], [0.5555555555555556, \"#d8576b\"], [0.6666666666666666, \"#ed7953\"], [0.7777777777777778, \"#fb9f3a\"], [0.8888888888888888, \"#fdca26\"], [1.0, \"#f0f921\"]], \"type\": \"heatmapgl\"}], \"histogram\": [{\"marker\": {\"colorbar\": {\"outlinewidth\": 0, \"ticks\": \"\"}}, \"type\": \"histogram\"}], \"histogram2d\": [{\"colorbar\": {\"outlinewidth\": 0, \"ticks\": \"\"}, \"colorscale\": [[0.0, \"#0d0887\"], [0.1111111111111111, \"#46039f\"], [0.2222222222222222, \"#7201a8\"], [0.3333333333333333, \"#9c179e\"], [0.4444444444444444, \"#bd3786\"], [0.5555555555555556, \"#d8576b\"], [0.6666666666666666, \"#ed7953\"], [0.7777777777777778, \"#fb9f3a\"], [0.8888888888888888, \"#fdca26\"], [1.0, \"#f0f921\"]], \"type\": \"histogram2d\"}], \"histogram2dcontour\": [{\"colorbar\": {\"outlinewidth\": 0, \"ticks\": \"\"}, \"colorscale\": [[0.0, \"#0d0887\"], [0.1111111111111111, \"#46039f\"], [0.2222222222222222, \"#7201a8\"], [0.3333333333333333, \"#9c179e\"], [0.4444444444444444, \"#bd3786\"], [0.5555555555555556, \"#d8576b\"], [0.6666666666666666, \"#ed7953\"], [0.7777777777777778, \"#fb9f3a\"], [0.8888888888888888, \"#fdca26\"], [1.0, \"#f0f921\"]], \"type\": \"histogram2dcontour\"}], \"mesh3d\": [{\"colorbar\": {\"outlinewidth\": 0, \"ticks\": \"\"}, \"type\": \"mesh3d\"}], \"parcoords\": [{\"line\": {\"colorbar\": {\"outlinewidth\": 0, \"ticks\": \"\"}}, \"type\": \"parcoords\"}], \"scatter\": [{\"marker\": {\"colorbar\": {\"outlinewidth\": 0, \"ticks\": \"\"}}, \"type\": \"scatter\"}], \"scatter3d\": [{\"line\": {\"colorbar\": {\"outlinewidth\": 0, \"ticks\": \"\"}}, \"marker\": {\"colorbar\": {\"outlinewidth\": 0, \"ticks\": \"\"}}, \"type\": \"scatter3d\"}], \"scattercarpet\": [{\"marker\": {\"colorbar\": {\"outlinewidth\": 0, \"ticks\": \"\"}}, \"type\": \"scattercarpet\"}], \"scattergeo\": [{\"marker\": {\"colorbar\": {\"outlinewidth\": 0, \"ticks\": \"\"}}, \"type\": \"scattergeo\"}], \"scattergl\": [{\"marker\": {\"colorbar\": {\"outlinewidth\": 0, \"ticks\": \"\"}}, \"type\": \"scattergl\"}], \"scattermapbox\": [{\"marker\": {\"colorbar\": {\"outlinewidth\": 0, \"ticks\": \"\"}}, \"type\": \"scattermapbox\"}], \"scatterpolar\": [{\"marker\": {\"colorbar\": {\"outlinewidth\": 0, \"ticks\": \"\"}}, \"type\": \"scatterpolar\"}], \"scatterpolargl\": [{\"marker\": {\"colorbar\": {\"outlinewidth\": 0, \"ticks\": \"\"}}, \"type\": \"scatterpolargl\"}], \"scatterternary\": [{\"marker\": {\"colorbar\": {\"outlinewidth\": 0, \"ticks\": \"\"}}, \"type\": \"scatterternary\"}], \"surface\": [{\"colorbar\": {\"outlinewidth\": 0, \"ticks\": \"\"}, \"colorscale\": [[0.0, \"#0d0887\"], [0.1111111111111111, \"#46039f\"], [0.2222222222222222, \"#7201a8\"], [0.3333333333333333, \"#9c179e\"], [0.4444444444444444, \"#bd3786\"], [0.5555555555555556, \"#d8576b\"], [0.6666666666666666, \"#ed7953\"], [0.7777777777777778, \"#fb9f3a\"], [0.8888888888888888, \"#fdca26\"], [1.0, \"#f0f921\"]], \"type\": \"surface\"}], \"table\": [{\"cells\": {\"fill\": {\"color\": \"#EBF0F8\"}, \"line\": {\"color\": \"white\"}}, \"header\": {\"fill\": {\"color\": \"#C8D4E3\"}, \"line\": {\"color\": \"white\"}}, \"type\": \"table\"}]}, \"layout\": {\"annotationdefaults\": {\"arrowcolor\": \"#2a3f5f\", \"arrowhead\": 0, \"arrowwidth\": 1}, \"colorscale\": {\"diverging\": [[0, \"#8e0152\"], [0.1, \"#c51b7d\"], [0.2, \"#de77ae\"], [0.3, \"#f1b6da\"], [0.4, \"#fde0ef\"], [0.5, \"#f7f7f7\"], [0.6, \"#e6f5d0\"], [0.7, \"#b8e186\"], [0.8, \"#7fbc41\"], [0.9, \"#4d9221\"], [1, \"#276419\"]], \"sequential\": [[0.0, \"#0d0887\"], [0.1111111111111111, \"#46039f\"], [0.2222222222222222, \"#7201a8\"], [0.3333333333333333, \"#9c179e\"], [0.4444444444444444, \"#bd3786\"], [0.5555555555555556, \"#d8576b\"], [0.6666666666666666, \"#ed7953\"], [0.7777777777777778, \"#fb9f3a\"], [0.8888888888888888, \"#fdca26\"], [1.0, \"#f0f921\"]], \"sequentialminus\": [[0.0, \"#0d0887\"], [0.1111111111111111, \"#46039f\"], [0.2222222222222222, \"#7201a8\"], [0.3333333333333333, \"#9c179e\"], [0.4444444444444444, \"#bd3786\"], [0.5555555555555556, \"#d8576b\"], [0.6666666666666666, \"#ed7953\"], [0.7777777777777778, \"#fb9f3a\"], [0.8888888888888888, \"#fdca26\"], [1.0, \"#f0f921\"]]}, \"colorway\": [\"#636efa\", \"#EF553B\", \"#00cc96\", \"#ab63fa\", \"#FFA15A\", \"#19d3f3\", \"#FF6692\", \"#B6E880\", \"#FF97FF\", \"#FECB52\"], \"font\": {\"color\": \"#2a3f5f\"}, \"geo\": {\"bgcolor\": \"white\", \"lakecolor\": \"white\", \"landcolor\": \"#E5ECF6\", \"showlakes\": true, \"showland\": true, \"subunitcolor\": \"white\"}, \"hoverlabel\": {\"align\": \"left\"}, \"hovermode\": \"closest\", \"mapbox\": {\"style\": \"light\"}, \"paper_bgcolor\": \"white\", \"plot_bgcolor\": \"#E5ECF6\", \"polar\": {\"angularaxis\": {\"gridcolor\": \"white\", \"linecolor\": \"white\", \"ticks\": \"\"}, \"bgcolor\": \"#E5ECF6\", \"radialaxis\": {\"gridcolor\": \"white\", \"linecolor\": \"white\", \"ticks\": \"\"}}, \"scene\": {\"xaxis\": {\"backgroundcolor\": \"#E5ECF6\", \"gridcolor\": \"white\", \"gridwidth\": 2, \"linecolor\": \"white\", \"showbackground\": true, \"ticks\": \"\", \"zerolinecolor\": \"white\"}, \"yaxis\": {\"backgroundcolor\": \"#E5ECF6\", \"gridcolor\": \"white\", \"gridwidth\": 2, \"linecolor\": \"white\", \"showbackground\": true, \"ticks\": \"\", \"zerolinecolor\": \"white\"}, \"zaxis\": {\"backgroundcolor\": \"#E5ECF6\", \"gridcolor\": \"white\", \"gridwidth\": 2, \"linecolor\": \"white\", \"showbackground\": true, \"ticks\": \"\", \"zerolinecolor\": \"white\"}}, \"shapedefaults\": {\"line\": {\"color\": \"#2a3f5f\"}}, \"ternary\": {\"aaxis\": {\"gridcolor\": \"white\", \"linecolor\": \"white\", \"ticks\": \"\"}, \"baxis\": {\"gridcolor\": \"white\", \"linecolor\": \"white\", \"ticks\": \"\"}, \"bgcolor\": \"#E5ECF6\", \"caxis\": {\"gridcolor\": \"white\", \"linecolor\": \"white\", \"ticks\": \"\"}}, \"title\": {\"x\": 0.05}, \"xaxis\": {\"automargin\": true, \"gridcolor\": \"white\", \"linecolor\": \"white\", \"ticks\": \"\", \"zerolinecolor\": \"white\", \"zerolinewidth\": 2}, \"yaxis\": {\"automargin\": true, \"gridcolor\": \"white\", \"linecolor\": \"white\", \"ticks\": \"\", \"zerolinecolor\": \"white\", \"zerolinewidth\": 2}}}},\n",
       "                        {\"responsive\": true}\n",
       "                    ).then(function(){\n",
       "                            \n",
       "var gd = document.getElementById('7628b3ce-167f-498f-824f-85dcaee62975');\n",
       "var x = new MutationObserver(function (mutations, observer) {{\n",
       "        var display = window.getComputedStyle(gd).display;\n",
       "        if (!display || display === 'none') {{\n",
       "            console.log([gd, 'removed!']);\n",
       "            Plotly.purge(gd);\n",
       "            observer.disconnect();\n",
       "        }}\n",
       "}});\n",
       "\n",
       "// Listen for the removal of the full notebook cells\n",
       "var notebookContainer = gd.closest('#notebook-container');\n",
       "if (notebookContainer) {{\n",
       "    x.observe(notebookContainer, {childList: true});\n",
       "}}\n",
       "\n",
       "// Listen for the clearing of the current output cell\n",
       "var outputEl = gd.closest('.output');\n",
       "if (outputEl) {{\n",
       "    x.observe(outputEl, {childList: true});\n",
       "}}\n",
       "\n",
       "                        })\n",
       "                };\n",
       "                });\n",
       "            </script>\n",
       "        </div>"
      ]
     },
     "metadata": {},
     "output_type": "display_data"
    }
   ],
   "source": [
    "import plotly.graph_objects as go\n",
    "\n",
    "\n",
    "fig = go.Figure()\n",
    "\n",
    "# Add traces\n",
    "fig.add_trace(go.Scatter(x=df_nestimators_min['n_estimators_list'][1:], y=df_nestimators_min['RMSE_list'][1:],\n",
    "                    mode='markers',\n",
    "                    name='min'))\n",
    "fig.add_trace(go.Scatter(x=df_nestimators_max['n_estimators_list'][1:], y=df_nestimators_max['RMSE_list'][1:],\n",
    "                    mode='markers',\n",
    "                    name='max'))\n",
    "fig.show()"
   ]
  },
  {
   "cell_type": "code",
   "execution_count": 109,
   "metadata": {
    "ExecuteTime": {
     "end_time": "2019-11-18T21:22:31.712001Z",
     "start_time": "2019-11-18T21:22:29.087310Z"
    }
   },
   "outputs": [
    {
     "name": "stderr",
     "output_type": "stream",
     "text": [
      "/Users/jz/anaconda3/lib/python3.7/site-packages/xgboost/core.py:587: FutureWarning:\n",
      "\n",
      "Series.base is deprecated and will be removed in a future version\n",
      "\n",
      "/Users/jz/anaconda3/lib/python3.7/site-packages/xgboost/core.py:588: FutureWarning:\n",
      "\n",
      "Series.base is deprecated and will be removed in a future version\n",
      "\n"
     ]
    },
    {
     "name": "stdout",
     "output_type": "stream",
     "text": [
      "RMSE: 18292.832220610766\n"
     ]
    }
   ],
   "source": [
    "X = df_update_all_num[feature_names]\n",
    "y = df_update_all_num['max']\n",
    "\n",
    "data_dmatrix=xgb.DMatrix(data=X, label=y)\n",
    "\n",
    "from sklearn.model_selection import train_test_split\n",
    "X_train, X_test, y_train, y_test= train_test_split(X, y, test_size=0.2, random_state=123)\n",
    "\n",
    "xgb_model_max = xgb.XGBRegressor(objective=\"reg:squarederror\", random_state=123,n_estimators = 2300)\n",
    "\n",
    "xgb_model_max.fit(X_train, y_train)\n",
    "\n",
    "y_pred_max = xgb_model_max.predict(X)\n",
    "\n",
    "mse=mean_squared_error(y, y_pred_max)\n",
    "\n",
    "print('RMSE:',np.sqrt(mse))"
   ]
  },
  {
   "cell_type": "code",
   "execution_count": 110,
   "metadata": {
    "ExecuteTime": {
     "end_time": "2019-11-18T21:22:35.123863Z",
     "start_time": "2019-11-18T21:22:31.715279Z"
    }
   },
   "outputs": [
    {
     "name": "stderr",
     "output_type": "stream",
     "text": [
      "/Users/jz/anaconda3/lib/python3.7/site-packages/xgboost/core.py:587: FutureWarning:\n",
      "\n",
      "Series.base is deprecated and will be removed in a future version\n",
      "\n",
      "/Users/jz/anaconda3/lib/python3.7/site-packages/xgboost/core.py:588: FutureWarning:\n",
      "\n",
      "Series.base is deprecated and will be removed in a future version\n",
      "\n"
     ]
    },
    {
     "name": "stdout",
     "output_type": "stream",
     "text": [
      "RMSE: 12843.843900191036\n"
     ]
    }
   ],
   "source": [
    "X = df_update_all_num[feature_names]\n",
    "y = df_update_all_num['min']\n",
    "\n",
    "data_dmatrix=xgb.DMatrix(data=X, label=y)\n",
    "\n",
    "from sklearn.model_selection import train_test_split\n",
    "X_train, X_test, y_train, y_test= train_test_split(X, y, test_size=0.2, random_state=123)\n",
    "\n",
    "xgb_model_min = xgb.XGBRegressor(objective=\"reg:squarederror\", random_state=123,n_estimators = 3000)\n",
    "\n",
    "xgb_model_min.fit(X_train, y_train)\n",
    "\n",
    "y_pred_min = xgb_model_min.predict(X)\n",
    "\n",
    "mse=mean_squared_error(y, y_pred_min)\n",
    "\n",
    "print('RMSE:',np.sqrt(mse))"
   ]
  },
  {
   "cell_type": "code",
   "execution_count": 83,
   "metadata": {
    "ExecuteTime": {
     "end_time": "2019-11-18T16:35:17.919997Z",
     "start_time": "2019-11-18T16:35:17.917451Z"
    }
   },
   "outputs": [],
   "source": [
    "# import matplotlib.pyplot as plt\n",
    "\n",
    "# xgb.plot_tree(xgb_model_min,num_trees=20)\n",
    "# plt.rcParams['figure.figsize'] = [20, 20]\n",
    "# plt.show()"
   ]
  },
  {
   "cell_type": "code",
   "execution_count": 84,
   "metadata": {
    "ExecuteTime": {
     "end_time": "2019-11-18T16:35:20.158736Z",
     "start_time": "2019-11-18T16:35:20.155974Z"
    }
   },
   "outputs": [],
   "source": [
    "# import matplotlib.pyplot as plt\n",
    "\n",
    "# xgb.plot_tree(xgb_model_max,num_trees=20)\n",
    "# plt.rcParams['figure.figsize'] = [20, 20]\n",
    "# plt.show()"
   ]
  },
  {
   "cell_type": "code",
   "execution_count": 111,
   "metadata": {
    "ExecuteTime": {
     "end_time": "2019-11-18T21:22:35.139151Z",
     "start_time": "2019-11-18T21:22:35.126771Z"
    }
   },
   "outputs": [
    {
     "data": {
      "text/html": [
       "<div>\n",
       "<style scoped>\n",
       "    .dataframe tbody tr th:only-of-type {\n",
       "        vertical-align: middle;\n",
       "    }\n",
       "\n",
       "    .dataframe tbody tr th {\n",
       "        vertical-align: top;\n",
       "    }\n",
       "\n",
       "    .dataframe thead th {\n",
       "        text-align: right;\n",
       "    }\n",
       "</style>\n",
       "<table border=\"1\" class=\"dataframe\">\n",
       "  <thead>\n",
       "    <tr style=\"text-align: right;\">\n",
       "      <th></th>\n",
       "      <th>y_min</th>\n",
       "      <th>y_max</th>\n",
       "      <th>y_pred_min</th>\n",
       "      <th>y_pred_max</th>\n",
       "    </tr>\n",
       "  </thead>\n",
       "  <tbody>\n",
       "    <tr>\n",
       "      <th>0</th>\n",
       "      <td>158000</td>\n",
       "      <td>223000</td>\n",
       "      <td>156657.109375</td>\n",
       "      <td>221089.734375</td>\n",
       "    </tr>\n",
       "    <tr>\n",
       "      <th>1</th>\n",
       "      <td>156000</td>\n",
       "      <td>209000</td>\n",
       "      <td>89617.382812</td>\n",
       "      <td>126711.804688</td>\n",
       "    </tr>\n",
       "    <tr>\n",
       "      <th>2</th>\n",
       "      <td>132000</td>\n",
       "      <td>185000</td>\n",
       "      <td>111552.328125</td>\n",
       "      <td>161431.843750</td>\n",
       "    </tr>\n",
       "    <tr>\n",
       "      <th>3</th>\n",
       "      <td>132000</td>\n",
       "      <td>185000</td>\n",
       "      <td>111552.328125</td>\n",
       "      <td>161431.843750</td>\n",
       "    </tr>\n",
       "    <tr>\n",
       "      <th>4</th>\n",
       "      <td>121000</td>\n",
       "      <td>194000</td>\n",
       "      <td>80019.492188</td>\n",
       "      <td>125895.125000</td>\n",
       "    </tr>\n",
       "    <tr>\n",
       "      <th>...</th>\n",
       "      <td>...</td>\n",
       "      <td>...</td>\n",
       "      <td>...</td>\n",
       "      <td>...</td>\n",
       "    </tr>\n",
       "    <tr>\n",
       "      <th>501</th>\n",
       "      <td>34000</td>\n",
       "      <td>55000</td>\n",
       "      <td>34742.964844</td>\n",
       "      <td>55537.441406</td>\n",
       "    </tr>\n",
       "    <tr>\n",
       "      <th>502</th>\n",
       "      <td>33000</td>\n",
       "      <td>56000</td>\n",
       "      <td>72772.195312</td>\n",
       "      <td>116660.945312</td>\n",
       "    </tr>\n",
       "    <tr>\n",
       "      <th>503</th>\n",
       "      <td>33000</td>\n",
       "      <td>55000</td>\n",
       "      <td>37634.027344</td>\n",
       "      <td>63388.179688</td>\n",
       "    </tr>\n",
       "    <tr>\n",
       "      <th>504</th>\n",
       "      <td>36000</td>\n",
       "      <td>51000</td>\n",
       "      <td>35792.515625</td>\n",
       "      <td>51216.015625</td>\n",
       "    </tr>\n",
       "    <tr>\n",
       "      <th>505</th>\n",
       "      <td>30000</td>\n",
       "      <td>50000</td>\n",
       "      <td>30710.824219</td>\n",
       "      <td>51267.726562</td>\n",
       "    </tr>\n",
       "  </tbody>\n",
       "</table>\n",
       "<p>506 rows × 4 columns</p>\n",
       "</div>"
      ],
      "text/plain": [
       "      y_min   y_max     y_pred_min     y_pred_max\n",
       "0    158000  223000  156657.109375  221089.734375\n",
       "1    156000  209000   89617.382812  126711.804688\n",
       "2    132000  185000  111552.328125  161431.843750\n",
       "3    132000  185000  111552.328125  161431.843750\n",
       "4    121000  194000   80019.492188  125895.125000\n",
       "..      ...     ...            ...            ...\n",
       "501   34000   55000   34742.964844   55537.441406\n",
       "502   33000   56000   72772.195312  116660.945312\n",
       "503   33000   55000   37634.027344   63388.179688\n",
       "504   36000   51000   35792.515625   51216.015625\n",
       "505   30000   50000   30710.824219   51267.726562\n",
       "\n",
       "[506 rows x 4 columns]"
      ]
     },
     "execution_count": 111,
     "metadata": {},
     "output_type": "execute_result"
    }
   ],
   "source": [
    "y_pred_com = pd.DataFrame(\n",
    "    {'y_min': df_update_all_num['min'],\n",
    "     'y_max': df_update_all_num['max'],\n",
    "     'y_pred_min': y_pred_min,\n",
    "     'y_pred_max': y_pred_max,\n",
    "    })\n",
    "y_pred_com"
   ]
  },
  {
   "cell_type": "code",
   "execution_count": 112,
   "metadata": {
    "ExecuteTime": {
     "end_time": "2019-11-18T21:22:35.350314Z",
     "start_time": "2019-11-18T21:22:35.146103Z"
    }
   },
   "outputs": [
    {
     "data": {
      "application/vnd.plotly.v1+json": {
       "config": {
        "plotlyServerURL": "https://plot.ly"
       },
       "data": [
        {
         "mode": "markers",
         "name": "y_pred_min",
         "type": "scatter",
         "x": [
          0,
          1,
          2,
          3,
          4,
          5,
          6,
          7,
          8,
          9,
          10,
          11,
          12,
          13,
          14,
          15,
          16,
          17,
          18,
          19,
          20,
          21,
          22,
          23,
          24,
          25,
          26,
          27,
          28,
          29,
          30,
          31,
          32,
          33,
          34,
          35,
          36,
          37,
          38,
          39,
          40,
          41,
          42,
          43,
          44,
          45,
          46,
          47,
          48,
          49,
          50,
          51,
          52,
          53,
          54,
          55,
          56,
          57,
          58,
          59,
          60,
          61,
          62,
          63,
          64,
          65,
          66,
          67,
          68,
          69,
          70,
          71,
          72,
          73,
          74,
          75,
          76,
          77,
          78,
          79,
          80,
          81,
          82,
          83,
          84,
          85,
          86,
          87,
          88,
          89,
          90,
          91,
          92,
          93,
          94,
          95,
          96,
          97,
          98,
          99,
          100,
          101,
          102,
          103,
          104,
          105,
          106,
          107,
          108,
          109,
          110,
          111,
          112,
          113,
          114,
          115,
          116,
          117,
          118,
          119,
          120,
          121,
          122,
          123,
          124,
          125,
          126,
          127,
          128,
          129,
          130,
          131,
          132,
          133,
          134,
          135,
          136,
          137,
          138,
          139,
          140,
          141,
          142,
          143,
          144,
          145,
          146,
          147,
          148,
          149,
          150,
          151,
          152,
          153,
          154,
          155,
          156,
          157,
          158,
          159,
          160,
          161,
          162,
          163,
          164,
          165,
          166,
          167,
          168,
          169,
          170,
          171,
          172,
          173,
          174,
          175,
          176,
          177,
          178,
          179,
          180,
          181,
          182,
          183,
          184,
          185,
          186,
          187,
          188,
          189,
          190,
          191,
          192,
          193,
          194,
          195,
          196,
          197,
          198,
          199,
          200,
          201,
          202,
          203,
          204,
          205,
          206,
          207,
          208,
          209,
          210,
          211,
          212,
          213,
          214,
          215,
          216,
          217,
          218,
          219,
          220,
          221,
          222,
          223,
          224,
          225,
          226,
          227,
          228,
          229,
          230,
          231,
          232,
          233,
          234,
          235,
          236,
          237,
          238,
          239,
          240,
          241,
          242,
          243,
          244,
          245,
          246,
          247,
          248,
          249,
          250,
          251,
          252,
          253,
          254,
          255,
          256,
          257,
          258,
          259,
          260,
          261,
          262,
          263,
          264,
          265,
          266,
          267,
          268,
          269,
          270,
          271,
          272,
          273,
          274,
          275,
          276,
          277,
          278,
          279,
          280,
          281,
          282,
          283,
          284,
          285,
          286,
          287,
          288,
          289,
          290,
          291,
          292,
          293,
          294,
          295,
          296,
          297,
          298,
          299,
          300,
          301,
          302,
          303,
          304,
          305,
          306,
          307,
          308,
          309,
          310,
          311,
          312,
          313,
          314,
          315,
          316,
          317,
          318,
          319,
          320,
          321,
          322,
          323,
          324,
          325,
          326,
          327,
          328,
          329,
          330,
          331,
          332,
          333,
          334,
          335,
          336,
          337,
          338,
          339,
          340,
          341,
          342,
          343,
          344,
          345,
          346,
          347,
          348,
          349,
          350,
          351,
          352,
          353,
          354,
          355,
          356,
          357,
          358,
          359,
          360,
          361,
          362,
          363,
          364,
          365,
          366,
          367,
          368,
          369,
          370,
          371,
          372,
          373,
          374,
          375,
          376,
          377,
          378,
          379,
          380,
          381,
          382,
          383,
          384,
          385,
          386,
          387,
          388,
          389,
          390,
          391,
          392,
          393,
          394,
          395,
          396,
          397,
          398,
          399,
          400,
          401,
          402,
          403,
          404,
          405,
          406,
          407,
          408,
          409,
          410,
          411,
          412,
          413,
          414,
          415,
          416,
          417,
          418,
          419,
          420,
          421,
          422,
          423,
          424,
          425,
          426,
          427,
          428,
          429,
          430,
          431,
          432,
          433,
          434,
          435,
          436,
          437,
          438,
          439,
          440,
          441,
          442,
          443,
          444,
          445,
          446,
          447,
          448,
          449,
          450,
          451,
          452,
          453,
          454,
          455,
          456,
          457,
          458,
          459,
          460,
          461,
          462,
          463,
          464,
          465,
          466,
          467,
          468,
          469,
          470,
          471,
          472,
          473,
          474,
          475,
          476,
          477,
          478,
          479,
          480,
          481,
          482,
          483,
          484,
          485,
          486,
          487,
          488,
          489,
          490,
          491,
          492,
          493,
          494,
          495
         ],
         "y": [
          156657.109375,
          89617.3828125,
          111552.328125,
          111552.328125,
          80019.4921875,
          65171.89453125,
          65171.89453125,
          65453.5546875,
          111552.328125,
          67277.8359375,
          111552.328125,
          35120.03125,
          90298.5234375,
          30560.27734375,
          89263.2578125,
          62039.0390625,
          80019.4921875,
          100336.8984375,
          80117.8125,
          99081.3046875,
          102733.1171875,
          91768.0859375,
          103394.5078125,
          92554.71875,
          91123.8359375,
          95052.6875,
          54361.3984375,
          96767.078125,
          96240.59375,
          78823.9765625,
          95336.25,
          86856.5625,
          86856.5625,
          30985.69921875,
          53084.80859375,
          111552.328125,
          64988.84765625,
          57401.64453125,
          86771.9921875,
          88138.1796875,
          84689.9609375,
          69812.359375,
          49440.58984375,
          71021.1484375,
          67023.9609375,
          90798.6796875,
          78191.1796875,
          67369.0703125,
          88138.1796875,
          51475.51171875,
          64764.5546875,
          79399.2890625,
          71703.3125,
          69109.6171875,
          62994.93359375,
          79069.0703125,
          62198.89453125,
          71822.203125,
          73691.7421875,
          54395.68359375,
          58967.89453125,
          70979.2265625,
          75083.5078125,
          67522.25,
          69768.3359375,
          74548.3359375,
          66702.265625,
          74295.4375,
          70972.28125,
          76416.3203125,
          74845.625,
          75420.296875,
          55022.3671875,
          72509.7578125,
          62198.89453125,
          51105.16015625,
          75321.8828125,
          63110.76171875,
          62198.89453125,
          69044.171875,
          62198.89453125,
          68381.046875,
          71502.4375,
          67955.53125,
          72313.4296875,
          88320.171875,
          67649.3046875,
          68793.5625,
          70748.3125,
          73457.671875,
          62994.93359375,
          67287.8828125,
          75462.03125,
          44673.125,
          65462.37109375,
          49553.71875,
          72377.8125,
          62591.65234375,
          72983.7421875,
          59036.71875,
          64628.94921875,
          51190.546875,
          56410.3671875,
          62328.5,
          62198.89453125,
          63603.37109375,
          74931.40625,
          53725.44921875,
          64238.28515625,
          54081.42578125,
          55485.5234375,
          67049.9765625,
          55704.32421875,
          67407.4296875,
          61819.91796875,
          62783.6640625,
          57739.5,
          59294.1015625,
          63110.76171875,
          61819.91796875,
          67023.9609375,
          64018.421875,
          56178.796875,
          66765.609375,
          59229.19140625,
          67781.2734375,
          60232.34765625,
          63319.51171875,
          64904.4140625,
          56178.796875,
          61963.73046875,
          67522.25,
          54119.8046875,
          60746.4609375,
          43595.16015625,
          52234.35546875,
          57739.5,
          65450.359375,
          63958.28515625,
          65171.89453125,
          60177.7421875,
          58436.8359375,
          57032.71875,
          67277.8359375,
          58186.6328125,
          60232.34765625,
          54119.8046875,
          58720.0546875,
          58720.0546875,
          55219.9921875,
          57603.81640625,
          61987.66796875,
          66201.2890625,
          62231.06640625,
          58004.046875,
          47016.25390625,
          61273.78515625,
          61273.78515625,
          58230.23046875,
          57420.1484375,
          7022.0712890625,
          54445.58984375,
          30106.337890625,
          58441.8828125,
          57739.5,
          53714.8828125,
          59738.23828125,
          59376.3203125,
          62198.89453125,
          61347.28515625,
          64715.61328125,
          46039.6484375,
          57742.18359375,
          59971.265625,
          57060.5,
          57761.03125,
          59287.75,
          52522.8828125,
          56994.74609375,
          62652.99609375,
          57420.1484375,
          50256.3203125,
          58753.05859375,
          51277.6171875,
          71506.1015625,
          49486.85546875,
          52428.18359375,
          48480.4609375,
          78379.171875,
          68471.09375,
          101137.4453125,
          66614.3828125,
          53172.98828125,
          53172.98828125,
          53172.98828125,
          56410.3671875,
          45073.36328125,
          48480.4609375,
          49147.50390625,
          74845.625,
          70021.421875,
          57401.64453125,
          55513.2109375,
          61172.7265625,
          59026.1171875,
          57559.015625,
          53167.5078125,
          58596.8125,
          53298.62109375,
          53904.6796875,
          51210.0546875,
          56689.1171875,
          65453.5546875,
          57678.46484375,
          62214.26953125,
          52408.7421875,
          39397.25390625,
          52482.0703125,
          51596.046875,
          52750.71875,
          59229.19140625,
          50168.26171875,
          47091.9765625,
          67287.8828125,
          51959.56640625,
          59229.19140625,
          65171.89453125,
          52753.03125,
          51509.2734375,
          47681.83984375,
          53714.8828125,
          52408.7421875,
          46575.51953125,
          48480.4609375,
          57401.64453125,
          50168.26171875,
          54993.1875,
          52482.0703125,
          80117.8125,
          54993.1875,
          49553.71875,
          53341.046875,
          54141.91015625,
          52803.53515625,
          54940.82421875,
          49280.0390625,
          56287.2734375,
          52587.1640625,
          54445.58984375,
          55485.5234375,
          55704.32421875,
          54445.58984375,
          65453.5546875,
          47624.90234375,
          53793.01953125,
          50092.8125,
          52961.96875,
          53912.8203125,
          57193.79296875,
          46575.51953125,
          44685.87109375,
          29088.748046875,
          54796.50390625,
          57401.64453125,
          54614.609375,
          57401.64453125,
          52199.59375,
          52428.18359375,
          54067.6015625,
          46575.51953125,
          49364.16015625,
          52408.7421875,
          64210.8359375,
          46621.44921875,
          66201.2890625,
          44096.796875,
          60158.43359375,
          49971.625,
          65171.89453125,
          47786.45703125,
          51649.51953125,
          51959.56640625,
          59376.3203125,
          51117.1875,
          37518.4765625,
          37766.0859375,
          51666.359375,
          56994.74609375,
          52068.22265625,
          49049.265625,
          49364.16015625,
          55535.70703125,
          52077.4609375,
          52068.22265625,
          58421.38671875,
          48664.83984375,
          51144.24609375,
          60232.34765625,
          65171.89453125,
          44781.52734375,
          47091.9765625,
          51174.671875,
          53788.4609375,
          45498.890625,
          53583.08984375,
          47119.53515625,
          48103.04296875,
          53321.25,
          54119.8046875,
          50710.328125,
          65171.89453125,
          53172.98828125,
          52280.90625,
          60551.53125,
          54254.72265625,
          47904.7578125,
          51188.7265625,
          50651.57421875,
          51277.6171875,
          50968.63671875,
          54862.578125,
          58709.69140625,
          51521.1015625,
          51143.59765625,
          56178.796875,
          53084.80859375,
          49308.15234375,
          39611.84765625,
          49705.42578125,
          49705.42578125,
          47528.10546875,
          57401.64453125,
          60232.34765625,
          39371.53515625,
          47972.2578125,
          49085.5,
          48848.69921875,
          43562.1171875,
          53417.10546875,
          44410.58984375,
          47707.05859375,
          52156.80078125,
          47707.05859375,
          48062.36328125,
          51063.51953125,
          77361.59375,
          44705.15625,
          57069.25,
          51521.1015625,
          52234.35546875,
          51812.26171875,
          52068.22265625,
          55485.5234375,
          51210.0546875,
          46861.62890625,
          64764.5546875,
          48151.2421875,
          49085.5,
          52433.16796875,
          42799.6484375,
          46010.10546875,
          62994.93359375,
          49105.5859375,
          43446.359375,
          61634.5859375,
          52156.80078125,
          49424.6953125,
          47016.25390625,
          48774.05078125,
          44621.36328125,
          45966.3125,
          45453.36328125,
          70223.9453125,
          54561.16796875,
          67522.25,
          80019.4921875,
          64210.8359375,
          46575.51953125,
          50474.21484375,
          49651.30078125,
          46789.02734375,
          55072.09765625,
          47458.2734375,
          34586.53515625,
          34586.53515625,
          45498.890625,
          46575.51953125,
          40809.28515625,
          45930.5625,
          57241.69140625,
          44255.4921875,
          44255.4921875,
          50447.08203125,
          40809.28515625,
          44577.5859375,
          46039.6484375,
          44781.52734375,
          44438.9765625,
          48205.6796875,
          52199.62109375,
          46087.19921875,
          49147.50390625,
          62198.89453125,
          62994.93359375,
          45832.73046875,
          46676.328125,
          44980.359375,
          56178.796875,
          46575.51953125,
          44685.87109375,
          86128.59375,
          44764.48828125,
          48480.4609375,
          44706.76953125,
          45243.78515625,
          60551.53125,
          51190.546875,
          42856.7421875,
          43751.703125,
          54081.42578125,
          47091.9765625,
          43913.71484375,
          44255.4921875,
          41272.9609375,
          48923.55078125,
          42766.328125,
          43647.7578125,
          57401.64453125,
          43354.14453125,
          46575.51953125,
          47517.92578125,
          49308.15234375,
          53731.453125,
          47119.53515625,
          48847.41015625,
          47786.45703125,
          28350.37890625,
          38926.64453125,
          41046.1796875,
          56178.796875,
          80395.09375,
          56178.796875,
          44492.7265625,
          56178.796875,
          48359.33984375,
          48923.55078125,
          45108.0234375,
          77469.4453125,
          48807.0078125,
          44434.30078125,
          40055.7890625,
          39747.390625,
          54119.8046875,
          49519.7265625,
          48359.33984375,
          44705.15625,
          40147.94140625,
          46575.51953125,
          53109.59765625,
          34997.578125,
          53725.44921875,
          55741.79296875,
          39156.859375,
          39726.88671875,
          41349.23828125,
          66930.6015625,
          42361.83984375,
          80469.625,
          72772.1953125,
          47360.8125,
          48165.9765625,
          37415.91796875,
          40445.078125,
          43608.265625,
          65453.5546875,
          48480.4609375,
          52199.62109375,
          65453.5546875,
          47904.7578125,
          40923.7109375,
          47904.7578125,
          47624.90234375,
          37872.84375,
          34818.34375,
          41705.37890625,
          41142.78125,
          48695.9765625,
          37213.734375,
          35200,
          48480.4609375,
          41046.1796875,
          44177.390625,
          36619.23828125,
          47786.45703125,
          51171.046875,
          32169.861328125,
          39311.83984375,
          41655.5703125,
          41655.5703125,
          36835.8515625,
          47624.90234375,
          34742.96484375,
          72772.1953125,
          37634.02734375,
          35792.515625,
          30710.82421875
         ]
        },
        {
         "mode": "markers",
         "name": "y_min",
         "type": "scatter",
         "x": [
          0,
          1,
          2,
          3,
          4,
          5,
          6,
          7,
          8,
          9,
          10,
          11,
          12,
          13,
          14,
          15,
          16,
          17,
          18,
          19,
          20,
          21,
          22,
          23,
          24,
          25,
          26,
          27,
          28,
          29,
          30,
          31,
          32,
          33,
          34,
          35,
          36,
          37,
          38,
          39,
          40,
          41,
          42,
          43,
          44,
          45,
          46,
          47,
          48,
          49,
          50,
          51,
          52,
          53,
          54,
          55,
          56,
          57,
          58,
          59,
          60,
          61,
          62,
          63,
          64,
          65,
          66,
          67,
          68,
          69,
          70,
          71,
          72,
          73,
          74,
          75,
          76,
          77,
          78,
          79,
          80,
          81,
          82,
          83,
          84,
          85,
          86,
          87,
          88,
          89,
          90,
          91,
          92,
          93,
          94,
          95,
          96,
          97,
          98,
          99,
          100,
          101,
          102,
          103,
          104,
          105,
          106,
          107,
          108,
          109,
          110,
          111,
          112,
          113,
          114,
          115,
          116,
          117,
          118,
          119,
          120,
          121,
          122,
          123,
          124,
          125,
          126,
          127,
          128,
          129,
          130,
          131,
          132,
          133,
          134,
          135,
          136,
          137,
          138,
          139,
          140,
          141,
          142,
          143,
          144,
          145,
          146,
          147,
          148,
          149,
          150,
          151,
          152,
          153,
          154,
          155,
          156,
          157,
          158,
          159,
          160,
          161,
          162,
          163,
          164,
          165,
          166,
          167,
          168,
          169,
          170,
          171,
          172,
          173,
          174,
          175,
          176,
          177,
          178,
          179,
          180,
          181,
          182,
          183,
          184,
          185,
          186,
          187,
          188,
          189,
          190,
          191,
          192,
          193,
          194,
          195,
          196,
          197,
          198,
          199,
          200,
          201,
          202,
          203,
          204,
          205,
          206,
          207,
          208,
          209,
          210,
          211,
          212,
          213,
          214,
          215,
          216,
          217,
          218,
          219,
          220,
          221,
          222,
          223,
          224,
          225,
          226,
          227,
          228,
          229,
          230,
          231,
          232,
          233,
          234,
          235,
          236,
          237,
          238,
          239,
          240,
          241,
          242,
          243,
          244,
          245,
          246,
          247,
          248,
          249,
          250,
          251,
          252,
          253,
          254,
          255,
          256,
          257,
          258,
          259,
          260,
          261,
          262,
          263,
          264,
          265,
          266,
          267,
          268,
          269,
          270,
          271,
          272,
          273,
          274,
          275,
          276,
          277,
          278,
          279,
          280,
          281,
          282,
          283,
          284,
          285,
          286,
          287,
          288,
          289,
          290,
          291,
          292,
          293,
          294,
          295,
          296,
          297,
          298,
          299,
          300,
          301,
          302,
          303,
          304,
          305,
          306,
          307,
          308,
          309,
          310,
          311,
          312,
          313,
          314,
          315,
          316,
          317,
          318,
          319,
          320,
          321,
          322,
          323,
          324,
          325,
          326,
          327,
          328,
          329,
          330,
          331,
          332,
          333,
          334,
          335,
          336,
          337,
          338,
          339,
          340,
          341,
          342,
          343,
          344,
          345,
          346,
          347,
          348,
          349,
          350,
          351,
          352,
          353,
          354,
          355,
          356,
          357,
          358,
          359,
          360,
          361,
          362,
          363,
          364,
          365,
          366,
          367,
          368,
          369,
          370,
          371,
          372,
          373,
          374,
          375,
          376,
          377,
          378,
          379,
          380,
          381,
          382,
          383,
          384,
          385,
          386,
          387,
          388,
          389,
          390,
          391,
          392,
          393,
          394,
          395,
          396,
          397,
          398,
          399,
          400,
          401,
          402,
          403,
          404,
          405,
          406,
          407,
          408,
          409,
          410,
          411,
          412,
          413,
          414,
          415,
          416,
          417,
          418,
          419,
          420,
          421,
          422,
          423,
          424,
          425,
          426,
          427,
          428,
          429,
          430,
          431,
          432,
          433,
          434,
          435,
          436,
          437,
          438,
          439,
          440,
          441,
          442,
          443,
          444,
          445,
          446,
          447,
          448,
          449,
          450,
          451,
          452,
          453,
          454,
          455,
          456,
          457,
          458,
          459,
          460,
          461,
          462,
          463,
          464,
          465,
          466,
          467,
          468,
          469,
          470,
          471,
          472,
          473,
          474,
          475,
          476,
          477,
          478,
          479,
          480,
          481,
          482,
          483,
          484,
          485,
          486,
          487,
          488,
          489,
          490,
          491,
          492,
          493,
          494,
          495
         ],
         "y": [
          158000,
          156000,
          132000,
          132000,
          121000,
          129000,
          110000,
          116000,
          115000,
          122000,
          115000,
          108000,
          92000,
          108000,
          103000,
          99000,
          96000,
          104000,
          102000,
          101000,
          104000,
          91000,
          103000,
          93000,
          87000,
          95000,
          95000,
          95000,
          96000,
          85000,
          98000,
          87000,
          87000,
          87000,
          90000,
          84000,
          84000,
          81000,
          88000,
          88000,
          85000,
          89000,
          83000,
          75000,
          80000,
          91000,
          84000,
          81000,
          81000,
          78000,
          83000,
          79000,
          84000,
          70000,
          74000,
          73000,
          77000,
          74000,
          73000,
          73000,
          73000,
          74000,
          75000,
          76000,
          73000,
          75000,
          67000,
          74000,
          73000,
          70000,
          75000,
          75000,
          72000,
          72000,
          70000,
          74000,
          76000,
          69000,
          70000,
          70000,
          70000,
          69000,
          75000,
          71000,
          73000,
          63000,
          68000,
          68000,
          71000,
          68000,
          61000,
          77000,
          67000,
          67000,
          70000,
          67000,
          68000,
          71000,
          68000,
          67000,
          65000,
          61000,
          62000,
          62000,
          66000,
          66000,
          75000,
          67000,
          64000,
          59000,
          65000,
          66000,
          62000,
          68000,
          61000,
          62000,
          62000,
          63000,
          59000,
          61000,
          62000,
          65000,
          65000,
          68000,
          61000,
          59000,
          64000,
          65000,
          66000,
          64000,
          70000,
          65000,
          59000,
          62000,
          60000,
          63000,
          56000,
          64000,
          64000,
          65000,
          60000,
          68000,
          57000,
          68000,
          63000,
          58000,
          60000,
          59000,
          59000,
          62000,
          65000,
          58000,
          66000,
          61000,
          60000,
          58000,
          59000,
          59000,
          62000,
          60000,
          59000,
          57000,
          57000,
          59000,
          60000,
          59000,
          60000,
          53000,
          58000,
          61000,
          60000,
          60000,
          57000,
          61000,
          57000,
          62000,
          60000,
          55000,
          59000,
          61000,
          53000,
          53000,
          60000,
          52000,
          58000,
          52000,
          51000,
          57000,
          57000,
          53000,
          56000,
          57000,
          56000,
          56000,
          56000,
          56000,
          59000,
          65000,
          52000,
          57000,
          56000,
          53000,
          55000,
          59000,
          57000,
          59000,
          56000,
          61000,
          54000,
          52000,
          52000,
          58000,
          57000,
          58000,
          62000,
          59000,
          56000,
          52000,
          53000,
          55000,
          58000,
          49000,
          54000,
          58000,
          56000,
          58000,
          55000,
          53000,
          51000,
          54000,
          55000,
          48000,
          49000,
          56000,
          50000,
          52000,
          55000,
          54000,
          60000,
          55000,
          49000,
          56000,
          54000,
          53000,
          52000,
          56000,
          55000,
          54000,
          53000,
          55000,
          52000,
          53000,
          51000,
          55000,
          54000,
          53000,
          54000,
          53000,
          51000,
          51000,
          51000,
          51000,
          55000,
          51000,
          53000,
          51000,
          52000,
          51000,
          53000,
          51000,
          49000,
          53000,
          53000,
          52000,
          50000,
          56000,
          51000,
          46000,
          55000,
          49000,
          50000,
          48000,
          51000,
          50000,
          50000,
          54000,
          50000,
          51000,
          46000,
          51000,
          50000,
          54000,
          53000,
          46000,
          54000,
          50000,
          48000,
          46000,
          52000,
          48000,
          45000,
          51000,
          54000,
          50000,
          51000,
          48000,
          50000,
          54000,
          53000,
          49000,
          45000,
          49000,
          50000,
          46000,
          49000,
          51000,
          51000,
          50000,
          50000,
          50000,
          48000,
          49000,
          51000,
          50000,
          51000,
          52000,
          47000,
          47000,
          50000,
          50000,
          48000,
          51000,
          49000,
          51000,
          49000,
          49000,
          51000,
          48000,
          50000,
          47000,
          46000,
          50000,
          46000,
          49000,
          49000,
          48000,
          50000,
          48000,
          49000,
          48000,
          48000,
          49000,
          47000,
          51000,
          47000,
          49000,
          48000,
          50000,
          48000,
          46000,
          46000,
          49000,
          47000,
          47000,
          50000,
          48000,
          50000,
          47000,
          48000,
          51000,
          47000,
          46000,
          47000,
          49000,
          47000,
          48000,
          48000,
          44000,
          50000,
          47000,
          45000,
          48000,
          48000,
          46000,
          46000,
          45000,
          46000,
          41000,
          46000,
          46000,
          46000,
          46000,
          45000,
          41000,
          45000,
          46000,
          48000,
          45000,
          46000,
          46000,
          46000,
          46000,
          46000,
          42000,
          46000,
          47000,
          44000,
          42000,
          45000,
          46000,
          45000,
          43000,
          45000,
          44000,
          44000,
          43000,
          43000,
          41000,
          45000,
          43000,
          43000,
          44000,
          44000,
          43000,
          43000,
          45000,
          43000,
          44000,
          43000,
          45000,
          43000,
          43000,
          45000,
          45000,
          45000,
          39000,
          42000,
          43000,
          42000,
          45000,
          41000,
          45000,
          44000,
          45000,
          44000,
          41000,
          39000,
          42000,
          42000,
          45000,
          41000,
          40000,
          40000,
          41000,
          37000,
          41000,
          39000,
          40000,
          40000,
          39000,
          40000,
          40000,
          39000,
          40000,
          41000,
          39000,
          41000,
          38000,
          38000,
          39000,
          39000,
          40000,
          38000,
          38000,
          41000,
          41000,
          41000,
          41000,
          38000,
          38000,
          38000,
          34000,
          38000,
          37000,
          38000,
          37000,
          37000,
          38000,
          36000,
          38000,
          36000,
          37000,
          36000,
          37000,
          37000,
          36000,
          36000,
          35000,
          35000,
          35000,
          34000,
          34000,
          33000,
          33000,
          36000,
          30000
         ]
        }
       ],
       "layout": {
        "template": {
         "data": {
          "bar": [
           {
            "error_x": {
             "color": "#2a3f5f"
            },
            "error_y": {
             "color": "#2a3f5f"
            },
            "marker": {
             "line": {
              "color": "#E5ECF6",
              "width": 0.5
             }
            },
            "type": "bar"
           }
          ],
          "barpolar": [
           {
            "marker": {
             "line": {
              "color": "#E5ECF6",
              "width": 0.5
             }
            },
            "type": "barpolar"
           }
          ],
          "carpet": [
           {
            "aaxis": {
             "endlinecolor": "#2a3f5f",
             "gridcolor": "white",
             "linecolor": "white",
             "minorgridcolor": "white",
             "startlinecolor": "#2a3f5f"
            },
            "baxis": {
             "endlinecolor": "#2a3f5f",
             "gridcolor": "white",
             "linecolor": "white",
             "minorgridcolor": "white",
             "startlinecolor": "#2a3f5f"
            },
            "type": "carpet"
           }
          ],
          "choropleth": [
           {
            "colorbar": {
             "outlinewidth": 0,
             "ticks": ""
            },
            "type": "choropleth"
           }
          ],
          "contour": [
           {
            "colorbar": {
             "outlinewidth": 0,
             "ticks": ""
            },
            "colorscale": [
             [
              0,
              "#0d0887"
             ],
             [
              0.1111111111111111,
              "#46039f"
             ],
             [
              0.2222222222222222,
              "#7201a8"
             ],
             [
              0.3333333333333333,
              "#9c179e"
             ],
             [
              0.4444444444444444,
              "#bd3786"
             ],
             [
              0.5555555555555556,
              "#d8576b"
             ],
             [
              0.6666666666666666,
              "#ed7953"
             ],
             [
              0.7777777777777778,
              "#fb9f3a"
             ],
             [
              0.8888888888888888,
              "#fdca26"
             ],
             [
              1,
              "#f0f921"
             ]
            ],
            "type": "contour"
           }
          ],
          "contourcarpet": [
           {
            "colorbar": {
             "outlinewidth": 0,
             "ticks": ""
            },
            "type": "contourcarpet"
           }
          ],
          "heatmap": [
           {
            "colorbar": {
             "outlinewidth": 0,
             "ticks": ""
            },
            "colorscale": [
             [
              0,
              "#0d0887"
             ],
             [
              0.1111111111111111,
              "#46039f"
             ],
             [
              0.2222222222222222,
              "#7201a8"
             ],
             [
              0.3333333333333333,
              "#9c179e"
             ],
             [
              0.4444444444444444,
              "#bd3786"
             ],
             [
              0.5555555555555556,
              "#d8576b"
             ],
             [
              0.6666666666666666,
              "#ed7953"
             ],
             [
              0.7777777777777778,
              "#fb9f3a"
             ],
             [
              0.8888888888888888,
              "#fdca26"
             ],
             [
              1,
              "#f0f921"
             ]
            ],
            "type": "heatmap"
           }
          ],
          "heatmapgl": [
           {
            "colorbar": {
             "outlinewidth": 0,
             "ticks": ""
            },
            "colorscale": [
             [
              0,
              "#0d0887"
             ],
             [
              0.1111111111111111,
              "#46039f"
             ],
             [
              0.2222222222222222,
              "#7201a8"
             ],
             [
              0.3333333333333333,
              "#9c179e"
             ],
             [
              0.4444444444444444,
              "#bd3786"
             ],
             [
              0.5555555555555556,
              "#d8576b"
             ],
             [
              0.6666666666666666,
              "#ed7953"
             ],
             [
              0.7777777777777778,
              "#fb9f3a"
             ],
             [
              0.8888888888888888,
              "#fdca26"
             ],
             [
              1,
              "#f0f921"
             ]
            ],
            "type": "heatmapgl"
           }
          ],
          "histogram": [
           {
            "marker": {
             "colorbar": {
              "outlinewidth": 0,
              "ticks": ""
             }
            },
            "type": "histogram"
           }
          ],
          "histogram2d": [
           {
            "colorbar": {
             "outlinewidth": 0,
             "ticks": ""
            },
            "colorscale": [
             [
              0,
              "#0d0887"
             ],
             [
              0.1111111111111111,
              "#46039f"
             ],
             [
              0.2222222222222222,
              "#7201a8"
             ],
             [
              0.3333333333333333,
              "#9c179e"
             ],
             [
              0.4444444444444444,
              "#bd3786"
             ],
             [
              0.5555555555555556,
              "#d8576b"
             ],
             [
              0.6666666666666666,
              "#ed7953"
             ],
             [
              0.7777777777777778,
              "#fb9f3a"
             ],
             [
              0.8888888888888888,
              "#fdca26"
             ],
             [
              1,
              "#f0f921"
             ]
            ],
            "type": "histogram2d"
           }
          ],
          "histogram2dcontour": [
           {
            "colorbar": {
             "outlinewidth": 0,
             "ticks": ""
            },
            "colorscale": [
             [
              0,
              "#0d0887"
             ],
             [
              0.1111111111111111,
              "#46039f"
             ],
             [
              0.2222222222222222,
              "#7201a8"
             ],
             [
              0.3333333333333333,
              "#9c179e"
             ],
             [
              0.4444444444444444,
              "#bd3786"
             ],
             [
              0.5555555555555556,
              "#d8576b"
             ],
             [
              0.6666666666666666,
              "#ed7953"
             ],
             [
              0.7777777777777778,
              "#fb9f3a"
             ],
             [
              0.8888888888888888,
              "#fdca26"
             ],
             [
              1,
              "#f0f921"
             ]
            ],
            "type": "histogram2dcontour"
           }
          ],
          "mesh3d": [
           {
            "colorbar": {
             "outlinewidth": 0,
             "ticks": ""
            },
            "type": "mesh3d"
           }
          ],
          "parcoords": [
           {
            "line": {
             "colorbar": {
              "outlinewidth": 0,
              "ticks": ""
             }
            },
            "type": "parcoords"
           }
          ],
          "scatter": [
           {
            "marker": {
             "colorbar": {
              "outlinewidth": 0,
              "ticks": ""
             }
            },
            "type": "scatter"
           }
          ],
          "scatter3d": [
           {
            "line": {
             "colorbar": {
              "outlinewidth": 0,
              "ticks": ""
             }
            },
            "marker": {
             "colorbar": {
              "outlinewidth": 0,
              "ticks": ""
             }
            },
            "type": "scatter3d"
           }
          ],
          "scattercarpet": [
           {
            "marker": {
             "colorbar": {
              "outlinewidth": 0,
              "ticks": ""
             }
            },
            "type": "scattercarpet"
           }
          ],
          "scattergeo": [
           {
            "marker": {
             "colorbar": {
              "outlinewidth": 0,
              "ticks": ""
             }
            },
            "type": "scattergeo"
           }
          ],
          "scattergl": [
           {
            "marker": {
             "colorbar": {
              "outlinewidth": 0,
              "ticks": ""
             }
            },
            "type": "scattergl"
           }
          ],
          "scattermapbox": [
           {
            "marker": {
             "colorbar": {
              "outlinewidth": 0,
              "ticks": ""
             }
            },
            "type": "scattermapbox"
           }
          ],
          "scatterpolar": [
           {
            "marker": {
             "colorbar": {
              "outlinewidth": 0,
              "ticks": ""
             }
            },
            "type": "scatterpolar"
           }
          ],
          "scatterpolargl": [
           {
            "marker": {
             "colorbar": {
              "outlinewidth": 0,
              "ticks": ""
             }
            },
            "type": "scatterpolargl"
           }
          ],
          "scatterternary": [
           {
            "marker": {
             "colorbar": {
              "outlinewidth": 0,
              "ticks": ""
             }
            },
            "type": "scatterternary"
           }
          ],
          "surface": [
           {
            "colorbar": {
             "outlinewidth": 0,
             "ticks": ""
            },
            "colorscale": [
             [
              0,
              "#0d0887"
             ],
             [
              0.1111111111111111,
              "#46039f"
             ],
             [
              0.2222222222222222,
              "#7201a8"
             ],
             [
              0.3333333333333333,
              "#9c179e"
             ],
             [
              0.4444444444444444,
              "#bd3786"
             ],
             [
              0.5555555555555556,
              "#d8576b"
             ],
             [
              0.6666666666666666,
              "#ed7953"
             ],
             [
              0.7777777777777778,
              "#fb9f3a"
             ],
             [
              0.8888888888888888,
              "#fdca26"
             ],
             [
              1,
              "#f0f921"
             ]
            ],
            "type": "surface"
           }
          ],
          "table": [
           {
            "cells": {
             "fill": {
              "color": "#EBF0F8"
             },
             "line": {
              "color": "white"
             }
            },
            "header": {
             "fill": {
              "color": "#C8D4E3"
             },
             "line": {
              "color": "white"
             }
            },
            "type": "table"
           }
          ]
         },
         "layout": {
          "annotationdefaults": {
           "arrowcolor": "#2a3f5f",
           "arrowhead": 0,
           "arrowwidth": 1
          },
          "colorscale": {
           "diverging": [
            [
             0,
             "#8e0152"
            ],
            [
             0.1,
             "#c51b7d"
            ],
            [
             0.2,
             "#de77ae"
            ],
            [
             0.3,
             "#f1b6da"
            ],
            [
             0.4,
             "#fde0ef"
            ],
            [
             0.5,
             "#f7f7f7"
            ],
            [
             0.6,
             "#e6f5d0"
            ],
            [
             0.7,
             "#b8e186"
            ],
            [
             0.8,
             "#7fbc41"
            ],
            [
             0.9,
             "#4d9221"
            ],
            [
             1,
             "#276419"
            ]
           ],
           "sequential": [
            [
             0,
             "#0d0887"
            ],
            [
             0.1111111111111111,
             "#46039f"
            ],
            [
             0.2222222222222222,
             "#7201a8"
            ],
            [
             0.3333333333333333,
             "#9c179e"
            ],
            [
             0.4444444444444444,
             "#bd3786"
            ],
            [
             0.5555555555555556,
             "#d8576b"
            ],
            [
             0.6666666666666666,
             "#ed7953"
            ],
            [
             0.7777777777777778,
             "#fb9f3a"
            ],
            [
             0.8888888888888888,
             "#fdca26"
            ],
            [
             1,
             "#f0f921"
            ]
           ],
           "sequentialminus": [
            [
             0,
             "#0d0887"
            ],
            [
             0.1111111111111111,
             "#46039f"
            ],
            [
             0.2222222222222222,
             "#7201a8"
            ],
            [
             0.3333333333333333,
             "#9c179e"
            ],
            [
             0.4444444444444444,
             "#bd3786"
            ],
            [
             0.5555555555555556,
             "#d8576b"
            ],
            [
             0.6666666666666666,
             "#ed7953"
            ],
            [
             0.7777777777777778,
             "#fb9f3a"
            ],
            [
             0.8888888888888888,
             "#fdca26"
            ],
            [
             1,
             "#f0f921"
            ]
           ]
          },
          "colorway": [
           "#636efa",
           "#EF553B",
           "#00cc96",
           "#ab63fa",
           "#FFA15A",
           "#19d3f3",
           "#FF6692",
           "#B6E880",
           "#FF97FF",
           "#FECB52"
          ],
          "font": {
           "color": "#2a3f5f"
          },
          "geo": {
           "bgcolor": "white",
           "lakecolor": "white",
           "landcolor": "#E5ECF6",
           "showlakes": true,
           "showland": true,
           "subunitcolor": "white"
          },
          "hoverlabel": {
           "align": "left"
          },
          "hovermode": "closest",
          "mapbox": {
           "style": "light"
          },
          "paper_bgcolor": "white",
          "plot_bgcolor": "#E5ECF6",
          "polar": {
           "angularaxis": {
            "gridcolor": "white",
            "linecolor": "white",
            "ticks": ""
           },
           "bgcolor": "#E5ECF6",
           "radialaxis": {
            "gridcolor": "white",
            "linecolor": "white",
            "ticks": ""
           }
          },
          "scene": {
           "xaxis": {
            "backgroundcolor": "#E5ECF6",
            "gridcolor": "white",
            "gridwidth": 2,
            "linecolor": "white",
            "showbackground": true,
            "ticks": "",
            "zerolinecolor": "white"
           },
           "yaxis": {
            "backgroundcolor": "#E5ECF6",
            "gridcolor": "white",
            "gridwidth": 2,
            "linecolor": "white",
            "showbackground": true,
            "ticks": "",
            "zerolinecolor": "white"
           },
           "zaxis": {
            "backgroundcolor": "#E5ECF6",
            "gridcolor": "white",
            "gridwidth": 2,
            "linecolor": "white",
            "showbackground": true,
            "ticks": "",
            "zerolinecolor": "white"
           }
          },
          "shapedefaults": {
           "line": {
            "color": "#2a3f5f"
           }
          },
          "ternary": {
           "aaxis": {
            "gridcolor": "white",
            "linecolor": "white",
            "ticks": ""
           },
           "baxis": {
            "gridcolor": "white",
            "linecolor": "white",
            "ticks": ""
           },
           "bgcolor": "#E5ECF6",
           "caxis": {
            "gridcolor": "white",
            "linecolor": "white",
            "ticks": ""
           }
          },
          "title": {
           "x": 0.05
          },
          "xaxis": {
           "automargin": true,
           "gridcolor": "white",
           "linecolor": "white",
           "ticks": "",
           "zerolinecolor": "white",
           "zerolinewidth": 2
          },
          "yaxis": {
           "automargin": true,
           "gridcolor": "white",
           "linecolor": "white",
           "ticks": "",
           "zerolinecolor": "white",
           "zerolinewidth": 2
          }
         }
        }
       }
      },
      "text/html": [
       "<div>\n",
       "        \n",
       "        \n",
       "            <div id=\"8977957e-48f7-49c1-b2b4-63bf932db1e6\" class=\"plotly-graph-div\" style=\"height:525px; width:100%;\"></div>\n",
       "            <script type=\"text/javascript\">\n",
       "                require([\"plotly\"], function(Plotly) {\n",
       "                    window.PLOTLYENV=window.PLOTLYENV || {};\n",
       "                    \n",
       "                if (document.getElementById(\"8977957e-48f7-49c1-b2b4-63bf932db1e6\")) {\n",
       "                    Plotly.newPlot(\n",
       "                        '8977957e-48f7-49c1-b2b4-63bf932db1e6',\n",
       "                        [{\"mode\": \"markers\", \"name\": \"y_pred_min\", \"type\": \"scatter\", \"x\": [0, 1, 2, 3, 4, 5, 6, 7, 8, 9, 10, 11, 12, 13, 14, 15, 16, 17, 18, 19, 20, 21, 22, 23, 24, 25, 26, 27, 28, 29, 30, 31, 32, 33, 34, 35, 36, 37, 38, 39, 40, 41, 42, 43, 44, 45, 46, 47, 48, 49, 50, 51, 52, 53, 54, 55, 56, 57, 58, 59, 60, 61, 62, 63, 64, 65, 66, 67, 68, 69, 70, 71, 72, 73, 74, 75, 76, 77, 78, 79, 80, 81, 82, 83, 84, 85, 86, 87, 88, 89, 90, 91, 92, 93, 94, 95, 96, 97, 98, 99, 100, 101, 102, 103, 104, 105, 106, 107, 108, 109, 110, 111, 112, 113, 114, 115, 116, 117, 118, 119, 120, 121, 122, 123, 124, 125, 126, 127, 128, 129, 130, 131, 132, 133, 134, 135, 136, 137, 138, 139, 140, 141, 142, 143, 144, 145, 146, 147, 148, 149, 150, 151, 152, 153, 154, 155, 156, 157, 158, 159, 160, 161, 162, 163, 164, 165, 166, 167, 168, 169, 170, 171, 172, 173, 174, 175, 176, 177, 178, 179, 180, 181, 182, 183, 184, 185, 186, 187, 188, 189, 190, 191, 192, 193, 194, 195, 196, 197, 198, 199, 200, 201, 202, 203, 204, 205, 206, 207, 208, 209, 210, 211, 212, 213, 214, 215, 216, 217, 218, 219, 220, 221, 222, 223, 224, 225, 226, 227, 228, 229, 230, 231, 232, 233, 234, 235, 236, 237, 238, 239, 240, 241, 242, 243, 244, 245, 246, 247, 248, 249, 250, 251, 252, 253, 254, 255, 256, 257, 258, 259, 260, 261, 262, 263, 264, 265, 266, 267, 268, 269, 270, 271, 272, 273, 274, 275, 276, 277, 278, 279, 280, 281, 282, 283, 284, 285, 286, 287, 288, 289, 290, 291, 292, 293, 294, 295, 296, 297, 298, 299, 300, 301, 302, 303, 304, 305, 306, 307, 308, 309, 310, 311, 312, 313, 314, 315, 316, 317, 318, 319, 320, 321, 322, 323, 324, 325, 326, 327, 328, 329, 330, 331, 332, 333, 334, 335, 336, 337, 338, 339, 340, 341, 342, 343, 344, 345, 346, 347, 348, 349, 350, 351, 352, 353, 354, 355, 356, 357, 358, 359, 360, 361, 362, 363, 364, 365, 366, 367, 368, 369, 370, 371, 372, 373, 374, 375, 376, 377, 378, 379, 380, 381, 382, 383, 384, 385, 386, 387, 388, 389, 390, 391, 392, 393, 394, 395, 396, 397, 398, 399, 400, 401, 402, 403, 404, 405, 406, 407, 408, 409, 410, 411, 412, 413, 414, 415, 416, 417, 418, 419, 420, 421, 422, 423, 424, 425, 426, 427, 428, 429, 430, 431, 432, 433, 434, 435, 436, 437, 438, 439, 440, 441, 442, 443, 444, 445, 446, 447, 448, 449, 450, 451, 452, 453, 454, 455, 456, 457, 458, 459, 460, 461, 462, 463, 464, 465, 466, 467, 468, 469, 470, 471, 472, 473, 474, 475, 476, 477, 478, 479, 480, 481, 482, 483, 484, 485, 486, 487, 488, 489, 490, 491, 492, 493, 494, 495], \"y\": [156657.109375, 89617.3828125, 111552.328125, 111552.328125, 80019.4921875, 65171.89453125, 65171.89453125, 65453.5546875, 111552.328125, 67277.8359375, 111552.328125, 35120.03125, 90298.5234375, 30560.27734375, 89263.2578125, 62039.0390625, 80019.4921875, 100336.8984375, 80117.8125, 99081.3046875, 102733.1171875, 91768.0859375, 103394.5078125, 92554.71875, 91123.8359375, 95052.6875, 54361.3984375, 96767.078125, 96240.59375, 78823.9765625, 95336.25, 86856.5625, 86856.5625, 30985.69921875, 53084.80859375, 111552.328125, 64988.84765625, 57401.64453125, 86771.9921875, 88138.1796875, 84689.9609375, 69812.359375, 49440.58984375, 71021.1484375, 67023.9609375, 90798.6796875, 78191.1796875, 67369.0703125, 88138.1796875, 51475.51171875, 64764.5546875, 79399.2890625, 71703.3125, 69109.6171875, 62994.93359375, 79069.0703125, 62198.89453125, 71822.203125, 73691.7421875, 54395.68359375, 58967.89453125, 70979.2265625, 75083.5078125, 67522.25, 69768.3359375, 74548.3359375, 66702.265625, 74295.4375, 70972.28125, 76416.3203125, 74845.625, 75420.296875, 55022.3671875, 72509.7578125, 62198.89453125, 51105.16015625, 75321.8828125, 63110.76171875, 62198.89453125, 69044.171875, 62198.89453125, 68381.046875, 71502.4375, 67955.53125, 72313.4296875, 88320.171875, 67649.3046875, 68793.5625, 70748.3125, 73457.671875, 62994.93359375, 67287.8828125, 75462.03125, 44673.125, 65462.37109375, 49553.71875, 72377.8125, 62591.65234375, 72983.7421875, 59036.71875, 64628.94921875, 51190.546875, 56410.3671875, 62328.5, 62198.89453125, 63603.37109375, 74931.40625, 53725.44921875, 64238.28515625, 54081.42578125, 55485.5234375, 67049.9765625, 55704.32421875, 67407.4296875, 61819.91796875, 62783.6640625, 57739.5, 59294.1015625, 63110.76171875, 61819.91796875, 67023.9609375, 64018.421875, 56178.796875, 66765.609375, 59229.19140625, 67781.2734375, 60232.34765625, 63319.51171875, 64904.4140625, 56178.796875, 61963.73046875, 67522.25, 54119.8046875, 60746.4609375, 43595.16015625, 52234.35546875, 57739.5, 65450.359375, 63958.28515625, 65171.89453125, 60177.7421875, 58436.8359375, 57032.71875, 67277.8359375, 58186.6328125, 60232.34765625, 54119.8046875, 58720.0546875, 58720.0546875, 55219.9921875, 57603.81640625, 61987.66796875, 66201.2890625, 62231.06640625, 58004.046875, 47016.25390625, 61273.78515625, 61273.78515625, 58230.23046875, 57420.1484375, 7022.0712890625, 54445.58984375, 30106.337890625, 58441.8828125, 57739.5, 53714.8828125, 59738.23828125, 59376.3203125, 62198.89453125, 61347.28515625, 64715.61328125, 46039.6484375, 57742.18359375, 59971.265625, 57060.5, 57761.03125, 59287.75, 52522.8828125, 56994.74609375, 62652.99609375, 57420.1484375, 50256.3203125, 58753.05859375, 51277.6171875, 71506.1015625, 49486.85546875, 52428.18359375, 48480.4609375, 78379.171875, 68471.09375, 101137.4453125, 66614.3828125, 53172.98828125, 53172.98828125, 53172.98828125, 56410.3671875, 45073.36328125, 48480.4609375, 49147.50390625, 74845.625, 70021.421875, 57401.64453125, 55513.2109375, 61172.7265625, 59026.1171875, 57559.015625, 53167.5078125, 58596.8125, 53298.62109375, 53904.6796875, 51210.0546875, 56689.1171875, 65453.5546875, 57678.46484375, 62214.26953125, 52408.7421875, 39397.25390625, 52482.0703125, 51596.046875, 52750.71875, 59229.19140625, 50168.26171875, 47091.9765625, 67287.8828125, 51959.56640625, 59229.19140625, 65171.89453125, 52753.03125, 51509.2734375, 47681.83984375, 53714.8828125, 52408.7421875, 46575.51953125, 48480.4609375, 57401.64453125, 50168.26171875, 54993.1875, 52482.0703125, 80117.8125, 54993.1875, 49553.71875, 53341.046875, 54141.91015625, 52803.53515625, 54940.82421875, 49280.0390625, 56287.2734375, 52587.1640625, 54445.58984375, 55485.5234375, 55704.32421875, 54445.58984375, 65453.5546875, 47624.90234375, 53793.01953125, 50092.8125, 52961.96875, 53912.8203125, 57193.79296875, 46575.51953125, 44685.87109375, 29088.748046875, 54796.50390625, 57401.64453125, 54614.609375, 57401.64453125, 52199.59375, 52428.18359375, 54067.6015625, 46575.51953125, 49364.16015625, 52408.7421875, 64210.8359375, 46621.44921875, 66201.2890625, 44096.796875, 60158.43359375, 49971.625, 65171.89453125, 47786.45703125, 51649.51953125, 51959.56640625, 59376.3203125, 51117.1875, 37518.4765625, 37766.0859375, 51666.359375, 56994.74609375, 52068.22265625, 49049.265625, 49364.16015625, 55535.70703125, 52077.4609375, 52068.22265625, 58421.38671875, 48664.83984375, 51144.24609375, 60232.34765625, 65171.89453125, 44781.52734375, 47091.9765625, 51174.671875, 53788.4609375, 45498.890625, 53583.08984375, 47119.53515625, 48103.04296875, 53321.25, 54119.8046875, 50710.328125, 65171.89453125, 53172.98828125, 52280.90625, 60551.53125, 54254.72265625, 47904.7578125, 51188.7265625, 50651.57421875, 51277.6171875, 50968.63671875, 54862.578125, 58709.69140625, 51521.1015625, 51143.59765625, 56178.796875, 53084.80859375, 49308.15234375, 39611.84765625, 49705.42578125, 49705.42578125, 47528.10546875, 57401.64453125, 60232.34765625, 39371.53515625, 47972.2578125, 49085.5, 48848.69921875, 43562.1171875, 53417.10546875, 44410.58984375, 47707.05859375, 52156.80078125, 47707.05859375, 48062.36328125, 51063.51953125, 77361.59375, 44705.15625, 57069.25, 51521.1015625, 52234.35546875, 51812.26171875, 52068.22265625, 55485.5234375, 51210.0546875, 46861.62890625, 64764.5546875, 48151.2421875, 49085.5, 52433.16796875, 42799.6484375, 46010.10546875, 62994.93359375, 49105.5859375, 43446.359375, 61634.5859375, 52156.80078125, 49424.6953125, 47016.25390625, 48774.05078125, 44621.36328125, 45966.3125, 45453.36328125, 70223.9453125, 54561.16796875, 67522.25, 80019.4921875, 64210.8359375, 46575.51953125, 50474.21484375, 49651.30078125, 46789.02734375, 55072.09765625, 47458.2734375, 34586.53515625, 34586.53515625, 45498.890625, 46575.51953125, 40809.28515625, 45930.5625, 57241.69140625, 44255.4921875, 44255.4921875, 50447.08203125, 40809.28515625, 44577.5859375, 46039.6484375, 44781.52734375, 44438.9765625, 48205.6796875, 52199.62109375, 46087.19921875, 49147.50390625, 62198.89453125, 62994.93359375, 45832.73046875, 46676.328125, 44980.359375, 56178.796875, 46575.51953125, 44685.87109375, 86128.59375, 44764.48828125, 48480.4609375, 44706.76953125, 45243.78515625, 60551.53125, 51190.546875, 42856.7421875, 43751.703125, 54081.42578125, 47091.9765625, 43913.71484375, 44255.4921875, 41272.9609375, 48923.55078125, 42766.328125, 43647.7578125, 57401.64453125, 43354.14453125, 46575.51953125, 47517.92578125, 49308.15234375, 53731.453125, 47119.53515625, 48847.41015625, 47786.45703125, 28350.37890625, 38926.64453125, 41046.1796875, 56178.796875, 80395.09375, 56178.796875, 44492.7265625, 56178.796875, 48359.33984375, 48923.55078125, 45108.0234375, 77469.4453125, 48807.0078125, 44434.30078125, 40055.7890625, 39747.390625, 54119.8046875, 49519.7265625, 48359.33984375, 44705.15625, 40147.94140625, 46575.51953125, 53109.59765625, 34997.578125, 53725.44921875, 55741.79296875, 39156.859375, 39726.88671875, 41349.23828125, 66930.6015625, 42361.83984375, 80469.625, 72772.1953125, 47360.8125, 48165.9765625, 37415.91796875, 40445.078125, 43608.265625, 65453.5546875, 48480.4609375, 52199.62109375, 65453.5546875, 47904.7578125, 40923.7109375, 47904.7578125, 47624.90234375, 37872.84375, 34818.34375, 41705.37890625, 41142.78125, 48695.9765625, 37213.734375, 35200.0, 48480.4609375, 41046.1796875, 44177.390625, 36619.23828125, 47786.45703125, 51171.046875, 32169.861328125, 39311.83984375, 41655.5703125, 41655.5703125, 36835.8515625, 47624.90234375, 34742.96484375, 72772.1953125, 37634.02734375, 35792.515625, 30710.82421875]}, {\"mode\": \"markers\", \"name\": \"y_min\", \"type\": \"scatter\", \"x\": [0, 1, 2, 3, 4, 5, 6, 7, 8, 9, 10, 11, 12, 13, 14, 15, 16, 17, 18, 19, 20, 21, 22, 23, 24, 25, 26, 27, 28, 29, 30, 31, 32, 33, 34, 35, 36, 37, 38, 39, 40, 41, 42, 43, 44, 45, 46, 47, 48, 49, 50, 51, 52, 53, 54, 55, 56, 57, 58, 59, 60, 61, 62, 63, 64, 65, 66, 67, 68, 69, 70, 71, 72, 73, 74, 75, 76, 77, 78, 79, 80, 81, 82, 83, 84, 85, 86, 87, 88, 89, 90, 91, 92, 93, 94, 95, 96, 97, 98, 99, 100, 101, 102, 103, 104, 105, 106, 107, 108, 109, 110, 111, 112, 113, 114, 115, 116, 117, 118, 119, 120, 121, 122, 123, 124, 125, 126, 127, 128, 129, 130, 131, 132, 133, 134, 135, 136, 137, 138, 139, 140, 141, 142, 143, 144, 145, 146, 147, 148, 149, 150, 151, 152, 153, 154, 155, 156, 157, 158, 159, 160, 161, 162, 163, 164, 165, 166, 167, 168, 169, 170, 171, 172, 173, 174, 175, 176, 177, 178, 179, 180, 181, 182, 183, 184, 185, 186, 187, 188, 189, 190, 191, 192, 193, 194, 195, 196, 197, 198, 199, 200, 201, 202, 203, 204, 205, 206, 207, 208, 209, 210, 211, 212, 213, 214, 215, 216, 217, 218, 219, 220, 221, 222, 223, 224, 225, 226, 227, 228, 229, 230, 231, 232, 233, 234, 235, 236, 237, 238, 239, 240, 241, 242, 243, 244, 245, 246, 247, 248, 249, 250, 251, 252, 253, 254, 255, 256, 257, 258, 259, 260, 261, 262, 263, 264, 265, 266, 267, 268, 269, 270, 271, 272, 273, 274, 275, 276, 277, 278, 279, 280, 281, 282, 283, 284, 285, 286, 287, 288, 289, 290, 291, 292, 293, 294, 295, 296, 297, 298, 299, 300, 301, 302, 303, 304, 305, 306, 307, 308, 309, 310, 311, 312, 313, 314, 315, 316, 317, 318, 319, 320, 321, 322, 323, 324, 325, 326, 327, 328, 329, 330, 331, 332, 333, 334, 335, 336, 337, 338, 339, 340, 341, 342, 343, 344, 345, 346, 347, 348, 349, 350, 351, 352, 353, 354, 355, 356, 357, 358, 359, 360, 361, 362, 363, 364, 365, 366, 367, 368, 369, 370, 371, 372, 373, 374, 375, 376, 377, 378, 379, 380, 381, 382, 383, 384, 385, 386, 387, 388, 389, 390, 391, 392, 393, 394, 395, 396, 397, 398, 399, 400, 401, 402, 403, 404, 405, 406, 407, 408, 409, 410, 411, 412, 413, 414, 415, 416, 417, 418, 419, 420, 421, 422, 423, 424, 425, 426, 427, 428, 429, 430, 431, 432, 433, 434, 435, 436, 437, 438, 439, 440, 441, 442, 443, 444, 445, 446, 447, 448, 449, 450, 451, 452, 453, 454, 455, 456, 457, 458, 459, 460, 461, 462, 463, 464, 465, 466, 467, 468, 469, 470, 471, 472, 473, 474, 475, 476, 477, 478, 479, 480, 481, 482, 483, 484, 485, 486, 487, 488, 489, 490, 491, 492, 493, 494, 495], \"y\": [158000, 156000, 132000, 132000, 121000, 129000, 110000, 116000, 115000, 122000, 115000, 108000, 92000, 108000, 103000, 99000, 96000, 104000, 102000, 101000, 104000, 91000, 103000, 93000, 87000, 95000, 95000, 95000, 96000, 85000, 98000, 87000, 87000, 87000, 90000, 84000, 84000, 81000, 88000, 88000, 85000, 89000, 83000, 75000, 80000, 91000, 84000, 81000, 81000, 78000, 83000, 79000, 84000, 70000, 74000, 73000, 77000, 74000, 73000, 73000, 73000, 74000, 75000, 76000, 73000, 75000, 67000, 74000, 73000, 70000, 75000, 75000, 72000, 72000, 70000, 74000, 76000, 69000, 70000, 70000, 70000, 69000, 75000, 71000, 73000, 63000, 68000, 68000, 71000, 68000, 61000, 77000, 67000, 67000, 70000, 67000, 68000, 71000, 68000, 67000, 65000, 61000, 62000, 62000, 66000, 66000, 75000, 67000, 64000, 59000, 65000, 66000, 62000, 68000, 61000, 62000, 62000, 63000, 59000, 61000, 62000, 65000, 65000, 68000, 61000, 59000, 64000, 65000, 66000, 64000, 70000, 65000, 59000, 62000, 60000, 63000, 56000, 64000, 64000, 65000, 60000, 68000, 57000, 68000, 63000, 58000, 60000, 59000, 59000, 62000, 65000, 58000, 66000, 61000, 60000, 58000, 59000, 59000, 62000, 60000, 59000, 57000, 57000, 59000, 60000, 59000, 60000, 53000, 58000, 61000, 60000, 60000, 57000, 61000, 57000, 62000, 60000, 55000, 59000, 61000, 53000, 53000, 60000, 52000, 58000, 52000, 51000, 57000, 57000, 53000, 56000, 57000, 56000, 56000, 56000, 56000, 59000, 65000, 52000, 57000, 56000, 53000, 55000, 59000, 57000, 59000, 56000, 61000, 54000, 52000, 52000, 58000, 57000, 58000, 62000, 59000, 56000, 52000, 53000, 55000, 58000, 49000, 54000, 58000, 56000, 58000, 55000, 53000, 51000, 54000, 55000, 48000, 49000, 56000, 50000, 52000, 55000, 54000, 60000, 55000, 49000, 56000, 54000, 53000, 52000, 56000, 55000, 54000, 53000, 55000, 52000, 53000, 51000, 55000, 54000, 53000, 54000, 53000, 51000, 51000, 51000, 51000, 55000, 51000, 53000, 51000, 52000, 51000, 53000, 51000, 49000, 53000, 53000, 52000, 50000, 56000, 51000, 46000, 55000, 49000, 50000, 48000, 51000, 50000, 50000, 54000, 50000, 51000, 46000, 51000, 50000, 54000, 53000, 46000, 54000, 50000, 48000, 46000, 52000, 48000, 45000, 51000, 54000, 50000, 51000, 48000, 50000, 54000, 53000, 49000, 45000, 49000, 50000, 46000, 49000, 51000, 51000, 50000, 50000, 50000, 48000, 49000, 51000, 50000, 51000, 52000, 47000, 47000, 50000, 50000, 48000, 51000, 49000, 51000, 49000, 49000, 51000, 48000, 50000, 47000, 46000, 50000, 46000, 49000, 49000, 48000, 50000, 48000, 49000, 48000, 48000, 49000, 47000, 51000, 47000, 49000, 48000, 50000, 48000, 46000, 46000, 49000, 47000, 47000, 50000, 48000, 50000, 47000, 48000, 51000, 47000, 46000, 47000, 49000, 47000, 48000, 48000, 44000, 50000, 47000, 45000, 48000, 48000, 46000, 46000, 45000, 46000, 41000, 46000, 46000, 46000, 46000, 45000, 41000, 45000, 46000, 48000, 45000, 46000, 46000, 46000, 46000, 46000, 42000, 46000, 47000, 44000, 42000, 45000, 46000, 45000, 43000, 45000, 44000, 44000, 43000, 43000, 41000, 45000, 43000, 43000, 44000, 44000, 43000, 43000, 45000, 43000, 44000, 43000, 45000, 43000, 43000, 45000, 45000, 45000, 39000, 42000, 43000, 42000, 45000, 41000, 45000, 44000, 45000, 44000, 41000, 39000, 42000, 42000, 45000, 41000, 40000, 40000, 41000, 37000, 41000, 39000, 40000, 40000, 39000, 40000, 40000, 39000, 40000, 41000, 39000, 41000, 38000, 38000, 39000, 39000, 40000, 38000, 38000, 41000, 41000, 41000, 41000, 38000, 38000, 38000, 34000, 38000, 37000, 38000, 37000, 37000, 38000, 36000, 38000, 36000, 37000, 36000, 37000, 37000, 36000, 36000, 35000, 35000, 35000, 34000, 34000, 33000, 33000, 36000, 30000]}],\n",
       "                        {\"template\": {\"data\": {\"bar\": [{\"error_x\": {\"color\": \"#2a3f5f\"}, \"error_y\": {\"color\": \"#2a3f5f\"}, \"marker\": {\"line\": {\"color\": \"#E5ECF6\", \"width\": 0.5}}, \"type\": \"bar\"}], \"barpolar\": [{\"marker\": {\"line\": {\"color\": \"#E5ECF6\", \"width\": 0.5}}, \"type\": \"barpolar\"}], \"carpet\": [{\"aaxis\": {\"endlinecolor\": \"#2a3f5f\", \"gridcolor\": \"white\", \"linecolor\": \"white\", \"minorgridcolor\": \"white\", \"startlinecolor\": \"#2a3f5f\"}, \"baxis\": {\"endlinecolor\": \"#2a3f5f\", \"gridcolor\": \"white\", \"linecolor\": \"white\", \"minorgridcolor\": \"white\", \"startlinecolor\": \"#2a3f5f\"}, \"type\": \"carpet\"}], \"choropleth\": [{\"colorbar\": {\"outlinewidth\": 0, \"ticks\": \"\"}, \"type\": \"choropleth\"}], \"contour\": [{\"colorbar\": {\"outlinewidth\": 0, \"ticks\": \"\"}, \"colorscale\": [[0.0, \"#0d0887\"], [0.1111111111111111, \"#46039f\"], [0.2222222222222222, \"#7201a8\"], [0.3333333333333333, \"#9c179e\"], [0.4444444444444444, \"#bd3786\"], [0.5555555555555556, \"#d8576b\"], [0.6666666666666666, \"#ed7953\"], [0.7777777777777778, \"#fb9f3a\"], [0.8888888888888888, \"#fdca26\"], [1.0, \"#f0f921\"]], \"type\": \"contour\"}], \"contourcarpet\": [{\"colorbar\": {\"outlinewidth\": 0, \"ticks\": \"\"}, \"type\": \"contourcarpet\"}], \"heatmap\": [{\"colorbar\": {\"outlinewidth\": 0, \"ticks\": \"\"}, \"colorscale\": [[0.0, \"#0d0887\"], [0.1111111111111111, \"#46039f\"], [0.2222222222222222, \"#7201a8\"], [0.3333333333333333, \"#9c179e\"], [0.4444444444444444, \"#bd3786\"], [0.5555555555555556, \"#d8576b\"], [0.6666666666666666, \"#ed7953\"], [0.7777777777777778, \"#fb9f3a\"], [0.8888888888888888, \"#fdca26\"], [1.0, \"#f0f921\"]], \"type\": \"heatmap\"}], \"heatmapgl\": [{\"colorbar\": {\"outlinewidth\": 0, \"ticks\": \"\"}, \"colorscale\": [[0.0, \"#0d0887\"], [0.1111111111111111, \"#46039f\"], [0.2222222222222222, \"#7201a8\"], [0.3333333333333333, \"#9c179e\"], [0.4444444444444444, \"#bd3786\"], [0.5555555555555556, \"#d8576b\"], [0.6666666666666666, \"#ed7953\"], [0.7777777777777778, \"#fb9f3a\"], [0.8888888888888888, \"#fdca26\"], [1.0, \"#f0f921\"]], \"type\": \"heatmapgl\"}], \"histogram\": [{\"marker\": {\"colorbar\": {\"outlinewidth\": 0, \"ticks\": \"\"}}, \"type\": \"histogram\"}], \"histogram2d\": [{\"colorbar\": {\"outlinewidth\": 0, \"ticks\": \"\"}, \"colorscale\": [[0.0, \"#0d0887\"], [0.1111111111111111, \"#46039f\"], [0.2222222222222222, \"#7201a8\"], [0.3333333333333333, \"#9c179e\"], [0.4444444444444444, \"#bd3786\"], [0.5555555555555556, \"#d8576b\"], [0.6666666666666666, \"#ed7953\"], [0.7777777777777778, \"#fb9f3a\"], [0.8888888888888888, \"#fdca26\"], [1.0, \"#f0f921\"]], \"type\": \"histogram2d\"}], \"histogram2dcontour\": [{\"colorbar\": {\"outlinewidth\": 0, \"ticks\": \"\"}, \"colorscale\": [[0.0, \"#0d0887\"], [0.1111111111111111, \"#46039f\"], [0.2222222222222222, \"#7201a8\"], [0.3333333333333333, \"#9c179e\"], [0.4444444444444444, \"#bd3786\"], [0.5555555555555556, \"#d8576b\"], [0.6666666666666666, \"#ed7953\"], [0.7777777777777778, \"#fb9f3a\"], [0.8888888888888888, \"#fdca26\"], [1.0, \"#f0f921\"]], \"type\": \"histogram2dcontour\"}], \"mesh3d\": [{\"colorbar\": {\"outlinewidth\": 0, \"ticks\": \"\"}, \"type\": \"mesh3d\"}], \"parcoords\": [{\"line\": {\"colorbar\": {\"outlinewidth\": 0, \"ticks\": \"\"}}, \"type\": \"parcoords\"}], \"scatter\": [{\"marker\": {\"colorbar\": {\"outlinewidth\": 0, \"ticks\": \"\"}}, \"type\": \"scatter\"}], \"scatter3d\": [{\"line\": {\"colorbar\": {\"outlinewidth\": 0, \"ticks\": \"\"}}, \"marker\": {\"colorbar\": {\"outlinewidth\": 0, \"ticks\": \"\"}}, \"type\": \"scatter3d\"}], \"scattercarpet\": [{\"marker\": {\"colorbar\": {\"outlinewidth\": 0, \"ticks\": \"\"}}, \"type\": \"scattercarpet\"}], \"scattergeo\": [{\"marker\": {\"colorbar\": {\"outlinewidth\": 0, \"ticks\": \"\"}}, \"type\": \"scattergeo\"}], \"scattergl\": [{\"marker\": {\"colorbar\": {\"outlinewidth\": 0, \"ticks\": \"\"}}, \"type\": \"scattergl\"}], \"scattermapbox\": [{\"marker\": {\"colorbar\": {\"outlinewidth\": 0, \"ticks\": \"\"}}, \"type\": \"scattermapbox\"}], \"scatterpolar\": [{\"marker\": {\"colorbar\": {\"outlinewidth\": 0, \"ticks\": \"\"}}, \"type\": \"scatterpolar\"}], \"scatterpolargl\": [{\"marker\": {\"colorbar\": {\"outlinewidth\": 0, \"ticks\": \"\"}}, \"type\": \"scatterpolargl\"}], \"scatterternary\": [{\"marker\": {\"colorbar\": {\"outlinewidth\": 0, \"ticks\": \"\"}}, \"type\": \"scatterternary\"}], \"surface\": [{\"colorbar\": {\"outlinewidth\": 0, \"ticks\": \"\"}, \"colorscale\": [[0.0, \"#0d0887\"], [0.1111111111111111, \"#46039f\"], [0.2222222222222222, \"#7201a8\"], [0.3333333333333333, \"#9c179e\"], [0.4444444444444444, \"#bd3786\"], [0.5555555555555556, \"#d8576b\"], [0.6666666666666666, \"#ed7953\"], [0.7777777777777778, \"#fb9f3a\"], [0.8888888888888888, \"#fdca26\"], [1.0, \"#f0f921\"]], \"type\": \"surface\"}], \"table\": [{\"cells\": {\"fill\": {\"color\": \"#EBF0F8\"}, \"line\": {\"color\": \"white\"}}, \"header\": {\"fill\": {\"color\": \"#C8D4E3\"}, \"line\": {\"color\": \"white\"}}, \"type\": \"table\"}]}, \"layout\": {\"annotationdefaults\": {\"arrowcolor\": \"#2a3f5f\", \"arrowhead\": 0, \"arrowwidth\": 1}, \"colorscale\": {\"diverging\": [[0, \"#8e0152\"], [0.1, \"#c51b7d\"], [0.2, \"#de77ae\"], [0.3, \"#f1b6da\"], [0.4, \"#fde0ef\"], [0.5, \"#f7f7f7\"], [0.6, \"#e6f5d0\"], [0.7, \"#b8e186\"], [0.8, \"#7fbc41\"], [0.9, \"#4d9221\"], [1, \"#276419\"]], \"sequential\": [[0.0, \"#0d0887\"], [0.1111111111111111, \"#46039f\"], [0.2222222222222222, \"#7201a8\"], [0.3333333333333333, \"#9c179e\"], [0.4444444444444444, \"#bd3786\"], [0.5555555555555556, \"#d8576b\"], [0.6666666666666666, \"#ed7953\"], [0.7777777777777778, \"#fb9f3a\"], [0.8888888888888888, \"#fdca26\"], [1.0, \"#f0f921\"]], \"sequentialminus\": [[0.0, \"#0d0887\"], [0.1111111111111111, \"#46039f\"], [0.2222222222222222, \"#7201a8\"], [0.3333333333333333, \"#9c179e\"], [0.4444444444444444, \"#bd3786\"], [0.5555555555555556, \"#d8576b\"], [0.6666666666666666, \"#ed7953\"], [0.7777777777777778, \"#fb9f3a\"], [0.8888888888888888, \"#fdca26\"], [1.0, \"#f0f921\"]]}, \"colorway\": [\"#636efa\", \"#EF553B\", \"#00cc96\", \"#ab63fa\", \"#FFA15A\", \"#19d3f3\", \"#FF6692\", \"#B6E880\", \"#FF97FF\", \"#FECB52\"], \"font\": {\"color\": \"#2a3f5f\"}, \"geo\": {\"bgcolor\": \"white\", \"lakecolor\": \"white\", \"landcolor\": \"#E5ECF6\", \"showlakes\": true, \"showland\": true, \"subunitcolor\": \"white\"}, \"hoverlabel\": {\"align\": \"left\"}, \"hovermode\": \"closest\", \"mapbox\": {\"style\": \"light\"}, \"paper_bgcolor\": \"white\", \"plot_bgcolor\": \"#E5ECF6\", \"polar\": {\"angularaxis\": {\"gridcolor\": \"white\", \"linecolor\": \"white\", \"ticks\": \"\"}, \"bgcolor\": \"#E5ECF6\", \"radialaxis\": {\"gridcolor\": \"white\", \"linecolor\": \"white\", \"ticks\": \"\"}}, \"scene\": {\"xaxis\": {\"backgroundcolor\": \"#E5ECF6\", \"gridcolor\": \"white\", \"gridwidth\": 2, \"linecolor\": \"white\", \"showbackground\": true, \"ticks\": \"\", \"zerolinecolor\": \"white\"}, \"yaxis\": {\"backgroundcolor\": \"#E5ECF6\", \"gridcolor\": \"white\", \"gridwidth\": 2, \"linecolor\": \"white\", \"showbackground\": true, \"ticks\": \"\", \"zerolinecolor\": \"white\"}, \"zaxis\": {\"backgroundcolor\": \"#E5ECF6\", \"gridcolor\": \"white\", \"gridwidth\": 2, \"linecolor\": \"white\", \"showbackground\": true, \"ticks\": \"\", \"zerolinecolor\": \"white\"}}, \"shapedefaults\": {\"line\": {\"color\": \"#2a3f5f\"}}, \"ternary\": {\"aaxis\": {\"gridcolor\": \"white\", \"linecolor\": \"white\", \"ticks\": \"\"}, \"baxis\": {\"gridcolor\": \"white\", \"linecolor\": \"white\", \"ticks\": \"\"}, \"bgcolor\": \"#E5ECF6\", \"caxis\": {\"gridcolor\": \"white\", \"linecolor\": \"white\", \"ticks\": \"\"}}, \"title\": {\"x\": 0.05}, \"xaxis\": {\"automargin\": true, \"gridcolor\": \"white\", \"linecolor\": \"white\", \"ticks\": \"\", \"zerolinecolor\": \"white\", \"zerolinewidth\": 2}, \"yaxis\": {\"automargin\": true, \"gridcolor\": \"white\", \"linecolor\": \"white\", \"ticks\": \"\", \"zerolinecolor\": \"white\", \"zerolinewidth\": 2}}}},\n",
       "                        {\"responsive\": true}\n",
       "                    ).then(function(){\n",
       "                            \n",
       "var gd = document.getElementById('8977957e-48f7-49c1-b2b4-63bf932db1e6');\n",
       "var x = new MutationObserver(function (mutations, observer) {{\n",
       "        var display = window.getComputedStyle(gd).display;\n",
       "        if (!display || display === 'none') {{\n",
       "            console.log([gd, 'removed!']);\n",
       "            Plotly.purge(gd);\n",
       "            observer.disconnect();\n",
       "        }}\n",
       "}});\n",
       "\n",
       "// Listen for the removal of the full notebook cells\n",
       "var notebookContainer = gd.closest('#notebook-container');\n",
       "if (notebookContainer) {{\n",
       "    x.observe(notebookContainer, {childList: true});\n",
       "}}\n",
       "\n",
       "// Listen for the clearing of the current output cell\n",
       "var outputEl = gd.closest('.output');\n",
       "if (outputEl) {{\n",
       "    x.observe(outputEl, {childList: true});\n",
       "}}\n",
       "\n",
       "                        })\n",
       "                };\n",
       "                });\n",
       "            </script>\n",
       "        </div>"
      ]
     },
     "metadata": {},
     "output_type": "display_data"
    }
   ],
   "source": [
    "import plotly.graph_objects as go\n",
    "\n",
    "\n",
    "fig = go.Figure()\n",
    "\n",
    "# Add traces\n",
    "fig.add_trace(go.Scatter(x=np.arange(0,496), y=y_pred_com['y_pred_min'],\n",
    "                    mode='markers',\n",
    "                    name='y_pred_min'))\n",
    "\n",
    "fig.add_trace(go.Scatter(x=np.arange(0,496), y=y_pred_com['y_min'],\n",
    "                    mode='markers',\n",
    "                    name='y_min'))\n",
    "\n",
    "fig.show()"
   ]
  },
  {
   "cell_type": "code",
   "execution_count": 113,
   "metadata": {
    "ExecuteTime": {
     "end_time": "2019-11-18T21:22:35.519012Z",
     "start_time": "2019-11-18T21:22:35.353431Z"
    }
   },
   "outputs": [
    {
     "data": {
      "application/vnd.plotly.v1+json": {
       "config": {
        "plotlyServerURL": "https://plot.ly"
       },
       "data": [
        {
         "mode": "markers",
         "name": "y_pred_max",
         "type": "scatter",
         "x": [
          0,
          1,
          2,
          3,
          4,
          5,
          6,
          7,
          8,
          9,
          10,
          11,
          12,
          13,
          14,
          15,
          16,
          17,
          18,
          19,
          20,
          21,
          22,
          23,
          24,
          25,
          26,
          27,
          28,
          29,
          30,
          31,
          32,
          33,
          34,
          35,
          36,
          37,
          38,
          39,
          40,
          41,
          42,
          43,
          44,
          45,
          46,
          47,
          48,
          49,
          50,
          51,
          52,
          53,
          54,
          55,
          56,
          57,
          58,
          59,
          60,
          61,
          62,
          63,
          64,
          65,
          66,
          67,
          68,
          69,
          70,
          71,
          72,
          73,
          74,
          75,
          76,
          77,
          78,
          79,
          80,
          81,
          82,
          83,
          84,
          85,
          86,
          87,
          88,
          89,
          90,
          91,
          92,
          93,
          94,
          95,
          96,
          97,
          98,
          99,
          100,
          101,
          102,
          103,
          104,
          105,
          106,
          107,
          108,
          109,
          110,
          111,
          112,
          113,
          114,
          115,
          116,
          117,
          118,
          119,
          120,
          121,
          122,
          123,
          124,
          125,
          126,
          127,
          128,
          129,
          130,
          131,
          132,
          133,
          134,
          135,
          136,
          137,
          138,
          139,
          140,
          141,
          142,
          143,
          144,
          145,
          146,
          147,
          148,
          149,
          150,
          151,
          152,
          153,
          154,
          155,
          156,
          157,
          158,
          159,
          160,
          161,
          162,
          163,
          164,
          165,
          166,
          167,
          168,
          169,
          170,
          171,
          172,
          173,
          174,
          175,
          176,
          177,
          178,
          179,
          180,
          181,
          182,
          183,
          184,
          185,
          186,
          187,
          188,
          189,
          190,
          191,
          192,
          193,
          194,
          195,
          196,
          197,
          198,
          199,
          200,
          201,
          202,
          203,
          204,
          205,
          206,
          207,
          208,
          209,
          210,
          211,
          212,
          213,
          214,
          215,
          216,
          217,
          218,
          219,
          220,
          221,
          222,
          223,
          224,
          225,
          226,
          227,
          228,
          229,
          230,
          231,
          232,
          233,
          234,
          235,
          236,
          237,
          238,
          239,
          240,
          241,
          242,
          243,
          244,
          245,
          246,
          247,
          248,
          249,
          250,
          251,
          252,
          253,
          254,
          255,
          256,
          257,
          258,
          259,
          260,
          261,
          262,
          263,
          264,
          265,
          266,
          267,
          268,
          269,
          270,
          271,
          272,
          273,
          274,
          275,
          276,
          277,
          278,
          279,
          280,
          281,
          282,
          283,
          284,
          285,
          286,
          287,
          288,
          289,
          290,
          291,
          292,
          293,
          294,
          295,
          296,
          297,
          298,
          299,
          300,
          301,
          302,
          303,
          304,
          305,
          306,
          307,
          308,
          309,
          310,
          311,
          312,
          313,
          314,
          315,
          316,
          317,
          318,
          319,
          320,
          321,
          322,
          323,
          324,
          325,
          326,
          327,
          328,
          329,
          330,
          331,
          332,
          333,
          334,
          335,
          336,
          337,
          338,
          339,
          340,
          341,
          342,
          343,
          344,
          345,
          346,
          347,
          348,
          349,
          350,
          351,
          352,
          353,
          354,
          355,
          356,
          357,
          358,
          359,
          360,
          361,
          362,
          363,
          364,
          365,
          366,
          367,
          368,
          369,
          370,
          371,
          372,
          373,
          374,
          375,
          376,
          377,
          378,
          379,
          380,
          381,
          382,
          383,
          384,
          385,
          386,
          387,
          388,
          389,
          390,
          391,
          392,
          393,
          394,
          395,
          396,
          397,
          398,
          399,
          400,
          401,
          402,
          403,
          404,
          405,
          406,
          407,
          408,
          409,
          410,
          411,
          412,
          413,
          414,
          415,
          416,
          417,
          418,
          419,
          420,
          421,
          422,
          423,
          424,
          425,
          426,
          427,
          428,
          429,
          430,
          431,
          432,
          433,
          434,
          435,
          436,
          437,
          438,
          439,
          440,
          441,
          442,
          443,
          444,
          445,
          446,
          447,
          448,
          449,
          450,
          451,
          452,
          453,
          454,
          455,
          456,
          457,
          458,
          459,
          460,
          461,
          462,
          463,
          464,
          465,
          466,
          467,
          468,
          469,
          470,
          471,
          472,
          473,
          474,
          475,
          476,
          477,
          478,
          479,
          480,
          481,
          482,
          483,
          484,
          485,
          486,
          487,
          488,
          489,
          490,
          491,
          492,
          493,
          494,
          495
         ],
         "y": [
          221089.734375,
          126711.8046875,
          161431.84375,
          161431.84375,
          125895.125,
          104947.484375,
          104947.484375,
          102531.140625,
          161431.84375,
          91793.40625,
          161431.84375,
          78525.4375,
          169721.328125,
          41815.953125,
          134460.609375,
          96981.890625,
          125895.125,
          137102.453125,
          110878,
          143596.421875,
          135932.5625,
          152096.640625,
          139663.15625,
          144782.359375,
          140922.390625,
          142414.25,
          84955.2265625,
          136579.109375,
          129151.203125,
          120960.984375,
          120049.21875,
          131801.296875,
          131801.296875,
          54353.53515625,
          76551.5078125,
          161431.84375,
          122783.109375,
          93867.875,
          126154.9609375,
          125083.3828125,
          126748.3203125,
          106636.6796875,
          85239.4375,
          129290.203125,
          109225.4296875,
          113007.6875,
          103588.59375,
          101177.015625,
          125083.3828125,
          75895.7578125,
          101785.4453125,
          117444.4296875,
          106523.0859375,
          124992.9453125,
          107060.671875,
          122874.8828125,
          98872.984375,
          115164.75,
          116111.875,
          80598.390625,
          99181.265625,
          110681.7890625,
          115430.515625,
          102165.3046875,
          116373.3359375,
          115602.09375,
          107673.3203125,
          113769.9453125,
          111852.90625,
          126234.1796875,
          113268,
          112152.625,
          92386.5234375,
          115515.6953125,
          98872.984375,
          77769.6015625,
          108362.703125,
          108081.109375,
          98872.984375,
          109503.921875,
          98872.984375,
          112933.234375,
          97838.6640625,
          107315.0703125,
          107055.6015625,
          160790.375,
          106108.9375,
          109021.2265625,
          105660.59375,
          112901.15625,
          107060.671875,
          91186.296875,
          112643.921875,
          78565.6640625,
          99058.5859375,
          82336.9375,
          103354.7421875,
          91636.90625,
          104224.9453125,
          89986.8671875,
          107744.8515625,
          81025.015625,
          93572.1875,
          105434.0703125,
          98872.984375,
          100125.8203125,
          94455.46875,
          87564.453125,
          103913.71875,
          90985.859375,
          89338.03125,
          106336.5703125,
          95007.8359375,
          98899.8125,
          111064.0546875,
          106125.796875,
          99346.5625,
          101241.0625,
          108081.109375,
          111064.0546875,
          109225.4296875,
          100105.484375,
          86662.65625,
          95434.0078125,
          91927.875,
          98058.9140625,
          98563.6484375,
          98377.90625,
          97372.125,
          86662.65625,
          91088.1875,
          102165.3046875,
          91377.3515625,
          98208.8359375,
          68015.5625,
          84661.7421875,
          99346.5625,
          100868.3671875,
          97586.828125,
          104947.484375,
          100573.046875,
          84329.59375,
          103590.46875,
          91793.40625,
          90490.5390625,
          98563.6484375,
          91377.3515625,
          98319.921875,
          98319.921875,
          85491.53125,
          88586.1171875,
          101550.265625,
          91443.8828125,
          95460.8046875,
          94833.8125,
          77647.6171875,
          98924.53125,
          98924.53125,
          92286.4921875,
          106080.1640625,
          42932.3359375,
          88916.53125,
          62416.40625,
          92144.3046875,
          99346.5625,
          85113.2265625,
          91725.1875,
          110457.296875,
          98872.984375,
          92526.734375,
          101483.34375,
          74512.921875,
          96336.5546875,
          89217.078125,
          92135.0234375,
          84008.734375,
          96071.3671875,
          88022.96875,
          91139.4375,
          88452.8203125,
          106080.1640625,
          93134.484375,
          87016.25,
          89531.0234375,
          105508,
          68775.1875,
          89531.53125,
          74168.4296875,
          127015.21875,
          113058.796875,
          140724.71875,
          101630.015625,
          86058.0859375,
          86058.0859375,
          86058.0859375,
          93572.1875,
          68918.5625,
          74168.4296875,
          83850.140625,
          113268,
          108395.1953125,
          93867.875,
          93047.125,
          91411.90625,
          90107.8203125,
          86839.484375,
          87468.09375,
          82417.015625,
          88557.9453125,
          80674.953125,
          83650.796875,
          96384.8125,
          102531.140625,
          85592.25,
          84097.609375,
          84468.90625,
          71973.0859375,
          88590.453125,
          89292.3046875,
          86683.1640625,
          91927.875,
          90766.90625,
          82479.359375,
          91186.296875,
          86704.9609375,
          91927.875,
          104947.484375,
          84856.453125,
          87098.71875,
          74580.34375,
          85113.2265625,
          84468.90625,
          77520.9296875,
          74168.4296875,
          93867.875,
          90766.90625,
          85083.8046875,
          88590.453125,
          110878,
          85083.8046875,
          82336.9375,
          82997.9453125,
          85936.6015625,
          85267.90625,
          89686.5078125,
          79435.234375,
          87455.0078125,
          82373.9375,
          88916.53125,
          89338.03125,
          95007.8359375,
          88916.53125,
          102531.140625,
          81795.4765625,
          84465.890625,
          80370.90625,
          82627.015625,
          85929.1484375,
          94606.0078125,
          77520.9296875,
          76875.8671875,
          52667.00390625,
          81741.8125,
          93867.875,
          86720.71875,
          93867.875,
          86359.9765625,
          89531.53125,
          87588.8828125,
          77520.9296875,
          85721.171875,
          84468.90625,
          98779.8203125,
          73409.3515625,
          91443.8828125,
          75680.7734375,
          94361.0234375,
          94488.3984375,
          104947.484375,
          78868.953125,
          83386.890625,
          86704.9609375,
          110457.296875,
          86794.5625,
          66249.8671875,
          57148.29296875,
          86011.390625,
          91139.4375,
          89221.4140625,
          82721.7578125,
          85721.171875,
          86782.4296875,
          80110.609375,
          89221.4140625,
          87291.3515625,
          81234.875,
          88750.6328125,
          98563.6484375,
          104947.484375,
          74069.7109375,
          82479.359375,
          80964.0546875,
          76797.9140625,
          76444.921875,
          88981.21875,
          78239.328125,
          79394.421875,
          76249.53125,
          91377.3515625,
          81959.0546875,
          104947.484375,
          86058.0859375,
          86223.921875,
          91886.7265625,
          85252.2265625,
          74556.4765625,
          80184.171875,
          74855.59375,
          89531.0234375,
          79947.7109375,
          81842.546875,
          93357.65625,
          80289.8515625,
          79814.34375,
          86662.65625,
          76551.5078125,
          82569.953125,
          57635.890625,
          77806.34375,
          77806.34375,
          78817.609375,
          93867.875,
          98563.6484375,
          70333.0234375,
          77953.6484375,
          79507.15625,
          73254.8125,
          69942.78125,
          85789.3515625,
          78687.828125,
          82944.1015625,
          83946.46875,
          82944.1015625,
          80320.78125,
          78280.3984375,
          108613.390625,
          71223.3203125,
          87072.890625,
          80289.8515625,
          84661.7421875,
          81642.03125,
          89221.4140625,
          89338.03125,
          83650.796875,
          78656.3046875,
          101785.4453125,
          82964.34375,
          79507.15625,
          76044.2421875,
          75575.7265625,
          78930.4609375,
          107060.671875,
          81707.625,
          73361.125,
          87262.96875,
          83946.46875,
          71207.2265625,
          77647.6171875,
          77994.1171875,
          66993.5859375,
          73666.640625,
          76497.015625,
          111227.3359375,
          89529.2890625,
          102165.3046875,
          125895.125,
          98779.8203125,
          77520.9296875,
          73842.109375,
          80725.1328125,
          76480.2265625,
          87865.484375,
          72260.21875,
          52422.78515625,
          52422.78515625,
          76444.921875,
          77520.9296875,
          78751.546875,
          77799.0078125,
          92527.3359375,
          69969.4921875,
          69969.4921875,
          80032.65625,
          78751.546875,
          73980.3203125,
          74512.921875,
          74069.7109375,
          73267.0234375,
          78164.765625,
          76654.6640625,
          72839.6015625,
          83850.140625,
          98872.984375,
          107060.671875,
          70377.9921875,
          71205.9140625,
          77274.1796875,
          86662.65625,
          77520.9296875,
          76875.8671875,
          124277.625,
          75117.6953125,
          74168.4296875,
          71224.6796875,
          73287.1953125,
          91886.7265625,
          81025.015625,
          77815.5859375,
          72831.9453125,
          90985.859375,
          82479.359375,
          68704.5546875,
          69969.4921875,
          67219.234375,
          79945.921875,
          71170.0546875,
          70964.1640625,
          93867.875,
          69529.796875,
          77520.9296875,
          79301.53125,
          82569.953125,
          82084.6328125,
          78239.328125,
          72873.515625,
          78868.953125,
          51957.76953125,
          65572.453125,
          65296.9453125,
          86662.65625,
          118761.421875,
          86662.65625,
          67204.546875,
          86662.65625,
          77592.875,
          79945.921875,
          70496.109375,
          115645.0234375,
          81184.640625,
          61172.99609375,
          66490.15625,
          66831.015625,
          91377.3515625,
          81150.8828125,
          77592.875,
          71223.3203125,
          66893.0234375,
          77520.9296875,
          84806.7734375,
          58970.90234375,
          87564.453125,
          87992.8828125,
          64648.9140625,
          63195.28125,
          62232.5859375,
          101677.7421875,
          67911.484375,
          120012.6796875,
          116660.9453125,
          83443.3671875,
          79861.7890625,
          65863.2265625,
          67821.578125,
          70162.78125,
          102531.140625,
          74168.4296875,
          76654.6640625,
          102531.140625,
          74556.4765625,
          64350.578125,
          74556.4765625,
          81795.4765625,
          60408.85546875,
          58325.51171875,
          63046.2734375,
          71779.1796875,
          77522.828125,
          59938.83203125,
          58667.1171875,
          74168.4296875,
          65296.9453125,
          73406.96875,
          61066.3984375,
          78868.953125,
          74590.40625,
          40999.359375,
          59899.3359375,
          65335.0390625,
          65335.0390625,
          60940.50390625,
          81795.4765625,
          55537.44140625,
          116660.9453125,
          63388.1796875,
          51216.015625,
          51267.7265625
         ]
        },
        {
         "mode": "markers",
         "name": "y_max",
         "type": "scatter",
         "x": [
          0,
          1,
          2,
          3,
          4,
          5,
          6,
          7,
          8,
          9,
          10,
          11,
          12,
          13,
          14,
          15,
          16,
          17,
          18,
          19,
          20,
          21,
          22,
          23,
          24,
          25,
          26,
          27,
          28,
          29,
          30,
          31,
          32,
          33,
          34,
          35,
          36,
          37,
          38,
          39,
          40,
          41,
          42,
          43,
          44,
          45,
          46,
          47,
          48,
          49,
          50,
          51,
          52,
          53,
          54,
          55,
          56,
          57,
          58,
          59,
          60,
          61,
          62,
          63,
          64,
          65,
          66,
          67,
          68,
          69,
          70,
          71,
          72,
          73,
          74,
          75,
          76,
          77,
          78,
          79,
          80,
          81,
          82,
          83,
          84,
          85,
          86,
          87,
          88,
          89,
          90,
          91,
          92,
          93,
          94,
          95,
          96,
          97,
          98,
          99,
          100,
          101,
          102,
          103,
          104,
          105,
          106,
          107,
          108,
          109,
          110,
          111,
          112,
          113,
          114,
          115,
          116,
          117,
          118,
          119,
          120,
          121,
          122,
          123,
          124,
          125,
          126,
          127,
          128,
          129,
          130,
          131,
          132,
          133,
          134,
          135,
          136,
          137,
          138,
          139,
          140,
          141,
          142,
          143,
          144,
          145,
          146,
          147,
          148,
          149,
          150,
          151,
          152,
          153,
          154,
          155,
          156,
          157,
          158,
          159,
          160,
          161,
          162,
          163,
          164,
          165,
          166,
          167,
          168,
          169,
          170,
          171,
          172,
          173,
          174,
          175,
          176,
          177,
          178,
          179,
          180,
          181,
          182,
          183,
          184,
          185,
          186,
          187,
          188,
          189,
          190,
          191,
          192,
          193,
          194,
          195,
          196,
          197,
          198,
          199,
          200,
          201,
          202,
          203,
          204,
          205,
          206,
          207,
          208,
          209,
          210,
          211,
          212,
          213,
          214,
          215,
          216,
          217,
          218,
          219,
          220,
          221,
          222,
          223,
          224,
          225,
          226,
          227,
          228,
          229,
          230,
          231,
          232,
          233,
          234,
          235,
          236,
          237,
          238,
          239,
          240,
          241,
          242,
          243,
          244,
          245,
          246,
          247,
          248,
          249,
          250,
          251,
          252,
          253,
          254,
          255,
          256,
          257,
          258,
          259,
          260,
          261,
          262,
          263,
          264,
          265,
          266,
          267,
          268,
          269,
          270,
          271,
          272,
          273,
          274,
          275,
          276,
          277,
          278,
          279,
          280,
          281,
          282,
          283,
          284,
          285,
          286,
          287,
          288,
          289,
          290,
          291,
          292,
          293,
          294,
          295,
          296,
          297,
          298,
          299,
          300,
          301,
          302,
          303,
          304,
          305,
          306,
          307,
          308,
          309,
          310,
          311,
          312,
          313,
          314,
          315,
          316,
          317,
          318,
          319,
          320,
          321,
          322,
          323,
          324,
          325,
          326,
          327,
          328,
          329,
          330,
          331,
          332,
          333,
          334,
          335,
          336,
          337,
          338,
          339,
          340,
          341,
          342,
          343,
          344,
          345,
          346,
          347,
          348,
          349,
          350,
          351,
          352,
          353,
          354,
          355,
          356,
          357,
          358,
          359,
          360,
          361,
          362,
          363,
          364,
          365,
          366,
          367,
          368,
          369,
          370,
          371,
          372,
          373,
          374,
          375,
          376,
          377,
          378,
          379,
          380,
          381,
          382,
          383,
          384,
          385,
          386,
          387,
          388,
          389,
          390,
          391,
          392,
          393,
          394,
          395,
          396,
          397,
          398,
          399,
          400,
          401,
          402,
          403,
          404,
          405,
          406,
          407,
          408,
          409,
          410,
          411,
          412,
          413,
          414,
          415,
          416,
          417,
          418,
          419,
          420,
          421,
          422,
          423,
          424,
          425,
          426,
          427,
          428,
          429,
          430,
          431,
          432,
          433,
          434,
          435,
          436,
          437,
          438,
          439,
          440,
          441,
          442,
          443,
          444,
          445,
          446,
          447,
          448,
          449,
          450,
          451,
          452,
          453,
          454,
          455,
          456,
          457,
          458,
          459,
          460,
          461,
          462,
          463,
          464,
          465,
          466,
          467,
          468,
          469,
          470,
          471,
          472,
          473,
          474,
          475,
          476,
          477,
          478,
          479,
          480,
          481,
          482,
          483,
          484,
          485,
          486,
          487,
          488,
          489,
          490,
          491,
          492,
          493,
          494,
          495
         ],
         "y": [
          223000,
          209000,
          185000,
          185000,
          194000,
          182000,
          190000,
          180000,
          171000,
          164000,
          171000,
          175000,
          180000,
          156000,
          155000,
          152000,
          155000,
          143000,
          145000,
          146000,
          139000,
          152000,
          138000,
          147000,
          153000,
          142000,
          135000,
          135000,
          129000,
          135000,
          122000,
          132000,
          132000,
          132000,
          129000,
          134000,
          133000,
          133000,
          126000,
          126000,
          128000,
          123000,
          126000,
          134000,
          129000,
          113000,
          118000,
          120000,
          120000,
          122000,
          115000,
          119000,
          113000,
          126000,
          121000,
          122000,
          117000,
          120000,
          120000,
          119000,
          119000,
          118000,
          116000,
          115000,
          118000,
          116000,
          122000,
          114000,
          115000,
          118000,
          113000,
          112000,
          115000,
          115000,
          116000,
          111000,
          108000,
          115000,
          113000,
          113000,
          113000,
          113000,
          107000,
          111000,
          107000,
          116000,
          110000,
          109000,
          106000,
          109000,
          115000,
          99000,
          109000,
          109000,
          106000,
          108000,
          106000,
          103000,
          106000,
          106000,
          108000,
          111000,
          110000,
          109000,
          105000,
          105000,
          95000,
          103000,
          105000,
          110000,
          103000,
          102000,
          106000,
          100000,
          106000,
          105000,
          105000,
          104000,
          108000,
          106000,
          105000,
          101000,
          101000,
          98000,
          105000,
          107000,
          101000,
          100000,
          99000,
          100000,
          94000,
          99000,
          103000,
          100000,
          102000,
          98000,
          105000,
          97000,
          97000,
          96000,
          100000,
          92000,
          103000,
          92000,
          97000,
          102000,
          99000,
          99000,
          99000,
          96000,
          93000,
          99000,
          91000,
          95000,
          96000,
          97000,
          96000,
          96000,
          93000,
          95000,
          96000,
          97000,
          97000,
          95000,
          94000,
          95000,
          94000,
          100000,
          95000,
          92000,
          93000,
          92000,
          95000,
          91000,
          95000,
          90000,
          92000,
          97000,
          93000,
          90000,
          98000,
          98000,
          90000,
          98000,
          91000,
          97000,
          98000,
          92000,
          92000,
          95000,
          92000,
          91000,
          92000,
          92000,
          92000,
          92000,
          89000,
          83000,
          95000,
          90000,
          91000,
          94000,
          92000,
          87000,
          89000,
          86000,
          89000,
          84000,
          91000,
          93000,
          93000,
          87000,
          87000,
          86000,
          82000,
          85000,
          87000,
          91000,
          90000,
          88000,
          85000,
          94000,
          89000,
          85000,
          87000,
          85000,
          87000,
          89000,
          90000,
          87000,
          86000,
          93000,
          92000,
          84000,
          90000,
          88000,
          85000,
          86000,
          80000,
          85000,
          91000,
          84000,
          85000,
          86000,
          87000,
          83000,
          84000,
          84000,
          85000,
          83000,
          86000,
          85000,
          87000,
          83000,
          84000,
          84000,
          83000,
          84000,
          86000,
          86000,
          86000,
          86000,
          82000,
          86000,
          84000,
          86000,
          85000,
          86000,
          84000,
          86000,
          88000,
          84000,
          84000,
          84000,
          86000,
          80000,
          85000,
          89000,
          80000,
          86000,
          85000,
          87000,
          84000,
          85000,
          84000,
          80000,
          84000,
          83000,
          88000,
          83000,
          84000,
          80000,
          81000,
          88000,
          79000,
          83000,
          85000,
          87000,
          81000,
          85000,
          88000,
          81000,
          78000,
          82000,
          81000,
          84000,
          82000,
          78000,
          78000,
          82000,
          86000,
          82000,
          81000,
          85000,
          82000,
          79000,
          79000,
          80000,
          80000,
          80000,
          81000,
          80000,
          78000,
          79000,
          78000,
          77000,
          81000,
          81000,
          78000,
          78000,
          80000,
          77000,
          79000,
          77000,
          79000,
          79000,
          77000,
          80000,
          78000,
          81000,
          81000,
          77000,
          81000,
          78000,
          78000,
          79000,
          77000,
          79000,
          78000,
          79000,
          79000,
          77000,
          79000,
          75000,
          79000,
          77000,
          77000,
          75000,
          77000,
          79000,
          79000,
          76000,
          77000,
          77000,
          74000,
          76000,
          73000,
          76000,
          75000,
          72000,
          76000,
          77000,
          76000,
          74000,
          76000,
          74000,
          74000,
          78000,
          72000,
          75000,
          76000,
          73000,
          73000,
          75000,
          75000,
          76000,
          74000,
          79000,
          74000,
          74000,
          74000,
          74000,
          75000,
          79000,
          75000,
          74000,
          72000,
          75000,
          73000,
          73000,
          73000,
          73000,
          72000,
          75000,
          71000,
          70000,
          73000,
          75000,
          72000,
          70000,
          71000,
          73000,
          71000,
          71000,
          71000,
          72000,
          72000,
          74000,
          69000,
          71000,
          71000,
          70000,
          70000,
          71000,
          71000,
          68000,
          70000,
          69000,
          70000,
          68000,
          70000,
          70000,
          68000,
          68000,
          67000,
          73000,
          70000,
          69000,
          69000,
          66000,
          70000,
          66000,
          67000,
          66000,
          66000,
          68000,
          70000,
          67000,
          67000,
          62000,
          66000,
          67000,
          67000,
          65000,
          69000,
          65000,
          67000,
          66000,
          65000,
          66000,
          65000,
          64000,
          65000,
          64000,
          63000,
          65000,
          63000,
          65000,
          65000,
          64000,
          63000,
          62000,
          64000,
          64000,
          60000,
          60000,
          60000,
          60000,
          63000,
          62000,
          62000,
          66000,
          61000,
          62000,
          60000,
          61000,
          61000,
          60000,
          61000,
          58000,
          59000,
          58000,
          59000,
          57000,
          57000,
          57000,
          56000,
          57000,
          57000,
          57000,
          56000,
          55000,
          56000,
          55000,
          51000,
          50000
         ]
        }
       ],
       "layout": {
        "template": {
         "data": {
          "bar": [
           {
            "error_x": {
             "color": "#2a3f5f"
            },
            "error_y": {
             "color": "#2a3f5f"
            },
            "marker": {
             "line": {
              "color": "#E5ECF6",
              "width": 0.5
             }
            },
            "type": "bar"
           }
          ],
          "barpolar": [
           {
            "marker": {
             "line": {
              "color": "#E5ECF6",
              "width": 0.5
             }
            },
            "type": "barpolar"
           }
          ],
          "carpet": [
           {
            "aaxis": {
             "endlinecolor": "#2a3f5f",
             "gridcolor": "white",
             "linecolor": "white",
             "minorgridcolor": "white",
             "startlinecolor": "#2a3f5f"
            },
            "baxis": {
             "endlinecolor": "#2a3f5f",
             "gridcolor": "white",
             "linecolor": "white",
             "minorgridcolor": "white",
             "startlinecolor": "#2a3f5f"
            },
            "type": "carpet"
           }
          ],
          "choropleth": [
           {
            "colorbar": {
             "outlinewidth": 0,
             "ticks": ""
            },
            "type": "choropleth"
           }
          ],
          "contour": [
           {
            "colorbar": {
             "outlinewidth": 0,
             "ticks": ""
            },
            "colorscale": [
             [
              0,
              "#0d0887"
             ],
             [
              0.1111111111111111,
              "#46039f"
             ],
             [
              0.2222222222222222,
              "#7201a8"
             ],
             [
              0.3333333333333333,
              "#9c179e"
             ],
             [
              0.4444444444444444,
              "#bd3786"
             ],
             [
              0.5555555555555556,
              "#d8576b"
             ],
             [
              0.6666666666666666,
              "#ed7953"
             ],
             [
              0.7777777777777778,
              "#fb9f3a"
             ],
             [
              0.8888888888888888,
              "#fdca26"
             ],
             [
              1,
              "#f0f921"
             ]
            ],
            "type": "contour"
           }
          ],
          "contourcarpet": [
           {
            "colorbar": {
             "outlinewidth": 0,
             "ticks": ""
            },
            "type": "contourcarpet"
           }
          ],
          "heatmap": [
           {
            "colorbar": {
             "outlinewidth": 0,
             "ticks": ""
            },
            "colorscale": [
             [
              0,
              "#0d0887"
             ],
             [
              0.1111111111111111,
              "#46039f"
             ],
             [
              0.2222222222222222,
              "#7201a8"
             ],
             [
              0.3333333333333333,
              "#9c179e"
             ],
             [
              0.4444444444444444,
              "#bd3786"
             ],
             [
              0.5555555555555556,
              "#d8576b"
             ],
             [
              0.6666666666666666,
              "#ed7953"
             ],
             [
              0.7777777777777778,
              "#fb9f3a"
             ],
             [
              0.8888888888888888,
              "#fdca26"
             ],
             [
              1,
              "#f0f921"
             ]
            ],
            "type": "heatmap"
           }
          ],
          "heatmapgl": [
           {
            "colorbar": {
             "outlinewidth": 0,
             "ticks": ""
            },
            "colorscale": [
             [
              0,
              "#0d0887"
             ],
             [
              0.1111111111111111,
              "#46039f"
             ],
             [
              0.2222222222222222,
              "#7201a8"
             ],
             [
              0.3333333333333333,
              "#9c179e"
             ],
             [
              0.4444444444444444,
              "#bd3786"
             ],
             [
              0.5555555555555556,
              "#d8576b"
             ],
             [
              0.6666666666666666,
              "#ed7953"
             ],
             [
              0.7777777777777778,
              "#fb9f3a"
             ],
             [
              0.8888888888888888,
              "#fdca26"
             ],
             [
              1,
              "#f0f921"
             ]
            ],
            "type": "heatmapgl"
           }
          ],
          "histogram": [
           {
            "marker": {
             "colorbar": {
              "outlinewidth": 0,
              "ticks": ""
             }
            },
            "type": "histogram"
           }
          ],
          "histogram2d": [
           {
            "colorbar": {
             "outlinewidth": 0,
             "ticks": ""
            },
            "colorscale": [
             [
              0,
              "#0d0887"
             ],
             [
              0.1111111111111111,
              "#46039f"
             ],
             [
              0.2222222222222222,
              "#7201a8"
             ],
             [
              0.3333333333333333,
              "#9c179e"
             ],
             [
              0.4444444444444444,
              "#bd3786"
             ],
             [
              0.5555555555555556,
              "#d8576b"
             ],
             [
              0.6666666666666666,
              "#ed7953"
             ],
             [
              0.7777777777777778,
              "#fb9f3a"
             ],
             [
              0.8888888888888888,
              "#fdca26"
             ],
             [
              1,
              "#f0f921"
             ]
            ],
            "type": "histogram2d"
           }
          ],
          "histogram2dcontour": [
           {
            "colorbar": {
             "outlinewidth": 0,
             "ticks": ""
            },
            "colorscale": [
             [
              0,
              "#0d0887"
             ],
             [
              0.1111111111111111,
              "#46039f"
             ],
             [
              0.2222222222222222,
              "#7201a8"
             ],
             [
              0.3333333333333333,
              "#9c179e"
             ],
             [
              0.4444444444444444,
              "#bd3786"
             ],
             [
              0.5555555555555556,
              "#d8576b"
             ],
             [
              0.6666666666666666,
              "#ed7953"
             ],
             [
              0.7777777777777778,
              "#fb9f3a"
             ],
             [
              0.8888888888888888,
              "#fdca26"
             ],
             [
              1,
              "#f0f921"
             ]
            ],
            "type": "histogram2dcontour"
           }
          ],
          "mesh3d": [
           {
            "colorbar": {
             "outlinewidth": 0,
             "ticks": ""
            },
            "type": "mesh3d"
           }
          ],
          "parcoords": [
           {
            "line": {
             "colorbar": {
              "outlinewidth": 0,
              "ticks": ""
             }
            },
            "type": "parcoords"
           }
          ],
          "scatter": [
           {
            "marker": {
             "colorbar": {
              "outlinewidth": 0,
              "ticks": ""
             }
            },
            "type": "scatter"
           }
          ],
          "scatter3d": [
           {
            "line": {
             "colorbar": {
              "outlinewidth": 0,
              "ticks": ""
             }
            },
            "marker": {
             "colorbar": {
              "outlinewidth": 0,
              "ticks": ""
             }
            },
            "type": "scatter3d"
           }
          ],
          "scattercarpet": [
           {
            "marker": {
             "colorbar": {
              "outlinewidth": 0,
              "ticks": ""
             }
            },
            "type": "scattercarpet"
           }
          ],
          "scattergeo": [
           {
            "marker": {
             "colorbar": {
              "outlinewidth": 0,
              "ticks": ""
             }
            },
            "type": "scattergeo"
           }
          ],
          "scattergl": [
           {
            "marker": {
             "colorbar": {
              "outlinewidth": 0,
              "ticks": ""
             }
            },
            "type": "scattergl"
           }
          ],
          "scattermapbox": [
           {
            "marker": {
             "colorbar": {
              "outlinewidth": 0,
              "ticks": ""
             }
            },
            "type": "scattermapbox"
           }
          ],
          "scatterpolar": [
           {
            "marker": {
             "colorbar": {
              "outlinewidth": 0,
              "ticks": ""
             }
            },
            "type": "scatterpolar"
           }
          ],
          "scatterpolargl": [
           {
            "marker": {
             "colorbar": {
              "outlinewidth": 0,
              "ticks": ""
             }
            },
            "type": "scatterpolargl"
           }
          ],
          "scatterternary": [
           {
            "marker": {
             "colorbar": {
              "outlinewidth": 0,
              "ticks": ""
             }
            },
            "type": "scatterternary"
           }
          ],
          "surface": [
           {
            "colorbar": {
             "outlinewidth": 0,
             "ticks": ""
            },
            "colorscale": [
             [
              0,
              "#0d0887"
             ],
             [
              0.1111111111111111,
              "#46039f"
             ],
             [
              0.2222222222222222,
              "#7201a8"
             ],
             [
              0.3333333333333333,
              "#9c179e"
             ],
             [
              0.4444444444444444,
              "#bd3786"
             ],
             [
              0.5555555555555556,
              "#d8576b"
             ],
             [
              0.6666666666666666,
              "#ed7953"
             ],
             [
              0.7777777777777778,
              "#fb9f3a"
             ],
             [
              0.8888888888888888,
              "#fdca26"
             ],
             [
              1,
              "#f0f921"
             ]
            ],
            "type": "surface"
           }
          ],
          "table": [
           {
            "cells": {
             "fill": {
              "color": "#EBF0F8"
             },
             "line": {
              "color": "white"
             }
            },
            "header": {
             "fill": {
              "color": "#C8D4E3"
             },
             "line": {
              "color": "white"
             }
            },
            "type": "table"
           }
          ]
         },
         "layout": {
          "annotationdefaults": {
           "arrowcolor": "#2a3f5f",
           "arrowhead": 0,
           "arrowwidth": 1
          },
          "colorscale": {
           "diverging": [
            [
             0,
             "#8e0152"
            ],
            [
             0.1,
             "#c51b7d"
            ],
            [
             0.2,
             "#de77ae"
            ],
            [
             0.3,
             "#f1b6da"
            ],
            [
             0.4,
             "#fde0ef"
            ],
            [
             0.5,
             "#f7f7f7"
            ],
            [
             0.6,
             "#e6f5d0"
            ],
            [
             0.7,
             "#b8e186"
            ],
            [
             0.8,
             "#7fbc41"
            ],
            [
             0.9,
             "#4d9221"
            ],
            [
             1,
             "#276419"
            ]
           ],
           "sequential": [
            [
             0,
             "#0d0887"
            ],
            [
             0.1111111111111111,
             "#46039f"
            ],
            [
             0.2222222222222222,
             "#7201a8"
            ],
            [
             0.3333333333333333,
             "#9c179e"
            ],
            [
             0.4444444444444444,
             "#bd3786"
            ],
            [
             0.5555555555555556,
             "#d8576b"
            ],
            [
             0.6666666666666666,
             "#ed7953"
            ],
            [
             0.7777777777777778,
             "#fb9f3a"
            ],
            [
             0.8888888888888888,
             "#fdca26"
            ],
            [
             1,
             "#f0f921"
            ]
           ],
           "sequentialminus": [
            [
             0,
             "#0d0887"
            ],
            [
             0.1111111111111111,
             "#46039f"
            ],
            [
             0.2222222222222222,
             "#7201a8"
            ],
            [
             0.3333333333333333,
             "#9c179e"
            ],
            [
             0.4444444444444444,
             "#bd3786"
            ],
            [
             0.5555555555555556,
             "#d8576b"
            ],
            [
             0.6666666666666666,
             "#ed7953"
            ],
            [
             0.7777777777777778,
             "#fb9f3a"
            ],
            [
             0.8888888888888888,
             "#fdca26"
            ],
            [
             1,
             "#f0f921"
            ]
           ]
          },
          "colorway": [
           "#636efa",
           "#EF553B",
           "#00cc96",
           "#ab63fa",
           "#FFA15A",
           "#19d3f3",
           "#FF6692",
           "#B6E880",
           "#FF97FF",
           "#FECB52"
          ],
          "font": {
           "color": "#2a3f5f"
          },
          "geo": {
           "bgcolor": "white",
           "lakecolor": "white",
           "landcolor": "#E5ECF6",
           "showlakes": true,
           "showland": true,
           "subunitcolor": "white"
          },
          "hoverlabel": {
           "align": "left"
          },
          "hovermode": "closest",
          "mapbox": {
           "style": "light"
          },
          "paper_bgcolor": "white",
          "plot_bgcolor": "#E5ECF6",
          "polar": {
           "angularaxis": {
            "gridcolor": "white",
            "linecolor": "white",
            "ticks": ""
           },
           "bgcolor": "#E5ECF6",
           "radialaxis": {
            "gridcolor": "white",
            "linecolor": "white",
            "ticks": ""
           }
          },
          "scene": {
           "xaxis": {
            "backgroundcolor": "#E5ECF6",
            "gridcolor": "white",
            "gridwidth": 2,
            "linecolor": "white",
            "showbackground": true,
            "ticks": "",
            "zerolinecolor": "white"
           },
           "yaxis": {
            "backgroundcolor": "#E5ECF6",
            "gridcolor": "white",
            "gridwidth": 2,
            "linecolor": "white",
            "showbackground": true,
            "ticks": "",
            "zerolinecolor": "white"
           },
           "zaxis": {
            "backgroundcolor": "#E5ECF6",
            "gridcolor": "white",
            "gridwidth": 2,
            "linecolor": "white",
            "showbackground": true,
            "ticks": "",
            "zerolinecolor": "white"
           }
          },
          "shapedefaults": {
           "line": {
            "color": "#2a3f5f"
           }
          },
          "ternary": {
           "aaxis": {
            "gridcolor": "white",
            "linecolor": "white",
            "ticks": ""
           },
           "baxis": {
            "gridcolor": "white",
            "linecolor": "white",
            "ticks": ""
           },
           "bgcolor": "#E5ECF6",
           "caxis": {
            "gridcolor": "white",
            "linecolor": "white",
            "ticks": ""
           }
          },
          "title": {
           "x": 0.05
          },
          "xaxis": {
           "automargin": true,
           "gridcolor": "white",
           "linecolor": "white",
           "ticks": "",
           "zerolinecolor": "white",
           "zerolinewidth": 2
          },
          "yaxis": {
           "automargin": true,
           "gridcolor": "white",
           "linecolor": "white",
           "ticks": "",
           "zerolinecolor": "white",
           "zerolinewidth": 2
          }
         }
        }
       }
      },
      "text/html": [
       "<div>\n",
       "        \n",
       "        \n",
       "            <div id=\"1ca8d285-82b5-4ab6-a11d-d623c7c153c9\" class=\"plotly-graph-div\" style=\"height:525px; width:100%;\"></div>\n",
       "            <script type=\"text/javascript\">\n",
       "                require([\"plotly\"], function(Plotly) {\n",
       "                    window.PLOTLYENV=window.PLOTLYENV || {};\n",
       "                    \n",
       "                if (document.getElementById(\"1ca8d285-82b5-4ab6-a11d-d623c7c153c9\")) {\n",
       "                    Plotly.newPlot(\n",
       "                        '1ca8d285-82b5-4ab6-a11d-d623c7c153c9',\n",
       "                        [{\"mode\": \"markers\", \"name\": \"y_pred_max\", \"type\": \"scatter\", \"x\": [0, 1, 2, 3, 4, 5, 6, 7, 8, 9, 10, 11, 12, 13, 14, 15, 16, 17, 18, 19, 20, 21, 22, 23, 24, 25, 26, 27, 28, 29, 30, 31, 32, 33, 34, 35, 36, 37, 38, 39, 40, 41, 42, 43, 44, 45, 46, 47, 48, 49, 50, 51, 52, 53, 54, 55, 56, 57, 58, 59, 60, 61, 62, 63, 64, 65, 66, 67, 68, 69, 70, 71, 72, 73, 74, 75, 76, 77, 78, 79, 80, 81, 82, 83, 84, 85, 86, 87, 88, 89, 90, 91, 92, 93, 94, 95, 96, 97, 98, 99, 100, 101, 102, 103, 104, 105, 106, 107, 108, 109, 110, 111, 112, 113, 114, 115, 116, 117, 118, 119, 120, 121, 122, 123, 124, 125, 126, 127, 128, 129, 130, 131, 132, 133, 134, 135, 136, 137, 138, 139, 140, 141, 142, 143, 144, 145, 146, 147, 148, 149, 150, 151, 152, 153, 154, 155, 156, 157, 158, 159, 160, 161, 162, 163, 164, 165, 166, 167, 168, 169, 170, 171, 172, 173, 174, 175, 176, 177, 178, 179, 180, 181, 182, 183, 184, 185, 186, 187, 188, 189, 190, 191, 192, 193, 194, 195, 196, 197, 198, 199, 200, 201, 202, 203, 204, 205, 206, 207, 208, 209, 210, 211, 212, 213, 214, 215, 216, 217, 218, 219, 220, 221, 222, 223, 224, 225, 226, 227, 228, 229, 230, 231, 232, 233, 234, 235, 236, 237, 238, 239, 240, 241, 242, 243, 244, 245, 246, 247, 248, 249, 250, 251, 252, 253, 254, 255, 256, 257, 258, 259, 260, 261, 262, 263, 264, 265, 266, 267, 268, 269, 270, 271, 272, 273, 274, 275, 276, 277, 278, 279, 280, 281, 282, 283, 284, 285, 286, 287, 288, 289, 290, 291, 292, 293, 294, 295, 296, 297, 298, 299, 300, 301, 302, 303, 304, 305, 306, 307, 308, 309, 310, 311, 312, 313, 314, 315, 316, 317, 318, 319, 320, 321, 322, 323, 324, 325, 326, 327, 328, 329, 330, 331, 332, 333, 334, 335, 336, 337, 338, 339, 340, 341, 342, 343, 344, 345, 346, 347, 348, 349, 350, 351, 352, 353, 354, 355, 356, 357, 358, 359, 360, 361, 362, 363, 364, 365, 366, 367, 368, 369, 370, 371, 372, 373, 374, 375, 376, 377, 378, 379, 380, 381, 382, 383, 384, 385, 386, 387, 388, 389, 390, 391, 392, 393, 394, 395, 396, 397, 398, 399, 400, 401, 402, 403, 404, 405, 406, 407, 408, 409, 410, 411, 412, 413, 414, 415, 416, 417, 418, 419, 420, 421, 422, 423, 424, 425, 426, 427, 428, 429, 430, 431, 432, 433, 434, 435, 436, 437, 438, 439, 440, 441, 442, 443, 444, 445, 446, 447, 448, 449, 450, 451, 452, 453, 454, 455, 456, 457, 458, 459, 460, 461, 462, 463, 464, 465, 466, 467, 468, 469, 470, 471, 472, 473, 474, 475, 476, 477, 478, 479, 480, 481, 482, 483, 484, 485, 486, 487, 488, 489, 490, 491, 492, 493, 494, 495], \"y\": [221089.734375, 126711.8046875, 161431.84375, 161431.84375, 125895.125, 104947.484375, 104947.484375, 102531.140625, 161431.84375, 91793.40625, 161431.84375, 78525.4375, 169721.328125, 41815.953125, 134460.609375, 96981.890625, 125895.125, 137102.453125, 110878.0, 143596.421875, 135932.5625, 152096.640625, 139663.15625, 144782.359375, 140922.390625, 142414.25, 84955.2265625, 136579.109375, 129151.203125, 120960.984375, 120049.21875, 131801.296875, 131801.296875, 54353.53515625, 76551.5078125, 161431.84375, 122783.109375, 93867.875, 126154.9609375, 125083.3828125, 126748.3203125, 106636.6796875, 85239.4375, 129290.203125, 109225.4296875, 113007.6875, 103588.59375, 101177.015625, 125083.3828125, 75895.7578125, 101785.4453125, 117444.4296875, 106523.0859375, 124992.9453125, 107060.671875, 122874.8828125, 98872.984375, 115164.75, 116111.875, 80598.390625, 99181.265625, 110681.7890625, 115430.515625, 102165.3046875, 116373.3359375, 115602.09375, 107673.3203125, 113769.9453125, 111852.90625, 126234.1796875, 113268.0, 112152.625, 92386.5234375, 115515.6953125, 98872.984375, 77769.6015625, 108362.703125, 108081.109375, 98872.984375, 109503.921875, 98872.984375, 112933.234375, 97838.6640625, 107315.0703125, 107055.6015625, 160790.375, 106108.9375, 109021.2265625, 105660.59375, 112901.15625, 107060.671875, 91186.296875, 112643.921875, 78565.6640625, 99058.5859375, 82336.9375, 103354.7421875, 91636.90625, 104224.9453125, 89986.8671875, 107744.8515625, 81025.015625, 93572.1875, 105434.0703125, 98872.984375, 100125.8203125, 94455.46875, 87564.453125, 103913.71875, 90985.859375, 89338.03125, 106336.5703125, 95007.8359375, 98899.8125, 111064.0546875, 106125.796875, 99346.5625, 101241.0625, 108081.109375, 111064.0546875, 109225.4296875, 100105.484375, 86662.65625, 95434.0078125, 91927.875, 98058.9140625, 98563.6484375, 98377.90625, 97372.125, 86662.65625, 91088.1875, 102165.3046875, 91377.3515625, 98208.8359375, 68015.5625, 84661.7421875, 99346.5625, 100868.3671875, 97586.828125, 104947.484375, 100573.046875, 84329.59375, 103590.46875, 91793.40625, 90490.5390625, 98563.6484375, 91377.3515625, 98319.921875, 98319.921875, 85491.53125, 88586.1171875, 101550.265625, 91443.8828125, 95460.8046875, 94833.8125, 77647.6171875, 98924.53125, 98924.53125, 92286.4921875, 106080.1640625, 42932.3359375, 88916.53125, 62416.40625, 92144.3046875, 99346.5625, 85113.2265625, 91725.1875, 110457.296875, 98872.984375, 92526.734375, 101483.34375, 74512.921875, 96336.5546875, 89217.078125, 92135.0234375, 84008.734375, 96071.3671875, 88022.96875, 91139.4375, 88452.8203125, 106080.1640625, 93134.484375, 87016.25, 89531.0234375, 105508.0, 68775.1875, 89531.53125, 74168.4296875, 127015.21875, 113058.796875, 140724.71875, 101630.015625, 86058.0859375, 86058.0859375, 86058.0859375, 93572.1875, 68918.5625, 74168.4296875, 83850.140625, 113268.0, 108395.1953125, 93867.875, 93047.125, 91411.90625, 90107.8203125, 86839.484375, 87468.09375, 82417.015625, 88557.9453125, 80674.953125, 83650.796875, 96384.8125, 102531.140625, 85592.25, 84097.609375, 84468.90625, 71973.0859375, 88590.453125, 89292.3046875, 86683.1640625, 91927.875, 90766.90625, 82479.359375, 91186.296875, 86704.9609375, 91927.875, 104947.484375, 84856.453125, 87098.71875, 74580.34375, 85113.2265625, 84468.90625, 77520.9296875, 74168.4296875, 93867.875, 90766.90625, 85083.8046875, 88590.453125, 110878.0, 85083.8046875, 82336.9375, 82997.9453125, 85936.6015625, 85267.90625, 89686.5078125, 79435.234375, 87455.0078125, 82373.9375, 88916.53125, 89338.03125, 95007.8359375, 88916.53125, 102531.140625, 81795.4765625, 84465.890625, 80370.90625, 82627.015625, 85929.1484375, 94606.0078125, 77520.9296875, 76875.8671875, 52667.00390625, 81741.8125, 93867.875, 86720.71875, 93867.875, 86359.9765625, 89531.53125, 87588.8828125, 77520.9296875, 85721.171875, 84468.90625, 98779.8203125, 73409.3515625, 91443.8828125, 75680.7734375, 94361.0234375, 94488.3984375, 104947.484375, 78868.953125, 83386.890625, 86704.9609375, 110457.296875, 86794.5625, 66249.8671875, 57148.29296875, 86011.390625, 91139.4375, 89221.4140625, 82721.7578125, 85721.171875, 86782.4296875, 80110.609375, 89221.4140625, 87291.3515625, 81234.875, 88750.6328125, 98563.6484375, 104947.484375, 74069.7109375, 82479.359375, 80964.0546875, 76797.9140625, 76444.921875, 88981.21875, 78239.328125, 79394.421875, 76249.53125, 91377.3515625, 81959.0546875, 104947.484375, 86058.0859375, 86223.921875, 91886.7265625, 85252.2265625, 74556.4765625, 80184.171875, 74855.59375, 89531.0234375, 79947.7109375, 81842.546875, 93357.65625, 80289.8515625, 79814.34375, 86662.65625, 76551.5078125, 82569.953125, 57635.890625, 77806.34375, 77806.34375, 78817.609375, 93867.875, 98563.6484375, 70333.0234375, 77953.6484375, 79507.15625, 73254.8125, 69942.78125, 85789.3515625, 78687.828125, 82944.1015625, 83946.46875, 82944.1015625, 80320.78125, 78280.3984375, 108613.390625, 71223.3203125, 87072.890625, 80289.8515625, 84661.7421875, 81642.03125, 89221.4140625, 89338.03125, 83650.796875, 78656.3046875, 101785.4453125, 82964.34375, 79507.15625, 76044.2421875, 75575.7265625, 78930.4609375, 107060.671875, 81707.625, 73361.125, 87262.96875, 83946.46875, 71207.2265625, 77647.6171875, 77994.1171875, 66993.5859375, 73666.640625, 76497.015625, 111227.3359375, 89529.2890625, 102165.3046875, 125895.125, 98779.8203125, 77520.9296875, 73842.109375, 80725.1328125, 76480.2265625, 87865.484375, 72260.21875, 52422.78515625, 52422.78515625, 76444.921875, 77520.9296875, 78751.546875, 77799.0078125, 92527.3359375, 69969.4921875, 69969.4921875, 80032.65625, 78751.546875, 73980.3203125, 74512.921875, 74069.7109375, 73267.0234375, 78164.765625, 76654.6640625, 72839.6015625, 83850.140625, 98872.984375, 107060.671875, 70377.9921875, 71205.9140625, 77274.1796875, 86662.65625, 77520.9296875, 76875.8671875, 124277.625, 75117.6953125, 74168.4296875, 71224.6796875, 73287.1953125, 91886.7265625, 81025.015625, 77815.5859375, 72831.9453125, 90985.859375, 82479.359375, 68704.5546875, 69969.4921875, 67219.234375, 79945.921875, 71170.0546875, 70964.1640625, 93867.875, 69529.796875, 77520.9296875, 79301.53125, 82569.953125, 82084.6328125, 78239.328125, 72873.515625, 78868.953125, 51957.76953125, 65572.453125, 65296.9453125, 86662.65625, 118761.421875, 86662.65625, 67204.546875, 86662.65625, 77592.875, 79945.921875, 70496.109375, 115645.0234375, 81184.640625, 61172.99609375, 66490.15625, 66831.015625, 91377.3515625, 81150.8828125, 77592.875, 71223.3203125, 66893.0234375, 77520.9296875, 84806.7734375, 58970.90234375, 87564.453125, 87992.8828125, 64648.9140625, 63195.28125, 62232.5859375, 101677.7421875, 67911.484375, 120012.6796875, 116660.9453125, 83443.3671875, 79861.7890625, 65863.2265625, 67821.578125, 70162.78125, 102531.140625, 74168.4296875, 76654.6640625, 102531.140625, 74556.4765625, 64350.578125, 74556.4765625, 81795.4765625, 60408.85546875, 58325.51171875, 63046.2734375, 71779.1796875, 77522.828125, 59938.83203125, 58667.1171875, 74168.4296875, 65296.9453125, 73406.96875, 61066.3984375, 78868.953125, 74590.40625, 40999.359375, 59899.3359375, 65335.0390625, 65335.0390625, 60940.50390625, 81795.4765625, 55537.44140625, 116660.9453125, 63388.1796875, 51216.015625, 51267.7265625]}, {\"mode\": \"markers\", \"name\": \"y_max\", \"type\": \"scatter\", \"x\": [0, 1, 2, 3, 4, 5, 6, 7, 8, 9, 10, 11, 12, 13, 14, 15, 16, 17, 18, 19, 20, 21, 22, 23, 24, 25, 26, 27, 28, 29, 30, 31, 32, 33, 34, 35, 36, 37, 38, 39, 40, 41, 42, 43, 44, 45, 46, 47, 48, 49, 50, 51, 52, 53, 54, 55, 56, 57, 58, 59, 60, 61, 62, 63, 64, 65, 66, 67, 68, 69, 70, 71, 72, 73, 74, 75, 76, 77, 78, 79, 80, 81, 82, 83, 84, 85, 86, 87, 88, 89, 90, 91, 92, 93, 94, 95, 96, 97, 98, 99, 100, 101, 102, 103, 104, 105, 106, 107, 108, 109, 110, 111, 112, 113, 114, 115, 116, 117, 118, 119, 120, 121, 122, 123, 124, 125, 126, 127, 128, 129, 130, 131, 132, 133, 134, 135, 136, 137, 138, 139, 140, 141, 142, 143, 144, 145, 146, 147, 148, 149, 150, 151, 152, 153, 154, 155, 156, 157, 158, 159, 160, 161, 162, 163, 164, 165, 166, 167, 168, 169, 170, 171, 172, 173, 174, 175, 176, 177, 178, 179, 180, 181, 182, 183, 184, 185, 186, 187, 188, 189, 190, 191, 192, 193, 194, 195, 196, 197, 198, 199, 200, 201, 202, 203, 204, 205, 206, 207, 208, 209, 210, 211, 212, 213, 214, 215, 216, 217, 218, 219, 220, 221, 222, 223, 224, 225, 226, 227, 228, 229, 230, 231, 232, 233, 234, 235, 236, 237, 238, 239, 240, 241, 242, 243, 244, 245, 246, 247, 248, 249, 250, 251, 252, 253, 254, 255, 256, 257, 258, 259, 260, 261, 262, 263, 264, 265, 266, 267, 268, 269, 270, 271, 272, 273, 274, 275, 276, 277, 278, 279, 280, 281, 282, 283, 284, 285, 286, 287, 288, 289, 290, 291, 292, 293, 294, 295, 296, 297, 298, 299, 300, 301, 302, 303, 304, 305, 306, 307, 308, 309, 310, 311, 312, 313, 314, 315, 316, 317, 318, 319, 320, 321, 322, 323, 324, 325, 326, 327, 328, 329, 330, 331, 332, 333, 334, 335, 336, 337, 338, 339, 340, 341, 342, 343, 344, 345, 346, 347, 348, 349, 350, 351, 352, 353, 354, 355, 356, 357, 358, 359, 360, 361, 362, 363, 364, 365, 366, 367, 368, 369, 370, 371, 372, 373, 374, 375, 376, 377, 378, 379, 380, 381, 382, 383, 384, 385, 386, 387, 388, 389, 390, 391, 392, 393, 394, 395, 396, 397, 398, 399, 400, 401, 402, 403, 404, 405, 406, 407, 408, 409, 410, 411, 412, 413, 414, 415, 416, 417, 418, 419, 420, 421, 422, 423, 424, 425, 426, 427, 428, 429, 430, 431, 432, 433, 434, 435, 436, 437, 438, 439, 440, 441, 442, 443, 444, 445, 446, 447, 448, 449, 450, 451, 452, 453, 454, 455, 456, 457, 458, 459, 460, 461, 462, 463, 464, 465, 466, 467, 468, 469, 470, 471, 472, 473, 474, 475, 476, 477, 478, 479, 480, 481, 482, 483, 484, 485, 486, 487, 488, 489, 490, 491, 492, 493, 494, 495], \"y\": [223000, 209000, 185000, 185000, 194000, 182000, 190000, 180000, 171000, 164000, 171000, 175000, 180000, 156000, 155000, 152000, 155000, 143000, 145000, 146000, 139000, 152000, 138000, 147000, 153000, 142000, 135000, 135000, 129000, 135000, 122000, 132000, 132000, 132000, 129000, 134000, 133000, 133000, 126000, 126000, 128000, 123000, 126000, 134000, 129000, 113000, 118000, 120000, 120000, 122000, 115000, 119000, 113000, 126000, 121000, 122000, 117000, 120000, 120000, 119000, 119000, 118000, 116000, 115000, 118000, 116000, 122000, 114000, 115000, 118000, 113000, 112000, 115000, 115000, 116000, 111000, 108000, 115000, 113000, 113000, 113000, 113000, 107000, 111000, 107000, 116000, 110000, 109000, 106000, 109000, 115000, 99000, 109000, 109000, 106000, 108000, 106000, 103000, 106000, 106000, 108000, 111000, 110000, 109000, 105000, 105000, 95000, 103000, 105000, 110000, 103000, 102000, 106000, 100000, 106000, 105000, 105000, 104000, 108000, 106000, 105000, 101000, 101000, 98000, 105000, 107000, 101000, 100000, 99000, 100000, 94000, 99000, 103000, 100000, 102000, 98000, 105000, 97000, 97000, 96000, 100000, 92000, 103000, 92000, 97000, 102000, 99000, 99000, 99000, 96000, 93000, 99000, 91000, 95000, 96000, 97000, 96000, 96000, 93000, 95000, 96000, 97000, 97000, 95000, 94000, 95000, 94000, 100000, 95000, 92000, 93000, 92000, 95000, 91000, 95000, 90000, 92000, 97000, 93000, 90000, 98000, 98000, 90000, 98000, 91000, 97000, 98000, 92000, 92000, 95000, 92000, 91000, 92000, 92000, 92000, 92000, 89000, 83000, 95000, 90000, 91000, 94000, 92000, 87000, 89000, 86000, 89000, 84000, 91000, 93000, 93000, 87000, 87000, 86000, 82000, 85000, 87000, 91000, 90000, 88000, 85000, 94000, 89000, 85000, 87000, 85000, 87000, 89000, 90000, 87000, 86000, 93000, 92000, 84000, 90000, 88000, 85000, 86000, 80000, 85000, 91000, 84000, 85000, 86000, 87000, 83000, 84000, 84000, 85000, 83000, 86000, 85000, 87000, 83000, 84000, 84000, 83000, 84000, 86000, 86000, 86000, 86000, 82000, 86000, 84000, 86000, 85000, 86000, 84000, 86000, 88000, 84000, 84000, 84000, 86000, 80000, 85000, 89000, 80000, 86000, 85000, 87000, 84000, 85000, 84000, 80000, 84000, 83000, 88000, 83000, 84000, 80000, 81000, 88000, 79000, 83000, 85000, 87000, 81000, 85000, 88000, 81000, 78000, 82000, 81000, 84000, 82000, 78000, 78000, 82000, 86000, 82000, 81000, 85000, 82000, 79000, 79000, 80000, 80000, 80000, 81000, 80000, 78000, 79000, 78000, 77000, 81000, 81000, 78000, 78000, 80000, 77000, 79000, 77000, 79000, 79000, 77000, 80000, 78000, 81000, 81000, 77000, 81000, 78000, 78000, 79000, 77000, 79000, 78000, 79000, 79000, 77000, 79000, 75000, 79000, 77000, 77000, 75000, 77000, 79000, 79000, 76000, 77000, 77000, 74000, 76000, 73000, 76000, 75000, 72000, 76000, 77000, 76000, 74000, 76000, 74000, 74000, 78000, 72000, 75000, 76000, 73000, 73000, 75000, 75000, 76000, 74000, 79000, 74000, 74000, 74000, 74000, 75000, 79000, 75000, 74000, 72000, 75000, 73000, 73000, 73000, 73000, 72000, 75000, 71000, 70000, 73000, 75000, 72000, 70000, 71000, 73000, 71000, 71000, 71000, 72000, 72000, 74000, 69000, 71000, 71000, 70000, 70000, 71000, 71000, 68000, 70000, 69000, 70000, 68000, 70000, 70000, 68000, 68000, 67000, 73000, 70000, 69000, 69000, 66000, 70000, 66000, 67000, 66000, 66000, 68000, 70000, 67000, 67000, 62000, 66000, 67000, 67000, 65000, 69000, 65000, 67000, 66000, 65000, 66000, 65000, 64000, 65000, 64000, 63000, 65000, 63000, 65000, 65000, 64000, 63000, 62000, 64000, 64000, 60000, 60000, 60000, 60000, 63000, 62000, 62000, 66000, 61000, 62000, 60000, 61000, 61000, 60000, 61000, 58000, 59000, 58000, 59000, 57000, 57000, 57000, 56000, 57000, 57000, 57000, 56000, 55000, 56000, 55000, 51000, 50000]}],\n",
       "                        {\"template\": {\"data\": {\"bar\": [{\"error_x\": {\"color\": \"#2a3f5f\"}, \"error_y\": {\"color\": \"#2a3f5f\"}, \"marker\": {\"line\": {\"color\": \"#E5ECF6\", \"width\": 0.5}}, \"type\": \"bar\"}], \"barpolar\": [{\"marker\": {\"line\": {\"color\": \"#E5ECF6\", \"width\": 0.5}}, \"type\": \"barpolar\"}], \"carpet\": [{\"aaxis\": {\"endlinecolor\": \"#2a3f5f\", \"gridcolor\": \"white\", \"linecolor\": \"white\", \"minorgridcolor\": \"white\", \"startlinecolor\": \"#2a3f5f\"}, \"baxis\": {\"endlinecolor\": \"#2a3f5f\", \"gridcolor\": \"white\", \"linecolor\": \"white\", \"minorgridcolor\": \"white\", \"startlinecolor\": \"#2a3f5f\"}, \"type\": \"carpet\"}], \"choropleth\": [{\"colorbar\": {\"outlinewidth\": 0, \"ticks\": \"\"}, \"type\": \"choropleth\"}], \"contour\": [{\"colorbar\": {\"outlinewidth\": 0, \"ticks\": \"\"}, \"colorscale\": [[0.0, \"#0d0887\"], [0.1111111111111111, \"#46039f\"], [0.2222222222222222, \"#7201a8\"], [0.3333333333333333, \"#9c179e\"], [0.4444444444444444, \"#bd3786\"], [0.5555555555555556, \"#d8576b\"], [0.6666666666666666, \"#ed7953\"], [0.7777777777777778, \"#fb9f3a\"], [0.8888888888888888, \"#fdca26\"], [1.0, \"#f0f921\"]], \"type\": \"contour\"}], \"contourcarpet\": [{\"colorbar\": {\"outlinewidth\": 0, \"ticks\": \"\"}, \"type\": \"contourcarpet\"}], \"heatmap\": [{\"colorbar\": {\"outlinewidth\": 0, \"ticks\": \"\"}, \"colorscale\": [[0.0, \"#0d0887\"], [0.1111111111111111, \"#46039f\"], [0.2222222222222222, \"#7201a8\"], [0.3333333333333333, \"#9c179e\"], [0.4444444444444444, \"#bd3786\"], [0.5555555555555556, \"#d8576b\"], [0.6666666666666666, \"#ed7953\"], [0.7777777777777778, \"#fb9f3a\"], [0.8888888888888888, \"#fdca26\"], [1.0, \"#f0f921\"]], \"type\": \"heatmap\"}], \"heatmapgl\": [{\"colorbar\": {\"outlinewidth\": 0, \"ticks\": \"\"}, \"colorscale\": [[0.0, \"#0d0887\"], [0.1111111111111111, \"#46039f\"], [0.2222222222222222, \"#7201a8\"], [0.3333333333333333, \"#9c179e\"], [0.4444444444444444, \"#bd3786\"], [0.5555555555555556, \"#d8576b\"], [0.6666666666666666, \"#ed7953\"], [0.7777777777777778, \"#fb9f3a\"], [0.8888888888888888, \"#fdca26\"], [1.0, \"#f0f921\"]], \"type\": \"heatmapgl\"}], \"histogram\": [{\"marker\": {\"colorbar\": {\"outlinewidth\": 0, \"ticks\": \"\"}}, \"type\": \"histogram\"}], \"histogram2d\": [{\"colorbar\": {\"outlinewidth\": 0, \"ticks\": \"\"}, \"colorscale\": [[0.0, \"#0d0887\"], [0.1111111111111111, \"#46039f\"], [0.2222222222222222, \"#7201a8\"], [0.3333333333333333, \"#9c179e\"], [0.4444444444444444, \"#bd3786\"], [0.5555555555555556, \"#d8576b\"], [0.6666666666666666, \"#ed7953\"], [0.7777777777777778, \"#fb9f3a\"], [0.8888888888888888, \"#fdca26\"], [1.0, \"#f0f921\"]], \"type\": \"histogram2d\"}], \"histogram2dcontour\": [{\"colorbar\": {\"outlinewidth\": 0, \"ticks\": \"\"}, \"colorscale\": [[0.0, \"#0d0887\"], [0.1111111111111111, \"#46039f\"], [0.2222222222222222, \"#7201a8\"], [0.3333333333333333, \"#9c179e\"], [0.4444444444444444, \"#bd3786\"], [0.5555555555555556, \"#d8576b\"], [0.6666666666666666, \"#ed7953\"], [0.7777777777777778, \"#fb9f3a\"], [0.8888888888888888, \"#fdca26\"], [1.0, \"#f0f921\"]], \"type\": \"histogram2dcontour\"}], \"mesh3d\": [{\"colorbar\": {\"outlinewidth\": 0, \"ticks\": \"\"}, \"type\": \"mesh3d\"}], \"parcoords\": [{\"line\": {\"colorbar\": {\"outlinewidth\": 0, \"ticks\": \"\"}}, \"type\": \"parcoords\"}], \"scatter\": [{\"marker\": {\"colorbar\": {\"outlinewidth\": 0, \"ticks\": \"\"}}, \"type\": \"scatter\"}], \"scatter3d\": [{\"line\": {\"colorbar\": {\"outlinewidth\": 0, \"ticks\": \"\"}}, \"marker\": {\"colorbar\": {\"outlinewidth\": 0, \"ticks\": \"\"}}, \"type\": \"scatter3d\"}], \"scattercarpet\": [{\"marker\": {\"colorbar\": {\"outlinewidth\": 0, \"ticks\": \"\"}}, \"type\": \"scattercarpet\"}], \"scattergeo\": [{\"marker\": {\"colorbar\": {\"outlinewidth\": 0, \"ticks\": \"\"}}, \"type\": \"scattergeo\"}], \"scattergl\": [{\"marker\": {\"colorbar\": {\"outlinewidth\": 0, \"ticks\": \"\"}}, \"type\": \"scattergl\"}], \"scattermapbox\": [{\"marker\": {\"colorbar\": {\"outlinewidth\": 0, \"ticks\": \"\"}}, \"type\": \"scattermapbox\"}], \"scatterpolar\": [{\"marker\": {\"colorbar\": {\"outlinewidth\": 0, \"ticks\": \"\"}}, \"type\": \"scatterpolar\"}], \"scatterpolargl\": [{\"marker\": {\"colorbar\": {\"outlinewidth\": 0, \"ticks\": \"\"}}, \"type\": \"scatterpolargl\"}], \"scatterternary\": [{\"marker\": {\"colorbar\": {\"outlinewidth\": 0, \"ticks\": \"\"}}, \"type\": \"scatterternary\"}], \"surface\": [{\"colorbar\": {\"outlinewidth\": 0, \"ticks\": \"\"}, \"colorscale\": [[0.0, \"#0d0887\"], [0.1111111111111111, \"#46039f\"], [0.2222222222222222, \"#7201a8\"], [0.3333333333333333, \"#9c179e\"], [0.4444444444444444, \"#bd3786\"], [0.5555555555555556, \"#d8576b\"], [0.6666666666666666, \"#ed7953\"], [0.7777777777777778, \"#fb9f3a\"], [0.8888888888888888, \"#fdca26\"], [1.0, \"#f0f921\"]], \"type\": \"surface\"}], \"table\": [{\"cells\": {\"fill\": {\"color\": \"#EBF0F8\"}, \"line\": {\"color\": \"white\"}}, \"header\": {\"fill\": {\"color\": \"#C8D4E3\"}, \"line\": {\"color\": \"white\"}}, \"type\": \"table\"}]}, \"layout\": {\"annotationdefaults\": {\"arrowcolor\": \"#2a3f5f\", \"arrowhead\": 0, \"arrowwidth\": 1}, \"colorscale\": {\"diverging\": [[0, \"#8e0152\"], [0.1, \"#c51b7d\"], [0.2, \"#de77ae\"], [0.3, \"#f1b6da\"], [0.4, \"#fde0ef\"], [0.5, \"#f7f7f7\"], [0.6, \"#e6f5d0\"], [0.7, \"#b8e186\"], [0.8, \"#7fbc41\"], [0.9, \"#4d9221\"], [1, \"#276419\"]], \"sequential\": [[0.0, \"#0d0887\"], [0.1111111111111111, \"#46039f\"], [0.2222222222222222, \"#7201a8\"], [0.3333333333333333, \"#9c179e\"], [0.4444444444444444, \"#bd3786\"], [0.5555555555555556, \"#d8576b\"], [0.6666666666666666, \"#ed7953\"], [0.7777777777777778, \"#fb9f3a\"], [0.8888888888888888, \"#fdca26\"], [1.0, \"#f0f921\"]], \"sequentialminus\": [[0.0, \"#0d0887\"], [0.1111111111111111, \"#46039f\"], [0.2222222222222222, \"#7201a8\"], [0.3333333333333333, \"#9c179e\"], [0.4444444444444444, \"#bd3786\"], [0.5555555555555556, \"#d8576b\"], [0.6666666666666666, \"#ed7953\"], [0.7777777777777778, \"#fb9f3a\"], [0.8888888888888888, \"#fdca26\"], [1.0, \"#f0f921\"]]}, \"colorway\": [\"#636efa\", \"#EF553B\", \"#00cc96\", \"#ab63fa\", \"#FFA15A\", \"#19d3f3\", \"#FF6692\", \"#B6E880\", \"#FF97FF\", \"#FECB52\"], \"font\": {\"color\": \"#2a3f5f\"}, \"geo\": {\"bgcolor\": \"white\", \"lakecolor\": \"white\", \"landcolor\": \"#E5ECF6\", \"showlakes\": true, \"showland\": true, \"subunitcolor\": \"white\"}, \"hoverlabel\": {\"align\": \"left\"}, \"hovermode\": \"closest\", \"mapbox\": {\"style\": \"light\"}, \"paper_bgcolor\": \"white\", \"plot_bgcolor\": \"#E5ECF6\", \"polar\": {\"angularaxis\": {\"gridcolor\": \"white\", \"linecolor\": \"white\", \"ticks\": \"\"}, \"bgcolor\": \"#E5ECF6\", \"radialaxis\": {\"gridcolor\": \"white\", \"linecolor\": \"white\", \"ticks\": \"\"}}, \"scene\": {\"xaxis\": {\"backgroundcolor\": \"#E5ECF6\", \"gridcolor\": \"white\", \"gridwidth\": 2, \"linecolor\": \"white\", \"showbackground\": true, \"ticks\": \"\", \"zerolinecolor\": \"white\"}, \"yaxis\": {\"backgroundcolor\": \"#E5ECF6\", \"gridcolor\": \"white\", \"gridwidth\": 2, \"linecolor\": \"white\", \"showbackground\": true, \"ticks\": \"\", \"zerolinecolor\": \"white\"}, \"zaxis\": {\"backgroundcolor\": \"#E5ECF6\", \"gridcolor\": \"white\", \"gridwidth\": 2, \"linecolor\": \"white\", \"showbackground\": true, \"ticks\": \"\", \"zerolinecolor\": \"white\"}}, \"shapedefaults\": {\"line\": {\"color\": \"#2a3f5f\"}}, \"ternary\": {\"aaxis\": {\"gridcolor\": \"white\", \"linecolor\": \"white\", \"ticks\": \"\"}, \"baxis\": {\"gridcolor\": \"white\", \"linecolor\": \"white\", \"ticks\": \"\"}, \"bgcolor\": \"#E5ECF6\", \"caxis\": {\"gridcolor\": \"white\", \"linecolor\": \"white\", \"ticks\": \"\"}}, \"title\": {\"x\": 0.05}, \"xaxis\": {\"automargin\": true, \"gridcolor\": \"white\", \"linecolor\": \"white\", \"ticks\": \"\", \"zerolinecolor\": \"white\", \"zerolinewidth\": 2}, \"yaxis\": {\"automargin\": true, \"gridcolor\": \"white\", \"linecolor\": \"white\", \"ticks\": \"\", \"zerolinecolor\": \"white\", \"zerolinewidth\": 2}}}},\n",
       "                        {\"responsive\": true}\n",
       "                    ).then(function(){\n",
       "                            \n",
       "var gd = document.getElementById('1ca8d285-82b5-4ab6-a11d-d623c7c153c9');\n",
       "var x = new MutationObserver(function (mutations, observer) {{\n",
       "        var display = window.getComputedStyle(gd).display;\n",
       "        if (!display || display === 'none') {{\n",
       "            console.log([gd, 'removed!']);\n",
       "            Plotly.purge(gd);\n",
       "            observer.disconnect();\n",
       "        }}\n",
       "}});\n",
       "\n",
       "// Listen for the removal of the full notebook cells\n",
       "var notebookContainer = gd.closest('#notebook-container');\n",
       "if (notebookContainer) {{\n",
       "    x.observe(notebookContainer, {childList: true});\n",
       "}}\n",
       "\n",
       "// Listen for the clearing of the current output cell\n",
       "var outputEl = gd.closest('.output');\n",
       "if (outputEl) {{\n",
       "    x.observe(outputEl, {childList: true});\n",
       "}}\n",
       "\n",
       "                        })\n",
       "                };\n",
       "                });\n",
       "            </script>\n",
       "        </div>"
      ]
     },
     "metadata": {},
     "output_type": "display_data"
    }
   ],
   "source": [
    "import plotly.graph_objects as go\n",
    "\n",
    "\n",
    "fig = go.Figure()\n",
    "\n",
    "# Add traces\n",
    "\n",
    "fig.add_trace(go.Scatter(x=np.arange(0,496), y=y_pred_com['y_pred_max'],\n",
    "                    mode='markers',\n",
    "                    name='y_pred_max'))\n",
    "fig.add_trace(go.Scatter(x=np.arange(0,496), y=y_pred_com['y_max'],\n",
    "                    mode='markers',\n",
    "                    name='y_max'))\n",
    "fig.show()"
   ]
  },
  {
   "cell_type": "code",
   "execution_count": 188,
   "metadata": {
    "ExecuteTime": {
     "end_time": "2019-11-18T22:15:49.759537Z",
     "start_time": "2019-11-18T22:15:49.746776Z"
    }
   },
   "outputs": [],
   "source": [
    "import pickle\n",
    "pickle.dump(xgb_model_min, open('ny_min_xgb_model_min.pickle', 'wb'))\n",
    "pickle.dump(xgb_model_max, open('ny_max_xgb_model_min.pickle', 'wb'))"
   ]
  },
  {
   "cell_type": "code",
   "execution_count": 189,
   "metadata": {
    "ExecuteTime": {
     "end_time": "2019-11-18T22:15:50.635492Z",
     "start_time": "2019-11-18T22:15:50.622716Z"
    }
   },
   "outputs": [
    {
     "name": "stdout",
     "output_type": "stream",
     "text": [
      "1.4 MB\n",
      "1.8 MB\n"
     ]
    }
   ],
   "source": [
    "xgb_model_min_loaded = pickle.load(open('ny_min_xgb_model_min.pickle', \"rb\"))\n",
    "xgb_model_max_loaded = pickle.load(open('ny_max_xgb_model_min.pickle', \"rb\"))\n",
    "import os\n",
    "print(round(os.path.getsize('ny_max_xgb_model_min.pickle')/1000000,1), 'MB')\n",
    "print(round(os.path.getsize('ny_min_xgb_model_min.pickle')/1000000,1), 'MB')"
   ]
  },
  {
   "cell_type": "code",
   "execution_count": 190,
   "metadata": {
    "ExecuteTime": {
     "end_time": "2019-11-18T22:15:52.065703Z",
     "start_time": "2019-11-18T22:15:52.055103Z"
    }
   },
   "outputs": [
    {
     "name": "stdout",
     "output_type": "stream",
     "text": [
      "Predicted Salary Range($):  156657 ~ 221089\n"
     ]
    }
   ],
   "source": [
    "print('Predicted Salary Range($): ',int(xgb_model_min_loaded.predict(X[:1])),'~',int(xgb_model_max_loaded.predict(X[:1])))"
   ]
  },
  {
   "cell_type": "code",
   "execution_count": 213,
   "metadata": {
    "ExecuteTime": {
     "end_time": "2019-11-18T22:21:27.197390Z",
     "start_time": "2019-11-18T22:21:27.191601Z"
    }
   },
   "outputs": [],
   "source": [
    "def NYC_salary_with_skills(rating,inputs_list):\n",
    "    sample_list = [0] * (len(X.columns))\n",
    "    input_X = pd.DataFrame([sample_list],\n",
    "                 columns =list(X.columns))\n",
    "\n",
    "    for inputs in inputs_list:\n",
    "        if inputs in list(input_X.columns):\n",
    "            input_X[inputs] = 1\n",
    "    input_X['rating'] = rating\n",
    "    salary = (int(xgb_model_min_loaded.predict(input_X[:1])),int(xgb_model_max_loaded.predict(input_X[:1])))\n",
    "    return salary"
   ]
  },
  {
   "cell_type": "code",
   "execution_count": 214,
   "metadata": {
    "ExecuteTime": {
     "end_time": "2019-11-18T22:21:27.803555Z",
     "start_time": "2019-11-18T22:21:27.789882Z"
    }
   },
   "outputs": [
    {
     "data": {
      "text/plain": [
       "(77152, 108244)"
      ]
     },
     "execution_count": 214,
     "metadata": {},
     "output_type": "execute_result"
    }
   ],
   "source": [
    "NYC_salary_with_skills(3.6,['Python','SQL','Tableau','R','Microsoft Office'])"
   ]
  },
  {
   "cell_type": "code",
   "execution_count": 215,
   "metadata": {
    "ExecuteTime": {
     "end_time": "2019-11-18T22:21:34.444935Z",
     "start_time": "2019-11-18T22:21:34.130390Z"
    }
   },
   "outputs": [
    {
     "data": {
      "text/html": [
       "<div>\n",
       "<style scoped>\n",
       "    .dataframe tbody tr th:only-of-type {\n",
       "        vertical-align: middle;\n",
       "    }\n",
       "\n",
       "    .dataframe tbody tr th {\n",
       "        vertical-align: top;\n",
       "    }\n",
       "\n",
       "    .dataframe thead th {\n",
       "        text-align: right;\n",
       "    }\n",
       "</style>\n",
       "<table border=\"1\" class=\"dataframe\">\n",
       "  <thead>\n",
       "    <tr style=\"text-align: right;\">\n",
       "      <th></th>\n",
       "      <th>skill</th>\n",
       "      <th>salary</th>\n",
       "    </tr>\n",
       "  </thead>\n",
       "  <tbody>\n",
       "    <tr>\n",
       "      <th>0</th>\n",
       "      <td>Machine Learning</td>\n",
       "      <td>(62797, 102208)</td>\n",
       "    </tr>\n",
       "    <tr>\n",
       "      <th>1</th>\n",
       "      <td>AI</td>\n",
       "      <td>(57937, 80769)</td>\n",
       "    </tr>\n",
       "    <tr>\n",
       "      <th>2</th>\n",
       "      <td>Hadoop</td>\n",
       "      <td>(49607, 103000)</td>\n",
       "    </tr>\n",
       "    <tr>\n",
       "      <th>3</th>\n",
       "      <td>Data Science</td>\n",
       "      <td>(49439, 105240)</td>\n",
       "    </tr>\n",
       "    <tr>\n",
       "      <th>4</th>\n",
       "      <td>Microsoft SQL Server</td>\n",
       "      <td>(47106, 88554)</td>\n",
       "    </tr>\n",
       "    <tr>\n",
       "      <th>5</th>\n",
       "      <td>Tableau</td>\n",
       "      <td>(44962, 77259)</td>\n",
       "    </tr>\n",
       "    <tr>\n",
       "      <th>6</th>\n",
       "      <td>R</td>\n",
       "      <td>(44685, 76875)</td>\n",
       "    </tr>\n",
       "    <tr>\n",
       "      <th>7</th>\n",
       "      <td>Scripting</td>\n",
       "      <td>(40885, 62264)</td>\n",
       "    </tr>\n",
       "    <tr>\n",
       "      <th>8</th>\n",
       "      <td>MATLAB</td>\n",
       "      <td>(40594, 75905)</td>\n",
       "    </tr>\n",
       "    <tr>\n",
       "      <th>9</th>\n",
       "      <td>SAS</td>\n",
       "      <td>(39950, 69695)</td>\n",
       "    </tr>\n",
       "    <tr>\n",
       "      <th>10</th>\n",
       "      <td>SQL</td>\n",
       "      <td>(38465, 75096)</td>\n",
       "    </tr>\n",
       "    <tr>\n",
       "      <th>11</th>\n",
       "      <td>HBase</td>\n",
       "      <td>(38257, 71284)</td>\n",
       "    </tr>\n",
       "    <tr>\n",
       "      <th>12</th>\n",
       "      <td>Perl</td>\n",
       "      <td>(37893, 72502)</td>\n",
       "    </tr>\n",
       "    <tr>\n",
       "      <th>13</th>\n",
       "      <td>Data Analysis</td>\n",
       "      <td>(37710, 74060)</td>\n",
       "    </tr>\n",
       "    <tr>\n",
       "      <th>14</th>\n",
       "      <td>Hive</td>\n",
       "      <td>(36733, 65690)</td>\n",
       "    </tr>\n",
       "    <tr>\n",
       "      <th>15</th>\n",
       "      <td>Spark</td>\n",
       "      <td>(36563, 54436)</td>\n",
       "    </tr>\n",
       "    <tr>\n",
       "      <th>16</th>\n",
       "      <td>Python</td>\n",
       "      <td>(33711, 68374)</td>\n",
       "    </tr>\n",
       "    <tr>\n",
       "      <th>17</th>\n",
       "      <td>Natural Language Processing</td>\n",
       "      <td>(32956, 64546)</td>\n",
       "    </tr>\n",
       "    <tr>\n",
       "      <th>18</th>\n",
       "      <td>Scala</td>\n",
       "      <td>(32177, 65544)</td>\n",
       "    </tr>\n",
       "    <tr>\n",
       "      <th>19</th>\n",
       "      <td>Excel</td>\n",
       "      <td>(32133, 56241)</td>\n",
       "    </tr>\n",
       "    <tr>\n",
       "      <th>20</th>\n",
       "      <td>.Net</td>\n",
       "      <td>(31908, 58468)</td>\n",
       "    </tr>\n",
       "    <tr>\n",
       "      <th>21</th>\n",
       "      <td>TensorFlow</td>\n",
       "      <td>(31344, 64345)</td>\n",
       "    </tr>\n",
       "    <tr>\n",
       "      <th>22</th>\n",
       "      <td>PostgreSQL</td>\n",
       "      <td>(31335, 59109)</td>\n",
       "    </tr>\n",
       "    <tr>\n",
       "      <th>23</th>\n",
       "      <td>Shell Scripting</td>\n",
       "      <td>(29071, 67639)</td>\n",
       "    </tr>\n",
       "    <tr>\n",
       "      <th>24</th>\n",
       "      <td>SPSS</td>\n",
       "      <td>(28449, 55009)</td>\n",
       "    </tr>\n",
       "    <tr>\n",
       "      <th>25</th>\n",
       "      <td>Kafka</td>\n",
       "      <td>(28353, 58659)</td>\n",
       "    </tr>\n",
       "    <tr>\n",
       "      <th>26</th>\n",
       "      <td>Microsoft Office</td>\n",
       "      <td>(27816, 58190)</td>\n",
       "    </tr>\n",
       "    <tr>\n",
       "      <th>27</th>\n",
       "      <td>Data Warehouse</td>\n",
       "      <td>(27078, 53491)</td>\n",
       "    </tr>\n",
       "    <tr>\n",
       "      <th>28</th>\n",
       "      <td>MySQL</td>\n",
       "      <td>(26783, 64895)</td>\n",
       "    </tr>\n",
       "    <tr>\n",
       "      <th>29</th>\n",
       "      <td>Oracle</td>\n",
       "      <td>(25834, 63921)</td>\n",
       "    </tr>\n",
       "    <tr>\n",
       "      <th>30</th>\n",
       "      <td>Project Management</td>\n",
       "      <td>(24600, 57061)</td>\n",
       "    </tr>\n",
       "    <tr>\n",
       "      <th>31</th>\n",
       "      <td>Java</td>\n",
       "      <td>(24199, 46633)</td>\n",
       "    </tr>\n",
       "    <tr>\n",
       "      <th>32</th>\n",
       "      <td>Software Development</td>\n",
       "      <td>(22620, 63616)</td>\n",
       "    </tr>\n",
       "    <tr>\n",
       "      <th>33</th>\n",
       "      <td>AWS</td>\n",
       "      <td>(22572, 50587)</td>\n",
       "    </tr>\n",
       "    <tr>\n",
       "      <th>34</th>\n",
       "      <td>Big Data</td>\n",
       "      <td>(21717, 51935)</td>\n",
       "    </tr>\n",
       "    <tr>\n",
       "      <th>35</th>\n",
       "      <td>Linux</td>\n",
       "      <td>(21207, 43920)</td>\n",
       "    </tr>\n",
       "    <tr>\n",
       "      <th>36</th>\n",
       "      <td>Azure</td>\n",
       "      <td>(18301, 51042)</td>\n",
       "    </tr>\n",
       "    <tr>\n",
       "      <th>37</th>\n",
       "      <td>Business Intelligence</td>\n",
       "      <td>(14447, 47934)</td>\n",
       "    </tr>\n",
       "    <tr>\n",
       "      <th>38</th>\n",
       "      <td>S3</td>\n",
       "      <td>(13152, 42123)</td>\n",
       "    </tr>\n",
       "    <tr>\n",
       "      <th>39</th>\n",
       "      <td>MongoDB</td>\n",
       "      <td>(11810, 39943)</td>\n",
       "    </tr>\n",
       "    <tr>\n",
       "      <th>40</th>\n",
       "      <td>NoSQL</td>\n",
       "      <td>(11412, 34662)</td>\n",
       "    </tr>\n",
       "    <tr>\n",
       "      <th>41</th>\n",
       "      <td>C/C++</td>\n",
       "      <td>(6277, 40424)</td>\n",
       "    </tr>\n",
       "    <tr>\n",
       "      <th>42</th>\n",
       "      <td>JavaScript</td>\n",
       "      <td>(5213, 41107)</td>\n",
       "    </tr>\n",
       "    <tr>\n",
       "      <th>43</th>\n",
       "      <td>Pig</td>\n",
       "      <td>(4492, 37179)</td>\n",
       "    </tr>\n",
       "    <tr>\n",
       "      <th>44</th>\n",
       "      <td>Git</td>\n",
       "      <td>(-9959, 19668)</td>\n",
       "    </tr>\n",
       "  </tbody>\n",
       "</table>\n",
       "</div>"
      ],
      "text/plain": [
       "                          skill           salary\n",
       "0              Machine Learning  (62797, 102208)\n",
       "1                            AI   (57937, 80769)\n",
       "2                        Hadoop  (49607, 103000)\n",
       "3                  Data Science  (49439, 105240)\n",
       "4          Microsoft SQL Server   (47106, 88554)\n",
       "5                       Tableau   (44962, 77259)\n",
       "6                             R   (44685, 76875)\n",
       "7                     Scripting   (40885, 62264)\n",
       "8                        MATLAB   (40594, 75905)\n",
       "9                           SAS   (39950, 69695)\n",
       "10                          SQL   (38465, 75096)\n",
       "11                        HBase   (38257, 71284)\n",
       "12                         Perl   (37893, 72502)\n",
       "13                Data Analysis   (37710, 74060)\n",
       "14                         Hive   (36733, 65690)\n",
       "15                        Spark   (36563, 54436)\n",
       "16                       Python   (33711, 68374)\n",
       "17  Natural Language Processing   (32956, 64546)\n",
       "18                        Scala   (32177, 65544)\n",
       "19                        Excel   (32133, 56241)\n",
       "20                         .Net   (31908, 58468)\n",
       "21                   TensorFlow   (31344, 64345)\n",
       "22                   PostgreSQL   (31335, 59109)\n",
       "23              Shell Scripting   (29071, 67639)\n",
       "24                         SPSS   (28449, 55009)\n",
       "25                        Kafka   (28353, 58659)\n",
       "26             Microsoft Office   (27816, 58190)\n",
       "27               Data Warehouse   (27078, 53491)\n",
       "28                        MySQL   (26783, 64895)\n",
       "29                       Oracle   (25834, 63921)\n",
       "30           Project Management   (24600, 57061)\n",
       "31                         Java   (24199, 46633)\n",
       "32         Software Development   (22620, 63616)\n",
       "33                          AWS   (22572, 50587)\n",
       "34                     Big Data   (21717, 51935)\n",
       "35                        Linux   (21207, 43920)\n",
       "36                        Azure   (18301, 51042)\n",
       "37        Business Intelligence   (14447, 47934)\n",
       "38                           S3   (13152, 42123)\n",
       "39                      MongoDB   (11810, 39943)\n",
       "40                        NoSQL   (11412, 34662)\n",
       "41                        C/C++    (6277, 40424)\n",
       "42                   JavaScript    (5213, 41107)\n",
       "43                          Pig    (4492, 37179)\n",
       "44                          Git   (-9959, 19668)"
      ]
     },
     "execution_count": 215,
     "metadata": {},
     "output_type": "execute_result"
    }
   ],
   "source": [
    "skill_money = {}\n",
    "skill_money_list = []\n",
    "for skill in list(X.columns)[1:]:\n",
    "    skill_money['skill'] = skill\n",
    "    skill_money['salary'] = NYC_salary_with_skills(3.6,[skill])\n",
    "    skill_money_list.append(skill_money)\n",
    "    skill_money = {}\n",
    "single_skill = pd.DataFrame(skill_money_list).sort_values('salary',ascending=False)\n",
    "single_skill = single_skill.reset_index(drop=True)\n",
    "single_skill"
   ]
  },
  {
   "cell_type": "markdown",
   "metadata": {},
   "source": [
    "### Find the high salary skill pairs"
   ]
  },
  {
   "cell_type": "code",
   "execution_count": 216,
   "metadata": {
    "ExecuteTime": {
     "end_time": "2019-11-18T22:21:36.337100Z",
     "start_time": "2019-11-18T22:21:36.334439Z"
    }
   },
   "outputs": [],
   "source": [
    "# from itertools import combinations\n",
    "# L = list(X.columns)[1:]\n",
    "# unique_skill_pair = ()\n",
    "# for group_num in np.arange(1,5,1):\n",
    "#     unique_skill_pair += tuple([\",\".join(map(str, comb)) for comb in combinations(L, group_num)])\n",
    "\n",
    "# skill_money = {}\n",
    "# skill_money_list = []\n",
    "# for skill in unique_skill_pair:\n",
    "#     skill_money['skill'] = skill\n",
    "#     skill_money['salary'] = NYC_salary_with_skills(3.6,[skill])\n",
    "#     skill_money_list.append(skill_money)\n",
    "#     skill_money = {}\n",
    "# df_skill_pair = pd.DataFrame(skill_money_list).drop_duplicates().sort_values('salary',ascending=False)"
   ]
  },
  {
   "cell_type": "code",
   "execution_count": 217,
   "metadata": {
    "ExecuteTime": {
     "end_time": "2019-11-18T22:21:36.593588Z",
     "start_time": "2019-11-18T22:21:36.590212Z"
    }
   },
   "outputs": [],
   "source": [
    "# top_skill_salary = df_skill_pair[:5].reset_index(drop=True)\n",
    "# top_skill_salary"
   ]
  },
  {
   "cell_type": "code",
   "execution_count": 218,
   "metadata": {
    "ExecuteTime": {
     "end_time": "2019-11-18T22:21:37.079906Z",
     "start_time": "2019-11-18T22:21:37.067411Z"
    }
   },
   "outputs": [
    {
     "data": {
      "text/html": [
       "<div>\n",
       "<style scoped>\n",
       "    .dataframe tbody tr th:only-of-type {\n",
       "        vertical-align: middle;\n",
       "    }\n",
       "\n",
       "    .dataframe tbody tr th {\n",
       "        vertical-align: top;\n",
       "    }\n",
       "\n",
       "    .dataframe thead th {\n",
       "        text-align: right;\n",
       "    }\n",
       "</style>\n",
       "<table border=\"1\" class=\"dataframe\">\n",
       "  <thead>\n",
       "    <tr style=\"text-align: right;\">\n",
       "      <th></th>\n",
       "      <th>skill</th>\n",
       "      <th>salary</th>\n",
       "    </tr>\n",
       "  </thead>\n",
       "  <tbody>\n",
       "    <tr>\n",
       "      <th>0</th>\n",
       "      <td>Machine Learning</td>\n",
       "      <td>(62797, 102208)</td>\n",
       "    </tr>\n",
       "    <tr>\n",
       "      <th>1</th>\n",
       "      <td>AI</td>\n",
       "      <td>(57937, 80769)</td>\n",
       "    </tr>\n",
       "    <tr>\n",
       "      <th>2</th>\n",
       "      <td>Hadoop</td>\n",
       "      <td>(49607, 103000)</td>\n",
       "    </tr>\n",
       "    <tr>\n",
       "      <th>3</th>\n",
       "      <td>Data Science</td>\n",
       "      <td>(49439, 105240)</td>\n",
       "    </tr>\n",
       "    <tr>\n",
       "      <th>4</th>\n",
       "      <td>Microsoft SQL Server</td>\n",
       "      <td>(47106, 88554)</td>\n",
       "    </tr>\n",
       "    <tr>\n",
       "      <th>5</th>\n",
       "      <td>Tableau</td>\n",
       "      <td>(44962, 77259)</td>\n",
       "    </tr>\n",
       "    <tr>\n",
       "      <th>6</th>\n",
       "      <td>R</td>\n",
       "      <td>(44685, 76875)</td>\n",
       "    </tr>\n",
       "    <tr>\n",
       "      <th>7</th>\n",
       "      <td>Scripting</td>\n",
       "      <td>(40885, 62264)</td>\n",
       "    </tr>\n",
       "    <tr>\n",
       "      <th>8</th>\n",
       "      <td>MATLAB</td>\n",
       "      <td>(40594, 75905)</td>\n",
       "    </tr>\n",
       "    <tr>\n",
       "      <th>9</th>\n",
       "      <td>SAS</td>\n",
       "      <td>(39950, 69695)</td>\n",
       "    </tr>\n",
       "  </tbody>\n",
       "</table>\n",
       "</div>"
      ],
      "text/plain": [
       "                  skill           salary\n",
       "0      Machine Learning  (62797, 102208)\n",
       "1                    AI   (57937, 80769)\n",
       "2                Hadoop  (49607, 103000)\n",
       "3          Data Science  (49439, 105240)\n",
       "4  Microsoft SQL Server   (47106, 88554)\n",
       "5               Tableau   (44962, 77259)\n",
       "6                     R   (44685, 76875)\n",
       "7             Scripting   (40885, 62264)\n",
       "8                MATLAB   (40594, 75905)\n",
       "9                   SAS   (39950, 69695)"
      ]
     },
     "execution_count": 218,
     "metadata": {},
     "output_type": "execute_result"
    }
   ],
   "source": [
    "single_skill[:10]"
   ]
  },
  {
   "cell_type": "code",
   "execution_count": 219,
   "metadata": {
    "ExecuteTime": {
     "end_time": "2019-11-18T22:21:37.718662Z",
     "start_time": "2019-11-18T22:21:37.715557Z"
    }
   },
   "outputs": [],
   "source": [
    "salary_skills_list = ['Python','SQL','Tableau']"
   ]
  },
  {
   "cell_type": "code",
   "execution_count": 220,
   "metadata": {
    "ExecuteTime": {
     "end_time": "2019-11-18T22:21:38.405044Z",
     "start_time": "2019-11-18T22:21:38.175070Z"
    },
    "scrolled": true
   },
   "outputs": [
    {
     "data": {
      "text/html": [
       "<div>\n",
       "<style scoped>\n",
       "    .dataframe tbody tr th:only-of-type {\n",
       "        vertical-align: middle;\n",
       "    }\n",
       "\n",
       "    .dataframe tbody tr th {\n",
       "        vertical-align: top;\n",
       "    }\n",
       "\n",
       "    .dataframe thead th {\n",
       "        text-align: right;\n",
       "    }\n",
       "</style>\n",
       "<table border=\"1\" class=\"dataframe\">\n",
       "  <thead>\n",
       "    <tr style=\"text-align: right;\">\n",
       "      <th></th>\n",
       "      <th>skill</th>\n",
       "      <th>with such more salary</th>\n",
       "    </tr>\n",
       "  </thead>\n",
       "  <tbody>\n",
       "    <tr>\n",
       "      <th>3</th>\n",
       "      <td>Data Science</td>\n",
       "      <td>31193</td>\n",
       "    </tr>\n",
       "    <tr>\n",
       "      <th>4</th>\n",
       "      <td>Microsoft SQL Server</td>\n",
       "      <td>20076</td>\n",
       "    </tr>\n",
       "    <tr>\n",
       "      <th>1</th>\n",
       "      <td>AI</td>\n",
       "      <td>12313</td>\n",
       "    </tr>\n",
       "    <tr>\n",
       "      <th>0</th>\n",
       "      <td>Machine Learning</td>\n",
       "      <td>5055</td>\n",
       "    </tr>\n",
       "  </tbody>\n",
       "</table>\n",
       "</div>"
      ],
      "text/plain": [
       "                  skill  with such more salary\n",
       "3          Data Science                  31193\n",
       "4  Microsoft SQL Server                  20076\n",
       "1                    AI                  12313\n",
       "0      Machine Learning                   5055"
      ]
     },
     "execution_count": 220,
     "metadata": {},
     "output_type": "execute_result"
    }
   ],
   "source": [
    "suggest_list = []\n",
    "all_list = salary_skills_list\n",
    "\n",
    "for skill in single_skill['skill'][:5]:\n",
    "    if skill not in salary_skills_list:\n",
    "        suggest_list.append(skill)\n",
    "\n",
    "    suggest_list_salary = {}\n",
    "    suggest_list_salary_list = []\n",
    "    for skill in suggest_list:\n",
    "        all_list = []\n",
    "        all_list = salary_skills_list+ [skill]\n",
    "        suggest_list_salary['skill'] = skill\n",
    "        suggest_list_salary['salary'] = int(np.subtract(NYC_salary_with_skills(3.6,all_list), NYC_salary_with_skills(3.6,salary_skills_list)).mean())\n",
    "        suggest_list_salary_list.append(suggest_list_salary)\n",
    "        suggest_list_salary = {}\n",
    "        \n",
    "    suggest_skills = pd.DataFrame(suggest_list_salary_list).sort_values('salary',ascending=False)\n",
    "suggest_skills = suggest_skills[suggest_skills['salary'] > 0 ]\n",
    "suggest_skills.columns = ['skill', 'with such more salary']\n",
    "suggest_skills"
   ]
  },
  {
   "cell_type": "markdown",
   "metadata": {},
   "source": [
    "### Recommending top 3 Skills with salary increase & Adding Rating to Function"
   ]
  },
  {
   "cell_type": "code",
   "execution_count": 221,
   "metadata": {
    "ExecuteTime": {
     "end_time": "2019-11-18T22:21:40.153493Z",
     "start_time": "2019-11-18T22:21:39.840056Z"
    }
   },
   "outputs": [
    {
     "data": {
      "text/html": [
       "<div>\n",
       "<style scoped>\n",
       "    .dataframe tbody tr th:only-of-type {\n",
       "        vertical-align: middle;\n",
       "    }\n",
       "\n",
       "    .dataframe tbody tr th {\n",
       "        vertical-align: top;\n",
       "    }\n",
       "\n",
       "    .dataframe thead th {\n",
       "        text-align: right;\n",
       "    }\n",
       "</style>\n",
       "<table border=\"1\" class=\"dataframe\">\n",
       "  <thead>\n",
       "    <tr style=\"text-align: right;\">\n",
       "      <th></th>\n",
       "      <th>skill</th>\n",
       "      <th>salary</th>\n",
       "    </tr>\n",
       "  </thead>\n",
       "  <tbody>\n",
       "    <tr>\n",
       "      <th>20</th>\n",
       "      <td>Machine Learning</td>\n",
       "      <td>(62797, 102208)</td>\n",
       "    </tr>\n",
       "    <tr>\n",
       "      <th>1</th>\n",
       "      <td>AI</td>\n",
       "      <td>(57937, 80769)</td>\n",
       "    </tr>\n",
       "    <tr>\n",
       "      <th>13</th>\n",
       "      <td>Hadoop</td>\n",
       "      <td>(49607, 103000)</td>\n",
       "    </tr>\n",
       "    <tr>\n",
       "      <th>8</th>\n",
       "      <td>Data Science</td>\n",
       "      <td>(49439, 105240)</td>\n",
       "    </tr>\n",
       "    <tr>\n",
       "      <th>22</th>\n",
       "      <td>Microsoft SQL Server</td>\n",
       "      <td>(47106, 88554)</td>\n",
       "    </tr>\n",
       "    <tr>\n",
       "      <th>43</th>\n",
       "      <td>Tableau</td>\n",
       "      <td>(44962, 77259)</td>\n",
       "    </tr>\n",
       "    <tr>\n",
       "      <th>33</th>\n",
       "      <td>R</td>\n",
       "      <td>(44685, 76875)</td>\n",
       "    </tr>\n",
       "    <tr>\n",
       "      <th>39</th>\n",
       "      <td>Scripting</td>\n",
       "      <td>(40885, 62264)</td>\n",
       "    </tr>\n",
       "    <tr>\n",
       "      <th>19</th>\n",
       "      <td>MATLAB</td>\n",
       "      <td>(40594, 75905)</td>\n",
       "    </tr>\n",
       "    <tr>\n",
       "      <th>35</th>\n",
       "      <td>SAS</td>\n",
       "      <td>(39950, 69695)</td>\n",
       "    </tr>\n",
       "    <tr>\n",
       "      <th>37</th>\n",
       "      <td>SQL</td>\n",
       "      <td>(38465, 75096)</td>\n",
       "    </tr>\n",
       "    <tr>\n",
       "      <th>12</th>\n",
       "      <td>HBase</td>\n",
       "      <td>(38257, 71284)</td>\n",
       "    </tr>\n",
       "    <tr>\n",
       "      <th>28</th>\n",
       "      <td>Perl</td>\n",
       "      <td>(37893, 72502)</td>\n",
       "    </tr>\n",
       "    <tr>\n",
       "      <th>7</th>\n",
       "      <td>Data Analysis</td>\n",
       "      <td>(37710, 74060)</td>\n",
       "    </tr>\n",
       "    <tr>\n",
       "      <th>14</th>\n",
       "      <td>Hive</td>\n",
       "      <td>(36733, 65690)</td>\n",
       "    </tr>\n",
       "    <tr>\n",
       "      <th>42</th>\n",
       "      <td>Spark</td>\n",
       "      <td>(36563, 54436)</td>\n",
       "    </tr>\n",
       "    <tr>\n",
       "      <th>32</th>\n",
       "      <td>Python</td>\n",
       "      <td>(33711, 68374)</td>\n",
       "    </tr>\n",
       "    <tr>\n",
       "      <th>25</th>\n",
       "      <td>Natural Language Processing</td>\n",
       "      <td>(32956, 64546)</td>\n",
       "    </tr>\n",
       "    <tr>\n",
       "      <th>38</th>\n",
       "      <td>Scala</td>\n",
       "      <td>(32177, 65544)</td>\n",
       "    </tr>\n",
       "    <tr>\n",
       "      <th>10</th>\n",
       "      <td>Excel</td>\n",
       "      <td>(32133, 56241)</td>\n",
       "    </tr>\n",
       "    <tr>\n",
       "      <th>0</th>\n",
       "      <td>.Net</td>\n",
       "      <td>(31908, 58468)</td>\n",
       "    </tr>\n",
       "    <tr>\n",
       "      <th>44</th>\n",
       "      <td>TensorFlow</td>\n",
       "      <td>(31344, 64345)</td>\n",
       "    </tr>\n",
       "    <tr>\n",
       "      <th>30</th>\n",
       "      <td>PostgreSQL</td>\n",
       "      <td>(31335, 59109)</td>\n",
       "    </tr>\n",
       "    <tr>\n",
       "      <th>40</th>\n",
       "      <td>Shell Scripting</td>\n",
       "      <td>(29071, 67639)</td>\n",
       "    </tr>\n",
       "    <tr>\n",
       "      <th>36</th>\n",
       "      <td>SPSS</td>\n",
       "      <td>(28449, 55009)</td>\n",
       "    </tr>\n",
       "    <tr>\n",
       "      <th>17</th>\n",
       "      <td>Kafka</td>\n",
       "      <td>(28353, 58659)</td>\n",
       "    </tr>\n",
       "    <tr>\n",
       "      <th>21</th>\n",
       "      <td>Microsoft Office</td>\n",
       "      <td>(27816, 58190)</td>\n",
       "    </tr>\n",
       "    <tr>\n",
       "      <th>9</th>\n",
       "      <td>Data Warehouse</td>\n",
       "      <td>(27078, 53491)</td>\n",
       "    </tr>\n",
       "    <tr>\n",
       "      <th>24</th>\n",
       "      <td>MySQL</td>\n",
       "      <td>(26783, 64895)</td>\n",
       "    </tr>\n",
       "    <tr>\n",
       "      <th>27</th>\n",
       "      <td>Oracle</td>\n",
       "      <td>(25834, 63921)</td>\n",
       "    </tr>\n",
       "    <tr>\n",
       "      <th>31</th>\n",
       "      <td>Project Management</td>\n",
       "      <td>(24600, 57061)</td>\n",
       "    </tr>\n",
       "    <tr>\n",
       "      <th>15</th>\n",
       "      <td>Java</td>\n",
       "      <td>(24199, 46633)</td>\n",
       "    </tr>\n",
       "    <tr>\n",
       "      <th>41</th>\n",
       "      <td>Software Development</td>\n",
       "      <td>(22620, 63616)</td>\n",
       "    </tr>\n",
       "    <tr>\n",
       "      <th>2</th>\n",
       "      <td>AWS</td>\n",
       "      <td>(22572, 50587)</td>\n",
       "    </tr>\n",
       "    <tr>\n",
       "      <th>4</th>\n",
       "      <td>Big Data</td>\n",
       "      <td>(21717, 51935)</td>\n",
       "    </tr>\n",
       "    <tr>\n",
       "      <th>18</th>\n",
       "      <td>Linux</td>\n",
       "      <td>(21207, 43920)</td>\n",
       "    </tr>\n",
       "    <tr>\n",
       "      <th>3</th>\n",
       "      <td>Azure</td>\n",
       "      <td>(18301, 51042)</td>\n",
       "    </tr>\n",
       "    <tr>\n",
       "      <th>5</th>\n",
       "      <td>Business Intelligence</td>\n",
       "      <td>(14447, 47934)</td>\n",
       "    </tr>\n",
       "    <tr>\n",
       "      <th>34</th>\n",
       "      <td>S3</td>\n",
       "      <td>(13152, 42123)</td>\n",
       "    </tr>\n",
       "    <tr>\n",
       "      <th>23</th>\n",
       "      <td>MongoDB</td>\n",
       "      <td>(11810, 39943)</td>\n",
       "    </tr>\n",
       "    <tr>\n",
       "      <th>26</th>\n",
       "      <td>NoSQL</td>\n",
       "      <td>(11412, 34662)</td>\n",
       "    </tr>\n",
       "    <tr>\n",
       "      <th>6</th>\n",
       "      <td>C/C++</td>\n",
       "      <td>(6277, 40424)</td>\n",
       "    </tr>\n",
       "    <tr>\n",
       "      <th>16</th>\n",
       "      <td>JavaScript</td>\n",
       "      <td>(5213, 41107)</td>\n",
       "    </tr>\n",
       "    <tr>\n",
       "      <th>29</th>\n",
       "      <td>Pig</td>\n",
       "      <td>(4492, 37179)</td>\n",
       "    </tr>\n",
       "    <tr>\n",
       "      <th>11</th>\n",
       "      <td>Git</td>\n",
       "      <td>(-9959, 19668)</td>\n",
       "    </tr>\n",
       "  </tbody>\n",
       "</table>\n",
       "</div>"
      ],
      "text/plain": [
       "                          skill           salary\n",
       "20             Machine Learning  (62797, 102208)\n",
       "1                            AI   (57937, 80769)\n",
       "13                       Hadoop  (49607, 103000)\n",
       "8                  Data Science  (49439, 105240)\n",
       "22         Microsoft SQL Server   (47106, 88554)\n",
       "43                      Tableau   (44962, 77259)\n",
       "33                            R   (44685, 76875)\n",
       "39                    Scripting   (40885, 62264)\n",
       "19                       MATLAB   (40594, 75905)\n",
       "35                          SAS   (39950, 69695)\n",
       "37                          SQL   (38465, 75096)\n",
       "12                        HBase   (38257, 71284)\n",
       "28                         Perl   (37893, 72502)\n",
       "7                 Data Analysis   (37710, 74060)\n",
       "14                         Hive   (36733, 65690)\n",
       "42                        Spark   (36563, 54436)\n",
       "32                       Python   (33711, 68374)\n",
       "25  Natural Language Processing   (32956, 64546)\n",
       "38                        Scala   (32177, 65544)\n",
       "10                        Excel   (32133, 56241)\n",
       "0                          .Net   (31908, 58468)\n",
       "44                   TensorFlow   (31344, 64345)\n",
       "30                   PostgreSQL   (31335, 59109)\n",
       "40              Shell Scripting   (29071, 67639)\n",
       "36                         SPSS   (28449, 55009)\n",
       "17                        Kafka   (28353, 58659)\n",
       "21             Microsoft Office   (27816, 58190)\n",
       "9                Data Warehouse   (27078, 53491)\n",
       "24                        MySQL   (26783, 64895)\n",
       "27                       Oracle   (25834, 63921)\n",
       "31           Project Management   (24600, 57061)\n",
       "15                         Java   (24199, 46633)\n",
       "41         Software Development   (22620, 63616)\n",
       "2                           AWS   (22572, 50587)\n",
       "4                      Big Data   (21717, 51935)\n",
       "18                        Linux   (21207, 43920)\n",
       "3                         Azure   (18301, 51042)\n",
       "5         Business Intelligence   (14447, 47934)\n",
       "34                           S3   (13152, 42123)\n",
       "23                      MongoDB   (11810, 39943)\n",
       "26                        NoSQL   (11412, 34662)\n",
       "6                         C/C++    (6277, 40424)\n",
       "16                   JavaScript    (5213, 41107)\n",
       "29                          Pig    (4492, 37179)\n",
       "11                          Git   (-9959, 19668)"
      ]
     },
     "execution_count": 221,
     "metadata": {},
     "output_type": "execute_result"
    }
   ],
   "source": [
    "skill_money = {}\n",
    "skill_money_list = []\n",
    "for skill in list(X.columns)[1:]:\n",
    "    skill_money['skill'] = skill\n",
    "    skill_money['salary'] = NYC_salary_with_skills(3.6,[skill])\n",
    "    skill_money_list.append(skill_money)\n",
    "    skill_money = {}\n",
    "single_skill = pd.DataFrame(skill_money_list).sort_values('salary',ascending=False)\n",
    "single_skill"
   ]
  },
  {
   "cell_type": "code",
   "execution_count": 222,
   "metadata": {
    "ExecuteTime": {
     "end_time": "2019-11-18T22:21:40.692840Z",
     "start_time": "2019-11-18T22:21:40.687068Z"
    }
   },
   "outputs": [
    {
     "data": {
      "text/plain": [
       "['Machine Learning',\n",
       " 'AI',\n",
       " 'Hadoop',\n",
       " 'Data Science',\n",
       " 'Microsoft SQL Server',\n",
       " 'Tableau',\n",
       " 'R',\n",
       " 'Scripting',\n",
       " 'MATLAB',\n",
       " 'SAS',\n",
       " 'SQL',\n",
       " 'HBase',\n",
       " 'Perl',\n",
       " 'Data Analysis',\n",
       " 'Hive',\n",
       " 'Spark',\n",
       " 'Python',\n",
       " 'Natural Language Processing',\n",
       " 'Scala',\n",
       " 'Excel',\n",
       " '.Net',\n",
       " 'TensorFlow',\n",
       " 'PostgreSQL',\n",
       " 'Shell Scripting',\n",
       " 'SPSS',\n",
       " 'Kafka',\n",
       " 'Microsoft Office',\n",
       " 'Data Warehouse',\n",
       " 'MySQL',\n",
       " 'Oracle',\n",
       " 'Project Management',\n",
       " 'Java',\n",
       " 'Software Development',\n",
       " 'AWS',\n",
       " 'Big Data',\n",
       " 'Linux',\n",
       " 'Azure',\n",
       " 'Business Intelligence',\n",
       " 'S3',\n",
       " 'MongoDB',\n",
       " 'NoSQL',\n",
       " 'C/C++',\n",
       " 'JavaScript',\n",
       " 'Pig',\n",
       " 'Git',\n",
       " 'rating']"
      ]
     },
     "execution_count": 222,
     "metadata": {},
     "output_type": "execute_result"
    }
   ],
   "source": [
    "sel_features = list(single_skill.skill)\n",
    "sel_features.append('rating')\n",
    "sel_features"
   ]
  },
  {
   "cell_type": "code",
   "execution_count": 223,
   "metadata": {
    "ExecuteTime": {
     "end_time": "2019-11-18T22:21:41.759558Z",
     "start_time": "2019-11-18T22:21:41.755333Z"
    }
   },
   "outputs": [
    {
     "data": {
      "text/plain": [
       "46"
      ]
     },
     "execution_count": 223,
     "metadata": {},
     "output_type": "execute_result"
    }
   ],
   "source": [
    "len(sel_features)"
   ]
  },
  {
   "cell_type": "code",
   "execution_count": 261,
   "metadata": {
    "ExecuteTime": {
     "end_time": "2019-11-18T22:43:28.676467Z",
     "start_time": "2019-11-18T22:43:28.343781Z"
    }
   },
   "outputs": [],
   "source": [
    "import pickle\n",
    "import pandas as pd\n",
    "import numpy as np\n",
    "xgb_model_min_loaded = pickle.load(open('ny_min_xgb_model_min.pickle', \"rb\"))\n",
    "xgb_model_max_loaded = pickle.load(open('ny_max_xgb_model_min.pickle', \"rb\"))\n",
    "\n",
    "\n",
    "### Remember to move'rating' to the first postion!!!\n",
    "sel_features = ['rating','.Net', 'AI', 'AWS', 'Azure', 'Big Data', 'Business Intelligence',\n",
    "                'C/C++', 'Data Analysis', 'Data Science', 'Data Warehouse', 'Excel',\n",
    "                'Git', 'HBase', 'Hadoop', 'Hive', 'Java', 'JavaScript', 'Kafka',\n",
    "                'Linux', 'MATLAB', 'Machine Learning', 'Microsoft Office',\n",
    "                'Microsoft SQL Server', 'MongoDB', 'MySQL', 'Natural Language Processing',\n",
    "                'NoSQL', 'Oracle', 'Perl', 'Pig', 'PostgreSQL', 'Project Management',\n",
    "                'Python', 'R', 'S3', 'SAS', 'SPSS', 'SQL', 'Scala', 'Scripting',\n",
    "                'Shell Scripting', 'Software Development', 'Spark', 'Tableau', 'TensorFlow']\n",
    "\n",
    "def nyc_salary_with_skills(rating, inputs_list):\n",
    "    sample_list = [0] * (len(sel_features))\n",
    "    input_X = pd.DataFrame([sample_list],\n",
    "                           columns=list(sel_features))\n",
    "\n",
    "    for inputs in inputs_list:\n",
    "        if inputs in list(input_X.columns):\n",
    "            input_X[inputs] = 1\n",
    "    input_X['rating'] = float(rating)\n",
    "    salary = (int(xgb_model_min_loaded.predict(input_X[:1])), int(xgb_model_max_loaded.predict(input_X[:1])))\n",
    "    return salary\n",
    "\n",
    "skill_money = {}\n",
    "skill_money_list = []\n",
    "for skill in sel_features[1:]:\n",
    "    skill_money['skill'] = skill\n",
    "    skill_money['salary'] = nyc_salary_with_skills(3.6, [skill])\n",
    "    skill_money_list.append(skill_money)\n",
    "    skill_money = {}\n",
    "single_skill = pd.DataFrame(skill_money_list).sort_values('salary', ascending=False)"
   ]
  },
  {
   "cell_type": "code",
   "execution_count": 262,
   "metadata": {
    "ExecuteTime": {
     "end_time": "2019-11-18T22:43:30.611496Z",
     "start_time": "2019-11-18T22:43:30.601794Z"
    }
   },
   "outputs": [],
   "source": [
    "def nyc_salary_with_skills_and(rating, inputs_list):\n",
    "\n",
    "    sample_list = [0] * (len(sel_features))\n",
    "    input_x = pd.DataFrame([sample_list],\n",
    "                           columns=list(sel_features))\n",
    "\n",
    "    for inputs in inputs_list:\n",
    "        if inputs in list(input_x.columns):\n",
    "            input_x[inputs] = 1\n",
    "    salary_min = int(xgb_model_min_loaded.predict(input_x[:1]))\n",
    "    salary_max = int(xgb_model_max_loaded.predict(input_x[:1]))\n",
    "\n",
    "    # suggest skill with more salary\n",
    "    suggest_list = []\n",
    "    all_list = inputs_list\n",
    "\n",
    "    for skill in single_skill['skill'][:10]:\n",
    "        if skill not in inputs_list:\n",
    "            suggest_list.append(skill)\n",
    "\n",
    "        suggest_list_salary = {}\n",
    "        suggest_list_salary_list = []\n",
    "        for skill in suggest_list:\n",
    "            all_list = []\n",
    "            all_list = inputs_list + [skill]\n",
    "            suggest_list_salary['skill'] = skill\n",
    "            suggest_list_salary['salary'] = int(np.subtract(nyc_salary_with_skills(rating, all_list),\n",
    "                                                            nyc_salary_with_skills(rating, inputs_list)).mean())\n",
    "            suggest_list_salary_list.append(suggest_list_salary)\n",
    "            suggest_list_salary = {}\n",
    "    suggest_skills = pd.DataFrame(suggest_list_salary_list).sort_values('salary', ascending=True)\n",
    "    suggest_skills = suggest_skills[suggest_skills['salary'] > 0]\n",
    "    suggest_skills.columns = ['Skill', 'Salary_Increase']\n",
    "    return {'Min_Salary': salary_min, 'Max_Salary': salary_max, 'Suggest_Skills': suggest_skills}"
   ]
  },
  {
   "cell_type": "code",
   "execution_count": 263,
   "metadata": {
    "ExecuteTime": {
     "end_time": "2019-11-18T22:43:33.344966Z",
     "start_time": "2019-11-18T22:43:32.705527Z"
    },
    "scrolled": true
   },
   "outputs": [
    {
     "data": {
      "text/plain": [
       "{'Min_Salary': 61079,\n",
       " 'Max_Salary': 79164,\n",
       " 'Suggest_Skills':                   Skill  Salary_Increase\n",
       " 5             Scripting             3587\n",
       " 2                Hadoop             4000\n",
       " 0      Machine Learning             5519\n",
       " 6                MATLAB            10065\n",
       " 4  Microsoft SQL Server            19872\n",
       " 1                    AI            21168\n",
       " 3          Data Science            35214}"
      ]
     },
     "execution_count": 263,
     "metadata": {},
     "output_type": "execute_result"
    }
   ],
   "source": [
    "NYC_salary_with_skills_and(3.6,['Python','R','Tableau','TensorFlow'])"
   ]
  },
  {
   "cell_type": "code",
   "execution_count": null,
   "metadata": {},
   "outputs": [],
   "source": []
  }
 ],
 "metadata": {
  "kernelspec": {
   "display_name": "Python 3",
   "language": "python",
   "name": "python3"
  },
  "language_info": {
   "codemirror_mode": {
    "name": "ipython",
    "version": 3
   },
   "file_extension": ".py",
   "mimetype": "text/x-python",
   "name": "python",
   "nbconvert_exporter": "python",
   "pygments_lexer": "ipython3",
   "version": "3.7.3"
  }
 },
 "nbformat": 4,
 "nbformat_minor": 2
}
