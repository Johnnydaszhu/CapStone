{
 "cells": [
  {
   "cell_type": "code",
   "execution_count": 11,
   "metadata": {
    "ExecuteTime": {
     "end_time": "2019-11-17T15:18:21.338456Z",
     "start_time": "2019-11-17T15:18:21.166465Z"
    }
   },
   "outputs": [],
   "source": [
    "import pickle\n",
    "import pandas as pd\n",
    "import numpy as np\n",
    "xgb_model_min_loaded = pickle.load(open('ny_min_xgb_model_min.pickle', \"rb\"))\n",
    "xgb_model_max_loaded = pickle.load(open('ny_max_xgb_model_min.pickle', \"rb\"))\n",
    "\n",
    "\n",
    "sel_features = ['rating', 'AI', 'AWS', 'Azure', 'Big-Data', 'C/C++', 'Data-Analysis',\n",
    "       'Data-Warehouse', 'Hadoop', 'Hive', 'Java', 'Kafka', 'Linux', 'MATLAB',\n",
    "       'Machine-Learning', 'Microsoft-Office', 'Microsoft-SQL-Server',\n",
    "       'Natural-Language-Processing', 'NoSQL', 'Oracle', 'Pig', 'Python', 'R',\n",
    "       'SAS', 'SQL', 'Scala', 'Scripting', 'Spark', 'Tableau', 'TensorFlow']\n",
    "\n",
    "def NYC_salary_with_skills(rating,inputs_list):\n",
    "    sample_list = [0] * (len(sel_features))\n",
    "        input_X = pd.DataFrame([sample_list],\n",
    "                               columns=list(sel_features))\n",
    "\n",
    "        for inputs in inputs_list:\n",
    "            if inputs in list(input_X.columns):\n",
    "                input_X[inputs] = 1\n",
    "        input_X['rating'] = float(rating)\n",
    "        salary = (int(xgb_model_min_loaded.predict(input_X[:1])), int(xgb_model_max_loaded.predict(input_X[:1])))\n",
    "        return salary\n",
    "\n",
    "    skill_money = {}\n",
    "    skill_money_list = []\n",
    "    for skill in sel_features[1:]:\n",
    "        skill_money['skill'] = skill\n",
    "        skill_money['salary'] = nyc_salary_with_skills(3.6, [skill])\n",
    "        skill_money_list.append(skill_money)\n",
    "        skill_money = {}\n",
    "    single_skill = pd.DataFrame(skill_money_list).sort_values('salary', ascending=False)"
   ]
  },
  {
   "cell_type": "code",
   "execution_count": 22,
   "metadata": {
    "ExecuteTime": {
     "end_time": "2019-11-17T15:25:31.321708Z",
     "start_time": "2019-11-17T15:25:31.311374Z"
    }
   },
   "outputs": [],
   "source": [
    "def NYC_salary_with_skills_and(rating, inputs_list):\n",
    "    \n",
    "    sample_list = [0] * (len(sel_features))\n",
    "    input_x = pd.DataFrame([sample_list],\n",
    "                 columns =list(sel_features))\n",
    "\n",
    "    for inputs in inputs_list:\n",
    "        if inputs in list(input_x.columns):\n",
    "            input_x[inputs] = 1\n",
    "    salary_min = int(xgb_model_min_loaded.predict(input_x[:1]))\n",
    "    salary_max = int(xgb_model_max_loaded.predict(input_x[:1]))\n",
    "\n",
    "    \n",
    "    # suggest skill with more salary    \n",
    "    suggest_list = []\n",
    "    all_list = inputs_list\n",
    "\n",
    "    for skill in single_skill['skill'][:10]:\n",
    "        if skill not in inputs_list:\n",
    "            suggest_list.append(skill)\n",
    "\n",
    "        suggest_list_salary = {}\n",
    "        suggest_list_salary_list = []\n",
    "        for skill in suggest_list:\n",
    "            all_list = []\n",
    "            all_list = inputs_list+ [skill]\n",
    "            suggest_list_salary['skill'] = skill\n",
    "            suggest_list_salary['salary'] = int(np.subtract(NYC_salary_with_skills(rating,all_list), NYC_salary_with_skills(rating,inputs_list)).mean())\n",
    "            suggest_list_salary_list.append(suggest_list_salary)\n",
    "            suggest_list_salary = {}\n",
    "    suggest_skills = pd.DataFrame(suggest_list_salary_list).sort_values('salary',ascending=False)\n",
    "    suggest_skills = suggest_skills[suggest_skills['salary'] > 0 ]\n",
    "    suggest_skills.columns = ['Skill', 'Salary increase by $']\n",
    "    return {'Min_Salary': salary_min, 'Max_Salary': salary_max, 'Suggest_Skills': suggest_skills}"
   ]
  },
  {
   "cell_type": "code",
   "execution_count": 23,
   "metadata": {
    "ExecuteTime": {
     "end_time": "2019-11-17T15:25:32.333169Z",
     "start_time": "2019-11-17T15:25:31.864546Z"
    },
    "scrolled": true
   },
   "outputs": [
    {
     "data": {
      "text/plain": [
       "{'Min_Salary': 32175,\n",
       " 'Max_Salary': 57647,\n",
       " 'Suggest_Skills':                   Skill  Salary increase by $\n",
       " 0            TensorFlow                105208\n",
       " 1                Oracle                 29744\n",
       " 2      Machine-Learning                 27007\n",
       " 6                   SQL                 15390\n",
       " 3  Microsoft-SQL-Server                 14608\n",
       " 5                   Pig                  7981\n",
       " 4              Big-Data                  6840\n",
       " 7                    AI                  2972}"
      ]
     },
     "execution_count": 23,
     "metadata": {},
     "output_type": "execute_result"
    }
   ],
   "source": [
    "NYC_salary_with_skills_and(3.6,['MySql','R','Tableau','Python'])"
   ]
  },
  {
   "cell_type": "code",
   "execution_count": 26,
   "metadata": {
    "ExecuteTime": {
     "end_time": "2019-11-17T15:30:26.104635Z",
     "start_time": "2019-11-17T15:30:26.101713Z"
    }
   },
   "outputs": [],
   "source": [
    "rating=3.6\n",
    "inputs_list=['MySql','R','Tableau','Python']"
   ]
  },
  {
   "cell_type": "code",
   "execution_count": 36,
   "metadata": {
    "ExecuteTime": {
     "end_time": "2019-11-17T16:46:28.903578Z",
     "start_time": "2019-11-17T16:46:28.363479Z"
    }
   },
   "outputs": [
    {
     "data": {
      "text/plain": [
       "'[{\"Skill\":\"TensorFlow\",\"Salary increase by $\":105208},{\"Skill\":\"Oracle\",\"Salary increase by $\":29744},{\"Skill\":\"Machine-Learning\",\"Salary increase by $\":27007},{\"Skill\":\"SQL\",\"Salary increase by $\":15390},{\"Skill\":\"Microsoft-SQL-Server\",\"Salary increase by $\":14608},{\"Skill\":\"Pig\",\"Salary increase by $\":7981},{\"Skill\":\"Big-Data\",\"Salary increase by $\":6840},{\"Skill\":\"AI\",\"Salary increase by $\":2972}]'"
      ]
     },
     "execution_count": 36,
     "metadata": {},
     "output_type": "execute_result"
    }
   ],
   "source": [
    "Suggest_Skills = NYC_salary_with_skills_and(rating, inputs_list)['Suggest_Skills']\n",
    "Suggest_Skills.to_json(orient='records')"
   ]
  },
  {
   "cell_type": "code",
   "execution_count": null,
   "metadata": {},
   "outputs": [],
   "source": [
    "json.dumps"
   ]
  }
 ],
 "metadata": {
  "kernelspec": {
   "display_name": "Python 3",
   "language": "python",
   "name": "python3"
  },
  "language_info": {
   "codemirror_mode": {
    "name": "ipython",
    "version": 3
   },
   "file_extension": ".py",
   "mimetype": "text/x-python",
   "name": "python",
   "nbconvert_exporter": "python",
   "pygments_lexer": "ipython3",
   "version": "3.7.3"
  }
 },
 "nbformat": 4,
 "nbformat_minor": 2
}
