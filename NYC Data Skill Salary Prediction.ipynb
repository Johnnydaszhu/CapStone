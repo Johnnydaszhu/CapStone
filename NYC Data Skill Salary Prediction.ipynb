{
 "cells": [
  {
   "cell_type": "code",
   "execution_count": 9,
   "metadata": {
    "ExecuteTime": {
     "end_time": "2019-11-26T02:43:00.963191Z",
     "start_time": "2019-11-26T02:43:00.944195Z"
    }
   },
   "outputs": [],
   "source": [
    "import pickle\n",
    "import pandas as pd\n",
    "import numpy as np\n",
    "xgb_model_min_loaded = pickle.load(open('ny_min_xgb_model_min.pickle', \"rb\"))\n",
    "xgb_model_max_loaded = pickle.load(open('ny_max_xgb_model_min.pickle', \"rb\"))\n",
    "\n",
    "\n",
    "sel_features = ['rating','.Net', 'AI', 'AWS', 'Azure', 'Big Data', 'Business Intelligence',\n",
    "                'C/C++', 'Data Analysis', 'Data Science', 'Data Warehouse', 'Excel',\n",
    "                'Git', 'HBase', 'Hadoop', 'Hive', 'Java', 'JavaScript', 'Kafka',\n",
    "                'Linux', 'MATLAB', 'Machine Learning', 'Microsoft Office',\n",
    "                'Microsoft SQL Server', 'MongoDB', 'MySQL', 'Natural Language Processing',\n",
    "                'NoSQL', 'Oracle', 'Perl', 'Pig', 'PostgreSQL', 'Project Management',\n",
    "                'Python', 'R', 'S3', 'SAS', 'SPSS', 'SQL', 'Scala', 'Scripting',\n",
    "                'Shell Scripting', 'Software Development', 'Spark', 'Tableau', 'TensorFlow']\n",
    "\n",
    "def NYC_salary_with_skills(rating,inputs_list):\n",
    "    sample_list = [0] * (len(sel_features))\n",
    "    input_X = pd.DataFrame([sample_list],\n",
    "                               columns=list(sel_features))\n",
    "    for inputs in inputs_list:\n",
    "        if inputs in list(input_X.columns):\n",
    "            input_X[inputs] = 1\n",
    "    input_X['rating'] = float(rating)\n",
    "    salary = (int(xgb_model_min_loaded.predict(input_X[:1])), int(xgb_model_max_loaded.predict(input_X[:1])))\n",
    "    return salary\n",
    "\n",
    "    skill_money = {}\n",
    "    skill_money_list = []\n",
    "    for skill in sel_features[1:]:\n",
    "        skill_money['skill'] = skill\n",
    "        skill_money['salary'] = nyc_salary_with_skills(3.6, [skill])\n",
    "        skill_money_list.append(skill_money)\n",
    "        skill_money = {}\n",
    "    single_skill = pd.DataFrame(skill_money_list).sort_values('salary', ascending=False)"
   ]
  },
  {
   "cell_type": "code",
   "execution_count": 10,
   "metadata": {
    "ExecuteTime": {
     "end_time": "2019-11-26T02:43:01.564344Z",
     "start_time": "2019-11-26T02:43:01.555926Z"
    }
   },
   "outputs": [],
   "source": [
    "def NYC_salary_with_skills_and(rating, inputs_list):\n",
    "    \n",
    "    sample_list = [0] * (len(sel_features))\n",
    "    input_x = pd.DataFrame([sample_list],\n",
    "                 columns =list(sel_features))\n",
    "\n",
    "    for inputs in inputs_list:\n",
    "        if inputs in list(input_x.columns):\n",
    "            input_x[inputs] = 1\n",
    "    salary_min = int(xgb_model_min_loaded.predict(input_x[:1]))\n",
    "    salary_max = int(xgb_model_max_loaded.predict(input_x[:1]))\n",
    "\n",
    "    \n",
    "    # suggest skill with more salary    \n",
    "    suggest_list = []\n",
    "    all_list = inputs_list\n",
    "\n",
    "    for skill in single_skill['skill'][:10]:\n",
    "        if skill not in inputs_list:\n",
    "            suggest_list.append(skill)\n",
    "\n",
    "        suggest_list_salary = {}\n",
    "        suggest_list_salary_list = []\n",
    "        for skill in suggest_list:\n",
    "            all_list = []\n",
    "            all_list = inputs_list+ [skill]\n",
    "            suggest_list_salary['skill'] = skill\n",
    "            suggest_list_salary['salary'] = int(np.subtract(NYC_salary_with_skills(rating,all_list), NYC_salary_with_skills(rating,inputs_list)).mean())\n",
    "            suggest_list_salary_list.append(suggest_list_salary)\n",
    "            suggest_list_salary = {}\n",
    "    suggest_skills = pd.DataFrame(suggest_list_salary_list).sort_values('salary',ascending=False)\n",
    "    suggest_skills = suggest_skills[suggest_skills['salary'] > 0 ]\n",
    "    suggest_skills.columns = ['Skill', 'Salary increase by $']\n",
    "    return {'Min_Salary': salary_min, 'Max_Salary': salary_max, 'Suggest_Skills': suggest_skills}"
   ]
  },
  {
   "cell_type": "code",
   "execution_count": 8,
   "metadata": {
    "ExecuteTime": {
     "end_time": "2019-11-26T02:42:37.903665Z",
     "start_time": "2019-11-26T02:42:37.859045Z"
    },
    "scrolled": true
   },
   "outputs": [
    {
     "ename": "ValueError",
     "evalue": "feature_names mismatch: ['rating', '.Net', 'AI', 'AWS', 'Azure', 'Big Data', 'Business Intelligence', 'C/C++', 'Data Analysis', 'Data Science', 'Data Warehouse', 'Excel', 'Git', 'HBase', 'Hadoop', 'Hive', 'Java', 'JavaScript', 'Kafka', 'Linux', 'MATLAB', 'Machine Learning', 'Microsoft Office', 'Microsoft SQL Server', 'MongoDB', 'MySQL', 'Natural Language Processing', 'NoSQL', 'Oracle', 'Perl', 'Pig', 'PostgreSQL', 'Project Management', 'Python', 'R', 'S3', 'SAS', 'SPSS', 'SQL', 'Scala', 'Scripting', 'Shell Scripting', 'Software Development', 'Spark', 'Tableau', 'TensorFlow'] ['rating', 'AI', 'AWS', 'Azure', 'Big-Data', 'C/C++', 'Data-Analysis', 'Data-Warehouse', 'Hadoop', 'Hive', 'Java', 'Kafka', 'Linux', 'MATLAB', 'Machine-Learning', 'Microsoft-Office', 'Microsoft-SQL-Server', 'Natural-Language-Processing', 'NoSQL', 'Oracle', 'Pig', 'Python', 'R', 'SAS', 'SQL', 'Scala', 'Scripting', 'Spark', 'Tableau', 'TensorFlow']\nexpected Natural Language Processing, Software Development, Microsoft Office, MongoDB, Data Science, Microsoft SQL Server, Project Management, MySQL, Data Warehouse, Big Data, Business Intelligence, PostgreSQL, SPSS, Shell Scripting, Excel, Machine Learning, JavaScript, Data Analysis, S3, Perl, HBase, Git, .Net in input data\ntraining data did not have the following fields: Microsoft-SQL-Server, Data-Analysis, Big-Data, Microsoft-Office, Data-Warehouse, Machine-Learning, Natural-Language-Processing",
     "output_type": "error",
     "traceback": [
      "\u001b[0;31m---------------------------------------------------------------------------\u001b[0m",
      "\u001b[0;31mValueError\u001b[0m                                Traceback (most recent call last)",
      "\u001b[0;32m<ipython-input-8-02d0aec9910e>\u001b[0m in \u001b[0;36m<module>\u001b[0;34m\u001b[0m\n\u001b[0;32m----> 1\u001b[0;31m \u001b[0mNYC_salary_with_skills_and\u001b[0m\u001b[0;34m(\u001b[0m\u001b[0;36m3.6\u001b[0m\u001b[0;34m,\u001b[0m\u001b[0;34m[\u001b[0m\u001b[0;34m'MySql'\u001b[0m\u001b[0;34m,\u001b[0m\u001b[0;34m'R'\u001b[0m\u001b[0;34m,\u001b[0m\u001b[0;34m'Tableau'\u001b[0m\u001b[0;34m,\u001b[0m\u001b[0;34m'Python'\u001b[0m\u001b[0;34m]\u001b[0m\u001b[0;34m)\u001b[0m\u001b[0;34m\u001b[0m\u001b[0;34m\u001b[0m\u001b[0m\n\u001b[0m",
      "\u001b[0;32m<ipython-input-7-6d6abdf05e81>\u001b[0m in \u001b[0;36mNYC_salary_with_skills_and\u001b[0;34m(rating, inputs_list)\u001b[0m\n\u001b[1;32m      8\u001b[0m         \u001b[0;32mif\u001b[0m \u001b[0minputs\u001b[0m \u001b[0;32min\u001b[0m \u001b[0mlist\u001b[0m\u001b[0;34m(\u001b[0m\u001b[0minput_x\u001b[0m\u001b[0;34m.\u001b[0m\u001b[0mcolumns\u001b[0m\u001b[0;34m)\u001b[0m\u001b[0;34m:\u001b[0m\u001b[0;34m\u001b[0m\u001b[0;34m\u001b[0m\u001b[0m\n\u001b[1;32m      9\u001b[0m             \u001b[0minput_x\u001b[0m\u001b[0;34m[\u001b[0m\u001b[0minputs\u001b[0m\u001b[0;34m]\u001b[0m \u001b[0;34m=\u001b[0m \u001b[0;36m1\u001b[0m\u001b[0;34m\u001b[0m\u001b[0;34m\u001b[0m\u001b[0m\n\u001b[0;32m---> 10\u001b[0;31m     \u001b[0msalary_min\u001b[0m \u001b[0;34m=\u001b[0m \u001b[0mint\u001b[0m\u001b[0;34m(\u001b[0m\u001b[0mxgb_model_min_loaded\u001b[0m\u001b[0;34m.\u001b[0m\u001b[0mpredict\u001b[0m\u001b[0;34m(\u001b[0m\u001b[0minput_x\u001b[0m\u001b[0;34m[\u001b[0m\u001b[0;34m:\u001b[0m\u001b[0;36m1\u001b[0m\u001b[0;34m]\u001b[0m\u001b[0;34m)\u001b[0m\u001b[0;34m)\u001b[0m\u001b[0;34m\u001b[0m\u001b[0;34m\u001b[0m\u001b[0m\n\u001b[0m\u001b[1;32m     11\u001b[0m     \u001b[0msalary_max\u001b[0m \u001b[0;34m=\u001b[0m \u001b[0mint\u001b[0m\u001b[0;34m(\u001b[0m\u001b[0mxgb_model_max_loaded\u001b[0m\u001b[0;34m.\u001b[0m\u001b[0mpredict\u001b[0m\u001b[0;34m(\u001b[0m\u001b[0minput_x\u001b[0m\u001b[0;34m[\u001b[0m\u001b[0;34m:\u001b[0m\u001b[0;36m1\u001b[0m\u001b[0;34m]\u001b[0m\u001b[0;34m)\u001b[0m\u001b[0;34m)\u001b[0m\u001b[0;34m\u001b[0m\u001b[0;34m\u001b[0m\u001b[0m\n\u001b[1;32m     12\u001b[0m \u001b[0;34m\u001b[0m\u001b[0m\n",
      "\u001b[0;32m/usr/local/lib/python3.7/site-packages/xgboost/sklearn.py\u001b[0m in \u001b[0;36mpredict\u001b[0;34m(self, data, output_margin, ntree_limit, validate_features)\u001b[0m\n\u001b[1;32m    454\u001b[0m                                           \u001b[0moutput_margin\u001b[0m\u001b[0;34m=\u001b[0m\u001b[0moutput_margin\u001b[0m\u001b[0;34m,\u001b[0m\u001b[0;34m\u001b[0m\u001b[0;34m\u001b[0m\u001b[0m\n\u001b[1;32m    455\u001b[0m                                           \u001b[0mntree_limit\u001b[0m\u001b[0;34m=\u001b[0m\u001b[0mntree_limit\u001b[0m\u001b[0;34m,\u001b[0m\u001b[0;34m\u001b[0m\u001b[0;34m\u001b[0m\u001b[0m\n\u001b[0;32m--> 456\u001b[0;31m                                           validate_features=validate_features)\n\u001b[0m\u001b[1;32m    457\u001b[0m \u001b[0;34m\u001b[0m\u001b[0m\n\u001b[1;32m    458\u001b[0m     \u001b[0;32mdef\u001b[0m \u001b[0mapply\u001b[0m\u001b[0;34m(\u001b[0m\u001b[0mself\u001b[0m\u001b[0;34m,\u001b[0m \u001b[0mX\u001b[0m\u001b[0;34m,\u001b[0m \u001b[0mntree_limit\u001b[0m\u001b[0;34m=\u001b[0m\u001b[0;36m0\u001b[0m\u001b[0;34m)\u001b[0m\u001b[0;34m:\u001b[0m\u001b[0;34m\u001b[0m\u001b[0;34m\u001b[0m\u001b[0m\n",
      "\u001b[0;32m/usr/local/lib/python3.7/site-packages/xgboost/core.py\u001b[0m in \u001b[0;36mpredict\u001b[0;34m(self, data, output_margin, ntree_limit, pred_leaf, pred_contribs, approx_contribs, pred_interactions, validate_features)\u001b[0m\n\u001b[1;32m   1282\u001b[0m \u001b[0;34m\u001b[0m\u001b[0m\n\u001b[1;32m   1283\u001b[0m         \u001b[0;32mif\u001b[0m \u001b[0mvalidate_features\u001b[0m\u001b[0;34m:\u001b[0m\u001b[0;34m\u001b[0m\u001b[0;34m\u001b[0m\u001b[0m\n\u001b[0;32m-> 1284\u001b[0;31m             \u001b[0mself\u001b[0m\u001b[0;34m.\u001b[0m\u001b[0m_validate_features\u001b[0m\u001b[0;34m(\u001b[0m\u001b[0mdata\u001b[0m\u001b[0;34m)\u001b[0m\u001b[0;34m\u001b[0m\u001b[0;34m\u001b[0m\u001b[0m\n\u001b[0m\u001b[1;32m   1285\u001b[0m \u001b[0;34m\u001b[0m\u001b[0m\n\u001b[1;32m   1286\u001b[0m         \u001b[0mlength\u001b[0m \u001b[0;34m=\u001b[0m \u001b[0mc_bst_ulong\u001b[0m\u001b[0;34m(\u001b[0m\u001b[0;34m)\u001b[0m\u001b[0;34m\u001b[0m\u001b[0;34m\u001b[0m\u001b[0m\n",
      "\u001b[0;32m/usr/local/lib/python3.7/site-packages/xgboost/core.py\u001b[0m in \u001b[0;36m_validate_features\u001b[0;34m(self, data)\u001b[0m\n\u001b[1;32m   1688\u001b[0m \u001b[0;34m\u001b[0m\u001b[0m\n\u001b[1;32m   1689\u001b[0m                 raise ValueError(msg.format(self.feature_names,\n\u001b[0;32m-> 1690\u001b[0;31m                                             data.feature_names))\n\u001b[0m\u001b[1;32m   1691\u001b[0m \u001b[0;34m\u001b[0m\u001b[0m\n\u001b[1;32m   1692\u001b[0m     \u001b[0;32mdef\u001b[0m \u001b[0mget_split_value_histogram\u001b[0m\u001b[0;34m(\u001b[0m\u001b[0mself\u001b[0m\u001b[0;34m,\u001b[0m \u001b[0mfeature\u001b[0m\u001b[0;34m,\u001b[0m \u001b[0mfmap\u001b[0m\u001b[0;34m=\u001b[0m\u001b[0;34m''\u001b[0m\u001b[0;34m,\u001b[0m \u001b[0mbins\u001b[0m\u001b[0;34m=\u001b[0m\u001b[0;32mNone\u001b[0m\u001b[0;34m,\u001b[0m \u001b[0mas_pandas\u001b[0m\u001b[0;34m=\u001b[0m\u001b[0;32mTrue\u001b[0m\u001b[0;34m)\u001b[0m\u001b[0;34m:\u001b[0m\u001b[0;34m\u001b[0m\u001b[0;34m\u001b[0m\u001b[0m\n",
      "\u001b[0;31mValueError\u001b[0m: feature_names mismatch: ['rating', '.Net', 'AI', 'AWS', 'Azure', 'Big Data', 'Business Intelligence', 'C/C++', 'Data Analysis', 'Data Science', 'Data Warehouse', 'Excel', 'Git', 'HBase', 'Hadoop', 'Hive', 'Java', 'JavaScript', 'Kafka', 'Linux', 'MATLAB', 'Machine Learning', 'Microsoft Office', 'Microsoft SQL Server', 'MongoDB', 'MySQL', 'Natural Language Processing', 'NoSQL', 'Oracle', 'Perl', 'Pig', 'PostgreSQL', 'Project Management', 'Python', 'R', 'S3', 'SAS', 'SPSS', 'SQL', 'Scala', 'Scripting', 'Shell Scripting', 'Software Development', 'Spark', 'Tableau', 'TensorFlow'] ['rating', 'AI', 'AWS', 'Azure', 'Big-Data', 'C/C++', 'Data-Analysis', 'Data-Warehouse', 'Hadoop', 'Hive', 'Java', 'Kafka', 'Linux', 'MATLAB', 'Machine-Learning', 'Microsoft-Office', 'Microsoft-SQL-Server', 'Natural-Language-Processing', 'NoSQL', 'Oracle', 'Pig', 'Python', 'R', 'SAS', 'SQL', 'Scala', 'Scripting', 'Spark', 'Tableau', 'TensorFlow']\nexpected Natural Language Processing, Software Development, Microsoft Office, MongoDB, Data Science, Microsoft SQL Server, Project Management, MySQL, Data Warehouse, Big Data, Business Intelligence, PostgreSQL, SPSS, Shell Scripting, Excel, Machine Learning, JavaScript, Data Analysis, S3, Perl, HBase, Git, .Net in input data\ntraining data did not have the following fields: Microsoft-SQL-Server, Data-Analysis, Big-Data, Microsoft-Office, Data-Warehouse, Machine-Learning, Natural-Language-Processing"
     ]
    }
   ],
   "source": [
    "NYC_salary_with_skills_and(3.6,['MySql','R','Tableau','Python'])"
   ]
  },
  {
   "cell_type": "code",
   "execution_count": 26,
   "metadata": {
    "ExecuteTime": {
     "end_time": "2019-11-17T15:30:26.104635Z",
     "start_time": "2019-11-17T15:30:26.101713Z"
    }
   },
   "outputs": [],
   "source": [
    "rating=3.6\n",
    "inputs_list=['MySql','R','Tableau','Python']"
   ]
  },
  {
   "cell_type": "code",
   "execution_count": 36,
   "metadata": {
    "ExecuteTime": {
     "end_time": "2019-11-17T16:46:28.903578Z",
     "start_time": "2019-11-17T16:46:28.363479Z"
    }
   },
   "outputs": [
    {
     "data": {
      "text/plain": [
       "'[{\"Skill\":\"TensorFlow\",\"Salary increase by $\":105208},{\"Skill\":\"Oracle\",\"Salary increase by $\":29744},{\"Skill\":\"Machine-Learning\",\"Salary increase by $\":27007},{\"Skill\":\"SQL\",\"Salary increase by $\":15390},{\"Skill\":\"Microsoft-SQL-Server\",\"Salary increase by $\":14608},{\"Skill\":\"Pig\",\"Salary increase by $\":7981},{\"Skill\":\"Big-Data\",\"Salary increase by $\":6840},{\"Skill\":\"AI\",\"Salary increase by $\":2972}]'"
      ]
     },
     "execution_count": 36,
     "metadata": {},
     "output_type": "execute_result"
    }
   ],
   "source": [
    "Suggest_Skills = NYC_salary_with_skills_and(rating, inputs_list)['Suggest_Skills']\n",
    "Suggest_Skills.to_json(orient='records')"
   ]
  },
  {
   "cell_type": "code",
   "execution_count": null,
   "metadata": {},
   "outputs": [],
   "source": [
    "json.dumps"
   ]
  }
 ],
 "metadata": {
  "kernelspec": {
   "display_name": "Python 3",
   "language": "python",
   "name": "python3"
  },
  "language_info": {
   "codemirror_mode": {
    "name": "ipython",
    "version": 3
   },
   "file_extension": ".py",
   "mimetype": "text/x-python",
   "name": "python",
   "nbconvert_exporter": "python",
   "pygments_lexer": "ipython3",
   "version": "3.7.5"
  },
  "toc": {
   "base_numbering": 1,
   "nav_menu": {},
   "number_sections": true,
   "sideBar": true,
   "skip_h1_title": false,
   "title_cell": "Table of Contents",
   "title_sidebar": "Contents",
   "toc_cell": false,
   "toc_position": {},
   "toc_section_display": true,
   "toc_window_display": false
  }
 },
 "nbformat": 4,
 "nbformat_minor": 2
}
