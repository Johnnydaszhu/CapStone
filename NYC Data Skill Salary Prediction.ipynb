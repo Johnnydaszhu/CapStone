{
 "cells": [
  {
   "cell_type": "markdown",
   "metadata": {},
   "source": [
    "### ML for Flask"
   ]
  },
  {
   "cell_type": "code",
   "execution_count": 2,
   "metadata": {
    "ExecuteTime": {
     "end_time": "2019-11-27T05:45:30.450187Z",
     "start_time": "2019-11-27T05:45:29.769044Z"
    }
   },
   "outputs": [],
   "source": [
    "import pickle\n",
    "import pandas as pd\n",
    "import numpy as np\n",
    "xgb_model_min_loaded = pickle.load(open('ny_min_xgb_model_min.pickle', \"rb\"))\n",
    "xgb_model_max_loaded = pickle.load(open('ny_max_xgb_model_min.pickle', \"rb\"))\n",
    "\n",
    "\n",
    "sel_features = ['rating','.Net', 'AI', 'AWS', 'Azure', 'Big Data', 'Business Intelligence',\n",
    "                'C/C++', 'Data Analysis', 'Data Science', 'Data Warehouse', 'Excel',\n",
    "                'Git', 'HBase', 'Hadoop', 'Hive', 'Java', 'JavaScript', 'Kafka',\n",
    "                'Linux', 'MATLAB', 'Machine Learning', 'Microsoft Office',\n",
    "                'Microsoft SQL Server', 'MongoDB', 'MySQL', 'Natural Language Processing',\n",
    "                'NoSQL', 'Oracle', 'Perl', 'Pig', 'PostgreSQL', 'Project Management',\n",
    "                'Python', 'R', 'S3', 'SAS', 'SPSS', 'SQL', 'Scala', 'Scripting',\n",
    "                'Shell Scripting', 'Software Development', 'Spark', 'Tableau', 'TensorFlow']\n",
    "\n",
    "def nyc_salary_with_skills(rating,inputs_list):\n",
    "    sample_list = [0] * (len(sel_features))\n",
    "    input_X = pd.DataFrame([sample_list],\n",
    "                               columns=list(sel_features))\n",
    "    for inputs in inputs_list:\n",
    "        if inputs in list(input_X.columns):\n",
    "            input_X[inputs] = 1\n",
    "    input_X['rating'] = float(rating)\n",
    "    salary = (int(xgb_model_min_loaded.predict(input_X[:1])), int(xgb_model_max_loaded.predict(input_X[:1])))\n",
    "    return salary"
   ]
  },
  {
   "cell_type": "code",
   "execution_count": 3,
   "metadata": {
    "ExecuteTime": {
     "end_time": "2019-11-27T05:45:30.731228Z",
     "start_time": "2019-11-27T05:45:30.453237Z"
    }
   },
   "outputs": [],
   "source": [
    "skill_money = {}\n",
    "skill_money_list = []\n",
    "for skill in sel_features[1:]:\n",
    "    skill_money['skill'] = skill\n",
    "    skill_money['salary'] = nyc_salary_with_skills(3.6, [skill])\n",
    "    skill_money_list.append(skill_money)\n",
    "    skill_money = {}\n",
    "single_skill = pd.DataFrame(skill_money_list).sort_values('salary', ascending=False)"
   ]
  },
  {
   "cell_type": "code",
   "execution_count": 4,
   "metadata": {
    "ExecuteTime": {
     "end_time": "2019-11-27T05:45:30.808181Z",
     "start_time": "2019-11-27T05:45:30.798391Z"
    }
   },
   "outputs": [],
   "source": [
    "def nyc_salary_with_skills_and(rating, inputs_list):\n",
    "\n",
    "    sample_list = [0] * (len(sel_features))\n",
    "    input_x = pd.DataFrame([sample_list],\n",
    "                           columns=list(sel_features))\n",
    "\n",
    "    for inputs in inputs_list:\n",
    "        if inputs in list(input_x.columns):\n",
    "            input_x[inputs] = 1\n",
    "    input_x['rating'] = float(rating)\n",
    "    salary_min = int(xgb_model_min_loaded.predict(input_x))\n",
    "    salary_max = int(xgb_model_max_loaded.predict(input_x))\n",
    "\n",
    "    # suggest skill with more salary\n",
    "    suggest_list = []\n",
    "    all_list = inputs_list\n",
    "\n",
    "    for skill in single_skill['skill'][:10]:\n",
    "        if skill not in inputs_list:\n",
    "            suggest_list.append(skill)\n",
    "\n",
    "        suggest_list_salary = {}\n",
    "        suggest_list_salary_list = []\n",
    "        for skill in suggest_list:\n",
    "            all_list = []\n",
    "            all_list = inputs_list + [skill]\n",
    "            suggest_list_salary['skill'] = skill\n",
    "            suggest_list_salary['salary'] = int(np.subtract(nyc_salary_with_skills(rating, all_list),\n",
    "                                                            nyc_salary_with_skills(rating, inputs_list)).mean())\n",
    "            suggest_list_salary_list.append(suggest_list_salary)\n",
    "            suggest_list_salary = {}\n",
    "    suggest_skills = pd.DataFrame(suggest_list_salary_list).sort_values('salary', ascending=True)\n",
    "    suggest_skills = suggest_skills[suggest_skills['salary'] > 0]\n",
    "    suggest_skills.columns = ['Skill', 'Salary_Increase']\n",
    "    return {'Min_Salary': salary_min, 'Max_Salary': salary_max, 'Suggest_Skills': suggest_skills}\n"
   ]
  },
  {
   "cell_type": "code",
   "execution_count": 92,
   "metadata": {
    "ExecuteTime": {
     "end_time": "2019-11-26T03:30:42.900721Z",
     "start_time": "2019-11-26T03:30:42.234882Z"
    },
    "scrolled": true
   },
   "outputs": [
    {
     "data": {
      "text/plain": [
       "{'Min_Salary': 66400,\n",
       " 'Max_Salary': 75639,\n",
       " 'Suggest_Skills':                   Skill  Salary increase by $\n",
       " 4    Project Management                 28649\n",
       " 0          Data Science                 22929\n",
       " 1  Microsoft SQL Server                 21086\n",
       " 2                    AI                 17598\n",
       " 3            TensorFlow                 13513\n",
       " 8                MATLAB                 11232\n",
       " 5                  Hive                  7607\n",
       " 6                   SAS                  1298}"
      ]
     },
     "execution_count": 92,
     "metadata": {},
     "output_type": "execute_result"
    }
   ],
   "source": [
    "NYC_salary_with_skills_and(3.6,['MySql','R','Tableau','Python'])"
   ]
  },
  {
   "cell_type": "markdown",
   "metadata": {},
   "source": [
    "### Viz for Flask"
   ]
  },
  {
   "cell_type": "code",
   "execution_count": 3,
   "metadata": {
    "ExecuteTime": {
     "end_time": "2019-11-27T02:07:23.951087Z",
     "start_time": "2019-11-27T02:07:23.947686Z"
    }
   },
   "outputs": [],
   "source": [
    "inputs_list = ['MySql','Tableau','Python']\n",
    "rating = 3.6"
   ]
  },
  {
   "cell_type": "code",
   "execution_count": 60,
   "metadata": {
    "ExecuteTime": {
     "end_time": "2019-11-26T03:22:36.468169Z",
     "start_time": "2019-11-26T03:22:35.724525Z"
    }
   },
   "outputs": [
    {
     "data": {
      "text/plain": [
       "{'Min_Salary': 66400,\n",
       " 'Max_Salary': 75639,\n",
       " 'Suggest_Skills':                   Skill  Salary increase by $\n",
       " 4    Project Management                 28649\n",
       " 0          Data Science                 22929\n",
       " 1  Microsoft SQL Server                 21086\n",
       " 2                    AI                 17598\n",
       " 3            TensorFlow                 13513\n",
       " 8                MATLAB                 11232\n",
       " 5                  Hive                  7607\n",
       " 6                   SAS                  1298}"
      ]
     },
     "execution_count": 60,
     "metadata": {},
     "output_type": "execute_result"
    }
   ],
   "source": [
    "NYC_salary_with_skills_and(rating,input_list)"
   ]
  },
  {
   "cell_type": "code",
   "execution_count": 1,
   "metadata": {
    "ExecuteTime": {
     "end_time": "2019-11-27T02:07:18.888947Z",
     "start_time": "2019-11-27T02:07:18.085654Z"
    }
   },
   "outputs": [],
   "source": [
    "import pandas as pd\n",
    "import numpy as np\n",
    "import pyecharts\n",
    "from pyecharts import options as opts\n",
    "df_single_skill_rank = pd.read_csv('skills_ranking.csv',header=None)\n",
    "df_single_skill_rank.columns = ['skill','count']"
   ]
  },
  {
   "cell_type": "code",
   "execution_count": 4,
   "metadata": {
    "ExecuteTime": {
     "end_time": "2019-11-27T02:07:25.765211Z",
     "start_time": "2019-11-27T02:07:25.732854Z"
    }
   },
   "outputs": [
    {
     "data": {
      "text/html": [
       "<div>\n",
       "<style scoped>\n",
       "    .dataframe tbody tr th:only-of-type {\n",
       "        vertical-align: middle;\n",
       "    }\n",
       "\n",
       "    .dataframe tbody tr th {\n",
       "        vertical-align: top;\n",
       "    }\n",
       "\n",
       "    .dataframe thead th {\n",
       "        text-align: right;\n",
       "    }\n",
       "</style>\n",
       "<table border=\"1\" class=\"dataframe\">\n",
       "  <thead>\n",
       "    <tr style=\"text-align: right;\">\n",
       "      <th></th>\n",
       "      <th>skill</th>\n",
       "      <th>count</th>\n",
       "      <th>Ratio(%)</th>\n",
       "    </tr>\n",
       "  </thead>\n",
       "  <tbody>\n",
       "    <tr>\n",
       "      <th>0</th>\n",
       "      <td>Python</td>\n",
       "      <td>3325</td>\n",
       "      <td>7.46</td>\n",
       "    </tr>\n",
       "    <tr>\n",
       "      <th>7</th>\n",
       "      <td>Tableau</td>\n",
       "      <td>1236</td>\n",
       "      <td>2.77</td>\n",
       "    </tr>\n",
       "  </tbody>\n",
       "</table>\n",
       "</div>"
      ],
      "text/plain": [
       "     skill  count  Ratio(%)\n",
       "0   Python   3325      7.46\n",
       "7  Tableau   1236      2.77"
      ]
     },
     "execution_count": 4,
     "metadata": {},
     "output_type": "execute_result"
    }
   ],
   "source": [
    "df_single_skill_rank['Ratio(%)'] = round((df_single_skill_rank['count'] / 44598)*100,2)\n",
    "df_single_skill_rank[df_single_skill_rank['skill'].isin(inputs_list)]"
   ]
  },
  {
   "cell_type": "code",
   "execution_count": 13,
   "metadata": {
    "ExecuteTime": {
     "end_time": "2019-11-27T02:13:43.434523Z",
     "start_time": "2019-11-27T02:13:43.428994Z"
    }
   },
   "outputs": [],
   "source": [
    "def nyc_salary_with_skills_MAX(rating,inputs_list):\n",
    "    sample_list = [0] * (len(sel_features))\n",
    "    input_X = pd.DataFrame([sample_list],\n",
    "                               columns=list(sel_features))\n",
    "    for inputs in inputs_list:\n",
    "        if inputs in list(input_X.columns):\n",
    "            input_X[inputs] = 1\n",
    "    input_X['rating'] = float(rating)\n",
    "    salary = int(xgb_model_max_loaded.predict(input_X[:1]))\n",
    "    return salary"
   ]
  },
  {
   "cell_type": "code",
   "execution_count": 55,
   "metadata": {
    "ExecuteTime": {
     "end_time": "2019-11-27T02:38:54.165168Z",
     "start_time": "2019-11-27T02:38:54.159362Z"
    }
   },
   "outputs": [],
   "source": [
    "def nyc_salary_with_skills_Min(rating,inputs_list):\n",
    "    sample_list = [0] * (len(sel_features))\n",
    "    input_X = pd.DataFrame([sample_list],\n",
    "                               columns=list(sel_features))\n",
    "    for inputs in inputs_list:\n",
    "        if inputs in list(input_X.columns):\n",
    "            input_X[inputs] = 1\n",
    "    input_X['rating'] = float(rating)\n",
    "    salary = ((int(xgb_model_min_loaded.predict(input_X[:1]))))\n",
    "    return salary"
   ]
  },
  {
   "cell_type": "code",
   "execution_count": 5,
   "metadata": {
    "ExecuteTime": {
     "end_time": "2019-11-27T02:07:26.418525Z",
     "start_time": "2019-11-27T02:07:26.412995Z"
    }
   },
   "outputs": [],
   "source": [
    "def nyc_salary_with_skills_AVG(rating,inputs_list):\n",
    "    sample_list = [0] * (len(sel_features))\n",
    "    input_X = pd.DataFrame([sample_list],\n",
    "                               columns=list(sel_features))\n",
    "    for inputs in inputs_list:\n",
    "        if inputs in list(input_X.columns):\n",
    "            input_X[inputs] = 1\n",
    "    input_X['rating'] = float(rating)\n",
    "    salary = ((int(xgb_model_min_loaded.predict(input_X[:1]))+int(xgb_model_max_loaded.predict(input_X[:1])))/2)\n",
    "    return salary"
   ]
  },
  {
   "cell_type": "code",
   "execution_count": 60,
   "metadata": {
    "ExecuteTime": {
     "end_time": "2019-11-27T02:40:10.897813Z",
     "start_time": "2019-11-27T02:40:10.637166Z"
    }
   },
   "outputs": [
    {
     "data": {
      "text/html": [
       "<div>\n",
       "<style scoped>\n",
       "    .dataframe tbody tr th:only-of-type {\n",
       "        vertical-align: middle;\n",
       "    }\n",
       "\n",
       "    .dataframe tbody tr th {\n",
       "        vertical-align: top;\n",
       "    }\n",
       "\n",
       "    .dataframe thead th {\n",
       "        text-align: right;\n",
       "    }\n",
       "</style>\n",
       "<table border=\"1\" class=\"dataframe\">\n",
       "  <thead>\n",
       "    <tr style=\"text-align: right;\">\n",
       "      <th></th>\n",
       "      <th>skill</th>\n",
       "      <th>Min_salary</th>\n",
       "    </tr>\n",
       "  </thead>\n",
       "  <tbody>\n",
       "    <tr>\n",
       "      <th>0</th>\n",
       "      <td>Data Science</td>\n",
       "      <td>66348</td>\n",
       "    </tr>\n",
       "    <tr>\n",
       "      <th>1</th>\n",
       "      <td>Microsoft SQL Server</td>\n",
       "      <td>65521</td>\n",
       "    </tr>\n",
       "    <tr>\n",
       "      <th>2</th>\n",
       "      <td>AI</td>\n",
       "      <td>65444</td>\n",
       "    </tr>\n",
       "    <tr>\n",
       "      <th>3</th>\n",
       "      <td>Tableau</td>\n",
       "      <td>60525</td>\n",
       "    </tr>\n",
       "    <tr>\n",
       "      <th>4</th>\n",
       "      <td>TensorFlow</td>\n",
       "      <td>60119</td>\n",
       "    </tr>\n",
       "  </tbody>\n",
       "</table>\n",
       "</div>"
      ],
      "text/plain": [
       "                  skill  Min_salary\n",
       "0          Data Science       66348\n",
       "1  Microsoft SQL Server       65521\n",
       "2                    AI       65444\n",
       "3               Tableau       60525\n",
       "4            TensorFlow       60119"
      ]
     },
     "execution_count": 60,
     "metadata": {},
     "output_type": "execute_result"
    }
   ],
   "source": [
    "skill_money = {}\n",
    "skill_money_list = []\n",
    "for skill in sel_features[1:]:\n",
    "    skill_money['skill'] = skill\n",
    "    skill_money['Min_salary'] = nyc_salary_with_skills_Min(rating, [skill])\n",
    "    skill_money_list.append(skill_money)\n",
    "    skill_money = {}\n",
    "single_skill_min = pd.DataFrame(skill_money_list).sort_values('Min_salary', ascending=False)\n",
    "single_skill_min = single_skill_min.reset_index(drop=True)\n",
    "single_skill_min.head()"
   ]
  },
  {
   "cell_type": "code",
   "execution_count": 57,
   "metadata": {
    "ExecuteTime": {
     "end_time": "2019-11-27T02:39:51.492080Z",
     "start_time": "2019-11-27T02:39:51.232066Z"
    }
   },
   "outputs": [
    {
     "data": {
      "text/html": [
       "<div>\n",
       "<style scoped>\n",
       "    .dataframe tbody tr th:only-of-type {\n",
       "        vertical-align: middle;\n",
       "    }\n",
       "\n",
       "    .dataframe tbody tr th {\n",
       "        vertical-align: top;\n",
       "    }\n",
       "\n",
       "    .dataframe thead th {\n",
       "        text-align: right;\n",
       "    }\n",
       "</style>\n",
       "<table border=\"1\" class=\"dataframe\">\n",
       "  <thead>\n",
       "    <tr style=\"text-align: right;\">\n",
       "      <th></th>\n",
       "      <th>skill</th>\n",
       "      <th>Max_salary</th>\n",
       "    </tr>\n",
       "  </thead>\n",
       "  <tbody>\n",
       "    <tr>\n",
       "      <th>0</th>\n",
       "      <td>Data Science</td>\n",
       "      <td>114840</td>\n",
       "    </tr>\n",
       "    <tr>\n",
       "      <th>1</th>\n",
       "      <td>Microsoft SQL Server</td>\n",
       "      <td>105383</td>\n",
       "    </tr>\n",
       "    <tr>\n",
       "      <th>2</th>\n",
       "      <td>Project Management</td>\n",
       "      <td>104381</td>\n",
       "    </tr>\n",
       "    <tr>\n",
       "      <th>3</th>\n",
       "      <td>AI</td>\n",
       "      <td>99178</td>\n",
       "    </tr>\n",
       "    <tr>\n",
       "      <th>4</th>\n",
       "      <td>Tableau</td>\n",
       "      <td>97796</td>\n",
       "    </tr>\n",
       "  </tbody>\n",
       "</table>\n",
       "</div>"
      ],
      "text/plain": [
       "                  skill  Max_salary\n",
       "0          Data Science      114840\n",
       "1  Microsoft SQL Server      105383\n",
       "2    Project Management      104381\n",
       "3                    AI       99178\n",
       "4               Tableau       97796"
      ]
     },
     "execution_count": 57,
     "metadata": {},
     "output_type": "execute_result"
    }
   ],
   "source": [
    "skill_money = {}\n",
    "skill_money_list = []\n",
    "for skill in sel_features[1:]:\n",
    "    skill_money['skill'] = skill\n",
    "    skill_money['Max_salary'] = nyc_salary_with_skills_MAX(rating, [skill])\n",
    "    skill_money_list.append(skill_money)\n",
    "    skill_money = {}\n",
    "single_skill_max = pd.DataFrame(skill_money_list).sort_values('Max_salary', ascending=False)\n",
    "single_skill_max = single_skill_max.reset_index(drop=True)\n",
    "single_skill_max.head()"
   ]
  },
  {
   "cell_type": "code",
   "execution_count": 10,
   "metadata": {
    "ExecuteTime": {
     "end_time": "2019-11-27T02:11:38.372008Z",
     "start_time": "2019-11-27T02:11:38.034634Z"
    }
   },
   "outputs": [
    {
     "data": {
      "text/html": [
       "<div>\n",
       "<style scoped>\n",
       "    .dataframe tbody tr th:only-of-type {\n",
       "        vertical-align: middle;\n",
       "    }\n",
       "\n",
       "    .dataframe tbody tr th {\n",
       "        vertical-align: top;\n",
       "    }\n",
       "\n",
       "    .dataframe thead th {\n",
       "        text-align: right;\n",
       "    }\n",
       "</style>\n",
       "<table border=\"1\" class=\"dataframe\">\n",
       "  <thead>\n",
       "    <tr style=\"text-align: right;\">\n",
       "      <th></th>\n",
       "      <th>skill</th>\n",
       "      <th>Avg_salary</th>\n",
       "    </tr>\n",
       "  </thead>\n",
       "  <tbody>\n",
       "    <tr>\n",
       "      <th>0</th>\n",
       "      <td>Data Science</td>\n",
       "      <td>90594.0</td>\n",
       "    </tr>\n",
       "    <tr>\n",
       "      <th>1</th>\n",
       "      <td>Microsoft SQL Server</td>\n",
       "      <td>85452.0</td>\n",
       "    </tr>\n",
       "    <tr>\n",
       "      <th>2</th>\n",
       "      <td>AI</td>\n",
       "      <td>82311.0</td>\n",
       "    </tr>\n",
       "    <tr>\n",
       "      <th>3</th>\n",
       "      <td>Project Management</td>\n",
       "      <td>81734.0</td>\n",
       "    </tr>\n",
       "    <tr>\n",
       "      <th>4</th>\n",
       "      <td>Tableau</td>\n",
       "      <td>79160.5</td>\n",
       "    </tr>\n",
       "  </tbody>\n",
       "</table>\n",
       "</div>"
      ],
      "text/plain": [
       "                  skill  Avg_salary\n",
       "0          Data Science     90594.0\n",
       "1  Microsoft SQL Server     85452.0\n",
       "2                    AI     82311.0\n",
       "3    Project Management     81734.0\n",
       "4               Tableau     79160.5"
      ]
     },
     "execution_count": 10,
     "metadata": {},
     "output_type": "execute_result"
    }
   ],
   "source": [
    "skill_money = {}\n",
    "skill_money_list = []\n",
    "for skill in sel_features[1:]:\n",
    "    skill_money['skill'] = skill\n",
    "    skill_money['Avg_salary'] = nyc_salary_with_skills_AVG(rating, [skill])\n",
    "    skill_money_list.append(skill_money)\n",
    "    skill_money = {}\n",
    "single_skill_avg = pd.DataFrame(skill_money_list).sort_values('Avg_salary', ascending=False)\n",
    "single_skill_avg = single_skill_avg.reset_index(drop=True)\n",
    "single_skill_avg.head()"
   ]
  },
  {
   "cell_type": "code",
   "execution_count": 64,
   "metadata": {
    "ExecuteTime": {
     "end_time": "2019-11-27T02:41:45.524593Z",
     "start_time": "2019-11-27T02:41:45.506607Z"
    }
   },
   "outputs": [],
   "source": [
    "result1 = pd.merge(single_skill_avg, single_skill_max, how='inner', on=['skill'])\n",
    "result2 =  pd.merge(result1, single_skill_min, how='inner', on=['skill']) \n",
    "result2.columns=['name','Avg','Max','Min']\n",
    "result2.to_csv('single_skill_info.csv')"
   ]
  },
  {
   "cell_type": "code",
   "execution_count": 31,
   "metadata": {
    "ExecuteTime": {
     "end_time": "2019-11-27T02:23:39.957873Z",
     "start_time": "2019-11-27T02:23:39.950100Z"
    }
   },
   "outputs": [
    {
     "data": {
      "text/plain": [
       "[{'skill': 'Data Science', 'Max_salary': 114840},\n",
       " {'skill': 'Microsoft SQL Server', 'Max_salary': 105383},\n",
       " {'skill': 'AI', 'Max_salary': 99178},\n",
       " {'skill': 'Project Management', 'Max_salary': 104381},\n",
       " {'skill': 'Tableau', 'Max_salary': 97796},\n",
       " {'skill': 'SAS', 'Max_salary': 93143},\n",
       " {'skill': 'Spark', 'Max_salary': 93402},\n",
       " {'skill': 'TensorFlow', 'Max_salary': 87850},\n",
       " {'skill': 'MATLAB', 'Max_salary': 93551},\n",
       " {'skill': 'SQL', 'Max_salary': 90849}]"
      ]
     },
     "execution_count": 31,
     "metadata": {},
     "output_type": "execute_result"
    }
   ],
   "source": [
    "result[['skill','Max_salary']].to_dict('records')[:10]"
   ]
  },
  {
   "cell_type": "code",
   "execution_count": 112,
   "metadata": {
    "ExecuteTime": {
     "end_time": "2019-11-26T03:46:43.915096Z",
     "start_time": "2019-11-26T03:46:43.902290Z"
    }
   },
   "outputs": [
    {
     "data": {
      "text/html": [
       "<div>\n",
       "<style scoped>\n",
       "    .dataframe tbody tr th:only-of-type {\n",
       "        vertical-align: middle;\n",
       "    }\n",
       "\n",
       "    .dataframe tbody tr th {\n",
       "        vertical-align: top;\n",
       "    }\n",
       "\n",
       "    .dataframe thead th {\n",
       "        text-align: right;\n",
       "    }\n",
       "</style>\n",
       "<table border=\"1\" class=\"dataframe\">\n",
       "  <thead>\n",
       "    <tr style=\"text-align: right;\">\n",
       "      <th></th>\n",
       "      <th>skill</th>\n",
       "      <th>count</th>\n",
       "      <th>Ratio(%)</th>\n",
       "    </tr>\n",
       "  </thead>\n",
       "  <tbody>\n",
       "    <tr>\n",
       "      <th>0</th>\n",
       "      <td>Python</td>\n",
       "      <td>3325</td>\n",
       "      <td>7.46</td>\n",
       "    </tr>\n",
       "    <tr>\n",
       "      <th>1</th>\n",
       "      <td>SQL</td>\n",
       "      <td>3104</td>\n",
       "      <td>6.96</td>\n",
       "    </tr>\n",
       "    <tr>\n",
       "      <th>2</th>\n",
       "      <td>Machine Learning</td>\n",
       "      <td>2297</td>\n",
       "      <td>5.15</td>\n",
       "    </tr>\n",
       "    <tr>\n",
       "      <th>3</th>\n",
       "      <td>R</td>\n",
       "      <td>2234</td>\n",
       "      <td>5.01</td>\n",
       "    </tr>\n",
       "    <tr>\n",
       "      <th>4</th>\n",
       "      <td>Hadoop</td>\n",
       "      <td>1714</td>\n",
       "      <td>3.84</td>\n",
       "    </tr>\n",
       "    <tr>\n",
       "      <th>...</th>\n",
       "      <td>...</td>\n",
       "      <td>...</td>\n",
       "      <td>...</td>\n",
       "    </tr>\n",
       "    <tr>\n",
       "      <th>459</th>\n",
       "      <td>TestNG</td>\n",
       "      <td>1</td>\n",
       "      <td>0.00</td>\n",
       "    </tr>\n",
       "    <tr>\n",
       "      <th>460</th>\n",
       "      <td>UltiPro</td>\n",
       "      <td>1</td>\n",
       "      <td>0.00</td>\n",
       "    </tr>\n",
       "    <tr>\n",
       "      <th>461</th>\n",
       "      <td>Wireframing</td>\n",
       "      <td>1</td>\n",
       "      <td>0.00</td>\n",
       "    </tr>\n",
       "    <tr>\n",
       "      <th>462</th>\n",
       "      <td>Xero</td>\n",
       "      <td>1</td>\n",
       "      <td>0.00</td>\n",
       "    </tr>\n",
       "    <tr>\n",
       "      <th>463</th>\n",
       "      <td>openSUSE</td>\n",
       "      <td>1</td>\n",
       "      <td>0.00</td>\n",
       "    </tr>\n",
       "  </tbody>\n",
       "</table>\n",
       "<p>464 rows × 3 columns</p>\n",
       "</div>"
      ],
      "text/plain": [
       "                skill  count  Ratio(%)\n",
       "0              Python   3325      7.46\n",
       "1                 SQL   3104      6.96\n",
       "2    Machine Learning   2297      5.15\n",
       "3                   R   2234      5.01\n",
       "4              Hadoop   1714      3.84\n",
       "..                ...    ...       ...\n",
       "459            TestNG      1      0.00\n",
       "460           UltiPro      1      0.00\n",
       "461       Wireframing      1      0.00\n",
       "462              Xero      1      0.00\n",
       "463          openSUSE      1      0.00\n",
       "\n",
       "[464 rows x 3 columns]"
      ]
     },
     "execution_count": 112,
     "metadata": {},
     "output_type": "execute_result"
    }
   ],
   "source": [
    "df_single_skill_rank"
   ]
  },
  {
   "cell_type": "code",
   "execution_count": 117,
   "metadata": {
    "ExecuteTime": {
     "end_time": "2019-11-26T03:50:25.910210Z",
     "start_time": "2019-11-26T03:50:25.904459Z"
    }
   },
   "outputs": [],
   "source": [
    "# single_skill_info = single_skill_avg.join(df_single_skill_rank.set_index('skill'), on='skill')\n",
    "# single_skill_info.to_csv('single_skill_info.csv')"
   ]
  },
  {
   "cell_type": "code",
   "execution_count": 132,
   "metadata": {
    "ExecuteTime": {
     "end_time": "2019-11-26T03:55:46.479573Z",
     "start_time": "2019-11-26T03:55:46.465356Z"
    }
   },
   "outputs": [
    {
     "data": {
      "text/html": [
       "<div>\n",
       "<style scoped>\n",
       "    .dataframe tbody tr th:only-of-type {\n",
       "        vertical-align: middle;\n",
       "    }\n",
       "\n",
       "    .dataframe tbody tr th {\n",
       "        vertical-align: top;\n",
       "    }\n",
       "\n",
       "    .dataframe thead th {\n",
       "        text-align: right;\n",
       "    }\n",
       "</style>\n",
       "<table border=\"1\" class=\"dataframe\">\n",
       "  <thead>\n",
       "    <tr style=\"text-align: right;\">\n",
       "      <th></th>\n",
       "      <th>skill</th>\n",
       "      <th>salary</th>\n",
       "      <th>count</th>\n",
       "      <th>Ratio(%)</th>\n",
       "    </tr>\n",
       "  </thead>\n",
       "  <tbody>\n",
       "    <tr>\n",
       "      <th>4</th>\n",
       "      <td>Tableau</td>\n",
       "      <td>79160.5</td>\n",
       "      <td>1236</td>\n",
       "      <td>2.77</td>\n",
       "    </tr>\n",
       "    <tr>\n",
       "      <th>28</th>\n",
       "      <td>Python</td>\n",
       "      <td>55715.0</td>\n",
       "      <td>3325</td>\n",
       "      <td>7.46</td>\n",
       "    </tr>\n",
       "  </tbody>\n",
       "</table>\n",
       "</div>"
      ],
      "text/plain": [
       "      skill   salary  count  Ratio(%)\n",
       "4   Tableau  79160.5   1236      2.77\n",
       "28   Python  55715.0   3325      7.46"
      ]
     },
     "execution_count": 132,
     "metadata": {},
     "output_type": "execute_result"
    }
   ],
   "source": [
    "single_skill_info = pd.read_csv('single_skill_info.csv',index_col=0)\n",
    "single_skill_info[single_skill_info['skill'].isin(inputs_list)]"
   ]
  },
  {
   "cell_type": "code",
   "execution_count": 17,
   "metadata": {
    "ExecuteTime": {
     "end_time": "2019-11-27T05:48:23.771396Z",
     "start_time": "2019-11-27T05:48:23.500097Z"
    }
   },
   "outputs": [
    {
     "data": {
      "text/html": [
       "<div>\n",
       "<style scoped>\n",
       "    .dataframe tbody tr th:only-of-type {\n",
       "        vertical-align: middle;\n",
       "    }\n",
       "\n",
       "    .dataframe tbody tr th {\n",
       "        vertical-align: top;\n",
       "    }\n",
       "\n",
       "    .dataframe thead th {\n",
       "        text-align: right;\n",
       "    }\n",
       "</style>\n",
       "<table border=\"1\" class=\"dataframe\">\n",
       "  <thead>\n",
       "    <tr style=\"text-align: right;\">\n",
       "      <th></th>\n",
       "      <th>company</th>\n",
       "      <th>rating</th>\n",
       "      <th>title</th>\n",
       "      <th>location</th>\n",
       "      <th>min</th>\n",
       "      <th>max</th>\n",
       "      <th>datepost</th>\n",
       "      <th>lat</th>\n",
       "      <th>lng</th>\n",
       "      <th>skills</th>\n",
       "    </tr>\n",
       "  </thead>\n",
       "  <tbody>\n",
       "    <tr>\n",
       "      <th>0</th>\n",
       "      <td>HEALTHEC</td>\n",
       "      <td>3.5</td>\n",
       "      <td>Data Analyst</td>\n",
       "      <td>Edison, NJ</td>\n",
       "      <td>42000</td>\n",
       "      <td>75000</td>\n",
       "      <td>11</td>\n",
       "      <td>40.518715</td>\n",
       "      <td>-74.412095</td>\n",
       "      <td>['Python', 'SQL', 'R', 'Tableau', 'Excel']</td>\n",
       "    </tr>\n",
       "    <tr>\n",
       "      <th>1</th>\n",
       "      <td>Rocketrip</td>\n",
       "      <td>3.5</td>\n",
       "      <td>Data Analyst</td>\n",
       "      <td>New York, NY</td>\n",
       "      <td>61000</td>\n",
       "      <td>115000</td>\n",
       "      <td>27</td>\n",
       "      <td>40.750351</td>\n",
       "      <td>-73.981798</td>\n",
       "      <td>['Python', 'SQL', 'R', 'Tableau', 'Excel']</td>\n",
       "    </tr>\n",
       "    <tr>\n",
       "      <th>2</th>\n",
       "      <td>Conduent</td>\n",
       "      <td>2.7</td>\n",
       "      <td>Data Analyst II (SQL, Tableau)</td>\n",
       "      <td>New York, NY</td>\n",
       "      <td>62000</td>\n",
       "      <td>106000</td>\n",
       "      <td>12</td>\n",
       "      <td>40.752684</td>\n",
       "      <td>-73.975902</td>\n",
       "      <td>['Python', 'SQL', 'R', 'Java', 'Tableau', 'Ora...</td>\n",
       "    </tr>\n",
       "    <tr>\n",
       "      <th>3</th>\n",
       "      <td>SeatGeek</td>\n",
       "      <td>4.5</td>\n",
       "      <td>Data Analyst</td>\n",
       "      <td>New York, NY</td>\n",
       "      <td>53000</td>\n",
       "      <td>98000</td>\n",
       "      <td>11</td>\n",
       "      <td>40.739354</td>\n",
       "      <td>-73.989426</td>\n",
       "      <td>['Python', 'SQL', 'R']</td>\n",
       "    </tr>\n",
       "    <tr>\n",
       "      <th>4</th>\n",
       "      <td>Swiss Re</td>\n",
       "      <td>3.6</td>\n",
       "      <td>Data Analyst</td>\n",
       "      <td>Armonk, NY</td>\n",
       "      <td>59000</td>\n",
       "      <td>107000</td>\n",
       "      <td>3</td>\n",
       "      <td>41.099525</td>\n",
       "      <td>-73.732426</td>\n",
       "      <td>['Python', 'SQL', 'R', 'Tableau', 'SAS', 'Excel']</td>\n",
       "    </tr>\n",
       "  </tbody>\n",
       "</table>\n",
       "</div>"
      ],
      "text/plain": [
       "     company  rating                           title      location    min  \\\n",
       "0   HEALTHEC     3.5                    Data Analyst    Edison, NJ  42000   \n",
       "1  Rocketrip     3.5                    Data Analyst  New York, NY  61000   \n",
       "2   Conduent     2.7  Data Analyst II (SQL, Tableau)  New York, NY  62000   \n",
       "3   SeatGeek     4.5                    Data Analyst  New York, NY  53000   \n",
       "4   Swiss Re     3.6                    Data Analyst    Armonk, NY  59000   \n",
       "\n",
       "      max  datepost        lat        lng  \\\n",
       "0   75000        11  40.518715 -74.412095   \n",
       "1  115000        27  40.750351 -73.981798   \n",
       "2  106000        12  40.752684 -73.975902   \n",
       "3   98000        11  40.739354 -73.989426   \n",
       "4  107000         3  41.099525 -73.732426   \n",
       "\n",
       "                                              skills  \n",
       "0         ['Python', 'SQL', 'R', 'Tableau', 'Excel']  \n",
       "1         ['Python', 'SQL', 'R', 'Tableau', 'Excel']  \n",
       "2  ['Python', 'SQL', 'R', 'Java', 'Tableau', 'Ora...  \n",
       "3                             ['Python', 'SQL', 'R']  \n",
       "4  ['Python', 'SQL', 'R', 'Tableau', 'SAS', 'Excel']  "
      ]
     },
     "execution_count": 17,
     "metadata": {},
     "output_type": "execute_result"
    }
   ],
   "source": [
    "import pandas as pd\n",
    "import matplotlib\n",
    "df=pd.read_csv('dataforflask.csv',index_col=0)\n",
    "df.head()"
   ]
  },
  {
   "cell_type": "code",
   "execution_count": 42,
   "metadata": {
    "ExecuteTime": {
     "end_time": "2019-11-27T05:56:40.515266Z",
     "start_time": "2019-11-27T05:56:40.304680Z"
    }
   },
   "outputs": [
    {
     "data": {
      "text/plain": [
       "(array([ 67., 215., 116.,  43.,  20.,  12.,   6.,   5.,   0.,   2.]),\n",
       " array([ 30000.,  42800.,  55600.,  68400.,  81200.,  94000., 106800.,\n",
       "        119600., 132400., 145200., 158000.]),\n",
       " <a list of 10 Patch objects>)"
      ]
     },
     "execution_count": 42,
     "metadata": {},
     "output_type": "execute_result"
    },
    {
     "data": {
      "image/png": "[encoded data removed]",
      "text/plain": [
       "<Figure size 432x288 with 1 Axes>"
      ]
     },
     "metadata": {
      "needs_background": "light"
     },
     "output_type": "display_data"
    }
   ],
   "source": [
    "import matplotlib.pyplot as plt\n",
    "plt.hist(df['min'], 10)"
   ]
  },
  {
   "cell_type": "code",
   "execution_count": 43,
   "metadata": {
    "ExecuteTime": {
     "end_time": "2019-11-27T05:57:13.836527Z",
     "start_time": "2019-11-27T05:57:13.600242Z"
    }
   },
   "outputs": [
    {
     "data": {
      "text/plain": [
       "(array([ 62., 167., 136.,  68.,  28.,   9.,   6.,   6.,   2.,   2.]),\n",
       " array([ 50000.,  67300.,  84600., 101900., 119200., 136500., 153800.,\n",
       "        171100., 188400., 205700., 223000.]),\n",
       " <a list of 10 Patch objects>)"
      ]
     },
     "execution_count": 43,
     "metadata": {},
     "output_type": "execute_result"
    },
    {
     "data": {
      "image/png": "[encoded data removed]",
      "text/plain": [
       "<Figure size 432x288 with 1 Axes>"
      ]
     },
     "metadata": {
      "needs_background": "light"
     },
     "output_type": "display_data"
    }
   ],
   "source": [
    "plt.hist(df['max'], 10)"
   ]
  },
  {
   "cell_type": "code",
   "execution_count": 65,
   "metadata": {
    "ExecuteTime": {
     "end_time": "2019-11-27T03:41:06.605234Z",
     "start_time": "2019-11-27T03:41:06.600663Z"
    }
   },
   "outputs": [],
   "source": [
    "with open('/Users/jz/token/mapbox.txt', 'r') as file:\n",
    "    mapbox_token = file.read().replace('\\n', '')"
   ]
  },
  {
   "cell_type": "code",
   "execution_count": 76,
   "metadata": {
    "ExecuteTime": {
     "end_time": "2019-11-27T03:49:03.295952Z",
     "start_time": "2019-11-27T03:49:02.940266Z"
    }
   },
   "outputs": [
    {
     "data": {
      "application/vnd.plotly.v1+json": {
       "config": {
        "plotlyServerURL": "https://plot.ly"
       },
       "data": [
        {
         "lat": [
          40.5187154,
          40.750351200000004,
          40.7526842,
          40.7393536,
          41.0995246,
          40.7697396,
          40.7429177,
          40.7542074,
          40.7386606,
          40.741879299999994,
          40.8606248,
          40.7386606,
          40.5206807,
          40.351285299999994,
          40.765554200000004,
          40.582169,
          40.726302200000006,
          40.70931600000001,
          40.731718,
          40.713083700000006,
          40.7322659,
          40.743368200000006,
          40.0583238,
          40.7396683,
          40.7550824,
          40.7407628,
          40.8075355,
          40.8457971,
          40.72951339999999,
          40.7535794,
          40.702890999999994,
          40.72278379999999,
          40.70679439999999,
          40.755211200000005,
          40.7534195,
          40.7146783,
          40.7421282,
          40.742458899999995,
          40.743368200000006,
          40.7127753,
          40.7505045,
          40.0583238,
          40.8606248,
          40.764361799999996,
          40.4057943,
          40.7577835,
          40.71028889999999,
          40.7545523,
          40.7520028,
          40.7447547,
          40.7593023,
          42.87106970000001,
          40.7398403,
          40.7369664,
          40.715667100000005,
          40.7512148,
          40.705974,
          40.8075355,
          40.758535200000004,
          40.729282899999994,
          40.72951339999999,
          40.745612200000004,
          40.749682,
          40.351285299999994,
          40.742458899999995,
          40.6912321,
          42.87106970000001,
          40.5187154,
          40.7127753,
          40.7482184,
          40.7526842,
          40.7127753,
          40.726302200000006,
          40.7386606,
          40.351285299999994,
          40.0583238,
          40.7535794,
          40.7393536,
          40.760927,
          40.742458899999995,
          40.7386606,
          41.003511200000005,
          40.0583238,
          40.70931600000001,
          40.7542074,
          40.7103908,
          40.7429177,
          40.742458899999995,
          40.8606248,
          40.7322659,
          40.8457971,
          40.710302500000004,
          40.7520028,
          40.7407628,
          40.7520028,
          40.7534783,
          40.7369664,
          40.0583238,
          40.733918100000004,
          40.8606248,
          40.75608649999999,
          40.8075355,
          40.7103908,
          40.7613806,
          40.72951339999999,
          40.7568582,
          40.755035,
          40.71789500000001,
          40.716977,
          40.715667100000005,
          40.6912321,
          40.7534195,
          40.7398403,
          42.87106970000001,
          40.72278379999999,
          40.7525708,
          40.7127753,
          40.753412,
          40.7539141,
          40.7779338,
          40.758002399999995,
          40.75848679999999,
          40.755035,
          40.7593023,
          40.759643200000006,
          40.8075355,
          40.7421282,
          40.764361799999996,
          40.5499583,
          40.7613806,
          40.7127753,
          40.755211200000005,
          40.756098,
          40.7535171,
          40.75561879999999,
          40.8606248,
          40.75848679999999,
          40.6912321,
          40.756851700000006,
          40.737683000000004,
          40.72951339999999,
          40.714290999999996,
          40.745612200000004,
          42.87106970000001,
          40.8075355,
          40.710302500000004,
          40.758469899999994,
          40.7283334,
          40.749682,
          40.73703039999999,
          41.7667602,
          40.748541100000004,
          40.7643316,
          40.70428099999999,
          40.745171500000005,
          40.75391279999999,
          40.71028889999999,
          37.3771934,
          40.778222,
          40.7233424,
          40.762704600000006,
          40.7598542,
          40.7613806,
          40.743679,
          40.75308029999999,
          40.749682,
          40.7578343,
          40.7511649,
          40.7291207,
          40.7447547,
          40.7520016,
          44.738807200000004,
          40.8096794,
          40.7547521,
          40.7512148,
          40.7033226,
          40.7702407,
          40.319472999999995,
          40.7753909,
          40.7702407,
          40.690850700000006,
          40.7430067,
          40.7023357,
          40.7702407,
          32.892784999999996,
          40.7150606,
          40.7643316,
          40.6446634,
          40.577027,
          40.7127753,
          40.760866,
          40.7083946,
          40.737673,
          40.706483,
          40.708771999999996,
          40.756392,
          40.7499506,
          40.70428099999999,
          40.778222,
          40.730819700000005,
          40.758963200000004,
          40.737025,
          40.7589646,
          40.7258201,
          40.709808,
          40.8075355,
          40.7568582,
          40.7578343,
          40.6938541,
          40.769720299999996,
          40.759643200000006,
          40.75171339999999,
          40.7556825,
          40.7628721,
          42.6807724,
          40.7613806,
          40.707443,
          40.5369486,
          40.7702407,
          40.708227,
          40.7702407,
          40.5652256,
          40.7052396,
          40.7034598,
          40.742458899999995,
          40.7843807,
          40.7414422,
          40.755304100000004,
          40.8410682,
          40.330886,
          40.5206807,
          40.6459615,
          40.714414,
          40.7412849,
          40.9326253,
          40.554302500000006,
          40.539983899999996,
          40.7480041,
          40.74195170000001,
          40.756098,
          40.7509771,
          40.7419689,
          40.718787,
          40.562236299999995,
          40.757974700000005,
          40.7342648,
          40.7446828,
          40.74195170000001,
          40.686375,
          40.8096794,
          40.762448,
          40.815951,
          40.7278674,
          41.076777299999996,
          40.789241,
          40.753278200000004,
          40.76094260000001,
          40.319472999999995,
          40.457728100000004,
          40.8096794,
          40.319472999999995,
          40.7568975,
          40.9326253,
          40.7517576,
          40.3279729,
          40.706594,
          40.70533200000001,
          40.5227598,
          40.7522851,
          40.330886,
          40.762531,
          40.0583238,
          40.5499583,
          40.75848679999999,
          40.457728100000004,
          40.7650228,
          40.72538970000001,
          40.754163399999996,
          40.8973157,
          40.6570493,
          40.789241,
          40.741386,
          40.710302500000004,
          40.72477,
          40.536939000000004,
          40.75158649999999,
          42.060706700000004,
          40.365087700000004,
          40.752649100000006,
          40.8857755,
          40.7702407,
          40.7076346,
          38.8805325,
          40.7127753,
          38.9867474,
          40.7520703,
          40.7892622,
          40.75158649999999,
          40.7553876,
          41.7667602,
          40.7077599,
          40.7304115,
          40.75561879999999,
          40.72477,
          40.5605917,
          40.7613806,
          40.758535200000004,
          40.5753817,
          40.7052396,
          40.7702407,
          40.784423600000004,
          40.7577835,
          40.789241,
          40.756640000000004,
          40.732689,
          40.8606248,
          40.7127753,
          40.718787,
          40.7930191,
          40.7544726,
          40.7872961,
          40.8096794,
          40.7077599,
          40.7446828,
          40.704676299999996,
          40.7474477,
          40.784423600000004,
          40.7542074,
          40.6459615,
          40.72951339999999,
          40.7263771,
          40.6224388,
          41.0322162,
          40.7285513,
          40.749335200000004,
          40.431395,
          40.778222,
          40.784423600000004,
          41.37355609999999,
          40.0583238,
          40.531417299999994,
          40.7532504,
          40.8515739,
          40.5499583,
          40.7520016,
          40.8093786,
          40.73703039999999,
          40.784423600000004,
          40.742086900000004,
          40.72229799999999,
          40.764972,
          40.7505586,
          40.75038970000001,
          40.741879299999994,
          40.7598542,
          40.7697396,
          40.319472999999995,
          40.721956,
          40.7379574,
          40.7159419,
          40.752649100000006,
          40.7069203,
          40.5620533,
          40.7287165,
          40.7343958,
          43.14478700000001,
          40.8539141,
          40.541247399999996,
          40.7937397,
          40.319472999999995,
          40.7127753,
          40.758963200000004,
          40.7520596,
          40.70533200000001,
          40.7086001,
          40.535014000000004,
          40.7127753,
          40.319472999999995,
          40.5517951,
          40.714290999999996,
          40.6912807,
          40.8144086,
          41.7667602,
          40.5652256,
          40.0583238,
          40.6478283,
          40.778222,
          40.5620533,
          40.7598542,
          40.7598542,
          40.67754910000001,
          40.733918100000004,
          40.650899700000004,
          40.7544703,
          40.717470399999996,
          40.758963200000004,
          40.971340999999995,
          40.7952676,
          40.7702407,
          40.789241,
          41.010515999999996,
          40.7702407,
          40.319472999999995,
          40.9101937,
          40.7702407,
          40.75391279999999,
          40.7702407,
          40.76688370000001,
          41.03398620000001,
          40.7697396,
          40.7159419,
          40.8838399,
          40.742901200000006,
          41.0322162,
          39.923597799999996,
          41.275183399999996,
          40.7522851,
          40.847153000000006,
          40.577027,
          40.3022444,
          40.634939700000004,
          40.7544014,
          40.75257999999999,
          40.660934600000004,
          40.7638247,
          40.75668579999999,
          40.7596213,
          40.319472999999995,
          40.319472999999995,
          40.40558529999999,
          37.3771934,
          40.8096794,
          40.7578343,
          40.714290999999996,
          40.751740000000005,
          40.5369486,
          40.8144086,
          40.758963200000004,
          40.742852,
          40.762156299999994,
          40.693154,
          40.299186,
          40.67603,
          40.7077599,
          40.330886,
          40.5652256,
          40.64569669999999,
          40.8857755,
          40.8457971,
          41.0532378,
          40.640885499999996,
          40.784423600000004,
          42.1374881,
          40.5369486,
          40.54493009999999,
          41.0532378,
          40.4057943,
          40.754495500000004,
          40.789241,
          40.7851095,
          40.789241,
          40.8056891,
          40.753645,
          40.789241,
          40.7713269,
          40.714290999999996,
          40.660934600000004,
          42.87106970000001,
          40.78783370000001,
          42.87106970000001,
          41.0930242,
          38.8805325,
          43.178736900000004,
          40.299024100000004,
          40.5323287,
          40.681417100000004,
          41.0322162,
          40.651292299999994,
          40.752649100000006,
          40.2995162,
          40.43750120000001,
          41.0065588,
          41.334953000000006,
          40.31859779999999,
          41.0322162,
          40.5323287
         ],
         "lon": [
          -74.4120953,
          -73.98179820000001,
          -73.9759022,
          -73.98942559999998,
          -73.7324257,
          -73.96405379999999,
          -73.98931850000001,
          -73.98757409999999,
          -74.02771709999998,
          -73.9985166,
          -73.8901001,
          -74.02771709999998,
          -74.483115,
          -74.0702902,
          -73.51202789999998,
          -75.6206821,
          -74.0080699,
          -74.00681399999998,
          -74.00832179999998,
          -74.0037209,
          -73.95512780000001,
          -73.994275,
          -74.40566120000001,
          -73.9905555,
          -73.9836796,
          -74.00207010000003,
          -73.96257270000001,
          -74.43851149999998,
          -73.9964609,
          -73.9780925,
          -74.01397220000001,
          -73.998671,
          -74.0128876,
          -73.98013329999998,
          -73.99097650000002,
          -73.9931228,
          -73.99398640000001,
          -73.97381750000001,
          -73.994275,
          -74.0059728,
          -73.9934387,
          -74.40566120000001,
          -73.8901001,
          -73.97065190000001,
          -74.42185009999999,
          -73.9690648,
          -74.01229010000002,
          -73.9908539,
          -73.978422,
          -73.99296190000001,
          -73.99004579999998,
          -77.8856212,
          -73.98699330000002,
          -73.99317549999998,
          -74.00116379999999,
          -73.9922255,
          -74.012615,
          -73.96257270000001,
          -73.9820713,
          -74.00575450000001,
          -73.9964609,
          -73.9826301,
          -73.9867818,
          -74.0702902,
          -73.97381750000001,
          -73.98579900000001,
          -77.8856212,
          -74.4120953,
          -74.0059728,
          -73.9891809,
          -73.9759022,
          -74.0059728,
          -74.0080699,
          -74.02771709999998,
          -74.0702902,
          -74.40566120000001,
          -73.9780925,
          -73.98942559999998,
          -73.98254519999998,
          -73.97381750000001,
          -74.02771709999998,
          -73.6593695,
          -74.40566120000001,
          -74.00681399999998,
          -73.98757409999999,
          -74.01198939999998,
          -73.98931850000001,
          -73.97381750000001,
          -73.8901001,
          -73.95512780000001,
          -74.43851149999998,
          -74.0119725,
          -73.978422,
          -74.00207010000003,
          -73.978422,
          -73.99899599999998,
          -73.99317549999998,
          -74.40566120000001,
          -74.16122840000001,
          -73.8901001,
          -73.99011180000001,
          -73.96257270000001,
          -74.01198939999998,
          -73.9693662,
          -73.9964609,
          -73.9820448,
          -73.99180299999998,
          -73.99928899999998,
          -73.85763,
          -74.00116379999999,
          -73.98579900000001,
          -73.99097650000002,
          -73.98699330000002,
          -77.8856212,
          -73.998671,
          -74.0064938,
          -74.0059728,
          -73.9720571,
          -73.9853115,
          -73.95245200000001,
          -73.9794008,
          -73.97019159999998,
          -73.99180299999998,
          -73.99004579999998,
          -73.9745525,
          -73.96257270000001,
          -73.99398640000001,
          -73.97065190000001,
          -74.40992609999999,
          -73.9693662,
          -74.0059728,
          -73.98013329999998,
          -73.99018819999998,
          -73.96997019999998,
          -73.9763266,
          -73.8901001,
          -73.97019159999998,
          -73.98579900000001,
          -73.9820388,
          -74.174441,
          -73.9964609,
          -74.0117809,
          -73.9826301,
          -77.8856212,
          -73.96257270000001,
          -74.0119725,
          -73.96849,
          -73.99158940000001,
          -73.9867818,
          -73.9925066,
          -73.90152459999999,
          -73.98576290000001,
          -73.95425589999998,
          -74.00829940000001,
          -73.9900275,
          -73.9864173,
          -74.01229010000002,
          -121.96311809999999,
          -73.981391,
          -74.0043514,
          -73.9737215,
          -74.023259,
          -73.9693662,
          -73.9911802,
          -73.98702399999998,
          -73.9867818,
          -73.98241949999998,
          -73.99246540000001,
          -74.00779440000001,
          -73.99296190000001,
          -73.98666209999998,
          -93.2892273,
          -73.9489894,
          -73.97452899999998,
          -73.9922255,
          -74.00889620000001,
          -73.99068829999999,
          -74.631463,
          -73.9826056,
          -73.99068829999999,
          -73.97799470000001,
          -73.986261,
          -74.01051559999998,
          -73.99068829999999,
          -96.97955300000001,
          -74.0058265,
          -73.95425589999998,
          -74.0237448,
          -74.587278,
          -74.0059728,
          -73.97081700000001,
          -74.0128257,
          -73.992925,
          -74.01227399999998,
          -74.00790599999998,
          -73.986783,
          -73.9730373,
          -74.00829940000001,
          -73.981391,
          -73.99136659999998,
          -73.97933739999998,
          -73.9877829,
          -73.97171759999998,
          -73.99604699999998,
          -74.0107905,
          -73.96257270000001,
          -73.9820448,
          -73.98241949999998,
          -73.9915176,
          -73.9907296,
          -73.9745525,
          -73.9732568,
          -73.97884379999998,
          -73.98383759999999,
          -73.763693,
          -73.9693662,
          -74.010739,
          -74.5252847,
          -73.99068829999999,
          -74.0090809,
          -73.99068829999999,
          -74.3320131,
          -74.00671179999998,
          -74.0088973,
          -73.97381750000001,
          -74.07563959999999,
          -74.0072969,
          -73.693596,
          -74.03282349999998,
          -74.58552399999998,
          -74.483115,
          -74.76484889999998,
          -74.01676909999998,
          -74.0076843,
          -73.99527929999998,
          -74.47508250000001,
          -74.47105270000002,
          -73.9947147,
          -73.99379270000001,
          -73.99018819999998,
          -73.977631,
          -73.9869672,
          -74.034429,
          -74.3343561,
          -73.9855426,
          -73.99215699999998,
          -73.9848745,
          -73.99379270000001,
          -73.63067699999998,
          -73.9489894,
          -73.9692744,
          -73.2576179,
          -73.99269040000001,
          -73.82638890000001,
          -73.9545211,
          -73.99887559999998,
          -73.98002389999998,
          -74.631463,
          -74.5105423,
          -73.9489894,
          -74.631463,
          -73.97038520000001,
          -73.99527929999998,
          -73.98716530000002,
          -74.64672990000001,
          -74.005651,
          -74.01199,
          -74.32791739999998,
          -73.9891552,
          -74.58552399999998,
          -73.969601,
          -74.40566120000001,
          -74.40992609999999,
          -73.97019159999998,
          -74.5105423,
          -73.952559,
          -74.5332873,
          -73.98204319999998,
          -74.50203520000001,
          -74.0077171,
          -73.9545211,
          -74.00758520000001,
          -74.0119725,
          -74.03473679999998,
          -74.52528000000001,
          -73.9774566,
          -88.0248676,
          -74.167457,
          -73.99222569999998,
          -74.00582399999998,
          -73.99068829999999,
          -74.01077480000001,
          -77.11354890000001,
          -74.0059728,
          -77.09509729999998,
          -73.978729,
          -74.4314952,
          -73.9774566,
          -73.9745822,
          -73.90152459999999,
          -74.0073929,
          -74.67479490000001,
          -73.9763266,
          -74.03473679999998,
          -74.33575429999998,
          -73.9693662,
          -73.9820713,
          -74.3223703,
          -74.00671179999998,
          -73.99068829999999,
          -73.94857619999998,
          -73.9690648,
          -73.9545211,
          -73.9833355,
          -73.98258969999998,
          -73.8901001,
          -74.0059728,
          -74.034429,
          -74.04238470000001,
          -73.97596229999998,
          -74.3688459,
          -73.9489894,
          -74.0073929,
          -73.9848745,
          -74.0097371,
          -73.9866554,
          -73.94857619999998,
          -73.98757409999999,
          -74.76484889999998,
          -73.9964609,
          -73.42888649999998,
          -74.0755073,
          -73.77362509999999,
          -74.00742819999998,
          -73.9895554,
          -74.24903900000002,
          -73.981391,
          -73.94857619999998,
          -73.51308879999998,
          -74.40566120000001,
          -74.86080559999998,
          -73.9894204,
          -74.45393659999998,
          -74.40992609999999,
          -73.98666209999998,
          -73.65729040000001,
          -73.9925066,
          -73.94857619999998,
          -74.0063723,
          -73.60459370000001,
          -73.9637937,
          -73.98870240000001,
          -73.9770422,
          -73.9985166,
          -74.023259,
          -73.96405379999999,
          -74.631463,
          -73.99246,
          -73.99272049999998,
          -74.0339139,
          -73.99222569999998,
          -74.00450579999998,
          -74.3346442,
          -74.0043973,
          -73.87130669999998,
          -89.29486399999998,
          -73.89039140000001,
          -74.3962272,
          -73.6889541,
          -74.631463,
          -74.0059728,
          -73.97933739999998,
          -73.9801683,
          -74.01199,
          -74.0100116,
          -74.34644420000001,
          -74.0059728,
          -74.631463,
          -74.2998128,
          -74.0117809,
          -73.962537,
          -73.95970059999998,
          -73.90152459999999,
          -74.3320131,
          -74.40566120000001,
          -74.57182759999998,
          -73.981391,
          -74.3346442,
          -74.023259,
          -74.023259,
          -73.95730490000001,
          -74.16122840000001,
          -74.832077,
          -73.97598529999998,
          -74.03356120000001,
          -73.97933739999998,
          -73.7415177,
          -74.3783328,
          -73.99068829999999,
          -73.9545211,
          -73.936852,
          -73.99068829999999,
          -74.631463,
          -73.11615079999999,
          -73.99068829999999,
          -73.9864173,
          -73.99068829999999,
          -73.9822441,
          -73.76290970000001,
          -73.96405379999999,
          -74.0339139,
          -74.0567982,
          -73.98413819999998,
          -73.77362509999999,
          -75.0016473,
          -73.78069049999998,
          -73.9891552,
          -73.84509899999998,
          -74.587278,
          -74.0225543,
          -74.63920499999998,
          -73.9934047,
          -73.987898,
          -74.41960870000001,
          -73.4063398,
          -73.98001740000001,
          -73.6902072,
          -74.631463,
          -74.631463,
          -74.66693790000001,
          -121.96311809999999,
          -73.9489894,
          -73.98241949999998,
          -74.0117809,
          -73.97836769999998,
          -74.5252847,
          -73.95970059999998,
          -73.97933739999998,
          -73.9362864,
          -73.98478730000001,
          -73.9867678,
          -74.8089043,
          -74.283017,
          -74.0073929,
          -74.58552399999998,
          -74.3320131,
          -74.57426540000002,
          -74.00582399999998,
          -74.43851149999998,
          -74.0555201,
          -74.07606750000001,
          -73.94857619999998,
          -88.00076750000001,
          -74.5252847,
          -74.49533009999998,
          -74.0555201,
          -74.42185009999999,
          -73.9307972,
          -73.9545211,
          -73.54950699999998,
          -73.9545211,
          -74.10835870000001,
          -73.99193410000002,
          -73.9545211,
          -74.36501240000001,
          -74.0117809,
          -74.41960870000001,
          -77.8856212,
          -74.0449297,
          -77.8856212,
          -73.4539645,
          -77.11354890000001,
          -77.6813798,
          -74.6048125,
          -74.52158229999998,
          -74.23063599999998,
          -73.77362509999999,
          -74.6407407,
          -73.99222569999998,
          -74.6052721,
          -74.15845259999998,
          -73.6950706,
          -73.815704,
          -74.64716440000001,
          -73.77362509999999,
          -74.52158229999998
         ],
         "marker": {
          "size": 9
         },
         "mode": "markers",
         "text": [
          "HEALTHEC",
          "Rocketrip",
          "Conduent",
          "SeatGeek",
          "Swiss Re",
          "Visiting Nurse Service of New York",
          "Taboola",
          "Charles River Associates",
          "Walmart eCommerce",
          "Callisto Media",
          "Montefiore Medical",
          "Walmart eCommerce",
          "Colgate-Palmolive",
          "OceanFirst Financial",
          "National Grid USA",
          "American CyberSystems",
          "Moda Operandi",
          "Shareablee",
          "PayPal",
          "Test Force",
          "Endai",
          "Peloton",
          "eVestment",
          "Kate Spade",
          "HBO",
          "Google",
          "Columbia University",
          "Wyndham Hotels & Resorts",
          "New York University",
          "Addepar",
          "Cynet Systems",
          "CommonBond",
          "Advantage xPO",
          "Itemize",
          "Work Market",
          "Coach, Inc.",
          "Quartz Media Inc",
          "NYU Langone Health",
          "Peloton Cycle",
          "Collaborate Solutions, Inc.",
          "MSG",
          "Zipdrug, Inc",
          "Montefiore Medical",
          "Knotel",
          "Alpha Consulting Corp.",
          "Latham & Watkins",
          "Global Atlantic Financial Group",
          "International Rescue Committee",
          "Bloomberg",
          "Peloton Interactive",
          "Triton Digital",
          "ThreatMetrix",
          "Bazaarvoice",
          "YOOX NET-A-PORTER GROUP",
          "New York District Attorney's Office",
          "CipherHealth",
          "Premier, Inc.",
          "Columbia University",
          "Dow Jones",
          "Squarespace",
          "NYU",
          "IgnitionOne",
          "ApTask",
          "OceanFirst Financial",
          "NYU Langone Health",
          "CASES",
          "ThreatMetrix",
          "HEALTHEC",
          "Blink Health",
          "Affinity Solutions",
          "Conduent",
          "MoneyLion",
          "Moda Operandi",
          "Walmart eCommerce",
          "OceanFirst Financial",
          "RealPage",
          "Addepar",
          "SeatGeek",
          "Fareportal Inc.",
          "NYU Langone Health",
          "Walmart eCommerce",
          "The Shade Store",
          "TechField",
          "Shareablee",
          "Charles River Associates",
          "Spotify",
          "Taboola",
          "NYU Langone Health",
          "Montefiore Medical",
          "Endai",
          "Wyndham Hotels & Resorts",
          "MediaMath",
          "Bloomberg",
          "Google",
          "Bloomberg",
          "CGI Group, Inc.",
          "YOOX NET-A-PORTER GROUP",
          "eVestment",
          "Horizon Blue Cross Blue Shield of New Jersey",
          "Montefiore Medical",
          "New York Times",
          "Columbia University",
          "Spotify",
          "Compass",
          "NYU",
          "MARSH",
          "Net@Work",
          "BARK",
          "eCom Solutions",
          "New York District Attorney's Office",
          "CASES",
          "Work Market",
          "Bazaarvoice",
          "ThreatMetrix",
          "CommonBond",
          "Uber",
          "City of New York",
          "ITN Networks",
          "PlaceIQ",
          "Ventera",
          "EHE",
          "Citadel",
          "Net at Work",
          "Triton Digital",
          "Point72",
          "Columbia University",
          "Quartz Media Inc",
          "Knotel",
          "eTeam Inc.",
          "Compass",
          "Stout Systems Development",
          "Itemize",
          "Bounce Exchange",
          "Cox Media Group",
          "J.P.Morgan",
          "Montefiore Medical",
          "Citadel",
          "CASES",
          "Guy Carpenter",
          "Prudential",
          "NYU",
          "BNY Mellon",
          "IgnitionOne",
          "TECHNOCRAFT Solutions",
          "Columbia University",
          "MediaMath",
          "Procter & Gamble",
          "CompStak",
          "ApTask",
          "Capgemini",
          "Resourcesys",
          "Shutterstock",
          "New York-Presbyterian Hospital",
          "Capco",
          "MealPal",
          "AXION Healthcare Solutions",
          "Global Atlantic Financial Group",
          "Intellipro Group Inc.",
          "Citibank",
          "Two Sigma",
          "Tiffany & Co.",
          "UBS",
          "Compass",
          "ADP",
          "Fragomen Worldwide",
          "ApTask",
          "RMS Computer Corp.",
          "Milliman",
          "WebMD",
          "Peloton Interactive",
          "APN Consulting",
          "TechDigital Corporation",
          "EmblemHealth",
          "Major League Baseball",
          "CipherHealth",
          "S&P Global",
          "Mount Sinai Health System",
          "Diverse Lynx",
          "Millennium Partners",
          "Mount Sinai Health System",
          "Brooklyn Hospital Center",
          "New York Life Insurance Company",
          "American Civil Liberties Union",
          "Mount Sinai Health System",
          "Tachyon Technologies",
          "NYC Criminal Justice Agency",
          "New York-Presbyterian Hospital",
          "UncommonGoods",
          "Crescens Inc.",
          "City of New York",
          "Child Mind Institute",
          "Intervarsity",
          "Real Capital Analytics",
          "United Federation of Teachers",
          "AmTrust Financial Services, Inc.",
          "Refinitiv",
          "YAI - Seeing beyond disability",
          "Capco",
          "Citi",
          "Facebook",
          "Deloitte",
          "BuzzFeed",
          "Simon Property Group",
          "Rockstar Games",
          "Virtu Financial",
          "Columbia University",
          "Marsh & McLennan Companies",
          "RMS Computer Corporation",
          "Dime Community Bank",
          "CBS",
          "Point72",
          "Salesforce",
          "Elite Technical",
          "Gallagher",
          "NTT DATA, Inc.",
          "Compass",
          "FDM Group",
          "Cygnus Professionals",
          "Mount Sinai Health System",
          "Blue Apron",
          "Mount Sinai Health System",
          "XDuce",
          "Virtus Partners",
          "NYC Health + Hospitals",
          "NYU Langone Health",
          "The Children's Place",
          "DVF Studio, LLC",
          "IPRO",
          "Fidelis Group",
          "Lorven Technologies Inc",
          "Colgate-Palmolive",
          "Chubb",
          "IQVIA",
          "Alibaba Group",
          "TechnoSphere, Inc",
          "Itlize Global",
          "IEEE",
          "Noom US",
          "WW International (formerly Weight Watchers)",
          "Legg Mason",
          "Tata Consultancy Services (North America)",
          "Sony Music Entertainment",
          "Brown Brothers Harriman",
          "LOGIXtech Solutions",
          "Square",
          "Talent Inc.",
          "Sphinix Network Solutions Inc.",
          "WW International (formerly Weight Watchers)",
          "Catholic Health Services of Long Island",
          "EmblemHealth",
          "Cantor Fitzgerald",
          "SmartSource Rentals",
          "The Orchard",
          "Regeneron",
          "Mount Sinai Medical Center",
          "Amazon",
          "UBS",
          "Diverse Lynx",
          "Compu-Vision Consulting Inc.",
          "Emblem Health",
          "Diverse Lynx",
          "Discovery Communications, Inc.",
          "TechnoSphere, Inc",
          "ACA Compliance Group",
          "Public Consulting Group",
          "Metroplus Health Plan",
          "New York City Taxi and Limousine Commission",
          "Momentum Resource Solutions",
          "Moxie",
          "Lorven Technologies Inc",
          "BGC Partners",
          "TechProjects",
          "eTeam Inc.",
          "Citadel",
          "Compu-Vision Consulting Inc.",
          "Hospital for Special Surgery",
          "Verizon",
          "M&T Bank",
          "Seven Seven Softwares",
          "Vera Institute of Justice",
          "Mount Sinai Medical Center",
          "SoFi",
          "MediaMath",
          "Citi",
          "Empower Professionals",
          "RELX Group",
          "VIVA USA",
          "Guardian Life",
          "AC Lion (2)",
          "Cross River Bank",
          "Mount Sinai Health System",
          "S&P GLOBAL MARKET INTELLIGENCE",
          "Ideal Innovations",
          "City of New York",
          "Berkeley Point Capital Holdings",
          "Diversified",
          "Asembia",
          "Newmark Knight Frank",
          "Sumitomo Mitsui Banking Corporation (SMBC)",
          "Info. Objects",
          "Softpath System LLC",
          "Pfizer",
          "J.P. Morgan",
          "Citibank",
          "Hackensack Meridian Health",
          "Compass",
          "Dow Jones",
          "EY",
          "Virtus Partners LLC",
          "Mount Sinai Health System",
          "AdvantageCare Physicians",
          "Latham & Watkins",
          "Mount Sinai Medical Center",
          "Genpact",
          "New York City Department of Education .",
          "Montefiore Medical",
          "Healthfirst (New York)",
          "Brown Brothers Harriman",
          "Walmart",
          "Elsevier",
          "The Bank of New York Mellon",
          "Emblem Health",
          "Softpath System LLC",
          "Sphinix Network Solutions Inc.",
          "Harry's",
          "Saratoga Medical Center",
          "AdvantageCare Physicians",
          "Charles River Associates",
          "Chubb",
          "NYU",
          "Catholic Home Care",
          "Centers Plan for Healthy Living",
          "Argus Information & Advisory Services",
          "Spark Foundry",
          "IPG Mediabrands",
          "Fragomen Worldwide",
          "Citi",
          "AdvantageCare Physicians",
          "Boehringer Ingelheim",
          "Diversified",
          "Hunterdon Healthcare",
          "Converseon Inc.",
          "Atlas",
          "eTeam Inc.",
          "APN Consulting",
          "NPD",
          "Capgemini",
          "AdvantageCare Physicians",
          "Live Nation Entertainment",
          "Lockheed Martin",
          "AT&T",
          "Clinique",
          "Risk Solutions",
          "Callisto Media",
          "UBS",
          "Visiting Nurse Service of New York",
          "Diverse Lynx",
          "Freeman",
          "Walt Disney Co.",
          "Sumitomo Mitsui Banking Corporation",
          "AC Lion (2)",
          "Simon Data",
          "Pioneer Data Systems",
          "Village Care",
          "The Estée Lauder Companies Inc.",
          "Oneida Total Integrated Enterprises",
          "St. Barnabas Hospital",
          "Integrated Resources, Inc",
          "Northwell Health",
          "Diverse Lynx",
          "One Call",
          "Deloitte",
          "Aegon USA Investment Management",
          "New York City Taxi and Limousine Commission",
          "Brown Brothers Harriman",
          "RAMPS International Inc",
          "Healthfirst (New York)",
          "Diverse Lynx",
          "Comrise",
          "The Bank of New York Mellon",
          "Pratt Institute",
          "TechProjects",
          "InfoObjects Inc",
          "XDuce",
          "Veterans Sourcing Group",
          "GSK",
          "Citibank",
          "Pioneer Data Systems",
          "UBS",
          "UBS",
          "Media Storm",
          "Horizon Blue Cross Blue Shield of New Jersey",
          "New York Life",
          "LexisNexis Risk Solutions",
          "Lenmar Consulting, Inc.",
          "Deloitte",
          "Transamerica",
          "ADP",
          "Mount Sinai Health System",
          "Mount Sinai Medical Center",
          "Crestron Electronics Inc",
          "Mount Sinai Health System",
          "Diverse Lynx",
          "Stony Brook Clinical Practice Mgmt Plan",
          "Mount Sinai Health System",
          "Georgia IT Inc.",
          "Mount Sinai Health System",
          "Wunderman",
          "22nd Century Technologies",
          "Visiting Nurse Service of New York",
          "Sumitomo Mitsui Banking Corporation (SMBC)",
          "Hackensack University Medical Center",
          "Criteo",
          "Verisk",
          "Universal Technical Resource Services, Inc.",
          "Crossfire Consulting",
          "Moxie",
          "CenterLight Health System",
          "Crescens Inc.",
          "Barnabas Health",
          "Sanofi",
          "AbleTo",
          "Crossix Solutions",
          "Axtria",
          "Newsday LLC",
          "FreemanXP",
          "ProHEALTH Care",
          "Diverse Lynx",
          "Diverse Lynx",
          "Bloomberg",
          "IntelliPro Group Inc.",
          "EmblemHealth",
          "RMS Computer",
          "BNY Mellon",
          "Oracle",
          "Cygnus Professionals",
          "TechProjects",
          "Deloitte",
          "J. Crew",
          "Warner Music Group",
          "J.P. Morgan",
          "The Bank of New York Mellon",
          "Diversified",
          "Softpath System LLC",
          "Lorven Technologies Inc",
          "XDuce",
          "Knowledgent",
          "Cross River Bank",
          "Wyndham Worldwide",
          "Flight Centre Travel Group",
          "Seamen's Society for Children and Families",
          "AdvantageCare Physicians",
          "Encore Event Technologies",
          "Cygnus Professionals",
          "Verizon",
          "Flight Centre Travel Group",
          "Alpha Consulting Corp.",
          "PeopleNTech LLC",
          "Mount Sinai Medical Center",
          "Purolator International",
          "Mount Sinai Medical Center",
          "Sika AG",
          "Center for Court Innovation",
          "Mount Sinai Medical Center",
          "CIT",
          "BNY Mellon",
          "Axtria",
          "Cedent Consulting",
          "Quest Diagnostics",
          "Disney Streaming Services",
          "Remedy BPCI Partners, LLC.",
          "Ideal Innovations, Inc.",
          "Avani Technology Solutions",
          "Quantum Integrators Group",
          "Syneos Health Commercial Solutions",
          "Cognizant Technology Solutions",
          "Argus Information & Advisory Services",
          "Verizon",
          "AC Lion (2)",
          "Agneto Corp",
          "International Flavors & Fragrances",
          "IT America Inc",
          "Blue Book Network Contractors Register",
          "ZS Associates, Inc.",
          "Verisk",
          "Syneos Health"
         ],
         "type": "scattermapbox"
        }
       ],
       "layout": {
        "autosize": true,
        "hovermode": "closest",
        "mapbox": {
         "accesstoken": "pk.eyJ1Ijoiam9obm55aHUiLCJhIjoiY2p4NWY3MnVmMDFjZjN5cG80dmJzNTRvNiJ9.4GAVZSDBmPYqphzDApnS9w",
         "bearing": 0,
         "center": {
          "lat": 40.7484,
          "lon": -73.9857
         },
         "pitch": 0,
         "zoom": 10
        },
        "template": {
         "data": {
          "bar": [
           {
            "error_x": {
             "color": "#2a3f5f"
            },
            "error_y": {
             "color": "#2a3f5f"
            },
            "marker": {
             "line": {
              "color": "#E5ECF6",
              "width": 0.5
             }
            },
            "type": "bar"
           }
          ],
          "barpolar": [
           {
            "marker": {
             "line": {
              "color": "#E5ECF6",
              "width": 0.5
             }
            },
            "type": "barpolar"
           }
          ],
          "carpet": [
           {
            "aaxis": {
             "endlinecolor": "#2a3f5f",
             "gridcolor": "white",
             "linecolor": "white",
             "minorgridcolor": "white",
             "startlinecolor": "#2a3f5f"
            },
            "baxis": {
             "endlinecolor": "#2a3f5f",
             "gridcolor": "white",
             "linecolor": "white",
             "minorgridcolor": "white",
             "startlinecolor": "#2a3f5f"
            },
            "type": "carpet"
           }
          ],
          "choropleth": [
           {
            "colorbar": {
             "outlinewidth": 0,
             "ticks": ""
            },
            "type": "choropleth"
           }
          ],
          "contour": [
           {
            "colorbar": {
             "outlinewidth": 0,
             "ticks": ""
            },
            "colorscale": [
             [
              0,
              "#0d0887"
             ],
             [
              0.1111111111111111,
              "#46039f"
             ],
             [
              0.2222222222222222,
              "#7201a8"
             ],
             [
              0.3333333333333333,
              "#9c179e"
             ],
             [
              0.4444444444444444,
              "#bd3786"
             ],
             [
              0.5555555555555556,
              "#d8576b"
             ],
             [
              0.6666666666666666,
              "#ed7953"
             ],
             [
              0.7777777777777778,
              "#fb9f3a"
             ],
             [
              0.8888888888888888,
              "#fdca26"
             ],
             [
              1,
              "#f0f921"
             ]
            ],
            "type": "contour"
           }
          ],
          "contourcarpet": [
           {
            "colorbar": {
             "outlinewidth": 0,
             "ticks": ""
            },
            "type": "contourcarpet"
           }
          ],
          "heatmap": [
           {
            "colorbar": {
             "outlinewidth": 0,
             "ticks": ""
            },
            "colorscale": [
             [
              0,
              "#0d0887"
             ],
             [
              0.1111111111111111,
              "#46039f"
             ],
             [
              0.2222222222222222,
              "#7201a8"
             ],
             [
              0.3333333333333333,
              "#9c179e"
             ],
             [
              0.4444444444444444,
              "#bd3786"
             ],
             [
              0.5555555555555556,
              "#d8576b"
             ],
             [
              0.6666666666666666,
              "#ed7953"
             ],
             [
              0.7777777777777778,
              "#fb9f3a"
             ],
             [
              0.8888888888888888,
              "#fdca26"
             ],
             [
              1,
              "#f0f921"
             ]
            ],
            "type": "heatmap"
           }
          ],
          "heatmapgl": [
           {
            "colorbar": {
             "outlinewidth": 0,
             "ticks": ""
            },
            "colorscale": [
             [
              0,
              "#0d0887"
             ],
             [
              0.1111111111111111,
              "#46039f"
             ],
             [
              0.2222222222222222,
              "#7201a8"
             ],
             [
              0.3333333333333333,
              "#9c179e"
             ],
             [
              0.4444444444444444,
              "#bd3786"
             ],
             [
              0.5555555555555556,
              "#d8576b"
             ],
             [
              0.6666666666666666,
              "#ed7953"
             ],
             [
              0.7777777777777778,
              "#fb9f3a"
             ],
             [
              0.8888888888888888,
              "#fdca26"
             ],
             [
              1,
              "#f0f921"
             ]
            ],
            "type": "heatmapgl"
           }
          ],
          "histogram": [
           {
            "marker": {
             "colorbar": {
              "outlinewidth": 0,
              "ticks": ""
             }
            },
            "type": "histogram"
           }
          ],
          "histogram2d": [
           {
            "colorbar": {
             "outlinewidth": 0,
             "ticks": ""
            },
            "colorscale": [
             [
              0,
              "#0d0887"
             ],
             [
              0.1111111111111111,
              "#46039f"
             ],
             [
              0.2222222222222222,
              "#7201a8"
             ],
             [
              0.3333333333333333,
              "#9c179e"
             ],
             [
              0.4444444444444444,
              "#bd3786"
             ],
             [
              0.5555555555555556,
              "#d8576b"
             ],
             [
              0.6666666666666666,
              "#ed7953"
             ],
             [
              0.7777777777777778,
              "#fb9f3a"
             ],
             [
              0.8888888888888888,
              "#fdca26"
             ],
             [
              1,
              "#f0f921"
             ]
            ],
            "type": "histogram2d"
           }
          ],
          "histogram2dcontour": [
           {
            "colorbar": {
             "outlinewidth": 0,
             "ticks": ""
            },
            "colorscale": [
             [
              0,
              "#0d0887"
             ],
             [
              0.1111111111111111,
              "#46039f"
             ],
             [
              0.2222222222222222,
              "#7201a8"
             ],
             [
              0.3333333333333333,
              "#9c179e"
             ],
             [
              0.4444444444444444,
              "#bd3786"
             ],
             [
              0.5555555555555556,
              "#d8576b"
             ],
             [
              0.6666666666666666,
              "#ed7953"
             ],
             [
              0.7777777777777778,
              "#fb9f3a"
             ],
             [
              0.8888888888888888,
              "#fdca26"
             ],
             [
              1,
              "#f0f921"
             ]
            ],
            "type": "histogram2dcontour"
           }
          ],
          "mesh3d": [
           {
            "colorbar": {
             "outlinewidth": 0,
             "ticks": ""
            },
            "type": "mesh3d"
           }
          ],
          "parcoords": [
           {
            "line": {
             "colorbar": {
              "outlinewidth": 0,
              "ticks": ""
             }
            },
            "type": "parcoords"
           }
          ],
          "pie": [
           {
            "automargin": true,
            "type": "pie"
           }
          ],
          "scatter": [
           {
            "marker": {
             "colorbar": {
              "outlinewidth": 0,
              "ticks": ""
             }
            },
            "type": "scatter"
           }
          ],
          "scatter3d": [
           {
            "line": {
             "colorbar": {
              "outlinewidth": 0,
              "ticks": ""
             }
            },
            "marker": {
             "colorbar": {
              "outlinewidth": 0,
              "ticks": ""
             }
            },
            "type": "scatter3d"
           }
          ],
          "scattercarpet": [
           {
            "marker": {
             "colorbar": {
              "outlinewidth": 0,
              "ticks": ""
             }
            },
            "type": "scattercarpet"
           }
          ],
          "scattergeo": [
           {
            "marker": {
             "colorbar": {
              "outlinewidth": 0,
              "ticks": ""
             }
            },
            "type": "scattergeo"
           }
          ],
          "scattergl": [
           {
            "marker": {
             "colorbar": {
              "outlinewidth": 0,
              "ticks": ""
             }
            },
            "type": "scattergl"
           }
          ],
          "scattermapbox": [
           {
            "marker": {
             "colorbar": {
              "outlinewidth": 0,
              "ticks": ""
             }
            },
            "type": "scattermapbox"
           }
          ],
          "scatterpolar": [
           {
            "marker": {
             "colorbar": {
              "outlinewidth": 0,
              "ticks": ""
             }
            },
            "type": "scatterpolar"
           }
          ],
          "scatterpolargl": [
           {
            "marker": {
             "colorbar": {
              "outlinewidth": 0,
              "ticks": ""
             }
            },
            "type": "scatterpolargl"
           }
          ],
          "scatterternary": [
           {
            "marker": {
             "colorbar": {
              "outlinewidth": 0,
              "ticks": ""
             }
            },
            "type": "scatterternary"
           }
          ],
          "surface": [
           {
            "colorbar": {
             "outlinewidth": 0,
             "ticks": ""
            },
            "colorscale": [
             [
              0,
              "#0d0887"
             ],
             [
              0.1111111111111111,
              "#46039f"
             ],
             [
              0.2222222222222222,
              "#7201a8"
             ],
             [
              0.3333333333333333,
              "#9c179e"
             ],
             [
              0.4444444444444444,
              "#bd3786"
             ],
             [
              0.5555555555555556,
              "#d8576b"
             ],
             [
              0.6666666666666666,
              "#ed7953"
             ],
             [
              0.7777777777777778,
              "#fb9f3a"
             ],
             [
              0.8888888888888888,
              "#fdca26"
             ],
             [
              1,
              "#f0f921"
             ]
            ],
            "type": "surface"
           }
          ],
          "table": [
           {
            "cells": {
             "fill": {
              "color": "#EBF0F8"
             },
             "line": {
              "color": "white"
             }
            },
            "header": {
             "fill": {
              "color": "#C8D4E3"
             },
             "line": {
              "color": "white"
             }
            },
            "type": "table"
           }
          ]
         },
         "layout": {
          "annotationdefaults": {
           "arrowcolor": "#2a3f5f",
           "arrowhead": 0,
           "arrowwidth": 1
          },
          "coloraxis": {
           "colorbar": {
            "outlinewidth": 0,
            "ticks": ""
           }
          },
          "colorscale": {
           "diverging": [
            [
             0,
             "#8e0152"
            ],
            [
             0.1,
             "#c51b7d"
            ],
            [
             0.2,
             "#de77ae"
            ],
            [
             0.3,
             "#f1b6da"
            ],
            [
             0.4,
             "#fde0ef"
            ],
            [
             0.5,
             "#f7f7f7"
            ],
            [
             0.6,
             "#e6f5d0"
            ],
            [
             0.7,
             "#b8e186"
            ],
            [
             0.8,
             "#7fbc41"
            ],
            [
             0.9,
             "#4d9221"
            ],
            [
             1,
             "#276419"
            ]
           ],
           "sequential": [
            [
             0,
             "#0d0887"
            ],
            [
             0.1111111111111111,
             "#46039f"
            ],
            [
             0.2222222222222222,
             "#7201a8"
            ],
            [
             0.3333333333333333,
             "#9c179e"
            ],
            [
             0.4444444444444444,
             "#bd3786"
            ],
            [
             0.5555555555555556,
             "#d8576b"
            ],
            [
             0.6666666666666666,
             "#ed7953"
            ],
            [
             0.7777777777777778,
             "#fb9f3a"
            ],
            [
             0.8888888888888888,
             "#fdca26"
            ],
            [
             1,
             "#f0f921"
            ]
           ],
           "sequentialminus": [
            [
             0,
             "#0d0887"
            ],
            [
             0.1111111111111111,
             "#46039f"
            ],
            [
             0.2222222222222222,
             "#7201a8"
            ],
            [
             0.3333333333333333,
             "#9c179e"
            ],
            [
             0.4444444444444444,
             "#bd3786"
            ],
            [
             0.5555555555555556,
             "#d8576b"
            ],
            [
             0.6666666666666666,
             "#ed7953"
            ],
            [
             0.7777777777777778,
             "#fb9f3a"
            ],
            [
             0.8888888888888888,
             "#fdca26"
            ],
            [
             1,
             "#f0f921"
            ]
           ]
          },
          "colorway": [
           "#636efa",
           "#EF553B",
           "#00cc96",
           "#ab63fa",
           "#FFA15A",
           "#19d3f3",
           "#FF6692",
           "#B6E880",
           "#FF97FF",
           "#FECB52"
          ],
          "font": {
           "color": "#2a3f5f"
          },
          "geo": {
           "bgcolor": "white",
           "lakecolor": "white",
           "landcolor": "#E5ECF6",
           "showlakes": true,
           "showland": true,
           "subunitcolor": "white"
          },
          "hoverlabel": {
           "align": "left"
          },
          "hovermode": "closest",
          "mapbox": {
           "style": "light"
          },
          "paper_bgcolor": "white",
          "plot_bgcolor": "#E5ECF6",
          "polar": {
           "angularaxis": {
            "gridcolor": "white",
            "linecolor": "white",
            "ticks": ""
           },
           "bgcolor": "#E5ECF6",
           "radialaxis": {
            "gridcolor": "white",
            "linecolor": "white",
            "ticks": ""
           }
          },
          "scene": {
           "xaxis": {
            "backgroundcolor": "#E5ECF6",
            "gridcolor": "white",
            "gridwidth": 2,
            "linecolor": "white",
            "showbackground": true,
            "ticks": "",
            "zerolinecolor": "white"
           },
           "yaxis": {
            "backgroundcolor": "#E5ECF6",
            "gridcolor": "white",
            "gridwidth": 2,
            "linecolor": "white",
            "showbackground": true,
            "ticks": "",
            "zerolinecolor": "white"
           },
           "zaxis": {
            "backgroundcolor": "#E5ECF6",
            "gridcolor": "white",
            "gridwidth": 2,
            "linecolor": "white",
            "showbackground": true,
            "ticks": "",
            "zerolinecolor": "white"
           }
          },
          "shapedefaults": {
           "line": {
            "color": "#2a3f5f"
           }
          },
          "ternary": {
           "aaxis": {
            "gridcolor": "white",
            "linecolor": "white",
            "ticks": ""
           },
           "baxis": {
            "gridcolor": "white",
            "linecolor": "white",
            "ticks": ""
           },
           "bgcolor": "#E5ECF6",
           "caxis": {
            "gridcolor": "white",
            "linecolor": "white",
            "ticks": ""
           }
          },
          "title": {
           "x": 0.05
          },
          "xaxis": {
           "automargin": true,
           "gridcolor": "white",
           "linecolor": "white",
           "ticks": "",
           "title": {
            "standoff": 15
           },
           "zerolinecolor": "white",
           "zerolinewidth": 2
          },
          "yaxis": {
           "automargin": true,
           "gridcolor": "white",
           "linecolor": "white",
           "ticks": "",
           "title": {
            "standoff": 15
           },
           "zerolinecolor": "white",
           "zerolinewidth": 2
          }
         }
        }
       }
      },
      "text/html": [
       "<div>\n",
       "        \n",
       "        \n",
       "            <div id=\"c10b98f3-48fe-4d36-98d0-93de36c3794e\" class=\"plotly-graph-div\" style=\"height:525px; width:100%;\"></div>\n",
       "            <script type=\"text/javascript\">\n",
       "                require([\"plotly\"], function(Plotly) {\n",
       "                    window.PLOTLYENV=window.PLOTLYENV || {};\n",
       "                    \n",
       "                if (document.getElementById(\"c10b98f3-48fe-4d36-98d0-93de36c3794e\")) {\n",
       "                    Plotly.newPlot(\n",
       "                        'c10b98f3-48fe-4d36-98d0-93de36c3794e',\n",
       "                        [{\"lat\": [40.5187154, 40.750351200000004, 40.7526842, 40.7393536, 41.0995246, 40.7697396, 40.7429177, 40.7542074, 40.7386606, 40.741879299999994, 40.8606248, 40.7386606, 40.5206807, 40.351285299999994, 40.765554200000004, 40.582169, 40.726302200000006, 40.70931600000001, 40.731718, 40.713083700000006, 40.7322659, 40.743368200000006, 40.0583238, 40.7396683, 40.7550824, 40.7407628, 40.8075355, 40.8457971, 40.72951339999999, 40.7535794, 40.702890999999994, 40.72278379999999, 40.70679439999999, 40.755211200000005, 40.7534195, 40.7146783, 40.7421282, 40.742458899999995, 40.743368200000006, 40.7127753, 40.7505045, 40.0583238, 40.8606248, 40.764361799999996, 40.4057943, 40.7577835, 40.71028889999999, 40.7545523, 40.7520028, 40.7447547, 40.7593023, 42.87106970000001, 40.7398403, 40.7369664, 40.715667100000005, 40.7512148, 40.705974, 40.8075355, 40.758535200000004, 40.729282899999994, 40.72951339999999, 40.745612200000004, 40.749682, 40.351285299999994, 40.742458899999995, 40.6912321, 42.87106970000001, 40.5187154, 40.7127753, 40.7482184, 40.7526842, 40.7127753, 40.726302200000006, 40.7386606, 40.351285299999994, 40.0583238, 40.7535794, 40.7393536, 40.760927, 40.742458899999995, 40.7386606, 41.003511200000005, 40.0583238, 40.70931600000001, 40.7542074, 40.7103908, 40.7429177, 40.742458899999995, 40.8606248, 40.7322659, 40.8457971, 40.710302500000004, 40.7520028, 40.7407628, 40.7520028, 40.7534783, 40.7369664, 40.0583238, 40.733918100000004, 40.8606248, 40.75608649999999, 40.8075355, 40.7103908, 40.7613806, 40.72951339999999, 40.7568582, 40.755035, 40.71789500000001, 40.716977, 40.715667100000005, 40.6912321, 40.7534195, 40.7398403, 42.87106970000001, 40.72278379999999, 40.7525708, 40.7127753, 40.753412, 40.7539141, 40.7779338, 40.758002399999995, 40.75848679999999, 40.755035, 40.7593023, 40.759643200000006, 40.8075355, 40.7421282, 40.764361799999996, 40.5499583, 40.7613806, 40.7127753, 40.755211200000005, 40.756098, 40.7535171, 40.75561879999999, 40.8606248, 40.75848679999999, 40.6912321, 40.756851700000006, 40.737683000000004, 40.72951339999999, 40.714290999999996, 40.745612200000004, 42.87106970000001, 40.8075355, 40.710302500000004, 40.758469899999994, 40.7283334, 40.749682, 40.73703039999999, 41.7667602, 40.748541100000004, 40.7643316, 40.70428099999999, 40.745171500000005, 40.75391279999999, 40.71028889999999, 37.3771934, 40.778222, 40.7233424, 40.762704600000006, 40.7598542, 40.7613806, 40.743679, 40.75308029999999, 40.749682, 40.7578343, 40.7511649, 40.7291207, 40.7447547, 40.7520016, 44.738807200000004, 40.8096794, 40.7547521, 40.7512148, 40.7033226, 40.7702407, 40.319472999999995, 40.7753909, 40.7702407, 40.690850700000006, 40.7430067, 40.7023357, 40.7702407, 32.892784999999996, 40.7150606, 40.7643316, 40.6446634, 40.577027, 40.7127753, 40.760866, 40.7083946, 40.737673, 40.706483, 40.708771999999996, 40.756392, 40.7499506, 40.70428099999999, 40.778222, 40.730819700000005, 40.758963200000004, 40.737025, 40.7589646, 40.7258201, 40.709808, 40.8075355, 40.7568582, 40.7578343, 40.6938541, 40.769720299999996, 40.759643200000006, 40.75171339999999, 40.7556825, 40.7628721, 42.6807724, 40.7613806, 40.707443, 40.5369486, 40.7702407, 40.708227, 40.7702407, 40.5652256, 40.7052396, 40.7034598, 40.742458899999995, 40.7843807, 40.7414422, 40.755304100000004, 40.8410682, 40.330886, 40.5206807, 40.6459615, 40.714414, 40.7412849, 40.9326253, 40.554302500000006, 40.539983899999996, 40.7480041, 40.74195170000001, 40.756098, 40.7509771, 40.7419689, 40.718787, 40.562236299999995, 40.757974700000005, 40.7342648, 40.7446828, 40.74195170000001, 40.686375, 40.8096794, 40.762448, 40.815951, 40.7278674, 41.076777299999996, 40.789241, 40.753278200000004, 40.76094260000001, 40.319472999999995, 40.457728100000004, 40.8096794, 40.319472999999995, 40.7568975, 40.9326253, 40.7517576, 40.3279729, 40.706594, 40.70533200000001, 40.5227598, 40.7522851, 40.330886, 40.762531, 40.0583238, 40.5499583, 40.75848679999999, 40.457728100000004, 40.7650228, 40.72538970000001, 40.754163399999996, 40.8973157, 40.6570493, 40.789241, 40.741386, 40.710302500000004, 40.72477, 40.536939000000004, 40.75158649999999, 42.060706700000004, 40.365087700000004, 40.752649100000006, 40.8857755, 40.7702407, 40.7076346, 38.8805325, 40.7127753, 38.9867474, 40.7520703, 40.7892622, 40.75158649999999, 40.7553876, 41.7667602, 40.7077599, 40.7304115, 40.75561879999999, 40.72477, 40.5605917, 40.7613806, 40.758535200000004, 40.5753817, 40.7052396, 40.7702407, 40.784423600000004, 40.7577835, 40.789241, 40.756640000000004, 40.732689, 40.8606248, 40.7127753, 40.718787, 40.7930191, 40.7544726, 40.7872961, 40.8096794, 40.7077599, 40.7446828, 40.704676299999996, 40.7474477, 40.784423600000004, 40.7542074, 40.6459615, 40.72951339999999, 40.7263771, 40.6224388, 41.0322162, 40.7285513, 40.749335200000004, 40.431395, 40.778222, 40.784423600000004, 41.37355609999999, 40.0583238, 40.531417299999994, 40.7532504, 40.8515739, 40.5499583, 40.7520016, 40.8093786, 40.73703039999999, 40.784423600000004, 40.742086900000004, 40.72229799999999, 40.764972, 40.7505586, 40.75038970000001, 40.741879299999994, 40.7598542, 40.7697396, 40.319472999999995, 40.721956, 40.7379574, 40.7159419, 40.752649100000006, 40.7069203, 40.5620533, 40.7287165, 40.7343958, 43.14478700000001, 40.8539141, 40.541247399999996, 40.7937397, 40.319472999999995, 40.7127753, 40.758963200000004, 40.7520596, 40.70533200000001, 40.7086001, 40.535014000000004, 40.7127753, 40.319472999999995, 40.5517951, 40.714290999999996, 40.6912807, 40.8144086, 41.7667602, 40.5652256, 40.0583238, 40.6478283, 40.778222, 40.5620533, 40.7598542, 40.7598542, 40.67754910000001, 40.733918100000004, 40.650899700000004, 40.7544703, 40.717470399999996, 40.758963200000004, 40.971340999999995, 40.7952676, 40.7702407, 40.789241, 41.010515999999996, 40.7702407, 40.319472999999995, 40.9101937, 40.7702407, 40.75391279999999, 40.7702407, 40.76688370000001, 41.03398620000001, 40.7697396, 40.7159419, 40.8838399, 40.742901200000006, 41.0322162, 39.923597799999996, 41.275183399999996, 40.7522851, 40.847153000000006, 40.577027, 40.3022444, 40.634939700000004, 40.7544014, 40.75257999999999, 40.660934600000004, 40.7638247, 40.75668579999999, 40.7596213, 40.319472999999995, 40.319472999999995, 40.40558529999999, 37.3771934, 40.8096794, 40.7578343, 40.714290999999996, 40.751740000000005, 40.5369486, 40.8144086, 40.758963200000004, 40.742852, 40.762156299999994, 40.693154, 40.299186, 40.67603, 40.7077599, 40.330886, 40.5652256, 40.64569669999999, 40.8857755, 40.8457971, 41.0532378, 40.640885499999996, 40.784423600000004, 42.1374881, 40.5369486, 40.54493009999999, 41.0532378, 40.4057943, 40.754495500000004, 40.789241, 40.7851095, 40.789241, 40.8056891, 40.753645, 40.789241, 40.7713269, 40.714290999999996, 40.660934600000004, 42.87106970000001, 40.78783370000001, 42.87106970000001, 41.0930242, 38.8805325, 43.178736900000004, 40.299024100000004, 40.5323287, 40.681417100000004, 41.0322162, 40.651292299999994, 40.752649100000006, 40.2995162, 40.43750120000001, 41.0065588, 41.334953000000006, 40.31859779999999, 41.0322162, 40.5323287], \"lon\": [-74.4120953, -73.98179820000001, -73.9759022, -73.98942559999998, -73.7324257, -73.96405379999999, -73.98931850000001, -73.98757409999999, -74.02771709999998, -73.9985166, -73.8901001, -74.02771709999998, -74.483115, -74.0702902, -73.51202789999998, -75.6206821, -74.0080699, -74.00681399999998, -74.00832179999998, -74.0037209, -73.95512780000001, -73.994275, -74.40566120000001, -73.9905555, -73.9836796, -74.00207010000003, -73.96257270000001, -74.43851149999998, -73.9964609, -73.9780925, -74.01397220000001, -73.998671, -74.0128876, -73.98013329999998, -73.99097650000002, -73.9931228, -73.99398640000001, -73.97381750000001, -73.994275, -74.0059728, -73.9934387, -74.40566120000001, -73.8901001, -73.97065190000001, -74.42185009999999, -73.9690648, -74.01229010000002, -73.9908539, -73.978422, -73.99296190000001, -73.99004579999998, -77.8856212, -73.98699330000002, -73.99317549999998, -74.00116379999999, -73.9922255, -74.012615, -73.96257270000001, -73.9820713, -74.00575450000001, -73.9964609, -73.9826301, -73.9867818, -74.0702902, -73.97381750000001, -73.98579900000001, -77.8856212, -74.4120953, -74.0059728, -73.9891809, -73.9759022, -74.0059728, -74.0080699, -74.02771709999998, -74.0702902, -74.40566120000001, -73.9780925, -73.98942559999998, -73.98254519999998, -73.97381750000001, -74.02771709999998, -73.6593695, -74.40566120000001, -74.00681399999998, -73.98757409999999, -74.01198939999998, -73.98931850000001, -73.97381750000001, -73.8901001, -73.95512780000001, -74.43851149999998, -74.0119725, -73.978422, -74.00207010000003, -73.978422, -73.99899599999998, -73.99317549999998, -74.40566120000001, -74.16122840000001, -73.8901001, -73.99011180000001, -73.96257270000001, -74.01198939999998, -73.9693662, -73.9964609, -73.9820448, -73.99180299999998, -73.99928899999998, -73.85763, -74.00116379999999, -73.98579900000001, -73.99097650000002, -73.98699330000002, -77.8856212, -73.998671, -74.0064938, -74.0059728, -73.9720571, -73.9853115, -73.95245200000001, -73.9794008, -73.97019159999998, -73.99180299999998, -73.99004579999998, -73.9745525, -73.96257270000001, -73.99398640000001, -73.97065190000001, -74.40992609999999, -73.9693662, -74.0059728, -73.98013329999998, -73.99018819999998, -73.96997019999998, -73.9763266, -73.8901001, -73.97019159999998, -73.98579900000001, -73.9820388, -74.174441, -73.9964609, -74.0117809, -73.9826301, -77.8856212, -73.96257270000001, -74.0119725, -73.96849, -73.99158940000001, -73.9867818, -73.9925066, -73.90152459999999, -73.98576290000001, -73.95425589999998, -74.00829940000001, -73.9900275, -73.9864173, -74.01229010000002, -121.96311809999999, -73.981391, -74.0043514, -73.9737215, -74.023259, -73.9693662, -73.9911802, -73.98702399999998, -73.9867818, -73.98241949999998, -73.99246540000001, -74.00779440000001, -73.99296190000001, -73.98666209999998, -93.2892273, -73.9489894, -73.97452899999998, -73.9922255, -74.00889620000001, -73.99068829999999, -74.631463, -73.9826056, -73.99068829999999, -73.97799470000001, -73.986261, -74.01051559999998, -73.99068829999999, -96.97955300000001, -74.0058265, -73.95425589999998, -74.0237448, -74.587278, -74.0059728, -73.97081700000001, -74.0128257, -73.992925, -74.01227399999998, -74.00790599999998, -73.986783, -73.9730373, -74.00829940000001, -73.981391, -73.99136659999998, -73.97933739999998, -73.9877829, -73.97171759999998, -73.99604699999998, -74.0107905, -73.96257270000001, -73.9820448, -73.98241949999998, -73.9915176, -73.9907296, -73.9745525, -73.9732568, -73.97884379999998, -73.98383759999999, -73.763693, -73.9693662, -74.010739, -74.5252847, -73.99068829999999, -74.0090809, -73.99068829999999, -74.3320131, -74.00671179999998, -74.0088973, -73.97381750000001, -74.07563959999999, -74.0072969, -73.693596, -74.03282349999998, -74.58552399999998, -74.483115, -74.76484889999998, -74.01676909999998, -74.0076843, -73.99527929999998, -74.47508250000001, -74.47105270000002, -73.9947147, -73.99379270000001, -73.99018819999998, -73.977631, -73.9869672, -74.034429, -74.3343561, -73.9855426, -73.99215699999998, -73.9848745, -73.99379270000001, -73.63067699999998, -73.9489894, -73.9692744, -73.2576179, -73.99269040000001, -73.82638890000001, -73.9545211, -73.99887559999998, -73.98002389999998, -74.631463, -74.5105423, -73.9489894, -74.631463, -73.97038520000001, -73.99527929999998, -73.98716530000002, -74.64672990000001, -74.005651, -74.01199, -74.32791739999998, -73.9891552, -74.58552399999998, -73.969601, -74.40566120000001, -74.40992609999999, -73.97019159999998, -74.5105423, -73.952559, -74.5332873, -73.98204319999998, -74.50203520000001, -74.0077171, -73.9545211, -74.00758520000001, -74.0119725, -74.03473679999998, -74.52528000000001, -73.9774566, -88.0248676, -74.167457, -73.99222569999998, -74.00582399999998, -73.99068829999999, -74.01077480000001, -77.11354890000001, -74.0059728, -77.09509729999998, -73.978729, -74.4314952, -73.9774566, -73.9745822, -73.90152459999999, -74.0073929, -74.67479490000001, -73.9763266, -74.03473679999998, -74.33575429999998, -73.9693662, -73.9820713, -74.3223703, -74.00671179999998, -73.99068829999999, -73.94857619999998, -73.9690648, -73.9545211, -73.9833355, -73.98258969999998, -73.8901001, -74.0059728, -74.034429, -74.04238470000001, -73.97596229999998, -74.3688459, -73.9489894, -74.0073929, -73.9848745, -74.0097371, -73.9866554, -73.94857619999998, -73.98757409999999, -74.76484889999998, -73.9964609, -73.42888649999998, -74.0755073, -73.77362509999999, -74.00742819999998, -73.9895554, -74.24903900000002, -73.981391, -73.94857619999998, -73.51308879999998, -74.40566120000001, -74.86080559999998, -73.9894204, -74.45393659999998, -74.40992609999999, -73.98666209999998, -73.65729040000001, -73.9925066, -73.94857619999998, -74.0063723, -73.60459370000001, -73.9637937, -73.98870240000001, -73.9770422, -73.9985166, -74.023259, -73.96405379999999, -74.631463, -73.99246, -73.99272049999998, -74.0339139, -73.99222569999998, -74.00450579999998, -74.3346442, -74.0043973, -73.87130669999998, -89.29486399999998, -73.89039140000001, -74.3962272, -73.6889541, -74.631463, -74.0059728, -73.97933739999998, -73.9801683, -74.01199, -74.0100116, -74.34644420000001, -74.0059728, -74.631463, -74.2998128, -74.0117809, -73.962537, -73.95970059999998, -73.90152459999999, -74.3320131, -74.40566120000001, -74.57182759999998, -73.981391, -74.3346442, -74.023259, -74.023259, -73.95730490000001, -74.16122840000001, -74.832077, -73.97598529999998, -74.03356120000001, -73.97933739999998, -73.7415177, -74.3783328, -73.99068829999999, -73.9545211, -73.936852, -73.99068829999999, -74.631463, -73.11615079999999, -73.99068829999999, -73.9864173, -73.99068829999999, -73.9822441, -73.76290970000001, -73.96405379999999, -74.0339139, -74.0567982, -73.98413819999998, -73.77362509999999, -75.0016473, -73.78069049999998, -73.9891552, -73.84509899999998, -74.587278, -74.0225543, -74.63920499999998, -73.9934047, -73.987898, -74.41960870000001, -73.4063398, -73.98001740000001, -73.6902072, -74.631463, -74.631463, -74.66693790000001, -121.96311809999999, -73.9489894, -73.98241949999998, -74.0117809, -73.97836769999998, -74.5252847, -73.95970059999998, -73.97933739999998, -73.9362864, -73.98478730000001, -73.9867678, -74.8089043, -74.283017, -74.0073929, -74.58552399999998, -74.3320131, -74.57426540000002, -74.00582399999998, -74.43851149999998, -74.0555201, -74.07606750000001, -73.94857619999998, -88.00076750000001, -74.5252847, -74.49533009999998, -74.0555201, -74.42185009999999, -73.9307972, -73.9545211, -73.54950699999998, -73.9545211, -74.10835870000001, -73.99193410000002, -73.9545211, -74.36501240000001, -74.0117809, -74.41960870000001, -77.8856212, -74.0449297, -77.8856212, -73.4539645, -77.11354890000001, -77.6813798, -74.6048125, -74.52158229999998, -74.23063599999998, -73.77362509999999, -74.6407407, -73.99222569999998, -74.6052721, -74.15845259999998, -73.6950706, -73.815704, -74.64716440000001, -73.77362509999999, -74.52158229999998], \"marker\": {\"size\": 9}, \"mode\": \"markers\", \"text\": [\"HEALTHEC\", \"Rocketrip\", \"Conduent\", \"SeatGeek\", \"Swiss Re\", \"Visiting Nurse Service of New York\", \"Taboola\", \"Charles River Associates\", \"Walmart eCommerce\", \"Callisto Media\", \"Montefiore Medical\", \"Walmart eCommerce\", \"Colgate-Palmolive\", \"OceanFirst Financial\", \"National Grid USA\", \"American CyberSystems\", \"Moda Operandi\", \"Shareablee\", \"PayPal\", \"Test Force\", \"Endai\", \"Peloton\", \"eVestment\", \"Kate Spade\", \"HBO\", \"Google\", \"Columbia University\", \"Wyndham Hotels & Resorts\", \"New York University\", \"Addepar\", \"Cynet Systems\", \"CommonBond\", \"Advantage xPO\", \"Itemize\", \"Work Market\", \"Coach, Inc.\", \"Quartz Media Inc\", \"NYU Langone Health\", \"Peloton Cycle\", \"Collaborate Solutions, Inc.\", \"MSG\", \"Zipdrug, Inc\", \"Montefiore Medical\", \"Knotel\", \"Alpha Consulting Corp.\", \"Latham & Watkins\", \"Global Atlantic Financial Group\", \"International Rescue Committee\", \"Bloomberg\", \"Peloton Interactive\", \"Triton Digital\", \"ThreatMetrix\", \"Bazaarvoice\", \"YOOX NET-A-PORTER GROUP\", \"New York District Attorney's Office\", \"CipherHealth\", \"Premier, Inc.\", \"Columbia University\", \"Dow Jones\", \"Squarespace\", \"NYU\", \"IgnitionOne\", \"ApTask\", \"OceanFirst Financial\", \"NYU Langone Health\", \"CASES\", \"ThreatMetrix\", \"HEALTHEC\", \"Blink Health\", \"Affinity Solutions\", \"Conduent\", \"MoneyLion\", \"Moda Operandi\", \"Walmart eCommerce\", \"OceanFirst Financial\", \"RealPage\", \"Addepar\", \"SeatGeek\", \"Fareportal Inc.\", \"NYU Langone Health\", \"Walmart eCommerce\", \"The Shade Store\", \"TechField\", \"Shareablee\", \"Charles River Associates\", \"Spotify\", \"Taboola\", \"NYU Langone Health\", \"Montefiore Medical\", \"Endai\", \"Wyndham Hotels & Resorts\", \"MediaMath\", \"Bloomberg\", \"Google\", \"Bloomberg\", \"CGI Group, Inc.\", \"YOOX NET-A-PORTER GROUP\", \"eVestment\", \"Horizon Blue Cross Blue Shield of New Jersey\", \"Montefiore Medical\", \"New York Times\", \"Columbia University\", \"Spotify\", \"Compass\", \"NYU\", \"MARSH\", \"Net@Work\", \"BARK\", \"eCom Solutions\", \"New York District Attorney's Office\", \"CASES\", \"Work Market\", \"Bazaarvoice\", \"ThreatMetrix\", \"CommonBond\", \"Uber\", \"City of New York\", \"ITN Networks\", \"PlaceIQ\", \"Ventera\", \"EHE\", \"Citadel\", \"Net at Work\", \"Triton Digital\", \"Point72\", \"Columbia University\", \"Quartz Media Inc\", \"Knotel\", \"eTeam Inc.\", \"Compass\", \"Stout Systems Development\", \"Itemize\", \"Bounce Exchange\", \"Cox Media Group\", \"J.P.Morgan\", \"Montefiore Medical\", \"Citadel\", \"CASES\", \"Guy Carpenter\", \"Prudential\", \"NYU\", \"BNY Mellon\", \"IgnitionOne\", \"TECHNOCRAFT Solutions\", \"Columbia University\", \"MediaMath\", \"Procter & Gamble\", \"CompStak\", \"ApTask\", \"Capgemini\", \"Resourcesys\", \"Shutterstock\", \"New York-Presbyterian Hospital\", \"Capco\", \"MealPal\", \"AXION Healthcare Solutions\", \"Global Atlantic Financial Group\", \"Intellipro Group Inc.\", \"Citibank\", \"Two Sigma\", \"Tiffany & Co.\", \"UBS\", \"Compass\", \"ADP\", \"Fragomen Worldwide\", \"ApTask\", \"RMS Computer Corp.\", \"Milliman\", \"WebMD\", \"Peloton Interactive\", \"APN Consulting\", \"TechDigital Corporation\", \"EmblemHealth\", \"Major League Baseball\", \"CipherHealth\", \"S&P Global\", \"Mount Sinai Health System\", \"Diverse Lynx\", \"Millennium Partners\", \"Mount Sinai Health System\", \"Brooklyn Hospital Center\", \"New York Life Insurance Company\", \"American Civil Liberties Union\", \"Mount Sinai Health System\", \"Tachyon Technologies\", \"NYC Criminal Justice Agency\", \"New York-Presbyterian Hospital\", \"UncommonGoods\", \"Crescens Inc.\", \"City of New York\", \"Child Mind Institute\", \"Intervarsity\", \"Real Capital Analytics\", \"United Federation of Teachers\", \"AmTrust Financial Services, Inc.\", \"Refinitiv\", \"YAI - Seeing beyond disability\", \"Capco\", \"Citi\", \"Facebook\", \"Deloitte\", \"BuzzFeed\", \"Simon Property Group\", \"Rockstar Games\", \"Virtu Financial\", \"Columbia University\", \"Marsh & McLennan Companies\", \"RMS Computer Corporation\", \"Dime Community Bank\", \"CBS\", \"Point72\", \"Salesforce\", \"Elite Technical\", \"Gallagher\", \"NTT DATA, Inc.\", \"Compass\", \"FDM Group\", \"Cygnus Professionals\", \"Mount Sinai Health System\", \"Blue Apron\", \"Mount Sinai Health System\", \"XDuce\", \"Virtus Partners\", \"NYC Health + Hospitals\", \"NYU Langone Health\", \"The Children's Place\", \"DVF Studio, LLC\", \"IPRO\", \"Fidelis Group\", \"Lorven Technologies Inc\", \"Colgate-Palmolive\", \"Chubb\", \"IQVIA\", \"Alibaba Group\", \"TechnoSphere, Inc\", \"Itlize Global\", \"IEEE\", \"Noom US\", \"WW International (formerly Weight Watchers)\", \"Legg Mason\", \"Tata Consultancy Services (North America)\", \"Sony Music Entertainment\", \"Brown Brothers Harriman\", \"LOGIXtech Solutions\", \"Square\", \"Talent Inc.\", \"Sphinix Network Solutions Inc.\", \"WW International (formerly Weight Watchers)\", \"Catholic Health Services of Long Island\", \"EmblemHealth\", \"Cantor Fitzgerald\", \"SmartSource Rentals\", \"The Orchard\", \"Regeneron\", \"Mount Sinai Medical Center\", \"Amazon\", \"UBS\", \"Diverse Lynx\", \"Compu-Vision Consulting Inc.\", \"Emblem Health\", \"Diverse Lynx\", \"Discovery Communications, Inc.\", \"TechnoSphere, Inc\", \"ACA Compliance Group\", \"Public Consulting Group\", \"Metroplus Health Plan\", \"New York City Taxi and Limousine Commission\", \"Momentum Resource Solutions\", \"Moxie\", \"Lorven Technologies Inc\", \"BGC Partners\", \"TechProjects\", \"eTeam Inc.\", \"Citadel\", \"Compu-Vision Consulting Inc.\", \"Hospital for Special Surgery\", \"Verizon\", \"M&T Bank\", \"Seven Seven Softwares\", \"Vera Institute of Justice\", \"Mount Sinai Medical Center\", \"SoFi\", \"MediaMath\", \"Citi\", \"Empower Professionals\", \"RELX Group\", \"VIVA USA\", \"Guardian Life\", \"AC Lion (2)\", \"Cross River Bank\", \"Mount Sinai Health System\", \"S&P GLOBAL MARKET INTELLIGENCE\", \"Ideal Innovations\", \"City of New York\", \"Berkeley Point Capital Holdings\", \"Diversified\", \"Asembia\", \"Newmark Knight Frank\", \"Sumitomo Mitsui Banking Corporation (SMBC)\", \"Info. Objects\", \"Softpath System LLC\", \"Pfizer\", \"J.P. Morgan\", \"Citibank\", \"Hackensack Meridian Health\", \"Compass\", \"Dow Jones\", \"EY\", \"Virtus Partners LLC\", \"Mount Sinai Health System\", \"AdvantageCare Physicians\", \"Latham & Watkins\", \"Mount Sinai Medical Center\", \"Genpact\", \"New York City Department of Education .\", \"Montefiore Medical\", \"Healthfirst (New York)\", \"Brown Brothers Harriman\", \"Walmart\", \"Elsevier\", \"The Bank of New York Mellon\", \"Emblem Health\", \"Softpath System LLC\", \"Sphinix Network Solutions Inc.\", \"Harry's\", \"Saratoga Medical Center\", \"AdvantageCare Physicians\", \"Charles River Associates\", \"Chubb\", \"NYU\", \"Catholic Home Care\", \"Centers Plan for Healthy Living\", \"Argus Information & Advisory Services\", \"Spark Foundry\", \"IPG Mediabrands\", \"Fragomen Worldwide\", \"Citi\", \"AdvantageCare Physicians\", \"Boehringer Ingelheim\", \"Diversified\", \"Hunterdon Healthcare\", \"Converseon Inc.\", \"Atlas\", \"eTeam Inc.\", \"APN Consulting\", \"NPD\", \"Capgemini\", \"AdvantageCare Physicians\", \"Live Nation Entertainment\", \"Lockheed Martin\", \"AT&T\", \"Clinique\", \"Risk Solutions\", \"Callisto Media\", \"UBS\", \"Visiting Nurse Service of New York\", \"Diverse Lynx\", \"Freeman\", \"Walt Disney Co.\", \"Sumitomo Mitsui Banking Corporation\", \"AC Lion (2)\", \"Simon Data\", \"Pioneer Data Systems\", \"Village Care\", \"The Est\\u00e9e Lauder Companies Inc.\", \"Oneida Total Integrated Enterprises\", \"St. Barnabas Hospital\", \"Integrated Resources, Inc\", \"Northwell Health\", \"Diverse Lynx\", \"One Call\", \"Deloitte\", \"Aegon USA Investment Management\", \"New York City Taxi and Limousine Commission\", \"Brown Brothers Harriman\", \"RAMPS International Inc\", \"Healthfirst (New York)\", \"Diverse Lynx\", \"Comrise\", \"The Bank of New York Mellon\", \"Pratt Institute\", \"TechProjects\", \"InfoObjects Inc\", \"XDuce\", \"Veterans Sourcing Group\", \"GSK\", \"Citibank\", \"Pioneer Data Systems\", \"UBS\", \"UBS\", \"Media Storm\", \"Horizon Blue Cross Blue Shield of New Jersey\", \"New York Life\", \"LexisNexis Risk Solutions\", \"Lenmar Consulting, Inc.\", \"Deloitte\", \"Transamerica\", \"ADP\", \"Mount Sinai Health System\", \"Mount Sinai Medical Center\", \"Crestron Electronics Inc\", \"Mount Sinai Health System\", \"Diverse Lynx\", \"Stony Brook Clinical Practice Mgmt Plan\", \"Mount Sinai Health System\", \"Georgia IT Inc.\", \"Mount Sinai Health System\", \"Wunderman\", \"22nd Century Technologies\", \"Visiting Nurse Service of New York\", \"Sumitomo Mitsui Banking Corporation (SMBC)\", \"Hackensack University Medical Center\", \"Criteo\", \"Verisk\", \"Universal Technical Resource Services, Inc.\", \"Crossfire Consulting\", \"Moxie\", \"CenterLight Health System\", \"Crescens Inc.\", \"Barnabas Health\", \"Sanofi\", \"AbleTo\", \"Crossix Solutions\", \"Axtria\", \"Newsday LLC\", \"FreemanXP\", \"ProHEALTH Care\", \"Diverse Lynx\", \"Diverse Lynx\", \"Bloomberg\", \"IntelliPro Group Inc.\", \"EmblemHealth\", \"RMS Computer\", \"BNY Mellon\", \"Oracle\", \"Cygnus Professionals\", \"TechProjects\", \"Deloitte\", \"J. Crew\", \"Warner Music Group\", \"J.P. Morgan\", \"The Bank of New York Mellon\", \"Diversified\", \"Softpath System LLC\", \"Lorven Technologies Inc\", \"XDuce\", \"Knowledgent\", \"Cross River Bank\", \"Wyndham Worldwide\", \"Flight Centre Travel Group\", \"Seamen's Society for Children and Families\", \"AdvantageCare Physicians\", \"Encore Event Technologies\", \"Cygnus Professionals\", \"Verizon\", \"Flight Centre Travel Group\", \"Alpha Consulting Corp.\", \"PeopleNTech LLC\", \"Mount Sinai Medical Center\", \"Purolator International\", \"Mount Sinai Medical Center\", \"Sika AG\", \"Center for Court Innovation\", \"Mount Sinai Medical Center\", \"CIT\", \"BNY Mellon\", \"Axtria\", \"Cedent Consulting\", \"Quest Diagnostics\", \"Disney Streaming Services\", \"Remedy BPCI Partners, LLC.\", \"Ideal Innovations, Inc.\", \"Avani Technology Solutions\", \"Quantum Integrators Group\", \"Syneos Health Commercial Solutions\", \"Cognizant Technology Solutions\", \"Argus Information & Advisory Services\", \"Verizon\", \"AC Lion (2)\", \"Agneto Corp\", \"International Flavors & Fragrances\", \"IT America Inc\", \"Blue Book Network Contractors Register\", \"ZS Associates, Inc.\", \"Verisk\", \"Syneos Health\"], \"type\": \"scattermapbox\"}],\n",
       "                        {\"autosize\": true, \"hovermode\": \"closest\", \"mapbox\": {\"accesstoken\": \"pk.eyJ1Ijoiam9obm55aHUiLCJhIjoiY2p4NWY3MnVmMDFjZjN5cG80dmJzNTRvNiJ9.4GAVZSDBmPYqphzDApnS9w\", \"bearing\": 0, \"center\": {\"lat\": 40.7484, \"lon\": -73.9857}, \"pitch\": 0, \"zoom\": 10}, \"template\": {\"data\": {\"bar\": [{\"error_x\": {\"color\": \"#2a3f5f\"}, \"error_y\": {\"color\": \"#2a3f5f\"}, \"marker\": {\"line\": {\"color\": \"#E5ECF6\", \"width\": 0.5}}, \"type\": \"bar\"}], \"barpolar\": [{\"marker\": {\"line\": {\"color\": \"#E5ECF6\", \"width\": 0.5}}, \"type\": \"barpolar\"}], \"carpet\": [{\"aaxis\": {\"endlinecolor\": \"#2a3f5f\", \"gridcolor\": \"white\", \"linecolor\": \"white\", \"minorgridcolor\": \"white\", \"startlinecolor\": \"#2a3f5f\"}, \"baxis\": {\"endlinecolor\": \"#2a3f5f\", \"gridcolor\": \"white\", \"linecolor\": \"white\", \"minorgridcolor\": \"white\", \"startlinecolor\": \"#2a3f5f\"}, \"type\": \"carpet\"}], \"choropleth\": [{\"colorbar\": {\"outlinewidth\": 0, \"ticks\": \"\"}, \"type\": \"choropleth\"}], \"contour\": [{\"colorbar\": {\"outlinewidth\": 0, \"ticks\": \"\"}, \"colorscale\": [[0.0, \"#0d0887\"], [0.1111111111111111, \"#46039f\"], [0.2222222222222222, \"#7201a8\"], [0.3333333333333333, \"#9c179e\"], [0.4444444444444444, \"#bd3786\"], [0.5555555555555556, \"#d8576b\"], [0.6666666666666666, \"#ed7953\"], [0.7777777777777778, \"#fb9f3a\"], [0.8888888888888888, \"#fdca26\"], [1.0, \"#f0f921\"]], \"type\": \"contour\"}], \"contourcarpet\": [{\"colorbar\": {\"outlinewidth\": 0, \"ticks\": \"\"}, \"type\": \"contourcarpet\"}], \"heatmap\": [{\"colorbar\": {\"outlinewidth\": 0, \"ticks\": \"\"}, \"colorscale\": [[0.0, \"#0d0887\"], [0.1111111111111111, \"#46039f\"], [0.2222222222222222, \"#7201a8\"], [0.3333333333333333, \"#9c179e\"], [0.4444444444444444, \"#bd3786\"], [0.5555555555555556, \"#d8576b\"], [0.6666666666666666, \"#ed7953\"], [0.7777777777777778, \"#fb9f3a\"], [0.8888888888888888, \"#fdca26\"], [1.0, \"#f0f921\"]], \"type\": \"heatmap\"}], \"heatmapgl\": [{\"colorbar\": {\"outlinewidth\": 0, \"ticks\": \"\"}, \"colorscale\": [[0.0, \"#0d0887\"], [0.1111111111111111, \"#46039f\"], [0.2222222222222222, \"#7201a8\"], [0.3333333333333333, \"#9c179e\"], [0.4444444444444444, \"#bd3786\"], [0.5555555555555556, \"#d8576b\"], [0.6666666666666666, \"#ed7953\"], [0.7777777777777778, \"#fb9f3a\"], [0.8888888888888888, \"#fdca26\"], [1.0, \"#f0f921\"]], \"type\": \"heatmapgl\"}], \"histogram\": [{\"marker\": {\"colorbar\": {\"outlinewidth\": 0, \"ticks\": \"\"}}, \"type\": \"histogram\"}], \"histogram2d\": [{\"colorbar\": {\"outlinewidth\": 0, \"ticks\": \"\"}, \"colorscale\": [[0.0, \"#0d0887\"], [0.1111111111111111, \"#46039f\"], [0.2222222222222222, \"#7201a8\"], [0.3333333333333333, \"#9c179e\"], [0.4444444444444444, \"#bd3786\"], [0.5555555555555556, \"#d8576b\"], [0.6666666666666666, \"#ed7953\"], [0.7777777777777778, \"#fb9f3a\"], [0.8888888888888888, \"#fdca26\"], [1.0, \"#f0f921\"]], \"type\": \"histogram2d\"}], \"histogram2dcontour\": [{\"colorbar\": {\"outlinewidth\": 0, \"ticks\": \"\"}, \"colorscale\": [[0.0, \"#0d0887\"], [0.1111111111111111, \"#46039f\"], [0.2222222222222222, \"#7201a8\"], [0.3333333333333333, \"#9c179e\"], [0.4444444444444444, \"#bd3786\"], [0.5555555555555556, \"#d8576b\"], [0.6666666666666666, \"#ed7953\"], [0.7777777777777778, \"#fb9f3a\"], [0.8888888888888888, \"#fdca26\"], [1.0, \"#f0f921\"]], \"type\": \"histogram2dcontour\"}], \"mesh3d\": [{\"colorbar\": {\"outlinewidth\": 0, \"ticks\": \"\"}, \"type\": \"mesh3d\"}], \"parcoords\": [{\"line\": {\"colorbar\": {\"outlinewidth\": 0, \"ticks\": \"\"}}, \"type\": \"parcoords\"}], \"pie\": [{\"automargin\": true, \"type\": \"pie\"}], \"scatter\": [{\"marker\": {\"colorbar\": {\"outlinewidth\": 0, \"ticks\": \"\"}}, \"type\": \"scatter\"}], \"scatter3d\": [{\"line\": {\"colorbar\": {\"outlinewidth\": 0, \"ticks\": \"\"}}, \"marker\": {\"colorbar\": {\"outlinewidth\": 0, \"ticks\": \"\"}}, \"type\": \"scatter3d\"}], \"scattercarpet\": [{\"marker\": {\"colorbar\": {\"outlinewidth\": 0, \"ticks\": \"\"}}, \"type\": \"scattercarpet\"}], \"scattergeo\": [{\"marker\": {\"colorbar\": {\"outlinewidth\": 0, \"ticks\": \"\"}}, \"type\": \"scattergeo\"}], \"scattergl\": [{\"marker\": {\"colorbar\": {\"outlinewidth\": 0, \"ticks\": \"\"}}, \"type\": \"scattergl\"}], \"scattermapbox\": [{\"marker\": {\"colorbar\": {\"outlinewidth\": 0, \"ticks\": \"\"}}, \"type\": \"scattermapbox\"}], \"scatterpolar\": [{\"marker\": {\"colorbar\": {\"outlinewidth\": 0, \"ticks\": \"\"}}, \"type\": \"scatterpolar\"}], \"scatterpolargl\": [{\"marker\": {\"colorbar\": {\"outlinewidth\": 0, \"ticks\": \"\"}}, \"type\": \"scatterpolargl\"}], \"scatterternary\": [{\"marker\": {\"colorbar\": {\"outlinewidth\": 0, \"ticks\": \"\"}}, \"type\": \"scatterternary\"}], \"surface\": [{\"colorbar\": {\"outlinewidth\": 0, \"ticks\": \"\"}, \"colorscale\": [[0.0, \"#0d0887\"], [0.1111111111111111, \"#46039f\"], [0.2222222222222222, \"#7201a8\"], [0.3333333333333333, \"#9c179e\"], [0.4444444444444444, \"#bd3786\"], [0.5555555555555556, \"#d8576b\"], [0.6666666666666666, \"#ed7953\"], [0.7777777777777778, \"#fb9f3a\"], [0.8888888888888888, \"#fdca26\"], [1.0, \"#f0f921\"]], \"type\": \"surface\"}], \"table\": [{\"cells\": {\"fill\": {\"color\": \"#EBF0F8\"}, \"line\": {\"color\": \"white\"}}, \"header\": {\"fill\": {\"color\": \"#C8D4E3\"}, \"line\": {\"color\": \"white\"}}, \"type\": \"table\"}]}, \"layout\": {\"annotationdefaults\": {\"arrowcolor\": \"#2a3f5f\", \"arrowhead\": 0, \"arrowwidth\": 1}, \"coloraxis\": {\"colorbar\": {\"outlinewidth\": 0, \"ticks\": \"\"}}, \"colorscale\": {\"diverging\": [[0, \"#8e0152\"], [0.1, \"#c51b7d\"], [0.2, \"#de77ae\"], [0.3, \"#f1b6da\"], [0.4, \"#fde0ef\"], [0.5, \"#f7f7f7\"], [0.6, \"#e6f5d0\"], [0.7, \"#b8e186\"], [0.8, \"#7fbc41\"], [0.9, \"#4d9221\"], [1, \"#276419\"]], \"sequential\": [[0.0, \"#0d0887\"], [0.1111111111111111, \"#46039f\"], [0.2222222222222222, \"#7201a8\"], [0.3333333333333333, \"#9c179e\"], [0.4444444444444444, \"#bd3786\"], [0.5555555555555556, \"#d8576b\"], [0.6666666666666666, \"#ed7953\"], [0.7777777777777778, \"#fb9f3a\"], [0.8888888888888888, \"#fdca26\"], [1.0, \"#f0f921\"]], \"sequentialminus\": [[0.0, \"#0d0887\"], [0.1111111111111111, \"#46039f\"], [0.2222222222222222, \"#7201a8\"], [0.3333333333333333, \"#9c179e\"], [0.4444444444444444, \"#bd3786\"], [0.5555555555555556, \"#d8576b\"], [0.6666666666666666, \"#ed7953\"], [0.7777777777777778, \"#fb9f3a\"], [0.8888888888888888, \"#fdca26\"], [1.0, \"#f0f921\"]]}, \"colorway\": [\"#636efa\", \"#EF553B\", \"#00cc96\", \"#ab63fa\", \"#FFA15A\", \"#19d3f3\", \"#FF6692\", \"#B6E880\", \"#FF97FF\", \"#FECB52\"], \"font\": {\"color\": \"#2a3f5f\"}, \"geo\": {\"bgcolor\": \"white\", \"lakecolor\": \"white\", \"landcolor\": \"#E5ECF6\", \"showlakes\": true, \"showland\": true, \"subunitcolor\": \"white\"}, \"hoverlabel\": {\"align\": \"left\"}, \"hovermode\": \"closest\", \"mapbox\": {\"style\": \"light\"}, \"paper_bgcolor\": \"white\", \"plot_bgcolor\": \"#E5ECF6\", \"polar\": {\"angularaxis\": {\"gridcolor\": \"white\", \"linecolor\": \"white\", \"ticks\": \"\"}, \"bgcolor\": \"#E5ECF6\", \"radialaxis\": {\"gridcolor\": \"white\", \"linecolor\": \"white\", \"ticks\": \"\"}}, \"scene\": {\"xaxis\": {\"backgroundcolor\": \"#E5ECF6\", \"gridcolor\": \"white\", \"gridwidth\": 2, \"linecolor\": \"white\", \"showbackground\": true, \"ticks\": \"\", \"zerolinecolor\": \"white\"}, \"yaxis\": {\"backgroundcolor\": \"#E5ECF6\", \"gridcolor\": \"white\", \"gridwidth\": 2, \"linecolor\": \"white\", \"showbackground\": true, \"ticks\": \"\", \"zerolinecolor\": \"white\"}, \"zaxis\": {\"backgroundcolor\": \"#E5ECF6\", \"gridcolor\": \"white\", \"gridwidth\": 2, \"linecolor\": \"white\", \"showbackground\": true, \"ticks\": \"\", \"zerolinecolor\": \"white\"}}, \"shapedefaults\": {\"line\": {\"color\": \"#2a3f5f\"}}, \"ternary\": {\"aaxis\": {\"gridcolor\": \"white\", \"linecolor\": \"white\", \"ticks\": \"\"}, \"baxis\": {\"gridcolor\": \"white\", \"linecolor\": \"white\", \"ticks\": \"\"}, \"bgcolor\": \"#E5ECF6\", \"caxis\": {\"gridcolor\": \"white\", \"linecolor\": \"white\", \"ticks\": \"\"}}, \"title\": {\"x\": 0.05}, \"xaxis\": {\"automargin\": true, \"gridcolor\": \"white\", \"linecolor\": \"white\", \"ticks\": \"\", \"title\": {\"standoff\": 15}, \"zerolinecolor\": \"white\", \"zerolinewidth\": 2}, \"yaxis\": {\"automargin\": true, \"gridcolor\": \"white\", \"linecolor\": \"white\", \"ticks\": \"\", \"title\": {\"standoff\": 15}, \"zerolinecolor\": \"white\", \"zerolinewidth\": 2}}}},\n",
       "                        {\"responsive\": true}\n",
       "                    ).then(function(){\n",
       "                            \n",
       "var gd = document.getElementById('c10b98f3-48fe-4d36-98d0-93de36c3794e');\n",
       "var x = new MutationObserver(function (mutations, observer) {{\n",
       "        var display = window.getComputedStyle(gd).display;\n",
       "        if (!display || display === 'none') {{\n",
       "            console.log([gd, 'removed!']);\n",
       "            Plotly.purge(gd);\n",
       "            observer.disconnect();\n",
       "        }}\n",
       "}});\n",
       "\n",
       "// Listen for the removal of the full notebook cells\n",
       "var notebookContainer = gd.closest('#notebook-container');\n",
       "if (notebookContainer) {{\n",
       "    x.observe(notebookContainer, {childList: true});\n",
       "}}\n",
       "\n",
       "// Listen for the clearing of the current output cell\n",
       "var outputEl = gd.closest('.output');\n",
       "if (outputEl) {{\n",
       "    x.observe(outputEl, {childList: true});\n",
       "}}\n",
       "\n",
       "                        })\n",
       "                };\n",
       "                });\n",
       "            </script>\n",
       "        </div>"
      ]
     },
     "metadata": {},
     "output_type": "display_data"
    },
    {
     "data": {
      "text/plain": [
       "'filename.html'"
      ]
     },
     "execution_count": 76,
     "metadata": {},
     "output_type": "execute_result"
    }
   ],
   "source": [
    "import plotly.graph_objects as go\n",
    "from plotly.offline import download_plotlyjs, init_notebook_mode, plot, iplot\n",
    "\n",
    "mapbox_access_token = mapbox_token\n",
    "\n",
    "fig = go.Figure(go.Scattermapbox(\n",
    "        lat=df['lat'],\n",
    "        lon=df['lng'],\n",
    "        mode='markers',\n",
    "        marker=go.scattermapbox.Marker(\n",
    "            size=9\n",
    "        ),\n",
    "        text=df['company'],\n",
    "    ))\n",
    "\n",
    "fig.update_layout(\n",
    "    autosize=True,\n",
    "    hovermode='closest',\n",
    "    mapbox=go.layout.Mapbox(\n",
    "        accesstoken=mapbox_access_token,\n",
    "        bearing=0,\n",
    "        center=go.layout.mapbox.Center(\n",
    "            lat=40.7484,\n",
    "            lon=-73.9857\n",
    "        ),\n",
    "        pitch=0,\n",
    "        zoom=10\n",
    "    ),\n",
    ")\n",
    "\n",
    "fig.show()\n",
    "plot(fig, filename = 'filename.html', auto_open=False)"
   ]
  },
  {
   "cell_type": "code",
   "execution_count": null,
   "metadata": {},
   "outputs": [],
   "source": []
  }
 ],
 "metadata": {
  "kernelspec": {
   "display_name": "Python 3",
   "language": "python",
   "name": "python3"
  },
  "language_info": {
   "codemirror_mode": {
    "name": "ipython",
    "version": 3
   },
   "file_extension": ".py",
   "mimetype": "text/x-python",
   "name": "python",
   "nbconvert_exporter": "python",
   "pygments_lexer": "ipython3",
   "version": "3.7.5"
  },
  "toc": {
   "base_numbering": 1,
   "nav_menu": {},
   "number_sections": true,
   "sideBar": true,
   "skip_h1_title": false,
   "title_cell": "Table of Contents",
   "title_sidebar": "Contents",
   "toc_cell": false,
   "toc_position": {},
   "toc_section_display": true,
   "toc_window_display": false
  }
 },
 "nbformat": 4,
 "nbformat_minor": 2
}
